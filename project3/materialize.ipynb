{
 "cells": [
  {
   "cell_type": "markdown",
   "metadata": {},
   "source": [
    "# Cars: Ex post code\n",
    "\n",
    "This code does two things: it reads in and combines datasets and it does some initial calculations using that data. "
   ]
  },
  {
   "cell_type": "code",
   "execution_count": 1,
   "metadata": {},
   "outputs": [],
   "source": [
    "import pandas as pd \n",
    "import numpy as np \n",
    "\n",
    "# graphs \n",
    "import matplotlib.pyplot as plt \n",
    "import seaborn as sns\n",
    "sns.set_theme()"
   ]
  },
  {
   "cell_type": "code",
   "execution_count": 2,
   "metadata": {},
   "outputs": [
    {
     "ename": "FileNotFoundError",
     "evalue": "[Errno 2] No such file or directory: 'input/cars.dta'",
     "output_type": "error",
     "traceback": [
      "\u001b[1;31m---------------------------------------------------------------------------\u001b[0m",
      "\u001b[1;31mFileNotFoundError\u001b[0m                         Traceback (most recent call last)",
      "\u001b[1;32m~\\AppData\\Local\\Temp\\ipykernel_9776\\2867871629.py\u001b[0m in \u001b[0;36m<cell line: 2>\u001b[1;34m()\u001b[0m\n\u001b[0;32m      1\u001b[0m \u001b[1;31m# read in labels (encoded in the Stata file)\u001b[0m\u001b[1;33m\u001b[0m\u001b[1;33m\u001b[0m\u001b[0m\n\u001b[1;32m----> 2\u001b[1;33m \u001b[0mlbl_vars\u001b[0m \u001b[1;33m=\u001b[0m \u001b[0mpd\u001b[0m\u001b[1;33m.\u001b[0m\u001b[0mread_stata\u001b[0m\u001b[1;33m(\u001b[0m\u001b[1;34m'input/cars.dta'\u001b[0m\u001b[1;33m,\u001b[0m \u001b[0miterator\u001b[0m\u001b[1;33m=\u001b[0m\u001b[1;32mTrue\u001b[0m\u001b[1;33m)\u001b[0m\u001b[1;33m.\u001b[0m\u001b[0mvariable_labels\u001b[0m\u001b[1;33m(\u001b[0m\u001b[1;33m)\u001b[0m\u001b[1;33m\u001b[0m\u001b[1;33m\u001b[0m\u001b[0m\n\u001b[0m\u001b[0;32m      3\u001b[0m \u001b[0mlbl_vals\u001b[0m \u001b[1;33m=\u001b[0m \u001b[0mpd\u001b[0m\u001b[1;33m.\u001b[0m\u001b[0mread_stata\u001b[0m\u001b[1;33m(\u001b[0m\u001b[1;34m'input/cars.dta'\u001b[0m\u001b[1;33m,\u001b[0m \u001b[0miterator\u001b[0m\u001b[1;33m=\u001b[0m\u001b[1;32mTrue\u001b[0m\u001b[1;33m)\u001b[0m\u001b[1;33m.\u001b[0m\u001b[0mvalue_labels\u001b[0m\u001b[1;33m(\u001b[0m\u001b[1;33m)\u001b[0m \u001b[1;31m# the values that variables take (not relevant for all )\u001b[0m\u001b[1;33m\u001b[0m\u001b[1;33m\u001b[0m\u001b[0m\n\u001b[0;32m      4\u001b[0m \u001b[1;33m\u001b[0m\u001b[0m\n\u001b[0;32m      5\u001b[0m \u001b[1;31m# add two new variable labels\u001b[0m\u001b[1;33m\u001b[0m\u001b[1;33m\u001b[0m\u001b[0m\n",
      "\u001b[1;32mc:\\Users\\JBH\\anaconda3\\lib\\site-packages\\pandas\\util\\_decorators.py\u001b[0m in \u001b[0;36mwrapper\u001b[1;34m(*args, **kwargs)\u001b[0m\n\u001b[0;32m    329\u001b[0m                     \u001b[0mstacklevel\u001b[0m\u001b[1;33m=\u001b[0m\u001b[0mfind_stack_level\u001b[0m\u001b[1;33m(\u001b[0m\u001b[1;33m)\u001b[0m\u001b[1;33m,\u001b[0m\u001b[1;33m\u001b[0m\u001b[1;33m\u001b[0m\u001b[0m\n\u001b[0;32m    330\u001b[0m                 )\n\u001b[1;32m--> 331\u001b[1;33m             \u001b[1;32mreturn\u001b[0m \u001b[0mfunc\u001b[0m\u001b[1;33m(\u001b[0m\u001b[1;33m*\u001b[0m\u001b[0margs\u001b[0m\u001b[1;33m,\u001b[0m \u001b[1;33m**\u001b[0m\u001b[0mkwargs\u001b[0m\u001b[1;33m)\u001b[0m\u001b[1;33m\u001b[0m\u001b[1;33m\u001b[0m\u001b[0m\n\u001b[0m\u001b[0;32m    332\u001b[0m \u001b[1;33m\u001b[0m\u001b[0m\n\u001b[0;32m    333\u001b[0m         \u001b[1;31m# error: \"Callable[[VarArg(Any), KwArg(Any)], Any]\" has no\u001b[0m\u001b[1;33m\u001b[0m\u001b[1;33m\u001b[0m\u001b[0m\n",
      "\u001b[1;32mc:\\Users\\JBH\\anaconda3\\lib\\site-packages\\pandas\\io\\stata.py\u001b[0m in \u001b[0;36mread_stata\u001b[1;34m(filepath_or_buffer, convert_dates, convert_categoricals, index_col, convert_missing, preserve_dtypes, columns, order_categoricals, chunksize, iterator, compression, storage_options)\u001b[0m\n\u001b[0;32m   2018\u001b[0m ) -> DataFrame | StataReader:\n\u001b[0;32m   2019\u001b[0m \u001b[1;33m\u001b[0m\u001b[0m\n\u001b[1;32m-> 2020\u001b[1;33m     reader = StataReader(\n\u001b[0m\u001b[0;32m   2021\u001b[0m         \u001b[0mfilepath_or_buffer\u001b[0m\u001b[1;33m,\u001b[0m\u001b[1;33m\u001b[0m\u001b[1;33m\u001b[0m\u001b[0m\n\u001b[0;32m   2022\u001b[0m         \u001b[0mconvert_dates\u001b[0m\u001b[1;33m=\u001b[0m\u001b[0mconvert_dates\u001b[0m\u001b[1;33m,\u001b[0m\u001b[1;33m\u001b[0m\u001b[1;33m\u001b[0m\u001b[0m\n",
      "\u001b[1;32mc:\\Users\\JBH\\anaconda3\\lib\\site-packages\\pandas\\io\\stata.py\u001b[0m in \u001b[0;36m__init__\u001b[1;34m(self, path_or_buf, convert_dates, convert_categoricals, index_col, convert_missing, preserve_dtypes, columns, order_categoricals, chunksize, compression, storage_options)\u001b[0m\n\u001b[0;32m   1161\u001b[0m \u001b[1;33m\u001b[0m\u001b[0m\n\u001b[0;32m   1162\u001b[0m         \u001b[0mself\u001b[0m\u001b[1;33m.\u001b[0m\u001b[0m_native_byteorder\u001b[0m \u001b[1;33m=\u001b[0m \u001b[0m_set_endianness\u001b[0m\u001b[1;33m(\u001b[0m\u001b[0msys\u001b[0m\u001b[1;33m.\u001b[0m\u001b[0mbyteorder\u001b[0m\u001b[1;33m)\u001b[0m\u001b[1;33m\u001b[0m\u001b[1;33m\u001b[0m\u001b[0m\n\u001b[1;32m-> 1163\u001b[1;33m         with get_handle(\n\u001b[0m\u001b[0;32m   1164\u001b[0m             \u001b[0mpath_or_buf\u001b[0m\u001b[1;33m,\u001b[0m\u001b[1;33m\u001b[0m\u001b[1;33m\u001b[0m\u001b[0m\n\u001b[0;32m   1165\u001b[0m             \u001b[1;34m\"rb\"\u001b[0m\u001b[1;33m,\u001b[0m\u001b[1;33m\u001b[0m\u001b[1;33m\u001b[0m\u001b[0m\n",
      "\u001b[1;32mc:\\Users\\JBH\\anaconda3\\lib\\site-packages\\pandas\\io\\common.py\u001b[0m in \u001b[0;36mget_handle\u001b[1;34m(path_or_buf, mode, encoding, compression, memory_map, is_text, errors, storage_options)\u001b[0m\n\u001b[0;32m    863\u001b[0m         \u001b[1;32melse\u001b[0m\u001b[1;33m:\u001b[0m\u001b[1;33m\u001b[0m\u001b[1;33m\u001b[0m\u001b[0m\n\u001b[0;32m    864\u001b[0m             \u001b[1;31m# Binary mode\u001b[0m\u001b[1;33m\u001b[0m\u001b[1;33m\u001b[0m\u001b[0m\n\u001b[1;32m--> 865\u001b[1;33m             \u001b[0mhandle\u001b[0m \u001b[1;33m=\u001b[0m \u001b[0mopen\u001b[0m\u001b[1;33m(\u001b[0m\u001b[0mhandle\u001b[0m\u001b[1;33m,\u001b[0m \u001b[0mioargs\u001b[0m\u001b[1;33m.\u001b[0m\u001b[0mmode\u001b[0m\u001b[1;33m)\u001b[0m\u001b[1;33m\u001b[0m\u001b[1;33m\u001b[0m\u001b[0m\n\u001b[0m\u001b[0;32m    866\u001b[0m         \u001b[0mhandles\u001b[0m\u001b[1;33m.\u001b[0m\u001b[0mappend\u001b[0m\u001b[1;33m(\u001b[0m\u001b[0mhandle\u001b[0m\u001b[1;33m)\u001b[0m\u001b[1;33m\u001b[0m\u001b[1;33m\u001b[0m\u001b[0m\n\u001b[0;32m    867\u001b[0m \u001b[1;33m\u001b[0m\u001b[0m\n",
      "\u001b[1;31mFileNotFoundError\u001b[0m: [Errno 2] No such file or directory: 'input/cars.dta'"
     ]
    }
   ],
   "source": [
    "# read in labels (encoded in the Stata file)\n",
    "lbl_vars = pd.read_stata('input/cars.dta', iterator=True).variable_labels() \n",
    "lbl_vals = pd.read_stata('input/cars.dta', iterator=True).value_labels() # the values that variables take (not relevant for all )\n",
    "\n",
    "# add two new variable labels \n",
    "lbl_vars['s'] = 'market share (qu / qu_tot)'\n",
    "lbl_vars['qu_tot'] = 'total sales in this market-year'\n",
    "lbl_vars['inc'] = 'avg. income per capita'\n",
    "\n",
    "# convert to DF \n",
    "tab_lbl_vars = pd.DataFrame(lbl_vars, index=['label']).T\n",
    "tab_lbl_vars.index.name = 'variable'\n",
    "tab_lbl_vals = pd.DataFrame(lbl_vals).sort_index()\n",
    "\n",
    "# export \n",
    "tab_lbl_vars.to_csv('labels_variables.csv', index=True)\n",
    "tab_lbl_vals.to_csv('labels_values.csv',    index=False)"
   ]
  },
  {
   "cell_type": "code",
   "execution_count": null,
   "metadata": {},
   "outputs": [],
   "source": [
    "cars = pd.read_excel('input/cars.xlsx')"
   ]
  },
  {
   "cell_type": "code",
   "execution_count": null,
   "metadata": {},
   "outputs": [],
   "source": [
    "# income dataset \n",
    "inc = pd.read_csv('input/income.csv', delimiter=';')"
   ]
  },
  {
   "cell_type": "markdown",
   "metadata": {},
   "source": [
    "# Make data \"balanced\" \n",
    "\n",
    "Since it is much easier to work with a dataset as a 3-dimensional array without missings, we choose `J` (the number of cars available) as the smallest number such that all market-periods have at least that many cars. It turns out `J = 40` is that number. "
   ]
  },
  {
   "cell_type": "code",
   "execution_count": null,
   "metadata": {},
   "outputs": [
    {
     "name": "stdout",
     "output_type": "stream",
     "text": [
      "There are between 40 and 102 different cars available\n",
      "Smallest choiceset: UK, 1970: 40 unique car types\n"
     ]
    },
    {
     "data": {
      "image/png": "[encoded data removed]",
      "text/plain": [
       "<Figure size 432x288 with 1 Axes>"
      ]
     },
     "metadata": {},
     "output_type": "display_data"
    }
   ],
   "source": [
    "# how many unique car types (\"co\") are available for each market-year observation? ('ma', 'ye')\n",
    "c_ = cars.groupby(['ma', 'ye']).co.nunique()\n",
    "ax = c_.hist(bins=30); \n",
    "ax.set_xlabel('Unique car types available'); \n",
    "ax.set_ylabel('Observations (market-year)'); \n",
    "print(f'There are between {c_.min()} and {c_.max()} different cars available')\n",
    "\n",
    "lowest = c_[c_ == c_.min()].reset_index()\n",
    "print(f'Smallest choiceset: {lbl_vals[\"market\"][lowest.ma[0]]}, {1900 + lowest.ye[0]}: {lowest.co[0]} unique car types')"
   ]
  },
  {
   "cell_type": "code",
   "execution_count": null,
   "metadata": {},
   "outputs": [],
   "source": [
    "# dataframe keeping only the 40 largest rows \n",
    "c = (cars.groupby(['ma', 'ye']).qu.nlargest(40) # groupby(id).var.nlargest(N) returns N values for each id\n",
    "     .to_frame('Q')\n",
    "     .reset_index().rename(columns={'level_2':'idx'}) # idx: index referring to the index in cars\n",
    "    )"
   ]
  },
  {
   "cell_type": "code",
   "execution_count": null,
   "metadata": {},
   "outputs": [],
   "source": [
    "# create new dummy variable\n",
    "cars['among_40_largest'] = False\n",
    "cars.loc[c.idx, 'among_40_largest'] = True"
   ]
  },
  {
   "cell_type": "markdown",
   "metadata": {},
   "source": [
    "**Question:** What fraction of total sales do we capture with the 40 largest? "
   ]
  },
  {
   "cell_type": "code",
   "execution_count": null,
   "metadata": {},
   "outputs": [
    {
     "data": {
      "image/png": "[encoded data removed]",
      "text/plain": [
       "<Figure size 432x288 with 1 Axes>"
      ]
     },
     "metadata": {},
     "output_type": "display_data"
    }
   ],
   "source": [
    "c_ = cars.groupby(['ma', 'ye', 'among_40_largest']).qu.agg('sum').unstack()\n",
    "c_['share_among_40_largest'] = c_.loc[:, 1] / c_.sum(1)\n",
    "c_[['share_among_40_largest']].hist(bins=30); "
   ]
  },
  {
   "cell_type": "code",
   "execution_count": null,
   "metadata": {},
   "outputs": [
    {
     "name": "stdout",
     "output_type": "stream",
     "text": [
      "Before: #obs. = 11549, #vars = 48\n"
     ]
    }
   ],
   "source": [
    "print(f'Before: #obs. = {cars.shape[0]}, #vars = {cars.shape[1]}')"
   ]
  },
  {
   "cell_type": "markdown",
   "metadata": {},
   "source": [
    "### Subset original dataset\n",
    "\n",
    "Here we keep only the 40 largest cars. "
   ]
  },
  {
   "cell_type": "code",
   "execution_count": null,
   "metadata": {},
   "outputs": [],
   "source": [
    "# !!! keep only observations for the 40 top-selling cars !!! \n",
    "cars = cars[cars.among_40_largest].copy()\n",
    "del cars['among_40_largest']"
   ]
  },
  {
   "cell_type": "code",
   "execution_count": null,
   "metadata": {},
   "outputs": [
    {
     "name": "stdout",
     "output_type": "stream",
     "text": [
      "After: #obs. = 6000, #vars = 47\n"
     ]
    }
   ],
   "source": [
    "print(f'After: #obs. = {cars.shape[0]}, #vars = {cars.shape[1]}')"
   ]
  },
  {
   "cell_type": "markdown",
   "metadata": {},
   "source": [
    "# Process income data"
   ]
  },
  {
   "cell_type": "code",
   "execution_count": null,
   "metadata": {},
   "outputs": [],
   "source": [
    "del inc['Percentile']\n",
    "inc.sample(3)\n",
    "\n",
    "inc['ye'] = inc.Year - 1900 \n",
    "del inc['Year']\n",
    "\n",
    "# wide -> long dataset\n",
    "dfs = [] \n",
    "for i,nam in lbl_vals['market'].items(): \n",
    "    nam = lbl_vals[\"market\"][i] # string name of the market corresponding to value i \n",
    "    df = inc[['ye', lbl_vals['market'][i]]].rename(columns={nam: 'inc'})\n",
    "    df['ma'] = i\n",
    "    dfs.append(df)\n",
    "\n",
    "inc = pd.concat(dfs)\n",
    "\n",
    "cars = pd.merge(cars, inc, on=['ma', 'ye'], how='left')"
   ]
  },
  {
   "cell_type": "code",
   "execution_count": null,
   "metadata": {},
   "outputs": [],
   "source": [
    "cars.sort_values(['ma', 'ye', 'co'], inplace=True)"
   ]
  },
  {
   "cell_type": "code",
   "execution_count": null,
   "metadata": {},
   "outputs": [],
   "source": [
    "lbl_vars['inc'] = 'Avg. income per capita'"
   ]
  },
  {
   "cell_type": "markdown",
   "metadata": {},
   "source": [
    "## Income inequality data \n",
    "\n",
    "Can be added from the file `income_shares.csv` if you are interested. (Not currently in use.) "
   ]
  },
  {
   "cell_type": "code",
   "execution_count": null,
   "metadata": {},
   "outputs": [
    {
     "data": {
      "image/png": "[encoded data removed]",
      "text/plain": [
       "<Figure size 432x288 with 1 Axes>"
      ]
     },
     "metadata": {},
     "output_type": "display_data"
    }
   ],
   "source": [
    "pd.read_csv('input/income_shares.csv', delimiter=';').set_index('Year').query('Percentile==\"p90p100\"').plot();"
   ]
  },
  {
   "cell_type": "markdown",
   "metadata": {},
   "source": [
    "# Market share definition \n",
    "\n",
    "We just take the very simplistic definition that ignores the outside option. \n",
    "$$ s_j \\equiv \\frac{q_j}{\\sum_{k=1}^{40} q_k}. $$ \n",
    "\n",
    "An alternative definition would take a stance wrt. how many individuals are \"in the market.\" For example, it could be the entire population of the country, but then that would include individuals too young to have a driver's license, etc. "
   ]
  },
  {
   "cell_type": "code",
   "execution_count": null,
   "metadata": {},
   "outputs": [],
   "source": [
    "cars['qu_tot'] = cars.groupby(['ma','ye']).qu.transform('sum') \n",
    "cars['s'] = cars.qu / cars.qu_tot"
   ]
  },
  {
   "cell_type": "markdown",
   "metadata": {},
   "source": [
    "# Descriptive graphs"
   ]
  },
  {
   "cell_type": "code",
   "execution_count": null,
   "metadata": {},
   "outputs": [
    {
     "data": {
      "image/png": "[encoded data removed]",
      "text/plain": [
       "<Figure size 432x288 with 1 Axes>"
      ]
     },
     "metadata": {},
     "output_type": "display_data"
    }
   ],
   "source": [
    "I = cars.brand.isin(['renault', 'VW', 'fiat', 'ford']) # only include these brands in the plot \n",
    "ax = cars[I].groupby(['ma', 'brand']).s.mean().unstack().rename(index=lbl_vals['market']).plot(kind='bar'); \n",
    "ax.set_ylabel('Market share'); \n",
    "ax.set_xlabel(None); \n",
    "plt.tight_layout()\n",
    "plt.savefig('img/home_bias.pdf'); "
   ]
  },
  {
   "cell_type": "code",
   "execution_count": null,
   "metadata": {},
   "outputs": [
    {
     "data": {
      "image/png": "[encoded data removed]",
      "text/plain": [
       "<Figure size 432x288 with 1 Axes>"
      ]
     },
     "metadata": {},
     "output_type": "display_data"
    }
   ],
   "source": [
    "I = cars.brand.isin(['renault', 'VW', 'fiat', 'ford']) # only include these brands in the plot \n",
    "ax = cars[I].groupby(['ma', 'brand']).princ.mean().unstack().rename(index=lbl_vals['market']).plot(kind='bar'); \n",
    "ax.set_ylabel('Price-to-income'); \n",
    "ax.set_xlabel(None); \n",
    "plt.tight_layout(); \n",
    "plt.savefig('img/home_price.pdf'); "
   ]
  },
  {
   "cell_type": "markdown",
   "metadata": {},
   "source": [
    "Overall market shares split by whether there is a home-market advantage. "
   ]
  },
  {
   "cell_type": "code",
   "execution_count": null,
   "metadata": {},
   "outputs": [
    {
     "data": {
      "image/png": "[encoded data removed]",
      "text/plain": [
       "<Figure size 432x288 with 1 Axes>"
      ]
     },
     "metadata": {},
     "output_type": "display_data"
    }
   ],
   "source": [
    "ax = cars.groupby(['ma', 'home']).s.mean().unstack().rename(index=lbl_vals['market'], columns={0: 'Foregin', 1: 'Domestic'}).plot(kind='bar'); \n",
    "ax.set_ylabel('Avg. market share'); "
   ]
  },
  {
   "cell_type": "markdown",
   "metadata": {},
   "source": [
    "# Export dataset for later use "
   ]
  },
  {
   "cell_type": "code",
   "execution_count": null,
   "metadata": {},
   "outputs": [],
   "source": [
    "cars.to_csv('cars.csv', index=False)"
   ]
  },
  {
   "cell_type": "code",
   "execution_count": null,
   "metadata": {},
   "outputs": [
    {
     "data": {
      "text/html": [
       "<div>\n",
       "<style scoped>\n",
       "    .dataframe tbody tr th:only-of-type {\n",
       "        vertical-align: middle;\n",
       "    }\n",
       "\n",
       "    .dataframe tbody tr th {\n",
       "        vertical-align: top;\n",
       "    }\n",
       "\n",
       "    .dataframe thead th {\n",
       "        text-align: right;\n",
       "    }\n",
       "</style>\n",
       "<table border=\"1\" class=\"dataframe\">\n",
       "  <thead>\n",
       "    <tr style=\"text-align: right;\">\n",
       "      <th></th>\n",
       "      <th>ye</th>\n",
       "      <th>ma</th>\n",
       "      <th>co</th>\n",
       "      <th>zcode</th>\n",
       "      <th>brd</th>\n",
       "      <th>type</th>\n",
       "      <th>brand</th>\n",
       "      <th>model</th>\n",
       "      <th>org</th>\n",
       "      <th>loc</th>\n",
       "      <th>...</th>\n",
       "      <th>pop</th>\n",
       "      <th>ngdp</th>\n",
       "      <th>rgdp</th>\n",
       "      <th>engdp</th>\n",
       "      <th>ergdp</th>\n",
       "      <th>engdpc</th>\n",
       "      <th>ergdpc</th>\n",
       "      <th>inc</th>\n",
       "      <th>qu_tot</th>\n",
       "      <th>s</th>\n",
       "    </tr>\n",
       "  </thead>\n",
       "  <tbody>\n",
       "    <tr>\n",
       "      <th>21</th>\n",
       "      <td>70</td>\n",
       "      <td>1</td>\n",
       "      <td>15</td>\n",
       "      <td>14</td>\n",
       "      <td>2</td>\n",
       "      <td>audi 100/200</td>\n",
       "      <td>audi</td>\n",
       "      <td>100/200</td>\n",
       "      <td>2</td>\n",
       "      <td>4</td>\n",
       "      <td>...</td>\n",
       "      <td>9660000</td>\n",
       "      <td>1280999948288</td>\n",
       "      <td>3.940725e+12</td>\n",
       "      <td>25795239936</td>\n",
       "      <td>7.935358e+10</td>\n",
       "      <td>2670.314697</td>\n",
       "      <td>8214.65625</td>\n",
       "      <td>20363.7252</td>\n",
       "      <td>239013</td>\n",
       "      <td>0.011296</td>\n",
       "    </tr>\n",
       "    <tr>\n",
       "      <th>80</th>\n",
       "      <td>70</td>\n",
       "      <td>1</td>\n",
       "      <td>26</td>\n",
       "      <td>35</td>\n",
       "      <td>4</td>\n",
       "      <td>citroen 2 CV 6 - 2 CV 4</td>\n",
       "      <td>citroen</td>\n",
       "      <td>2CV6</td>\n",
       "      <td>1</td>\n",
       "      <td>3</td>\n",
       "      <td>...</td>\n",
       "      <td>9660000</td>\n",
       "      <td>1280999948288</td>\n",
       "      <td>3.940725e+12</td>\n",
       "      <td>25795239936</td>\n",
       "      <td>7.935358e+10</td>\n",
       "      <td>2670.314697</td>\n",
       "      <td>8214.65625</td>\n",
       "      <td>20363.7252</td>\n",
       "      <td>239013</td>\n",
       "      <td>0.014644</td>\n",
       "    </tr>\n",
       "    <tr>\n",
       "      <th>144</th>\n",
       "      <td>70</td>\n",
       "      <td>1</td>\n",
       "      <td>36</td>\n",
       "      <td>36</td>\n",
       "      <td>4</td>\n",
       "      <td>citroen dyane</td>\n",
       "      <td>citroen</td>\n",
       "      <td>dyane</td>\n",
       "      <td>1</td>\n",
       "      <td>3</td>\n",
       "      <td>...</td>\n",
       "      <td>9660000</td>\n",
       "      <td>1280999948288</td>\n",
       "      <td>3.940725e+12</td>\n",
       "      <td>25795239936</td>\n",
       "      <td>7.935358e+10</td>\n",
       "      <td>2670.314697</td>\n",
       "      <td>8214.65625</td>\n",
       "      <td>20363.7252</td>\n",
       "      <td>239013</td>\n",
       "      <td>0.028032</td>\n",
       "    </tr>\n",
       "    <tr>\n",
       "      <th>219</th>\n",
       "      <td>70</td>\n",
       "      <td>1</td>\n",
       "      <td>64</td>\n",
       "      <td>67</td>\n",
       "      <td>7</td>\n",
       "      <td>fiat 128</td>\n",
       "      <td>fiat</td>\n",
       "      <td>128</td>\n",
       "      <td>3</td>\n",
       "      <td>5</td>\n",
       "      <td>...</td>\n",
       "      <td>9660000</td>\n",
       "      <td>1280999948288</td>\n",
       "      <td>3.940725e+12</td>\n",
       "      <td>25795239936</td>\n",
       "      <td>7.935358e+10</td>\n",
       "      <td>2670.314697</td>\n",
       "      <td>8214.65625</td>\n",
       "      <td>20363.7252</td>\n",
       "      <td>239013</td>\n",
       "      <td>0.032634</td>\n",
       "    </tr>\n",
       "    <tr>\n",
       "      <th>257</th>\n",
       "      <td>70</td>\n",
       "      <td>1</td>\n",
       "      <td>71</td>\n",
       "      <td>80</td>\n",
       "      <td>8</td>\n",
       "      <td>ford escort</td>\n",
       "      <td>ford</td>\n",
       "      <td>escort</td>\n",
       "      <td>2</td>\n",
       "      <td>4</td>\n",
       "      <td>...</td>\n",
       "      <td>9660000</td>\n",
       "      <td>1280999948288</td>\n",
       "      <td>3.940725e+12</td>\n",
       "      <td>25795239936</td>\n",
       "      <td>7.935358e+10</td>\n",
       "      <td>2670.314697</td>\n",
       "      <td>8214.65625</td>\n",
       "      <td>20363.7252</td>\n",
       "      <td>239013</td>\n",
       "      <td>0.039747</td>\n",
       "    </tr>\n",
       "    <tr>\n",
       "      <th>...</th>\n",
       "      <td>...</td>\n",
       "      <td>...</td>\n",
       "      <td>...</td>\n",
       "      <td>...</td>\n",
       "      <td>...</td>\n",
       "      <td>...</td>\n",
       "      <td>...</td>\n",
       "      <td>...</td>\n",
       "      <td>...</td>\n",
       "      <td>...</td>\n",
       "      <td>...</td>\n",
       "      <td>...</td>\n",
       "      <td>...</td>\n",
       "      <td>...</td>\n",
       "      <td>...</td>\n",
       "      <td>...</td>\n",
       "      <td>...</td>\n",
       "      <td>...</td>\n",
       "      <td>...</td>\n",
       "      <td>...</td>\n",
       "      <td>...</td>\n",
       "    </tr>\n",
       "    <tr>\n",
       "      <th>5993</th>\n",
       "      <td>99</td>\n",
       "      <td>5</td>\n",
       "      <td>914</td>\n",
       "      <td>161</td>\n",
       "      <td>16</td>\n",
       "      <td>mercedes A</td>\n",
       "      <td>mercedes</td>\n",
       "      <td>A</td>\n",
       "      <td>2</td>\n",
       "      <td>4</td>\n",
       "      <td>...</td>\n",
       "      <td>58200000</td>\n",
       "      <td>889870024704</td>\n",
       "      <td>NaN</td>\n",
       "      <td>1052244508672</td>\n",
       "      <td>NaN</td>\n",
       "      <td>18079.802734</td>\n",
       "      <td>NaN</td>\n",
       "      <td>32434.8905</td>\n",
       "      <td>1635441</td>\n",
       "      <td>0.008598</td>\n",
       "    </tr>\n",
       "    <tr>\n",
       "      <th>5995</th>\n",
       "      <td>99</td>\n",
       "      <td>5</td>\n",
       "      <td>936</td>\n",
       "      <td>80</td>\n",
       "      <td>8</td>\n",
       "      <td>ford focus</td>\n",
       "      <td>ford</td>\n",
       "      <td>focus</td>\n",
       "      <td>7</td>\n",
       "      <td>4</td>\n",
       "      <td>...</td>\n",
       "      <td>58200000</td>\n",
       "      <td>889870024704</td>\n",
       "      <td>NaN</td>\n",
       "      <td>1052244508672</td>\n",
       "      <td>NaN</td>\n",
       "      <td>18079.802734</td>\n",
       "      <td>NaN</td>\n",
       "      <td>32434.8905</td>\n",
       "      <td>1635441</td>\n",
       "      <td>0.063119</td>\n",
       "    </tr>\n",
       "    <tr>\n",
       "      <th>5996</th>\n",
       "      <td>99</td>\n",
       "      <td>5</td>\n",
       "      <td>951</td>\n",
       "      <td>208</td>\n",
       "      <td>20</td>\n",
       "      <td>peugeot 206</td>\n",
       "      <td>peugeot</td>\n",
       "      <td>206</td>\n",
       "      <td>1</td>\n",
       "      <td>3</td>\n",
       "      <td>...</td>\n",
       "      <td>58200000</td>\n",
       "      <td>889870024704</td>\n",
       "      <td>NaN</td>\n",
       "      <td>1052244508672</td>\n",
       "      <td>NaN</td>\n",
       "      <td>18079.802734</td>\n",
       "      <td>NaN</td>\n",
       "      <td>32434.8905</td>\n",
       "      <td>1635441</td>\n",
       "      <td>0.035946</td>\n",
       "    </tr>\n",
       "    <tr>\n",
       "      <th>5998</th>\n",
       "      <td>99</td>\n",
       "      <td>5</td>\n",
       "      <td>953</td>\n",
       "      <td>282</td>\n",
       "      <td>29</td>\n",
       "      <td>toyota avensis</td>\n",
       "      <td>toyota</td>\n",
       "      <td>avensis</td>\n",
       "      <td>4</td>\n",
       "      <td>12</td>\n",
       "      <td>...</td>\n",
       "      <td>58200000</td>\n",
       "      <td>889870024704</td>\n",
       "      <td>NaN</td>\n",
       "      <td>1052244508672</td>\n",
       "      <td>NaN</td>\n",
       "      <td>18079.802734</td>\n",
       "      <td>NaN</td>\n",
       "      <td>32434.8905</td>\n",
       "      <td>1635441</td>\n",
       "      <td>0.013445</td>\n",
       "    </tr>\n",
       "    <tr>\n",
       "      <th>5999</th>\n",
       "      <td>99</td>\n",
       "      <td>5</td>\n",
       "      <td>978</td>\n",
       "      <td>287</td>\n",
       "      <td>29</td>\n",
       "      <td>toyota yaris</td>\n",
       "      <td>toyota</td>\n",
       "      <td>yaris</td>\n",
       "      <td>4</td>\n",
       "      <td>6</td>\n",
       "      <td>...</td>\n",
       "      <td>58200000</td>\n",
       "      <td>889870024704</td>\n",
       "      <td>NaN</td>\n",
       "      <td>1052244508672</td>\n",
       "      <td>NaN</td>\n",
       "      <td>18079.802734</td>\n",
       "      <td>NaN</td>\n",
       "      <td>32434.8905</td>\n",
       "      <td>1635441</td>\n",
       "      <td>0.010468</td>\n",
       "    </tr>\n",
       "  </tbody>\n",
       "</table>\n",
       "<p>6000 rows × 50 columns</p>\n",
       "</div>"
      ],
      "text/plain": [
       "      ye  ma   co  zcode  brd                     type     brand    model  \\\n",
       "21    70   1   15     14    2             audi 100/200      audi  100/200   \n",
       "80    70   1   26     35    4  citroen 2 CV 6 - 2 CV 4   citroen     2CV6   \n",
       "144   70   1   36     36    4            citroen dyane   citroen    dyane   \n",
       "219   70   1   64     67    7                 fiat 128      fiat      128   \n",
       "257   70   1   71     80    8              ford escort      ford   escort   \n",
       "...   ..  ..  ...    ...  ...                      ...       ...      ...   \n",
       "5993  99   5  914    161   16               mercedes A  mercedes        A   \n",
       "5995  99   5  936     80    8               ford focus      ford    focus   \n",
       "5996  99   5  951    208   20              peugeot 206   peugeot      206   \n",
       "5998  99   5  953    282   29           toyota avensis    toyota  avensis   \n",
       "5999  99   5  978    287   29             toyota yaris    toyota    yaris   \n",
       "\n",
       "      org  loc  ...       pop           ngdp          rgdp          engdp  \\\n",
       "21      2    4  ...   9660000  1280999948288  3.940725e+12    25795239936   \n",
       "80      1    3  ...   9660000  1280999948288  3.940725e+12    25795239936   \n",
       "144     1    3  ...   9660000  1280999948288  3.940725e+12    25795239936   \n",
       "219     3    5  ...   9660000  1280999948288  3.940725e+12    25795239936   \n",
       "257     2    4  ...   9660000  1280999948288  3.940725e+12    25795239936   \n",
       "...   ...  ...  ...       ...            ...           ...            ...   \n",
       "5993    2    4  ...  58200000   889870024704           NaN  1052244508672   \n",
       "5995    7    4  ...  58200000   889870024704           NaN  1052244508672   \n",
       "5996    1    3  ...  58200000   889870024704           NaN  1052244508672   \n",
       "5998    4   12  ...  58200000   889870024704           NaN  1052244508672   \n",
       "5999    4    6  ...  58200000   889870024704           NaN  1052244508672   \n",
       "\n",
       "             ergdp        engdpc      ergdpc         inc   qu_tot         s  \n",
       "21    7.935358e+10   2670.314697  8214.65625  20363.7252   239013  0.011296  \n",
       "80    7.935358e+10   2670.314697  8214.65625  20363.7252   239013  0.014644  \n",
       "144   7.935358e+10   2670.314697  8214.65625  20363.7252   239013  0.028032  \n",
       "219   7.935358e+10   2670.314697  8214.65625  20363.7252   239013  0.032634  \n",
       "257   7.935358e+10   2670.314697  8214.65625  20363.7252   239013  0.039747  \n",
       "...            ...           ...         ...         ...      ...       ...  \n",
       "5993           NaN  18079.802734         NaN  32434.8905  1635441  0.008598  \n",
       "5995           NaN  18079.802734         NaN  32434.8905  1635441  0.063119  \n",
       "5996           NaN  18079.802734         NaN  32434.8905  1635441  0.035946  \n",
       "5998           NaN  18079.802734         NaN  32434.8905  1635441  0.013445  \n",
       "5999           NaN  18079.802734         NaN  32434.8905  1635441  0.010468  \n",
       "\n",
       "[6000 rows x 50 columns]"
      ]
     },
     "execution_count": 26,
     "metadata": {},
     "output_type": "execute_result"
    }
   ],
   "source": [
    "cars"
   ]
  }
 ],
 "metadata": {
  "kernelspec": {
   "display_name": "Python 3.9.15 ('base')",
   "language": "python",
   "name": "python3"
  },
  "language_info": {
   "codemirror_mode": {
    "name": "ipython",
    "version": 3
   },
   "file_extension": ".py",
   "mimetype": "text/x-python",
   "name": "python",
   "nbconvert_exporter": "python",
   "pygments_lexer": "ipython3",
   "version": "3.9.15"
  },
  "vscode": {
   "interpreter": {
    "hash": "054e95b4819972eba8d406807e822e3be9cca805528e86310f8e3ac8dc287778"
   }
  }
 },
 "nbformat": 4,
 "nbformat_minor": 4
}
