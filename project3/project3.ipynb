{
 "cells": [
  {
   "cell_type": "code",
   "execution_count": 163,
   "metadata": {},
   "outputs": [],
   "source": [
    "import numpy as np \n",
    "import pandas as pd \n",
    "import matplotlib.pyplot as plt \n",
    "import seaborn as sns \n",
    "sns.set_theme()\n",
    "\n",
    "# optimization\n",
    "from scipy import optimize\n",
    "from numpy.random import default_rng\n",
    "\n",
    "# For quick OLS\n",
    "#import statsmodels.formula.api as smf\n",
    "\n",
    "# Import our toolbox\n",
    "import clogit as clogit\n",
    "import mlogit_ante as mlogit\n",
    "import estimation as est\n",
    "import LinearModels as lm"
   ]
  },
  {
   "cell_type": "markdown",
   "metadata": {},
   "source": [
    "# Read in data\n",
    "\n",
    "The dataset, `cars.csv`, contains cleaned and processed data. If you want to make changes, the notebook, `materialize.ipynb`, creates the data from the raw source datsets. "
   ]
  },
  {
   "cell_type": "code",
   "execution_count": 164,
   "metadata": {},
   "outputs": [],
   "source": [
    "cars = pd.read_csv('cars.csv')\n",
    "lbl_vars = pd.read_csv('labels_variables.csv')\n",
    "lbl_vals = pd.read_csv('labels_values.csv')\n",
    "\n",
    "# convert from dataframe to dict\n",
    "lbl_vals = {c: lbl_vals[c].dropna().to_dict() for c in lbl_vals.columns}"
   ]
  },
  {
   "cell_type": "code",
   "execution_count": 165,
   "metadata": {},
   "outputs": [],
   "source": [
    "lbl_vars.set_index('variable', inplace=True)"
   ]
  },
  {
   "cell_type": "markdown",
   "metadata": {},
   "source": [
    "## Overview of the dataset"
   ]
  },
  {
   "cell_type": "code",
   "execution_count": 166,
   "metadata": {},
   "outputs": [
    {
     "data": {
      "text/html": [
       "<div>\n",
       "<style scoped>\n",
       "    .dataframe tbody tr th:only-of-type {\n",
       "        vertical-align: middle;\n",
       "    }\n",
       "\n",
       "    .dataframe tbody tr th {\n",
       "        vertical-align: top;\n",
       "    }\n",
       "\n",
       "    .dataframe thead th {\n",
       "        text-align: right;\n",
       "    }\n",
       "</style>\n",
       "<table border=\"1\" class=\"dataframe\">\n",
       "  <thead>\n",
       "    <tr style=\"text-align: right;\">\n",
       "      <th></th>\n",
       "      <th>label</th>\n",
       "      <th>Mean</th>\n",
       "    </tr>\n",
       "    <tr>\n",
       "      <th>variable</th>\n",
       "      <th></th>\n",
       "      <th></th>\n",
       "    </tr>\n",
       "  </thead>\n",
       "  <tbody>\n",
       "    <tr>\n",
       "      <th>ye</th>\n",
       "      <td>year (=first dimension of panel)</td>\n",
       "      <td>84.50</td>\n",
       "    </tr>\n",
       "    <tr>\n",
       "      <th>ma</th>\n",
       "      <td>market (=second dimension of panel)</td>\n",
       "      <td>3.00</td>\n",
       "    </tr>\n",
       "    <tr>\n",
       "      <th>co</th>\n",
       "      <td>model code (=third dimension of panel)</td>\n",
       "      <td>207.50</td>\n",
       "    </tr>\n",
       "    <tr>\n",
       "      <th>zcode</th>\n",
       "      <td>alternative model code (predecessors and succe...</td>\n",
       "      <td>177.76</td>\n",
       "    </tr>\n",
       "    <tr>\n",
       "      <th>brd</th>\n",
       "      <td>brand code</td>\n",
       "      <td>16.79</td>\n",
       "    </tr>\n",
       "    <tr>\n",
       "      <th>type</th>\n",
       "      <td>name of brand and model</td>\n",
       "      <td>NaN</td>\n",
       "    </tr>\n",
       "    <tr>\n",
       "      <th>brand</th>\n",
       "      <td>name of brand</td>\n",
       "      <td>NaN</td>\n",
       "    </tr>\n",
       "    <tr>\n",
       "      <th>model</th>\n",
       "      <td>name of model</td>\n",
       "      <td>NaN</td>\n",
       "    </tr>\n",
       "    <tr>\n",
       "      <th>org</th>\n",
       "      <td>origin code (demand side, country with which c...</td>\n",
       "      <td>2.72</td>\n",
       "    </tr>\n",
       "    <tr>\n",
       "      <th>loc</th>\n",
       "      <td>location code (production side, country where ...</td>\n",
       "      <td>5.17</td>\n",
       "    </tr>\n",
       "    <tr>\n",
       "      <th>cla</th>\n",
       "      <td>class or segment code</td>\n",
       "      <td>2.30</td>\n",
       "    </tr>\n",
       "    <tr>\n",
       "      <th>home</th>\n",
       "      <td>domestic car dummy (appropriate interaction of...</td>\n",
       "      <td>0.32</td>\n",
       "    </tr>\n",
       "    <tr>\n",
       "      <th>frm</th>\n",
       "      <td>firm code</td>\n",
       "      <td>14.50</td>\n",
       "    </tr>\n",
       "    <tr>\n",
       "      <th>qu</th>\n",
       "      <td>sales (number of new car registrations)</td>\n",
       "      <td>35606.68</td>\n",
       "    </tr>\n",
       "    <tr>\n",
       "      <th>cy</th>\n",
       "      <td>cylinder volume or displacement (in cc)</td>\n",
       "      <td>1337.09</td>\n",
       "    </tr>\n",
       "    <tr>\n",
       "      <th>hp</th>\n",
       "      <td>horsepower (in kW)</td>\n",
       "      <td>50.10</td>\n",
       "    </tr>\n",
       "    <tr>\n",
       "      <th>we</th>\n",
       "      <td>weight (in kg)</td>\n",
       "      <td>934.49</td>\n",
       "    </tr>\n",
       "    <tr>\n",
       "      <th>pl</th>\n",
       "      <td>places (number, not reliable variable)</td>\n",
       "      <td>4.88</td>\n",
       "    </tr>\n",
       "    <tr>\n",
       "      <th>do</th>\n",
       "      <td>doors (number, not reliable variable)</td>\n",
       "      <td>3.55</td>\n",
       "    </tr>\n",
       "    <tr>\n",
       "      <th>le</th>\n",
       "      <td>length (in cm)</td>\n",
       "      <td>409.24</td>\n",
       "    </tr>\n",
       "    <tr>\n",
       "      <th>wi</th>\n",
       "      <td>width (in cm)</td>\n",
       "      <td>163.44</td>\n",
       "    </tr>\n",
       "    <tr>\n",
       "      <th>he</th>\n",
       "      <td>height (in cm)</td>\n",
       "      <td>140.46</td>\n",
       "    </tr>\n",
       "    <tr>\n",
       "      <th>li1</th>\n",
       "      <td>measure 1 for fuel efficiency (liter per km, a...</td>\n",
       "      <td>6.59</td>\n",
       "    </tr>\n",
       "    <tr>\n",
       "      <th>li2</th>\n",
       "      <td>measure 2 for fuel efficiency (liter per km, a...</td>\n",
       "      <td>8.11</td>\n",
       "    </tr>\n",
       "    <tr>\n",
       "      <th>li3</th>\n",
       "      <td>measure 3 for fuel efficiency (liter per km, a...</td>\n",
       "      <td>8.92</td>\n",
       "    </tr>\n",
       "    <tr>\n",
       "      <th>li</th>\n",
       "      <td>average of li1, li2, li3 (used in papers)</td>\n",
       "      <td>7.87</td>\n",
       "    </tr>\n",
       "    <tr>\n",
       "      <th>sp</th>\n",
       "      <td>maximum speed (km/hour)</td>\n",
       "      <td>154.22</td>\n",
       "    </tr>\n",
       "    <tr>\n",
       "      <th>ac</th>\n",
       "      <td>time to acceleration (in seconds from 0 to 100...</td>\n",
       "      <td>16.27</td>\n",
       "    </tr>\n",
       "    <tr>\n",
       "      <th>pr</th>\n",
       "      <td>price (in destination currency including V.A.T.)</td>\n",
       "      <td>2608988.58</td>\n",
       "    </tr>\n",
       "    <tr>\n",
       "      <th>princ</th>\n",
       "      <td>=pr/(ngdp/pop): price relative to per capita i...</td>\n",
       "      <td>0.76</td>\n",
       "    </tr>\n",
       "    <tr>\n",
       "      <th>eurpr</th>\n",
       "      <td>=pr/avdexr: price in common currency (in SDR t...</td>\n",
       "      <td>7256.92</td>\n",
       "    </tr>\n",
       "    <tr>\n",
       "      <th>exppr</th>\n",
       "      <td>=pr/avexr: price in exporter currency</td>\n",
       "      <td>600384.65</td>\n",
       "    </tr>\n",
       "    <tr>\n",
       "      <th>avexr</th>\n",
       "      <td>av. exchange rate of exporter country (exporte...</td>\n",
       "      <td>229.30</td>\n",
       "    </tr>\n",
       "    <tr>\n",
       "      <th>avdexr</th>\n",
       "      <td>av. exchange rate of destination country (dest...</td>\n",
       "      <td>319.91</td>\n",
       "    </tr>\n",
       "    <tr>\n",
       "      <th>avcpr</th>\n",
       "      <td>av. consumer price index of exporter country</td>\n",
       "      <td>492.53</td>\n",
       "    </tr>\n",
       "    <tr>\n",
       "      <th>avppr</th>\n",
       "      <td>av. producer price index of exporter country</td>\n",
       "      <td>671.77</td>\n",
       "    </tr>\n",
       "    <tr>\n",
       "      <th>avdcpr</th>\n",
       "      <td>av. consumer price index of destination country</td>\n",
       "      <td>77.02</td>\n",
       "    </tr>\n",
       "    <tr>\n",
       "      <th>avdppr</th>\n",
       "      <td>av. producer price index of destination country</td>\n",
       "      <td>87.69</td>\n",
       "    </tr>\n",
       "    <tr>\n",
       "      <th>xexr</th>\n",
       "      <td>avdexr/avexr</td>\n",
       "      <td>66.32</td>\n",
       "    </tr>\n",
       "    <tr>\n",
       "      <th>tax</th>\n",
       "      <td>percentage VAT</td>\n",
       "      <td>0.21</td>\n",
       "    </tr>\n",
       "    <tr>\n",
       "      <th>pop</th>\n",
       "      <td>population</td>\n",
       "      <td>49183800.00</td>\n",
       "    </tr>\n",
       "    <tr>\n",
       "      <th>ngdp</th>\n",
       "      <td>nominal gross domestic product of destination ...</td>\n",
       "      <td>178667304825541.97</td>\n",
       "    </tr>\n",
       "    <tr>\n",
       "      <th>rgdp</th>\n",
       "      <td>real gross domestic product</td>\n",
       "      <td>216716720230172.44</td>\n",
       "    </tr>\n",
       "    <tr>\n",
       "      <th>engdp</th>\n",
       "      <td>=ngdp/avdexr: nominal gdp in common currency (...</td>\n",
       "      <td>504371708122.45</td>\n",
       "    </tr>\n",
       "    <tr>\n",
       "      <th>ergdp</th>\n",
       "      <td>=rgdp/avexr</td>\n",
       "      <td>659002565347.56</td>\n",
       "    </tr>\n",
       "    <tr>\n",
       "      <th>engdpc</th>\n",
       "      <td>=engdp/pop: nominal gdp per capita in common c...</td>\n",
       "      <td>10015.84</td>\n",
       "    </tr>\n",
       "    <tr>\n",
       "      <th>ergdpc</th>\n",
       "      <td>=ergdp/pop</td>\n",
       "      <td>13264.84</td>\n",
       "    </tr>\n",
       "    <tr>\n",
       "      <th>s</th>\n",
       "      <td>market share (qu / qu_tot)</td>\n",
       "      <td>0.02</td>\n",
       "    </tr>\n",
       "    <tr>\n",
       "      <th>qu_tot</th>\n",
       "      <td>total sales in this market-year</td>\n",
       "      <td>1424267.29</td>\n",
       "    </tr>\n",
       "    <tr>\n",
       "      <th>inc</th>\n",
       "      <td>avg. income per capita</td>\n",
       "      <td>26829.74</td>\n",
       "    </tr>\n",
       "  </tbody>\n",
       "</table>\n",
       "</div>"
      ],
      "text/plain": [
       "                                                      label  \\\n",
       "variable                                                      \n",
       "ye                         year (=first dimension of panel)   \n",
       "ma                      market (=second dimension of panel)   \n",
       "co                   model code (=third dimension of panel)   \n",
       "zcode     alternative model code (predecessors and succe...   \n",
       "brd                                              brand code   \n",
       "type                                name of brand and model   \n",
       "brand                                         name of brand   \n",
       "model                                         name of model   \n",
       "org       origin code (demand side, country with which c...   \n",
       "loc       location code (production side, country where ...   \n",
       "cla                                   class or segment code   \n",
       "home      domestic car dummy (appropriate interaction of...   \n",
       "frm                                               firm code   \n",
       "qu                  sales (number of new car registrations)   \n",
       "cy                  cylinder volume or displacement (in cc)   \n",
       "hp                                       horsepower (in kW)   \n",
       "we                                           weight (in kg)   \n",
       "pl                   places (number, not reliable variable)   \n",
       "do                    doors (number, not reliable variable)   \n",
       "le                                           length (in cm)   \n",
       "wi                                            width (in cm)   \n",
       "he                                           height (in cm)   \n",
       "li1       measure 1 for fuel efficiency (liter per km, a...   \n",
       "li2       measure 2 for fuel efficiency (liter per km, a...   \n",
       "li3       measure 3 for fuel efficiency (liter per km, a...   \n",
       "li                average of li1, li2, li3 (used in papers)   \n",
       "sp                                  maximum speed (km/hour)   \n",
       "ac        time to acceleration (in seconds from 0 to 100...   \n",
       "pr         price (in destination currency including V.A.T.)   \n",
       "princ     =pr/(ngdp/pop): price relative to per capita i...   \n",
       "eurpr     =pr/avdexr: price in common currency (in SDR t...   \n",
       "exppr                 =pr/avexr: price in exporter currency   \n",
       "avexr     av. exchange rate of exporter country (exporte...   \n",
       "avdexr    av. exchange rate of destination country (dest...   \n",
       "avcpr          av. consumer price index of exporter country   \n",
       "avppr          av. producer price index of exporter country   \n",
       "avdcpr      av. consumer price index of destination country   \n",
       "avdppr      av. producer price index of destination country   \n",
       "xexr                                           avdexr/avexr   \n",
       "tax                                          percentage VAT   \n",
       "pop                                              population   \n",
       "ngdp      nominal gross domestic product of destination ...   \n",
       "rgdp                            real gross domestic product   \n",
       "engdp     =ngdp/avdexr: nominal gdp in common currency (...   \n",
       "ergdp                                           =rgdp/avexr   \n",
       "engdpc    =engdp/pop: nominal gdp per capita in common c...   \n",
       "ergdpc                                           =ergdp/pop   \n",
       "s                                market share (qu / qu_tot)   \n",
       "qu_tot                      total sales in this market-year   \n",
       "inc                                  avg. income per capita   \n",
       "\n",
       "                         Mean  \n",
       "variable                       \n",
       "ye                      84.50  \n",
       "ma                       3.00  \n",
       "co                     207.50  \n",
       "zcode                  177.76  \n",
       "brd                     16.79  \n",
       "type                      NaN  \n",
       "brand                     NaN  \n",
       "model                     NaN  \n",
       "org                      2.72  \n",
       "loc                      5.17  \n",
       "cla                      2.30  \n",
       "home                     0.32  \n",
       "frm                     14.50  \n",
       "qu                   35606.68  \n",
       "cy                    1337.09  \n",
       "hp                      50.10  \n",
       "we                     934.49  \n",
       "pl                       4.88  \n",
       "do                       3.55  \n",
       "le                     409.24  \n",
       "wi                     163.44  \n",
       "he                     140.46  \n",
       "li1                      6.59  \n",
       "li2                      8.11  \n",
       "li3                      8.92  \n",
       "li                       7.87  \n",
       "sp                     154.22  \n",
       "ac                      16.27  \n",
       "pr                 2608988.58  \n",
       "princ                    0.76  \n",
       "eurpr                 7256.92  \n",
       "exppr               600384.65  \n",
       "avexr                  229.30  \n",
       "avdexr                 319.91  \n",
       "avcpr                  492.53  \n",
       "avppr                  671.77  \n",
       "avdcpr                  77.02  \n",
       "avdppr                  87.69  \n",
       "xexr                    66.32  \n",
       "tax                      0.21  \n",
       "pop               49183800.00  \n",
       "ngdp       178667304825541.97  \n",
       "rgdp       216716720230172.44  \n",
       "engdp         504371708122.45  \n",
       "ergdp         659002565347.56  \n",
       "engdpc               10015.84  \n",
       "ergdpc               13264.84  \n",
       "s                        0.02  \n",
       "qu_tot             1424267.29  \n",
       "inc                  26829.74  "
      ]
     },
     "execution_count": 166,
     "metadata": {},
     "output_type": "execute_result"
    }
   ],
   "source": [
    "lbl_vars.join(cars.mean(numeric_only=True).apply(lambda x: f'{x: .2f}').to_frame('Mean'))"
   ]
  },
  {
   "cell_type": "code",
   "execution_count": 167,
   "metadata": {},
   "outputs": [
    {
     "data": {
      "text/plain": [
       "'=pr/(ngdp/pop): price relative to per capita income (often used in demand model)'"
      ]
     },
     "execution_count": 167,
     "metadata": {},
     "output_type": "execute_result"
    }
   ],
   "source": [
    "temp = lbl_vars.join(cars.mean(numeric_only=True).apply(lambda x: f'{x: .2f}').to_frame('Mean'))\n",
    "temp['label']['princ']"
   ]
  },
  {
   "cell_type": "code",
   "execution_count": 168,
   "metadata": {},
   "outputs": [
    {
     "data": {
      "text/plain": [
       "'price (in destination currency including V.A.T.)'"
      ]
     },
     "execution_count": 168,
     "metadata": {},
     "output_type": "execute_result"
    }
   ],
   "source": [
    "temp['label']['pr']"
   ]
  },
  {
   "cell_type": "markdown",
   "metadata": {},
   "source": [
    "# Set up for analysis"
   ]
  },
  {
   "cell_type": "code",
   "execution_count": 169,
   "metadata": {},
   "outputs": [],
   "source": [
    "price_var = 'princ'"
   ]
  },
  {
   "cell_type": "code",
   "execution_count": 170,
   "metadata": {},
   "outputs": [],
   "source": [
    "cars['logp'] = np.log(cars[price_var])"
   ]
  },
  {
   "cell_type": "code",
   "execution_count": 171,
   "metadata": {},
   "outputs": [
    {
     "data": {
      "text/plain": [
       "<AxesSubplot: >"
      ]
     },
     "execution_count": 171,
     "metadata": {},
     "output_type": "execute_result"
    },
    {
     "data": {
      "image/png": "[encoded data removed]",
      "text/plain": [
       "<Figure size 640x480 with 1 Axes>"
      ]
     },
     "metadata": {},
     "output_type": "display_data"
    }
   ],
   "source": [
    "cars['logp'].hist()"
   ]
  },
  {
   "cell_type": "code",
   "execution_count": 172,
   "metadata": {},
   "outputs": [],
   "source": [
    "# new variable: price elasticity heterogeneous for home-region \n",
    "cars['logp_x_home'] = cars['logp'] * cars['home']\n",
    "\n",
    "# Scaling for numerical stability\n",
    "cars['cy']/=1000\n",
    "cars['hp']/=100\n",
    "cars['we']/=1000"
   ]
  },
  {
   "cell_type": "markdown",
   "metadata": {},
   "source": [
    "### Dummy variables\n",
    "\n",
    "For working with matrices, we want to have a column for each dummy variable. "
   ]
  },
  {
   "cell_type": "code",
   "execution_count": 173,
   "metadata": {},
   "outputs": [],
   "source": [
    "categorical_var = 'brand' # name of categorical variable\n",
    "dummies = pd.get_dummies(cars[categorical_var]) # creates a matrix of dummies for each value of dummyvar\n",
    "x_vars_dummies = list(dummies.columns[1:].values) # omit a reference category, here it is the first (hence columns[1:])\n",
    "\n",
    "# add dummies to the dataframe \n",
    "assert dummies.columns[0] not in cars.columns, f'It looks like you have already added this dummy to the dataframe. Avoid duplicates! '\n",
    "cars = pd.concat([cars,dummies], axis=1)"
   ]
  },
  {
   "cell_type": "code",
   "execution_count": 174,
   "metadata": {},
   "outputs": [
    {
     "data": {
      "text/plain": [
       "'BMW'"
      ]
     },
     "execution_count": 174,
     "metadata": {},
     "output_type": "execute_result"
    }
   ],
   "source": [
    "# NB! Let's take a look at the reference category\n",
    "dummies.columns[0] #This is BMW\n",
    "# Something might be going on "
   ]
  },
  {
   "cell_type": "markdown",
   "metadata": {},
   "source": [
    "### `x_vars`: List of regressors to be used "
   ]
  },
  {
   "cell_type": "code",
   "execution_count": 175,
   "metadata": {},
   "outputs": [
    {
     "name": "stdout",
     "output_type": "stream",
     "text": [
      "K = 40 variables selected.\n"
     ]
    }
   ],
   "source": [
    "x_vars = ['logp', 'home', 'logp_x_home', 'cy', 'hp', 'we', 'li', 'he'] + x_vars_dummies\n",
    "# If we include dummies for the brand, the 3-D matrix x becomes singular. Why?\n",
    "# \n",
    "print(f'K = {len(x_vars)} variables selected.')"
   ]
  },
  {
   "cell_type": "code",
   "execution_count": 176,
   "metadata": {},
   "outputs": [
    {
     "data": {
      "text/plain": [
       "285"
      ]
     },
     "execution_count": 176,
     "metadata": {},
     "output_type": "execute_result"
    }
   ],
   "source": [
    "cars['co'].nunique() #Different car models - some cars are in the top 40 most sold for a market and/or year"
   ]
  },
  {
   "cell_type": "code",
   "execution_count": 177,
   "metadata": {},
   "outputs": [],
   "source": [
    "K = len(x_vars) #The \"household\" characteristics\n",
    "N = cars.ma.nunique() * cars.ye.nunique() #The market-year 'i'\n",
    "J = 40 #The 40 different cars\n",
    "x = cars[x_vars].values.reshape((N,J,K))"
   ]
  },
  {
   "cell_type": "code",
   "execution_count": 178,
   "metadata": {},
   "outputs": [
    {
     "data": {
      "text/plain": [
       "-0.09440312493294639"
      ]
     },
     "execution_count": 178,
     "metadata": {},
     "output_type": "execute_result"
    }
   ],
   "source": [
    "cars['logp_x_home'].mean()"
   ]
  },
  {
   "cell_type": "code",
   "execution_count": 179,
   "metadata": {},
   "outputs": [
    {
     "data": {
      "text/plain": [
       "-0.3606223052101118"
      ]
     },
     "execution_count": 179,
     "metadata": {},
     "output_type": "execute_result"
    }
   ],
   "source": [
    "cars['logp'].mean()"
   ]
  },
  {
   "cell_type": "code",
   "execution_count": 180,
   "metadata": {},
   "outputs": [],
   "source": [
    "y = cars['s'].values #The market shares \n",
    "y = y.reshape((N,J)) #The market shares in market-year N for J=40 different cars"
   ]
  },
  {
   "cell_type": "code",
   "execution_count": 181,
   "metadata": {},
   "outputs": [],
   "source": [
    "# Let's look at a particular 'market-year' to see what is going on, for example market = 0 (Belgium) in 1970\n",
    "\n",
    "belgium1970 = cars[(cars['ma']==1) & (cars['ye']==70)] \n",
    "\n",
    "\n",
    "# Interpretation: Each 'market-year', the top 40 most selling cars make up about 99.99% of all cars sold.\n",
    "    # Each market-year share column (called \"s\" in the data) sums to one\n"
   ]
  },
  {
   "cell_type": "code",
   "execution_count": 182,
   "metadata": {},
   "outputs": [
    {
     "data": {
      "text/html": [
       "<div>\n",
       "<style scoped>\n",
       "    .dataframe tbody tr th:only-of-type {\n",
       "        vertical-align: middle;\n",
       "    }\n",
       "\n",
       "    .dataframe tbody tr th {\n",
       "        vertical-align: top;\n",
       "    }\n",
       "\n",
       "    .dataframe thead th {\n",
       "        text-align: right;\n",
       "    }\n",
       "</style>\n",
       "<table border=\"1\" class=\"dataframe\">\n",
       "  <thead>\n",
       "    <tr style=\"text-align: right;\">\n",
       "      <th></th>\n",
       "      <th>ye</th>\n",
       "      <th>ma</th>\n",
       "      <th>co</th>\n",
       "      <th>zcode</th>\n",
       "      <th>brd</th>\n",
       "      <th>type</th>\n",
       "      <th>brand</th>\n",
       "      <th>model</th>\n",
       "      <th>org</th>\n",
       "      <th>loc</th>\n",
       "      <th>...</th>\n",
       "      <th>seat</th>\n",
       "      <th>skoda</th>\n",
       "      <th>suzuki</th>\n",
       "      <th>tal/hillman</th>\n",
       "      <th>tal/matra</th>\n",
       "      <th>tal/simca</th>\n",
       "      <th>tal/sunb</th>\n",
       "      <th>talbot</th>\n",
       "      <th>toyota</th>\n",
       "      <th>volvo</th>\n",
       "    </tr>\n",
       "  </thead>\n",
       "  <tbody>\n",
       "    <tr>\n",
       "      <th>0</th>\n",
       "      <td>70</td>\n",
       "      <td>1</td>\n",
       "      <td>15</td>\n",
       "      <td>14</td>\n",
       "      <td>2</td>\n",
       "      <td>audi 100/200</td>\n",
       "      <td>audi</td>\n",
       "      <td>100/200</td>\n",
       "      <td>2</td>\n",
       "      <td>4</td>\n",
       "      <td>...</td>\n",
       "      <td>0</td>\n",
       "      <td>0</td>\n",
       "      <td>0</td>\n",
       "      <td>0</td>\n",
       "      <td>0</td>\n",
       "      <td>0</td>\n",
       "      <td>0</td>\n",
       "      <td>0</td>\n",
       "      <td>0</td>\n",
       "      <td>0</td>\n",
       "    </tr>\n",
       "    <tr>\n",
       "      <th>1</th>\n",
       "      <td>70</td>\n",
       "      <td>1</td>\n",
       "      <td>26</td>\n",
       "      <td>35</td>\n",
       "      <td>4</td>\n",
       "      <td>citroen 2 CV 6 - 2 CV 4</td>\n",
       "      <td>citroen</td>\n",
       "      <td>2CV6</td>\n",
       "      <td>1</td>\n",
       "      <td>3</td>\n",
       "      <td>...</td>\n",
       "      <td>0</td>\n",
       "      <td>0</td>\n",
       "      <td>0</td>\n",
       "      <td>0</td>\n",
       "      <td>0</td>\n",
       "      <td>0</td>\n",
       "      <td>0</td>\n",
       "      <td>0</td>\n",
       "      <td>0</td>\n",
       "      <td>0</td>\n",
       "    </tr>\n",
       "    <tr>\n",
       "      <th>2</th>\n",
       "      <td>70</td>\n",
       "      <td>1</td>\n",
       "      <td>36</td>\n",
       "      <td>36</td>\n",
       "      <td>4</td>\n",
       "      <td>citroen dyane</td>\n",
       "      <td>citroen</td>\n",
       "      <td>dyane</td>\n",
       "      <td>1</td>\n",
       "      <td>3</td>\n",
       "      <td>...</td>\n",
       "      <td>0</td>\n",
       "      <td>0</td>\n",
       "      <td>0</td>\n",
       "      <td>0</td>\n",
       "      <td>0</td>\n",
       "      <td>0</td>\n",
       "      <td>0</td>\n",
       "      <td>0</td>\n",
       "      <td>0</td>\n",
       "      <td>0</td>\n",
       "    </tr>\n",
       "    <tr>\n",
       "      <th>3</th>\n",
       "      <td>70</td>\n",
       "      <td>1</td>\n",
       "      <td>64</td>\n",
       "      <td>67</td>\n",
       "      <td>7</td>\n",
       "      <td>fiat 128</td>\n",
       "      <td>fiat</td>\n",
       "      <td>128</td>\n",
       "      <td>3</td>\n",
       "      <td>5</td>\n",
       "      <td>...</td>\n",
       "      <td>0</td>\n",
       "      <td>0</td>\n",
       "      <td>0</td>\n",
       "      <td>0</td>\n",
       "      <td>0</td>\n",
       "      <td>0</td>\n",
       "      <td>0</td>\n",
       "      <td>0</td>\n",
       "      <td>0</td>\n",
       "      <td>0</td>\n",
       "    </tr>\n",
       "    <tr>\n",
       "      <th>4</th>\n",
       "      <td>70</td>\n",
       "      <td>1</td>\n",
       "      <td>71</td>\n",
       "      <td>80</td>\n",
       "      <td>8</td>\n",
       "      <td>ford escort</td>\n",
       "      <td>ford</td>\n",
       "      <td>escort</td>\n",
       "      <td>2</td>\n",
       "      <td>4</td>\n",
       "      <td>...</td>\n",
       "      <td>0</td>\n",
       "      <td>0</td>\n",
       "      <td>0</td>\n",
       "      <td>0</td>\n",
       "      <td>0</td>\n",
       "      <td>0</td>\n",
       "      <td>0</td>\n",
       "      <td>0</td>\n",
       "      <td>0</td>\n",
       "      <td>0</td>\n",
       "    </tr>\n",
       "    <tr>\n",
       "      <th>5</th>\n",
       "      <td>70</td>\n",
       "      <td>1</td>\n",
       "      <td>134</td>\n",
       "      <td>159</td>\n",
       "      <td>16</td>\n",
       "      <td>mercedes 200-300</td>\n",
       "      <td>mercedes</td>\n",
       "      <td>200</td>\n",
       "      <td>2</td>\n",
       "      <td>4</td>\n",
       "      <td>...</td>\n",
       "      <td>0</td>\n",
       "      <td>0</td>\n",
       "      <td>0</td>\n",
       "      <td>0</td>\n",
       "      <td>0</td>\n",
       "      <td>0</td>\n",
       "      <td>0</td>\n",
       "      <td>0</td>\n",
       "      <td>0</td>\n",
       "      <td>0</td>\n",
       "    </tr>\n",
       "    <tr>\n",
       "      <th>6</th>\n",
       "      <td>70</td>\n",
       "      <td>1</td>\n",
       "      <td>165</td>\n",
       "      <td>197</td>\n",
       "      <td>19</td>\n",
       "      <td>opel kadett</td>\n",
       "      <td>opel</td>\n",
       "      <td>kadet</td>\n",
       "      <td>2</td>\n",
       "      <td>4</td>\n",
       "      <td>...</td>\n",
       "      <td>0</td>\n",
       "      <td>0</td>\n",
       "      <td>0</td>\n",
       "      <td>0</td>\n",
       "      <td>0</td>\n",
       "      <td>0</td>\n",
       "      <td>0</td>\n",
       "      <td>0</td>\n",
       "      <td>0</td>\n",
       "      <td>0</td>\n",
       "    </tr>\n",
       "    <tr>\n",
       "      <th>7</th>\n",
       "      <td>70</td>\n",
       "      <td>1</td>\n",
       "      <td>172</td>\n",
       "      <td>194</td>\n",
       "      <td>19</td>\n",
       "      <td>opel rekord</td>\n",
       "      <td>opel</td>\n",
       "      <td>record</td>\n",
       "      <td>2</td>\n",
       "      <td>4</td>\n",
       "      <td>...</td>\n",
       "      <td>0</td>\n",
       "      <td>0</td>\n",
       "      <td>0</td>\n",
       "      <td>0</td>\n",
       "      <td>0</td>\n",
       "      <td>0</td>\n",
       "      <td>0</td>\n",
       "      <td>0</td>\n",
       "      <td>0</td>\n",
       "      <td>0</td>\n",
       "    </tr>\n",
       "    <tr>\n",
       "      <th>8</th>\n",
       "      <td>70</td>\n",
       "      <td>1</td>\n",
       "      <td>186</td>\n",
       "      <td>202</td>\n",
       "      <td>20</td>\n",
       "      <td>peugeot 504</td>\n",
       "      <td>peugeot</td>\n",
       "      <td>504</td>\n",
       "      <td>1</td>\n",
       "      <td>3</td>\n",
       "      <td>...</td>\n",
       "      <td>0</td>\n",
       "      <td>0</td>\n",
       "      <td>0</td>\n",
       "      <td>0</td>\n",
       "      <td>0</td>\n",
       "      <td>0</td>\n",
       "      <td>0</td>\n",
       "      <td>0</td>\n",
       "      <td>0</td>\n",
       "      <td>0</td>\n",
       "    </tr>\n",
       "    <tr>\n",
       "      <th>9</th>\n",
       "      <td>70</td>\n",
       "      <td>1</td>\n",
       "      <td>187</td>\n",
       "      <td>207</td>\n",
       "      <td>20</td>\n",
       "      <td>peugeot 304</td>\n",
       "      <td>peugeot</td>\n",
       "      <td>304</td>\n",
       "      <td>1</td>\n",
       "      <td>3</td>\n",
       "      <td>...</td>\n",
       "      <td>0</td>\n",
       "      <td>0</td>\n",
       "      <td>0</td>\n",
       "      <td>0</td>\n",
       "      <td>0</td>\n",
       "      <td>0</td>\n",
       "      <td>0</td>\n",
       "      <td>0</td>\n",
       "      <td>0</td>\n",
       "      <td>0</td>\n",
       "    </tr>\n",
       "    <tr>\n",
       "      <th>10</th>\n",
       "      <td>70</td>\n",
       "      <td>1</td>\n",
       "      <td>196</td>\n",
       "      <td>227</td>\n",
       "      <td>22</td>\n",
       "      <td>renault 4</td>\n",
       "      <td>renault</td>\n",
       "      <td>4</td>\n",
       "      <td>1</td>\n",
       "      <td>3</td>\n",
       "      <td>...</td>\n",
       "      <td>0</td>\n",
       "      <td>0</td>\n",
       "      <td>0</td>\n",
       "      <td>0</td>\n",
       "      <td>0</td>\n",
       "      <td>0</td>\n",
       "      <td>0</td>\n",
       "      <td>0</td>\n",
       "      <td>0</td>\n",
       "      <td>0</td>\n",
       "    </tr>\n",
       "    <tr>\n",
       "      <th>11</th>\n",
       "      <td>70</td>\n",
       "      <td>1</td>\n",
       "      <td>212</td>\n",
       "      <td>337</td>\n",
       "      <td>22</td>\n",
       "      <td>renault 16</td>\n",
       "      <td>renault</td>\n",
       "      <td>16</td>\n",
       "      <td>1</td>\n",
       "      <td>3</td>\n",
       "      <td>...</td>\n",
       "      <td>0</td>\n",
       "      <td>0</td>\n",
       "      <td>0</td>\n",
       "      <td>0</td>\n",
       "      <td>0</td>\n",
       "      <td>0</td>\n",
       "      <td>0</td>\n",
       "      <td>0</td>\n",
       "      <td>0</td>\n",
       "      <td>0</td>\n",
       "    </tr>\n",
       "    <tr>\n",
       "      <th>12</th>\n",
       "      <td>70</td>\n",
       "      <td>1</td>\n",
       "      <td>213</td>\n",
       "      <td>338</td>\n",
       "      <td>22</td>\n",
       "      <td>renault 6</td>\n",
       "      <td>renault</td>\n",
       "      <td>6</td>\n",
       "      <td>1</td>\n",
       "      <td>3</td>\n",
       "      <td>...</td>\n",
       "      <td>0</td>\n",
       "      <td>0</td>\n",
       "      <td>0</td>\n",
       "      <td>0</td>\n",
       "      <td>0</td>\n",
       "      <td>0</td>\n",
       "      <td>0</td>\n",
       "      <td>0</td>\n",
       "      <td>0</td>\n",
       "      <td>0</td>\n",
       "    </tr>\n",
       "    <tr>\n",
       "      <th>13</th>\n",
       "      <td>70</td>\n",
       "      <td>1</td>\n",
       "      <td>214</td>\n",
       "      <td>319</td>\n",
       "      <td>22</td>\n",
       "      <td>renault 12</td>\n",
       "      <td>renault</td>\n",
       "      <td>12</td>\n",
       "      <td>1</td>\n",
       "      <td>3</td>\n",
       "      <td>...</td>\n",
       "      <td>0</td>\n",
       "      <td>0</td>\n",
       "      <td>0</td>\n",
       "      <td>0</td>\n",
       "      <td>0</td>\n",
       "      <td>0</td>\n",
       "      <td>0</td>\n",
       "      <td>0</td>\n",
       "      <td>0</td>\n",
       "      <td>0</td>\n",
       "    </tr>\n",
       "    <tr>\n",
       "      <th>14</th>\n",
       "      <td>70</td>\n",
       "      <td>1</td>\n",
       "      <td>217</td>\n",
       "      <td>242</td>\n",
       "      <td>36</td>\n",
       "      <td>rover mini</td>\n",
       "      <td>rover</td>\n",
       "      <td>mini</td>\n",
       "      <td>7</td>\n",
       "      <td>12</td>\n",
       "      <td>...</td>\n",
       "      <td>0</td>\n",
       "      <td>0</td>\n",
       "      <td>0</td>\n",
       "      <td>0</td>\n",
       "      <td>0</td>\n",
       "      <td>0</td>\n",
       "      <td>0</td>\n",
       "      <td>0</td>\n",
       "      <td>0</td>\n",
       "      <td>0</td>\n",
       "    </tr>\n",
       "    <tr>\n",
       "      <th>15</th>\n",
       "      <td>70</td>\n",
       "      <td>1</td>\n",
       "      <td>269</td>\n",
       "      <td>284</td>\n",
       "      <td>29</td>\n",
       "      <td>toyota corolla</td>\n",
       "      <td>toyota</td>\n",
       "      <td>corolla</td>\n",
       "      <td>4</td>\n",
       "      <td>6</td>\n",
       "      <td>...</td>\n",
       "      <td>0</td>\n",
       "      <td>0</td>\n",
       "      <td>0</td>\n",
       "      <td>0</td>\n",
       "      <td>0</td>\n",
       "      <td>0</td>\n",
       "      <td>0</td>\n",
       "      <td>0</td>\n",
       "      <td>1</td>\n",
       "      <td>0</td>\n",
       "    </tr>\n",
       "    <tr>\n",
       "      <th>16</th>\n",
       "      <td>70</td>\n",
       "      <td>1</td>\n",
       "      <td>291</td>\n",
       "      <td>305</td>\n",
       "      <td>30</td>\n",
       "      <td>volkswagen coccinelle-beetle,1200</td>\n",
       "      <td>VW</td>\n",
       "      <td>kaefer</td>\n",
       "      <td>6</td>\n",
       "      <td>4</td>\n",
       "      <td>...</td>\n",
       "      <td>0</td>\n",
       "      <td>0</td>\n",
       "      <td>0</td>\n",
       "      <td>0</td>\n",
       "      <td>0</td>\n",
       "      <td>0</td>\n",
       "      <td>0</td>\n",
       "      <td>0</td>\n",
       "      <td>0</td>\n",
       "      <td>0</td>\n",
       "    </tr>\n",
       "    <tr>\n",
       "      <th>17</th>\n",
       "      <td>70</td>\n",
       "      <td>1</td>\n",
       "      <td>406</td>\n",
       "      <td>15</td>\n",
       "      <td>2</td>\n",
       "      <td>audi 60-75</td>\n",
       "      <td>audi</td>\n",
       "      <td>60-75</td>\n",
       "      <td>2</td>\n",
       "      <td>4</td>\n",
       "      <td>...</td>\n",
       "      <td>0</td>\n",
       "      <td>0</td>\n",
       "      <td>0</td>\n",
       "      <td>0</td>\n",
       "      <td>0</td>\n",
       "      <td>0</td>\n",
       "      <td>0</td>\n",
       "      <td>0</td>\n",
       "      <td>0</td>\n",
       "      <td>0</td>\n",
       "    </tr>\n",
       "    <tr>\n",
       "      <th>18</th>\n",
       "      <td>70</td>\n",
       "      <td>1</td>\n",
       "      <td>407</td>\n",
       "      <td>360</td>\n",
       "      <td>2</td>\n",
       "      <td>audi prinz 1000-1200</td>\n",
       "      <td>audi</td>\n",
       "      <td>prinz1000</td>\n",
       "      <td>2</td>\n",
       "      <td>4</td>\n",
       "      <td>...</td>\n",
       "      <td>0</td>\n",
       "      <td>0</td>\n",
       "      <td>0</td>\n",
       "      <td>0</td>\n",
       "      <td>0</td>\n",
       "      <td>0</td>\n",
       "      <td>0</td>\n",
       "      <td>0</td>\n",
       "      <td>0</td>\n",
       "      <td>0</td>\n",
       "    </tr>\n",
       "    <tr>\n",
       "      <th>19</th>\n",
       "      <td>70</td>\n",
       "      <td>1</td>\n",
       "      <td>410</td>\n",
       "      <td>363</td>\n",
       "      <td>3</td>\n",
       "      <td>BMW 1502-1600-1602-1802</td>\n",
       "      <td>BMW</td>\n",
       "      <td>1502</td>\n",
       "      <td>2</td>\n",
       "      <td>4</td>\n",
       "      <td>...</td>\n",
       "      <td>0</td>\n",
       "      <td>0</td>\n",
       "      <td>0</td>\n",
       "      <td>0</td>\n",
       "      <td>0</td>\n",
       "      <td>0</td>\n",
       "      <td>0</td>\n",
       "      <td>0</td>\n",
       "      <td>0</td>\n",
       "      <td>0</td>\n",
       "    </tr>\n",
       "    <tr>\n",
       "      <th>20</th>\n",
       "      <td>70</td>\n",
       "      <td>1</td>\n",
       "      <td>412</td>\n",
       "      <td>17</td>\n",
       "      <td>3</td>\n",
       "      <td>BMW 2002</td>\n",
       "      <td>BMW</td>\n",
       "      <td>2002</td>\n",
       "      <td>2</td>\n",
       "      <td>4</td>\n",
       "      <td>...</td>\n",
       "      <td>0</td>\n",
       "      <td>0</td>\n",
       "      <td>0</td>\n",
       "      <td>0</td>\n",
       "      <td>0</td>\n",
       "      <td>0</td>\n",
       "      <td>0</td>\n",
       "      <td>0</td>\n",
       "      <td>0</td>\n",
       "      <td>0</td>\n",
       "    </tr>\n",
       "    <tr>\n",
       "      <th>21</th>\n",
       "      <td>70</td>\n",
       "      <td>1</td>\n",
       "      <td>417</td>\n",
       "      <td>31</td>\n",
       "      <td>4</td>\n",
       "      <td>citroen ami</td>\n",
       "      <td>citroen</td>\n",
       "      <td>ami</td>\n",
       "      <td>1</td>\n",
       "      <td>3</td>\n",
       "      <td>...</td>\n",
       "      <td>0</td>\n",
       "      <td>0</td>\n",
       "      <td>0</td>\n",
       "      <td>0</td>\n",
       "      <td>0</td>\n",
       "      <td>0</td>\n",
       "      <td>0</td>\n",
       "      <td>0</td>\n",
       "      <td>0</td>\n",
       "      <td>0</td>\n",
       "    </tr>\n",
       "    <tr>\n",
       "      <th>22</th>\n",
       "      <td>70</td>\n",
       "      <td>1</td>\n",
       "      <td>418</td>\n",
       "      <td>366</td>\n",
       "      <td>4</td>\n",
       "      <td>citroen d-ds 20</td>\n",
       "      <td>citroen</td>\n",
       "      <td>d-ds 20</td>\n",
       "      <td>1</td>\n",
       "      <td>3</td>\n",
       "      <td>...</td>\n",
       "      <td>0</td>\n",
       "      <td>0</td>\n",
       "      <td>0</td>\n",
       "      <td>0</td>\n",
       "      <td>0</td>\n",
       "      <td>0</td>\n",
       "      <td>0</td>\n",
       "      <td>0</td>\n",
       "      <td>0</td>\n",
       "      <td>0</td>\n",
       "    </tr>\n",
       "    <tr>\n",
       "      <th>23</th>\n",
       "      <td>70</td>\n",
       "      <td>1</td>\n",
       "      <td>422</td>\n",
       "      <td>370</td>\n",
       "      <td>40</td>\n",
       "      <td>daf 33</td>\n",
       "      <td>daf</td>\n",
       "      <td>33</td>\n",
       "      <td>8</td>\n",
       "      <td>8</td>\n",
       "      <td>...</td>\n",
       "      <td>0</td>\n",
       "      <td>0</td>\n",
       "      <td>0</td>\n",
       "      <td>0</td>\n",
       "      <td>0</td>\n",
       "      <td>0</td>\n",
       "      <td>0</td>\n",
       "      <td>0</td>\n",
       "      <td>0</td>\n",
       "      <td>0</td>\n",
       "    </tr>\n",
       "    <tr>\n",
       "      <th>24</th>\n",
       "      <td>70</td>\n",
       "      <td>1</td>\n",
       "      <td>429</td>\n",
       "      <td>375</td>\n",
       "      <td>7</td>\n",
       "      <td>fiat 124</td>\n",
       "      <td>fiat</td>\n",
       "      <td>124</td>\n",
       "      <td>3</td>\n",
       "      <td>5</td>\n",
       "      <td>...</td>\n",
       "      <td>0</td>\n",
       "      <td>0</td>\n",
       "      <td>0</td>\n",
       "      <td>0</td>\n",
       "      <td>0</td>\n",
       "      <td>0</td>\n",
       "      <td>0</td>\n",
       "      <td>0</td>\n",
       "      <td>0</td>\n",
       "      <td>0</td>\n",
       "    </tr>\n",
       "    <tr>\n",
       "      <th>25</th>\n",
       "      <td>70</td>\n",
       "      <td>1</td>\n",
       "      <td>430</td>\n",
       "      <td>375</td>\n",
       "      <td>7</td>\n",
       "      <td>fiat 124 spec/sport</td>\n",
       "      <td>fiat</td>\n",
       "      <td>124 S</td>\n",
       "      <td>3</td>\n",
       "      <td>5</td>\n",
       "      <td>...</td>\n",
       "      <td>0</td>\n",
       "      <td>0</td>\n",
       "      <td>0</td>\n",
       "      <td>0</td>\n",
       "      <td>0</td>\n",
       "      <td>0</td>\n",
       "      <td>0</td>\n",
       "      <td>0</td>\n",
       "      <td>0</td>\n",
       "      <td>0</td>\n",
       "    </tr>\n",
       "    <tr>\n",
       "      <th>26</th>\n",
       "      <td>70</td>\n",
       "      <td>1</td>\n",
       "      <td>431</td>\n",
       "      <td>376</td>\n",
       "      <td>7</td>\n",
       "      <td>fiat 125-125S</td>\n",
       "      <td>fiat</td>\n",
       "      <td>125</td>\n",
       "      <td>3</td>\n",
       "      <td>5</td>\n",
       "      <td>...</td>\n",
       "      <td>0</td>\n",
       "      <td>0</td>\n",
       "      <td>0</td>\n",
       "      <td>0</td>\n",
       "      <td>0</td>\n",
       "      <td>0</td>\n",
       "      <td>0</td>\n",
       "      <td>0</td>\n",
       "      <td>0</td>\n",
       "      <td>0</td>\n",
       "    </tr>\n",
       "    <tr>\n",
       "      <th>27</th>\n",
       "      <td>70</td>\n",
       "      <td>1</td>\n",
       "      <td>435</td>\n",
       "      <td>379</td>\n",
       "      <td>7</td>\n",
       "      <td>fiat 850</td>\n",
       "      <td>fiat</td>\n",
       "      <td>850</td>\n",
       "      <td>3</td>\n",
       "      <td>5</td>\n",
       "      <td>...</td>\n",
       "      <td>0</td>\n",
       "      <td>0</td>\n",
       "      <td>0</td>\n",
       "      <td>0</td>\n",
       "      <td>0</td>\n",
       "      <td>0</td>\n",
       "      <td>0</td>\n",
       "      <td>0</td>\n",
       "      <td>0</td>\n",
       "      <td>0</td>\n",
       "    </tr>\n",
       "    <tr>\n",
       "      <th>28</th>\n",
       "      <td>70</td>\n",
       "      <td>1</td>\n",
       "      <td>437</td>\n",
       "      <td>79</td>\n",
       "      <td>8</td>\n",
       "      <td>ford 12-15M</td>\n",
       "      <td>ford</td>\n",
       "      <td>12-15M</td>\n",
       "      <td>2</td>\n",
       "      <td>4</td>\n",
       "      <td>...</td>\n",
       "      <td>0</td>\n",
       "      <td>0</td>\n",
       "      <td>0</td>\n",
       "      <td>0</td>\n",
       "      <td>0</td>\n",
       "      <td>0</td>\n",
       "      <td>0</td>\n",
       "      <td>0</td>\n",
       "      <td>0</td>\n",
       "      <td>0</td>\n",
       "    </tr>\n",
       "    <tr>\n",
       "      <th>29</th>\n",
       "      <td>70</td>\n",
       "      <td>1</td>\n",
       "      <td>439</td>\n",
       "      <td>78</td>\n",
       "      <td>8</td>\n",
       "      <td>ford 20-26M</td>\n",
       "      <td>ford</td>\n",
       "      <td>20-26M</td>\n",
       "      <td>2</td>\n",
       "      <td>4</td>\n",
       "      <td>...</td>\n",
       "      <td>0</td>\n",
       "      <td>0</td>\n",
       "      <td>0</td>\n",
       "      <td>0</td>\n",
       "      <td>0</td>\n",
       "      <td>0</td>\n",
       "      <td>0</td>\n",
       "      <td>0</td>\n",
       "      <td>0</td>\n",
       "      <td>0</td>\n",
       "    </tr>\n",
       "    <tr>\n",
       "      <th>30</th>\n",
       "      <td>70</td>\n",
       "      <td>1</td>\n",
       "      <td>468</td>\n",
       "      <td>187</td>\n",
       "      <td>18</td>\n",
       "      <td>nissan/datsun 1000</td>\n",
       "      <td>nissan</td>\n",
       "      <td>1000</td>\n",
       "      <td>4</td>\n",
       "      <td>6</td>\n",
       "      <td>...</td>\n",
       "      <td>0</td>\n",
       "      <td>0</td>\n",
       "      <td>0</td>\n",
       "      <td>0</td>\n",
       "      <td>0</td>\n",
       "      <td>0</td>\n",
       "      <td>0</td>\n",
       "      <td>0</td>\n",
       "      <td>0</td>\n",
       "      <td>0</td>\n",
       "    </tr>\n",
       "    <tr>\n",
       "      <th>31</th>\n",
       "      <td>70</td>\n",
       "      <td>1</td>\n",
       "      <td>488</td>\n",
       "      <td>418</td>\n",
       "      <td>19</td>\n",
       "      <td>opel/vxhall viva/firenze/magnum</td>\n",
       "      <td>opel</td>\n",
       "      <td>viva</td>\n",
       "      <td>2</td>\n",
       "      <td>12</td>\n",
       "      <td>...</td>\n",
       "      <td>0</td>\n",
       "      <td>0</td>\n",
       "      <td>0</td>\n",
       "      <td>0</td>\n",
       "      <td>0</td>\n",
       "      <td>0</td>\n",
       "      <td>0</td>\n",
       "      <td>0</td>\n",
       "      <td>0</td>\n",
       "      <td>0</td>\n",
       "    </tr>\n",
       "    <tr>\n",
       "      <th>32</th>\n",
       "      <td>70</td>\n",
       "      <td>1</td>\n",
       "      <td>490</td>\n",
       "      <td>420</td>\n",
       "      <td>20</td>\n",
       "      <td>peugeot 204</td>\n",
       "      <td>peugeot</td>\n",
       "      <td>204</td>\n",
       "      <td>1</td>\n",
       "      <td>3</td>\n",
       "      <td>...</td>\n",
       "      <td>0</td>\n",
       "      <td>0</td>\n",
       "      <td>0</td>\n",
       "      <td>0</td>\n",
       "      <td>0</td>\n",
       "      <td>0</td>\n",
       "      <td>0</td>\n",
       "      <td>0</td>\n",
       "      <td>0</td>\n",
       "      <td>0</td>\n",
       "    </tr>\n",
       "    <tr>\n",
       "      <th>33</th>\n",
       "      <td>70</td>\n",
       "      <td>1</td>\n",
       "      <td>491</td>\n",
       "      <td>421</td>\n",
       "      <td>20</td>\n",
       "      <td>peugeot 404</td>\n",
       "      <td>peugeot</td>\n",
       "      <td>404</td>\n",
       "      <td>1</td>\n",
       "      <td>3</td>\n",
       "      <td>...</td>\n",
       "      <td>0</td>\n",
       "      <td>0</td>\n",
       "      <td>0</td>\n",
       "      <td>0</td>\n",
       "      <td>0</td>\n",
       "      <td>0</td>\n",
       "      <td>0</td>\n",
       "      <td>0</td>\n",
       "      <td>0</td>\n",
       "      <td>0</td>\n",
       "    </tr>\n",
       "    <tr>\n",
       "      <th>34</th>\n",
       "      <td>70</td>\n",
       "      <td>1</td>\n",
       "      <td>497</td>\n",
       "      <td>426</td>\n",
       "      <td>22</td>\n",
       "      <td>renault 8-10</td>\n",
       "      <td>renault</td>\n",
       "      <td>8-10</td>\n",
       "      <td>1</td>\n",
       "      <td>3</td>\n",
       "      <td>...</td>\n",
       "      <td>0</td>\n",
       "      <td>0</td>\n",
       "      <td>0</td>\n",
       "      <td>0</td>\n",
       "      <td>0</td>\n",
       "      <td>0</td>\n",
       "      <td>0</td>\n",
       "      <td>0</td>\n",
       "      <td>0</td>\n",
       "      <td>0</td>\n",
       "    </tr>\n",
       "    <tr>\n",
       "      <th>35</th>\n",
       "      <td>70</td>\n",
       "      <td>1</td>\n",
       "      <td>521</td>\n",
       "      <td>446</td>\n",
       "      <td>46</td>\n",
       "      <td>talbot/simca 1000</td>\n",
       "      <td>tal/simca</td>\n",
       "      <td>1000</td>\n",
       "      <td>1</td>\n",
       "      <td>3</td>\n",
       "      <td>...</td>\n",
       "      <td>0</td>\n",
       "      <td>0</td>\n",
       "      <td>0</td>\n",
       "      <td>0</td>\n",
       "      <td>0</td>\n",
       "      <td>1</td>\n",
       "      <td>0</td>\n",
       "      <td>0</td>\n",
       "      <td>0</td>\n",
       "      <td>0</td>\n",
       "    </tr>\n",
       "    <tr>\n",
       "      <th>36</th>\n",
       "      <td>70</td>\n",
       "      <td>1</td>\n",
       "      <td>524</td>\n",
       "      <td>448</td>\n",
       "      <td>46</td>\n",
       "      <td>talbot/simca 1301-1501</td>\n",
       "      <td>tal/simca</td>\n",
       "      <td>1301</td>\n",
       "      <td>1</td>\n",
       "      <td>3</td>\n",
       "      <td>...</td>\n",
       "      <td>0</td>\n",
       "      <td>0</td>\n",
       "      <td>0</td>\n",
       "      <td>0</td>\n",
       "      <td>0</td>\n",
       "      <td>1</td>\n",
       "      <td>0</td>\n",
       "      <td>0</td>\n",
       "      <td>0</td>\n",
       "      <td>0</td>\n",
       "    </tr>\n",
       "    <tr>\n",
       "      <th>37</th>\n",
       "      <td>70</td>\n",
       "      <td>1</td>\n",
       "      <td>536</td>\n",
       "      <td>301</td>\n",
       "      <td>30</td>\n",
       "      <td>volkswagen berl/1600</td>\n",
       "      <td>VW</td>\n",
       "      <td>berline</td>\n",
       "      <td>6</td>\n",
       "      <td>4</td>\n",
       "      <td>...</td>\n",
       "      <td>0</td>\n",
       "      <td>0</td>\n",
       "      <td>0</td>\n",
       "      <td>0</td>\n",
       "      <td>0</td>\n",
       "      <td>0</td>\n",
       "      <td>0</td>\n",
       "      <td>0</td>\n",
       "      <td>0</td>\n",
       "      <td>0</td>\n",
       "    </tr>\n",
       "    <tr>\n",
       "      <th>38</th>\n",
       "      <td>70</td>\n",
       "      <td>1</td>\n",
       "      <td>541</td>\n",
       "      <td>293</td>\n",
       "      <td>31</td>\n",
       "      <td>volvo 140</td>\n",
       "      <td>volvo</td>\n",
       "      <td>140</td>\n",
       "      <td>6</td>\n",
       "      <td>11</td>\n",
       "      <td>...</td>\n",
       "      <td>0</td>\n",
       "      <td>0</td>\n",
       "      <td>0</td>\n",
       "      <td>0</td>\n",
       "      <td>0</td>\n",
       "      <td>0</td>\n",
       "      <td>0</td>\n",
       "      <td>0</td>\n",
       "      <td>0</td>\n",
       "      <td>1</td>\n",
       "    </tr>\n",
       "    <tr>\n",
       "      <th>39</th>\n",
       "      <td>70</td>\n",
       "      <td>1</td>\n",
       "      <td>544</td>\n",
       "      <td>386</td>\n",
       "      <td>8</td>\n",
       "      <td>ford 17M</td>\n",
       "      <td>ford</td>\n",
       "      <td>17M</td>\n",
       "      <td>2</td>\n",
       "      <td>4</td>\n",
       "      <td>...</td>\n",
       "      <td>0</td>\n",
       "      <td>0</td>\n",
       "      <td>0</td>\n",
       "      <td>0</td>\n",
       "      <td>0</td>\n",
       "      <td>0</td>\n",
       "      <td>0</td>\n",
       "      <td>0</td>\n",
       "      <td>0</td>\n",
       "      <td>0</td>\n",
       "    </tr>\n",
       "  </tbody>\n",
       "</table>\n",
       "<p>40 rows × 85 columns</p>\n",
       "</div>"
      ],
      "text/plain": [
       "    ye  ma   co  zcode  brd                               type      brand  \\\n",
       "0   70   1   15     14    2                       audi 100/200       audi   \n",
       "1   70   1   26     35    4            citroen 2 CV 6 - 2 CV 4    citroen   \n",
       "2   70   1   36     36    4                      citroen dyane    citroen   \n",
       "3   70   1   64     67    7                           fiat 128       fiat   \n",
       "4   70   1   71     80    8                        ford escort       ford   \n",
       "5   70   1  134    159   16                   mercedes 200-300   mercedes   \n",
       "6   70   1  165    197   19                        opel kadett       opel   \n",
       "7   70   1  172    194   19                        opel rekord       opel   \n",
       "8   70   1  186    202   20                        peugeot 504    peugeot   \n",
       "9   70   1  187    207   20                        peugeot 304    peugeot   \n",
       "10  70   1  196    227   22                          renault 4    renault   \n",
       "11  70   1  212    337   22                         renault 16    renault   \n",
       "12  70   1  213    338   22                          renault 6    renault   \n",
       "13  70   1  214    319   22                         renault 12    renault   \n",
       "14  70   1  217    242   36                         rover mini      rover   \n",
       "15  70   1  269    284   29                     toyota corolla     toyota   \n",
       "16  70   1  291    305   30  volkswagen coccinelle-beetle,1200         VW   \n",
       "17  70   1  406     15    2                         audi 60-75       audi   \n",
       "18  70   1  407    360    2               audi prinz 1000-1200       audi   \n",
       "19  70   1  410    363    3            BMW 1502-1600-1602-1802        BMW   \n",
       "20  70   1  412     17    3                           BMW 2002        BMW   \n",
       "21  70   1  417     31    4                        citroen ami    citroen   \n",
       "22  70   1  418    366    4                    citroen d-ds 20    citroen   \n",
       "23  70   1  422    370   40                             daf 33        daf   \n",
       "24  70   1  429    375    7                           fiat 124       fiat   \n",
       "25  70   1  430    375    7                fiat 124 spec/sport       fiat   \n",
       "26  70   1  431    376    7                      fiat 125-125S       fiat   \n",
       "27  70   1  435    379    7                           fiat 850       fiat   \n",
       "28  70   1  437     79    8                        ford 12-15M       ford   \n",
       "29  70   1  439     78    8                        ford 20-26M       ford   \n",
       "30  70   1  468    187   18                 nissan/datsun 1000     nissan   \n",
       "31  70   1  488    418   19    opel/vxhall viva/firenze/magnum       opel   \n",
       "32  70   1  490    420   20                        peugeot 204    peugeot   \n",
       "33  70   1  491    421   20                        peugeot 404    peugeot   \n",
       "34  70   1  497    426   22                       renault 8-10    renault   \n",
       "35  70   1  521    446   46                  talbot/simca 1000  tal/simca   \n",
       "36  70   1  524    448   46             talbot/simca 1301-1501  tal/simca   \n",
       "37  70   1  536    301   30               volkswagen berl/1600         VW   \n",
       "38  70   1  541    293   31                          volvo 140      volvo   \n",
       "39  70   1  544    386    8                           ford 17M       ford   \n",
       "\n",
       "        model  org  loc  ...  seat  skoda  suzuki  tal/hillman  tal/matra  \\\n",
       "0     100/200    2    4  ...     0      0       0            0          0   \n",
       "1        2CV6    1    3  ...     0      0       0            0          0   \n",
       "2       dyane    1    3  ...     0      0       0            0          0   \n",
       "3         128    3    5  ...     0      0       0            0          0   \n",
       "4      escort    2    4  ...     0      0       0            0          0   \n",
       "5         200    2    4  ...     0      0       0            0          0   \n",
       "6       kadet    2    4  ...     0      0       0            0          0   \n",
       "7      record    2    4  ...     0      0       0            0          0   \n",
       "8         504    1    3  ...     0      0       0            0          0   \n",
       "9         304    1    3  ...     0      0       0            0          0   \n",
       "10          4    1    3  ...     0      0       0            0          0   \n",
       "11         16    1    3  ...     0      0       0            0          0   \n",
       "12          6    1    3  ...     0      0       0            0          0   \n",
       "13         12    1    3  ...     0      0       0            0          0   \n",
       "14       mini    7   12  ...     0      0       0            0          0   \n",
       "15    corolla    4    6  ...     0      0       0            0          0   \n",
       "16     kaefer    6    4  ...     0      0       0            0          0   \n",
       "17      60-75    2    4  ...     0      0       0            0          0   \n",
       "18  prinz1000    2    4  ...     0      0       0            0          0   \n",
       "19       1502    2    4  ...     0      0       0            0          0   \n",
       "20       2002    2    4  ...     0      0       0            0          0   \n",
       "21        ami    1    3  ...     0      0       0            0          0   \n",
       "22    d-ds 20    1    3  ...     0      0       0            0          0   \n",
       "23         33    8    8  ...     0      0       0            0          0   \n",
       "24        124    3    5  ...     0      0       0            0          0   \n",
       "25      124 S    3    5  ...     0      0       0            0          0   \n",
       "26        125    3    5  ...     0      0       0            0          0   \n",
       "27        850    3    5  ...     0      0       0            0          0   \n",
       "28     12-15M    2    4  ...     0      0       0            0          0   \n",
       "29     20-26M    2    4  ...     0      0       0            0          0   \n",
       "30       1000    4    6  ...     0      0       0            0          0   \n",
       "31       viva    2   12  ...     0      0       0            0          0   \n",
       "32        204    1    3  ...     0      0       0            0          0   \n",
       "33        404    1    3  ...     0      0       0            0          0   \n",
       "34       8-10    1    3  ...     0      0       0            0          0   \n",
       "35       1000    1    3  ...     0      0       0            0          0   \n",
       "36       1301    1    3  ...     0      0       0            0          0   \n",
       "37    berline    6    4  ...     0      0       0            0          0   \n",
       "38        140    6   11  ...     0      0       0            0          0   \n",
       "39        17M    2    4  ...     0      0       0            0          0   \n",
       "\n",
       "    tal/simca  tal/sunb  talbot  toyota  volvo  \n",
       "0           0         0       0       0      0  \n",
       "1           0         0       0       0      0  \n",
       "2           0         0       0       0      0  \n",
       "3           0         0       0       0      0  \n",
       "4           0         0       0       0      0  \n",
       "5           0         0       0       0      0  \n",
       "6           0         0       0       0      0  \n",
       "7           0         0       0       0      0  \n",
       "8           0         0       0       0      0  \n",
       "9           0         0       0       0      0  \n",
       "10          0         0       0       0      0  \n",
       "11          0         0       0       0      0  \n",
       "12          0         0       0       0      0  \n",
       "13          0         0       0       0      0  \n",
       "14          0         0       0       0      0  \n",
       "15          0         0       0       1      0  \n",
       "16          0         0       0       0      0  \n",
       "17          0         0       0       0      0  \n",
       "18          0         0       0       0      0  \n",
       "19          0         0       0       0      0  \n",
       "20          0         0       0       0      0  \n",
       "21          0         0       0       0      0  \n",
       "22          0         0       0       0      0  \n",
       "23          0         0       0       0      0  \n",
       "24          0         0       0       0      0  \n",
       "25          0         0       0       0      0  \n",
       "26          0         0       0       0      0  \n",
       "27          0         0       0       0      0  \n",
       "28          0         0       0       0      0  \n",
       "29          0         0       0       0      0  \n",
       "30          0         0       0       0      0  \n",
       "31          0         0       0       0      0  \n",
       "32          0         0       0       0      0  \n",
       "33          0         0       0       0      0  \n",
       "34          0         0       0       0      0  \n",
       "35          1         0       0       0      0  \n",
       "36          1         0       0       0      0  \n",
       "37          0         0       0       0      0  \n",
       "38          0         0       0       0      1  \n",
       "39          0         0       0       0      0  \n",
       "\n",
       "[40 rows x 85 columns]"
      ]
     },
     "execution_count": 182,
     "metadata": {},
     "output_type": "execute_result"
    }
   ],
   "source": [
    "belgium1970"
   ]
  },
  {
   "cell_type": "code",
   "execution_count": 183,
   "metadata": {},
   "outputs": [
    {
     "data": {
      "text/plain": [
       "0.9999999999999979"
      ]
     },
     "execution_count": 183,
     "metadata": {},
     "output_type": "execute_result"
    }
   ],
   "source": [
    "belgium1970['s'].sum() #The share of total sales for the top 40 most cars sum to one"
   ]
  },
  {
   "cell_type": "markdown",
   "metadata": {},
   "source": [
    "$$\n",
    "u_{i j h}=\\mathbf{x}_{i j} \\boldsymbol{\\beta}_o+\\varepsilon_{i j h}, \\quad j=1, \\ldots, J\n",
    "$$\n",
    "\n",
    "where: \n",
    "\n",
    "- $i$ is the $\\textit{country-year}$ pair\n",
    "- $j$ is the alternative car\n",
    "- $h$ is the household\n",
    "\n",
    "First off: Are we: \n",
    "\n",
    "    1. interested in the marginal utility of a car's characteristic (conditional logit) or \n",
    "    \n",
    "    2. the change in utility of car $j$ relative to car 1 given a change in household characteristics?\n",
    "\n",
    "In this assignment, we are examning home bias - that is the propensity to choose a car manufactured in the home country. We are therefore interested in 1) and will use a conditional logit model."
   ]
  },
  {
   "cell_type": "code",
   "execution_count": 184,
   "metadata": {},
   "outputs": [
    {
     "data": {
      "text/plain": [
       "array([[ True,  True,  True, ...,  True,  True,  True],\n",
       "       [ True,  True,  True, ...,  True,  True,  True],\n",
       "       [ True,  True,  True, ...,  True,  True,  True],\n",
       "       ...,\n",
       "       [ True,  True,  True, ...,  True,  True,  True],\n",
       "       [ True,  True,  True, ...,  True,  True,  True],\n",
       "       [ True,  True,  True, ...,  True,  True,  True]])"
      ]
     },
     "execution_count": 184,
     "metadata": {},
     "output_type": "execute_result"
    }
   ],
   "source": [
    "# Our conditional choice probabilities\n",
    "# For coefficients ('theta') starting at zero, these must be equal to zero\n",
    "# Intuition: No utility is gained by any car characteristics, thus market shares must be equal. Let's check this.\n",
    "theta_start = clogit.starting_values(y,x)\n",
    "ccp = clogit.choice_prob(theta_start, x)\n",
    "(ccp == 1/J) # all choice probs are equal to each other."
   ]
  },
  {
   "cell_type": "code",
   "execution_count": 185,
   "metadata": {},
   "outputs": [
    {
     "data": {
      "text/plain": [
       "array([1., 1., 1., 1., 1., 1., 1., 1., 1., 1., 1., 1., 1., 1., 1., 1., 1.,\n",
       "       1., 1., 1., 1., 1., 1., 1., 1., 1., 1., 1., 1., 1., 1., 1., 1., 1.,\n",
       "       1., 1., 1., 1., 1., 1., 1., 1., 1., 1., 1., 1., 1., 1., 1., 1., 1.,\n",
       "       1., 1., 1., 1., 1., 1., 1., 1., 1., 1., 1., 1., 1., 1., 1., 1., 1.,\n",
       "       1., 1., 1., 1., 1., 1., 1., 1., 1., 1., 1., 1., 1., 1., 1., 1., 1.,\n",
       "       1., 1., 1., 1., 1., 1., 1., 1., 1., 1., 1., 1., 1., 1., 1., 1., 1.,\n",
       "       1., 1., 1., 1., 1., 1., 1., 1., 1., 1., 1., 1., 1., 1., 1., 1., 1.,\n",
       "       1., 1., 1., 1., 1., 1., 1., 1., 1., 1., 1., 1., 1., 1., 1., 1., 1.,\n",
       "       1., 1., 1., 1., 1., 1., 1., 1., 1., 1., 1., 1., 1., 1.])"
      ]
     },
     "execution_count": 185,
     "metadata": {},
     "output_type": "execute_result"
    }
   ],
   "source": [
    "# In the first market-year, what are the choice-probs? (Given individuals place no weight on any car characteristics)\n",
    "ccp.sum(axis=1) #Summing over the columns J equal one. Goods"
   ]
  },
  {
   "cell_type": "code",
   "execution_count": 186,
   "metadata": {},
   "outputs": [
    {
     "name": "stdout",
     "output_type": "stream",
     "text": [
      "(150, 40)\n"
     ]
    },
    {
     "data": {
      "text/plain": [
       "array([0.025])"
      ]
     },
     "execution_count": 186,
     "metadata": {},
     "output_type": "execute_result"
    }
   ],
   "source": [
    "print(ccp.shape)\n",
    "np.unique(ccp) #Checking if we have any NaN"
   ]
  },
  {
   "cell_type": "code",
   "execution_count": 187,
   "metadata": {},
   "outputs": [
    {
     "data": {
      "text/html": [
       "<div>\n",
       "<style scoped>\n",
       "    .dataframe tbody tr th:only-of-type {\n",
       "        vertical-align: middle;\n",
       "    }\n",
       "\n",
       "    .dataframe tbody tr th {\n",
       "        vertical-align: top;\n",
       "    }\n",
       "\n",
       "    .dataframe thead th {\n",
       "        text-align: right;\n",
       "    }\n",
       "</style>\n",
       "<table border=\"1\" class=\"dataframe\">\n",
       "  <thead>\n",
       "    <tr style=\"text-align: right;\">\n",
       "      <th></th>\n",
       "      <th>logp</th>\n",
       "      <th>home</th>\n",
       "      <th>logp_x_home</th>\n",
       "      <th>cy</th>\n",
       "      <th>hp</th>\n",
       "      <th>we</th>\n",
       "      <th>li</th>\n",
       "      <th>he</th>\n",
       "      <th>MCC</th>\n",
       "      <th>VW</th>\n",
       "      <th>...</th>\n",
       "      <th>seat</th>\n",
       "      <th>skoda</th>\n",
       "      <th>suzuki</th>\n",
       "      <th>tal/hillman</th>\n",
       "      <th>tal/matra</th>\n",
       "      <th>tal/simca</th>\n",
       "      <th>tal/sunb</th>\n",
       "      <th>talbot</th>\n",
       "      <th>toyota</th>\n",
       "      <th>volvo</th>\n",
       "    </tr>\n",
       "  </thead>\n",
       "  <tbody>\n",
       "    <tr>\n",
       "      <th>0</th>\n",
       "      <td>-0.438650</td>\n",
       "      <td>0.0</td>\n",
       "      <td>-0.000000</td>\n",
       "      <td>1.3</td>\n",
       "      <td>0.63</td>\n",
       "      <td>0.940</td>\n",
       "      <td>7.8</td>\n",
       "      <td>135.0</td>\n",
       "      <td>0.0</td>\n",
       "      <td>0.0</td>\n",
       "      <td>...</td>\n",
       "      <td>0.0</td>\n",
       "      <td>0.0</td>\n",
       "      <td>0.0</td>\n",
       "      <td>0.0</td>\n",
       "      <td>0.0</td>\n",
       "      <td>0.0</td>\n",
       "      <td>0.0</td>\n",
       "      <td>0.0</td>\n",
       "      <td>0.0</td>\n",
       "      <td>0.0</td>\n",
       "    </tr>\n",
       "    <tr>\n",
       "      <th>1</th>\n",
       "      <td>-0.226922</td>\n",
       "      <td>0.0</td>\n",
       "      <td>-0.000000</td>\n",
       "      <td>1.8</td>\n",
       "      <td>0.66</td>\n",
       "      <td>1.050</td>\n",
       "      <td>7.6</td>\n",
       "      <td>139.5</td>\n",
       "      <td>0.0</td>\n",
       "      <td>0.0</td>\n",
       "      <td>...</td>\n",
       "      <td>0.0</td>\n",
       "      <td>0.0</td>\n",
       "      <td>0.0</td>\n",
       "      <td>0.0</td>\n",
       "      <td>0.0</td>\n",
       "      <td>0.0</td>\n",
       "      <td>0.0</td>\n",
       "      <td>0.0</td>\n",
       "      <td>0.0</td>\n",
       "      <td>0.0</td>\n",
       "    </tr>\n",
       "    <tr>\n",
       "      <th>2</th>\n",
       "      <td>-0.143563</td>\n",
       "      <td>0.0</td>\n",
       "      <td>-0.000000</td>\n",
       "      <td>1.6</td>\n",
       "      <td>0.75</td>\n",
       "      <td>1.080</td>\n",
       "      <td>8.5</td>\n",
       "      <td>138.0</td>\n",
       "      <td>0.0</td>\n",
       "      <td>0.0</td>\n",
       "      <td>...</td>\n",
       "      <td>0.0</td>\n",
       "      <td>0.0</td>\n",
       "      <td>0.0</td>\n",
       "      <td>0.0</td>\n",
       "      <td>0.0</td>\n",
       "      <td>0.0</td>\n",
       "      <td>0.0</td>\n",
       "      <td>0.0</td>\n",
       "      <td>0.0</td>\n",
       "      <td>0.0</td>\n",
       "    </tr>\n",
       "    <tr>\n",
       "      <th>3</th>\n",
       "      <td>0.407682</td>\n",
       "      <td>0.0</td>\n",
       "      <td>0.000000</td>\n",
       "      <td>2.0</td>\n",
       "      <td>1.10</td>\n",
       "      <td>1.425</td>\n",
       "      <td>9.8</td>\n",
       "      <td>141.0</td>\n",
       "      <td>0.0</td>\n",
       "      <td>0.0</td>\n",
       "      <td>...</td>\n",
       "      <td>0.0</td>\n",
       "      <td>0.0</td>\n",
       "      <td>0.0</td>\n",
       "      <td>0.0</td>\n",
       "      <td>0.0</td>\n",
       "      <td>0.0</td>\n",
       "      <td>0.0</td>\n",
       "      <td>0.0</td>\n",
       "      <td>0.0</td>\n",
       "      <td>0.0</td>\n",
       "    </tr>\n",
       "    <tr>\n",
       "      <th>4</th>\n",
       "      <td>-0.891653</td>\n",
       "      <td>1.0</td>\n",
       "      <td>-0.891653</td>\n",
       "      <td>1.0</td>\n",
       "      <td>0.33</td>\n",
       "      <td>0.640</td>\n",
       "      <td>5.0</td>\n",
       "      <td>135.5</td>\n",
       "      <td>0.0</td>\n",
       "      <td>0.0</td>\n",
       "      <td>...</td>\n",
       "      <td>0.0</td>\n",
       "      <td>0.0</td>\n",
       "      <td>0.0</td>\n",
       "      <td>0.0</td>\n",
       "      <td>0.0</td>\n",
       "      <td>0.0</td>\n",
       "      <td>0.0</td>\n",
       "      <td>0.0</td>\n",
       "      <td>0.0</td>\n",
       "      <td>0.0</td>\n",
       "    </tr>\n",
       "  </tbody>\n",
       "</table>\n",
       "<p>5 rows × 40 columns</p>\n",
       "</div>"
      ],
      "text/plain": [
       "       logp  home  logp_x_home   cy    hp     we   li     he  MCC   VW  ...  \\\n",
       "0 -0.438650   0.0    -0.000000  1.3  0.63  0.940  7.8  135.0  0.0  0.0  ...   \n",
       "1 -0.226922   0.0    -0.000000  1.8  0.66  1.050  7.6  139.5  0.0  0.0  ...   \n",
       "2 -0.143563   0.0    -0.000000  1.6  0.75  1.080  8.5  138.0  0.0  0.0  ...   \n",
       "3  0.407682   0.0     0.000000  2.0  1.10  1.425  9.8  141.0  0.0  0.0  ...   \n",
       "4 -0.891653   1.0    -0.891653  1.0  0.33  0.640  5.0  135.5  0.0  0.0  ...   \n",
       "\n",
       "   seat  skoda  suzuki  tal/hillman  tal/matra  tal/simca  tal/sunb  talbot  \\\n",
       "0   0.0    0.0     0.0          0.0        0.0        0.0       0.0     0.0   \n",
       "1   0.0    0.0     0.0          0.0        0.0        0.0       0.0     0.0   \n",
       "2   0.0    0.0     0.0          0.0        0.0        0.0       0.0     0.0   \n",
       "3   0.0    0.0     0.0          0.0        0.0        0.0       0.0     0.0   \n",
       "4   0.0    0.0     0.0          0.0        0.0        0.0       0.0     0.0   \n",
       "\n",
       "   toyota  volvo  \n",
       "0     0.0    0.0  \n",
       "1     0.0    0.0  \n",
       "2     0.0    0.0  \n",
       "3     0.0    0.0  \n",
       "4     0.0    0.0  \n",
       "\n",
       "[5 rows x 40 columns]"
      ]
     },
     "execution_count": 187,
     "metadata": {},
     "output_type": "execute_result"
    }
   ],
   "source": [
    "temp_df = pd.DataFrame(x[50]) #Looking at the 50th market-year\n",
    "temp_df.columns=x_vars\n",
    "temp_df.head()"
   ]
  },
  {
   "cell_type": "code",
   "execution_count": 188,
   "metadata": {},
   "outputs": [],
   "source": [
    "T=5\n",
    "y_ols = np.log(y).reshape((N*J),1)\n",
    "x_ols = np.hstack([np.ones((N*J,1)), x.reshape(N*J,K)])"
   ]
  },
  {
   "cell_type": "code",
   "execution_count": 189,
   "metadata": {},
   "outputs": [
    {
     "data": {
      "text/plain": [
       "(6000, 1)"
      ]
     },
     "execution_count": 189,
     "metadata": {},
     "output_type": "execute_result"
    }
   ],
   "source": [
    "y_ols.shape"
   ]
  },
  {
   "cell_type": "code",
   "execution_count": 190,
   "metadata": {},
   "outputs": [],
   "source": [
    "res_ols = lm.estimate(y_ols,x_ols)\n",
    "ols_out = lm.outreg(res_ols, var_labels=['cons_']+x_vars, name='OLS')\n"
   ]
  },
  {
   "cell_type": "code",
   "execution_count": 191,
   "metadata": {},
   "outputs": [
    {
     "name": "stdout",
     "output_type": "stream",
     "text": [
      "Optimization terminated successfully.\n",
      "         Current function value: 3.471981\n",
      "         Iterations: 289\n",
      "         Function evaluations: 11931\n",
      "         Gradient evaluations: 291\n"
     ]
    }
   ],
   "source": [
    "res = est.estimate(clogit.q2, theta_start, y, x, cov_type='Sandwich', method='BFGS') #options={'maxiter':200000} <- add if you are using Nelder-Mead for example"
   ]
  },
  {
   "cell_type": "code",
   "execution_count": 192,
   "metadata": {},
   "outputs": [],
   "source": [
    "res_dict = {'theta_hat': res['theta'], 'se': res['se'], 't-stat':res['t'], 'cov_hat': res['cov']}\n",
    "clogit_out = clogit.outreg(res_dict, var_labels=x_vars, name='Logit')"
   ]
  },
  {
   "cell_type": "code",
   "execution_count": 193,
   "metadata": {},
   "outputs": [
    {
     "data": {
      "text/plain": [
       "['logp', 'home', 'logp_x_home', 'cy', 'hp', 'we', 'li', 'he']"
      ]
     },
     "execution_count": 193,
     "metadata": {},
     "output_type": "execute_result"
    }
   ],
   "source": [
    "x_vars[:8]"
   ]
  },
  {
   "cell_type": "code",
   "execution_count": 194,
   "metadata": {},
   "outputs": [
    {
     "data": {
      "text/html": [
       "<div>\n",
       "<style scoped>\n",
       "    .dataframe tbody tr th:only-of-type {\n",
       "        vertical-align: middle;\n",
       "    }\n",
       "\n",
       "    .dataframe tbody tr th {\n",
       "        vertical-align: top;\n",
       "    }\n",
       "\n",
       "    .dataframe thead th {\n",
       "        text-align: right;\n",
       "    }\n",
       "</style>\n",
       "<table border=\"1\" class=\"dataframe\">\n",
       "  <thead>\n",
       "    <tr style=\"text-align: right;\">\n",
       "      <th></th>\n",
       "      <th></th>\n",
       "      <th>Logit</th>\n",
       "      <th>OLS</th>\n",
       "    </tr>\n",
       "  </thead>\n",
       "  <tbody>\n",
       "    <tr>\n",
       "      <th rowspan=\"2\" valign=\"top\">cons_</th>\n",
       "      <th>theta</th>\n",
       "      <td>.</td>\n",
       "      <td>-2.37***</td>\n",
       "    </tr>\n",
       "    <tr>\n",
       "      <th>se</th>\n",
       "      <td>.</td>\n",
       "      <td>(0.311)</td>\n",
       "    </tr>\n",
       "    <tr>\n",
       "      <th rowspan=\"2\" valign=\"top\">logp</th>\n",
       "      <th>theta</th>\n",
       "      <td>-0.25**</td>\n",
       "      <td>-0.41***</td>\n",
       "    </tr>\n",
       "    <tr>\n",
       "      <th>se</th>\n",
       "      <td>(0.128)</td>\n",
       "      <td>(0.042)</td>\n",
       "    </tr>\n",
       "    <tr>\n",
       "      <th rowspan=\"2\" valign=\"top\">home</th>\n",
       "      <th>theta</th>\n",
       "      <td>1.42***</td>\n",
       "      <td>1.04***</td>\n",
       "    </tr>\n",
       "    <tr>\n",
       "      <th>se</th>\n",
       "      <td>(0.044)</td>\n",
       "      <td>(0.03)</td>\n",
       "    </tr>\n",
       "    <tr>\n",
       "      <th rowspan=\"2\" valign=\"top\">logp_x_home</th>\n",
       "      <th>theta</th>\n",
       "      <td>0.14**</td>\n",
       "      <td>0.18***</td>\n",
       "    </tr>\n",
       "    <tr>\n",
       "      <th>se</th>\n",
       "      <td>(0.061)</td>\n",
       "      <td>(0.056)</td>\n",
       "    </tr>\n",
       "    <tr>\n",
       "      <th rowspan=\"2\" valign=\"top\">cy</th>\n",
       "      <th>theta</th>\n",
       "      <td>-0.12</td>\n",
       "      <td>-0.35***</td>\n",
       "    </tr>\n",
       "    <tr>\n",
       "      <th>se</th>\n",
       "      <td>(0.074)</td>\n",
       "      <td>(0.066)</td>\n",
       "    </tr>\n",
       "    <tr>\n",
       "      <th rowspan=\"2\" valign=\"top\">hp</th>\n",
       "      <th>theta</th>\n",
       "      <td>-1.52***</td>\n",
       "      <td>-1.06***</td>\n",
       "    </tr>\n",
       "    <tr>\n",
       "      <th>se</th>\n",
       "      <td>(0.187)</td>\n",
       "      <td>(0.149)</td>\n",
       "    </tr>\n",
       "    <tr>\n",
       "      <th rowspan=\"2\" valign=\"top\">we</th>\n",
       "      <th>theta</th>\n",
       "      <td>0.65***</td>\n",
       "      <td>1.28***</td>\n",
       "    </tr>\n",
       "    <tr>\n",
       "      <th>se</th>\n",
       "      <td>(0.188)</td>\n",
       "      <td>(0.127)</td>\n",
       "    </tr>\n",
       "    <tr>\n",
       "      <th rowspan=\"2\" valign=\"top\">li</th>\n",
       "      <th>theta</th>\n",
       "      <td>-0.04**</td>\n",
       "      <td>-0.06***</td>\n",
       "    </tr>\n",
       "    <tr>\n",
       "      <th>se</th>\n",
       "      <td>(0.017)</td>\n",
       "      <td>(0.008)</td>\n",
       "    </tr>\n",
       "    <tr>\n",
       "      <th rowspan=\"2\" valign=\"top\">he</th>\n",
       "      <th>theta</th>\n",
       "      <td>-0.01***</td>\n",
       "      <td>-0.01***</td>\n",
       "    </tr>\n",
       "    <tr>\n",
       "      <th>se</th>\n",
       "      <td>(0.003)</td>\n",
       "      <td>(0.002)</td>\n",
       "    </tr>\n",
       "  </tbody>\n",
       "</table>\n",
       "</div>"
      ],
      "text/plain": [
       "                      Logit       OLS\n",
       "cons_       theta         .  -2.37***\n",
       "            se            .   (0.311)\n",
       "logp        theta   -0.25**  -0.41***\n",
       "            se      (0.128)   (0.042)\n",
       "home        theta   1.42***   1.04***\n",
       "            se      (0.044)    (0.03)\n",
       "logp_x_home theta    0.14**   0.18***\n",
       "            se      (0.061)   (0.056)\n",
       "cy          theta     -0.12  -0.35***\n",
       "            se      (0.074)   (0.066)\n",
       "hp          theta  -1.52***  -1.06***\n",
       "            se      (0.187)   (0.149)\n",
       "we          theta   0.65***   1.28***\n",
       "            se      (0.188)   (0.127)\n",
       "li          theta   -0.04**  -0.06***\n",
       "            se      (0.017)   (0.008)\n",
       "he          theta  -0.01***  -0.01***\n",
       "            se      (0.003)   (0.002)"
      ]
     },
     "execution_count": 194,
     "metadata": {},
     "output_type": "execute_result"
    }
   ],
   "source": [
    "tab1 = pd.merge(clogit_out[:8*2], ols_out[:9*2], 'right', left_index=True, right_index=True).fillna('.')\n",
    "tab1"
   ]
  },
  {
   "cell_type": "code",
   "execution_count": 195,
   "metadata": {},
   "outputs": [
    {
     "name": "stdout",
     "output_type": "stream",
     "text": [
      "\\begin{tabular}{llll}\n",
      "\\toprule\n",
      "   & {} &     Logit &       OLS \\\\\n",
      "\\midrule\n",
      "cons\\_ & {} &         . &  -2.37*** \\\\\n",
      "   & {} &         . &   (0.311) \\\\\n",
      "logp & {} &   -0.25** &  -0.41*** \\\\\n",
      "   & {} &   (0.128) &   (0.042) \\\\\n",
      "home & {} &   1.42*** &   1.04*** \\\\\n",
      "   & {} &   (0.044) &    (0.03) \\\\\n",
      "logp\\_x\\_home & {} &    0.14** &   0.18*** \\\\\n",
      "   & {} &   (0.061) &   (0.056) \\\\\n",
      "cy & {} &     -0.12 &  -0.35*** \\\\\n",
      "   & {} &   (0.074) &   (0.066) \\\\\n",
      "hp & {} &  -1.52*** &  -1.06*** \\\\\n",
      "   & {} &   (0.187) &   (0.149) \\\\\n",
      "we & {} &   0.65*** &   1.28*** \\\\\n",
      "   & {} &   (0.188) &   (0.127) \\\\\n",
      "li & {} &   -0.04** &  -0.06*** \\\\\n",
      "   & {} &   (0.017) &   (0.008) \\\\\n",
      "he & {} &  -0.01*** &  -0.01*** \\\\\n",
      "   & {} &   (0.003) &   (0.002) \\\\\n",
      "\\bottomrule\n",
      "\\end{tabular}\n",
      "\n"
     ]
    },
    {
     "name": "stderr",
     "output_type": "stream",
     "text": [
      "C:\\Users\\JBH\\AppData\\Local\\Temp\\ipykernel_8320\\1880994701.py:1: FutureWarning: In future versions `DataFrame.to_latex` is expected to utilise the base implementation of `Styler.to_latex` for formatting and rendering. The arguments signature may therefore change. It is recommended instead to use `DataFrame.style.to_latex` which also contains additional functionality.\n",
      "  print(tab1.rename(index={'theta':'', 'se':''}).to_latex())\n"
     ]
    }
   ],
   "source": [
    "print(tab1.rename(index={'theta':'', 'se':''}).to_latex())"
   ]
  },
  {
   "cell_type": "code",
   "execution_count": 196,
   "metadata": {},
   "outputs": [],
   "source": [
    "theta_hat = res_dict['theta_hat']\n",
    "cov_hat = res_dict['cov_hat']"
   ]
  },
  {
   "cell_type": "code",
   "execution_count": 197,
   "metadata": {},
   "outputs": [
    {
     "data": {
      "text/plain": [
       "array([[ 1.63719775e-02, -1.69246107e-04, -1.52776839e-04, ...,\n",
       "         1.01010529e-05, -2.45587991e-05, -9.30762888e-04],\n",
       "       [-1.69246107e-04,  1.93494219e-03,  1.88337910e-03, ...,\n",
       "        -6.60247903e-05, -2.94427614e-04,  2.90504470e-04],\n",
       "       [-1.52776839e-04,  1.88337910e-03,  3.71569972e-03, ...,\n",
       "        -6.60954863e-04, -9.20908838e-04,  5.99359435e-04],\n",
       "       ...,\n",
       "       [ 1.01010529e-05, -6.60247903e-05, -6.60954863e-04, ...,\n",
       "         5.81010548e-03,  1.65309474e-03,  1.94384569e-04],\n",
       "       [-2.45587991e-05, -2.94427614e-04, -9.20908838e-04, ...,\n",
       "         1.65309474e-03,  4.29781884e-03, -1.10044974e-03],\n",
       "       [-9.30762888e-04,  2.90504470e-04,  5.99359435e-04, ...,\n",
       "         1.94384569e-04, -1.10044974e-03,  1.16121467e-03]])"
      ]
     },
     "execution_count": 197,
     "metadata": {},
     "output_type": "execute_result"
    }
   ],
   "source": [
    "cov_hat"
   ]
  },
  {
   "cell_type": "code",
   "execution_count": 198,
   "metadata": {},
   "outputs": [
    {
     "data": {
      "text/plain": [
       "array([-0.2536602 ,  1.42205277,  0.13869701, -0.12068846, -1.52162443,\n",
       "        0.64925158, -0.03674792, -0.01194046, -1.18989656,  0.17930946,\n",
       "       -0.76774873, -0.12134582, -0.47523748, -0.51768112, -0.78863372,\n",
       "       -0.15280806,  0.01079063, -0.29341559, -0.72032055, -1.35456638,\n",
       "       -0.97493655, -0.38385169,  0.51718291, -0.47730258, -0.17256599,\n",
       "       -0.03526939, -0.07978525,  0.01100992, -0.43755445, -0.65733916,\n",
       "       -0.77744072, -0.89463044, -1.18362122, -1.27901679, -2.83607786,\n",
       "       -0.43058234, -3.40089892, -0.41572431, -0.06182238,  0.01338732])"
      ]
     },
     "execution_count": 198,
     "metadata": {},
     "output_type": "execute_result"
    }
   ],
   "source": [
    "theta_hat"
   ]
  },
  {
   "cell_type": "code",
   "execution_count": 199,
   "metadata": {},
   "outputs": [],
   "source": [
    "ccp_hat = clogit.choice_prob(theta_hat, x)"
   ]
  },
  {
   "cell_type": "code",
   "execution_count": 200,
   "metadata": {},
   "outputs": [
    {
     "data": {
      "text/plain": [
       "array([0.01129646, 0.01464355, 0.02803195, 0.03263421, 0.03974679,\n",
       "       0.02786459, 0.04393066, 0.0460226 , 0.02091936, 0.01025049,\n",
       "       0.03598131, 0.02991469, 0.03347098, 0.01861823, 0.03075147,\n",
       "       0.03911921, 0.05857422, 0.01255162, 0.00920452, 0.00878613,\n",
       "       0.00920452, 0.01548033, 0.01945501, 0.03127445, 0.01799065,\n",
       "       0.01380678, 0.00962291, 0.03012388, 0.03179743, 0.01045968,\n",
       "       0.01108726, 0.02259291, 0.02322049, 0.02510324, 0.02656759,\n",
       "       0.05899261, 0.01589872, 0.02091936, 0.03233297, 0.02175614])"
      ]
     },
     "execution_count": 200,
     "metadata": {},
     "output_type": "execute_result"
    }
   ],
   "source": [
    "market_share = cars['s'].values.reshape((N,J))\n",
    "market_share[0] # For the first market-year, what are the observed market shares of the 40 different cars?"
   ]
  },
  {
   "cell_type": "code",
   "execution_count": 201,
   "metadata": {},
   "outputs": [
    {
     "data": {
      "text/plain": [
       "array([0.01739914, 0.02260737, 0.02371833, 0.02409675, 0.03661417,\n",
       "       0.027083  , 0.02993979, 0.02919435, 0.01789385, 0.0228626 ,\n",
       "       0.03706877, 0.02580733, 0.03487534, 0.02824443, 0.02455711,\n",
       "       0.02299095, 0.03991113, 0.02311779, 0.02646776, 0.01757049,\n",
       "       0.01374869, 0.02309152, 0.0108937 , 0.01927279, 0.02257808,\n",
       "       0.01956035, 0.01490893, 0.03436949, 0.03155966, 0.01677118,\n",
       "       0.02338755, 0.02959199, 0.0289206 , 0.02034579, 0.03489161,\n",
       "       0.02340906, 0.02120393, 0.03646579, 0.01792578, 0.02508305])"
      ]
     },
     "execution_count": 201,
     "metadata": {},
     "output_type": "execute_result"
    }
   ],
   "source": [
    "ccp_hat[0] # For the first market-year, what are the estimated market shares of the 40 different cars given our control variables?"
   ]
  },
  {
   "cell_type": "markdown",
   "metadata": {},
   "source": [
    "The Delta Method tells us how to compute standard errors for $\\mathbf{h}(\\hat{\\boldsymbol{\\theta}})$ based on an estimated covariance matrix for $\\hat{\\boldsymbol{\\theta}}$. To do this, define the $K \\times K$ matrix of derivatives of $\\mathbf{h}$\n",
    "$$ \\mathbf{g} = \\nabla_\\theta \\mathbf{h}(\\hat{\\boldsymbol{\\theta}}).$$\n",
    "\n",
    "Then we have \n",
    "$$ \\text{Avar}[\\mathbf{h}(\\hat{\\boldsymbol{\\theta}})] = \\mathbf{g} \\, \\text{Avar}(\\hat{\\boldsymbol{\\theta}}) \\, \\mathbf{g}'$$\n",
    " \n",
    "From the note, we have \n",
    "\n",
    "$$ \\mathbf{g} = \\phi(\\mathbf{x}_0 \\hat{\\boldsymbol{\\beta}}) \n",
    "    \\left [\\mathbf{I}_{K\\times K} - (\\hat{\\boldsymbol{\\beta}} \\hat{\\boldsymbol{\\beta}}') (\\mathbf{x}_0' \\mathbf{x}_0) \\right] $$ \n",
    "\n",
    "Note that both $\\hat{\\boldsymbol{\\beta}} \\hat{\\boldsymbol{\\beta}}'$ and $\\mathbf{x}_0' \\mathbf{x}_0$ are $K \\times K$ matrices (outer products). "
   ]
  },
  {
   "attachments": {},
   "cell_type": "markdown",
   "metadata": {},
   "source": [
    "---\n",
    "\n",
    "### Numerical elasticities using the Delta method"
   ]
  },
  {
   "cell_type": "code",
   "execution_count": 202,
   "metadata": {},
   "outputs": [],
   "source": [
    "def own_elasticity_numerical(x, theta, h=0.01):\n",
    "\n",
    "    ccp1 = clogit.choice_prob(theta, x)\n",
    "\n",
    "    N,J = ccp1.shape\n",
    "\n",
    "    E_own   = np.zeros((N, J))\n",
    "    E_cross = np.zeros((N, J))\n",
    "    dpdx    = np.zeros((N, J))\n",
    "    k_price = 0 \n",
    "    k_home = 1\n",
    "    k_price_x_home = 2\n",
    "\n",
    "    for j in range(J):\n",
    "        # A. copy \n",
    "        x2 = x.copy()\n",
    "        \n",
    "        # B. increase price just for car j \n",
    "        rel_change_x = h\n",
    "        x2[:, j, k_price] += h # log p changes\n",
    "        x2[:, j, k_price_x_home] = x2[:, j, k_price]*x2[:, j, k_home] # logp_x_home changes as well\n",
    "\n",
    "        # C. evaluate CCPs\n",
    "        ccp2 = clogit.choice_prob(theta, x2) # Fill in     \n",
    "\n",
    "        # D. percentage change in CCPs \n",
    "        rel_change_y = ccp2/ccp1-1 # Fill in \n",
    "        \n",
    "        # E. elasticities \n",
    "        elasticity = (rel_change_y/rel_change_x) # Fill in \n",
    "        \n",
    "        E_own[:, j] = elasticity[:, j] # Fill in \n",
    "        \n",
    "        k_not_j = [k for k in range(J) if k != j] # indices for all other cars than j -> this list changes as we loop through j\n",
    "        E_cross[:, j] = elasticity[:, k_not_j].mean(axis=1) # Fill in: Avg. among the cars k_not_j, taking the average over axis=1 (the cars, not the individuals!)\n",
    "    \n",
    "        return E_own.mean()"
   ]
  },
  {
   "cell_type": "code",
   "execution_count": 203,
   "metadata": {},
   "outputs": [],
   "source": [
    "def cross_elasticity_numerical(x, theta, h=0.01):\n",
    "\n",
    "    ccp1 = clogit.choice_prob(theta, x)\n",
    "\n",
    "    N,J = ccp1.shape\n",
    "\n",
    "    E_own   = np.zeros((N, J))\n",
    "    E_cross = np.zeros((N, J))\n",
    "    dpdx    = np.zeros((N, J))\n",
    "    k_price = 0 \n",
    "    k_home = 1\n",
    "    k_price_x_home = 2\n",
    "\n",
    "    for j in range(J):\n",
    "        # A. copy \n",
    "        x2 = x.copy()\n",
    "        \n",
    "        # B. increase price just for car j \n",
    "        rel_change_x = h\n",
    "        x2[:, j, k_price] += h # log p changes\n",
    "        x2[:, j, k_price_x_home] = x2[:, j, k_price]*x2[:, j, k_home] # logp_x_home changes as well\n",
    "\n",
    "        # C. evaluate CCPs\n",
    "        ccp2 = clogit.choice_prob(theta, x2) # Fill in     \n",
    "\n",
    "        # D. percentage change in CCPs \n",
    "        rel_change_y = ccp2/ccp1-1 # Fill in \n",
    "        \n",
    "        # E. elasticities \n",
    "        elasticity = (rel_change_y/rel_change_x) # Fill in \n",
    "        \n",
    "        E_own[:, j] = elasticity[:, j] # Fill in \n",
    "        \n",
    "        k_not_j = [k for k in range(J) if k != j] # indices for all other cars than j -> this list changes as we loop through j\n",
    "        E_cross[:, j] = elasticity[:, k_not_j].mean(axis=1) # Fill in: Avg. among the cars k_not_j, taking the average over axis=1 (the cars, not the individuals!)\n",
    "    \n",
    "        return E_cross.mean()"
   ]
  },
  {
   "cell_type": "code",
   "execution_count": 204,
   "metadata": {},
   "outputs": [],
   "source": [
    "def own_elasticity_numerical_home(x, theta, h=0.01):\n",
    "\n",
    "    ccp1 = clogit.choice_prob(theta, x)\n",
    "\n",
    "    N,J = ccp1.shape\n",
    "\n",
    "    E_own   = np.zeros((N, J))\n",
    "    E_cross = np.zeros((N, J))\n",
    "    dpdx    = np.zeros((N, J))\n",
    "    k_price = 0 \n",
    "    k_home = 1\n",
    "    k_price_x_home = 2\n",
    "\n",
    "    idx_home = x[:, :, k_home] == 1\n",
    "\n",
    "    for j in range(J):\n",
    "        # A. copy \n",
    "        x2 = x.copy()\n",
    "        \n",
    "        # B. increase price just for car j \n",
    "        rel_change_x = h\n",
    "        x2[:, j, k_price] += h # log p changes\n",
    "        x2[:, j, k_price_x_home] = x2[:, j, k_price]*x2[:, j, k_home] # logp_x_home changes as well\n",
    "\n",
    "        # C. evaluate CCPs\n",
    "        ccp2 = clogit.choice_prob(theta, x2) # Fill in     \n",
    "\n",
    "        # D. percentage change in CCPs \n",
    "        rel_change_y = ccp2/ccp1-1 # Fill in \n",
    "        \n",
    "        # E. elasticities \n",
    "        elasticity = (rel_change_y/rel_change_x) # Fill in \n",
    "        \n",
    "        E_own[:, j] = elasticity[:, j] # Fill in \n",
    "        \n",
    "        k_not_j = [k for k in range(J) if k != j] # indices for all other cars than j -> this list changes as we loop through j\n",
    "        E_cross[:, j] = elasticity[:, k_not_j].mean(axis=1) # Fill in: Avg. among the cars k_not_j, taking the average over axis=1 (the cars, not the individuals!)\n",
    "    \n",
    "        return E_own[idx_home].mean()"
   ]
  },
  {
   "cell_type": "code",
   "execution_count": 205,
   "metadata": {},
   "outputs": [],
   "source": [
    "def own_elasticity_numerical_foreign(x, theta, h=0.01):\n",
    "\n",
    "    ccp1 = clogit.choice_prob(theta, x)\n",
    "\n",
    "    N,J = ccp1.shape\n",
    "\n",
    "    E_own   = np.zeros((N, J))\n",
    "    E_cross = np.zeros((N, J))\n",
    "    dpdx    = np.zeros((N, J))\n",
    "    k_price = 0 \n",
    "    k_home = 1\n",
    "    k_price_x_home = 2\n",
    "\n",
    "    idx_foreign = x[:, :, k_home] == 0\n",
    "\n",
    "    for j in range(J):\n",
    "        # A. copy \n",
    "        x2 = x.copy()\n",
    "        \n",
    "        # B. increase price just for car j \n",
    "        rel_change_x = h\n",
    "        x2[:, j, k_price] += h # log p changes\n",
    "        x2[:, j, k_price_x_home] = x2[:, j, k_price]*x2[:, j, k_home] # logp_x_home changes as well\n",
    "\n",
    "        # C. evaluate CCPs\n",
    "        ccp2 = clogit.choice_prob(theta, x2) # Fill in     \n",
    "\n",
    "        # D. percentage change in CCPs \n",
    "        rel_change_y = ccp2/ccp1-1 # Fill in \n",
    "        \n",
    "        # E. elasticities \n",
    "        elasticity = (rel_change_y/rel_change_x) # Fill in \n",
    "        \n",
    "        E_own[:, j] = elasticity[:, j] # Fill in \n",
    "        \n",
    "        k_not_j = [k for k in range(J) if k != j] # indices for all other cars than j -> this list changes as we loop through j\n",
    "        E_cross[:, j] = elasticity[:, k_not_j].mean(axis=1) # Fill in: Avg. among the cars k_not_j, taking the average over axis=1 (the cars, not the individuals!)\n",
    "    \n",
    "        return E_own[idx_foreign].mean()"
   ]
  },
  {
   "cell_type": "code",
   "execution_count": 206,
   "metadata": {},
   "outputs": [],
   "source": [
    "E_own = own_elasticity_numerical(x, theta_hat).round(3)\n",
    "E_cross = cross_elasticity_numerical(x, theta_hat).round(3)\n",
    "\n",
    "E_own_home = own_elasticity_numerical_home(x, theta_hat).round(3)\n",
    "E_own_foreign = own_elasticity_numerical_foreign(x, theta_hat).round(3)"
   ]
  },
  {
   "cell_type": "code",
   "execution_count": 207,
   "metadata": {},
   "outputs": [],
   "source": [
    "def delta(func, theta_hat, cov_hat, x, **kwargs):\n",
    "    # Pass any function requiring multiple inputs.\n",
    "    # Turn this into an anonymous single-input with 'theta-hat' as input (ie. regression coefficient as per the delta method)\n",
    "    z = lambda coef: func(x, coef, **kwargs)  \n",
    "\n",
    "    # Calculate the gradient of elasticities/partial effects w.r.t model parameters \n",
    "    grad = est.centered_grad(z, theta_hat)\n",
    "\n",
    "    # Calculate covariance-variance matrix based on estimated covariance-variance \"cov_hat\" from regresion\n",
    "    cov_marg_eff = grad@cov_hat@grad.T\n",
    "\n",
    "    # Return standard errors, ie. sqrt of the diagonals \n",
    "    se = np.sqrt(np.diag(cov_marg_eff))\n",
    "    return se"
   ]
  },
  {
   "cell_type": "code",
   "execution_count": 208,
   "metadata": {},
   "outputs": [],
   "source": [
    "E_own_se = delta(own_elasticity_numerical, theta_hat, cov_hat, x).round(3)\n",
    "E_cross_se = delta(cross_elasticity_numerical, theta_hat, cov_hat, x).round(3)\n",
    "\n",
    "E_own_home_se = delta(own_elasticity_numerical_home, theta_hat, cov_hat, x).round(3)\n",
    "E_own_foreign_se = delta(own_elasticity_numerical_foreign, theta_hat, cov_hat, x).round(3)"
   ]
  },
  {
   "cell_type": "code",
   "execution_count": 209,
   "metadata": {},
   "outputs": [],
   "source": [
    "# Create two indexed, where idx_home is for home-produced cars\n",
    "# and idx_foreign is for foreign-produced cars.\n",
    "k_home = 1\n",
    "idx_home = x[:, :, k_home]==1 \n",
    "idx_foreign = x[:, :, k_home]==0 "
   ]
  },
  {
   "cell_type": "code",
   "execution_count": 210,
   "metadata": {},
   "outputs": [
    {
     "data": {
      "text/html": [
       "<div>\n",
       "<style scoped>\n",
       "    .dataframe tbody tr th:only-of-type {\n",
       "        vertical-align: middle;\n",
       "    }\n",
       "\n",
       "    .dataframe tbody tr th {\n",
       "        vertical-align: top;\n",
       "    }\n",
       "\n",
       "    .dataframe thead th {\n",
       "        text-align: right;\n",
       "    }\n",
       "</style>\n",
       "<table border=\"1\" class=\"dataframe\">\n",
       "  <thead>\n",
       "    <tr style=\"text-align: right;\">\n",
       "      <th></th>\n",
       "      <th>Est.</th>\n",
       "      <th>SE</th>\n",
       "    </tr>\n",
       "  </thead>\n",
       "  <tbody>\n",
       "    <tr>\n",
       "      <th>Own-price elasticity</th>\n",
       "      <td>-0.005</td>\n",
       "      <td>0.003</td>\n",
       "    </tr>\n",
       "    <tr>\n",
       "      <th>Cross-price elasticity</th>\n",
       "      <td>0.000</td>\n",
       "      <td>0.000</td>\n",
       "    </tr>\n",
       "    <tr>\n",
       "      <th>Own-price elasticity (home)</th>\n",
       "      <td>-0.003</td>\n",
       "      <td>0.004</td>\n",
       "    </tr>\n",
       "    <tr>\n",
       "      <th>Own-price elasticity (foreign)</th>\n",
       "      <td>-0.006</td>\n",
       "      <td>0.003</td>\n",
       "    </tr>\n",
       "  </tbody>\n",
       "</table>\n",
       "</div>"
      ],
      "text/plain": [
       "                                 Est.     SE\n",
       "Own-price elasticity           -0.005  0.003\n",
       "Cross-price elasticity          0.000  0.000\n",
       "Own-price elasticity (home)    -0.003  0.004\n",
       "Own-price elasticity (foreign) -0.006  0.003"
      ]
     },
     "execution_count": 210,
     "metadata": {},
     "output_type": "execute_result"
    }
   ],
   "source": [
    "se = [E_own_se[0], E_cross_se[0], E_own_home_se[0], E_own_foreign_se[0]]\n",
    "elas = [E_own, E_cross, E_own_home, E_own_foreign]\n",
    "elas_res = {'Est.': elas, 'SE': se}\n",
    "\n",
    "tab = pd.DataFrame(elas_res, index=['Own-price elasticity', 'Cross-price elasticity', 'Own-price elasticity (home)', 'Own-price elasticity (foreign)'])\n",
    "tab"
   ]
  },
  {
   "cell_type": "code",
   "execution_count": 211,
   "metadata": {},
   "outputs": [
    {
     "name": "stdout",
     "output_type": "stream",
     "text": [
      "\\begin{tabular}{lrr}\n",
      "\\toprule\n",
      "{} &   Est. &     SE \\\\\n",
      "\\midrule\n",
      "Own-price elasticity           & -0.005 &  0.003 \\\\\n",
      "Cross-price elasticity         &  0.000 &  0.000 \\\\\n",
      "Own-price elasticity (home)    & -0.003 &  0.004 \\\\\n",
      "Own-price elasticity (foreign) & -0.006 &  0.003 \\\\\n",
      "\\bottomrule\n",
      "\\end{tabular}\n",
      "\n"
     ]
    },
    {
     "name": "stderr",
     "output_type": "stream",
     "text": [
      "C:\\Users\\JBH\\AppData\\Local\\Temp\\ipykernel_8320\\1489069591.py:1: FutureWarning: In future versions `DataFrame.to_latex` is expected to utilise the base implementation of `Styler.to_latex` for formatting and rendering. The arguments signature may therefore change. It is recommended instead to use `DataFrame.style.to_latex` which also contains additional functionality.\n",
      "  print(tab.to_latex())\n"
     ]
    }
   ],
   "source": [
    "print(tab.to_latex())"
   ]
  },
  {
   "cell_type": "code",
   "execution_count": 212,
   "metadata": {},
   "outputs": [],
   "source": [
    "def own_elasticity_numerical(x, theta, h=0.01):\n",
    "\n",
    "    ccp1 = clogit.choice_prob(theta, x)\n",
    "\n",
    "    N,J = ccp1.shape\n",
    "\n",
    "    E_own   = np.zeros((N, J))\n",
    "    E_cross = np.zeros((N, J))\n",
    "    dpdx    = np.zeros((N, J))\n",
    "    k_price = 0 \n",
    "    k_home = 1\n",
    "    k_price_x_home = 2\n",
    "\n",
    "    idx_home = x[:, :, k_home] == 1\n",
    "\n",
    "    for j in range(J):\n",
    "        # A. copy \n",
    "        x2 = x.copy()\n",
    "        \n",
    "        # B. increase price just for car j \n",
    "        rel_change_x = h\n",
    "        x2[:, j, k_price] += h # log p changes\n",
    "        x2[:, j, k_price_x_home] = x2[:, j, k_price]*x2[:, j, k_home] # logp_x_home changes as well\n",
    "\n",
    "        # C. evaluate CCPs\n",
    "        ccp2 = clogit.choice_prob(theta, x2) # Fill in     \n",
    "\n",
    "        # D. percentage change in CCPs \n",
    "        rel_change_y = ccp2/ccp1-1 # Fill in \n",
    "        \n",
    "        # E. elasticities \n",
    "        elasticity = (rel_change_y/rel_change_x) # Fill in \n",
    "        \n",
    "        E_own[:, j] = elasticity[:, j] # Fill in \n",
    "        \n",
    "        k_not_j = [k for k in range(J) if k != j] # indices for all other cars than j -> this list changes as we loop through j\n",
    "        E_cross[:, j] = elasticity[:, k_not_j].mean(axis=1) # Fill in: Avg. among the cars k_not_j, taking the average over axis=1 (the cars, not the individuals!)\n",
    "    \n",
    "        return E_own"
   ]
  },
  {
   "cell_type": "code",
   "execution_count": 227,
   "metadata": {},
   "outputs": [],
   "source": [
    "def own_elasticity_numerical_simul_home(x, theta, h=0.01):\n",
    "    \n",
    "    ccp1 = clogit.choice_prob(theta, x)\n",
    "\n",
    "    N,J = ccp1.shape\n",
    "\n",
    "    E_own   = np.zeros((N, J))\n",
    "    E_cross = np.zeros((N, J))\n",
    "    dpdx    = np.zeros((N, J))\n",
    "    k_price = 0 \n",
    "    k_home = 1\n",
    "    k_price_x_home = 2\n",
    "\n",
    "    idx_home = x[:, :, k_home] == 1\n",
    "\n",
    "    x2 = x.copy()\n",
    "    x2[:,:,k_price][idx_home] += h\n",
    "    x2[:,:,k_price_x_home] = x2[:,:,k_price]*x2[:,:,k_home]\n",
    "\n",
    "    # C. evaluate CCPs\n",
    "    ccp2 = clogit.choice_prob(theta, x2) # Fill in \n",
    "\n",
    "    # D. percentage change in CCPs \n",
    "    rel_change_y = ccp2/ccp1-1 # Fill in \n",
    "    rel_change_x = h\n",
    "\n",
    "    elasticity = (rel_change_y/rel_change_x) # Fill in\n",
    "\n",
    "    for j in range(J):\n",
    "        E_own[:, j] = elasticity[:, j] # Fill in \n",
    "\n",
    "        k_not_j = [k for k in range(J) if k != j] # indices for all other cars than j -> this list changes as we loop through j\n",
    "        E_cross[:, j] = elasticity[:, k_not_j].mean(axis=1) # Fill in: Avg. among the cars k_not_j, taking the average over axis=1 (the cars, not the individuals!) \n",
    "\n",
    "    return E_own[idx_home].mean()"
   ]
  },
  {
   "cell_type": "code",
   "execution_count": 236,
   "metadata": {},
   "outputs": [],
   "source": [
    "def own_elasticity_numerical_simul_foreign(x, theta, h=0.01):\n",
    "    \n",
    "    ccp1 = clogit.choice_prob(theta, x)\n",
    "\n",
    "    N,J = ccp1.shape\n",
    "\n",
    "    E_own   = np.zeros((N, J))\n",
    "    E_cross = np.zeros((N, J))\n",
    "    dpdx    = np.zeros((N, J))\n",
    "    k_price = 0 \n",
    "    k_home = 1\n",
    "    k_price_x_home = 2\n",
    "\n",
    "    idx_home = x[:, :, k_home] == 1\n",
    "    idx_foreign = x[:, :, k_home] == 0\n",
    "\n",
    "    x2 = x.copy()\n",
    "    x2[:,:,k_price][idx_home] += h\n",
    "    x2[:,:,k_price_x_home] = x2[:,:,k_price]*x2[:,:,k_home]\n",
    "\n",
    "    # C. evaluate CCPs\n",
    "    ccp2 = clogit.choice_prob(theta, x2) # Fill in \n",
    "\n",
    "    # D. percentage change in CCPs \n",
    "    rel_change_y = ccp2/ccp1-1 # Fill in \n",
    "    rel_change_x = h\n",
    "\n",
    "    elasticity = (rel_change_y/rel_change_x) # Fill in\n",
    "\n",
    "    for j in range(J):\n",
    "        E_own[:, j] = elasticity[:, j] # Fill in \n",
    "\n",
    "        k_not_j = [k for k in range(J) if k != j] # indices for all other cars than j -> this list changes as we loop through j\n",
    "        E_cross[:, j] = elasticity[:, k_not_j].mean(axis=1) # Fill in: Avg. among the cars k_not_j, taking the average over axis=1 (the cars, not the individuals!) \n",
    "\n",
    "    return E_own[idx_foreign].mean()"
   ]
  },
  {
   "cell_type": "code",
   "execution_count": 228,
   "metadata": {},
   "outputs": [
    {
     "data": {
      "text/plain": [
       "-0.002883305016613132"
      ]
     },
     "execution_count": 228,
     "metadata": {},
     "output_type": "execute_result"
    }
   ],
   "source": [
    "own_elasticity_numerical_home(x, theta_hat)"
   ]
  },
  {
   "cell_type": "code",
   "execution_count": 229,
   "metadata": {},
   "outputs": [
    {
     "data": {
      "text/plain": [
       "-0.03366420121563944"
      ]
     },
     "execution_count": 229,
     "metadata": {},
     "output_type": "execute_result"
    }
   ],
   "source": [
    "own_elasticity_numerical_simul_home(x, theta_hat)"
   ]
  },
  {
   "cell_type": "code",
   "execution_count": 234,
   "metadata": {},
   "outputs": [
    {
     "data": {
      "text/plain": [
       "0.041234519143622056"
      ]
     },
     "execution_count": 234,
     "metadata": {},
     "output_type": "execute_result"
    }
   ],
   "source": [
    "delta(own_elasticity_numerical_simul_home, theta_hat, cov_hat, x)"
   ]
  },
  {
   "cell_type": "code",
   "execution_count": 237,
   "metadata": {},
   "outputs": [
    {
     "data": {
      "text/plain": [
       "0.055339465326097306"
      ]
     },
     "execution_count": 237,
     "metadata": {},
     "output_type": "execute_result"
    }
   ],
   "source": [
    "own_elasticity_numerical_simul_foreign(x, theta_hat)"
   ]
  },
  {
   "cell_type": "code",
   "execution_count": 238,
   "metadata": {},
   "outputs": [
    {
     "data": {
      "text/plain": [
       "array([0.06768191])"
      ]
     },
     "execution_count": 238,
     "metadata": {},
     "output_type": "execute_result"
    }
   ],
   "source": [
    "delta(own_elasticity_numerical_simul_foreign, theta_hat, cov_hat, x)"
   ]
  },
  {
   "cell_type": "code",
   "execution_count": 220,
   "metadata": {},
   "outputs": [
    {
     "data": {
      "text/plain": [
       "array([0.00352556])"
      ]
     },
     "execution_count": 220,
     "metadata": {},
     "output_type": "execute_result"
    }
   ],
   "source": [
    "delta(own_elasticity_numerical_home, theta_hat, cov_hat, x)"
   ]
  },
  {
   "attachments": {},
   "cell_type": "markdown",
   "metadata": {},
   "source": [
    "### Delta method to calculate std. errors of the average difference between home and foreign own-price elasticities\n",
    "\n",
    "$$\n",
    "\\mathcal{E}_{j j}^D-\\mathcal{E}_{j j}^F\n",
    "$$"
   ]
  },
  {
   "cell_type": "code",
   "execution_count": 57,
   "metadata": {},
   "outputs": [],
   "source": [
    "def own_elasticity_numerical_diff(x, theta, h=0.01):\n",
    "\n",
    "    ccp1 = clogit.choice_prob(theta, x)\n",
    "\n",
    "    N,J = ccp1.shape\n",
    "\n",
    "    E_own   = np.zeros((N, J))\n",
    "    E_cross = np.zeros((N, J))\n",
    "    dpdx    = np.zeros((N, J))\n",
    "    k_price = 0 \n",
    "    k_home = 1\n",
    "    k_price_x_home = 2\n",
    "\n",
    "    idx_home_ = x[:, :, k_home] == 1\n",
    "    idx_foreign_ = x[:, :, k_home] == 0\n",
    "\n",
    "    for j in range(J):\n",
    "        # A. copy \n",
    "        x2 = x.copy()\n",
    "        \n",
    "        # B. increase price just for car j \n",
    "        rel_change_x = h\n",
    "        x2[:, j, k_price] += h # log p changes\n",
    "        x2[:, j, k_price_x_home] = x2[:, j, k_price]*x2[:, j, k_home] # logp_x_home changes as well\n",
    "\n",
    "        # C. evaluate CCPs\n",
    "        ccp2 = clogit.choice_prob(theta, x2) # Fill in     \n",
    "\n",
    "        # D. percentage change in CCPs \n",
    "        rel_change_y = ccp2/ccp1-1 # Fill in \n",
    "        \n",
    "        # E. elasticities \n",
    "        elasticity = (rel_change_y/rel_change_x) # Fill in \n",
    "        \n",
    "        E_own[:, j] = elasticity[:, j] # Fill in \n",
    "        \n",
    "        k_not_j = [k for k in range(J) if k != j] # indices for all other cars than j -> this list changes as we loop through j\n",
    "        E_cross[:, j] = elasticity[:, k_not_j].mean(axis=1) # Fill in: Avg. among the cars k_not_j, taking the average over axis=1 (the cars, not the individuals!)\n",
    "    \n",
    "        return E_own[idx_home].mean()-E_own[idx_foreign].mean()"
   ]
  },
  {
   "cell_type": "code",
   "execution_count": 58,
   "metadata": {},
   "outputs": [],
   "source": [
    "diff = own_elasticity_numerical_diff(x, theta_hat)\n",
    "diff_se = delta(own_elasticity_numerical, theta_hat, cov_hat, x).mean()"
   ]
  },
  {
   "cell_type": "code",
   "execution_count": 59,
   "metadata": {},
   "outputs": [
    {
     "data": {
      "text/plain": [
       "0.003"
      ]
     },
     "execution_count": 59,
     "metadata": {},
     "output_type": "execute_result"
    }
   ],
   "source": [
    "diff.round(3)"
   ]
  },
  {
   "cell_type": "code",
   "execution_count": 60,
   "metadata": {},
   "outputs": [
    {
     "data": {
      "text/plain": [
       "0.0032"
      ]
     },
     "execution_count": 60,
     "metadata": {},
     "output_type": "execute_result"
    }
   ],
   "source": [
    "diff_se.round(4)"
   ]
  },
  {
   "cell_type": "code",
   "execution_count": 61,
   "metadata": {},
   "outputs": [
    {
     "data": {
      "text/plain": [
       "1.01"
      ]
     },
     "execution_count": 61,
     "metadata": {},
     "output_type": "execute_result"
    }
   ],
   "source": [
    "t_diff = (diff/diff_se).round(2)\n",
    "t_diff"
   ]
  },
  {
   "attachments": {},
   "cell_type": "markdown",
   "metadata": {},
   "source": [
    "### Compensating variation\n",
    "\n",
    "$$\n",
    "\\mathrm{CV}=\\frac{1}{\\beta_p} \\log \\sum_{j=1}^J \\exp \\left(v_{i j}\\right)-\\frac{1}{\\beta_p} \\log \\sum_{j=1}^J \\exp \\left(\\tilde{v}_{i j}\\right)\n",
    "$$\n",
    "\n",
    "$\\beta_p$ is the price coefficient from the logit regression. Given that we have log prices, we take the `exp`-function of this coefficient."
   ]
  },
  {
   "cell_type": "code",
   "execution_count": 62,
   "metadata": {},
   "outputs": [],
   "source": [
    "v = x@theta_hat"
   ]
  },
  {
   "cell_type": "code",
   "execution_count": 63,
   "metadata": {},
   "outputs": [
    {
     "data": {
      "text/plain": [
       "(150, 40, 40)"
      ]
     },
     "execution_count": 63,
     "metadata": {},
     "output_type": "execute_result"
    }
   ],
   "source": [
    "x.shape"
   ]
  },
  {
   "cell_type": "code",
   "execution_count": 64,
   "metadata": {},
   "outputs": [
    {
     "data": {
      "text/plain": [
       "(40,)"
      ]
     },
     "execution_count": 64,
     "metadata": {},
     "output_type": "execute_result"
    }
   ],
   "source": [
    "theta_hat.shape"
   ]
  },
  {
   "cell_type": "code",
   "execution_count": 65,
   "metadata": {},
   "outputs": [
    {
     "data": {
      "text/plain": [
       "728.9008969481099"
      ]
     },
     "execution_count": 65,
     "metadata": {},
     "output_type": "execute_result"
    }
   ],
   "source": [
    "np.exp(v[idx_home]).sum()"
   ]
  },
  {
   "cell_type": "code",
   "execution_count": 66,
   "metadata": {},
   "outputs": [
    {
     "data": {
      "text/plain": [
       "434.8708692904612"
      ]
     },
     "execution_count": 66,
     "metadata": {},
     "output_type": "execute_result"
    }
   ],
   "source": [
    "np.exp(v[idx_foreign]).sum()"
   ]
  },
  {
   "cell_type": "code",
   "execution_count": 67,
   "metadata": {},
   "outputs": [],
   "source": [
    "k_price = 0\n",
    "k_price_x_home =   2\n",
    "\n",
    "CV = 1/np.exp(theta_hat[k_price]) * np.log(np.exp(v[idx_foreign]).sum()) - 1/np.exp(theta_hat[k_price]+theta_hat[k_price_x_home]) * np.log(np.exp(v[idx_home]).sum())"
   ]
  },
  {
   "cell_type": "code",
   "execution_count": 68,
   "metadata": {},
   "outputs": [
    {
     "data": {
      "text/plain": [
       "0.43"
      ]
     },
     "execution_count": 68,
     "metadata": {},
     "output_type": "execute_result"
    }
   ],
   "source": [
    "CV.round(2)"
   ]
  },
  {
   "cell_type": "code",
   "execution_count": 69,
   "metadata": {},
   "outputs": [],
   "source": [
    "def CV(x, theta_hat):\n",
    "    k_price = 0\n",
    "    k_price_x_home =   2\n",
    "\n",
    "    v = x@theta_hat\n",
    "\n",
    "    CV = 1/np.exp(theta_hat[k_price]) * np.log(np.exp(v[idx_foreign]).sum()) - 1/np.exp(theta_hat[k_price]+theta_hat[k_price_x_home]) * np.log(np.exp(v[idx_home]).sum())\n",
    "\n",
    "    return CV"
   ]
  },
  {
   "cell_type": "code",
   "execution_count": 70,
   "metadata": {},
   "outputs": [
    {
     "data": {
      "text/plain": [
       "array([0.45028062])"
      ]
     },
     "execution_count": 70,
     "metadata": {},
     "output_type": "execute_result"
    }
   ],
   "source": [
    "delta(CV, theta_hat, cov_hat, x)"
   ]
  },
  {
   "attachments": {},
   "cell_type": "markdown",
   "metadata": {},
   "source": [
    "### Partial effects\n",
    "\n",
    "1) Focusing on all markets and all cars\n",
    "2) Segmenting on lower and upper half of the prices of cars"
   ]
  },
  {
   "cell_type": "code",
   "execution_count": 71,
   "metadata": {},
   "outputs": [],
   "source": [
    "lower_half = cars[cars['logp']<cars['logp'].quantile(0.50)]\n",
    "upper_half = cars[cars['logp']>cars['logp'].quantile(0.50)]\n",
    "\n",
    "K = len(x_vars) #The \"household\" characteristics\n",
    "N_low = lower_half.ma.nunique() * upper_half.ye.nunique()\n",
    "N_high = upper_half.ma.nunique() * upper_half.ye.nunique()\n",
    "J_half = int(J/2) #The 20 different cars\n",
    "x_low=lower_half[x_vars].values.reshape(N,J_half,K)\n",
    "x_high=upper_half[x_vars].values.reshape(N,J_half,K)\n",
    "\n",
    "k_home = 1\n",
    "\n",
    "# Boolean array for home-produced cars, for lower & upper half respectively\n",
    "idx_home_low = x_low[:, :, k_home]==1\n",
    "idx_home_high = x_high[:, :, k_home]==1\n",
    "\n",
    "# Boolean array for foreign-produced cars, for lower & upper half respectively \n",
    "idx_foreign_low = x_low[:, :, k_home]==0\n",
    "idx_foreign_high = x_high[:, :, k_home]==0"
   ]
  },
  {
   "cell_type": "code",
   "execution_count": 72,
   "metadata": {},
   "outputs": [],
   "source": [
    "median = cars['logp'].quantile(0.50)"
   ]
  },
  {
   "cell_type": "code",
   "execution_count": 73,
   "metadata": {},
   "outputs": [
    {
     "data": {
      "text/plain": [
       "-0.38278115767028287"
      ]
     },
     "execution_count": 73,
     "metadata": {},
     "output_type": "execute_result"
    }
   ],
   "source": [
    "median"
   ]
  },
  {
   "cell_type": "code",
   "execution_count": 78,
   "metadata": {},
   "outputs": [],
   "source": [
    "def marg_eff_discrete(\n",
    "    x, \n",
    "    theta_hat, \n",
    "    home\n",
    "    ):\n",
    "    \n",
    "    x_partial_0 = x.copy()\n",
    "    x_partial_1 = x.copy()\n",
    "\n",
    "    k_price = 0\n",
    "    k_home = 1\n",
    "    k_price_x_home = 2\n",
    "\n",
    "    idx_home = x[:, :, k_home]==1\n",
    "    idx_foreign = x[:, :, k_home]==0\n",
    "\n",
    "    x_partial_0[:,:, k_home]=0\n",
    "    x_partial_0[:, :, k_price_x_home]=x_partial_0[:,:, k_price]*x_partial_0[:,:, k_home]\n",
    "\n",
    "    x_partial_1[:, :, k_home] = 1\n",
    "    x_partial_1[:, :, k_price_x_home] = x_partial_1[:, :, k_price]*x_partial_1[:, :, k_home]\n",
    "\n",
    "    ccp_grad = clogit.choice_prob(theta_hat, x_partial_1)-clogit.choice_prob(theta_hat, x_partial_0)\n",
    "    # Specify as to look at the difference in choice probabilities for cars that were in fact home-produced or were in fact foreign-produced\n",
    "\n",
    "    if home == True:\n",
    "        ccp_grad = ccp_grad[idx_home].sum()\n",
    "    else: \n",
    "        ccp_grad = ccp_grad[idx_foreign].sum()\n",
    "    return ccp_grad"
   ]
  },
  {
   "cell_type": "code",
   "execution_count": 83,
   "metadata": {},
   "outputs": [],
   "source": [
    "# Partial effect of home production\n",
    "\n",
    "# Whole market\n",
    "whole_market_price_eff = marg_eff_discrete(x, theta_hat, home=True)\n",
    "\n",
    "# Lower half (cheaper cars)\n",
    "lower_half_price_eff = marg_eff_discrete(x_low, theta_hat, home=True)\n",
    "\n",
    "# Upper half (more expensive cars)\n",
    "upper_half_price_eff = marg_eff_discrete(x_high, theta_hat, home=True)"
   ]
  },
  {
   "cell_type": "code",
   "execution_count": 94,
   "metadata": {},
   "outputs": [
    {
     "data": {
      "text/plain": [
       "0.11298914208376841"
      ]
     },
     "execution_count": 94,
     "metadata": {},
     "output_type": "execute_result"
    }
   ],
   "source": [
    "marg_eff_discrete(x, theta_hat, home=True)"
   ]
  },
  {
   "cell_type": "code",
   "execution_count": 95,
   "metadata": {},
   "outputs": [
    {
     "data": {
      "text/plain": [
       "-0.11298914208376855"
      ]
     },
     "execution_count": 95,
     "metadata": {},
     "output_type": "execute_result"
    }
   ],
   "source": [
    "marg_eff_discrete(x, theta_hat, home=False)"
   ]
  },
  {
   "cell_type": "code",
   "execution_count": 96,
   "metadata": {},
   "outputs": [
    {
     "data": {
      "text/plain": [
       "0.05231888145060233"
      ]
     },
     "execution_count": 96,
     "metadata": {},
     "output_type": "execute_result"
    }
   ],
   "source": [
    "marg_eff_discrete(x_low, theta_hat, home=True)"
   ]
  },
  {
   "cell_type": "code",
   "execution_count": 97,
   "metadata": {},
   "outputs": [
    {
     "data": {
      "text/plain": [
       "-0.052318881450602664"
      ]
     },
     "execution_count": 97,
     "metadata": {},
     "output_type": "execute_result"
    }
   ],
   "source": [
    "marg_eff_discrete(x_low, theta_hat, home=False)"
   ]
  },
  {
   "cell_type": "code",
   "execution_count": 456,
   "metadata": {},
   "outputs": [],
   "source": [
    "se_all= delta(marg_eff_discrete, theta_hat, cov_hat, x, home=True)\n",
    "se_upper_half = delta(marg_eff_discrete, theta_hat, cov_hat, x_high, home=True)\n",
    "se_lower_half = delta(marg_eff_discrete, theta_hat, cov_hat, x_low, home=True)"
   ]
  },
  {
   "cell_type": "code",
   "execution_count": 457,
   "metadata": {},
   "outputs": [],
   "source": [
    "part_effects = [whole_market_price_eff, lower_half_price_eff, upper_half_price_eff]\n",
    "se_price = [se_all[0].round(3), se_lower_half[0].round(3), se_upper_half[0].round(3)]\n",
    "t = [i/j for i,j in zip(part_effects, se_price)]"
   ]
  },
  {
   "cell_type": "code",
   "execution_count": 458,
   "metadata": {},
   "outputs": [
    {
     "name": "stdout",
     "output_type": "stream",
     "text": [
      "\\begin{tabular}{lrrr}\n",
      "\\toprule\n",
      "{} &  Partial effect &     SE &      t \\\\\n",
      "\\midrule\n",
      "Whole market &           0.113 &  0.046 &  2.456 \\\\\n",
      "Lower half   &           0.052 &  0.023 &  2.275 \\\\\n",
      "Upper half   &          -0.059 &  0.031 & -1.893 \\\\\n",
      "\\bottomrule\n",
      "\\end{tabular}\n",
      "\n"
     ]
    },
    {
     "name": "stderr",
     "output_type": "stream",
     "text": [
      "C:\\Users\\JBH\\AppData\\Local\\Temp\\ipykernel_6768\\1436933095.py:2: FutureWarning: In future versions `DataFrame.to_latex` is expected to utilise the base implementation of `Styler.to_latex` for formatting and rendering. The arguments signature may therefore change. It is recommended instead to use `DataFrame.style.to_latex` which also contains additional functionality.\n",
      "  print(pd.DataFrame(part_effects_dict, index=['Whole market', 'Lower half', 'Upper half']).round(3).to_latex())\n"
     ]
    }
   ],
   "source": [
    "part_effects_dict = {'Partial effect': part_effects, 'SE': se_price, 't':t}\n",
    "print(pd.DataFrame(part_effects_dict, index=['Whole market', 'Lower half', 'Upper half']).round(3).to_latex())"
   ]
  },
  {
   "cell_type": "code",
   "execution_count": null,
   "metadata": {},
   "outputs": [],
   "source": [
    "E_own_high = own_elasticity_numerical(x_high, theta_hat)\n",
    "E_own_low = own_elasticity_numerical(x_low, theta_hat)"
   ]
  },
  {
   "cell_type": "code",
   "execution_count": null,
   "metadata": {},
   "outputs": [
    {
     "data": {
      "text/plain": [
       "-0.0024114610322768897"
      ]
     },
     "execution_count": 113,
     "metadata": {},
     "output_type": "execute_result"
    }
   ],
   "source": [
    "E_own_high_home = E_own_high[idx_home_high]\n",
    "E_own_high_home.mean()"
   ]
  },
  {
   "cell_type": "code",
   "execution_count": null,
   "metadata": {},
   "outputs": [
    {
     "data": {
      "text/plain": [
       "-0.0023351512040170777"
      ]
     },
     "execution_count": 114,
     "metadata": {},
     "output_type": "execute_result"
    }
   ],
   "source": [
    "E_own_low_home = E_own_low[idx_home_low]\n",
    "E_own_low_home.mean()"
   ]
  },
  {
   "cell_type": "code",
   "execution_count": null,
   "metadata": {},
   "outputs": [],
   "source": [
    "E_own_high_se = delta(own_elasticity_numerical, theta_hat, cov_hat, x_high)\n",
    "E_own_low_se = delta(own_elasticity_numerical, theta_hat, cov_hat, x_low)"
   ]
  },
  {
   "cell_type": "code",
   "execution_count": null,
   "metadata": {},
   "outputs": [
    {
     "data": {
      "text/plain": [
       "0.002949198607549271"
      ]
     },
     "execution_count": 116,
     "metadata": {},
     "output_type": "execute_result"
    }
   ],
   "source": [
    "E_own_high_home_se = E_own_high_se[idx_home_high.flatten()].mean()\n",
    "E_own_high_home_se"
   ]
  },
  {
   "cell_type": "code",
   "execution_count": null,
   "metadata": {},
   "outputs": [
    {
     "data": {
      "text/plain": [
       "0.0028555581744584132"
      ]
     },
     "execution_count": 117,
     "metadata": {},
     "output_type": "execute_result"
    }
   ],
   "source": [
    "E_own_low_home_se = E_own_low_se[idx_home_low.flatten()].mean()\n",
    "E_own_low_home_se"
   ]
  },
  {
   "attachments": {},
   "cell_type": "markdown",
   "metadata": {},
   "source": [
    "---\n",
    "\n",
    "# Old stuff (analytical derivatives, delta/bootstrap messy code)\n",
    "\n",
    "---"
   ]
  },
  {
   "cell_type": "code",
   "execution_count": 127,
   "metadata": {},
   "outputs": [],
   "source": [
    "def marg_eff_discrete_test(\n",
    "    x, \n",
    "    theta_hat, \n",
    "    home\n",
    "    ):\n",
    "\n",
    "    N,J,K = x.shape\n",
    "\n",
    "    k_price = 0\n",
    "    k_home = 1\n",
    "    k_price_x_home = 2\n",
    "\n",
    "    x_partial_0 = x.copy()\n",
    "    x_partial_1 = x.copy()\n",
    "\n",
    "    idx_home = (x[:, :, k_price]>median) & (x[:,:,k_home] == 1)\n",
    "    idx_foreign = (x[:, :, k_price]>median) & (x[:,:,k_home] == 0)\n",
    "\n",
    "    x_partial_0[:,:, k_home]=0\n",
    "    x_partial_0[:, :, k_price_x_home]=x_partial_0[:,:, k_price]*x_partial_0[:,:, k_home]\n",
    "\n",
    "    x_partial_1[:, :, k_home] = 1\n",
    "    x_partial_1[:, :, k_price_x_home] = x_partial_1[:, :, k_price]*x_partial_1[:, :, k_home]\n",
    "\n",
    "    ccp_grad = clogit.choice_prob(theta_hat, x_partial_1)-clogit.choice_prob(theta_hat, x_partial_0)\n",
    "    # Specify as to look at the difference in choice probabilities for cars that were in fact home-produced or were in fact foreign-produced\n",
    "\n",
    "    if home == True:\n",
    "        ccp_grad = ccp_grad[idx_home]\n",
    "    else: \n",
    "        ccp_grad = ccp_grad[idx_foreign]\n",
    "    return ccp_grad"
   ]
  },
  {
   "cell_type": "code",
   "execution_count": 136,
   "metadata": {},
   "outputs": [],
   "source": [
    "test = (x[:, :, k_price]>median) & (x[:,:,k_home] == 1)\n",
    "new = x[test]"
   ]
  },
  {
   "cell_type": "code",
   "execution_count": null,
   "metadata": {},
   "outputs": [],
   "source": [
    "new[:, :, k_home]"
   ]
  },
  {
   "cell_type": "code",
   "execution_count": 130,
   "metadata": {},
   "outputs": [
    {
     "data": {
      "text/plain": [
       "(1898,)"
      ]
     },
     "execution_count": 130,
     "metadata": {},
     "output_type": "execute_result"
    }
   ],
   "source": [
    "marg_eff_discrete_test(x, theta_hat, home=False).shape"
   ]
  },
  {
   "cell_type": "code",
   "execution_count": 131,
   "metadata": {},
   "outputs": [
    {
     "data": {
      "text/plain": [
       "(1898,)"
      ]
     },
     "execution_count": 131,
     "metadata": {},
     "output_type": "execute_result"
    }
   ],
   "source": [
    "marg_eff_discrete_test(x, theta_hat, home=False).shape"
   ]
  },
  {
   "cell_type": "code",
   "execution_count": null,
   "metadata": {},
   "outputs": [],
   "source": [
    "def cross_price_elas(x, theta):\n",
    "\n",
    "    N,J,K = x.shape\n",
    "    E       = np.zeros((N,J))\n",
    "    k_price = 0\n",
    "    k_home = 1\n",
    "    k_price_x_home = 2    \n",
    "\n",
    "    ccp = clogit.choice_prob(theta, x)\n",
    "\n",
    "    # analytical\n",
    "    for j in range(J):\n",
    "        k_not_j = [k for k in range(J) if k != j]\n",
    "        E[:, j] = np.mean(-(theta[k_price]+x[:,k_not_j,k_home]*theta[k_price_x_home])*ccp[:, k_not_j], axis=1)\n",
    "    \n",
    "    \n",
    "    return np.mean(E)"
   ]
  },
  {
   "cell_type": "code",
   "execution_count": null,
   "metadata": {},
   "outputs": [],
   "source": [
    "def own_price_elas(x, theta):\n",
    "    N,J,K = x.shape\n",
    "    E       = np.zeros((N,J))\n",
    "    k_price = 0\n",
    "    k_home = 1\n",
    "    k_price_x_home = 2\n",
    "    \n",
    "    ccp = clogit.choice_prob(theta, x)\n",
    "    \n",
    "    # Analytically \n",
    "    for j in range(J):\n",
    "        E[:, j] = (theta[k_price]+x[:,j,k_home]*theta[k_price_x_home])*(1-ccp[:,j])\n",
    "    \n",
    "    return np.mean(E)"
   ]
  },
  {
   "cell_type": "code",
   "execution_count": null,
   "metadata": {},
   "outputs": [],
   "source": [
    "def own_price_elas_home(x, theta):\n",
    "    N,J,K = x.shape\n",
    "    E       = np.zeros((N,J))\n",
    "    k_price = 0\n",
    "    k_home = 1\n",
    "    k_price_x_home = 2\n",
    "    \n",
    "    ccp = clogit.choice_prob(theta, x)\n",
    "    \n",
    "    # Analytically \n",
    "    for j in range(J):\n",
    "        E[:, j] = (theta[k_price]+x[:,j,k_home]*theta[k_price_x_home])*(1-ccp[:,j])\n",
    "        idx = x[:, :, 1]==1 #Evaluated at all home-produced cars\n",
    "    \n",
    "    return np.mean(E[idx])"
   ]
  },
  {
   "cell_type": "code",
   "execution_count": null,
   "metadata": {},
   "outputs": [],
   "source": [
    "def own_price_elas_foreign(x, theta):\n",
    "    N,J,K = x.shape\n",
    "    E       = np.zeros((N,J))\n",
    "    k_price = 0\n",
    "    k_home = 1\n",
    "    k_price_x_home = 2\n",
    "    \n",
    "    ccp = clogit.choice_prob(theta, x)\n",
    "    \n",
    "    # Analytically \n",
    "    for j in range(J):\n",
    "        E[:, j] = (theta[k_price]+x[:,j,k_home]*theta[k_price_x_home])*(1-ccp[:,j])\n",
    "        idx = x[:, :, 1]==0 #Evaluated at all foreign-produced cars\n",
    "    \n",
    "    return np.mean(E[idx])"
   ]
  },
  {
   "cell_type": "code",
   "execution_count": null,
   "metadata": {},
   "outputs": [
    {
     "data": {
      "text/plain": [
       "-0.20536080697229842"
      ]
     },
     "execution_count": 78,
     "metadata": {},
     "output_type": "execute_result"
    }
   ],
   "source": [
    "own_price_elas(x, theta_hat)"
   ]
  },
  {
   "cell_type": "code",
   "execution_count": null,
   "metadata": {},
   "outputs": [
    {
     "data": {
      "text/plain": [
       "-0.10994118393908991"
      ]
     },
     "execution_count": 79,
     "metadata": {},
     "output_type": "execute_result"
    }
   ],
   "source": [
    "own_price_elas_home(x, theta_hat)"
   ]
  },
  {
   "cell_type": "code",
   "execution_count": null,
   "metadata": {},
   "outputs": [
    {
     "data": {
      "text/plain": [
       "-0.24951157355372933"
      ]
     },
     "execution_count": 80,
     "metadata": {},
     "output_type": "execute_result"
    }
   ],
   "source": [
    "own_price_elas_foreign(x, theta_hat)"
   ]
  },
  {
   "cell_type": "code",
   "execution_count": null,
   "metadata": {},
   "outputs": [
    {
     "data": {
      "text/plain": [
       "0.004424907588514078"
      ]
     },
     "execution_count": 81,
     "metadata": {},
     "output_type": "execute_result"
    }
   ],
   "source": [
    "cross_price_elas(x, theta_hat)"
   ]
  },
  {
   "cell_type": "code",
   "execution_count": null,
   "metadata": {},
   "outputs": [],
   "source": [
    "def delta(func,cov_hat, theta_hat, x):\n",
    "    h = func(x, theta_hat) #This calculates the own-price/cross-price elasiticity\n",
    "    h2 = lambda coef: func(x, coef) #Defining a helper function that takes a single input (estimates from our logit model). So this can be passed to the gradient function\n",
    "    grad = est.centered_grad(h2, theta_hat) #Gradient evaluated of the output at the given theta_hat\n",
    "    variance = grad@cov_hat@grad.T \n",
    "    se = np.sqrt(np.diag(variance))\n",
    "    t_stat = h/se \n",
    "    res = {'theta_hat': h.round(3), 'se': se[0].round(4), 't-stat': t_stat[0].round(4)}\n",
    "    return res"
   ]
  },
  {
   "cell_type": "code",
   "execution_count": null,
   "metadata": {},
   "outputs": [],
   "source": [
    "own_price_elas_dict = delta(own_price_elas, cov_hat, theta_hat, x)\n",
    "cross_price_elas_dict = delta(cross_price_elas, cov_hat, theta_hat, x)\n",
    "\n",
    "own_price_elas_dict_home = delta(own_price_elas_home, cov_hat, theta_hat, x)\n",
    "own_price_elas_dict_foreign = delta(own_price_elas_foreign, cov_hat, theta_hat, x)"
   ]
  },
  {
   "cell_type": "code",
   "execution_count": null,
   "metadata": {},
   "outputs": [
    {
     "name": "stdout",
     "output_type": "stream",
     "text": [
      "\\begin{tabular}{lll}\n",
      "\\toprule\n",
      "                       & {} & Elasticity \\\\\n",
      "\\midrule\n",
      "Own-price elasticity & {} &       -0.2 \\\\\n",
      "                       & {} &    (0.126) \\\\\n",
      "Own-price elasticity - home produced & {} &      -0.11 \\\\\n",
      "                       & {} &    (0.134) \\\\\n",
      "Own-price elasticity - foreign produced & {} &    -0.25** \\\\\n",
      "                       & {} &    (0.126) \\\\\n",
      "Cross-price elasticity & {} &        0.0 \\\\\n",
      "                       & {} &    (0.003) \\\\\n",
      "\\bottomrule\n",
      "\\end{tabular}\n",
      "\n"
     ]
    },
    {
     "name": "stderr",
     "output_type": "stream",
     "text": [
      "C:\\Users\\JBH\\AppData\\Local\\Temp\\ipykernel_2644\\3832926791.py:11: FutureWarning: In future versions `DataFrame.to_latex` is expected to utilise the base implementation of `Styler.to_latex` for formatting and rendering. The arguments signature may therefore change. It is recommended instead to use `DataFrame.style.to_latex` which also contains additional functionality.\n",
      "  print(pd.concat(tabs).rename(index={'theta': '', 'se': ''}).to_latex())\n"
     ]
    }
   ],
   "source": [
    "tab1 = clogit.outreg(own_price_elas_dict, var_labels=['Own-price elasticity'], name='Elasticity')\n",
    "\n",
    "tab2 = clogit.outreg(own_price_elas_dict_home, var_labels=['Own-price elasticity - home produced'], name='Elasticity')\n",
    "\n",
    "tab3 = clogit.outreg(own_price_elas_dict_foreign, var_labels=['Own-price elasticity - foreign produced'], name='Elasticity')\n",
    "\n",
    "tab4 = clogit.outreg(cross_price_elas_dict, var_labels=['Cross-price elasticity'], name='Elasticity')\n",
    "\n",
    "tabs = [tab1, tab2, tab3, tab4]\n",
    "\n",
    "print(pd.concat(tabs).rename(index={'theta': '', 'se': ''}).to_latex())\n"
   ]
  },
  {
   "cell_type": "code",
   "execution_count": null,
   "metadata": {},
   "outputs": [],
   "source": []
  },
  {
   "cell_type": "code",
   "execution_count": null,
   "metadata": {},
   "outputs": [],
   "source": [
    "def bootstrap_sample(y,x): \n",
    "    '''bootstrap_sample: samples a new dataset (with replacement) from the input. \n",
    "    Args. \n",
    "        y: 1-dimensional N-array\n",
    "        x: (N,K) matrix \n",
    "    Returns\n",
    "        tuple: y_i, x_i \n",
    "            y_i: N-array\n",
    "            x_i: (N,K) matrix \n",
    "    '''\n",
    "    N,K = y.shape\n",
    "    \n",
    "    # FILL IN \n",
    "    ii_boot = np.random.choice(N, N, replace=True) # vector of indices for rows \n",
    "\n",
    "    y_i = y[ii_boot] # selection of N rows from y \n",
    "    x_i = x[ii_boot] # selection of N rows from x \n",
    "    \n",
    "    return y_i, x_i "
   ]
  },
  {
   "cell_type": "code",
   "execution_count": null,
   "metadata": {},
   "outputs": [
    {
     "name": "stdout",
     "output_type": "stream",
     "text": [
      "Bootstrap iteration 1/1000\n",
      "Optimization terminated successfully.\n",
      "         Current function value: 3.483091\n",
      "         Iterations: 263\n",
      "         Function evaluations: 10865\n",
      "         Gradient evaluations: 265\n",
      "Failed to compute std. errs.: got error \"Singular matrix\"\n"
     ]
    },
    {
     "ename": "NameError",
     "evalue": "name 'own_price_elas_num' is not defined",
     "output_type": "error",
     "traceback": [
      "\u001b[1;31m---------------------------------------------------------------------------\u001b[0m",
      "\u001b[1;31mNameError\u001b[0m                                 Traceback (most recent call last)",
      "Cell \u001b[1;32mIn[86], line 26\u001b[0m\n\u001b[0;32m     22\u001b[0m theta_hat_boot \u001b[39m=\u001b[39m res[\u001b[39m'\u001b[39m\u001b[39mtheta\u001b[39m\u001b[39m'\u001b[39m]\n\u001b[0;32m     24\u001b[0m ccp_i \u001b[39m=\u001b[39m clogit\u001b[39m.\u001b[39mchoice_prob(theta_hat_boot, x_i)\n\u001b[1;32m---> 26\u001b[0m own_p_elas \u001b[39m=\u001b[39m own_price_elas_num(x_i, theta_hat_boot)\n\u001b[0;32m     27\u001b[0m own_p_elas_home \u001b[39m=\u001b[39m own_price_elas_num_home(x_i, theta_hat_boot)\n\u001b[0;32m     28\u001b[0m own_p_elas_foreign \u001b[39m=\u001b[39m own_price_elas_num_foreign(x_i, theta_hat_boot)\n",
      "\u001b[1;31mNameError\u001b[0m: name 'own_price_elas_num' is not defined"
     ]
    }
   ],
   "source": [
    "nboot = 1000  # Number of bootstraps, should ideally be very large \n",
    "\n",
    "# Set seed for random sampling.\n",
    "seed = 42\n",
    "rng = default_rng()\n",
    "\n",
    "# initialize \n",
    "E_own = np.empty((nboot,J))\n",
    "E_own_home = np.empty((nboot,J))\n",
    "E_own_foreign = np.empty((nboot, J))\n",
    "E_cross = np.empty((nboot,J))\n",
    "\n",
    "for i in range(nboot): \n",
    "    print(f'Bootstrap iteration {i+1}/{nboot}')\n",
    "    \n",
    "    # 1. choose which individuals to draw\n",
    "    y_i, x_i = bootstrap_sample(y,x) # Fill in: call the bootstrap sample function \n",
    "    # 2. estimate and compute \n",
    "\n",
    "    res = est.estimate(clogit.q2,theta_start, y_i, x_i, cov_type='Sandwich')\n",
    "\n",
    "    theta_hat_boot = res['theta']\n",
    "\n",
    "    ccp_i = clogit.choice_prob(theta_hat_boot, x_i)\n",
    "\n",
    "    own_p_elas = own_price_elas_num(x_i, theta_hat_boot)\n",
    "    own_p_elas_home = own_price_elas_num_home(x_i, theta_hat_boot)\n",
    "    own_p_elas_foreign = own_price_elas_num_foreign(x_i, theta_hat_boot)\n",
    "    cross_p_elas = cross_price_elas_num(x_i, theta_hat_boot)\n",
    "\n",
    "    E_own[i,:] = own_p_elas\n",
    "    E_own_home[i, :] = own_p_elas_home\n",
    "    E_own_foreign[i, :] = own_p_elas_foreign\n",
    "    \n",
    "    E_cross[i,:] = cross_p_elas"
   ]
  },
  {
   "attachments": {},
   "cell_type": "markdown",
   "metadata": {},
   "source": [
    "2) Bootstrapping"
   ]
  },
  {
   "cell_type": "code",
   "execution_count": null,
   "metadata": {},
   "outputs": [],
   "source": [
    "res_bootstrap_own_p = {'theta_hat': np.mean(E_own).round(3), 'se': np.std(E_own).round(4), 't-stat': np.mean(E_own).round(3)/np.std(E_own).round(4)}\n",
    "\n",
    "res_bootstrap_own_p_home = {'theta_hat': np.mean(E_own_home).round(3), 'se': np.std(E_own_home).round(4), 't-stat': np.mean(E_own_home).round(3)/np.std(E_own).round(4)}\n",
    "\n",
    "res_bootstrap_own_p_foreign = {'theta_hat': np.mean(E_own_foreign).round(3), 'se': np.std(E_own_foreign).round(4), 't-stat': np.mean(E_own_foreign).round(3)/np.std(E_own).round(4)}\n",
    "\n",
    "res_bootstrap_cross_p = {'theta_hat': np.mean(E_cross).round(3), 'se': np.std(E_cross).round(4), 't-stat': np.mean(E_cross).round(3)/np.std(E_cross).round(4)}"
   ]
  },
  {
   "cell_type": "code",
   "execution_count": null,
   "metadata": {},
   "outputs": [
    {
     "name": "stdout",
     "output_type": "stream",
     "text": [
      "\\begin{tabular}{lll}\n",
      "\\toprule\n",
      "                       & {} & NUMERICAL Elasticity (bootstrap) \\\\\n",
      "\\midrule\n",
      "Own-price elasticity & {} &                             -0.0 \\\\\n",
      "                       & {} &                          (0.003) \\\\\n",
      "Own-price elasticity - home produced & {} &                             -0.0 \\\\\n",
      "                       & {} &                          (0.004) \\\\\n",
      "Own-price elasticity - foreign produced & {} &                           -0.01* \\\\\n",
      "                       & {} &                          (0.003) \\\\\n",
      "Cross-price elasticity & {} &                              0.0 \\\\\n",
      "                       & {} &                            (0.0) \\\\\n",
      "\\bottomrule\n",
      "\\end{tabular}\n",
      "\n"
     ]
    },
    {
     "name": "stderr",
     "output_type": "stream",
     "text": [
      "C:\\Users\\JBH\\AppData\\Local\\Temp\\ipykernel_21196\\990101563.py:11: FutureWarning: In future versions `DataFrame.to_latex` is expected to utilise the base implementation of `Styler.to_latex` for formatting and rendering. The arguments signature may therefore change. It is recommended instead to use `DataFrame.style.to_latex` which also contains additional functionality.\n",
      "  print(pd.concat(tabs).rename(index={'theta': '', 'se': ''}).to_latex())\n"
     ]
    }
   ],
   "source": [
    "tab1 = clogit.outreg(res_bootstrap_own_p, var_labels=['Own-price elasticity'], name='NUMERICAL Elasticity (bootstrap)')\n",
    "\n",
    "tab2 = clogit.outreg(res_bootstrap_own_p_home, var_labels=['Own-price elasticity - home produced'], name='NUMERICAL Elasticity (bootstrap)')\n",
    "\n",
    "tab3 = clogit.outreg(res_bootstrap_own_p_foreign, var_labels=['Own-price elasticity - foreign produced'], name='NUMERICAL Elasticity (bootstrap)')\n",
    "\n",
    "tab4 = clogit.outreg(res_bootstrap_cross_p, var_labels=['Cross-price elasticity'], name='NUMERICAL Elasticity (bootstrap)')\n",
    "\n",
    "tabs = [tab1, tab2, tab3, tab4]\n",
    "\n",
    "print(pd.concat(tabs).rename(index={'theta': '', 'se': ''}).to_latex())"
   ]
  },
  {
   "cell_type": "code",
   "execution_count": null,
   "metadata": {},
   "outputs": [],
   "source": []
  },
  {
   "cell_type": "code",
   "execution_count": null,
   "metadata": {},
   "outputs": [],
   "source": [
    "def marg_eff_discrete2(\n",
    "    x, \n",
    "    theta_hat, \n",
    "    home,\n",
    "    expensive\n",
    "    ):\n",
    "    \n",
    "    x_partial_0 = x.copy()\n",
    "    x_partial_1 = x.copy()\n",
    "\n",
    "    k_price = 0\n",
    "    k_home = 1\n",
    "    k_price_x_home = 2\n",
    "    \n",
    "    # Boolean array for home-produced cars, for lower & upper half respectively\n",
    "    idx_home_low = (x[:, :, k_price]<median) & (x[:, :, k_home] == 1)\n",
    "    idx_home_high = (x[:, :, k_price]>median) & (x[:, :, k_home] == 1)\n",
    "\n",
    "    # Boolean array for foreign-produced cars, for lower & upper half respectively \n",
    "    idx_foreign_low = (x[:, :, k_price]<median) & (x[:, :, k_home] == 0)\n",
    "    idx_foreign_high = (x[:, :, k_price]>median) & (x[:, :, k_home] == 0)\n",
    "\n",
    "    x_partial_0[:,:, k_home]=0\n",
    "    x_partial_0[:, :, k_price_x_home]=x_partial_0[:,:, k_price]*x_partial_0[:,:, k_home]\n",
    "\n",
    "    x_partial_1[:, :, k_home] = 1\n",
    "    x_partial_1[:, :, k_price_x_home] = x_partial_1[:, :, k_price]*x_partial_1[:, :, k_home]\n",
    "\n",
    "    ccp_grad = clogit.choice_prob(theta_hat, x_partial_1)-clogit.choice_prob(theta_hat, x_partial_0)\n",
    "\n",
    "    # Specify as to look at the difference in choice probabilities for cars that were in fact home-produced or were in fact foreign-produced\n",
    "\n",
    "    if home == True & expensive == True:\n",
    "        ccp_grad = ccp_grad[idx_home_high]\n",
    "    elif home == True & expensive == False:\n",
    "        ccp_grad = ccp_grad[idx_home_low]\n",
    "    elif home == False & expensive == True:\n",
    "        ccp_grad = ccp_grad[idx_foreign_high]\n",
    "    elif home == False & expensive == False:\n",
    "        ccp_grad = ccp_grad[idx_foreign_low]\n",
    "    return ccp_grad"
   ]
  },
  {
   "cell_type": "code",
   "execution_count": null,
   "metadata": {},
   "outputs": [
    {
     "data": {
      "text/plain": [
       "0.0006544383804338886"
      ]
     },
     "metadata": {},
     "output_type": "display_data"
    }
   ],
   "source": [
    "marg_eff_discrete2(x, theta_hat, home=True, expensive=True).mean()"
   ]
  }
 ],
 "metadata": {
  "kernelspec": {
   "display_name": "Python 3.9.15 ('base')",
   "language": "python",
   "name": "python3"
  },
  "language_info": {
   "codemirror_mode": {
    "name": "ipython",
    "version": 3
   },
   "file_extension": ".py",
   "mimetype": "text/x-python",
   "name": "python",
   "nbconvert_exporter": "python",
   "pygments_lexer": "ipython3",
   "version": "3.9.15 (main, Nov 24 2022, 14:39:17) [MSC v.1916 64 bit (AMD64)]"
  },
  "orig_nbformat": 4,
  "vscode": {
   "interpreter": {
    "hash": "054e95b4819972eba8d406807e822e3be9cca805528e86310f8e3ac8dc287778"
   }
  }
 },
 "nbformat": 4,
 "nbformat_minor": 2
}
