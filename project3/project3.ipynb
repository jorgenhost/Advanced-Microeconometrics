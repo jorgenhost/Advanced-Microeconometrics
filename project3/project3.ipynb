{
 "cells": [
  {
   "cell_type": "code",
   "execution_count": 1,
   "metadata": {},
   "outputs": [],
   "source": [
    "import numpy as np \n",
    "import pandas as pd \n",
    "import matplotlib.pyplot as plt \n",
    "import seaborn as sns \n",
    "sns.set_theme()\n",
    "\n",
    "# optimization\n",
    "from scipy import optimize\n",
    "\n",
    "# For quick OLS\n",
    "#import statsmodels.formula.api as smf\n",
    "\n",
    "# Import our toolbox\n",
    "import clogit as clogit\n",
    "import estimation as est"
   ]
  },
  {
   "cell_type": "markdown",
   "metadata": {},
   "source": [
    "# Read in data\n",
    "\n",
    "The dataset, `cars.csv`, contains cleaned and processed data. If you want to make changes, the notebook, `materialize.ipynb`, creates the data from the raw source datsets. "
   ]
  },
  {
   "cell_type": "code",
   "execution_count": 2,
   "metadata": {},
   "outputs": [],
   "source": [
    "cars = pd.read_csv('cars.csv')\n",
    "lbl_vars = pd.read_csv('labels_variables.csv')\n",
    "lbl_vals = pd.read_csv('labels_values.csv')\n",
    "\n",
    "# convert from dataframe to dict\n",
    "lbl_vals = {c: lbl_vals[c].dropna().to_dict() for c in lbl_vals.columns}"
   ]
  },
  {
   "cell_type": "code",
   "execution_count": 3,
   "metadata": {},
   "outputs": [],
   "source": [
    "lbl_vars.set_index('variable', inplace=True)"
   ]
  },
  {
   "cell_type": "markdown",
   "metadata": {},
   "source": [
    "## Overview of the dataset"
   ]
  },
  {
   "cell_type": "code",
   "execution_count": 4,
   "metadata": {},
   "outputs": [
    {
     "data": {
      "text/html": [
       "<div>\n",
       "<style scoped>\n",
       "    .dataframe tbody tr th:only-of-type {\n",
       "        vertical-align: middle;\n",
       "    }\n",
       "\n",
       "    .dataframe tbody tr th {\n",
       "        vertical-align: top;\n",
       "    }\n",
       "\n",
       "    .dataframe thead th {\n",
       "        text-align: right;\n",
       "    }\n",
       "</style>\n",
       "<table border=\"1\" class=\"dataframe\">\n",
       "  <thead>\n",
       "    <tr style=\"text-align: right;\">\n",
       "      <th></th>\n",
       "      <th>label</th>\n",
       "      <th>Mean</th>\n",
       "    </tr>\n",
       "    <tr>\n",
       "      <th>variable</th>\n",
       "      <th></th>\n",
       "      <th></th>\n",
       "    </tr>\n",
       "  </thead>\n",
       "  <tbody>\n",
       "    <tr>\n",
       "      <th>ye</th>\n",
       "      <td>year (=first dimension of panel)</td>\n",
       "      <td>84.50</td>\n",
       "    </tr>\n",
       "    <tr>\n",
       "      <th>ma</th>\n",
       "      <td>market (=second dimension of panel)</td>\n",
       "      <td>3.00</td>\n",
       "    </tr>\n",
       "    <tr>\n",
       "      <th>co</th>\n",
       "      <td>model code (=third dimension of panel)</td>\n",
       "      <td>207.50</td>\n",
       "    </tr>\n",
       "    <tr>\n",
       "      <th>zcode</th>\n",
       "      <td>alternative model code (predecessors and succe...</td>\n",
       "      <td>177.76</td>\n",
       "    </tr>\n",
       "    <tr>\n",
       "      <th>brd</th>\n",
       "      <td>brand code</td>\n",
       "      <td>16.79</td>\n",
       "    </tr>\n",
       "    <tr>\n",
       "      <th>type</th>\n",
       "      <td>name of brand and model</td>\n",
       "      <td>NaN</td>\n",
       "    </tr>\n",
       "    <tr>\n",
       "      <th>brand</th>\n",
       "      <td>name of brand</td>\n",
       "      <td>NaN</td>\n",
       "    </tr>\n",
       "    <tr>\n",
       "      <th>model</th>\n",
       "      <td>name of model</td>\n",
       "      <td>NaN</td>\n",
       "    </tr>\n",
       "    <tr>\n",
       "      <th>org</th>\n",
       "      <td>origin code (demand side, country with which c...</td>\n",
       "      <td>2.72</td>\n",
       "    </tr>\n",
       "    <tr>\n",
       "      <th>loc</th>\n",
       "      <td>location code (production side, country where ...</td>\n",
       "      <td>5.17</td>\n",
       "    </tr>\n",
       "    <tr>\n",
       "      <th>cla</th>\n",
       "      <td>class or segment code</td>\n",
       "      <td>2.30</td>\n",
       "    </tr>\n",
       "    <tr>\n",
       "      <th>home</th>\n",
       "      <td>domestic car dummy (appropriate interaction of...</td>\n",
       "      <td>0.32</td>\n",
       "    </tr>\n",
       "    <tr>\n",
       "      <th>frm</th>\n",
       "      <td>firm code</td>\n",
       "      <td>14.50</td>\n",
       "    </tr>\n",
       "    <tr>\n",
       "      <th>qu</th>\n",
       "      <td>sales (number of new car registrations)</td>\n",
       "      <td>35606.68</td>\n",
       "    </tr>\n",
       "    <tr>\n",
       "      <th>cy</th>\n",
       "      <td>cylinder volume or displacement (in cc)</td>\n",
       "      <td>1337.09</td>\n",
       "    </tr>\n",
       "    <tr>\n",
       "      <th>hp</th>\n",
       "      <td>horsepower (in kW)</td>\n",
       "      <td>50.10</td>\n",
       "    </tr>\n",
       "    <tr>\n",
       "      <th>we</th>\n",
       "      <td>weight (in kg)</td>\n",
       "      <td>934.49</td>\n",
       "    </tr>\n",
       "    <tr>\n",
       "      <th>pl</th>\n",
       "      <td>places (number, not reliable variable)</td>\n",
       "      <td>4.88</td>\n",
       "    </tr>\n",
       "    <tr>\n",
       "      <th>do</th>\n",
       "      <td>doors (number, not reliable variable)</td>\n",
       "      <td>3.55</td>\n",
       "    </tr>\n",
       "    <tr>\n",
       "      <th>le</th>\n",
       "      <td>length (in cm)</td>\n",
       "      <td>409.24</td>\n",
       "    </tr>\n",
       "    <tr>\n",
       "      <th>wi</th>\n",
       "      <td>width (in cm)</td>\n",
       "      <td>163.44</td>\n",
       "    </tr>\n",
       "    <tr>\n",
       "      <th>he</th>\n",
       "      <td>height (in cm)</td>\n",
       "      <td>140.46</td>\n",
       "    </tr>\n",
       "    <tr>\n",
       "      <th>li1</th>\n",
       "      <td>measure 1 for fuel efficiency (liter per km, a...</td>\n",
       "      <td>6.59</td>\n",
       "    </tr>\n",
       "    <tr>\n",
       "      <th>li2</th>\n",
       "      <td>measure 2 for fuel efficiency (liter per km, a...</td>\n",
       "      <td>8.11</td>\n",
       "    </tr>\n",
       "    <tr>\n",
       "      <th>li3</th>\n",
       "      <td>measure 3 for fuel efficiency (liter per km, a...</td>\n",
       "      <td>8.92</td>\n",
       "    </tr>\n",
       "    <tr>\n",
       "      <th>li</th>\n",
       "      <td>average of li1, li2, li3 (used in papers)</td>\n",
       "      <td>7.87</td>\n",
       "    </tr>\n",
       "    <tr>\n",
       "      <th>sp</th>\n",
       "      <td>maximum speed (km/hour)</td>\n",
       "      <td>154.22</td>\n",
       "    </tr>\n",
       "    <tr>\n",
       "      <th>ac</th>\n",
       "      <td>time to acceleration (in seconds from 0 to 100...</td>\n",
       "      <td>16.27</td>\n",
       "    </tr>\n",
       "    <tr>\n",
       "      <th>pr</th>\n",
       "      <td>price (in destination currency including V.A.T.)</td>\n",
       "      <td>2608988.58</td>\n",
       "    </tr>\n",
       "    <tr>\n",
       "      <th>princ</th>\n",
       "      <td>=pr/(ngdp/pop): price relative to per capita i...</td>\n",
       "      <td>0.76</td>\n",
       "    </tr>\n",
       "    <tr>\n",
       "      <th>eurpr</th>\n",
       "      <td>=pr/avdexr: price in common currency (in SDR t...</td>\n",
       "      <td>7256.92</td>\n",
       "    </tr>\n",
       "    <tr>\n",
       "      <th>exppr</th>\n",
       "      <td>=pr/avexr: price in exporter currency</td>\n",
       "      <td>600384.65</td>\n",
       "    </tr>\n",
       "    <tr>\n",
       "      <th>avexr</th>\n",
       "      <td>av. exchange rate of exporter country (exporte...</td>\n",
       "      <td>229.30</td>\n",
       "    </tr>\n",
       "    <tr>\n",
       "      <th>avdexr</th>\n",
       "      <td>av. exchange rate of destination country (dest...</td>\n",
       "      <td>319.91</td>\n",
       "    </tr>\n",
       "    <tr>\n",
       "      <th>avcpr</th>\n",
       "      <td>av. consumer price index of exporter country</td>\n",
       "      <td>492.53</td>\n",
       "    </tr>\n",
       "    <tr>\n",
       "      <th>avppr</th>\n",
       "      <td>av. producer price index of exporter country</td>\n",
       "      <td>671.77</td>\n",
       "    </tr>\n",
       "    <tr>\n",
       "      <th>avdcpr</th>\n",
       "      <td>av. consumer price index of destination country</td>\n",
       "      <td>77.02</td>\n",
       "    </tr>\n",
       "    <tr>\n",
       "      <th>avdppr</th>\n",
       "      <td>av. producer price index of destination country</td>\n",
       "      <td>87.69</td>\n",
       "    </tr>\n",
       "    <tr>\n",
       "      <th>xexr</th>\n",
       "      <td>avdexr/avexr</td>\n",
       "      <td>66.32</td>\n",
       "    </tr>\n",
       "    <tr>\n",
       "      <th>tax</th>\n",
       "      <td>percentage VAT</td>\n",
       "      <td>0.21</td>\n",
       "    </tr>\n",
       "    <tr>\n",
       "      <th>pop</th>\n",
       "      <td>population</td>\n",
       "      <td>49183800.00</td>\n",
       "    </tr>\n",
       "    <tr>\n",
       "      <th>ngdp</th>\n",
       "      <td>nominal gross domestic product of destination ...</td>\n",
       "      <td>178667304825541.97</td>\n",
       "    </tr>\n",
       "    <tr>\n",
       "      <th>rgdp</th>\n",
       "      <td>real gross domestic product</td>\n",
       "      <td>216716720230172.44</td>\n",
       "    </tr>\n",
       "    <tr>\n",
       "      <th>engdp</th>\n",
       "      <td>=ngdp/avdexr: nominal gdp in common currency (...</td>\n",
       "      <td>504371708122.45</td>\n",
       "    </tr>\n",
       "    <tr>\n",
       "      <th>ergdp</th>\n",
       "      <td>=rgdp/avexr</td>\n",
       "      <td>659002565347.56</td>\n",
       "    </tr>\n",
       "    <tr>\n",
       "      <th>engdpc</th>\n",
       "      <td>=engdp/pop: nominal gdp per capita in common c...</td>\n",
       "      <td>10015.84</td>\n",
       "    </tr>\n",
       "    <tr>\n",
       "      <th>ergdpc</th>\n",
       "      <td>=ergdp/pop</td>\n",
       "      <td>13264.84</td>\n",
       "    </tr>\n",
       "    <tr>\n",
       "      <th>s</th>\n",
       "      <td>market share (qu / qu_tot)</td>\n",
       "      <td>0.02</td>\n",
       "    </tr>\n",
       "    <tr>\n",
       "      <th>qu_tot</th>\n",
       "      <td>total sales in this market-year</td>\n",
       "      <td>1424267.29</td>\n",
       "    </tr>\n",
       "    <tr>\n",
       "      <th>inc</th>\n",
       "      <td>avg. income per capita</td>\n",
       "      <td>26829.74</td>\n",
       "    </tr>\n",
       "  </tbody>\n",
       "</table>\n",
       "</div>"
      ],
      "text/plain": [
       "                                                      label  \\\n",
       "variable                                                      \n",
       "ye                         year (=first dimension of panel)   \n",
       "ma                      market (=second dimension of panel)   \n",
       "co                   model code (=third dimension of panel)   \n",
       "zcode     alternative model code (predecessors and succe...   \n",
       "brd                                              brand code   \n",
       "type                                name of brand and model   \n",
       "brand                                         name of brand   \n",
       "model                                         name of model   \n",
       "org       origin code (demand side, country with which c...   \n",
       "loc       location code (production side, country where ...   \n",
       "cla                                   class or segment code   \n",
       "home      domestic car dummy (appropriate interaction of...   \n",
       "frm                                               firm code   \n",
       "qu                  sales (number of new car registrations)   \n",
       "cy                  cylinder volume or displacement (in cc)   \n",
       "hp                                       horsepower (in kW)   \n",
       "we                                           weight (in kg)   \n",
       "pl                   places (number, not reliable variable)   \n",
       "do                    doors (number, not reliable variable)   \n",
       "le                                           length (in cm)   \n",
       "wi                                            width (in cm)   \n",
       "he                                           height (in cm)   \n",
       "li1       measure 1 for fuel efficiency (liter per km, a...   \n",
       "li2       measure 2 for fuel efficiency (liter per km, a...   \n",
       "li3       measure 3 for fuel efficiency (liter per km, a...   \n",
       "li                average of li1, li2, li3 (used in papers)   \n",
       "sp                                  maximum speed (km/hour)   \n",
       "ac        time to acceleration (in seconds from 0 to 100...   \n",
       "pr         price (in destination currency including V.A.T.)   \n",
       "princ     =pr/(ngdp/pop): price relative to per capita i...   \n",
       "eurpr     =pr/avdexr: price in common currency (in SDR t...   \n",
       "exppr                 =pr/avexr: price in exporter currency   \n",
       "avexr     av. exchange rate of exporter country (exporte...   \n",
       "avdexr    av. exchange rate of destination country (dest...   \n",
       "avcpr          av. consumer price index of exporter country   \n",
       "avppr          av. producer price index of exporter country   \n",
       "avdcpr      av. consumer price index of destination country   \n",
       "avdppr      av. producer price index of destination country   \n",
       "xexr                                           avdexr/avexr   \n",
       "tax                                          percentage VAT   \n",
       "pop                                              population   \n",
       "ngdp      nominal gross domestic product of destination ...   \n",
       "rgdp                            real gross domestic product   \n",
       "engdp     =ngdp/avdexr: nominal gdp in common currency (...   \n",
       "ergdp                                           =rgdp/avexr   \n",
       "engdpc    =engdp/pop: nominal gdp per capita in common c...   \n",
       "ergdpc                                           =ergdp/pop   \n",
       "s                                market share (qu / qu_tot)   \n",
       "qu_tot                      total sales in this market-year   \n",
       "inc                                  avg. income per capita   \n",
       "\n",
       "                         Mean  \n",
       "variable                       \n",
       "ye                      84.50  \n",
       "ma                       3.00  \n",
       "co                     207.50  \n",
       "zcode                  177.76  \n",
       "brd                     16.79  \n",
       "type                      NaN  \n",
       "brand                     NaN  \n",
       "model                     NaN  \n",
       "org                      2.72  \n",
       "loc                      5.17  \n",
       "cla                      2.30  \n",
       "home                     0.32  \n",
       "frm                     14.50  \n",
       "qu                   35606.68  \n",
       "cy                    1337.09  \n",
       "hp                      50.10  \n",
       "we                     934.49  \n",
       "pl                       4.88  \n",
       "do                       3.55  \n",
       "le                     409.24  \n",
       "wi                     163.44  \n",
       "he                     140.46  \n",
       "li1                      6.59  \n",
       "li2                      8.11  \n",
       "li3                      8.92  \n",
       "li                       7.87  \n",
       "sp                     154.22  \n",
       "ac                      16.27  \n",
       "pr                 2608988.58  \n",
       "princ                    0.76  \n",
       "eurpr                 7256.92  \n",
       "exppr               600384.65  \n",
       "avexr                  229.30  \n",
       "avdexr                 319.91  \n",
       "avcpr                  492.53  \n",
       "avppr                  671.77  \n",
       "avdcpr                  77.02  \n",
       "avdppr                  87.69  \n",
       "xexr                    66.32  \n",
       "tax                      0.21  \n",
       "pop               49183800.00  \n",
       "ngdp       178667304825541.97  \n",
       "rgdp       216716720230172.44  \n",
       "engdp         504371708122.45  \n",
       "ergdp         659002565347.56  \n",
       "engdpc               10015.84  \n",
       "ergdpc               13264.84  \n",
       "s                        0.02  \n",
       "qu_tot             1424267.29  \n",
       "inc                  26829.74  "
      ]
     },
     "execution_count": 4,
     "metadata": {},
     "output_type": "execute_result"
    }
   ],
   "source": [
    "lbl_vars.join(cars.mean(numeric_only=True).apply(lambda x: f'{x: .2f}').to_frame('Mean'))"
   ]
  },
  {
   "cell_type": "code",
   "execution_count": 5,
   "metadata": {},
   "outputs": [
    {
     "data": {
      "text/plain": [
       "0       149875.0\n",
       "1        59937.5\n",
       "2        64937.5\n",
       "3        87375.0\n",
       "4        81125.0\n",
       "          ...   \n",
       "5995     14495.0\n",
       "5996     13005.0\n",
       "5997      8500.0\n",
       "5998     14025.0\n",
       "5999      7495.0\n",
       "Name: pr, Length: 6000, dtype: float64"
      ]
     },
     "execution_count": 5,
     "metadata": {},
     "output_type": "execute_result"
    }
   ],
   "source": [
    "cars['pr']"
   ]
  },
  {
   "cell_type": "code",
   "execution_count": 6,
   "metadata": {},
   "outputs": [
    {
     "data": {
      "text/plain": [
       "5986"
      ]
     },
     "execution_count": 6,
     "metadata": {},
     "output_type": "execute_result"
    }
   ],
   "source": [
    "cars['s'].nunique()"
   ]
  },
  {
   "cell_type": "markdown",
   "metadata": {},
   "source": [
    "# Set up for analysis"
   ]
  },
  {
   "cell_type": "code",
   "execution_count": 7,
   "metadata": {},
   "outputs": [],
   "source": [
    "price_var = 'princ'"
   ]
  },
  {
   "cell_type": "code",
   "execution_count": 8,
   "metadata": {},
   "outputs": [],
   "source": [
    "cars['logp'] = np.log(cars[price_var])"
   ]
  },
  {
   "cell_type": "code",
   "execution_count": 9,
   "metadata": {},
   "outputs": [],
   "source": [
    "# new variable: price elasticity heterogeneous for home-region \n",
    "cars['logp_x_home'] = cars[price_var] * cars['home']"
   ]
  },
  {
   "cell_type": "markdown",
   "metadata": {},
   "source": [
    "### Dummy variables\n",
    "\n",
    "For working with matrices, we want to have a column for each dummy variable. "
   ]
  },
  {
   "cell_type": "code",
   "execution_count": 10,
   "metadata": {},
   "outputs": [],
   "source": [
    "categorical_var = 'brand' # name of categorical variable\n",
    "dummies = pd.get_dummies(cars[categorical_var]) # creates a matrix of dummies for each value of dummyvar\n",
    "x_vars_dummies = list(dummies.columns[1:].values) # omit a reference category, here it is the first (hence columns[1:])\n",
    "\n",
    "# add dummies to the dataframe \n",
    "assert dummies.columns[0] not in cars.columns, f'It looks like you have already added this dummy to the dataframe. Avoid duplicates! '\n",
    "cars = pd.concat([cars,dummies], axis=1)"
   ]
  },
  {
   "cell_type": "markdown",
   "metadata": {},
   "source": [
    "### `x_vars`: List of regressors to be used "
   ]
  },
  {
   "cell_type": "code",
   "execution_count": 11,
   "metadata": {},
   "outputs": [
    {
     "name": "stdout",
     "output_type": "stream",
     "text": [
      "K = 42 variables selected.\n"
     ]
    }
   ],
   "source": [
    "x_vars = ['logp', 'home', 'cy', 'hp', 'we', 'li'] + x_vars_dummies + ['li', 'sp', 'cy', 'tax'] # <--- !!! choose your preferred variables here \n",
    "print(f'K = {len(x_vars)} variables selected.')"
   ]
  },
  {
   "cell_type": "code",
   "execution_count": 12,
   "metadata": {},
   "outputs": [
    {
     "data": {
      "text/plain": [
       "33"
      ]
     },
     "execution_count": 12,
     "metadata": {},
     "output_type": "execute_result"
    }
   ],
   "source": [
    "cars['brand'].nunique() #Different car brands"
   ]
  },
  {
   "cell_type": "code",
   "execution_count": 13,
   "metadata": {},
   "outputs": [
    {
     "data": {
      "text/plain": [
       "285"
      ]
     },
     "execution_count": 13,
     "metadata": {},
     "output_type": "execute_result"
    }
   ],
   "source": [
    "cars['co'].nunique() #Different car models"
   ]
  },
  {
   "cell_type": "code",
   "execution_count": 14,
   "metadata": {},
   "outputs": [
    {
     "data": {
      "text/plain": [
       "array([ 15,  26,  36,  64,  71, 134, 165, 172, 186, 187, 196, 212, 213,\n",
       "       214, 217, 269, 291, 406, 407, 410, 412, 417, 418, 422, 429, 430,\n",
       "       431, 435, 437, 439, 468, 488, 490, 491, 497, 521, 524, 536, 541,\n",
       "       544,  35,  77, 170, 314, 315, 469, 537,  61,  76, 423, 440, 460,\n",
       "        13,  50,  62, 158, 197, 276, 495, 150, 268, 288, 464,   9,  30,\n",
       "        63, 229, 285, 297,  18,  37,  80, 139, 184, 284, 525, 540,  70,\n",
       "        83, 122, 141, 209, 183, 208, 306,  21,  32,  60, 123, 138, 206,\n",
       "       234, 181, 277, 294,  51, 153, 286, 204, 218,  28,  52,  73, 164,\n",
       "       205,  55, 133, 149, 178,  72, 200,  74, 179, 199, 243, 298,  27,\n",
       "       168, 180, 270,  53, 166, 198,  29, 295,  54, 121, 154, 203,  38,\n",
       "       177, 188, 247, 293,  39, 136, 137, 190, 215, 216, 264,  69,  78,\n",
       "       818, 303, 800, 804, 850, 851, 875, 876, 882, 893, 808, 910, 901,\n",
       "       924, 953, 900, 914, 936, 951, 978, 980, 400, 402, 419, 434, 453,\n",
       "       455, 458, 481, 500, 118, 499, 401, 526, 210, 409, 185, 416,   7,\n",
       "        34, 307, 310,   8, 308, 245,   1,  56, 222, 242, 182, 221, 248,\n",
       "       817, 823, 238, 852,  68, 870, 237, 880, 908, 909, 979, 174, 404,\n",
       "       411, 413, 478, 535, 465, 405, 292, 169, 173, 124, 290,  90,  94,\n",
       "       921, 948, 100, 408, 432, 452, 456, 119, 120,  66, 114, 316, 117,\n",
       "         6,  10, 246,   2, 113, 116,  98,  59,   3,  95, 115,  12, 101,\n",
       "       805, 132, 903, 935, 939, 930, 932, 226, 232, 309, 317, 441, 443,\n",
       "       485, 487, 501, 504, 505, 520, 527, 528, 241, 503, 507, 509, 236,\n",
       "       161, 175, 231, 484, 230, 228, 160, 227, 220, 219, 224, 300],\n",
       "      dtype=int64)"
      ]
     },
     "execution_count": 14,
     "metadata": {},
     "output_type": "execute_result"
    }
   ],
   "source": [
    "cars['co'].unique()"
   ]
  },
  {
   "cell_type": "code",
   "execution_count": 15,
   "metadata": {},
   "outputs": [
    {
     "data": {
      "text/plain": [
       "323"
      ]
     },
     "execution_count": 15,
     "metadata": {},
     "output_type": "execute_result"
    }
   ],
   "source": [
    "cars['type'].nunique()"
   ]
  },
  {
   "cell_type": "code",
   "execution_count": 16,
   "metadata": {},
   "outputs": [
    {
     "data": {
      "text/plain": [
       "207"
      ]
     },
     "execution_count": 16,
     "metadata": {},
     "output_type": "execute_result"
    }
   ],
   "source": [
    "cars['zcode'].nunique()"
   ]
  },
  {
   "cell_type": "code",
   "execution_count": 17,
   "metadata": {},
   "outputs": [
    {
     "data": {
      "text/plain": [
       "array(['audi', 'citroen', 'fiat', 'ford', 'mercedes', 'opel', 'peugeot',\n",
       "       'renault', 'rover', 'toyota', 'VW', 'BMW', 'daf', 'nissan',\n",
       "       'tal/simca', 'volvo', 'talbot', 'mazda', 'alfa romeo', 'honda',\n",
       "       'mitsubishi', 'seat', 'suzuki', 'lancia', 'tal/matra', 'skoda',\n",
       "       'daewoo', 'hyundai', 'MCC', 'innocenti', 'tal/sunb', 'tal/hillman',\n",
       "       'saab'], dtype=object)"
      ]
     },
     "execution_count": 17,
     "metadata": {},
     "output_type": "execute_result"
    }
   ],
   "source": [
    "cars['brand'].unique()"
   ]
  },
  {
   "cell_type": "code",
   "execution_count": 49,
   "metadata": {},
   "outputs": [],
   "source": [
    "K = len(x_vars) #The \"household\" characteristics\n",
    "N = cars.ma.nunique() * cars.ye.nunique() #The market-year 'i'\n",
    "J = 40 #The 40 different cars\n",
    "x = cars[x_vars].values.reshape((N,J,K))\n",
    "\n",
    "\n",
    "cars['y'] = np.resize(np.arange(0,J), N*J)\n",
    "y = cars['y'].values.reshape((N,J))\n",
    "\n",
    "#cars['brand']=pd.factorize(cars['brand'])[0]\n",
    "#y = cars['co'].values.reshape((N,J))\n",
    "#cars['co']=pd.factorize(cars['co'])[0]"
   ]
  },
  {
   "cell_type": "code",
   "execution_count": 48,
   "metadata": {},
   "outputs": [
    {
     "data": {
      "text/plain": [
       "array([ 0,  1,  2,  3,  4,  5,  6,  7,  8,  9, 10, 11, 12, 13, 14, 15, 16,\n",
       "       17, 18, 19, 20, 21, 22, 23, 24, 25, 26, 27, 28, 29, 30, 31, 32, 33,\n",
       "       34, 35, 36, 37, 38, 39])"
      ]
     },
     "execution_count": 48,
     "metadata": {},
     "output_type": "execute_result"
    }
   ],
   "source": [
    "cars['y'].unique()"
   ]
  },
  {
   "cell_type": "code",
   "execution_count": 51,
   "metadata": {},
   "outputs": [
    {
     "data": {
      "text/plain": [
       "(150, 40)"
      ]
     },
     "execution_count": 51,
     "metadata": {},
     "output_type": "execute_result"
    }
   ],
   "source": [
    "y.shape"
   ]
  },
  {
   "cell_type": "code",
   "execution_count": 52,
   "metadata": {},
   "outputs": [
    {
     "data": {
      "text/plain": [
       "array([0, 0, 0, 0, 0, 0, 0, 0, 0, 0, 0, 0, 0, 0, 0, 0, 0, 0, 0, 0, 0, 0,\n",
       "       0, 0, 0, 0, 0, 0, 0, 0, 0, 0, 0, 0, 0, 0, 0, 0, 0, 0, 0, 0, 0, 0,\n",
       "       0, 0, 0, 0, 0, 0, 0, 0, 0, 0, 0, 0, 0, 0, 0, 0, 0, 0, 0, 0, 0, 0,\n",
       "       0, 0, 0, 0, 0, 0, 0, 0, 0, 0, 0, 0, 0, 0, 0, 0, 0, 0, 0, 0, 0, 0,\n",
       "       0, 0, 0, 0, 0, 0, 0, 0, 0, 0, 0, 0, 0, 0, 0, 0, 0, 0, 0, 0, 0, 0,\n",
       "       0, 0, 0, 0, 0, 0, 0, 0, 0, 0, 0, 0, 0, 0, 0, 0, 0, 0, 0, 0, 0, 0,\n",
       "       0, 0, 0, 0, 0, 0, 0, 0, 0, 0, 0, 0, 0, 0, 0, 0, 0, 0])"
      ]
     },
     "execution_count": 52,
     "metadata": {},
     "output_type": "execute_result"
    }
   ],
   "source": [
    "y[:, 0]"
   ]
  },
  {
   "cell_type": "code",
   "execution_count": 19,
   "metadata": {},
   "outputs": [
    {
     "data": {
      "text/html": [
       "<div>\n",
       "<style scoped>\n",
       "    .dataframe tbody tr th:only-of-type {\n",
       "        vertical-align: middle;\n",
       "    }\n",
       "\n",
       "    .dataframe tbody tr th {\n",
       "        vertical-align: top;\n",
       "    }\n",
       "\n",
       "    .dataframe thead th {\n",
       "        text-align: right;\n",
       "    }\n",
       "</style>\n",
       "<table border=\"1\" class=\"dataframe\">\n",
       "  <thead>\n",
       "    <tr style=\"text-align: right;\">\n",
       "      <th></th>\n",
       "      <th>logp</th>\n",
       "      <th>home</th>\n",
       "      <th>cy</th>\n",
       "      <th>hp</th>\n",
       "      <th>we</th>\n",
       "      <th>li</th>\n",
       "      <th>MCC</th>\n",
       "      <th>VW</th>\n",
       "      <th>alfa romeo</th>\n",
       "      <th>audi</th>\n",
       "      <th>...</th>\n",
       "      <th>tal/matra</th>\n",
       "      <th>tal/simca</th>\n",
       "      <th>tal/sunb</th>\n",
       "      <th>talbot</th>\n",
       "      <th>toyota</th>\n",
       "      <th>volvo</th>\n",
       "      <th>li</th>\n",
       "      <th>sp</th>\n",
       "      <th>cy</th>\n",
       "      <th>tax</th>\n",
       "    </tr>\n",
       "  </thead>\n",
       "  <tbody>\n",
       "    <tr>\n",
       "      <th>0</th>\n",
       "      <td>0.122399</td>\n",
       "      <td>0</td>\n",
       "      <td>1760.0</td>\n",
       "      <td>59.0</td>\n",
       "      <td>1050</td>\n",
       "      <td>8.900000</td>\n",
       "      <td>0</td>\n",
       "      <td>0</td>\n",
       "      <td>0</td>\n",
       "      <td>1</td>\n",
       "      <td>...</td>\n",
       "      <td>0</td>\n",
       "      <td>0</td>\n",
       "      <td>0</td>\n",
       "      <td>0</td>\n",
       "      <td>0</td>\n",
       "      <td>0</td>\n",
       "      <td>8.900000</td>\n",
       "      <td>156.0</td>\n",
       "      <td>1760.0</td>\n",
       "      <td>0.250</td>\n",
       "    </tr>\n",
       "    <tr>\n",
       "      <th>1</th>\n",
       "      <td>-0.794100</td>\n",
       "      <td>0</td>\n",
       "      <td>435.0</td>\n",
       "      <td>17.5</td>\n",
       "      <td>560</td>\n",
       "      <td>5.500000</td>\n",
       "      <td>0</td>\n",
       "      <td>0</td>\n",
       "      <td>0</td>\n",
       "      <td>0</td>\n",
       "      <td>...</td>\n",
       "      <td>0</td>\n",
       "      <td>0</td>\n",
       "      <td>0</td>\n",
       "      <td>0</td>\n",
       "      <td>0</td>\n",
       "      <td>0</td>\n",
       "      <td>5.500000</td>\n",
       "      <td>102.0</td>\n",
       "      <td>435.0</td>\n",
       "      <td>0.250</td>\n",
       "    </tr>\n",
       "    <tr>\n",
       "      <th>2</th>\n",
       "      <td>-0.713977</td>\n",
       "      <td>0</td>\n",
       "      <td>435.0</td>\n",
       "      <td>19.0</td>\n",
       "      <td>590</td>\n",
       "      <td>5.500000</td>\n",
       "      <td>0</td>\n",
       "      <td>0</td>\n",
       "      <td>0</td>\n",
       "      <td>0</td>\n",
       "      <td>...</td>\n",
       "      <td>0</td>\n",
       "      <td>0</td>\n",
       "      <td>0</td>\n",
       "      <td>0</td>\n",
       "      <td>0</td>\n",
       "      <td>0</td>\n",
       "      <td>5.500000</td>\n",
       "      <td>104.0</td>\n",
       "      <td>435.0</td>\n",
       "      <td>0.250</td>\n",
       "    </tr>\n",
       "    <tr>\n",
       "      <th>3</th>\n",
       "      <td>-0.417193</td>\n",
       "      <td>0</td>\n",
       "      <td>1116.0</td>\n",
       "      <td>40.5</td>\n",
       "      <td>785</td>\n",
       "      <td>8.000000</td>\n",
       "      <td>0</td>\n",
       "      <td>0</td>\n",
       "      <td>0</td>\n",
       "      <td>0</td>\n",
       "      <td>...</td>\n",
       "      <td>0</td>\n",
       "      <td>0</td>\n",
       "      <td>0</td>\n",
       "      <td>0</td>\n",
       "      <td>0</td>\n",
       "      <td>0</td>\n",
       "      <td>8.000000</td>\n",
       "      <td>135.0</td>\n",
       "      <td>1116.0</td>\n",
       "      <td>0.250</td>\n",
       "    </tr>\n",
       "    <tr>\n",
       "      <th>4</th>\n",
       "      <td>-0.491411</td>\n",
       "      <td>0</td>\n",
       "      <td>1098.0</td>\n",
       "      <td>29.5</td>\n",
       "      <td>825</td>\n",
       "      <td>8.200000</td>\n",
       "      <td>0</td>\n",
       "      <td>0</td>\n",
       "      <td>0</td>\n",
       "      <td>0</td>\n",
       "      <td>...</td>\n",
       "      <td>0</td>\n",
       "      <td>0</td>\n",
       "      <td>0</td>\n",
       "      <td>0</td>\n",
       "      <td>0</td>\n",
       "      <td>0</td>\n",
       "      <td>8.200000</td>\n",
       "      <td>125.0</td>\n",
       "      <td>1098.0</td>\n",
       "      <td>0.250</td>\n",
       "    </tr>\n",
       "    <tr>\n",
       "      <th>...</th>\n",
       "      <td>...</td>\n",
       "      <td>...</td>\n",
       "      <td>...</td>\n",
       "      <td>...</td>\n",
       "      <td>...</td>\n",
       "      <td>...</td>\n",
       "      <td>...</td>\n",
       "      <td>...</td>\n",
       "      <td>...</td>\n",
       "      <td>...</td>\n",
       "      <td>...</td>\n",
       "      <td>...</td>\n",
       "      <td>...</td>\n",
       "      <td>...</td>\n",
       "      <td>...</td>\n",
       "      <td>...</td>\n",
       "      <td>...</td>\n",
       "      <td>...</td>\n",
       "      <td>...</td>\n",
       "      <td>...</td>\n",
       "      <td>...</td>\n",
       "    </tr>\n",
       "    <tr>\n",
       "      <th>5995</th>\n",
       "      <td>-0.053386</td>\n",
       "      <td>0</td>\n",
       "      <td>1397.0</td>\n",
       "      <td>59.0</td>\n",
       "      <td>1020</td>\n",
       "      <td>8.400000</td>\n",
       "      <td>0</td>\n",
       "      <td>0</td>\n",
       "      <td>0</td>\n",
       "      <td>0</td>\n",
       "      <td>...</td>\n",
       "      <td>0</td>\n",
       "      <td>0</td>\n",
       "      <td>0</td>\n",
       "      <td>0</td>\n",
       "      <td>0</td>\n",
       "      <td>0</td>\n",
       "      <td>8.400000</td>\n",
       "      <td>170.0</td>\n",
       "      <td>1397.0</td>\n",
       "      <td>0.175</td>\n",
       "    </tr>\n",
       "    <tr>\n",
       "      <th>5996</th>\n",
       "      <td>-0.161856</td>\n",
       "      <td>1</td>\n",
       "      <td>1388.0</td>\n",
       "      <td>54.0</td>\n",
       "      <td>1070</td>\n",
       "      <td>7.400000</td>\n",
       "      <td>0</td>\n",
       "      <td>0</td>\n",
       "      <td>0</td>\n",
       "      <td>0</td>\n",
       "      <td>...</td>\n",
       "      <td>0</td>\n",
       "      <td>0</td>\n",
       "      <td>0</td>\n",
       "      <td>0</td>\n",
       "      <td>0</td>\n",
       "      <td>0</td>\n",
       "      <td>7.400000</td>\n",
       "      <td>171.0</td>\n",
       "      <td>1388.0</td>\n",
       "      <td>0.175</td>\n",
       "    </tr>\n",
       "    <tr>\n",
       "      <th>5997</th>\n",
       "      <td>-0.587124</td>\n",
       "      <td>0</td>\n",
       "      <td>1124.0</td>\n",
       "      <td>44.0</td>\n",
       "      <td>910</td>\n",
       "      <td>7.166667</td>\n",
       "      <td>0</td>\n",
       "      <td>0</td>\n",
       "      <td>0</td>\n",
       "      <td>0</td>\n",
       "      <td>...</td>\n",
       "      <td>0</td>\n",
       "      <td>0</td>\n",
       "      <td>0</td>\n",
       "      <td>0</td>\n",
       "      <td>0</td>\n",
       "      <td>0</td>\n",
       "      <td>7.166667</td>\n",
       "      <td>158.0</td>\n",
       "      <td>1124.0</td>\n",
       "      <td>0.175</td>\n",
       "    </tr>\n",
       "    <tr>\n",
       "      <th>5998</th>\n",
       "      <td>-0.086349</td>\n",
       "      <td>0</td>\n",
       "      <td>1587.0</td>\n",
       "      <td>73.0</td>\n",
       "      <td>1195</td>\n",
       "      <td>9.100000</td>\n",
       "      <td>0</td>\n",
       "      <td>0</td>\n",
       "      <td>0</td>\n",
       "      <td>0</td>\n",
       "      <td>...</td>\n",
       "      <td>0</td>\n",
       "      <td>0</td>\n",
       "      <td>0</td>\n",
       "      <td>0</td>\n",
       "      <td>1</td>\n",
       "      <td>0</td>\n",
       "      <td>9.100000</td>\n",
       "      <td>195.0</td>\n",
       "      <td>1587.0</td>\n",
       "      <td>0.175</td>\n",
       "    </tr>\n",
       "    <tr>\n",
       "      <th>5999</th>\n",
       "      <td>-0.712954</td>\n",
       "      <td>0</td>\n",
       "      <td>998.0</td>\n",
       "      <td>49.0</td>\n",
       "      <td>820</td>\n",
       "      <td>7.000000</td>\n",
       "      <td>0</td>\n",
       "      <td>0</td>\n",
       "      <td>0</td>\n",
       "      <td>0</td>\n",
       "      <td>...</td>\n",
       "      <td>0</td>\n",
       "      <td>0</td>\n",
       "      <td>0</td>\n",
       "      <td>0</td>\n",
       "      <td>1</td>\n",
       "      <td>0</td>\n",
       "      <td>7.000000</td>\n",
       "      <td>156.0</td>\n",
       "      <td>998.0</td>\n",
       "      <td>0.175</td>\n",
       "    </tr>\n",
       "  </tbody>\n",
       "</table>\n",
       "<p>6000 rows × 42 columns</p>\n",
       "</div>"
      ],
      "text/plain": [
       "          logp  home      cy    hp    we        li  MCC  VW  alfa romeo  audi  \\\n",
       "0     0.122399     0  1760.0  59.0  1050  8.900000    0   0           0     1   \n",
       "1    -0.794100     0   435.0  17.5   560  5.500000    0   0           0     0   \n",
       "2    -0.713977     0   435.0  19.0   590  5.500000    0   0           0     0   \n",
       "3    -0.417193     0  1116.0  40.5   785  8.000000    0   0           0     0   \n",
       "4    -0.491411     0  1098.0  29.5   825  8.200000    0   0           0     0   \n",
       "...        ...   ...     ...   ...   ...       ...  ...  ..         ...   ...   \n",
       "5995 -0.053386     0  1397.0  59.0  1020  8.400000    0   0           0     0   \n",
       "5996 -0.161856     1  1388.0  54.0  1070  7.400000    0   0           0     0   \n",
       "5997 -0.587124     0  1124.0  44.0   910  7.166667    0   0           0     0   \n",
       "5998 -0.086349     0  1587.0  73.0  1195  9.100000    0   0           0     0   \n",
       "5999 -0.712954     0   998.0  49.0   820  7.000000    0   0           0     0   \n",
       "\n",
       "      ...  tal/matra  tal/simca  tal/sunb  talbot  toyota  volvo        li  \\\n",
       "0     ...          0          0         0       0       0      0  8.900000   \n",
       "1     ...          0          0         0       0       0      0  5.500000   \n",
       "2     ...          0          0         0       0       0      0  5.500000   \n",
       "3     ...          0          0         0       0       0      0  8.000000   \n",
       "4     ...          0          0         0       0       0      0  8.200000   \n",
       "...   ...        ...        ...       ...     ...     ...    ...       ...   \n",
       "5995  ...          0          0         0       0       0      0  8.400000   \n",
       "5996  ...          0          0         0       0       0      0  7.400000   \n",
       "5997  ...          0          0         0       0       0      0  7.166667   \n",
       "5998  ...          0          0         0       0       1      0  9.100000   \n",
       "5999  ...          0          0         0       0       1      0  7.000000   \n",
       "\n",
       "         sp      cy    tax  \n",
       "0     156.0  1760.0  0.250  \n",
       "1     102.0   435.0  0.250  \n",
       "2     104.0   435.0  0.250  \n",
       "3     135.0  1116.0  0.250  \n",
       "4     125.0  1098.0  0.250  \n",
       "...     ...     ...    ...  \n",
       "5995  170.0  1397.0  0.175  \n",
       "5996  171.0  1388.0  0.175  \n",
       "5997  158.0  1124.0  0.175  \n",
       "5998  195.0  1587.0  0.175  \n",
       "5999  156.0   998.0  0.175  \n",
       "\n",
       "[6000 rows x 42 columns]"
      ]
     },
     "execution_count": 19,
     "metadata": {},
     "output_type": "execute_result"
    }
   ],
   "source": [
    "cars[x_vars]"
   ]
  },
  {
   "cell_type": "code",
   "execution_count": 59,
   "metadata": {},
   "outputs": [
    {
     "data": {
      "text/plain": [
       "(40, 150)"
      ]
     },
     "execution_count": 59,
     "metadata": {},
     "output_type": "execute_result"
    }
   ],
   "source": [
    "y.T.shape"
   ]
  },
  {
   "cell_type": "code",
   "execution_count": 53,
   "metadata": {},
   "outputs": [],
   "source": [
    "test = cars[(cars['ye']==70) & (cars['ma']==2)]"
   ]
  },
  {
   "cell_type": "code",
   "execution_count": 58,
   "metadata": {},
   "outputs": [
    {
     "data": {
      "text/plain": [
       "40"
      ]
     },
     "execution_count": 58,
     "metadata": {},
     "output_type": "execute_result"
    }
   ],
   "source": [
    "test['y'].nunique()"
   ]
  },
  {
   "cell_type": "code",
   "execution_count": 23,
   "metadata": {},
   "outputs": [
    {
     "data": {
      "text/plain": [
       "0.999999999999998"
      ]
     },
     "execution_count": 23,
     "metadata": {},
     "output_type": "execute_result"
    }
   ],
   "source": [
    "test['s'].sum()"
   ]
  },
  {
   "cell_type": "code",
   "execution_count": 24,
   "metadata": {},
   "outputs": [
    {
     "data": {
      "text/plain": [
       "(5,)"
      ]
     },
     "execution_count": 24,
     "metadata": {},
     "output_type": "execute_result"
    }
   ],
   "source": [
    "np.arange(0,5).shape"
   ]
  },
  {
   "cell_type": "code",
   "execution_count": 25,
   "metadata": {},
   "outputs": [
    {
     "data": {
      "text/plain": [
       "(6000, 86)"
      ]
     },
     "execution_count": 25,
     "metadata": {},
     "output_type": "execute_result"
    }
   ],
   "source": [
    "cars.shape"
   ]
  },
  {
   "cell_type": "code",
   "execution_count": 26,
   "metadata": {},
   "outputs": [],
   "source": [
    "M = 5\n",
    "T = 30\n",
    "N = M*T"
   ]
  },
  {
   "cell_type": "code",
   "execution_count": 27,
   "metadata": {},
   "outputs": [
    {
     "data": {
      "text/plain": [
       "array([1, 2, 3, 4, 5], dtype=int64)"
      ]
     },
     "execution_count": 27,
     "metadata": {},
     "output_type": "execute_result"
    }
   ],
   "source": [
    "cars['ma'].unique()"
   ]
  },
  {
   "cell_type": "code",
   "execution_count": 28,
   "metadata": {},
   "outputs": [
    {
     "data": {
      "text/plain": [
       "array([70, 71, 72, 73, 74, 75, 76, 77, 78, 79, 80, 81, 82, 83, 84, 85, 86,\n",
       "       87, 88, 89, 90, 91, 92, 93, 94, 95, 96, 97, 98, 99], dtype=int64)"
      ]
     },
     "execution_count": 28,
     "metadata": {},
     "output_type": "execute_result"
    }
   ],
   "source": [
    "cars['ye'].unique()"
   ]
  },
  {
   "cell_type": "code",
   "execution_count": 29,
   "metadata": {},
   "outputs": [],
   "source": [
    "#y = np.log(cars['s'].values.reshape((N,J)))\n",
    "\n",
    "# standardize x\n",
    "# x = ((x - x.mean(0).mean(0))/(x.std(0).std(0)))"
   ]
  },
  {
   "cell_type": "markdown",
   "metadata": {},
   "source": [
    "### Understanding the sorting \n",
    "\n",
    "Just to be sure that we understand the relation between the pandas dataframe and the numpy 3d array, consider the following: "
   ]
  },
  {
   "cell_type": "code",
   "execution_count": 30,
   "metadata": {},
   "outputs": [
    {
     "data": {
      "text/plain": [
       "array([ True,  True,  True,  True,  True])"
      ]
     },
     "execution_count": 30,
     "metadata": {},
     "output_type": "execute_result"
    }
   ],
   "source": [
    "# let's check that we get the same row from x as we can find in the original pandas dataframe\n",
    "# we'll pick the first 5 \"observations\"\n",
    "j = 1\n",
    "k = 0 \n",
    "x[:5, j, k] == cars.groupby(['ma','ye']).nth(j)[x_vars[k]].head(5).values"
   ]
  },
  {
   "cell_type": "code",
   "execution_count": 31,
   "metadata": {},
   "outputs": [
    {
     "data": {
      "text/plain": [
       "array([ True,  True,  True,  True,  True])"
      ]
     },
     "execution_count": 31,
     "metadata": {},
     "output_type": "execute_result"
    }
   ],
   "source": [
    "# ... and let's check it for the 5 first cars (in the first market)\n",
    "k = 0\n",
    "x[0, :5, k] == cars[x_vars[k]].head(5).values\n",
    "# note that with i = 3 (4th element), x[i,t,k] gives ma=1 and ye=73 (first market, fourth year)\n",
    "x[3, :5, k] == cars.query('(ma == 1) & (ye == 73)')[x_vars[k]].head(5).values"
   ]
  },
  {
   "cell_type": "code",
   "execution_count": 32,
   "metadata": {},
   "outputs": [
    {
     "name": "stdout",
     "output_type": "stream",
     "text": [
      "[[1 73 'audi 80/90' 0.0198967806548532]\n",
      " [1 73 'audi 100/200' 0.0115738123314003]\n",
      " [1 73 'citroen 2 CV 6 - 2 CV 4' 0.020470221461224]\n",
      " [1 73 'citroen GSA/GSX' 0.0231960844492545]\n",
      " [1 73 'citroen dyane' 0.0232687741289353]]\n",
      "[[5 80 'alfasud' 0.0061322294468038]\n",
      " [5 80 'citroen GSA' 0.0097859984028077]\n",
      " [5 80 'fiat 127' 0.0082314207084408]\n",
      " [5 80 'fiat 131F' 0.0099803206146036]\n",
      " [5 80 'ford fiesta' 0.0781217905939526]]\n"
     ]
    }
   ],
   "source": [
    "# and let's print out some rows along with some labels \n",
    "obs_labs = cars[['ma', 'ye', 'type', 's']].values.reshape(N,J,4) # notice that we are extracting the values from the dataframe in the same way as we did for x\n",
    "\n",
    "i=3 # obs. index 3 is the first market in the fourth (3+1) year, i.e. 73\n",
    "print(obs_labs[i,:5,:])\n",
    "\n",
    "i = 130 # obs. index 130 is the 5th country (130/30>4) and the 11th year (130%30 = index 10)\n",
    "print(obs_labs[i,:5,:])"
   ]
  },
  {
   "cell_type": "markdown",
   "metadata": {},
   "source": [
    "... and just checking that we can find those same columns in the pandas dataframe"
   ]
  },
  {
   "cell_type": "code",
   "execution_count": 33,
   "metadata": {},
   "outputs": [
    {
     "data": {
      "text/html": [
       "<div>\n",
       "<style scoped>\n",
       "    .dataframe tbody tr th:only-of-type {\n",
       "        vertical-align: middle;\n",
       "    }\n",
       "\n",
       "    .dataframe tbody tr th {\n",
       "        vertical-align: top;\n",
       "    }\n",
       "\n",
       "    .dataframe thead th {\n",
       "        text-align: right;\n",
       "    }\n",
       "</style>\n",
       "<table border=\"1\" class=\"dataframe\">\n",
       "  <thead>\n",
       "    <tr style=\"text-align: right;\">\n",
       "      <th></th>\n",
       "      <th>ye</th>\n",
       "      <th>ma</th>\n",
       "      <th>co</th>\n",
       "      <th>zcode</th>\n",
       "      <th>brd</th>\n",
       "      <th>type</th>\n",
       "      <th>brand</th>\n",
       "      <th>model</th>\n",
       "      <th>org</th>\n",
       "      <th>loc</th>\n",
       "      <th>...</th>\n",
       "      <th>skoda</th>\n",
       "      <th>suzuki</th>\n",
       "      <th>tal/hillman</th>\n",
       "      <th>tal/matra</th>\n",
       "      <th>tal/simca</th>\n",
       "      <th>tal/sunb</th>\n",
       "      <th>talbot</th>\n",
       "      <th>toyota</th>\n",
       "      <th>volvo</th>\n",
       "      <th>y</th>\n",
       "    </tr>\n",
       "  </thead>\n",
       "  <tbody>\n",
       "    <tr>\n",
       "      <th>5204</th>\n",
       "      <td>80</td>\n",
       "      <td>5</td>\n",
       "      <td>70</td>\n",
       "      <td>82</td>\n",
       "      <td>8</td>\n",
       "      <td>ford fiesta</td>\n",
       "      <td>ford</td>\n",
       "      <td>fiesta</td>\n",
       "      <td>7</td>\n",
       "      <td>12</td>\n",
       "      <td>...</td>\n",
       "      <td>0</td>\n",
       "      <td>0</td>\n",
       "      <td>0</td>\n",
       "      <td>0</td>\n",
       "      <td>0</td>\n",
       "      <td>0</td>\n",
       "      <td>0</td>\n",
       "      <td>0</td>\n",
       "      <td>0</td>\n",
       "      <td>4</td>\n",
       "    </tr>\n",
       "  </tbody>\n",
       "</table>\n",
       "<p>1 rows × 86 columns</p>\n",
       "</div>"
      ],
      "text/plain": [
       "      ye  ma  co  zcode  brd         type brand   model  org  loc  ...  skoda  \\\n",
       "5204  80   5  70     82    8  ford fiesta  ford  fiesta    7   12  ...      0   \n",
       "\n",
       "      suzuki  tal/hillman  tal/matra  tal/simca  tal/sunb  talbot  toyota  \\\n",
       "5204       0            0          0          0         0       0       0   \n",
       "\n",
       "      volvo  y  \n",
       "5204      0  4  \n",
       "\n",
       "[1 rows x 86 columns]"
      ]
     },
     "execution_count": 33,
     "metadata": {},
     "output_type": "execute_result"
    }
   ],
   "source": [
    "cars.query('(ma == 5) & (ye == 80) & (type == \"ford fiesta\")')"
   ]
  },
  {
   "cell_type": "markdown",
   "metadata": {},
   "source": [
    "$$\n",
    "u_{i j h}=\\mathbf{x}_{i j} \\boldsymbol{\\beta}_o+\\varepsilon_{i j h}, \\quad j=1, \\ldots, J\n",
    "$$\n",
    "\n",
    "where: \n",
    "\n",
    "- $i$ is the $\\textit{country-year}$ pair\n",
    "- $j$ is the alternative car\n",
    "- $h$ is the household\n",
    "\n",
    "First off: Are we: \n",
    "\n",
    "    1. interested in the marginal utility of a car's characteristic (conditional logit) or \n",
    "    \n",
    "    2. the change in utility of car $j$ relative to car 1 given a change in household characteristics?\n",
    "\n",
    "In this assignment, we are examning home bias - that is the propensity to choose a car manufactured in the home country. We are therefore interested in 1) and will use a conditional logit model."
   ]
  },
  {
   "cell_type": "code",
   "execution_count": 34,
   "metadata": {},
   "outputs": [
    {
     "data": {
      "text/plain": [
       "(150, 40)"
      ]
     },
     "execution_count": 34,
     "metadata": {},
     "output_type": "execute_result"
    }
   ],
   "source": [
    "y.shape"
   ]
  },
  {
   "cell_type": "code",
   "execution_count": 35,
   "metadata": {},
   "outputs": [
    {
     "data": {
      "text/plain": [
       "(150, 40, 42)"
      ]
     },
     "execution_count": 35,
     "metadata": {},
     "output_type": "execute_result"
    }
   ],
   "source": [
    "x.shape"
   ]
  },
  {
   "cell_type": "code",
   "execution_count": 36,
   "metadata": {},
   "outputs": [
    {
     "data": {
      "text/plain": [
       "(42,)"
      ]
     },
     "execution_count": 36,
     "metadata": {},
     "output_type": "execute_result"
    }
   ],
   "source": [
    "# The starting values to be passed to our optimizer\n",
    "theta_start = clogit.starting_values(y, x)\n",
    "theta_start.shape"
   ]
  },
  {
   "cell_type": "code",
   "execution_count": 37,
   "metadata": {},
   "outputs": [
    {
     "data": {
      "text/plain": [
       "array([[0., 0., 0., ..., 0., 0., 0.],\n",
       "       [0., 0., 0., ..., 0., 0., 0.],\n",
       "       [0., 0., 0., ..., 0., 0., 0.],\n",
       "       ...,\n",
       "       [0., 0., 0., ..., 0., 0., 0.],\n",
       "       [0., 0., 0., ..., 0., 0., 0.],\n",
       "       [0., 0., 0., ..., 0., 0., 0.]])"
      ]
     },
     "execution_count": 37,
     "metadata": {},
     "output_type": "execute_result"
    }
   ],
   "source": [
    "u = clogit.util(theta_start, x)\n",
    "u"
   ]
  },
  {
   "cell_type": "code",
   "execution_count": 38,
   "metadata": {},
   "outputs": [
    {
     "data": {
      "text/plain": [
       "array([[ True,  True,  True, ...,  True,  True,  True],\n",
       "       [ True,  True,  True, ...,  True,  True,  True],\n",
       "       [ True,  True,  True, ...,  True,  True,  True],\n",
       "       ...,\n",
       "       [ True,  True,  True, ...,  True,  True,  True],\n",
       "       [ True,  True,  True, ...,  True,  True,  True],\n",
       "       [ True,  True,  True, ...,  True,  True,  True]])"
      ]
     },
     "execution_count": 38,
     "metadata": {},
     "output_type": "execute_result"
    }
   ],
   "source": [
    "# Our conditional choice probabilities\n",
    "# For coefficients ('theta') starting at zero, these must be equal to zero\n",
    "# Intuition: No utility is gained by any car characteristics, thus market shares must be equal. Let's check this.\n",
    "ccp = clogit.choice_prob(theta_start, x)\n",
    "(ccp == 1/J) # all choice probs are equal to each other."
   ]
  },
  {
   "cell_type": "code",
   "execution_count": 39,
   "metadata": {},
   "outputs": [
    {
     "data": {
      "text/plain": [
       "(42,)"
      ]
     },
     "execution_count": 39,
     "metadata": {},
     "output_type": "execute_result"
    }
   ],
   "source": [
    "theta_start.shape"
   ]
  },
  {
   "cell_type": "code",
   "execution_count": 40,
   "metadata": {},
   "outputs": [
    {
     "data": {
      "text/plain": [
       "(150, 40, 42)"
      ]
     },
     "execution_count": 40,
     "metadata": {},
     "output_type": "execute_result"
    }
   ],
   "source": [
    "x.shape"
   ]
  },
  {
   "cell_type": "code",
   "execution_count": 41,
   "metadata": {},
   "outputs": [
    {
     "data": {
      "text/plain": [
       "array([ 0,  1,  2,  3,  4,  5,  6,  7,  8,  9, 10, 11, 12, 13, 14, 15, 16,\n",
       "       17, 18, 19, 20, 21, 22, 23, 24, 25, 26, 27, 28, 29, 30, 31, 32, 33,\n",
       "       34, 35, 36, 37, 38, 39])"
      ]
     },
     "execution_count": 41,
     "metadata": {},
     "output_type": "execute_result"
    }
   ],
   "source": [
    "y[0, :]"
   ]
  },
  {
   "cell_type": "code",
   "execution_count": 42,
   "metadata": {},
   "outputs": [
    {
     "data": {
      "text/plain": [
       "(40,)"
      ]
     },
     "execution_count": 42,
     "metadata": {},
     "output_type": "execute_result"
    }
   ],
   "source": [
    "y[1,:].shape"
   ]
  },
  {
   "cell_type": "code",
   "execution_count": 43,
   "metadata": {},
   "outputs": [
    {
     "data": {
      "text/plain": [
       "(150, 40)"
      ]
     },
     "execution_count": 43,
     "metadata": {},
     "output_type": "execute_result"
    }
   ],
   "source": [
    "y.shape"
   ]
  },
  {
   "cell_type": "code",
   "execution_count": 61,
   "metadata": {},
   "outputs": [
    {
     "data": {
      "text/plain": [
       "array([ 0,  1,  2,  3,  4,  5,  6,  7,  8,  9, 10, 11, 12, 13, 14, 15, 16,\n",
       "       17, 18, 19, 20, 21, 22, 23, 24, 25, 26, 27, 28, 29, 30, 31, 32, 33,\n",
       "       34, 35, 36, 37, 38, 39])"
      ]
     },
     "execution_count": 61,
     "metadata": {},
     "output_type": "execute_result"
    }
   ],
   "source": [
    "y.T[:, 0]"
   ]
  },
  {
   "cell_type": "code",
   "execution_count": 62,
   "metadata": {},
   "outputs": [
    {
     "data": {
      "text/plain": [
       "array([ 0,  1,  2,  3,  4,  5,  6,  7,  8,  9, 10, 11, 12, 13, 14, 15, 16,\n",
       "       17, 18, 19, 20, 21, 22, 23, 24, 25, 26, 27, 28, 29, 30, 31, 32, 33,\n",
       "       34, 35, 36, 37, 38, 39])"
      ]
     },
     "execution_count": 62,
     "metadata": {},
     "output_type": "execute_result"
    }
   ],
   "source": [
    "y.T[:, 1]"
   ]
  },
  {
   "cell_type": "code",
   "execution_count": 44,
   "metadata": {},
   "outputs": [
    {
     "data": {
      "text/plain": [
       "(150, 40, 42)"
      ]
     },
     "execution_count": 44,
     "metadata": {},
     "output_type": "execute_result"
    }
   ],
   "source": [
    "x.shape"
   ]
  },
  {
   "cell_type": "code",
   "execution_count": 60,
   "metadata": {},
   "outputs": [
    {
     "ename": "IndexError",
     "evalue": "shape mismatch: indexing arrays could not be broadcast together with shapes (150,) (40,) ",
     "output_type": "error",
     "traceback": [
      "\u001b[1;31m---------------------------------------------------------------------------\u001b[0m",
      "\u001b[1;31mIndexError\u001b[0m                                Traceback (most recent call last)",
      "\u001b[1;32m~\\AppData\\Local\\Temp\\ipykernel_18172\\2365389788.py\u001b[0m in \u001b[0;36m<cell line: 1>\u001b[1;34m()\u001b[0m\n\u001b[1;32m----> 1\u001b[1;33m \u001b[0mest\u001b[0m\u001b[1;33m.\u001b[0m\u001b[0mestimate\u001b[0m\u001b[1;33m(\u001b[0m\u001b[0mclogit\u001b[0m\u001b[1;33m.\u001b[0m\u001b[0mq\u001b[0m\u001b[1;33m,\u001b[0m \u001b[0mtheta_start\u001b[0m\u001b[1;33m,\u001b[0m \u001b[0my\u001b[0m\u001b[1;33m.\u001b[0m\u001b[0mT\u001b[0m\u001b[1;33m[\u001b[0m\u001b[1;33m:\u001b[0m\u001b[1;33m,\u001b[0m \u001b[1;36m0\u001b[0m\u001b[1;33m]\u001b[0m\u001b[1;33m,\u001b[0m \u001b[0mx\u001b[0m\u001b[1;33m)\u001b[0m\u001b[1;33m\u001b[0m\u001b[1;33m\u001b[0m\u001b[0m\n\u001b[0m",
      "\u001b[1;32mc:\\Users\\JBH\\Dropbox\\10_semester\\Advanced Microeconometrics\\project3\\estimation.py\u001b[0m in \u001b[0;36mestimate\u001b[1;34m(q, theta0, y, x, cov_type, options, **kwargs)\u001b[0m\n\u001b[0;32m     48\u001b[0m \u001b[1;33m\u001b[0m\u001b[0m\n\u001b[0;32m     49\u001b[0m     \u001b[1;31m# call optimizer\u001b[0m\u001b[1;33m\u001b[0m\u001b[1;33m\u001b[0m\u001b[0m\n\u001b[1;32m---> 50\u001b[1;33m     \u001b[0mresult\u001b[0m \u001b[1;33m=\u001b[0m \u001b[0moptimize\u001b[0m\u001b[1;33m.\u001b[0m\u001b[0mminimize\u001b[0m\u001b[1;33m(\u001b[0m\u001b[0mQ\u001b[0m\u001b[1;33m,\u001b[0m \u001b[0mtheta0\u001b[0m\u001b[1;33m,\u001b[0m \u001b[0moptions\u001b[0m\u001b[1;33m=\u001b[0m\u001b[0moptions\u001b[0m\u001b[1;33m,\u001b[0m \u001b[1;33m**\u001b[0m\u001b[0mkwargs\u001b[0m\u001b[1;33m)\u001b[0m\u001b[1;33m\u001b[0m\u001b[1;33m\u001b[0m\u001b[0m\n\u001b[0m\u001b[0;32m     51\u001b[0m \u001b[1;33m\u001b[0m\u001b[0m\n\u001b[0;32m     52\u001b[0m     \u001b[1;31m# collect output in a dict\u001b[0m\u001b[1;33m\u001b[0m\u001b[1;33m\u001b[0m\u001b[0m\n",
      "\u001b[1;32mc:\\Users\\JBH\\anaconda3\\lib\\site-packages\\scipy\\optimize\\_minimize.py\u001b[0m in \u001b[0;36mminimize\u001b[1;34m(fun, x0, args, method, jac, hess, hessp, bounds, constraints, tol, callback, options)\u001b[0m\n\u001b[0;32m    692\u001b[0m         \u001b[0mres\u001b[0m \u001b[1;33m=\u001b[0m \u001b[0m_minimize_cg\u001b[0m\u001b[1;33m(\u001b[0m\u001b[0mfun\u001b[0m\u001b[1;33m,\u001b[0m \u001b[0mx0\u001b[0m\u001b[1;33m,\u001b[0m \u001b[0margs\u001b[0m\u001b[1;33m,\u001b[0m \u001b[0mjac\u001b[0m\u001b[1;33m,\u001b[0m \u001b[0mcallback\u001b[0m\u001b[1;33m,\u001b[0m \u001b[1;33m**\u001b[0m\u001b[0moptions\u001b[0m\u001b[1;33m)\u001b[0m\u001b[1;33m\u001b[0m\u001b[1;33m\u001b[0m\u001b[0m\n\u001b[0;32m    693\u001b[0m     \u001b[1;32melif\u001b[0m \u001b[0mmeth\u001b[0m \u001b[1;33m==\u001b[0m \u001b[1;34m'bfgs'\u001b[0m\u001b[1;33m:\u001b[0m\u001b[1;33m\u001b[0m\u001b[1;33m\u001b[0m\u001b[0m\n\u001b[1;32m--> 694\u001b[1;33m         \u001b[0mres\u001b[0m \u001b[1;33m=\u001b[0m \u001b[0m_minimize_bfgs\u001b[0m\u001b[1;33m(\u001b[0m\u001b[0mfun\u001b[0m\u001b[1;33m,\u001b[0m \u001b[0mx0\u001b[0m\u001b[1;33m,\u001b[0m \u001b[0margs\u001b[0m\u001b[1;33m,\u001b[0m \u001b[0mjac\u001b[0m\u001b[1;33m,\u001b[0m \u001b[0mcallback\u001b[0m\u001b[1;33m,\u001b[0m \u001b[1;33m**\u001b[0m\u001b[0moptions\u001b[0m\u001b[1;33m)\u001b[0m\u001b[1;33m\u001b[0m\u001b[1;33m\u001b[0m\u001b[0m\n\u001b[0m\u001b[0;32m    695\u001b[0m     \u001b[1;32melif\u001b[0m \u001b[0mmeth\u001b[0m \u001b[1;33m==\u001b[0m \u001b[1;34m'newton-cg'\u001b[0m\u001b[1;33m:\u001b[0m\u001b[1;33m\u001b[0m\u001b[1;33m\u001b[0m\u001b[0m\n\u001b[0;32m    696\u001b[0m         res = _minimize_newtoncg(fun, x0, args, jac, hess, hessp, callback,\n",
      "\u001b[1;32mc:\\Users\\JBH\\anaconda3\\lib\\site-packages\\scipy\\optimize\\_optimize.py\u001b[0m in \u001b[0;36m_minimize_bfgs\u001b[1;34m(fun, x0, args, jac, callback, gtol, norm, eps, maxiter, disp, return_all, finite_diff_rel_step, **unknown_options)\u001b[0m\n\u001b[0;32m   1281\u001b[0m         \u001b[0mmaxiter\u001b[0m \u001b[1;33m=\u001b[0m \u001b[0mlen\u001b[0m\u001b[1;33m(\u001b[0m\u001b[0mx0\u001b[0m\u001b[1;33m)\u001b[0m \u001b[1;33m*\u001b[0m \u001b[1;36m200\u001b[0m\u001b[1;33m\u001b[0m\u001b[1;33m\u001b[0m\u001b[0m\n\u001b[0;32m   1282\u001b[0m \u001b[1;33m\u001b[0m\u001b[0m\n\u001b[1;32m-> 1283\u001b[1;33m     sf = _prepare_scalar_function(fun, x0, jac, args=args, epsilon=eps,\n\u001b[0m\u001b[0;32m   1284\u001b[0m                                   finite_diff_rel_step=finite_diff_rel_step)\n\u001b[0;32m   1285\u001b[0m \u001b[1;33m\u001b[0m\u001b[0m\n",
      "\u001b[1;32mc:\\Users\\JBH\\anaconda3\\lib\\site-packages\\scipy\\optimize\\_optimize.py\u001b[0m in \u001b[0;36m_prepare_scalar_function\u001b[1;34m(fun, x0, jac, args, bounds, epsilon, finite_diff_rel_step, hess)\u001b[0m\n\u001b[0;32m    261\u001b[0m     \u001b[1;31m# ScalarFunction caches. Reuse of fun(x) during grad\u001b[0m\u001b[1;33m\u001b[0m\u001b[1;33m\u001b[0m\u001b[0m\n\u001b[0;32m    262\u001b[0m     \u001b[1;31m# calculation reduces overall function evaluations.\u001b[0m\u001b[1;33m\u001b[0m\u001b[1;33m\u001b[0m\u001b[0m\n\u001b[1;32m--> 263\u001b[1;33m     sf = ScalarFunction(fun, x0, args, grad, hess,\n\u001b[0m\u001b[0;32m    264\u001b[0m                         finite_diff_rel_step, bounds, epsilon=epsilon)\n\u001b[0;32m    265\u001b[0m \u001b[1;33m\u001b[0m\u001b[0m\n",
      "\u001b[1;32mc:\\Users\\JBH\\anaconda3\\lib\\site-packages\\scipy\\optimize\\_differentiable_functions.py\u001b[0m in \u001b[0;36m__init__\u001b[1;34m(self, fun, x0, args, grad, hess, finite_diff_rel_step, finite_diff_bounds, epsilon)\u001b[0m\n\u001b[0;32m    156\u001b[0m \u001b[1;33m\u001b[0m\u001b[0m\n\u001b[0;32m    157\u001b[0m         \u001b[0mself\u001b[0m\u001b[1;33m.\u001b[0m\u001b[0m_update_fun_impl\u001b[0m \u001b[1;33m=\u001b[0m \u001b[0mupdate_fun\u001b[0m\u001b[1;33m\u001b[0m\u001b[1;33m\u001b[0m\u001b[0m\n\u001b[1;32m--> 158\u001b[1;33m         \u001b[0mself\u001b[0m\u001b[1;33m.\u001b[0m\u001b[0m_update_fun\u001b[0m\u001b[1;33m(\u001b[0m\u001b[1;33m)\u001b[0m\u001b[1;33m\u001b[0m\u001b[1;33m\u001b[0m\u001b[0m\n\u001b[0m\u001b[0;32m    159\u001b[0m \u001b[1;33m\u001b[0m\u001b[0m\n\u001b[0;32m    160\u001b[0m         \u001b[1;31m# Gradient evaluation\u001b[0m\u001b[1;33m\u001b[0m\u001b[1;33m\u001b[0m\u001b[0m\n",
      "\u001b[1;32mc:\\Users\\JBH\\anaconda3\\lib\\site-packages\\scipy\\optimize\\_differentiable_functions.py\u001b[0m in \u001b[0;36m_update_fun\u001b[1;34m(self)\u001b[0m\n\u001b[0;32m    249\u001b[0m     \u001b[1;32mdef\u001b[0m \u001b[0m_update_fun\u001b[0m\u001b[1;33m(\u001b[0m\u001b[0mself\u001b[0m\u001b[1;33m)\u001b[0m\u001b[1;33m:\u001b[0m\u001b[1;33m\u001b[0m\u001b[1;33m\u001b[0m\u001b[0m\n\u001b[0;32m    250\u001b[0m         \u001b[1;32mif\u001b[0m \u001b[1;32mnot\u001b[0m \u001b[0mself\u001b[0m\u001b[1;33m.\u001b[0m\u001b[0mf_updated\u001b[0m\u001b[1;33m:\u001b[0m\u001b[1;33m\u001b[0m\u001b[1;33m\u001b[0m\u001b[0m\n\u001b[1;32m--> 251\u001b[1;33m             \u001b[0mself\u001b[0m\u001b[1;33m.\u001b[0m\u001b[0m_update_fun_impl\u001b[0m\u001b[1;33m(\u001b[0m\u001b[1;33m)\u001b[0m\u001b[1;33m\u001b[0m\u001b[1;33m\u001b[0m\u001b[0m\n\u001b[0m\u001b[0;32m    252\u001b[0m             \u001b[0mself\u001b[0m\u001b[1;33m.\u001b[0m\u001b[0mf_updated\u001b[0m \u001b[1;33m=\u001b[0m \u001b[1;32mTrue\u001b[0m\u001b[1;33m\u001b[0m\u001b[1;33m\u001b[0m\u001b[0m\n\u001b[0;32m    253\u001b[0m \u001b[1;33m\u001b[0m\u001b[0m\n",
      "\u001b[1;32mc:\\Users\\JBH\\anaconda3\\lib\\site-packages\\scipy\\optimize\\_differentiable_functions.py\u001b[0m in \u001b[0;36mupdate_fun\u001b[1;34m()\u001b[0m\n\u001b[0;32m    153\u001b[0m \u001b[1;33m\u001b[0m\u001b[0m\n\u001b[0;32m    154\u001b[0m         \u001b[1;32mdef\u001b[0m \u001b[0mupdate_fun\u001b[0m\u001b[1;33m(\u001b[0m\u001b[1;33m)\u001b[0m\u001b[1;33m:\u001b[0m\u001b[1;33m\u001b[0m\u001b[1;33m\u001b[0m\u001b[0m\n\u001b[1;32m--> 155\u001b[1;33m             \u001b[0mself\u001b[0m\u001b[1;33m.\u001b[0m\u001b[0mf\u001b[0m \u001b[1;33m=\u001b[0m \u001b[0mfun_wrapped\u001b[0m\u001b[1;33m(\u001b[0m\u001b[0mself\u001b[0m\u001b[1;33m.\u001b[0m\u001b[0mx\u001b[0m\u001b[1;33m)\u001b[0m\u001b[1;33m\u001b[0m\u001b[1;33m\u001b[0m\u001b[0m\n\u001b[0m\u001b[0;32m    156\u001b[0m \u001b[1;33m\u001b[0m\u001b[0m\n\u001b[0;32m    157\u001b[0m         \u001b[0mself\u001b[0m\u001b[1;33m.\u001b[0m\u001b[0m_update_fun_impl\u001b[0m \u001b[1;33m=\u001b[0m \u001b[0mupdate_fun\u001b[0m\u001b[1;33m\u001b[0m\u001b[1;33m\u001b[0m\u001b[0m\n",
      "\u001b[1;32mc:\\Users\\JBH\\anaconda3\\lib\\site-packages\\scipy\\optimize\\_differentiable_functions.py\u001b[0m in \u001b[0;36mfun_wrapped\u001b[1;34m(x)\u001b[0m\n\u001b[0;32m    135\u001b[0m             \u001b[1;31m# Overwriting results in undefined behaviour because\u001b[0m\u001b[1;33m\u001b[0m\u001b[1;33m\u001b[0m\u001b[0m\n\u001b[0;32m    136\u001b[0m             \u001b[1;31m# fun(self.x) will change self.x, with the two no longer linked.\u001b[0m\u001b[1;33m\u001b[0m\u001b[1;33m\u001b[0m\u001b[0m\n\u001b[1;32m--> 137\u001b[1;33m             \u001b[0mfx\u001b[0m \u001b[1;33m=\u001b[0m \u001b[0mfun\u001b[0m\u001b[1;33m(\u001b[0m\u001b[0mnp\u001b[0m\u001b[1;33m.\u001b[0m\u001b[0mcopy\u001b[0m\u001b[1;33m(\u001b[0m\u001b[0mx\u001b[0m\u001b[1;33m)\u001b[0m\u001b[1;33m,\u001b[0m \u001b[1;33m*\u001b[0m\u001b[0margs\u001b[0m\u001b[1;33m)\u001b[0m\u001b[1;33m\u001b[0m\u001b[1;33m\u001b[0m\u001b[0m\n\u001b[0m\u001b[0;32m    138\u001b[0m             \u001b[1;31m# Make sure the function returns a true scalar\u001b[0m\u001b[1;33m\u001b[0m\u001b[1;33m\u001b[0m\u001b[0m\n\u001b[0;32m    139\u001b[0m             \u001b[1;32mif\u001b[0m \u001b[1;32mnot\u001b[0m \u001b[0mnp\u001b[0m\u001b[1;33m.\u001b[0m\u001b[0misscalar\u001b[0m\u001b[1;33m(\u001b[0m\u001b[0mfx\u001b[0m\u001b[1;33m)\u001b[0m\u001b[1;33m:\u001b[0m\u001b[1;33m\u001b[0m\u001b[1;33m\u001b[0m\u001b[0m\n",
      "\u001b[1;32mc:\\Users\\JBH\\Dropbox\\10_semester\\Advanced Microeconometrics\\project3\\estimation.py\u001b[0m in \u001b[0;36m<lambda>\u001b[1;34m(theta)\u001b[0m\n\u001b[0;32m     45\u001b[0m     \u001b[1;31m# but Q is only a function of one variable, theta,\u001b[0m\u001b[1;33m\u001b[0m\u001b[1;33m\u001b[0m\u001b[0m\n\u001b[0;32m     46\u001b[0m     \u001b[1;31m# which is what minimize() will expect\u001b[0m\u001b[1;33m\u001b[0m\u001b[1;33m\u001b[0m\u001b[0m\n\u001b[1;32m---> 47\u001b[1;33m     \u001b[0mQ\u001b[0m \u001b[1;33m=\u001b[0m \u001b[1;32mlambda\u001b[0m \u001b[0mtheta\u001b[0m\u001b[1;33m:\u001b[0m \u001b[0mnp\u001b[0m\u001b[1;33m.\u001b[0m\u001b[0mmean\u001b[0m\u001b[1;33m(\u001b[0m\u001b[0mq\u001b[0m\u001b[1;33m(\u001b[0m\u001b[0mtheta\u001b[0m\u001b[1;33m,\u001b[0m \u001b[0my\u001b[0m\u001b[1;33m,\u001b[0m \u001b[0mx\u001b[0m\u001b[1;33m)\u001b[0m\u001b[1;33m)\u001b[0m\u001b[1;33m\u001b[0m\u001b[1;33m\u001b[0m\u001b[0m\n\u001b[0m\u001b[0;32m     48\u001b[0m \u001b[1;33m\u001b[0m\u001b[0m\n\u001b[0;32m     49\u001b[0m     \u001b[1;31m# call optimizer\u001b[0m\u001b[1;33m\u001b[0m\u001b[1;33m\u001b[0m\u001b[0m\n",
      "\u001b[1;32mc:\\Users\\JBH\\Dropbox\\10_semester\\Advanced Microeconometrics\\project3\\clogit.py\u001b[0m in \u001b[0;36mq\u001b[1;34m(theta, y, x)\u001b[0m\n\u001b[0;32m     12\u001b[0m         \u001b[1;33m(\u001b[0m\u001b[0mN\u001b[0m\u001b[1;33m,\u001b[0m\u001b[1;33m)\u001b[0m \u001b[0mvector\u001b[0m\u001b[1;33m.\u001b[0m\u001b[1;33m\u001b[0m\u001b[1;33m\u001b[0m\u001b[0m\n\u001b[0;32m     13\u001b[0m     '''\n\u001b[1;32m---> 14\u001b[1;33m     \u001b[1;32mreturn\u001b[0m \u001b[1;33m-\u001b[0m\u001b[0mloglikelihood\u001b[0m\u001b[1;33m(\u001b[0m\u001b[0mtheta\u001b[0m\u001b[1;33m,\u001b[0m\u001b[0my\u001b[0m\u001b[1;33m,\u001b[0m\u001b[0mx\u001b[0m\u001b[1;33m)\u001b[0m \u001b[1;31m# Fill in\u001b[0m\u001b[1;33m\u001b[0m\u001b[1;33m\u001b[0m\u001b[0m\n\u001b[0m\u001b[0;32m     15\u001b[0m \u001b[1;33m\u001b[0m\u001b[0m\n\u001b[0;32m     16\u001b[0m \u001b[1;32mdef\u001b[0m \u001b[0mstarting_values\u001b[0m\u001b[1;33m(\u001b[0m\u001b[0my\u001b[0m\u001b[1;33m,\u001b[0m \u001b[0mx\u001b[0m\u001b[1;33m)\u001b[0m\u001b[1;33m:\u001b[0m\u001b[1;33m\u001b[0m\u001b[1;33m\u001b[0m\u001b[0m\n",
      "\u001b[1;32mc:\\Users\\JBH\\Dropbox\\10_semester\\Advanced Microeconometrics\\project3\\clogit.py\u001b[0m in \u001b[0;36mloglikelihood\u001b[1;34m(theta, y, x)\u001b[0m\n\u001b[0;32m     69\u001b[0m     \u001b[1;31m# Fill in evaluate v at cols indicated by y\u001b[0m\u001b[1;33m\u001b[0m\u001b[1;33m\u001b[0m\u001b[0m\n\u001b[0;32m     70\u001b[0m \u001b[1;33m\u001b[0m\u001b[0m\n\u001b[1;32m---> 71\u001b[1;33m     \u001b[0mv_i\u001b[0m \u001b[1;33m=\u001b[0m \u001b[0mv\u001b[0m\u001b[1;33m[\u001b[0m\u001b[0mrange\u001b[0m\u001b[1;33m(\u001b[0m\u001b[0mN\u001b[0m\u001b[1;33m)\u001b[0m\u001b[1;33m,\u001b[0m\u001b[0my\u001b[0m\u001b[1;33m]\u001b[0m\u001b[1;33m\u001b[0m\u001b[1;33m\u001b[0m\u001b[0m\n\u001b[0m\u001b[0;32m     72\u001b[0m \u001b[1;33m\u001b[0m\u001b[0m\n\u001b[0;32m     73\u001b[0m     \u001b[0mll_i\u001b[0m \u001b[1;33m=\u001b[0m \u001b[0mv_i\u001b[0m\u001b[1;33m-\u001b[0m\u001b[0mnp\u001b[0m\u001b[1;33m.\u001b[0m\u001b[0mlog\u001b[0m\u001b[1;33m(\u001b[0m\u001b[0mdenom\u001b[0m\u001b[1;33m)\u001b[0m \u001b[1;31m# Fill in\u001b[0m\u001b[1;33m\u001b[0m\u001b[1;33m\u001b[0m\u001b[0m\n",
      "\u001b[1;31mIndexError\u001b[0m: shape mismatch: indexing arrays could not be broadcast together with shapes (150,) (40,) "
     ]
    }
   ],
   "source": [
    "est.estimate(clogit.q, theta_start, y.T[:, 0], x)"
   ]
  },
  {
   "cell_type": "code",
   "execution_count": null,
   "metadata": {},
   "outputs": [],
   "source": []
  }
 ],
 "metadata": {
  "kernelspec": {
   "display_name": "Python 3.9.15 ('base')",
   "language": "python",
   "name": "python3"
  },
  "language_info": {
   "codemirror_mode": {
    "name": "ipython",
    "version": 3
   },
   "file_extension": ".py",
   "mimetype": "text/x-python",
   "name": "python",
   "nbconvert_exporter": "python",
   "pygments_lexer": "ipython3",
   "version": "3.9.15"
  },
  "orig_nbformat": 4,
  "vscode": {
   "interpreter": {
    "hash": "054e95b4819972eba8d406807e822e3be9cca805528e86310f8e3ac8dc287778"
   }
  }
 },
 "nbformat": 4,
 "nbformat_minor": 2
}
