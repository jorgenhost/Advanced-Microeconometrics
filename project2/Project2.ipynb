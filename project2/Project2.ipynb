{
 "cells": [
  {
   "cell_type": "markdown",
   "id": "0ae71b6b-3001-4471-affe-0e9f14a72efe",
   "metadata": {},
   "source": [
    "# Project II: Economic Growth "
   ]
  },
  {
   "cell_type": "markdown",
   "id": "28d36daa-ba79-46f7-a140-919bc288b862",
   "metadata": {},
   "source": [
    "### By Astrid Fugleholm, Jacob Strabo, and Jørgen Høst"
   ]
  },
  {
   "cell_type": "code",
   "execution_count": 1,
   "id": "ae406764-55b0-4ff7-baa2-c090bb3e2f78",
   "metadata": {},
   "outputs": [],
   "source": [
    "# Importing packages\n",
    "import pandas as pd \n",
    "import numpy as np \n",
    "import matplotlib.pyplot as plt\n",
    "import seaborn as sns \n",
    "from sklearn.linear_model import Lasso\n",
    "from scipy.stats import norm\n",
    "import matplotlib.pyplot as plt\n",
    "from sklearn.preprocessing import PolynomialFeatures\n",
    "\n",
    "# Toolbox\n",
    "import HDmodels as hd"
   ]
  },
  {
   "cell_type": "markdown",
   "id": "835e2fe0-af11-4a29-8fab-95cf72ab6c81",
   "metadata": {},
   "source": [
    "## 1. Read Data"
   ]
  },
  {
   "cell_type": "code",
   "execution_count": 2,
   "id": "f15f52d2-af6c-44e7-aaf0-325a37dd6329",
   "metadata": {},
   "outputs": [
    {
     "name": "stdout",
     "output_type": "stream",
     "text": [
      "The data contains 214 rows (countries) and 85 columns (variables).\n"
     ]
    }
   ],
   "source": [
    "dat = pd.read_csv('growth.csv')\n",
    "lbldf = pd.read_csv('labels.csv', index_col='variable')\n",
    "lbl_all = lbldf.label.to_dict() # as a dictionary\n",
    "\n",
    "print(f'The data contains {dat.shape[0]} rows (countries) and {dat.shape[1]} columns (variables).')"
   ]
  },
  {
   "cell_type": "markdown",
   "id": "4c22ef61",
   "metadata": {},
   "source": [
    "### 1.1 Identify dummy variables"
   ]
  },
  {
   "cell_type": "code",
   "execution_count": 3,
   "id": "0c63611a",
   "metadata": {},
   "outputs": [],
   "source": [
    "category_features = []\n",
    "threshold = 2\n",
    "for each in dat.columns:\n",
    "    if dat[each].nunique() == threshold:\n",
    "        category_features.append(each)\n",
    "\n",
    "for each in category_features:\n",
    "    dat[each] = dat[each].astype('category')\n",
    "\n",
    "dummies = dat.select_dtypes('category')"
   ]
  },
  {
   "cell_type": "markdown",
   "id": "b03d0cda-a88b-40b4-b945-d7c40a14ef9d",
   "metadata": {},
   "source": [
    "## 2. Descriptive Plots"
   ]
  },
  {
   "cell_type": "markdown",
   "id": "4ea1cfaa-444e-41f1-82ed-21ca90c69bd2",
   "metadata": {},
   "source": [
    "## 3. Collection of Variables"
   ]
  },
  {
   "cell_type": "code",
   "execution_count": 4,
   "id": "5cf21f6e-5b1d-48ef-9a3f-4e79e012eb36",
   "metadata": {},
   "outputs": [],
   "source": [
    "# Variables regarding institutions\n",
    "vv_institutions = ['marketref', 'dem', 'demCGV', 'demBMR', 'demreg'] \n",
    "\n",
    "# Variables regarding geography\n",
    "vv_geography = [\n",
    "        'tropicar','distr', 'distcr', 'distc','suitavg','temp', 'suitgini', 'elevavg', 'elevstd',\n",
    "        'kgatr', 'precip', 'area', 'abslat', 'cenlong', 'area_ar', 'rough','landlock', \n",
    "        'africa',  'asia', 'oceania', 'americas' # 'europe' is the reference\n",
    "]\n",
    "\n",
    "# Variables regarding genetic diversity\n",
    "vv_geneticdiversity = ['pdiv', 'pdiv_aa', 'pdivhmi', 'pdivhmi_aa']\n",
    "\n",
    "# Variables regarding historical events\n",
    "vv_historical = ['pd1000', 'pd1500', 'pop1000', 'pop1500', 'ln_yst'] # these are often missing: ['pd1', 'pop1']\n",
    "\n",
    "# Variables regarding religion\n",
    "vv_religion = ['pprotest', 'pcatholic', 'pmuslim']\n",
    "\n",
    "# Variables regarding the level of danger in countries\n",
    "vv_danger = ['yellow', 'malfal',  'uvdamage']\n",
    "\n",
    "# Variables regarding natural resources in countries\n",
    "vv_resources = ['oilres', 'goldm', 'iron', 'silv', 'zinc']\n",
    "\n",
    "# Variables regarding educational attainment level of populations in countries \n",
    "vv_educ = ['ls_bl', 'lh_bl'] # secondary, tertiary: we exclude 'lp_bl' (primary) to avoid rank failure \n",
    "\n",
    "# A collection of all available variables grouped based on category\n",
    "vv_all = {'institutions': vv_institutions, \n",
    "          'geography': vv_geography, \n",
    "          'geneticdiversity': vv_geneticdiversity,\n",
    "          'historical': vv_historical,\n",
    "          'religion': vv_religion,\n",
    "          'danger':vv_danger, \n",
    "          'resources':vv_resources,\n",
    "          'educ':vv_educ\n",
    "         }\n",
    "list_of_lists = vv_all.values()\n",
    "vv_all['all'] = [v for sublist in list_of_lists for v in sublist]"
   ]
  },
  {
   "cell_type": "markdown",
   "id": "ee124be2-fe26-42c3-8f76-b375ef1f7378",
   "metadata": {},
   "source": [
    "### 3.1 Initial Selection of Controls"
   ]
  },
  {
   "cell_type": "markdown",
   "id": "1fe9adf5-0ec4-4702-b176-668d69bd3476",
   "metadata": {},
   "source": [
    "Method: On the basis of `materialize.ipynb`, select variables that has *at least* 90%-95% non-missing observations of GDP growth."
   ]
  },
  {
   "cell_type": "code",
   "execution_count": 5,
   "id": "05335ba0",
   "metadata": {},
   "outputs": [],
   "source": [
    "share_of_non_mis_obs = 0.95\n",
    "\n",
    "temp = dat[dat.gdp_growth.notnull()].notnull().mean()>share_of_non_mis_obs\n",
    "temp2 = temp.to_dict()\n",
    "\n",
    "# Delete vars that has less than 90% non-missing obs for GDP growth\n",
    "# NB! Not necessarily optimising the number of observations (different pairs could yield the higher number of observations)\n",
    "for key, val in temp2.copy().items():\n",
    "    if val == False:\n",
    "        del temp2[key]\n",
    "\n",
    "# Save the 'vars' for later\n",
    "vars_to_keep = list(temp2.keys())\n",
    "vs_las = vv_all['institutions'] + vv_all['geography'] + vv_all['historical'] + vv_all['religion'] + vv_all['resources'] + vv_all['educ']\n",
    "\n",
    "vs_las_final = [item for item in vs_las if item in vars_to_keep]"
   ]
  },
  {
   "cell_type": "code",
   "execution_count": 6,
   "id": "79fcc626",
   "metadata": {},
   "outputs": [
    {
     "data": {
      "text/plain": [
       "(92, 404)"
      ]
     },
     "execution_count": 6,
     "metadata": {},
     "output_type": "execute_result"
    }
   ],
   "source": [
    "## Based on our '95%' rule, select variables ##\n",
    "\n",
    "# Possible controls (z_i)\n",
    "z_las_final = ['pop_growth', 'investment_rate'] + vs_las_final\n",
    "\n",
    "# Initial gdp (beta)\n",
    "b_las_final = ['lgdp_initial']\n",
    "\n",
    "# avoiding missings\n",
    "all_vars = ['gdp_growth'] + z_las_final + b_las_final\n",
    "I = dat[all_vars].notnull().all(1)\n",
    "\n",
    "# extract data (We split it up, this makes sense later)\n",
    "# Possible controls (z_i)\n",
    "Z_las_95_rule = dat.loc[I, z_las_final].values  \n",
    "\n",
    "# Initial GDP (beta), our treatment variable\n",
    "B_las_95_rule = dat.loc[I, b_las_final].values \n",
    "\n",
    "X = dat.loc[I, b_las_final+z_las_final]\n",
    "y = dat.loc[I,'gdp_growth'].values.reshape((-1,1)) * 100. #easier to read output when growth is in 100%\n",
    "\n",
    "\n",
    "# Add polynomial features and interaction terms\n",
    "poly = PolynomialFeatures(2, include_bias=False)\n",
    "\n",
    "# Compute number of output variables, use 'fit()', then extract variable names\n",
    "var_names = poly.fit(X).get_feature_names_out(X.columns)\n",
    "\n",
    "# Then, fit polynomial and interaction terms, use 'fit_transform()'\n",
    "X_poly_95 = poly.fit_transform(X)               # this is a np.array\n",
    "df = pd.DataFrame(X_poly_95, columns=var_names) # make a DataFrame\n",
    "df_regression = df.copy()\n",
    "\n",
    "# For the 'naive' approach, extract the array that excludes our treatment variable 'lgdp_initial'\n",
    "X_poly_95_naive = df.loc[:, df.columns != 'lgdp_initial'].values\n",
    "\n",
    "# Standardize our data (including initial GDP)\n",
    "X_tilde_poly_95 = hd.standardize(X_poly_95)\n",
    "X_tilde_poly_95_naive = hd.standardize(X_poly_95_naive)\n",
    "\n",
    "X_tilde_poly_95.shape\n",
    "X_tilde_poly_95_naive.shape"
   ]
  },
  {
   "cell_type": "markdown",
   "id": "e49b65b4-d2c0-4b42-a660-69046e2a066d",
   "metadata": {},
   "source": [
    "We will then proceed by treating this new list of variables in a high-dimensional paradigm. "
   ]
  },
  {
   "cell_type": "markdown",
   "id": "5f6cc6ed-0221-4673-8b82-46f9024a197c",
   "metadata": {},
   "source": [
    "## 4. Lasso"
   ]
  },
  {
   "cell_type": "markdown",
   "id": "0686811b-2a5a-40d3-94be-dcb9344cdf47",
   "metadata": {},
   "source": [
    "As we would like to include as many controls as possible in our regression, and we have a data set with observations on 102 countries and 85 variables, OLS will not be feasible. Further, we believe that our ability to select the most important variables for predicting annual growth rate in GDP per capita are not as good as estimators like Lasso, we rely on these smarter methods for our predictions. "
   ]
  },
  {
   "cell_type": "markdown",
   "id": "c61738b0",
   "metadata": {},
   "source": [
    "### 4.1: LASSO (HD, 95% rule, polynomial features added)"
   ]
  },
  {
   "cell_type": "markdown",
   "id": "af3a0516",
   "metadata": {},
   "source": [
    "$$\n",
    "\\left(\\widehat{\\beta}_0(\\lambda), \\widehat{\\beta}(\\lambda)\\right) \\in \\underset{\\left(b_0, b\\right) \\in \\mathbf{R}^{1+p}}{\\operatorname{argmin}}\\left\\{\\frac{1}{2 n} \\sum_{i=1}^n\\left(Y_i-b_0-X_i^{\\prime} b\\right)^2+\\lambda \\sum_{j=1}^p\\left|b_j\\right|\\right\\}\n",
    "$$"
   ]
  },
  {
   "cell_type": "markdown",
   "id": "72627d24-1902-402d-9497-6a0c92fad14d",
   "metadata": {},
   "source": [
    "We construct a Lasso path which visualizes which control variables are being shut down for given penalty levels. This will reveal which variables are most reasonable to include in our estimation in the sense that they are important for prediction annual growth in GDP per capita.  "
   ]
  },
  {
   "cell_type": "markdown",
   "id": "d8d77ae8-5b5f-45fb-b43f-275f61755855",
   "metadata": {},
   "source": [
    "### Lasso with BRT"
   ]
  },
  {
   "cell_type": "markdown",
   "id": "680266a5",
   "metadata": {},
   "source": [
    "\\begin{align}\n",
    "    \\hat{\\lambda}^{B R T}   &=\\frac{2 c \\sigma}{\\sqrt{N}} \\Phi^{-1}\\left(1-\\frac{\\alpha}{2 p}\\right) \\sqrt{\\max _{1 \\leq j \\leq p} \\frac{1}{N} \\sum_{i=1}^N \\mathbf{X}_i^2} \\Leftrightarrow \\\\\n",
    "\n",
    "    \\hat{\\lambda}^{B R T}   &=\\frac{2 c \\sigma}{\\sqrt{N}} \\Phi^{-1}\\left(1-\\frac{\\alpha}{2 p}\\right)\n",
    "\\end{align}\n",
    "\n",
    "The last term = 1 only happens, if standardize $\\mathbf{X}_i$."
   ]
  },
  {
   "cell_type": "code",
   "execution_count": 7,
   "id": "043c25de",
   "metadata": {},
   "outputs": [
    {
     "name": "stdout",
     "output_type": "stream",
     "text": [
      "lambda_BRT_naive = 0.64\n"
     ]
    }
   ],
   "source": [
    "lambda_BRT_naive = hd.penalty_BRT(X_tilde_poly_95_naive, y)\n",
    "\n",
    "clf_BRT = Lasso(alpha=lambda_BRT_naive/2, fit_intercept=False)\n",
    "\n",
    "clf_BRT.fit(X_tilde_poly_95_naive, y)\n",
    "coeff_BRT =clf_BRT.coef_\n",
    "\n",
    "print(\"lambda_BRT_naive =\",(lambda_BRT_naive/2).round(2))"
   ]
  },
  {
   "cell_type": "markdown",
   "id": "2b925d5f-0655-4fb7-8576-1de7ba084837",
   "metadata": {},
   "source": [
    "Lasso with BCCH"
   ]
  },
  {
   "cell_type": "markdown",
   "id": "6cd1facf",
   "metadata": {},
   "source": [
    "$$\n",
    "\\hat{\\lambda}^{\\text {pilot }}=\\frac{2 c}{\\sqrt{N}} \\Phi^{-1}\\left(1-\\frac{\\alpha}{2 p}\\right) \\sqrt{\\max _{1 \\leq j \\leq p} \\frac{1}{N} \\sum_{i=1}^N\\left(Y_i-\\bar{Y}\\right)^2\\textcolor{red}{'} \\mathbf{X}_i^2}\n",
    "$$\n",
    "\n",
    "Then,\n",
    "\n",
    "$$\n",
    "\\hat{\\lambda}^{B C C H}=\\frac{2 c}{\\sqrt{N}} \\Phi^{-1}\\left(1-\\frac{\\alpha}{2 p}\\right) \\sqrt{\\max _{1 \\leq j \\leq p} \\frac{1}{N} \\sum_{i=1}^N \\hat{\\epsilon}_i^{\\textcolor{red}{2}} \\mathbf{X}_i^2}\n",
    "$$"
   ]
  },
  {
   "cell_type": "code",
   "execution_count": 8,
   "id": "cf07e714",
   "metadata": {},
   "outputs": [
    {
     "name": "stdout",
     "output_type": "stream",
     "text": [
      "lambda_BCCH_naive= 47.88\n"
     ]
    }
   ],
   "source": [
    "lambda_BCCH_naive = hd.penalty_BCCH(X_tilde_poly_95_naive, y)\n",
    "\n",
    "print('lambda_BCCH_naive=', (lambda_BCCH_naive/2).round(2))"
   ]
  },
  {
   "cell_type": "code",
   "execution_count": 9,
   "id": "1e0f2dff",
   "metadata": {},
   "outputs": [],
   "source": [
    "# Creating a grid of candidate penalty levels\n",
    "penalty_grid = np.geomspace(1e-1,100)\n",
    "\n",
    "# Empty list for coefs\n",
    "coefs=[]\n",
    "\n",
    "# Estimating the model using Lasso for a given penalty level over a lopp using sklearn.linear_model.Lasso\n",
    "for l in penalty_grid:\n",
    "    clf = Lasso(alpha=l, max_iter=100000, tol=1e-2, fit_intercept=False)\n",
    "    clf.fit(X_tilde_poly_95_naive,y)\n",
    "    coefs.append(clf.coef_)"
   ]
  },
  {
   "cell_type": "code",
   "execution_count": 10,
   "id": "a56c1d2d",
   "metadata": {},
   "outputs": [
    {
     "data": {
      "image/png": "[encoded data removed]",
      "text/plain": [
       "<Figure size 640x480 with 1 Axes>"
      ]
     },
     "metadata": {},
     "output_type": "display_data"
    }
   ],
   "source": [
    "df = pd.DataFrame(dict(zip(penalty_grid,coefs)), index=var_names[1:])   # every var_name except for initial gdp\n",
    "df.loc[(df!=0).any(axis=1)].T.plot(logx=True, colormap='jet')           # Keeping every variable not equal to zero\n",
    "plt.xlabel('Penalty, $\\lambda$')\n",
    "plt.ylabel(r'Estimates, $\\widehat{\\beta}_j(\\lambda)$')\n",
    "plt.axvline(lambda_BRT_naive, linestyle='--', color='r', label=r'$\\lambda_{BRT}$')\n",
    "plt.axvline(lambda_BCCH_naive, linestyle='--', color='g', label=r'$\\lambda_{BCCH}$') \n",
    "plt.legend(loc='best', bbox_to_anchor=(1,0.75))\n",
    "plt.savefig(f'_draft_fig_lasso_poly_{share_of_non_mis_obs}_rule.pdf', bbox_inches = \"tight\")"
   ]
  },
  {
   "cell_type": "code",
   "execution_count": 11,
   "id": "79715219",
   "metadata": {},
   "outputs": [],
   "source": [
    "# Make OLS regression based on naive approach\n",
    "b_naive = df_regression['lgdp_initial'].values.reshape(-1,1)\n",
    "z_naive = df_regression['pop1500^2'].values.reshape(-1,1)       # pop_1500^2 is the last var to survive\n",
    "x_naive = np.hstack((b_naive,z_naive))\n",
    "LS = np.linalg.inv(x_naive.T@x_naive)@x_naive.T@y\n",
    "\n",
    "res_OLS = y-x_naive@LS\n",
    "SSR = res_OLS.T@res_OLS \n",
    "SST = (y - np.mean(y)).T@(y - np.mean(y))\n",
    "\n",
    "# compute OLS standard errors\n",
    "N = x_naive.shape[0]\n",
    "K = x_naive.shape[1]\n",
    "sigma2_ols = SSR/(N-K)\n",
    "var = sigma2_ols*np.linalg.inv(x_naive.T@x_naive)\n",
    "se_ols = np.sqrt(var.diagonal()).reshape(-1,1)\n",
    "\n",
    "# pull out relevant coefficient and se estimates\n",
    "# X=np.hstack((d,Z)) --> we are interested in d\n",
    "se_ols_d = se_ols[0][0]\n",
    "LS_d = LS[0][0].round(2)\n",
    "\n",
    "# construct CI\n",
    "q = norm.ppf(1-0.025)\n",
    "CI_OLS =  ((LS_d+q*se_ols_d).round(2), (LS_d-q*se_ols_d).round(2)) "
   ]
  },
  {
   "cell_type": "markdown",
   "id": "a607c872-0731-4fc7-88d8-47d4f8ca184b",
   "metadata": {},
   "source": [
    "### 4.2. Lasso with Cross Validation \n",
    "\n",
    "Would avoid CV, as we have such a small dataset...(?)"
   ]
  },
  {
   "cell_type": "markdown",
   "id": "ee7c3b98-8a1a-4e6e-af51-7367c2298840",
   "metadata": {},
   "source": [
    "## 5. Post-Lasso\n",
    "\n",
    "Suppose a model:\n",
    "\n",
    "$$\n",
    "Y=\\alpha_0 D+Z^{\\prime} \\gamma_0+\\varepsilon, \\quad \\mathrm{E}[\\varepsilon \\mid D, Z]=0\n",
    "$$\n",
    "\n",
    "### 5.1 Partialling Out Lasso\n",
    "\n",
    "$$\n",
    "\\hat{\\alpha}=\\frac{\\sum_{i=1}^N\\left(Y_i-\\mathbf{Z}_{i, J, Y} \\hat{\\boldsymbol{\\phi}}\\right)\\left(D_i-\\mathbf{Z}_{i, J, D} \\hat{\\boldsymbol{\\delta}}\\right)}{\\sum_{i=1}^N\\left(D_i-\\mathbf{Z}_{i, J, D} \\hat{\\boldsymbol{\\delta}}\\right) D_i}=\\frac{\\sum_{i=1}^N \\hat{u}_i \\hat{w}_i}{\\sum_{i=1}^N \\hat{w}_i D_i}\n",
    "$$\n",
    "\n",
    "1) Lasso `gdp_growth` on controls $z_i$ (based on 95% rule). Save residuals.\n",
    "2) Lasso `initial_gdp` on controls $z_i$. Save residuals\n",
    "3) Calculate $\\hat{\\alpha}$\n",
    "4) Calculate (implied) variance \n",
    "    - LASSO `gdp_growth` on X=((beta,z_i)). Save residuals\n",
    "5) Calculate confidence interval"
   ]
  },
  {
   "cell_type": "code",
   "execution_count": 16,
   "id": "226b73ef",
   "metadata": {},
   "outputs": [],
   "source": [
    "#BRT penalty\n",
    "PDL_BRT, penalty_BRT_yz, penalty_BRT_bz, CI_PDL_BRT, se_PDL_BRT, N, p = hd.part_out_LASSO(X_tilde=X_tilde_poly_95, Z=Z_las_95_rule, d=B_las_95_rule, y=y, penalty='BRT')\n",
    "\n",
    "#BCCH penalty\n",
    "PDL_BCCH, penalty_BCCH_yz, penalty_BCCH_bz, CI_PDL_BCCH, se_PDL_BCCH, N, p = hd.part_out_LASSO(X_tilde=X_tilde_poly_95, Z=Z_las_95_rule, d=B_las_95_rule, y=y, penalty='BCCH')"
   ]
  },
  {
   "cell_type": "code",
   "execution_count": 17,
   "id": "1e548b2f",
   "metadata": {},
   "outputs": [
    {
     "name": "stdout",
     "output_type": "stream",
     "text": [
      "\\begin{tabular}{lrlllllrrr}\n",
      "\\toprule\n",
      "{} &  Estimate &        Penalty & $\\lambda_{naïve}$ & $\\lambda_{yz}$ & $\\lambda_{bz}$ &              CI &    se &   N &    p \\\\\n",
      "\\midrule\n",
      "Naïve &      0.17 &   \\texttt{BRT} &              1.28 &              . &              . &     (0.2, 0.14) &  0.02 &  92 &  405 \\\\\n",
      "PDL   &     -0.19 &   \\texttt{BRT} &                 . &           1.03 &           0.97 &  (-0.21, -0.17) &  0.01 &  92 &  405 \\\\\n",
      "PDL   &     -0.14 &  \\texttt{BCCH} &                 . &          17.35 &           7.63 &  (-0.16, -0.12) &  0.01 &  92 &  405 \\\\\n",
      "\\bottomrule\n",
      "\\end{tabular}\n",
      "\n"
     ]
    },
    {
     "name": "stderr",
     "output_type": "stream",
     "text": [
      "C:\\Users\\JBH\\AppData\\Local\\Temp\\ipykernel_17868\\2966309027.py:16: FutureWarning: In future versions `DataFrame.to_latex` is expected to utilise the base implementation of `Styler.to_latex` for formatting and rendering. The arguments signature may therefore change. It is recommended instead to use `DataFrame.style.to_latex` which also contains additional functionality.\n",
      "  print(pd.DataFrame(results, index=['Naïve','PDL','PDL']).to_latex(escape=False))\n"
     ]
    }
   ],
   "source": [
    "# Q: Include count of non-zero coefficients?\n",
    "\n",
    "# Collect results in table\n",
    "results = {\n",
    "    'Estimate': [LS_d, PDL_BRT, PDL_BCCH], \n",
    "    'Penalty': [r'\\texttt{BRT}', r'\\texttt{BRT}', r'\\texttt{BCCH}'],\n",
    "    r'$\\lambda_{naïve}$': [lambda_BRT_naive.round(2), '.', '.'], \n",
    "    r'$\\lambda_{yz}$': ['.', penalty_BRT_yz, penalty_BCCH_yz], \n",
    "    r'$\\lambda_{bz}$': ['.', penalty_BRT_bz, penalty_BCCH_bz], \n",
    "    'CI':[f'{CI_OLS}', f'{CI_PDL_BRT}', f'{CI_PDL_BCCH}'], \n",
    "    'se':[se_ols_d.round(2), se_PDL_BRT, se_PDL_BCCH],\n",
    "    'N': N,\n",
    "    'p': p\n",
    "}\n",
    "\n",
    "print(pd.DataFrame(results, index=['Naïve','PDL','PDL']).to_latex(escape=False))"
   ]
  },
  {
   "cell_type": "markdown",
   "id": "6824eece",
   "metadata": {},
   "source": [
    "### Addendum\n",
    "\n"
   ]
  },
  {
   "cell_type": "markdown",
   "id": "2136eb8a",
   "metadata": {},
   "source": []
  }
 ],
 "metadata": {
  "kernelspec": {
   "display_name": "Python 3.9.13 ('base')",
   "language": "python",
   "name": "python3"
  },
  "language_info": {
   "codemirror_mode": {
    "name": "ipython",
    "version": 3
   },
   "file_extension": ".py",
   "mimetype": "text/x-python",
   "name": "python",
   "nbconvert_exporter": "python",
   "pygments_lexer": "ipython3",
   "version": "3.9.13"
  },
  "vscode": {
   "interpreter": {
    "hash": "054e95b4819972eba8d406807e822e3be9cca805528e86310f8e3ac8dc287778"
   }
  }
 },
 "nbformat": 4,
 "nbformat_minor": 5
}
