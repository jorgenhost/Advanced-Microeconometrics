{
 "cells": [
  {
   "cell_type": "markdown",
   "metadata": {},
   "source": [
    "# Week 1 \n",
    "\n",
    "The purpose of this week's excercise is twofold: First, introduce you to Numpy and making you familiar to the library and some of its pitfalls. Secondly, you will use this knowledge to estimate the linear model using OLS."
   ]
  },
  {
   "cell_type": "markdown",
   "metadata": {},
   "source": [
    "## A short introduction to Numpy and Linear Algebra (Linalg)\n",
    "First, import all necessary packages. If you are missing a package, you can either install it through your terminal using pip, or an Anaconda terminal using conda."
   ]
  },
  {
   "cell_type": "code",
   "execution_count": 1,
   "metadata": {},
   "outputs": [],
   "source": [
    "import numpy as np\n",
    "from numpy import linalg as la\n",
    "from numpy import random as random\n",
    "from tabulate import tabulate\n",
    "from matplotlib import pyplot as plt"
   ]
  },
  {
   "cell_type": "markdown",
   "metadata": {},
   "source": [
    "### Entering matrices manually\n",
    "To create a $1\\times9$ *row* vector write,"
   ]
  },
  {
   "cell_type": "code",
   "execution_count": 2,
   "metadata": {},
   "outputs": [
    {
     "name": "stdout",
     "output_type": "stream",
     "text": [
      "[1 2 3 4 5 6 7 8 9]\n"
     ]
    }
   ],
   "source": [
    "row = np.array([1, 2, 3, 4, 5, 6, 7, 8, 9])\n",
    "print(row)"
   ]
  },
  {
   "cell_type": "markdown",
   "metadata": {},
   "source": [
    "To create a $9\\times1$ *column* vector write,"
   ]
  },
  {
   "cell_type": "code",
   "execution_count": 3,
   "metadata": {},
   "outputs": [
    {
     "name": "stdout",
     "output_type": "stream",
     "text": [
      "[[1]\n",
      " [2]\n",
      " [3]\n",
      " [4]\n",
      " [5]\n",
      " [6]\n",
      " [7]\n",
      " [8]\n",
      " [9]]\n"
     ]
    }
   ],
   "source": [
    "col = np.array([[1], [2], [3], [4], [5], [6], [7], [8], [9]])\n",
    "print(col)"
   ]
  },
  {
   "cell_type": "markdown",
   "metadata": {},
   "source": [
    "An easier method is to define a row vector, and transpose it. Notice the double [[]]. Try to see what happens if you transpose a row vector using only []."
   ]
  },
  {
   "cell_type": "code",
   "execution_count": 4,
   "metadata": {},
   "outputs": [
    {
     "name": "stdout",
     "output_type": "stream",
     "text": [
      "[[1]\n",
      " [2]\n",
      " [3]\n",
      " [4]\n",
      " [5]\n",
      " [6]\n",
      " [7]\n",
      " [8]\n",
      " [9]]\n"
     ]
    }
   ],
   "source": [
    "col = np.array([[1, 2, 3, 4, 5, 6, 7, 8, 9]]).T\n",
    "print(col)"
   ]
  },
  {
   "cell_type": "markdown",
   "metadata": {},
   "source": [
    "**A short note on numpy vectors**\n",
    "Numpy does not treat vectors and matrices the same. A *true* numpy vector has the shape (k,), . The shape of a numpy array is an attribute, how do you call this attribute for the `row` and `col` arrays? What is the shape of the `row.T` array? "
   ]
  },
  {
   "cell_type": "code",
   "execution_count": 5,
   "metadata": {},
   "outputs": [
    {
     "name": "stdout",
     "output_type": "stream",
     "text": [
      "(9, 1) (9,) (9,)\n"
     ]
    }
   ],
   "source": [
    "# Call the shape attribute for the row and col vars. Check the shape of row.T\n",
    "\n",
    "print(col.shape,\n",
    "row.shape,\n",
    "row.T.shape)"
   ]
  },
  {
   "cell_type": "markdown",
   "metadata": {},
   "source": [
    "To create a matrix, you combine what you have learned to manually create a $3 \\times 3$ matrix called x, that has the numbers 0 to 8."
   ]
  },
  {
   "cell_type": "code",
   "execution_count": 6,
   "metadata": {},
   "outputs": [
    {
     "name": "stdout",
     "output_type": "stream",
     "text": [
      "[[0 1 2]\n",
      " [3 4 5]\n",
      " [6 7 8]] \n",
      "\n",
      "The shape of the matrix is:\n",
      " (3, 3)\n"
     ]
    }
   ],
   "source": [
    "# FILL IN HERE\n",
    "x = np.array([[0,1,2], [3,4,5], [6,7,8]])\n",
    "print(x, '\\n\\nThe shape of the matrix is:\\n', x.shape)"
   ]
  },
  {
   "cell_type": "markdown",
   "metadata": {},
   "source": [
    "Create the same $3 \\times 3$ using `np.arange()` and np.reshape()"
   ]
  },
  {
   "cell_type": "code",
   "execution_count": 7,
   "metadata": {},
   "outputs": [
    {
     "data": {
      "text/plain": [
       "array([[0, 1, 2],\n",
       "       [3, 4, 5],\n",
       "       [6, 7, 8]])"
      ]
     },
     "execution_count": 7,
     "metadata": {},
     "output_type": "execute_result"
    }
   ],
   "source": [
    "x = np.arange(0,8+1).reshape(3,3)\n",
    "x"
   ]
  },
  {
   "cell_type": "markdown",
   "metadata": {},
   "source": [
    "### Matrix calculations \n",
    "There are several types of matrix calculations available to us with the numpy library, and we will introduce some here.\n",
    "\n",
    "For matrix **multiplication** you can for the matrices `a` and `b` use `a@b`, `np.dot(a, b)` or `a.dot(b)`\n",
    "\n",
    "Use the `row`, `col` vectors and `x` matrix and perform these matrix multiplications. Does the `row` vector behave as you would expect?"
   ]
  },
  {
   "cell_type": "code",
   "execution_count": 8,
   "metadata": {},
   "outputs": [
    {
     "data": {
      "text/plain": [
       "array([285])"
      ]
     },
     "execution_count": 8,
     "metadata": {},
     "output_type": "execute_result"
    }
   ],
   "source": [
    "row @ col\n",
    "row.T @ col #Creates a scalar even though we transpose\n"
   ]
  },
  {
   "cell_type": "code",
   "execution_count": 9,
   "metadata": {},
   "outputs": [
    {
     "data": {
      "text/plain": [
       "array([[ 1,  2,  3,  4,  5,  6,  7,  8,  9],\n",
       "       [ 2,  4,  6,  8, 10, 12, 14, 16, 18],\n",
       "       [ 3,  6,  9, 12, 15, 18, 21, 24, 27],\n",
       "       [ 4,  8, 12, 16, 20, 24, 28, 32, 36],\n",
       "       [ 5, 10, 15, 20, 25, 30, 35, 40, 45],\n",
       "       [ 6, 12, 18, 24, 30, 36, 42, 48, 54],\n",
       "       [ 7, 14, 21, 28, 35, 42, 49, 56, 63],\n",
       "       [ 8, 16, 24, 32, 40, 48, 56, 64, 72],\n",
       "       [ 9, 18, 27, 36, 45, 54, 63, 72, 81]])"
      ]
     },
     "execution_count": 9,
     "metadata": {},
     "output_type": "execute_result"
    }
   ],
   "source": [
    "np.dot(col,col.T)"
   ]
  },
  {
   "cell_type": "code",
   "execution_count": 10,
   "metadata": {},
   "outputs": [
    {
     "data": {
      "text/plain": [
       "array([[  5,  14,  23],\n",
       "       [ 14,  50,  86],\n",
       "       [ 23,  86, 149]])"
      ]
     },
     "execution_count": 10,
     "metadata": {},
     "output_type": "execute_result"
    }
   ],
   "source": [
    "np.dot(x,x.T)"
   ]
  },
  {
   "cell_type": "markdown",
   "metadata": {},
   "source": [
    "What happens if you use `/` and `*` operators with the  `row` and `col` vectors or the `x` matrix?"
   ]
  },
  {
   "cell_type": "code",
   "execution_count": 11,
   "metadata": {},
   "outputs": [
    {
     "data": {
      "text/plain": [
       "array([ 1,  4,  9, 16, 25, 36, 49, 64, 81])"
      ]
     },
     "execution_count": 11,
     "metadata": {},
     "output_type": "execute_result"
    }
   ],
   "source": [
    "test = row/row\n",
    "test2 = row * row\n",
    "test2"
   ]
  },
  {
   "cell_type": "code",
   "execution_count": 12,
   "metadata": {},
   "outputs": [
    {
     "name": "stdout",
     "output_type": "stream",
     "text": [
      "[[1.]\n",
      " [1.]\n",
      " [1.]\n",
      " [1.]\n",
      " [1.]\n",
      " [1.]\n",
      " [1.]\n",
      " [1.]\n",
      " [1.]] \n",
      "\n",
      " [[ 1]\n",
      " [ 4]\n",
      " [ 9]\n",
      " [16]\n",
      " [25]\n",
      " [36]\n",
      " [49]\n",
      " [64]\n",
      " [81]]\n"
     ]
    }
   ],
   "source": [
    "test3 = col/col\n",
    "test4 = col*col\n",
    "print(test3, '\\n\\n', test4)"
   ]
  },
  {
   "cell_type": "code",
   "execution_count": 13,
   "metadata": {},
   "outputs": [
    {
     "name": "stdout",
     "output_type": "stream",
     "text": [
      "[[nan  1.  1.]\n",
      " [ 1.  1.  1.]\n",
      " [ 1.  1.  1.]] (3, 3) \n",
      "\n",
      " [[ 0  1  4]\n",
      " [ 9 16 25]\n",
      " [36 49 64]] (3, 3)\n"
     ]
    },
    {
     "name": "stderr",
     "output_type": "stream",
     "text": [
      "C:\\Users\\JBH\\AppData\\Local\\Temp\\ipykernel_15064\\3892310264.py:1: RuntimeWarning: invalid value encountered in true_divide\n",
      "  test_5 = x/x #dividing by zero, therefore nan\n"
     ]
    }
   ],
   "source": [
    "test_5 = x/x #dividing by zero, therefore nan\n",
    "test_6 = x*x\n",
    "print(test_5, test_5.shape, '\\n\\n', test_6, test_6.shape)"
   ]
  },
  {
   "cell_type": "markdown",
   "metadata": {},
   "source": [
    "For OLS we need to be able to calculate the inverse. This is done with the `linalg` submodule. Create a new matrix that we can calculate the inverse on. Why can't we take the inverse of `x`?"
   ]
  },
  {
   "cell_type": "code",
   "execution_count": 14,
   "metadata": {},
   "outputs": [
    {
     "name": "stdout",
     "output_type": "stream",
     "text": [
      "the determinant of x is 0.0\n"
     ]
    },
    {
     "ename": "LinAlgError",
     "evalue": "Singular matrix",
     "output_type": "error",
     "traceback": [
      "\u001b[1;31m---------------------------------------------------------------------------\u001b[0m",
      "\u001b[1;31mLinAlgError\u001b[0m                               Traceback (most recent call last)",
      "\u001b[1;32m~\\AppData\\Local\\Temp\\ipykernel_15064\\3666378365.py\u001b[0m in \u001b[0;36m<cell line: 2>\u001b[1;34m()\u001b[0m\n\u001b[0;32m      1\u001b[0m \u001b[0mprint\u001b[0m\u001b[1;33m(\u001b[0m\u001b[1;34m'the determinant of x is'\u001b[0m\u001b[1;33m,\u001b[0m \u001b[0mnp\u001b[0m\u001b[1;33m.\u001b[0m\u001b[0mlinalg\u001b[0m\u001b[1;33m.\u001b[0m\u001b[0mdet\u001b[0m\u001b[1;33m(\u001b[0m\u001b[0mx\u001b[0m\u001b[1;33m)\u001b[0m\u001b[1;33m)\u001b[0m\u001b[1;33m\u001b[0m\u001b[1;33m\u001b[0m\u001b[0m\n\u001b[1;32m----> 2\u001b[1;33m \u001b[0mnp\u001b[0m\u001b[1;33m.\u001b[0m\u001b[0mlinalg\u001b[0m\u001b[1;33m.\u001b[0m\u001b[0minv\u001b[0m\u001b[1;33m(\u001b[0m\u001b[0mx\u001b[0m\u001b[1;33m)\u001b[0m\u001b[1;33m\u001b[0m\u001b[1;33m\u001b[0m\u001b[0m\n\u001b[0m\u001b[0;32m      3\u001b[0m \u001b[1;31m#we can't the inverse as the matrix is singular, ie. that the determinant is zero\u001b[0m\u001b[1;33m\u001b[0m\u001b[1;33m\u001b[0m\u001b[0m\n",
      "\u001b[1;32m<__array_function__ internals>\u001b[0m in \u001b[0;36minv\u001b[1;34m(*args, **kwargs)\u001b[0m\n",
      "\u001b[1;32m~\\AppData\\Roaming\\Python\\Python39\\site-packages\\numpy\\linalg\\linalg.py\u001b[0m in \u001b[0;36minv\u001b[1;34m(a)\u001b[0m\n\u001b[0;32m    543\u001b[0m     \u001b[0msignature\u001b[0m \u001b[1;33m=\u001b[0m \u001b[1;34m'D->D'\u001b[0m \u001b[1;32mif\u001b[0m \u001b[0misComplexType\u001b[0m\u001b[1;33m(\u001b[0m\u001b[0mt\u001b[0m\u001b[1;33m)\u001b[0m \u001b[1;32melse\u001b[0m \u001b[1;34m'd->d'\u001b[0m\u001b[1;33m\u001b[0m\u001b[1;33m\u001b[0m\u001b[0m\n\u001b[0;32m    544\u001b[0m     \u001b[0mextobj\u001b[0m \u001b[1;33m=\u001b[0m \u001b[0mget_linalg_error_extobj\u001b[0m\u001b[1;33m(\u001b[0m\u001b[0m_raise_linalgerror_singular\u001b[0m\u001b[1;33m)\u001b[0m\u001b[1;33m\u001b[0m\u001b[1;33m\u001b[0m\u001b[0m\n\u001b[1;32m--> 545\u001b[1;33m     \u001b[0mainv\u001b[0m \u001b[1;33m=\u001b[0m \u001b[0m_umath_linalg\u001b[0m\u001b[1;33m.\u001b[0m\u001b[0minv\u001b[0m\u001b[1;33m(\u001b[0m\u001b[0ma\u001b[0m\u001b[1;33m,\u001b[0m \u001b[0msignature\u001b[0m\u001b[1;33m=\u001b[0m\u001b[0msignature\u001b[0m\u001b[1;33m,\u001b[0m \u001b[0mextobj\u001b[0m\u001b[1;33m=\u001b[0m\u001b[0mextobj\u001b[0m\u001b[1;33m)\u001b[0m\u001b[1;33m\u001b[0m\u001b[1;33m\u001b[0m\u001b[0m\n\u001b[0m\u001b[0;32m    546\u001b[0m     \u001b[1;32mreturn\u001b[0m \u001b[0mwrap\u001b[0m\u001b[1;33m(\u001b[0m\u001b[0mainv\u001b[0m\u001b[1;33m.\u001b[0m\u001b[0mastype\u001b[0m\u001b[1;33m(\u001b[0m\u001b[0mresult_t\u001b[0m\u001b[1;33m,\u001b[0m \u001b[0mcopy\u001b[0m\u001b[1;33m=\u001b[0m\u001b[1;32mFalse\u001b[0m\u001b[1;33m)\u001b[0m\u001b[1;33m)\u001b[0m\u001b[1;33m\u001b[0m\u001b[1;33m\u001b[0m\u001b[0m\n\u001b[0;32m    547\u001b[0m \u001b[1;33m\u001b[0m\u001b[0m\n",
      "\u001b[1;32m~\\AppData\\Roaming\\Python\\Python39\\site-packages\\numpy\\linalg\\linalg.py\u001b[0m in \u001b[0;36m_raise_linalgerror_singular\u001b[1;34m(err, flag)\u001b[0m\n\u001b[0;32m     86\u001b[0m \u001b[1;33m\u001b[0m\u001b[0m\n\u001b[0;32m     87\u001b[0m \u001b[1;32mdef\u001b[0m \u001b[0m_raise_linalgerror_singular\u001b[0m\u001b[1;33m(\u001b[0m\u001b[0merr\u001b[0m\u001b[1;33m,\u001b[0m \u001b[0mflag\u001b[0m\u001b[1;33m)\u001b[0m\u001b[1;33m:\u001b[0m\u001b[1;33m\u001b[0m\u001b[1;33m\u001b[0m\u001b[0m\n\u001b[1;32m---> 88\u001b[1;33m     \u001b[1;32mraise\u001b[0m \u001b[0mLinAlgError\u001b[0m\u001b[1;33m(\u001b[0m\u001b[1;34m\"Singular matrix\"\u001b[0m\u001b[1;33m)\u001b[0m\u001b[1;33m\u001b[0m\u001b[1;33m\u001b[0m\u001b[0m\n\u001b[0m\u001b[0;32m     89\u001b[0m \u001b[1;33m\u001b[0m\u001b[0m\n\u001b[0;32m     90\u001b[0m \u001b[1;32mdef\u001b[0m \u001b[0m_raise_linalgerror_nonposdef\u001b[0m\u001b[1;33m(\u001b[0m\u001b[0merr\u001b[0m\u001b[1;33m,\u001b[0m \u001b[0mflag\u001b[0m\u001b[1;33m)\u001b[0m\u001b[1;33m:\u001b[0m\u001b[1;33m\u001b[0m\u001b[1;33m\u001b[0m\u001b[0m\n",
      "\u001b[1;31mLinAlgError\u001b[0m: Singular matrix"
     ]
    }
   ],
   "source": [
    "print('the determinant of x is', np.linalg.det(x))\n",
    "np.linalg.inv(x) \n",
    "#we can't the inverse as the matrix is singular, ie. that the determinant is zero"
   ]
  },
  {
   "cell_type": "markdown",
   "metadata": {},
   "source": [
    "We cannot take the inverse of `x`, what do we normaly need to check before we take the inverse? What `numpy.linalg` method can we use to help us check for this?"
   ]
  },
  {
   "cell_type": "code",
   "execution_count": 15,
   "metadata": {},
   "outputs": [
    {
     "name": "stdout",
     "output_type": "stream",
     "text": [
      "the determinant of x is 0.0\n"
     ]
    }
   ],
   "source": [
    "print('the determinant of x is', np.linalg.det(x))"
   ]
  },
  {
   "cell_type": "markdown",
   "metadata": {},
   "source": [
    "Scalar operations can be performed as usual with `*` and `/`, and behaves as expected."
   ]
  },
  {
   "cell_type": "code",
   "execution_count": 16,
   "metadata": {},
   "outputs": [
    {
     "name": "stdout",
     "output_type": "stream",
     "text": [
      "[[2.  4.5]\n",
      " [0.5 1.5]]\n",
      "[[ 8 18]\n",
      " [ 2  6]]\n"
     ]
    }
   ],
   "source": [
    "a = np.array([[4, 9], [1, 3]])\n",
    "print(a/2)\n",
    "print(a*2)"
   ]
  },
  {
   "cell_type": "markdown",
   "metadata": {},
   "source": [
    "### Stack vectors or matrices together\n",
    "If you have several 1-D vectors (has the shape (k,)), you can use `np.column_stack()` to get a matrix with the input vectors put together as column.\n",
    "\n",
    "If you have matrices (or arrays) that are multidimensional (have the shape (k, t)), you can use `np.hstack()` (means horizontal stack). This is very useful if you already have a matrix, and you want to add a vector.\n",
    "\n",
    "Try to make a matrix with two `row` vectors, this should give you a $9 \\times 2$ vector.\n",
    "\n",
    "Make a new vector, and add it to the `x` matrix. This should then be a $3 \\times 4$ matrix"
   ]
  },
  {
   "cell_type": "code",
   "execution_count": 17,
   "metadata": {},
   "outputs": [
    {
     "name": "stdout",
     "output_type": "stream",
     "text": [
      "[[0 0]\n",
      " [1 1]\n",
      " [2 2]\n",
      " [3 3]\n",
      " [4 4]\n",
      " [5 5]\n",
      " [6 6]\n",
      " [7 7]\n",
      " [8 8]] \n",
      "\n",
      " (9, 2)\n"
     ]
    }
   ],
   "source": [
    "a = np.arange(0,9)\n",
    "b = np.arange(0,9)\n",
    "c = np.column_stack((a,b))\n",
    "print(c, '\\n\\n', c.shape)"
   ]
  },
  {
   "cell_type": "code",
   "execution_count": 18,
   "metadata": {},
   "outputs": [
    {
     "data": {
      "text/plain": [
       "array([[0, 1, 2, 0],\n",
       "       [3, 4, 5, 1],\n",
       "       [6, 7, 8, 2]])"
      ]
     },
     "execution_count": 18,
     "metadata": {},
     "output_type": "execute_result"
    }
   ],
   "source": [
    "y = np.arange(0,3).reshape(3,1)\n",
    "\n",
    "x = np.hstack((x,y))\n",
    "x"
   ]
  },
  {
   "cell_type": "markdown",
   "metadata": {},
   "source": [
    "### Other methods that you need to know.\n",
    "The numpy library is vast. Some other methods that are useful are `ones`, `diag`, `diagonal`, `eye`."
   ]
  },
  {
   "cell_type": "markdown",
   "metadata": {},
   "source": [
    "## Exercise 1 - Data generation\n",
    "### 1.1 \n",
    "Create a synthetic dataset with the following characteristics\n",
    "\n",
    "\\begin{align}\n",
    "    y_i &= \\beta_0 + x_{1i}\\beta_1 + x_{2i}\\beta_2 + \\varepsilon_i\n",
    "\\end{align}\n",
    "\n",
    "where $\\beta_0=1$, $\\beta_1 = -0.5$, $\\beta_2 = 2$, $x_{1i} \\sim \\mathcal{N}(0, 4)$, $x_{2i} \\sim \\mathcal{N}(5, 9)$, $\\varepsilon_i \\sim \\mathcal{N}(0, 1)$, and where $i = 0, ..., 99$. <br>\n",
    "The code may look something like this:"
   ]
  },
  {
   "cell_type": "code",
   "execution_count": 68,
   "metadata": {},
   "outputs": [],
   "source": [
    "# Create a seed to always have identical draws.\n",
    "seed = 42\n",
    "# Instance a random number generator using this seed.\n",
    "rng = random.default_rng(seed=seed)\n",
    "n = 100\n",
    "b = np.array([1, -0.5, 2]).reshape(-1, 1)\n",
    "\n",
    "# Make random draws from a normal distribution.\n",
    "def random_draws(n):\n",
    "    x0 = np.ones(n)\n",
    "    x1 = np.random.normal(0,4,n)\n",
    "    x2 = np.random.normal(5,9,n)\n",
    "    eps = np.random.normal(0,1,n).reshape(-1,1)\n",
    "    \n",
    "    X = np.column_stack((x0,x1,x2))\n",
    "    # Stack the single columns into a matrix, return\n",
    "    # the matrix along with eps.\n",
    "    return X, eps\n",
    "\n",
    "X, eps = random_draws(n)\n",
    "\n",
    "# Create y using the betas and X.\n",
    "y = X@b+eps"
   ]
  },
  {
   "cell_type": "markdown",
   "metadata": {},
   "source": [
    "### 1.2 \n",
    "Imagine that you had not generated the dataset yourself, but that you were given a similar data set that was already collected (generated) and ready to analyze. What would you observe and not observe in that data set?"
   ]
  },
  {
   "cell_type": "markdown",
   "metadata": {},
   "source": [
    "Would not observe $\\epsilon$ - for inference, we assume the cond. mean is zero (consistency)"
   ]
  },
  {
   "cell_type": "markdown",
   "metadata": {},
   "source": [
    "## Exercise 2 - OLS\n",
    "### 2.1\n",
    "Make sure that you remember the mathematical equation for the OLS estimation, which we will later use to estimate the beta coefficients using date from the previous excercise. <br> \n",
    "**Write out the OLS estimator in matrix form:**\n"
   ]
  },
  {
   "cell_type": "markdown",
   "metadata": {},
   "source": [
    "$$\\boldsymbol{\\hat{\\beta}} = (\\mathbf{X}'\\mathbf{X})^{-1} \\mathbf{X'}\\mathbf{y}$$"
   ]
  },
  {
   "cell_type": "markdown",
   "metadata": {},
   "source": [
    "*Hint: Look it up on p.53 in Wooldridge*"
   ]
  },
  {
   "cell_type": "markdown",
   "metadata": {},
   "source": [
    "### 2.2\n",
    "As you might remember, to perform inference on the OLS estimators, we need to calculate the standard errors for the previously estimates OLS coefficients. Again, make sure you remember its equation, *and write up the OLS standard errors in matrix form:*"
   ]
  },
  {
   "cell_type": "markdown",
   "metadata": {},
   "source": [
    "$\\mathbf{\\widehat{Var(\\boldsymbol{\\hat{\\beta}})}} = \\hat{\\sigma}^2 (\\mathbf{X'}\\mathbf{X)^{-1}}$, for $\\hat{\\sigma}^2 = \\frac{SSR}{N - K}$, <br>\n",
    "\n",
    "where $SSR = \\sum_{i=0}^{N - 1} \\hat{u}^2_i$, N is the number of observations, and K is the number of explanatory variables including the constant."
   ]
  },
  {
   "cell_type": "markdown",
   "metadata": {},
   "source": [
    "*Hint: Look it up on p.55 in Wooldridge* <br>\n",
    "*Hint: Remember that the variance is a function of $\\hat{\\sigma}^2$, which is calculated using SSR*"
   ]
  },
  {
   "cell_type": "markdown",
   "metadata": {},
   "source": [
    "### 2.3\n",
    "Estimate $\\boldsymbol{\\hat{\\beta}}$ from the synthetic data set. Furthermore, calculate standard errors and t-values (assuming that the assumptions of the classical linear regression model are satisfied). The code may look something like this:"
   ]
  },
  {
   "cell_type": "code",
   "execution_count": 27,
   "metadata": {},
   "outputs": [
    {
     "name": "stdout",
     "output_type": "stream",
     "text": [
      "(3, 3) (3, 100) (100, 3) (100, 100)\n"
     ]
    }
   ],
   "source": [
    "y.shape\n",
    "#X.shape\n",
    "print(la.inv((X.T@X)).shape, (X.T@y).shape)"
   ]
  },
  {
   "cell_type": "code",
   "execution_count": 66,
   "metadata": {},
   "outputs": [
    {
     "data": {
      "text/plain": [
       "2"
      ]
     },
     "execution_count": 66,
     "metadata": {},
     "output_type": "execute_result"
    }
   ],
   "source": []
  },
  {
   "cell_type": "code",
   "execution_count": 72,
   "metadata": {},
   "outputs": [],
   "source": [
    "def ols_estimation(y, X):\n",
    "    # Make sure that y and X are 2-D.\n",
    "    y = y.reshape(-1, 1)\n",
    "    if len(X.shape)<2:\n",
    "        X = X.reshape(-1, 1) \n",
    "\n",
    "    # Estimate beta\n",
    "    b_hat = la.inv(X.T@X)@X.T@y\n",
    "\n",
    "    # Calculate standard errors\n",
    "    residual = y-X@b_hat\n",
    "    sigma = residual.T@residual/(n-b.size)\n",
    "    cov = sigma*la.inv(X.T@X) #Where does this come from? [OUR variance estimator]\n",
    "    se = np.sqrt(cov.diagonal()).reshape(-1, 1) #Where does this come from?\n",
    "\n",
    "    # Calculate t-values\n",
    "    t_values = b_hat/se\n",
    "    return b_hat, se, t_values\n",
    "\n",
    "b_hat, se, t_values = ols_estimation(y, X)"
   ]
  },
  {
   "cell_type": "markdown",
   "metadata": {},
   "source": [
    "$$\n",
    "\\widehat{\\text { s.e. }}\\left(\\hat{\\beta}_j\\right)=\\sqrt{s^2\\left(X^T X\\right)_{j j}^{-1}}\n",
    "$$\n",
    "\n",
    "(from WIKI)"
   ]
  },
  {
   "cell_type": "markdown",
   "metadata": {},
   "source": [
    "Python stores vectors as one-dimensional rather than two-dimensional objects. This can sometimes cause havoc when we want to compute matrix products. Compute the outer and inner products of the residuals from above and compare these with your results when using matrix multiplication @. "
   ]
  },
  {
   "cell_type": "code",
   "execution_count": 89,
   "metadata": {},
   "outputs": [],
   "source": [
    "res= y-X@b_hat\n",
    "outer = res*res\n",
    "outer2 = np.outer(res,res)\n",
    "inner = res.T@res\n",
    "inner2 = np.inner(res,res)"
   ]
  },
  {
   "cell_type": "code",
   "execution_count": 95,
   "metadata": {},
   "outputs": [
    {
     "data": {
      "text/plain": [
       "(100, 1)"
      ]
     },
     "execution_count": 95,
     "metadata": {},
     "output_type": "execute_result"
    }
   ],
   "source": [
    "(res*res)"
   ]
  },
  {
   "cell_type": "code",
   "execution_count": 98,
   "metadata": {},
   "outputs": [
    {
     "data": {
      "text/plain": [
       "array([[ 4,  5,  6],\n",
       "       [ 8, 10, 12],\n",
       "       [12, 15, 18]])"
      ]
     },
     "execution_count": 98,
     "metadata": {},
     "output_type": "execute_result"
    }
   ],
   "source": [
    "x = np.array([1, 2, 3])\n",
    "y = np.array([4, 5, 6])\n",
    "\n",
    "c = np.outer(x,y)\n",
    "c"
   ]
  },
  {
   "cell_type": "code",
   "execution_count": 104,
   "metadata": {},
   "outputs": [
    {
     "name": "stdout",
     "output_type": "stream",
     "text": [
      "(100, 3)\n",
      "(100, 100)\n",
      "(300, 300)\n",
      "(3, 3)\n",
      "(100, 100)\n",
      "129408.03591526193\n"
     ]
    },
    {
     "data": {
      "text/plain": [
       "array([[44455.00593086, 43712.17561797, 42969.34530509],\n",
       "       [43712.17561797, 43069.34530509, 42426.5149922 ],\n",
       "       [42969.34530509, 42426.5149922 , 41883.68467931]])"
      ]
     },
     "execution_count": 104,
     "metadata": {},
     "output_type": "execute_result"
    }
   ],
   "source": [
    "res= y-X@b_hat\n",
    "print(res.shape)\n",
    "outer = np.outer(res,res)\n",
    "inner = np.inner(res,res)\n",
    "matmul_inner = res.T@res\n",
    "matmul_outer = res@res.T\n",
    "print(inner.shape)\n",
    "print(outer.shape)\n",
    "print(matmul_inner.shape)\n",
    "print(matmul_outer.shape)\n",
    "print(np.sum(np.diag(inner)))\n",
    "matmul_inner"
   ]
  },
  {
   "cell_type": "markdown",
   "metadata": {},
   "source": [
    "Now if we flatten the residuals to be stored in Python's default mode (i.e. one-dimensional) what happens?"
   ]
  },
  {
   "cell_type": "code",
   "execution_count": 105,
   "metadata": {},
   "outputs": [
    {
     "name": "stdout",
     "output_type": "stream",
     "text": [
      "(300,)\n",
      "()\n",
      "(300, 300)\n",
      "()\n",
      "()\n"
     ]
    }
   ],
   "source": [
    "res=res.flatten()\n",
    "print(res.shape)\n",
    "outer = np.outer(res,res)\n",
    "inner = np.inner(res,res)\n",
    "matmul_inner = res.T@res\n",
    "matmul_outer = res@res.T\n",
    "print(inner.shape)\n",
    "print(outer.shape)\n",
    "print(matmul_inner.shape)\n",
    "print(matmul_outer.shape)\n",
    "# @ -> 'two-dim' matrices (k,1)\n",
    "# inner/outer -> one-dimensional vectors (k,) "
   ]
  },
  {
   "cell_type": "markdown",
   "metadata": {},
   "source": [
    "I have written a code to print a table, using the `tabulate` package. You will need to add the row names for this code to work - each row contains a information about the different coefficients on the explanatory variables."
   ]
  },
  {
   "cell_type": "code",
   "execution_count": 115,
   "metadata": {},
   "outputs": [
    {
     "name": "stdout",
     "output_type": "stream",
     "text": [
      "OLS Estimates:\n",
      "\n",
      "       β      β̂      Se    t-value\n",
      "--  ----  ------  -----  ---------\n",
      " 0   1.0   0.991  0.103        9.6\n",
      " 1  -0.5  -0.432  0.024      -17.8\n",
      " 2   2.0   2.000  0.009      215.1\n"
     ]
    }
   ],
   "source": [
    "def print_table(row_names, b, b_hat, se, t_values):\n",
    "    table = []\n",
    "\n",
    "    # Make a list, where each row contains the estimated and calculated values.\n",
    "    for index, name in enumerate(row_names):\n",
    "        table_row = [\n",
    "            name, b[index], b_hat[index], se[index], t_values[index]\n",
    "        ]\n",
    "        table.append(table_row)\n",
    "\n",
    "    # Print the list using the tabulate class.\n",
    "    headers = ['', '\\u03b2', '\\u03b2\\u0302 ', 'Se', 't-value']\n",
    "    print('OLS Estimates:\\n')\n",
    "    print(tabulate(table, headers, floatfmt=['', '.1f', '.3f', '.3f', '.1f']))\n",
    "\n",
    "row_names = []\n",
    "for i in range(len(b_hat)):\n",
    "    row_names.append(i) \n",
    "    i+1\n",
    "\n",
    "print_table(row_names, b, b_hat, se, t_values)"
   ]
  },
  {
   "cell_type": "markdown",
   "metadata": {},
   "source": [
    "Alternatively, you can print a table which you can paste straight into latex using the following code. This uses panda data frames  which we'll cover next week."
   ]
  },
  {
   "cell_type": "code",
   "execution_count": 116,
   "metadata": {},
   "outputs": [
    {
     "name": "stdout",
     "output_type": "stream",
     "text": [
      "\\begin{tabular}{lllll}\n",
      " & β & β̂ & se & t-values \\\\\n",
      "beta1 & [1.] & [0.9912] & [0.1031] & [9.614] \\\\\n",
      "beta2 & [-0.5] & [-0.4321] & [0.0243] & [-17.809] \\\\\n",
      "beta3 & [2.] & [2.0005] & [0.0093] & [215.129] \\\\\n",
      "\\end{tabular}\n",
      "\n"
     ]
    }
   ],
   "source": [
    "import pandas as pd\n",
    "dat = pd.DataFrame(zip(b,b_hat.round(4),se.round(4),t_values.round(4)))\n",
    "dat.columns = ['\\u03b2','\\u03b2\\u0302','se','t-values']\n",
    "dat.index = ['beta1','beta2','beta3']\n",
    "print(dat.style.to_latex())"
   ]
  },
  {
   "cell_type": "markdown",
   "metadata": {},
   "source": [
    "## Exercise 3 - a simple Monte Carlo Experiment\n",
    "Carry out a Monte Carlo experiment with $S = 200$ replications and $N = 100$ observations to check if the OLS estimator provides an unbiased estimate of $\\boldsymbol{\\beta}$\n",
    "### 3.1\n",
    "Generate 200 data sets similar to what you did in exercise 1, and estimate $\\boldsymbol{\\beta}$ on each of them."
   ]
  },
  {
   "cell_type": "markdown",
   "metadata": {},
   "source": [
    "*Hint:* Start by making prefilling two arrays using `np.zeros`, one array to store the estimated beta coefficients, and one to store the estimated standard errors. What shape should these arrays have?\n",
    "\n",
    "Then make a loop where each loop makes a random draw, and then estimates on this random draw. And finally stores the estimated coefficients and standard errors."
   ]
  },
  {
   "cell_type": "code",
   "execution_count": 121,
   "metadata": {},
   "outputs": [
    {
     "data": {
      "text/plain": [
       "array([[ 0.88458867, -0.51134576,  2.00830273],\n",
       "       [ 1.11803232, -0.53607209,  1.9988811 ],\n",
       "       [ 1.02583992, -0.53648291,  1.9916383 ],\n",
       "       [ 0.92978243, -0.50797933,  2.01795293],\n",
       "       [ 1.07718156, -0.56184152,  1.99371928],\n",
       "       [ 0.97975242, -0.46434339,  1.98456008],\n",
       "       [ 1.003034  , -0.49440053,  1.99490273],\n",
       "       [ 1.05608458, -0.47741753,  1.99236809],\n",
       "       [ 0.82510585, -0.49575191,  2.00629499],\n",
       "       [ 1.13744016, -0.49746097,  1.98840271],\n",
       "       [ 0.95759333, -0.51113361,  2.00271417],\n",
       "       [ 1.09622812, -0.49568723,  1.99331654],\n",
       "       [ 1.19037317, -0.51967063,  1.99280395],\n",
       "       [ 1.04218823, -0.5245984 ,  1.99013366],\n",
       "       [ 0.9903253 , -0.50760382,  2.01466636],\n",
       "       [ 0.93760627, -0.53651894,  1.99900128],\n",
       "       [ 0.99615251, -0.53715   ,  1.99722683],\n",
       "       [ 0.80438719, -0.50435244,  2.02035794],\n",
       "       [ 1.15397767, -0.54419844,  2.00655255],\n",
       "       [ 1.11578946, -0.48459297,  1.97726236],\n",
       "       [ 1.21399448, -0.52021867,  1.97267606],\n",
       "       [ 1.03805085, -0.54193566,  2.00176496],\n",
       "       [ 1.01574806, -0.50110622,  2.0022895 ],\n",
       "       [ 0.80116337, -0.53403802,  2.02015871],\n",
       "       [ 0.94001301, -0.50912976,  1.99451453],\n",
       "       [ 1.00398005, -0.48351144,  1.99122702],\n",
       "       [ 1.08485473, -0.43220992,  1.98104297],\n",
       "       [ 1.01348585, -0.49498639,  2.01954447],\n",
       "       [ 1.03595766, -0.49520113,  1.99273101],\n",
       "       [ 1.15724815, -0.46829595,  1.98316274],\n",
       "       [ 0.96377697, -0.49517852,  2.00430763],\n",
       "       [ 1.01587692, -0.48697523,  1.98797024],\n",
       "       [ 1.02253151, -0.49780644,  2.00845314],\n",
       "       [ 0.93224407, -0.48884978,  1.98651796],\n",
       "       [ 1.00983589, -0.48758181,  2.01152721],\n",
       "       [ 1.17124031, -0.44277739,  1.98504371],\n",
       "       [ 1.11575427, -0.49523969,  2.01440041],\n",
       "       [ 0.96695257, -0.49469388,  2.01001673],\n",
       "       [ 1.0102453 , -0.49126762,  1.9828156 ],\n",
       "       [ 0.90759693, -0.47470704,  1.99669036],\n",
       "       [ 1.14736037, -0.42772946,  2.0075303 ],\n",
       "       [ 1.25353675, -0.5225337 ,  1.98448272],\n",
       "       [ 1.06234582, -0.4912756 ,  1.98929205],\n",
       "       [ 0.86139202, -0.52052857,  2.02312425],\n",
       "       [ 1.03843505, -0.48013784,  1.99852442],\n",
       "       [ 1.19289317, -0.4761101 ,  1.98435482],\n",
       "       [ 1.04679261, -0.50721843,  2.01713116],\n",
       "       [ 1.04912585, -0.49765481,  2.01282297],\n",
       "       [ 0.78999073, -0.45997381,  2.0131488 ],\n",
       "       [ 1.10588803, -0.49503166,  2.00797146],\n",
       "       [ 1.05062849, -0.51390885,  1.98690682],\n",
       "       [ 1.08931652, -0.51451975,  1.99764484],\n",
       "       [ 0.84352874, -0.5036649 ,  1.99862807],\n",
       "       [ 1.12545052, -0.50512681,  2.00019788],\n",
       "       [ 0.89245966, -0.50919336,  2.00665549],\n",
       "       [ 1.13201947, -0.51280875,  1.99036967],\n",
       "       [ 0.84318288, -0.48380891,  2.00057425],\n",
       "       [ 1.07893523, -0.49449842,  1.98694964],\n",
       "       [ 1.09217114, -0.49229488,  2.00644193],\n",
       "       [ 1.1289948 , -0.48538295,  1.99061561],\n",
       "       [ 0.98828338, -0.52105563,  2.00276123],\n",
       "       [ 1.06969128, -0.54882381,  1.99233844],\n",
       "       [ 0.99202673, -0.52448531,  2.01680697],\n",
       "       [ 1.09191462, -0.50275438,  1.98544392],\n",
       "       [ 0.91858404, -0.470559  ,  2.00165501],\n",
       "       [ 1.08621828, -0.49246482,  1.99724667],\n",
       "       [ 1.02426263, -0.47285721,  2.00584687],\n",
       "       [ 1.013339  , -0.49047828,  1.99201882],\n",
       "       [ 0.69152436, -0.49232308,  2.02304132],\n",
       "       [ 1.30763674, -0.54174945,  2.00331784],\n",
       "       [ 0.99583761, -0.49757292,  1.98285413],\n",
       "       [ 1.06830132, -0.52386368,  1.99185937],\n",
       "       [ 1.09254824, -0.50643777,  2.01395234],\n",
       "       [ 1.26925683, -0.47498462,  1.97083677],\n",
       "       [ 0.98999638, -0.47248597,  2.0046651 ],\n",
       "       [ 1.22876908, -0.48069617,  1.98621533],\n",
       "       [ 1.22091635, -0.50291275,  2.00519341],\n",
       "       [ 1.11258035, -0.52198885,  1.98758928],\n",
       "       [ 1.02060423, -0.4783641 ,  1.99261974],\n",
       "       [ 1.0107035 , -0.52154675,  2.00501963],\n",
       "       [ 0.99419898, -0.52869785,  2.01001024],\n",
       "       [ 1.03869973, -0.50367872,  1.98869797],\n",
       "       [ 0.84417315, -0.50582556,  2.0199731 ],\n",
       "       [ 1.02267374, -0.48661317,  1.99452109],\n",
       "       [ 1.13151584, -0.52736425,  1.99857616],\n",
       "       [ 0.9692785 , -0.49688966,  2.00515278],\n",
       "       [ 0.90432559, -0.56053066,  1.98944924],\n",
       "       [ 1.06085098, -0.53547534,  1.99453505],\n",
       "       [ 0.98682741, -0.53407554,  1.99030278],\n",
       "       [ 0.95008956, -0.52830524,  2.00737884],\n",
       "       [ 1.09005777, -0.47767827,  2.00123039],\n",
       "       [ 1.0047287 , -0.51453211,  1.99320819],\n",
       "       [ 0.98039793, -0.48658654,  1.99766647],\n",
       "       [ 0.85912375, -0.49011944,  2.01446916],\n",
       "       [ 0.97656271, -0.48864083,  1.99799428],\n",
       "       [ 1.09664102, -0.52757689,  2.00516321],\n",
       "       [ 0.94987516, -0.48113588,  1.99075894],\n",
       "       [ 0.85641484, -0.48767543,  2.00676932],\n",
       "       [ 0.96717063, -0.44682083,  2.00090931],\n",
       "       [ 1.09209494, -0.48408186,  1.98812947],\n",
       "       [ 1.06151366, -0.48290028,  2.00383755],\n",
       "       [ 1.11114884, -0.52969553,  1.98891263],\n",
       "       [ 1.11218167, -0.51034414,  1.99086029],\n",
       "       [ 1.04535042, -0.47113886,  1.99812112],\n",
       "       [ 1.02654491, -0.49525918,  2.003784  ],\n",
       "       [ 1.13763138, -0.52782326,  2.00049948],\n",
       "       [ 1.02338961, -0.5032954 ,  1.99386303],\n",
       "       [ 1.06340261, -0.50819198,  2.00216122],\n",
       "       [ 1.12423028, -0.54758382,  1.99714215],\n",
       "       [ 0.91894444, -0.50588615,  1.99795222],\n",
       "       [ 1.12130336, -0.50183835,  1.97023645],\n",
       "       [ 0.85770202, -0.48544351,  2.0249985 ],\n",
       "       [ 1.10532796, -0.55955621,  1.99696638],\n",
       "       [ 0.81531149, -0.51172364,  2.01549115],\n",
       "       [ 0.95292835, -0.48555072,  1.98525282],\n",
       "       [ 0.89005259, -0.51540767,  2.00316347],\n",
       "       [ 1.05571331, -0.5020701 ,  1.9982945 ],\n",
       "       [ 1.18718357, -0.57244255,  1.99271433],\n",
       "       [ 0.81744727, -0.47496843,  1.99606197],\n",
       "       [ 1.15001888, -0.47160997,  2.00037989],\n",
       "       [ 1.05624927, -0.53325242,  1.97990534],\n",
       "       [ 0.9085852 , -0.45867103,  1.99877222],\n",
       "       [ 0.85037232, -0.45699046,  2.0131014 ],\n",
       "       [ 1.15716358, -0.53131566,  1.99384448],\n",
       "       [ 1.10574823, -0.49886171,  1.98922478],\n",
       "       [ 0.99311779, -0.46069504,  1.99075623],\n",
       "       [ 1.14117095, -0.50705739,  1.98537544],\n",
       "       [ 1.23722722, -0.51653853,  1.99121493],\n",
       "       [ 0.9461903 , -0.48077296,  1.99474152],\n",
       "       [ 0.9151385 , -0.45108755,  2.03011613],\n",
       "       [ 1.0439302 , -0.55336538,  2.00093982],\n",
       "       [ 1.06992685, -0.53984678,  2.00272841],\n",
       "       [ 0.83393656, -0.48322733,  2.00939758],\n",
       "       [ 0.92532846, -0.50968448,  2.00794794],\n",
       "       [ 0.98416763, -0.53005156,  2.00332376],\n",
       "       [ 0.99277411, -0.45766182,  1.99125949],\n",
       "       [ 1.20038617, -0.45081459,  1.9882689 ],\n",
       "       [ 0.98368679, -0.4766746 ,  1.97885302],\n",
       "       [ 1.02927297, -0.50967567,  1.99609131],\n",
       "       [ 1.11189558, -0.53247739,  1.97550323],\n",
       "       [ 0.85731461, -0.52629517,  2.0237409 ],\n",
       "       [ 0.97729141, -0.53459811,  1.99651084],\n",
       "       [ 1.12305772, -0.48150873,  1.99746963],\n",
       "       [ 1.05322712, -0.50050946,  2.00778346],\n",
       "       [ 0.99708014, -0.47656697,  1.9858626 ],\n",
       "       [ 0.91827159, -0.44540621,  2.00185412],\n",
       "       [ 1.05188685, -0.4878633 ,  2.00457852],\n",
       "       [ 1.04236106, -0.49428528,  1.99989694],\n",
       "       [ 1.04978273, -0.50926121,  1.97458215],\n",
       "       [ 1.14894022, -0.48806379,  1.99518749],\n",
       "       [ 1.23213804, -0.54948644,  1.99446506],\n",
       "       [ 0.83427996, -0.49540993,  2.00059489],\n",
       "       [ 1.04451039, -0.48201439,  2.00935332],\n",
       "       [ 0.9990991 , -0.48880287,  1.99910392],\n",
       "       [ 0.95606647, -0.51845308,  2.00143899],\n",
       "       [ 1.07527513, -0.4786539 ,  1.97955289],\n",
       "       [ 0.91087652, -0.52286036,  2.01158049],\n",
       "       [ 0.97916303, -0.51372706,  1.99483375],\n",
       "       [ 1.23572436, -0.50635428,  1.98369107],\n",
       "       [ 0.92907901, -0.46115384,  1.98416098],\n",
       "       [ 0.9115431 , -0.51530597,  1.99695013],\n",
       "       [ 1.11075133, -0.50813222,  1.99776393],\n",
       "       [ 1.16289069, -0.51777337,  2.00739306],\n",
       "       [ 1.05645055, -0.48171285,  1.99918251],\n",
       "       [ 0.90888111, -0.50998063,  2.00489448],\n",
       "       [ 1.14575746, -0.49217095,  2.00092959],\n",
       "       [ 0.96671014, -0.50203053,  1.99920283],\n",
       "       [ 1.01568535, -0.49907132,  1.99579799],\n",
       "       [ 0.85413272, -0.52378239,  2.01620288],\n",
       "       [ 1.04929733, -0.48575186,  2.00018963],\n",
       "       [ 1.07877702, -0.46581307,  1.99497919],\n",
       "       [ 0.79215809, -0.52927919,  2.01063348],\n",
       "       [ 1.16335665, -0.54890013,  1.98880955],\n",
       "       [ 1.12396251, -0.47374563,  1.99634145],\n",
       "       [ 0.86290627, -0.49886884,  2.00102669],\n",
       "       [ 0.953023  , -0.49307276,  1.99645037],\n",
       "       [ 0.99607294, -0.52504836,  1.99960249],\n",
       "       [ 1.02796075, -0.4904617 ,  2.01056146],\n",
       "       [ 0.92286618, -0.51917144,  2.00501471],\n",
       "       [ 0.98625668, -0.4546679 ,  2.01484684],\n",
       "       [ 1.06568228, -0.47513232,  2.00445873],\n",
       "       [ 1.08645029, -0.49077566,  1.99324458],\n",
       "       [ 0.97612141, -0.49715095,  1.99390764],\n",
       "       [ 0.90719676, -0.50993797,  2.01286823],\n",
       "       [ 1.19679992, -0.52597099,  1.97834582],\n",
       "       [ 1.03172145, -0.47528703,  2.00350165],\n",
       "       [ 1.0368407 , -0.48836125,  2.00005905],\n",
       "       [ 0.88036377, -0.48327453,  2.012192  ],\n",
       "       [ 0.99058721, -0.46094927,  1.99940699],\n",
       "       [ 0.99904718, -0.51286379,  1.98658719],\n",
       "       [ 0.86509113, -0.48014031,  2.00131398],\n",
       "       [ 0.84417402, -0.48422285,  2.00097471],\n",
       "       [ 1.06405115, -0.44903175,  1.99310758],\n",
       "       [ 1.07024118, -0.44833373,  1.99517097],\n",
       "       [ 1.14964754, -0.51194066,  1.9908876 ],\n",
       "       [ 0.83835422, -0.53995064,  2.02113788],\n",
       "       [ 1.09246264, -0.55427467,  1.98358803],\n",
       "       [ 1.08209878, -0.46652178,  1.99017505],\n",
       "       [ 1.14997977, -0.46399591,  2.00939227],\n",
       "       [ 1.07968544, -0.49116361,  2.00593505]])"
      ]
     },
     "execution_count": 121,
     "metadata": {},
     "output_type": "execute_result"
    }
   ],
   "source": [
    "# Initialize the variables and lists\n",
    "s = 200\n",
    "n = 100\n",
    "\n",
    "# Allocate memory for arrays to later fill\n",
    "b_coeffs = np.zeros((s, b.size))\n",
    "b_ses = np.zeros((s, b.size))\n",
    "\n",
    "for i in range(s):\n",
    "    # Generate data\n",
    "    X, eps = random_draws(n)\n",
    "    y = X@b+eps\n",
    "\n",
    "    # Estimate coefficients and variance\n",
    "    b_hat, se, t_values = ols_estimation(y,X)\n",
    "\n",
    "    # Store estimates\n",
    "    b_coeffs[i, :] = b_hat.flatten()\n",
    "    b_ses[i, :] = se.flatten()\n",
    "\n",
    "# Make sure that there are no more zeros left in the arrays.\n",
    "assert np.all(b_coeffs) and np.all(b_ses), 'Not all coefficients or standard errors are non-zero.'"
   ]
  },
  {
   "cell_type": "markdown",
   "metadata": {},
   "source": [
    "### 3.2\n",
    "Do the following three calculations:\n",
    "- Calculate the means of the estimates (means across simulations)\n",
    "- Calculate the means of the standard errors (means across simulations)\n",
    "- Calculate the standard error of the MC estimates"
   ]
  },
  {
   "cell_type": "code",
   "execution_count": null,
   "metadata": {},
   "outputs": [],
   "source": []
  },
  {
   "cell_type": "code",
   "execution_count": 128,
   "metadata": {},
   "outputs": [
    {
     "data": {
      "text/plain": [
       "array([ 1.02255108, -0.50007585,  1.99859394])"
      ]
     },
     "execution_count": 128,
     "metadata": {},
     "output_type": "execute_result"
    }
   ],
   "source": [
    "b_coeffs.mean(axis=0)"
   ]
  },
  {
   "cell_type": "code",
   "execution_count": 130,
   "metadata": {},
   "outputs": [],
   "source": [
    "mean_b_hat = b_coeffs.mean(axis=0) #mean across cols\n",
    "mean_b_se = b_ses.mean(axis=0) #mean across cols\n",
    "#mean_mc_se = np.sqrt((np.sum(\n",
    "#    (b_coeffs - np.mean(b_coeffs, axis=0))*(b_coeffs - np.mean(b_coeffs, axis=0)), axis=0)/(s - 1)\n",
    "#))"
   ]
  },
  {
   "cell_type": "markdown",
   "metadata": {},
   "source": [
    "### 3.3\n",
    "Draw a histogram for the 200 estimates of $\\beta_1$"
   ]
  },
  {
   "cell_type": "code",
   "execution_count": null,
   "metadata": {},
   "outputs": [],
   "source": [
    "# Fill in here"
   ]
  }
 ],
 "metadata": {
  "kernelspec": {
   "display_name": "Python 3.9.13 ('base')",
   "language": "python",
   "name": "python3"
  },
  "language_info": {
   "codemirror_mode": {
    "name": "ipython",
    "version": 3
   },
   "file_extension": ".py",
   "mimetype": "text/x-python",
   "name": "python",
   "nbconvert_exporter": "python",
   "pygments_lexer": "ipython3",
   "version": "3.9.13"
  },
  "vscode": {
   "interpreter": {
    "hash": "054e95b4819972eba8d406807e822e3be9cca805528e86310f8e3ac8dc287778"
   }
  }
 },
 "nbformat": 4,
 "nbformat_minor": 4
}
