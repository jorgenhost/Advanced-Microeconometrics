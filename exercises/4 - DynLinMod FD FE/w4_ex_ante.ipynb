{
 "cells": [
  {
   "cell_type": "markdown",
   "metadata": {},
   "source": [
    "# Dynamic linear models"
   ]
  },
  {
   "cell_type": "code",
   "execution_count": null,
   "metadata": {},
   "outputs": [],
   "source": [
    "import numpy as np\n",
    "from numpy import linalg as la\n",
    "from tabulate import tabulate \n",
    "import pandas as pd \n",
    "import LinearDynamic_ante as lm\n",
    "from scipy.stats import chi2\n",
    "import seaborn as sns\n",
    "sns.set_theme();\n",
    "\n",
    "np.set_printoptions(precision=5)\n",
    "%load_ext autoreload\n",
    "%autoreload 2"
   ]
  },
  {
   "cell_type": "markdown",
   "metadata": {},
   "source": [
    "# Prepare the data\n",
    "\n",
    "In this problem set, we consider the question of state dependence in **firm revenue** ($y$). The data, `cvr_extract.csv`, comes from the Danish register of firms, \"CVR registret\". It can be reconstructed or modified by downloading the tax files from [skst.dk](https://www.sktst.dk/aktuelt/skatteoplysninger-for-selskaber/) and running the notebook `clean_data.ipynb`. The accompanying notebook, `analysis.ipynb`, does some overly simplistic analyzing that illustrates some questions one might want to explore with the data. \n",
    "\n",
    "**Research question:** Should we provide assistance to firms? If the effects of adverse shocks (such as a pandemic) are very persistent, then we want to provide a safety net for firms. Conversely, if firms just rebound after a shock, that can be a waste of tax funds. \n",
    "\n",
    "The data consists of all firms observed in every year from 2012-2019, which satisfy that the net income (pre-tax) was below 10 mio. DKK. The variables in the data are: \n",
    "\n",
    "  |*Variable*  | *Content* |\n",
    "  |------------| --------------------------------------------|\n",
    "  |`net_inc`          | Net income (`income - deficit`) |\n",
    "  |`taxable_income`          | Income |\n",
    "  |`deficit`          | Losses |\n",
    "  |`tax`          | Tax payment |\n",
    " | `cat`         | A categorical variable, based on the dummies, `dum_X` below |\n",
    "  | `dum_X`          | Dummy for whether the firm's name contains the string `X` (in Danish) |\n",
    "  \n",
    "  The dummies, e.g. `dum_doctor`, are explained below \n",
    "\n",
    "| **Substring** | **If name contains** | \n",
    "| ---- | ------ | \n",
    "| `as` | 'a/s' | \n",
    "| `aps` | 'aps' | \n",
    "| `ivs` | 'ivs' | \n",
    "| `ab` | 'a/b' | \n",
    "| `realestate` | 'ejendom' | \n",
    "| `holding` | 'holding' | \n",
    "| `invest` | 'invest' | \n",
    "| `consult` | 'consult' | \n",
    "| `service` | 'service' | \n",
    "| `dot_dk` | '.dk' | \n",
    "| `doctor` | 'læge' | \n",
    "| `carpenter` | 'tømrer' | \n",
    "| `transport` | 'transport' or 'lastvogn' | \n",
    "| `plumbing` | 'vvs' or 'kloak' | \n",
    "| `import` | 'import' | \n",
    "| `masonry` | 'murer' | \n",
    "| `nielsen` | 'nielsen' | \n",
    "| `sorensen` | 'sørensen' | "
   ]
  },
  {
   "cell_type": "code",
   "execution_count": null,
   "metadata": {},
   "outputs": [],
   "source": [
    "dat = pd.read_csv('cvr_extract.csv')\n",
    "dat.sample(3)"
   ]
  },
  {
   "cell_type": "markdown",
   "metadata": {},
   "source": [
    "If you'd like a quick summary of your data, panda data frames have useful summary commands"
   ]
  },
  {
   "cell_type": "code",
   "execution_count": null,
   "metadata": {},
   "outputs": [],
   "source": [
    "dat.info() # returns number of elements, data type and column name for each column"
   ]
  },
  {
   "cell_type": "code",
   "execution_count": null,
   "metadata": {},
   "outputs": [],
   "source": [
    "dat.describe() # returns a number of summary stats (e.g. mean, max, count etc.) for each column"
   ]
  },
  {
   "cell_type": "code",
   "execution_count": null,
   "metadata": {},
   "outputs": [],
   "source": [
    "# print table which can be copied to latex\n",
    "print(dat.describe().style.to_latex())"
   ]
  },
  {
   "cell_type": "markdown",
   "metadata": {},
   "source": [
    "# Descriptives"
   ]
  },
  {
   "cell_type": "code",
   "execution_count": null,
   "metadata": {},
   "outputs": [],
   "source": [
    "ax=dat.groupby('year').net_inc.sum().plot(marker='o'); \n",
    "ax.set_ylabel('Total firm revenue'); "
   ]
  },
  {
   "cell_type": "code",
   "execution_count": null,
   "metadata": {},
   "outputs": [],
   "source": [
    "ax = dat.groupby('cat').taxable_income.count().plot(kind='bar'); \n",
    "ax.set_ylabel('Observations'); "
   ]
  },
  {
   "cell_type": "code",
   "execution_count": null,
   "metadata": {},
   "outputs": [],
   "source": [
    "ax = dat.groupby('cat').taxable_income.mean().plot(kind='bar'); \n",
    "ax.set_ylabel('Avg. net income'); "
   ]
  },
  {
   "cell_type": "code",
   "execution_count": null,
   "metadata": {},
   "outputs": [],
   "source": [
    "ax=dat.groupby(['year', 'cat']).taxable_income.mean().unstack().plot(marker='o'); \n",
    "ax.set_ylabel('Firm profits (avg.)'); \n",
    "ax.legend(title='Firm name contains', loc=(1.05,0.3)); "
   ]
  },
  {
   "cell_type": "markdown",
   "metadata": {},
   "source": [
    "# Set up data"
   ]
  },
  {
   "cell_type": "code",
   "execution_count": null,
   "metadata": {},
   "outputs": [],
   "source": [
    "# Select only firms that are in real estate in all years \n",
    "I = dat.groupby('firmid').dum_realestate.transform('all') # <-- creates an indicator for real estate\n",
    "dat = dat[I].copy() # <-- pulls out real estate firms"
   ]
  },
  {
   "cell_type": "code",
   "execution_count": null,
   "metadata": {},
   "outputs": [],
   "source": [
    "# convenient list of the names of all the dummy variables\n",
    "cols_dum = [c for c in dat.columns if c == 'dum_']\n",
    "\n",
    "# convert int->bool \n",
    "for c in cols_dum: \n",
    "    dat[c] = dat[c].astype('bool')\n",
    "\n",
    "N = dat.firmid.unique().size\n",
    "T = dat.year.unique().size\n",
    "print(f'Data has {dat.shape[0]:,d} rows: N = {N:,d}, T = {T}')"
   ]
  },
  {
   "cell_type": "code",
   "execution_count": null,
   "metadata": {},
   "outputs": [],
   "source": [
    "# measure money in 1000 DKK \n",
    "for v in ['net_inc', 'taxable_income', 'deficit', 'tax']: \n",
    "    dat[v] = dat[v] / 1000."
   ]
  },
  {
   "cell_type": "code",
   "execution_count": null,
   "metadata": {},
   "outputs": [],
   "source": [
    "# lag net income using \"shift\" from pandas\n",
    "dat['lag_net_inc'] = dat.groupby('firmid').net_inc.shift(1)"
   ]
  },
  {
   "cell_type": "markdown",
   "metadata": {},
   "source": [
    "### Pandas to numpy "
   ]
  },
  {
   "cell_type": "code",
   "execution_count": null,
   "metadata": {},
   "outputs": [],
   "source": [
    "# remove nans due to differencing\n",
    "I = dat.lag_net_inc.notnull() # cannot use first year: no lagged variable \n",
    "\n",
    "T = dat[I].year.unique().size # NB this measure of T already has one year subtracted \n",
    "N = dat[I].firmid.unique().size\n",
    "\n",
    "assert dat[I].shape[0] == N*T, 'Data is not a balanced panel'"
   ]
  },
  {
   "cell_type": "code",
   "execution_count": null,
   "metadata": {},
   "outputs": [],
   "source": [
    "# turn panda data frames into numpy arrays\n",
    "y = dat[I].net_inc.values.reshape((-1,1))\n",
    "y_l = dat[I].lag_net_inc.values.reshape((-1,1))\n",
    "const = np.ones((N*T,1))\n",
    "x = np.column_stack((const, y_l))\n",
    "\n",
    "#labels\n",
    "ylbl = 'profit'\n",
    "xlbl = ['const', 'lagged profit']"
   ]
  },
  {
   "cell_type": "markdown",
   "metadata": {},
   "source": [
    "# Part 1: POLS\n",
    "Today we will focus on a parsimonious model of profit $\\pi$ (econometricians often use \"parsimonious\" to mean a \"simple\"). \n",
    "\n",
    "Consider first the following AR(1) (autoregressive model of order $1$),\n",
    "\n",
    "$$\n",
    "\\pi_{it} = \\alpha_0 +  \\rho \\pi_{it-1} + c_i + u_{it}, \\quad t = 1, 2, \\dotsc, T \\tag{1}\n",
    "$$\n",
    "\n",
    "As we have seen before, if one does not take into consideration $c_i$ when estimating $\\rho$, one will get biased results. One way to solve this, which is also a common way for AR(1) processes, is to take first-differences. We then have the model,\n",
    "\n",
    "$$\n",
    "\\Delta \\pi_{it} = \\rho \\Delta \\pi_{it-1} + \\Delta u_{it}, \\quad t = 2, \\dotsc, T \\tag{2}\n",
    "$$\n",
    "\n",
    "This solves the presence of fixed effects."
   ]
  },
  {
   "cell_type": "markdown",
   "metadata": {},
   "source": [
    "### Question 1.1\n",
    "Estimate eq. (1) using POLS and robust standard errors (you'll need to adjust the `robust` function in `LinearDynamic_ante.py` first.)\n",
    "* Are there signs of autocorrelation in profit?\n",
    "* What assumptions are no longer satisfied? What happens with fixed effects when we include a lag?\n",
    "\n",
    "*Note:* We need to use the lagged values of net income. But this time we don't need to lag it ourselves as it that has already been done above."
   ]
  },
  {
   "cell_type": "code",
   "execution_count": null,
   "metadata": {},
   "outputs": [],
   "source": [
    "# FILL IN\n",
    "# Estimate the AR(1) model using OLS and robust standard errors\n",
    "# Print out in a nice table\n",
    "\n",
    "ar1_result= # fill in"
   ]
  },
  {
   "cell_type": "markdown",
   "metadata": {},
   "source": [
    "Your table should look like this:\n",
    "\n",
    "\n",
    "AR(1)\n",
    "Dependent variable: profit\n",
    "\n",
    "|              |  Beta |     Se|   t-values | \n",
    "|------------- | ------|  -------|  ----------|\n",
    "|const   |       73.494 | 7.77624 |      9.45|\n",
    "|lagged profit |  0.517 | 0.03473  |     14.90| \n",
    "R² = 0.252\n",
    "σ² = 476937.886"
   ]
  },
  {
   "cell_type": "code",
   "execution_count": null,
   "metadata": {},
   "outputs": [],
   "source": [
    "# in case you want results in a panda data frame\n",
    "ar1_res=pd.DataFrame([ar1_result['b_hat'].flatten(), ar1_result['se'].flatten(),ar1_result['t_values'].flatten()], \n",
    "             index=['beta', 'se', 't'], columns=xlbl).T\n",
    "ar1_res.round(2)\n"
   ]
  },
  {
   "cell_type": "code",
   "execution_count": null,
   "metadata": {},
   "outputs": [],
   "source": [
    "# or as a latex table\n",
    "(ar1_res.round(2)).style.to_latex()"
   ]
  },
  {
   "cell_type": "markdown",
   "metadata": {},
   "source": [
    "### Question 1.2\n",
    "Estimate eq. (2) using first differences. \n",
    "* What problem does this solve? \n",
    "* What type of exogeneity assumption is used to justify this method of estimation?\n",
    "\n",
    "*Note 1:* You have to create the first differencing matrix yourself, and use the `perm` function to permutate the dependen and independent variables. <br>\n",
    "*Note 2:* This time you should use robust standard errors. The function is provided to you."
   ]
  },
  {
   "cell_type": "code",
   "execution_count": null,
   "metadata": {},
   "outputs": [],
   "source": [
    "# FILL IN\n",
    "# Create a first difference matrix\n",
    "# First difference both profit and lag of profit\n",
    "# Estimate AR(1) model using OLS with robust se and print a nice table\n"
   ]
  },
  {
   "cell_type": "markdown",
   "metadata": {},
   "source": [
    "Your table should look like this:\n",
    "\n",
    "FD AR(1) <br>\n",
    "Dependent variable: profit\n",
    "\n",
    "|              |   Beta |     Se |   t-values |\n",
    "|------------- | ------ | ------ | ---------- |\n",
    "|lagged profit | -0.412 | 0.0244 |     -16.89 |\n",
    "R² = 0.167\n",
    "σ² = 520184.128"
   ]
  },
  {
   "cell_type": "markdown",
   "metadata": {},
   "source": [
    "## Super short introduction to pooled IV (piv)\n",
    "\n",
    "Suppose we want to estimate the effect of $x_K$ on $y$, conditional on $K - 1$ other controls, we then have the usual equation,\n",
    "\n",
    "$$\n",
    "\\mathbf{y} = \\mathbf{X} \\boldsymbol{\\beta} + \\mathbf{u} \\tag{3}\n",
    "$$\n",
    "\n",
    "where $\\mathbf{X} = (\\mathbf{x}_1, \\dotsc, \\mathbf{x}_K)$. If $\\mathbf{x}_K$ is not exogenous, we can define the instrument vector $\\mathbf{Z} = (\\mathbf{x}_1, \\dotsc, \\mathbf{x}_{K - 1}, \\mathbf{z}_1)$, where $\\mathbf{z}_1$ is an instrument for $\\mathbf{x}_K$. The details and necessary assumptions and conditions are outlined in Wooldridge (2010) (chapter 5).\n",
    "\n",
    "We can estimate eq. (3) by OLS using $z_1$ as an instrument for $x_K$, in order to make it easier for you when writing code, I write it up in matrix notation,\n",
    "\n",
    "$$\n",
    "\\boldsymbol{\\hat{\\beta}} = (\\mathbf{\\hat{X'}}\\mathbf{\\hat{X}})^{-1} \\mathbf{\\hat{X'}}\\mathbf{Y}, \\tag{4}\n",
    "$$\n",
    "\n",
    "where $\\mathbf{\\hat{X}} = \\mathbf{Z}(\\mathbf{Z'}\\mathbf{Z})^{-1}\\mathbf{Z'}\\mathbf{X}$."
   ]
  },
  {
   "cell_type": "markdown",
   "metadata": {},
   "source": [
    "# Part 2: Pooled IV\n",
    "It should not be a surprise that models (1) and (2) violate the strict exegoneity assumption but even if we relax this assumption to sequential exegoneity, the FD-estimator remains inconsistent.\n",
    "\n",
    "A solution to this is to use an instrument for $\\Delta \\pi_{it-1}$. The biggest issue is to find an instrument that is not only relevant, but also exogenous.\n",
    "\n",
    "We often use an additional lag as instruments. So for $\\Delta \\pi_{it-1}$, we can use $\\pi_{it-2}$. In general, we have all possible lags available as instruments. So for $\\Delta \\pi_{it-1}$ we have, $\n",
    "\\pi_{it-2}^{\\textbf{o}} = (\\pi_{i0}, \\pi_{i1}, \\dotsc \\pi_{it-2})$ available as instruments.\n",
    "\n",
    "*Note:* $R^2$ has no meaning in IV-regressions, you can report it if you want to. But I set it to 0."
   ]
  },
  {
   "cell_type": "markdown",
   "metadata": {},
   "source": [
    "### Question 2.1\n",
    "Estimate eq. (2) by using the lag of the independent variable in levels, $z_{it} = \\pi_{it-2}$ as an instrument. You need to finish writing the `est_piv` function and a part of the `estimate` function in `LinearDynamic_ante`.\n",
    "\n",
    "*Note 1:* In the `estimate` function, the `variance` function takes $\\mathbf{X}$ as an argument. But we want to pass the `variance` function $\\mathbf{\\hat{X}}$ instead. <br>\n",
    "*Note 2:* In order to create the instrument, you need to create a lag matrix, and use `perm`."
   ]
  },
  {
   "cell_type": "code",
   "execution_count": null,
   "metadata": {},
   "outputs": [],
   "source": [
    "# FILL IN\n",
    "# Create first a lag matrix\n",
    "# Lag the lagged pi variable\n",
    "# Finish writing the est_piv function in lineardynamic_ante\n",
    "# Finish writing the estimate function in lineardynamic_ante\n",
    "# Estimate using first differences and lagged first differences. Use the 2. lag as instrument."
   ]
  },
  {
   "cell_type": "markdown",
   "metadata": {},
   "source": [
    "Your table should look like this:\n",
    "\n",
    "FD-IV AR(1) <br>\n",
    "Dependent variable: delta profit\n",
    "\n",
    "|                   |   Beta |     Se |   t-values |\n",
    "|-------------------|--------|--------|------------|\n",
    "| lagged profit     |  0.129 |  0.0763|      1.69 | \n",
    "R² = n.a. <br>\n",
    "σ² = 700805.974"
   ]
  },
  {
   "cell_type": "markdown",
   "metadata": {},
   "source": [
    "### Question 2.2\n",
    "Estimate eq. (2) by using the lag of the independent variable in first differences, $z_{it} = \\Delta \\pi_{it-2}$ as an instrument."
   ]
  },
  {
   "cell_type": "code",
   "execution_count": null,
   "metadata": {},
   "outputs": [],
   "source": [
    "# FILL IN\n",
    "# Lag the first differenced lag profit variable\n",
    "# The second lag uses up an extra observation, so you need to shorten both first differenced profit and the 1. first difference lag.\n",
    "# Estimate using first differences and lagged first differences. Use the 2. first difference lag as instrument."
   ]
  },
  {
   "cell_type": "code",
   "execution_count": null,
   "metadata": {},
   "outputs": [],
   "source": [
    "#  do lagging and differencing by panda data frames (instead of perm function)\n",
    "dat['diff_net_inc']      = dat.groupby('firmid').net_inc.diff()\n",
    "dat['lag_diff_net_inc']  = dat.groupby('firmid').diff_net_inc.shift(1)\n",
    "dat['lag2_diff_net_inc'] = dat.groupby('firmid').diff_net_inc.shift(2)"
   ]
  },
  {
   "cell_type": "code",
   "execution_count": null,
   "metadata": {},
   "outputs": [],
   "source": [
    "# load into numpy\n",
    "I = dat.lag2_diff_net_inc.notnull() # removes years which have become zeros due to differencing\n",
    "yfd    = dat[I].diff_net_inc.values.reshape((-1,1))\n",
    "yfd_l1 = dat[I].lag_diff_net_inc.values.reshape((-1,1))\n",
    "yfd_l2 = dat[I].lag2_diff_net_inc.values.reshape((-1,1))\n",
    "\n",
    "assert (dat.groupby('firmid').year.size() == dat.year.unique().size).all(), 'not balanced'"
   ]
  },
  {
   "cell_type": "code",
   "execution_count": null,
   "metadata": {},
   "outputs": [],
   "source": [
    "# Estimate using lagged difference as IV and data generated by perm function\n",
    "x_label= None # fill in\n",
    "AR_fdiv2_res2 = None # Fill in\n",
    "lm.print_table((ylbl,x_label), AR_fdiv2_res2,title='FD-IV AR(1)')"
   ]
  },
  {
   "cell_type": "markdown",
   "metadata": {},
   "source": [
    "Your table should look like this:\n",
    "FD-IV AR(1) <br>\n",
    "Dependent variable: delta profit\n",
    "\n",
    "|                   |   Beta |     Se |   t-values |\n",
    "|-------------------|--------|--------|------------|\n",
    "| lag delta profit|  -0.032 | 0.1317 |       -0.23 |\n",
    "R² = NaN <br>\n",
    "σ² = 659600.152"
   ]
  },
  {
   "cell_type": "markdown",
   "metadata": {},
   "source": [
    "### Summing up Exercises 1 and 2.\n",
    "\n",
    "First of all, is it more convincing to use $\\pi_{it-2}$ or $\\Delta \\pi_{it-2}$ as an instrument for $\\Delta \\pi_{it-1}$?\n",
    "\n",
    "Then consider how the different models compare to each other. Some questions that you might discuss with your class mates could be:\n",
    "* Which ones do you feel gives most sense from an economic perspective?\n",
    "* Which ones gives most sense from an econometric perspective? \n",
    "* Do you feel that there is conclusive evidence that there is state dependence in profit?\n",
    "* Should we give financial aid packages to this industry when  exogenous shocks hit (e.g. Covid)?"
   ]
  },
  {
   "cell_type": "markdown",
   "metadata": {},
   "source": [
    "## Part 3: GMM"
   ]
  },
  {
   "cell_type": "markdown",
   "metadata": {},
   "source": [
    "### Question 3.1: Create the level instrument matrix $\\mathbf{Z^{\\mathbf{o}}}$\n",
    "\n",
    "The function `sequential_instruments` in `gmm.py` in creates the instrument matrix $\\mathbf{Z^{\\mathbf{o}}}$ using the second lag of $\\pi$ in **levels**. Note that you will not have one array that looks like $\\mathbf{Z^{\\mathbf{o}}}$, but an array that has something that looks like $\\mathbf{Z^{\\mathbf{o}}}$ for each firm in the data. Since we have six time periods, and access to $y_{i0}$, you should get five rows of instruments for each firm.\n",
    "$$\n",
    "\\mathbf{Z^{\\mathbf{o}}} = \n",
    "\\begin{bmatrix}\n",
    "    y_{i0} & 0 & 0 & 0 & 0 & 0 & \\cdots & 0 \\\\\n",
    "    0 & y_{i0} & y_{i1} & 0 & 0 & 0 & \\cdots & 0 \\\\\n",
    "    0 & 0 & 0 & y_{i0} & y_{i1} & y_{i2} & \\cdots & 0 \\\\\n",
    "    \\vdots  & \\vdots & \\vdots & \\vdots & \\vdots & \\vdots & \\ddots & \\vdots \\\\\n",
    "    0 & 0 & 0 & 0 & 0 & 0 & \\cdots & \\mathbf{y^o_{it-2}} \\\\\n",
    "\\end{bmatrix}\n",
    "\\begin{pmatrix}\n",
    "t = 2 \\\\\n",
    "t = 3 \\\\\n",
    "t = 3 \\\\\n",
    "\\vdots \\\\\n",
    "t = T\n",
    "\\end{pmatrix}.\n",
    "$$"
   ]
  },
  {
   "cell_type": "code",
   "execution_count": null,
   "metadata": {},
   "outputs": [],
   "source": [
    "import gmm_ante as gmm"
   ]
  },
  {
   "cell_type": "code",
   "execution_count": null,
   "metadata": {},
   "outputs": [],
   "source": [
    "# reset: now we no longer need to delete *3* years but only 2. This is because we're letting the IV matrix expand over time.\n",
    "I = dat.lag_diff_net_inc.notnull()\n",
    "\n",
    "yfd    = dat[I].diff_net_inc.values.reshape((-1,1))\n",
    "yfd_l  = dat[I].lag_diff_net_inc.values.reshape((-1,1))\n",
    "years  = dat[I].year.values"
   ]
  },
  {
   "cell_type": "code",
   "execution_count": null,
   "metadata": {},
   "outputs": [],
   "source": [
    "# Create (telescoping) instrument matrix \n",
    "z = # fill in\n",
    "print(z)"
   ]
  },
  {
   "cell_type": "markdown",
   "metadata": {},
   "source": [
    "##### your instrument matrix should look like this:\n",
    "$$\n",
    "\\begin{bmatrix}\n",
    "-28.187 &  0. &     0.  &  ... &  0.  &    0.  &    0.   \\\\\n",
    " 0.  &  -28.187 & -62.855& ... &  0.   &   0.  &    0.   \\\\\n",
    "  0. &     0.  &    0. &   ... &  0.  &    0.  &    0.   \\\\\n",
    " &&&...&&&\\\\\n",
    "   0.   &   0.   &   0. &   ... &  0.  &    0.  &    0.   \\\\\n",
    "   0.    &  0.  &    0.  &  ...  & 0.    &  0.   &   0.   \\\\\n",
    "   0.  &    0.   &   0.  &  ... & 690.033 & 511.393 &585.533\\\\\n",
    " \\end{bmatrix}\n",
    " $$"
   ]
  },
  {
   "cell_type": "markdown",
   "metadata": {},
   "source": [
    "### Question 3.2: GMM 1-step and 2-step\n",
    "\n",
    "Compute the following quantities: \n",
    "\n",
    "a) the initial weighting matrix, \n",
    "\n",
    "b) the first-step gmm estimator, \n",
    "\n",
    "c) the updated weighting matrix, \n",
    "\n",
    "d) the 2-step gmm estimator,\n",
    "\n",
    "e) the standard errors,\n",
    "\n",
    "f) the Sargent statistic\n",
    "\n",
    "*Note: In formulas below we do not include $\\frac1N$ in  the definition of $\\hat{\\mathbf{W}}$. This only has implications for the formula for $\\text{Avar}(\\hat{\\boldsymbol{\\beta}})$.*"
   ]
  },
  {
   "cell_type": "markdown",
   "metadata": {},
   "source": [
    "a) Write the initial weighting matrix $\\hat{\\mathbf{W}}$ used for the 1-step GMM estimator (equivalent to System 2SLS). What are $\\hat{\\mathbf{W}}$'s dimensions?\n",
    "\n",
    "\n",
    "$$\\hat{\\mathbf{W}}=$$"
   ]
  },
  {
   "cell_type": "code",
   "execution_count": null,
   "metadata": {},
   "outputs": [],
   "source": [
    "# Compute the initial weighting matrix \n",
    "W = # fill in\n"
   ]
  },
  {
   "cell_type": "markdown",
   "metadata": {},
   "source": [
    "b) Compute the first step GMM estimator:\n",
    "\n",
    "$$\\hat{\\boldsymbol{\\beta}}_{GMM}= (\\mathbf{X}'\\mathbf{Z}\\hat{\\mathbf{W}}\\mathbf{Z}'\\mathbf{X})^{-1}\\mathbf{X}'\\mathbf{Z}\\hat{\\mathbf{W}}\\mathbf{Z}'\\mathbf{Y}$$"
   ]
  },
  {
   "cell_type": "code",
   "execution_count": null,
   "metadata": {},
   "outputs": [],
   "source": [
    "# Compute the 2sls estimator (1-step GMM)\n",
    "beta_gmm= # fill in\n",
    "print(\"beta_gmm=\",beta_gmm)"
   ]
  },
  {
   "cell_type": "markdown",
   "metadata": {},
   "source": [
    "you should get: `beta_gmm=[[-0.02163]]`"
   ]
  },
  {
   "cell_type": "markdown",
   "metadata": {},
   "source": [
    "c) Write the expression for the updated weighting matrix used for 2-step GMM (Arellano Bond). What is the dimension of this matrix?\n",
    "\n",
    "\n",
    "$$\\hat{\\mathbf{W}}^{\\text{opt}}\n",
    "= $$"
   ]
  },
  {
   "cell_type": "code",
   "execution_count": null,
   "metadata": {},
   "outputs": [],
   "source": [
    "# Compute the updated weighting matrix\n",
    "# you'll need to compute residuals ui_hat\n",
    "# you should use a loop to multiply each individual's Z_i and ui_hat separately\n",
    "res = # fill in\n",
    "\n",
    "W_opt = # fill in\n"
   ]
  },
  {
   "cell_type": "markdown",
   "metadata": {},
   "source": [
    "d) Compute the second-step GMM estimator using this weighting matrix\n",
    "\n",
    "$$\\hat{\\boldsymbol{\\beta}}_{GMM}^{\\text{opt}}= (\\mathbf{X}'\\mathbf{Z}\\hat{\\mathbf{W}}^{\\text{opt}}\\mathbf{Z}'\\mathbf{X})^{-1}\\mathbf{X}'\\mathbf{Z}\\hat{\\mathbf{W}}^{\\text{opt}}\\mathbf{Z}'\\mathbf{Y}$$"
   ]
  },
  {
   "cell_type": "code",
   "execution_count": null,
   "metadata": {},
   "outputs": [],
   "source": [
    "# Compute the 2-step GMM estimator \n",
    "beta_gmm = # fill in \n",
    "print(\"beta_gmm=\",beta_gmm)"
   ]
  },
  {
   "cell_type": "markdown",
   "metadata": {},
   "source": [
    "You should get: `beta_gmm= [[0.07076]]`"
   ]
  },
  {
   "cell_type": "markdown",
   "metadata": {},
   "source": [
    "e) Compute standard errors: \n",
    "$$\\hat{\\mathbf{V}}(\\hat{\\boldsymbol{\\beta}}_{\\text{GMM}}^{\\text{opt}}) = \\left(\\mathbf{X'}\\mathbf{Z}\\hat{\\mathbf{W}}^{\\text{opt}}\\mathbf{Z}'\\mathbf{X}\\right)^{-1}$$"
   ]
  },
  {
   "cell_type": "code",
   "execution_count": null,
   "metadata": {},
   "outputs": [],
   "source": [
    "X = yfd_l\n",
    "Z = z\n",
    "W = W_opt\n",
    "cov = # fill in \n",
    "se = # fill in\n",
    "print(f'se = {se}, t = {beta_gmm/se}')"
   ]
  },
  {
   "cell_type": "markdown",
   "metadata": {},
   "source": [
    "You should get: `se = [0.03733], t = [[1.8954]]`"
   ]
  },
  {
   "cell_type": "markdown",
   "metadata": {},
   "source": [
    "f) Write up the Sargan Test Statistic. What does it provide a test of? What can you conclude from this test?\n",
    "\n",
    "\n",
    "$$\\mathbf{J}=$$\n",
    "\n",
    "where $\\mathbf{W} = (N \\hat{\\mathbf{S}})^{-1}= (\\sum_i \\mathbf{Z}_i' \\hat{\\mathbf{u}}_i\\hat{\\mathbf{u}}_i' \\mathbf{Z}_i)^{-1}$"
   ]
  },
  {
   "cell_type": "code",
   "execution_count": null,
   "metadata": {
    "tags": []
   },
   "outputs": [],
   "source": [
    "#Compute the Sargan Test Stat\n",
    "J = # fill in\n",
    "\n",
    "# Run test and print results\n",
    "r=z.shape[1] # number of instruments\n",
    "K=yfd_l.shape[1] # number of regressors\n",
    "df=r-K # number of overidentifying restrictions\n",
    "p_val = chi2.sf(J.flatten()[0], df)\n",
    "\n",
    "print(f'The Sargan test statistic is: {J.item():.2g}, with p-value: {p_val:.2g}.')"
   ]
  },
  {
   "cell_type": "markdown",
   "metadata": {},
   "source": [
    "You should get\n",
    "\n",
    "The Sargan test statistic is: 43, with p-value: 0.002."
   ]
  },
  {
   "cell_type": "code",
   "execution_count": null,
   "metadata": {},
   "outputs": [],
   "source": []
  }
 ],
 "metadata": {
  "kernelspec": {
   "display_name": "Python 3 (ipykernel)",
   "language": "python",
   "name": "python3"
  },
  "language_info": {
   "codemirror_mode": {
    "name": "ipython",
    "version": 3
   },
   "file_extension": ".py",
   "mimetype": "text/x-python",
   "name": "python",
   "nbconvert_exporter": "python",
   "pygments_lexer": "ipython3",
   "version": "3.8.13"
  },
  "vscode": {
   "interpreter": {
    "hash": "28b1ca885001685b2bc3a39df2ddd10ef1aa60bad7babe65fad257ff6b65d8b6"
   }
  }
 },
 "nbformat": 4,
 "nbformat_minor": 4
}
