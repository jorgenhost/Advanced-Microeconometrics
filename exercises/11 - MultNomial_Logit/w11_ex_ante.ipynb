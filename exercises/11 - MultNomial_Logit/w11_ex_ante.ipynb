{
 "cells": [
  {
   "cell_type": "markdown",
   "metadata": {},
   "source": [
    "# Multinomial Logit"
   ]
  },
  {
   "cell_type": "code",
   "execution_count": 72,
   "metadata": {},
   "outputs": [
    {
     "name": "stdout",
     "output_type": "stream",
     "text": [
      "The autoreload extension is already loaded. To reload it, use:\n",
      "  %reload_ext autoreload\n"
     ]
    }
   ],
   "source": [
    "import numpy as np\n",
    "import pandas as pd\n",
    "from numpy.random import default_rng\n",
    "import matplotlib.pyplot as plt \n",
    "\n",
    "import mlogit_ante as mlogit\n",
    "import estimation\n",
    "\n",
    "%load_ext autoreload\n",
    "%autoreload 2"
   ]
  },
  {
   "cell_type": "markdown",
   "metadata": {},
   "source": [
    "Introduction\n",
    "============\n",
    "\n",
    "In this week's problem set, you are asked to investigate how alcohol\n",
    "abuse affects employment status. Individuals can either be outside of\n",
    "the labour market, unemployed or employed. This means, that the\n",
    "dependent variable has three discrete outcomes. We use the multinomial\n",
    "logit model to express the probability of individuals to be either\n",
    "outside the labour market, unemployed or employed. This model is a\n",
    "generalization of the logit model we looked at in problem set 9 (binary\n",
    "choice) which only allowed for the dependent variable to have two\n",
    "discrete outcomes.\n",
    "\n",
    "The dataset consists of two things for each $i$, $(y_i, \\mathbf{x}_i)$, \n",
    "where $y_i \\in \\{1,...,J\\}$, and $\\mathbf{x}_i$ is a $K\\times 1$ vector \n",
    "of explanatory variables relating to the individuals. \n",
    "\n",
    "In the multinomial logit the probability of observing choice $j$ for\n",
    "household $i$ given the observed explanatory variables, $\\mathbf{x}_{i}$ is given\n",
    "as,\n",
    "$$\n",
    "\\text{Pr}\\left(y_{i}=j\\mid \\mathbf{x}_{i},\\boldsymbol{\\beta}_j\\right) \\equiv p_{ij}\n",
    "    =\\frac{\\exp( \\mathbf{x}_{i}\\boldsymbol{\\beta}_j )}\n",
    "          {\\sum_{k=1}^{J}\\exp\\left(\\mathbf{x}_{i}\\boldsymbol{\\beta}_k\\right)}\n",
    "          ,\\quad j=1,\\dots J \\tag{1}\n",
    "$$\n",
    "\n",
    "The probabilities lie between 0 and 1 since\n",
    "$\\exp(\\mathbf{x}_{i}\\boldsymbol{\\beta}_j)>0$ and they sum to one over the\n",
    "$J$ alternatives. The expression,\n",
    "(1), can be derived from an underlying latent\n",
    "utility model, where taste shocks follow an extreme value type 1\n",
    "distribution. The data-generating process of this latent utility model\n",
    "can be formalized as\n",
    "\n",
    "$$\n",
    "\\begin{aligned}\n",
    "y_{i} &= \\operatorname*{argmax}_{j=1,\\ldots,J} \\{u_{ij}\\},  \\tag{2} \\\\\n",
    "u_{ij} &= \\mathbf{x}_{i} \\boldsymbol{\\beta}_j + \\varepsilon_{ij}, \\qquad \\varepsilon_{ij} \\sim \\text{IID Extreme Value} , \n",
    "\\end{aligned}\n",
    "$$\n",
    "\n",
    "where the utility, $u_{ij}$, consists of a deterministic part,\n",
    "$v_{ij}=\\mathbf{x}_i\\boldsymbol{\\beta}_j$, and a stochastic part, $\\varepsilon_{ij}$. Individual\n",
    "$i$ chooses the alternative $y_i\\in \\{1,\\ldots,J\\}$ that is associated\n",
    "with the highest level of $u_{ij}$ after having observed the iid extreme\n",
    "value type 1 distributed shocks, $\\varepsilon_{ij}$ for\n",
    "$j\\in\\{1,\\ldots,J\\}$. It is important to note that the individual \n",
    "observes everything in $u_{ij}$, so it is a simple thing to pick the \n",
    "$j$ that has the highest utility. The challenge for the econometrician is \n",
    "that the error terms $\\varepsilon_{ij}$ are not in the dataset. \n",
    "\n",
    "Fortunately, it can be shown that if one simulates data according to the \n",
    "Data Generating Process (DGP) above, then the choice probabilities in (1) \n",
    "are correct.\n",
    "\n",
    "It turns out that the model is only identified under a *normalization \n",
    "assumption*, such as $\\boldsymbol{\\beta}_1 := \\mathbf{0}_{K\\times 1}$.\n",
    "That is, we cannot identify a parameter on a regressor, $\\beta_{kj}$, \n",
    "for all alternatives $j=1,...,J$. The argument why this is the case is \n",
    "presented in this youtube video: https://youtu.be/IeDJN6VQtLg. \n",
    "Intuitively, the argument boils down to the fact that we can only identify \n",
    "effects that change the utilty of an option *relative* to other options. \n",
    "This is because we only observe the *argmax* of utility and thus cannot \n",
    "hope to identify the *scale* of utility, since utility is merely ordinal. "
   ]
  },
  {
   "cell_type": "markdown",
   "metadata": {},
   "source": [
    "---\n",
    "\n",
    "We can't identify a constant, as adding a constant would only \"push utility up\" and not change the ordering. Remember we are looking for:\n",
    "\n",
    "$$\n",
    "y_i = \\textcolor{red}{\\text{argmax \\{$u_{ij}$\\}}}\n",
    "$$\n",
    "\n",
    "---"
   ]
  },
  {
   "cell_type": "markdown",
   "metadata": {},
   "source": [
    "# Question 1: Simulate Data \n",
    "\n",
    "The first task is to finish the code in the function\n",
    "`sim_data(N, J, theta)` in the `mlogit` module. This\n",
    "function simulates a data set with $N$ individuals choosing between $J$ alternatives. The third input is a parameter vector,\n",
    "$\\theta=(\\beta_1^\\prime,\\ldots,\\beta_J^\\prime)^\\prime$ and $j=1$ is the baseline alternative $\\beta_1=0$.\n",
    "\n",
    "The function simulates a $N \\times K$ matrix of covariates. These\n",
    "consist of a constant term and K-1 individual characteristics drawn from a standard normal distribution, i.e.\n",
    "$x_{i}= (1,x_{i2}, \\ldots, x_{iK})'$, with $x_{ik} \\sim N(0,1)$.\n",
    "\n",
    "The choice pattern is simulated in accordance with the data generating\n",
    "process given by the equations in\n",
    "(2).\n",
    "\n",
    "*Note:*\n",
    "The solution to this is exactly as we simulated data for the clogit last week. The main difference is that we now have beta coefficients for each option (last week we had one column of beta coefficients, today we have (J - 1) columns of beta coefficients.). As mentioned, we use the first option J = 0 as a baseline.\n",
    "\n",
    "***Programming hint:*** We will simulate `x` as `(N, K)`, i.e. there is no column for the normalized alternative. We can still use matrix algebra to compute the $N \\times J$ matrix of utilities with characteristic element \n",
    "$$ v_{ij} = \\sum_{k=1}^K x_{ijk} \\beta_{jk} \\quad \\text{for } \\ne 1,$$ \n",
    "and $v_{i1} = 0$. We can compute this using \n",
    "```Python\n",
    "xb = x @ theta # x is (N, K) and theta is (K, J-1), so the product is (N, J-1)\n",
    "oo = np.zeros((N,1)) # normalized util=0 for the baseline\n",
    "u = np.hstack([oo,xb]) # full (N,J) matrix of utilities (hstack = horizontal stack)\n",
    "```\n",
    "The product `x @ theta` works because `x` is `(N,J-1,K)` and `theta` is `(K,J-1)`. Then Python interprets it as we expect. "
   ]
  },
  {
   "cell_type": "code",
   "execution_count": 73,
   "metadata": {},
   "outputs": [],
   "source": [
    "# Initialize simulation parameters\n",
    "N = 10000\n",
    "J = 3\n",
    "K = 2\n",
    "\n",
    "# Initialize true beta coefficients for data generating process.\n",
    "beta2 = np.array([[-.3, .6]]).T\n",
    "beta3 = np.array([[.2, -1]]).T\n",
    "true_beta = np.hstack([beta2, beta3])\n",
    "theta0 = np.zeros((K, J - 1)) # zeros are safe starting values, resulting in equal probabilities"
   ]
  },
  {
   "cell_type": "code",
   "execution_count": 74,
   "metadata": {},
   "outputs": [],
   "source": [
    "# simulate some data \n",
    "np.random.seed(1)\n",
    "y,x = mlogit.sim_data(true_beta, N)"
   ]
  },
  {
   "cell_type": "code",
   "execution_count": 75,
   "metadata": {},
   "outputs": [
    {
     "name": "stdout",
     "output_type": "stream",
     "text": [
      "Frequencies of y:\n"
     ]
    },
    {
     "data": {
      "text/plain": [
       "2    4250\n",
       "0    2943\n",
       "1    2807\n",
       "dtype: int64"
      ]
     },
     "execution_count": 75,
     "metadata": {},
     "output_type": "execute_result"
    }
   ],
   "source": [
    "print('Frequencies of y:')\n",
    "pd.value_counts(y)"
   ]
  },
  {
   "cell_type": "markdown",
   "metadata": {},
   "source": [
    "Expected output:\n",
    "\n",
    "| y         | Frequencies  | \n",
    "|:----------|-------------:|\n",
    "|2          |   4250       |\n",
    "|0          |   2943       |\n",
    "|1          |   2807       |"
   ]
  },
  {
   "cell_type": "markdown",
   "metadata": {},
   "source": [
    "# Question 2: Choice Probabilities \n",
    "\n",
    "The choice probabilities in the multinomial logit model is given by\n",
    "equation (1). This should be implemented into the mlogit.m\n",
    "class file such that the function\n",
    "`choice_prob()` returns choice probabilities, $p_{ij}$ for\n",
    "$i\\in \\{1,\\ldots,N\\}$ and $j\\in \\{1,\\ldots,J\\}$. The choice\n",
    "probabilities are contained in the ($N \\times J$) matrix `ccp`. The function should also return the (natural)\n",
    "$\\log$ of the choice probabilities which is used later in the maximum\n",
    "likelihood estimation. The log transformed choice probabilities, which should be saved in the matrix `logccp`,\n",
    "are given by\n",
    "$$\n",
    "\\log\\text{Pr}\\left(y_{i}=j\\mid \\mathbf{x}_{ij},\\boldsymbol{\\beta}\\right)=\\log p_{ij}=\\mathbf{x}_{i}\\boldsymbol{\\beta}_j-\\log\\left(\\sum_{m=1}^{J}\\exp\\left(\\mathbf{x}_{i}\\boldsymbol{\\beta}_m\\right)\\right),\n",
    "$$\n",
    "\n",
    "*Programming hint*:\n",
    "Again, this is done exactly like last week, except that you need a loop for each column of coefficients we have for the choices when you calculate the utility matrix. Remember that the first column in the utility matrix is the baseline, and therefore should be a column with only zero values."
   ]
  },
  {
   "cell_type": "code",
   "execution_count": 76,
   "metadata": {},
   "outputs": [
    {
     "data": {
      "text/plain": [
       "(2, 2)"
      ]
     },
     "execution_count": 76,
     "metadata": {},
     "output_type": "execute_result"
    }
   ],
   "source": [
    "theta0.shape"
   ]
  },
  {
   "cell_type": "code",
   "execution_count": 77,
   "metadata": {},
   "outputs": [
    {
     "data": {
      "text/plain": [
       "(10000, 2)"
      ]
     },
     "execution_count": 77,
     "metadata": {},
     "output_type": "execute_result"
    }
   ],
   "source": [
    "x.shape"
   ]
  },
  {
   "cell_type": "code",
   "execution_count": 78,
   "metadata": {},
   "outputs": [
    {
     "data": {
      "text/plain": [
       "True"
      ]
     },
     "execution_count": 78,
     "metadata": {},
     "output_type": "execute_result"
    }
   ],
   "source": [
    "ccp, logccp = mlogit.choice_prob(theta0, x)\n",
    "np.isclose(ccp[0,0], 0.33333333)"
   ]
  },
  {
   "cell_type": "code",
   "execution_count": 79,
   "metadata": {},
   "outputs": [
    {
     "data": {
      "text/plain": [
       "array([[0.33333333, 0.33333333, 0.33333333],\n",
       "       [0.33333333, 0.33333333, 0.33333333],\n",
       "       [0.33333333, 0.33333333, 0.33333333],\n",
       "       ...,\n",
       "       [0.33333333, 0.33333333, 0.33333333],\n",
       "       [0.33333333, 0.33333333, 0.33333333],\n",
       "       [0.33333333, 0.33333333, 0.33333333]])"
      ]
     },
     "execution_count": 79,
     "metadata": {},
     "output_type": "execute_result"
    }
   ],
   "source": [
    "ccp"
   ]
  },
  {
   "cell_type": "code",
   "execution_count": 80,
   "metadata": {},
   "outputs": [
    {
     "data": {
      "text/plain": [
       "True"
      ]
     },
     "execution_count": 80,
     "metadata": {},
     "output_type": "execute_result"
    }
   ],
   "source": [
    "ccp, logccp = mlogit.choice_prob(true_beta, x)\n",
    "np.isclose(ccp[0,0], 0.31211691)"
   ]
  },
  {
   "cell_type": "markdown",
   "metadata": {},
   "source": [
    "# Question 3: Estimate on Simulated Data\n",
    "\n",
    "Last time you created the criterion function for the conditional logit estimator. This is identical to the criterion function for the multinomial logit model, so you need only to copy this from last week.\n",
    "\n",
    "Now estimate the coefficients based on the simulated data, using maximum likelihood to solve the model. To do this use the `estimate` function.\n",
    "\n",
    "I have written some code that calculates the norm of the gradient at the point of the solution. We will use this later to solve any issues we might have in a real, empirical example. Should this norm be large or small?"
   ]
  },
  {
   "cell_type": "markdown",
   "metadata": {},
   "source": [
    "---\n",
    "\n",
    "We would expect the norm of the  gradient to be small -> we are minimizing the gradient to be (close to) zero, thus the L2/2-norm of the gradient is expected to be (very?) small\n",
    "\n",
    "---"
   ]
  },
  {
   "cell_type": "code",
   "execution_count": 81,
   "metadata": {},
   "outputs": [
    {
     "name": "stdout",
     "output_type": "stream",
     "text": [
      "Optimization terminated successfully.\n",
      "         Current function value: 0.932552\n",
      "         Iterations: 17\n",
      "         Function evaluations: 90\n",
      "         Gradient evaluations: 18\n"
     ]
    }
   ],
   "source": [
    "sim_result = estimation.estimate(mlogit.q, theta0, y, x)"
   ]
  },
  {
   "cell_type": "code",
   "execution_count": 82,
   "metadata": {},
   "outputs": [
    {
     "data": {
      "text/html": [
       "<div>\n",
       "<style scoped>\n",
       "    .dataframe tbody tr th:only-of-type {\n",
       "        vertical-align: middle;\n",
       "    }\n",
       "\n",
       "    .dataframe tbody tr th {\n",
       "        vertical-align: top;\n",
       "    }\n",
       "\n",
       "    .dataframe thead th {\n",
       "        text-align: right;\n",
       "    }\n",
       "</style>\n",
       "<table border=\"1\" class=\"dataframe\">\n",
       "  <thead>\n",
       "    <tr style=\"text-align: right;\">\n",
       "      <th></th>\n",
       "      <th>Est</th>\n",
       "      <th>s.e.</th>\n",
       "      <th>True</th>\n",
       "    </tr>\n",
       "  </thead>\n",
       "  <tbody>\n",
       "    <tr>\n",
       "      <th>x21</th>\n",
       "      <td>-0.2973</td>\n",
       "      <td>0.0306</td>\n",
       "      <td>-0.3</td>\n",
       "    </tr>\n",
       "    <tr>\n",
       "      <th>x22</th>\n",
       "      <td>0.1944</td>\n",
       "      <td>0.0264</td>\n",
       "      <td>0.2</td>\n",
       "    </tr>\n",
       "    <tr>\n",
       "      <th>x31</th>\n",
       "      <td>0.5909</td>\n",
       "      <td>0.0321</td>\n",
       "      <td>0.6</td>\n",
       "    </tr>\n",
       "    <tr>\n",
       "      <th>x32</th>\n",
       "      <td>-1.0230</td>\n",
       "      <td>0.0314</td>\n",
       "      <td>-1.0</td>\n",
       "    </tr>\n",
       "  </tbody>\n",
       "</table>\n",
       "</div>"
      ],
      "text/plain": [
       "        Est    s.e.  True\n",
       "x21 -0.2973  0.0306  -0.3\n",
       "x22  0.1944  0.0264   0.2\n",
       "x31  0.5909  0.0321   0.6\n",
       "x32 -1.0230  0.0314  -1.0"
      ]
     },
     "execution_count": 82,
     "metadata": {},
     "output_type": "execute_result"
    }
   ],
   "source": [
    "varnames = [f'x{j+1}{k+1}' for j in range(1,J) for k in range(K)]\n",
    "pd.DataFrame({\n",
    "              'Est' : sim_result[\"theta\"], \n",
    "              's.e.': sim_result[\"se\"], \n",
    "              'True': true_beta.flatten() # pd expects flat arrays \n",
    "             },\n",
    "             index=varnames).round(4)"
   ]
  },
  {
   "cell_type": "markdown",
   "metadata": {},
   "source": [
    "Expected output:\n",
    "\n",
    "|   |Est       |\ts.e.  |\tTrue|\n",
    "|:--|---------:|---------:|----:|    \n",
    "|x21|\t-0.2973|\t0.0306|\t-0.3|\n",
    "|x22|\t 0.1944|\t0.0264|  0.2|\n",
    "|x31|\t 0.5909|\t0.0321|\t 0.6| \n",
    "|x32|\t-1.0230|\t0.0314|\t-1.0|"
   ]
  },
  {
   "cell_type": "code",
   "execution_count": 83,
   "metadata": {},
   "outputs": [],
   "source": [
    "def calc_norm(q, theta):\n",
    "    g = estimation.centered_grad(q, theta) # (N,K)\n",
    "    g = np.mean(g, axis=0) # (K,)\n",
    "    return np.mean(g ** 2) # 2-norm: "
   ]
  },
  {
   "cell_type": "code",
   "execution_count": 84,
   "metadata": {},
   "outputs": [
    {
     "name": "stdout",
     "output_type": "stream",
     "text": [
      "q(thetahat)        =   0.9326\n",
      "2-norm of gradient =  2.77e-11\n"
     ]
    }
   ],
   "source": [
    "q = lambda theta: np.mean(mlogit.q(theta, y, x))\n",
    "print(f'q(thetahat)        = {q(sim_result[\"theta\"]): 8.4g}')\n",
    "print(f'2-norm of gradient = {calc_norm(q, sim_result[\"theta\"]): 8.4g}')"
   ]
  },
  {
   "cell_type": "markdown",
   "metadata": {},
   "source": [
    "# Question 4: Estimation on the Terza (2002) data\n",
    "\n",
    "We are now going to use the data from \n",
    ">   Joseph V. Terza (2002): \"Alcohol abuse and employment: A second look\"\n",
    ">   Journal of Applied Econometrics, Volume 17, Issue 4, Pages 393-404\n",
    "\n",
    "Data source: http://qed.econ.queensu.ca/jae/2002-v17.4/terza/\n",
    "\n",
    "\n",
    "We will use the data to estimate the\n",
    "multinomial logit model. Therefore, we need to first load the data and\n",
    "then use the proper functions coded previously. \n",
    "\n",
    "The outcome, `y`, can take $J = 3$ values: \n",
    "* `0` if they are out of the work force, \n",
    "* `1` if they are unemployed, and \n",
    "* `2` if they are employed. \n",
    "\n",
    "Out of the work force, `0`, will be the normalized baseline alternative for our analysis.\n",
    "\n",
    "The results we are looking to obtain are shown in the table below, although some of them are rescaled, so you might have too many commas for some coefficients:\n",
    "\n",
    "|           |   Unemployed |   (t, unemployed) |    Employed |   (t, employed) |\n",
    "|:----------|-------------:|------------------:|------------:|----------------:|\n",
    "| alcohol   |   0.126952   |         0.584267  | -0.153571   |       -1.08658  |\n",
    "| urate     |   0.0457542  |         0.83962   | -0.0955165  |       -2.78256  |\n",
    "| age       |   0.162471   |         2.41517   |  0.227685   |        5.44668  |\n",
    "| agesq     |  -0.00244618 |        -3.0253    | -0.00308571 |       -6.33359  |\n",
    "| schooling |  -0.00923555 |        -0.340401  |  0.0890395  |        6.04366  |\n",
    "| married   |   0.400316   |         2.1345    |  0.708421   |        6.17536  |\n",
    "| famsize   |   0.0621845  |         1.24317   |  0.0622035  |        1.96377  |\n",
    "| white     |   0.0391827  |         0.221582  |  0.738065   |        7.0695   |\n",
    "| excellent |   2.91856    |         6.41338   |  3.70305    |       20.4199   |\n",
    "| verygood  |   2.97854    |         6.47601   |  3.65356    |       19.507    |\n",
    "| good      |   2.49418    |         5.5087    |  2.99973    |       17.2925   |\n",
    "| fair      |   1.46049    |         2.98686   |  1.87639    |       10.2903   |\n",
    "| northeast |   0.0843054  |         0.349563  |  0.0887303  |        0.592707 |\n",
    "| midwest   |   0.0155177  |         0.0739923 |  0.122884   |        0.944845 |\n",
    "| south     |   0.174895   |         0.840669  |  0.439299   |        3.44955  |\n",
    "| center    |  -0.271521   |        -1.38227   | -0.268834   |       -2.21096  |\n",
    "| other     |  -0.091874   |        -0.472643  |  0.0980203  |        0.7822   |\n",
    "| firstq    |   0.422726   |         2.08176   | -0.0272806  |       -0.209783 |\n",
    "| secondq   |  -0.0214781  |        -0.100532  | -0.11056    |       -0.868604 |\n",
    "| thirdq    |  -0.0361932  |        -0.166545  | -0.0529623  |       -0.412258 |\n",
    "| const     |  -6.12662    |        -4.12252   | -6.24737    |       -6.66383  |\n",
    "\n",
    "Final likelihood: `q = 0.3276` \n",
    "\n",
    "```      \n",
    "     Value of the log-likehood function: -3217.48\n",
    "```\n"
   ]
  },
  {
   "cell_type": "markdown",
   "metadata": {},
   "source": [
    "I have written the code to load the data. Use this data to estimate a multinomial logit model using the `estimate()` function, and print it using the `print_table()` function.\n",
    "\n",
    "You might get an error that states that the minimizer is unsure whether it found a solution. Reuse the code from above and check the size of the norm at the solution. Remember that you have to redefine `q` as well. Does the norm look fine to you?"
   ]
  },
  {
   "cell_type": "code",
   "execution_count": 85,
   "metadata": {},
   "outputs": [
    {
     "data": {
      "text/html": [
       "<div>\n",
       "<style scoped>\n",
       "    .dataframe tbody tr th:only-of-type {\n",
       "        vertical-align: middle;\n",
       "    }\n",
       "\n",
       "    .dataframe tbody tr th {\n",
       "        vertical-align: top;\n",
       "    }\n",
       "\n",
       "    .dataframe thead th {\n",
       "        text-align: right;\n",
       "    }\n",
       "</style>\n",
       "<table border=\"1\" class=\"dataframe\">\n",
       "  <thead>\n",
       "    <tr style=\"text-align: right;\">\n",
       "      <th></th>\n",
       "      <th>Labor outcome</th>\n",
       "      <th>alcohol</th>\n",
       "      <th>urate</th>\n",
       "      <th>age</th>\n",
       "      <th>agesq</th>\n",
       "      <th>schooling</th>\n",
       "      <th>married</th>\n",
       "      <th>famsize</th>\n",
       "      <th>white</th>\n",
       "      <th>excellent</th>\n",
       "      <th>...</th>\n",
       "      <th>good</th>\n",
       "      <th>fair</th>\n",
       "      <th>northeast</th>\n",
       "      <th>midwest</th>\n",
       "      <th>south</th>\n",
       "      <th>center</th>\n",
       "      <th>other</th>\n",
       "      <th>firstq</th>\n",
       "      <th>secondq</th>\n",
       "      <th>thirdq</th>\n",
       "    </tr>\n",
       "  </thead>\n",
       "  <tbody>\n",
       "    <tr>\n",
       "      <th>0</th>\n",
       "      <td>1.0</td>\n",
       "      <td>1.0</td>\n",
       "      <td>4.0</td>\n",
       "      <td>50.0</td>\n",
       "      <td>2500.0</td>\n",
       "      <td>4.0</td>\n",
       "      <td>1.0</td>\n",
       "      <td>1.0</td>\n",
       "      <td>1.0</td>\n",
       "      <td>0.0</td>\n",
       "      <td>...</td>\n",
       "      <td>0.0</td>\n",
       "      <td>0.0</td>\n",
       "      <td>0.0</td>\n",
       "      <td>1.0</td>\n",
       "      <td>0.0</td>\n",
       "      <td>0.0</td>\n",
       "      <td>0.0</td>\n",
       "      <td>1.0</td>\n",
       "      <td>0.0</td>\n",
       "      <td>0.0</td>\n",
       "    </tr>\n",
       "    <tr>\n",
       "      <th>1</th>\n",
       "      <td>3.0</td>\n",
       "      <td>0.0</td>\n",
       "      <td>4.0</td>\n",
       "      <td>37.0</td>\n",
       "      <td>1369.0</td>\n",
       "      <td>12.0</td>\n",
       "      <td>1.0</td>\n",
       "      <td>5.0</td>\n",
       "      <td>1.0</td>\n",
       "      <td>0.0</td>\n",
       "      <td>...</td>\n",
       "      <td>1.0</td>\n",
       "      <td>0.0</td>\n",
       "      <td>0.0</td>\n",
       "      <td>1.0</td>\n",
       "      <td>0.0</td>\n",
       "      <td>0.0</td>\n",
       "      <td>0.0</td>\n",
       "      <td>1.0</td>\n",
       "      <td>0.0</td>\n",
       "      <td>0.0</td>\n",
       "    </tr>\n",
       "    <tr>\n",
       "      <th>2</th>\n",
       "      <td>3.0</td>\n",
       "      <td>0.0</td>\n",
       "      <td>4.0</td>\n",
       "      <td>53.0</td>\n",
       "      <td>2809.0</td>\n",
       "      <td>9.0</td>\n",
       "      <td>1.0</td>\n",
       "      <td>3.0</td>\n",
       "      <td>1.0</td>\n",
       "      <td>1.0</td>\n",
       "      <td>...</td>\n",
       "      <td>0.0</td>\n",
       "      <td>0.0</td>\n",
       "      <td>0.0</td>\n",
       "      <td>1.0</td>\n",
       "      <td>0.0</td>\n",
       "      <td>0.0</td>\n",
       "      <td>0.0</td>\n",
       "      <td>1.0</td>\n",
       "      <td>0.0</td>\n",
       "      <td>0.0</td>\n",
       "    </tr>\n",
       "  </tbody>\n",
       "</table>\n",
       "<p>3 rows × 21 columns</p>\n",
       "</div>"
      ],
      "text/plain": [
       "   Labor outcome  alcohol  urate   age   agesq  schooling  married  famsize  \\\n",
       "0            1.0      1.0    4.0  50.0  2500.0        4.0      1.0      1.0   \n",
       "1            3.0      0.0    4.0  37.0  1369.0       12.0      1.0      5.0   \n",
       "2            3.0      0.0    4.0  53.0  2809.0        9.0      1.0      3.0   \n",
       "\n",
       "   white  excellent  ...  good  fair  northeast  midwest  south  center  \\\n",
       "0    1.0        0.0  ...   0.0   0.0        0.0      1.0    0.0     0.0   \n",
       "1    1.0        0.0  ...   1.0   0.0        0.0      1.0    0.0     0.0   \n",
       "2    1.0        1.0  ...   0.0   0.0        0.0      1.0    0.0     0.0   \n",
       "\n",
       "   other  firstq  secondq  thirdq  \n",
       "0    0.0     1.0      0.0     0.0  \n",
       "1    0.0     1.0      0.0     0.0  \n",
       "2    0.0     1.0      0.0     0.0  \n",
       "\n",
       "[3 rows x 21 columns]"
      ]
     },
     "execution_count": 85,
     "metadata": {},
     "output_type": "execute_result"
    }
   ],
   "source": [
    "data = np.loadtxt('terza.txt') # numpy array \n",
    "\n",
    "# y takes values 0: out of work force, 1: unemployed, 2: employed\n",
    "y_lab = 'Labor outcome'\n",
    "x_lab = ['alcohol', 'urate', 'age', 'agesq', 'schooling', 'married', 'famsize', 'white', \n",
    "         'excellent', 'verygood', 'good', 'fair', \n",
    "         'northeast', 'midwest', 'south', 'center', 'other', \n",
    "         'firstq', 'secondq', 'thirdq']\n",
    "y_values_lab = ['Out of labor force', 'Unemployed', 'Employed']\n",
    "\n",
    "# to inspect in a cleaner way\n",
    "df = pd.DataFrame(data, columns=[y_lab] + x_lab)\n",
    "df.head(3)"
   ]
  },
  {
   "cell_type": "code",
   "execution_count": 86,
   "metadata": {},
   "outputs": [],
   "source": [
    "y = data[:, 0] - 1  # Subtract 1 to make y base 0\n",
    "x = data[:, 1:]     # Every other column to the right our control vars\n",
    "\n",
    "y = y.astype(int)\n",
    "N = y.size\n",
    "\n",
    "# add constant to x \n",
    "oo = np.ones((N, 1))\n",
    "x = np.hstack((data[:, 1:], oo)) #Why adding the constant as the last column?\n",
    "K = x.shape[1]\n",
    "x_lab.append('const')\n",
    "\n",
    "J = len(np.unique(y))\n",
    "\n",
    "theta0 = np.zeros((K, J-1))"
   ]
  },
  {
   "cell_type": "code",
   "execution_count": 87,
   "metadata": {},
   "outputs": [
    {
     "data": {
      "text/plain": [
       "array([0, 2, 2, ..., 2, 2, 2])"
      ]
     },
     "execution_count": 87,
     "metadata": {},
     "output_type": "execute_result"
    }
   ],
   "source": [
    "y"
   ]
  },
  {
   "cell_type": "code",
   "execution_count": 88,
   "metadata": {},
   "outputs": [
    {
     "data": {
      "text/plain": [
       "array([[ 1. ,  4. , 50. , ...,  0. ,  0. ,  1. ],\n",
       "       [ 0. ,  4. , 37. , ...,  0. ,  0. ,  1. ],\n",
       "       [ 0. ,  4. , 53. , ...,  0. ,  0. ,  1. ],\n",
       "       ...,\n",
       "       [ 0. ,  6.7, 40. , ...,  0. ,  0. ,  1. ],\n",
       "       [ 0. ,  6.7, 29. , ...,  0. ,  0. ,  1. ],\n",
       "       [ 0. ,  7.7, 30. , ...,  0. ,  0. ,  1. ]])"
      ]
     },
     "execution_count": 88,
     "metadata": {},
     "output_type": "execute_result"
    }
   ],
   "source": [
    "x"
   ]
  },
  {
   "cell_type": "code",
   "execution_count": 89,
   "metadata": {},
   "outputs": [
    {
     "data": {
      "text/plain": [
       "array([0, 1, 2])"
      ]
     },
     "execution_count": 89,
     "metadata": {},
     "output_type": "execute_result"
    }
   ],
   "source": [
    "np.unique(y)"
   ]
  },
  {
   "cell_type": "code",
   "execution_count": 90,
   "metadata": {},
   "outputs": [
    {
     "name": "stdout",
     "output_type": "stream",
     "text": [
      "Warning: Desired error not necessarily achieved due to precision loss.\n",
      "         Current function value: 0.327579\n",
      "         Iterations: 284\n",
      "         Function evaluations: 14115\n",
      "         Gradient evaluations: 328\n"
     ]
    }
   ],
   "source": [
    "# Estimate the model using estimation.estimate() and mlogit.q, returning the results dictionary \n",
    "mlogit_result = estimation.estimate(mlogit.q, theta0, y, x) # Fill in"
   ]
  },
  {
   "cell_type": "markdown",
   "metadata": {},
   "source": [
    "        Desired error not necessarily achieved due to precision loss.\n",
    "\n",
    "         Current function value: 0.327579\n",
    "\n",
    "         Iterations: 286\n",
    "\n",
    "         Function evaluations: 14761\n",
    "\n",
    "         Gradient evaluations: 343"
   ]
  },
  {
   "cell_type": "code",
   "execution_count": 91,
   "metadata": {},
   "outputs": [
    {
     "data": {
      "text/plain": [
       "{'theta': array([ 1.26947901e-01, -1.53573327e-01,  4.57537925e-02, -9.55166835e-02,\n",
       "         1.62468007e-01,  2.27682238e-01, -2.44614907e-03, -3.08568163e-03,\n",
       "        -9.23585537e-03,  8.90393107e-02,  4.00316478e-01,  7.08422577e-01,\n",
       "         6.21842270e-02,  6.22032156e-02,  3.91814098e-02,  7.38064633e-01,\n",
       "         2.91858340e+00,  3.70305684e+00,  2.97856699e+00,  3.65356418e+00,\n",
       "         2.49418953e+00,  2.99972542e+00,  1.46050564e+00,  1.87639195e+00,\n",
       "         8.43102646e-02,  8.87392489e-02,  1.55093659e-02,  1.22885985e-01,\n",
       "         1.74899685e-01,  4.39306946e-01, -2.71525819e-01, -2.68834321e-01,\n",
       "        -9.18748264e-02,  9.80212013e-02,  4.22708577e-01, -2.72929195e-02,\n",
       "        -2.14759309e-02, -1.10561696e-01, -3.61691972e-02, -5.29543198e-02,\n",
       "        -6.12657517e+00, -6.24731636e+00]),\n",
       " 'se': array([2.17283688e-01, 1.41334772e-01, 5.44939719e-02, 3.43268722e-02,\n",
       "        6.72709360e-02, 4.18025199e-02, 8.08575775e-04, 4.87197428e-04,\n",
       "        2.71314164e-02, 1.47327088e-02, 1.87545689e-01, 1.14717289e-01,\n",
       "        5.00207447e-02, 3.16755655e-02, 1.76831950e-01, 1.04401265e-01,\n",
       "        4.55074286e-01, 1.81345718e-01, 4.59935143e-01, 1.87294363e-01,\n",
       "        4.52769987e-01, 1.73470143e-01, 4.88971844e-01, 1.82346306e-01,\n",
       "        2.41173939e-01, 1.49703458e-01, 2.09720991e-01, 1.30057265e-01,\n",
       "        2.08042832e-01, 1.27349787e-01, 1.96430872e-01, 1.21591395e-01,\n",
       "        1.94383495e-01, 1.25313617e-01, 2.03062120e-01, 1.30041904e-01,\n",
       "        2.13643933e-01, 1.27284579e-01, 2.17318116e-01, 1.28469058e-01,\n",
       "        1.48613536e+00, 9.37504640e-01]),\n",
       " 't': array([ 0.58424957, -1.08659267,  0.839612  , -2.78256297,  2.41512927,\n",
       "         5.44661516, -3.02525644, -6.33353431, -0.34041184,  6.04364831,\n",
       "         2.13450109,  6.1753776 ,  1.24316876,  1.96376022,  0.22157427,\n",
       "         7.06949894,  6.41342191, 20.41987471,  6.47605871, 19.50706959,\n",
       "         5.50873425, 17.29245948,  2.98689107, 10.29026576,  0.34958282,\n",
       "         0.59276686,  0.07395238,  0.9448606 ,  0.84069075,  3.44960879,\n",
       "        -1.38229708, -2.21096502, -0.47264726,  0.7822071 ,  2.08167125,\n",
       "        -0.20987788, -0.10052207, -0.86861816, -0.16643434, -0.41219513,\n",
       "        -4.12248798, -6.66377113]),\n",
       " 'cov': array([[ 4.72122012e-02,  1.76123159e-02, -3.76460210e-05, ...,\n",
       "          5.58995609e-04, -1.06251102e-02, -9.08594783e-03],\n",
       "        [ 1.76123159e-02,  1.99755177e-02, -5.28192855e-05, ...,\n",
       "          6.14662176e-04, -1.06346212e-02, -9.55181589e-03],\n",
       "        [-3.76460210e-05, -5.28192855e-05,  2.96959297e-03, ...,\n",
       "          9.34404495e-05, -2.23350523e-02, -7.98360471e-03],\n",
       "        ...,\n",
       "        [ 5.58995609e-04,  6.14662176e-04,  9.34404495e-05, ...,\n",
       "          1.65042989e-02, -4.76290129e-03, -3.45009232e-03],\n",
       "        [-1.06251102e-02, -1.06346212e-02, -2.23350523e-02, ...,\n",
       "         -4.76290129e-03,  2.20859832e+00,  7.85810188e-01],\n",
       "        [-9.08594783e-03, -9.55181589e-03, -7.98360471e-03, ...,\n",
       "         -3.45009232e-03,  7.85810188e-01,  8.78914951e-01]]),\n",
       " 'success': False,\n",
       " 'nit': 284,\n",
       " 'nfev': 14115,\n",
       " 'fun': 0.32757901210936496}"
      ]
     },
     "execution_count": 91,
     "metadata": {},
     "output_type": "execute_result"
    }
   ],
   "source": [
    "mlogit_result"
   ]
  },
  {
   "cell_type": "code",
   "execution_count": 92,
   "metadata": {},
   "outputs": [],
   "source": [
    "#x_lab = x_lab+['constant']"
   ]
  },
  {
   "cell_type": "code",
   "execution_count": 93,
   "metadata": {},
   "outputs": [
    {
     "data": {
      "text/html": [
       "<div>\n",
       "<style scoped>\n",
       "    .dataframe tbody tr th:only-of-type {\n",
       "        vertical-align: middle;\n",
       "    }\n",
       "\n",
       "    .dataframe tbody tr th {\n",
       "        vertical-align: top;\n",
       "    }\n",
       "\n",
       "    .dataframe thead th {\n",
       "        text-align: right;\n",
       "    }\n",
       "</style>\n",
       "<table border=\"1\" class=\"dataframe\">\n",
       "  <thead>\n",
       "    <tr style=\"text-align: right;\">\n",
       "      <th></th>\n",
       "      <th>Unemployed</th>\n",
       "      <th>(t, unemployed)</th>\n",
       "      <th>Employed</th>\n",
       "      <th>(t, employed)</th>\n",
       "    </tr>\n",
       "  </thead>\n",
       "  <tbody>\n",
       "    <tr>\n",
       "      <th>alcohol</th>\n",
       "      <td>0.126948</td>\n",
       "      <td>0.584250</td>\n",
       "      <td>-0.153573</td>\n",
       "      <td>-1.086593</td>\n",
       "    </tr>\n",
       "    <tr>\n",
       "      <th>urate</th>\n",
       "      <td>0.045754</td>\n",
       "      <td>0.839612</td>\n",
       "      <td>-0.095517</td>\n",
       "      <td>-2.782563</td>\n",
       "    </tr>\n",
       "    <tr>\n",
       "      <th>age</th>\n",
       "      <td>0.162468</td>\n",
       "      <td>2.415129</td>\n",
       "      <td>0.227682</td>\n",
       "      <td>5.446615</td>\n",
       "    </tr>\n",
       "    <tr>\n",
       "      <th>agesq</th>\n",
       "      <td>-0.002446</td>\n",
       "      <td>-3.025256</td>\n",
       "      <td>-0.003086</td>\n",
       "      <td>-6.333534</td>\n",
       "    </tr>\n",
       "    <tr>\n",
       "      <th>schooling</th>\n",
       "      <td>-0.009236</td>\n",
       "      <td>-0.340412</td>\n",
       "      <td>0.089039</td>\n",
       "      <td>6.043648</td>\n",
       "    </tr>\n",
       "    <tr>\n",
       "      <th>married</th>\n",
       "      <td>0.400316</td>\n",
       "      <td>2.134501</td>\n",
       "      <td>0.708423</td>\n",
       "      <td>6.175378</td>\n",
       "    </tr>\n",
       "    <tr>\n",
       "      <th>famsize</th>\n",
       "      <td>0.062184</td>\n",
       "      <td>1.243169</td>\n",
       "      <td>0.062203</td>\n",
       "      <td>1.963760</td>\n",
       "    </tr>\n",
       "    <tr>\n",
       "      <th>white</th>\n",
       "      <td>0.039181</td>\n",
       "      <td>0.221574</td>\n",
       "      <td>0.738065</td>\n",
       "      <td>7.069499</td>\n",
       "    </tr>\n",
       "    <tr>\n",
       "      <th>excellent</th>\n",
       "      <td>2.918583</td>\n",
       "      <td>6.413422</td>\n",
       "      <td>3.703057</td>\n",
       "      <td>20.419875</td>\n",
       "    </tr>\n",
       "    <tr>\n",
       "      <th>verygood</th>\n",
       "      <td>2.978567</td>\n",
       "      <td>6.476059</td>\n",
       "      <td>3.653564</td>\n",
       "      <td>19.507070</td>\n",
       "    </tr>\n",
       "    <tr>\n",
       "      <th>good</th>\n",
       "      <td>2.494190</td>\n",
       "      <td>5.508734</td>\n",
       "      <td>2.999725</td>\n",
       "      <td>17.292459</td>\n",
       "    </tr>\n",
       "    <tr>\n",
       "      <th>fair</th>\n",
       "      <td>1.460506</td>\n",
       "      <td>2.986891</td>\n",
       "      <td>1.876392</td>\n",
       "      <td>10.290266</td>\n",
       "    </tr>\n",
       "    <tr>\n",
       "      <th>northeast</th>\n",
       "      <td>0.084310</td>\n",
       "      <td>0.349583</td>\n",
       "      <td>0.088739</td>\n",
       "      <td>0.592767</td>\n",
       "    </tr>\n",
       "    <tr>\n",
       "      <th>midwest</th>\n",
       "      <td>0.015509</td>\n",
       "      <td>0.073952</td>\n",
       "      <td>0.122886</td>\n",
       "      <td>0.944861</td>\n",
       "    </tr>\n",
       "    <tr>\n",
       "      <th>south</th>\n",
       "      <td>0.174900</td>\n",
       "      <td>0.840691</td>\n",
       "      <td>0.439307</td>\n",
       "      <td>3.449609</td>\n",
       "    </tr>\n",
       "    <tr>\n",
       "      <th>center</th>\n",
       "      <td>-0.271526</td>\n",
       "      <td>-1.382297</td>\n",
       "      <td>-0.268834</td>\n",
       "      <td>-2.210965</td>\n",
       "    </tr>\n",
       "    <tr>\n",
       "      <th>other</th>\n",
       "      <td>-0.091875</td>\n",
       "      <td>-0.472647</td>\n",
       "      <td>0.098021</td>\n",
       "      <td>0.782207</td>\n",
       "    </tr>\n",
       "    <tr>\n",
       "      <th>firstq</th>\n",
       "      <td>0.422709</td>\n",
       "      <td>2.081671</td>\n",
       "      <td>-0.027293</td>\n",
       "      <td>-0.209878</td>\n",
       "    </tr>\n",
       "    <tr>\n",
       "      <th>secondq</th>\n",
       "      <td>-0.021476</td>\n",
       "      <td>-0.100522</td>\n",
       "      <td>-0.110562</td>\n",
       "      <td>-0.868618</td>\n",
       "    </tr>\n",
       "    <tr>\n",
       "      <th>thirdq</th>\n",
       "      <td>-0.036169</td>\n",
       "      <td>-0.166434</td>\n",
       "      <td>-0.052954</td>\n",
       "      <td>-0.412195</td>\n",
       "    </tr>\n",
       "    <tr>\n",
       "      <th>const</th>\n",
       "      <td>-6.126575</td>\n",
       "      <td>-4.122488</td>\n",
       "      <td>-6.247316</td>\n",
       "      <td>-6.663771</td>\n",
       "    </tr>\n",
       "  </tbody>\n",
       "</table>\n",
       "</div>"
      ],
      "text/plain": [
       "           Unemployed  (t, unemployed)  Employed  (t, employed)\n",
       "alcohol      0.126948         0.584250 -0.153573      -1.086593\n",
       "urate        0.045754         0.839612 -0.095517      -2.782563\n",
       "age          0.162468         2.415129  0.227682       5.446615\n",
       "agesq       -0.002446        -3.025256 -0.003086      -6.333534\n",
       "schooling   -0.009236        -0.340412  0.089039       6.043648\n",
       "married      0.400316         2.134501  0.708423       6.175378\n",
       "famsize      0.062184         1.243169  0.062203       1.963760\n",
       "white        0.039181         0.221574  0.738065       7.069499\n",
       "excellent    2.918583         6.413422  3.703057      20.419875\n",
       "verygood     2.978567         6.476059  3.653564      19.507070\n",
       "good         2.494190         5.508734  2.999725      17.292459\n",
       "fair         1.460506         2.986891  1.876392      10.290266\n",
       "northeast    0.084310         0.349583  0.088739       0.592767\n",
       "midwest      0.015509         0.073952  0.122886       0.944861\n",
       "south        0.174900         0.840691  0.439307       3.449609\n",
       "center      -0.271526        -1.382297 -0.268834      -2.210965\n",
       "other       -0.091875        -0.472647  0.098021       0.782207\n",
       "firstq       0.422709         2.081671 -0.027293      -0.209878\n",
       "secondq     -0.021476        -0.100522 -0.110562      -0.868618\n",
       "thirdq      -0.036169        -0.166434 -0.052954      -0.412195\n",
       "const       -6.126575        -4.122488 -6.247316      -6.663771"
      ]
     },
     "execution_count": 93,
     "metadata": {},
     "output_type": "execute_result"
    }
   ],
   "source": [
    "# print results from the result dictionary \n",
    "\n",
    "# we reshape the parameters in the same way as is done inside the utility function \n",
    "# this is because scipy.optimize.minimize works on a \"flattened\" (1-dim) array\n",
    "thetahat = mlogit_result['theta'].reshape(K, J-1) \n",
    "t        = mlogit_result['t'].reshape(K, J-1)\n",
    "\n",
    "tab = pd.DataFrame({\n",
    "    'Unemployed': thetahat[:,0], '(t, unemployed)': t[:,0],\n",
    "    'Employed':   thetahat[:,1], '(t, employed)':   t[:,1]\n",
    "},index=x_lab)\n",
    "tab"
   ]
  },
  {
   "cell_type": "markdown",
   "metadata": {},
   "source": [
    "    Unemployed\t(t, unemployed)\tEmployed\t(t, employed)\n",
    "    alcohol\t0.126947\t0.584246\t-0.153573\t-1.086592\n",
    "    urate\t0.045754\t0.839624\t-0.095516\t-2.782548\n",
    "    age\t0.162469\t2.415146\t0.227684\t5.446654\n",
    "    agesq\t-0.002446\t-3.025271\t-0.003086\t-6.333572\n",
    "    schooling\t-0.009236\t-0.340410\t0.089039\t6.043655\n",
    "    married\t0.400316\t2.134500\t0.708422\t6.175373\n",
    "    famsize\t0.062184\t1.243169\t0.062203\t1.963763\n",
    "    white\t0.039184\t0.221588\t0.738067\t7.069518\n",
    "    excellent\t2.918580\t6.413415\t3.703061\t20.419895\n",
    "    verygood\t2.978567\t6.476059\t3.653570\t19.507098\n",
    "    good\t2.494183\t5.508719\t2.999728\t17.292473\n",
    "    fair\t1.460500\t2.986879\t1.876395\t10.290281\n",
    "    northeast\t0.084316\t0.349606\t0.088749\t0.592829\n",
    "    midwest\t0.015506\t0.073935\t0.122890\t0.944891\n",
    "    south\t0.174901\t0.840699\t0.439314\t3.449662\n",
    "    center\t-0.271528\t-1.382306\t-0.268834\t-2.210962\n",
    "    other\t-0.091875\t-0.472649\t0.098022\t0.782216\n",
    "    firstq\t0.422694\t2.081601\t-0.027303\t-0.209955\n",
    "    secondq\t-0.021480\t-0.100542\t-0.110565\t-0.868647\n",
    "    thirdq\t-0.036152\t-0.166356\t-0.052949\t-0.412153\n",
    "    const\t-6.126599\t-4.122504\t-6.247361\t-6.663820"
   ]
  },
  {
   "cell_type": "code",
   "execution_count": 94,
   "metadata": {},
   "outputs": [],
   "source": [
    "# Calculate the norm of the gradient"
   ]
  },
  {
   "cell_type": "code",
   "execution_count": 95,
   "metadata": {},
   "outputs": [
    {
     "name": "stdout",
     "output_type": "stream",
     "text": [
      "q(thetahat)          =   0.3276\n",
      "2-norm of gradient   =  1.244e-07\n",
      "inf-norm of gradient =  6.848e-05\n"
     ]
    }
   ],
   "source": [
    "q = lambda theta: 1/N * np.sum(mlogit.q(theta, y, x))\n",
    "g = estimation.centered_grad(q, mlogit_result[\"theta\"]) # gradient at parameter estimates \n",
    "print(f'q(thetahat)          = {q(mlogit_result[\"theta\"]): 8.4g}')\n",
    "print(f'2-norm of gradient   = {np.mean(g ** 2): 8.4g}')\n",
    "print(f'inf-norm of gradient = {np.mean(np.abs(g)): 8.4g}')\n"
   ]
  },
  {
   "cell_type": "markdown",
   "metadata": {},
   "source": [
    "    q(thetahat)          =   0.3276\n",
    "    2-norm of gradient   =  1.265e-07\n",
    "    inf-norm of gradient =  6.847e-05"
   ]
  },
  {
   "cell_type": "markdown",
   "metadata": {},
   "source": [
    "# Question 5: Odds Ratio\n",
    "\n",
    "Consider a particular individual represented by\n",
    "the row vector of covariates\n",
    "$x_0 = (0, 6, 40, 40^2, 8, 0, 2, 1, 0, 0, 1, 0, 0, 1, 0, 1, 0, 1, 0, 0, 1)$\n",
    "where the first element indicates that the individual does not abuse\n",
    "alcohol ($x_0[1]= 0$). Note that to facilitate convergence we need to\n",
    "again rescale some of the covariates. Following the rescale proposed in\n",
    "the expost code, the vector of covariates will become\n",
    "$x_0 = (0, 0.6, 4, 1.6, 0.8, 0, 2, 1, 0, 0, 1, 0, 0, 1, 0, 1, 0, 1, 0, 0, 1)$.\n",
    "\n",
    "The odds ratio measures the probability of a given outcome to\n",
    "occur relative to the probability of a baseline outcome, conditional on\n",
    "the covariates. It is defined as:\n",
    "\n",
    "$$\n",
    "\\begin{aligned}\n",
    "\\frac{\\Pr(y_i=j|\\mathbf{x}_i)}{\\Pr(y_i=1|\\mathbf{x}_i)} = \\frac{\\frac{\\exp \\{ \\mathbf{x}_{i}\\boldsymbol{\\beta}_j \\}}{ \\sum_{l=1}^J \\exp \\{ \\mathbf{x}_{i}\\boldsymbol{\\beta}_l \\}}}   {\\frac{\\exp \\{ \\mathbf{x}_{i}\\boldsymbol{\\beta}_1 \\}}{ \\sum_{l=1}^J \\exp \\{ \\mathbf{x}_{i}\\boldsymbol{\\beta}_l \\}}} = \\exp\\{\\mathbf{x}_i \\boldsymbol{\\beta}_j\\}\n",
    "\\end{aligned}\n",
    "$$\n",
    "\n",
    "The odds ratio of being employed is therefore calculated as\n",
    "$x_0 \\beta_3$, where $\\beta_3$ is the vector of parameters\n",
    "estimated for the third outcome (being employed).\n",
    "\n",
    "- Calculate the odds ratio of being unemployed (should be around `0.593`).\n",
    "- Calculate the odds ratio of being employed  (should be around `5.742`).\n",
    "\n",
    "How do we interpret these odds ratios?"
   ]
  },
  {
   "cell_type": "code",
   "execution_count": 96,
   "metadata": {},
   "outputs": [],
   "source": [
    "# Consider some person\n",
    "x0 = np.array([[0, 6, 40, 40*40, 8, 0, 2, 1, 0, 0, 1, 0, 0, 1, 0, 1, 0, 1, 0, 0, 1]]).reshape(1, K)\n",
    "\n",
    "x1 = x0.copy()\n",
    "i_alco = 0 # variable corresponding to alcohol\n",
    "x1[0, i_alco] = 1.0 # sets alcohol abuse := 1 \n",
    "thetahat = mlogit_result['theta'].reshape(K, J-1)"
   ]
  },
  {
   "cell_type": "code",
   "execution_count": 97,
   "metadata": {},
   "outputs": [
    {
     "data": {
      "text/plain": [
       "(21, 2)"
      ]
     },
     "execution_count": 97,
     "metadata": {},
     "output_type": "execute_result"
    }
   ],
   "source": [
    "thetahat.shape"
   ]
  },
  {
   "cell_type": "code",
   "execution_count": 98,
   "metadata": {},
   "outputs": [
    {
     "data": {
      "text/html": [
       "<div>\n",
       "<style scoped>\n",
       "    .dataframe tbody tr th:only-of-type {\n",
       "        vertical-align: middle;\n",
       "    }\n",
       "\n",
       "    .dataframe tbody tr th {\n",
       "        vertical-align: top;\n",
       "    }\n",
       "\n",
       "    .dataframe thead th {\n",
       "        text-align: right;\n",
       "    }\n",
       "</style>\n",
       "<table border=\"1\" class=\"dataframe\">\n",
       "  <thead>\n",
       "    <tr style=\"text-align: right;\">\n",
       "      <th></th>\n",
       "      <th>Fictitious individual, \"x0\"</th>\n",
       "    </tr>\n",
       "  </thead>\n",
       "  <tbody>\n",
       "    <tr>\n",
       "      <th>alcohol</th>\n",
       "      <td>0</td>\n",
       "    </tr>\n",
       "    <tr>\n",
       "      <th>urate</th>\n",
       "      <td>6</td>\n",
       "    </tr>\n",
       "    <tr>\n",
       "      <th>age</th>\n",
       "      <td>40</td>\n",
       "    </tr>\n",
       "    <tr>\n",
       "      <th>agesq</th>\n",
       "      <td>1600</td>\n",
       "    </tr>\n",
       "    <tr>\n",
       "      <th>schooling</th>\n",
       "      <td>8</td>\n",
       "    </tr>\n",
       "    <tr>\n",
       "      <th>married</th>\n",
       "      <td>0</td>\n",
       "    </tr>\n",
       "    <tr>\n",
       "      <th>famsize</th>\n",
       "      <td>2</td>\n",
       "    </tr>\n",
       "    <tr>\n",
       "      <th>white</th>\n",
       "      <td>1</td>\n",
       "    </tr>\n",
       "    <tr>\n",
       "      <th>excellent</th>\n",
       "      <td>0</td>\n",
       "    </tr>\n",
       "    <tr>\n",
       "      <th>verygood</th>\n",
       "      <td>0</td>\n",
       "    </tr>\n",
       "    <tr>\n",
       "      <th>good</th>\n",
       "      <td>1</td>\n",
       "    </tr>\n",
       "    <tr>\n",
       "      <th>fair</th>\n",
       "      <td>0</td>\n",
       "    </tr>\n",
       "    <tr>\n",
       "      <th>northeast</th>\n",
       "      <td>0</td>\n",
       "    </tr>\n",
       "    <tr>\n",
       "      <th>midwest</th>\n",
       "      <td>1</td>\n",
       "    </tr>\n",
       "    <tr>\n",
       "      <th>south</th>\n",
       "      <td>0</td>\n",
       "    </tr>\n",
       "    <tr>\n",
       "      <th>center</th>\n",
       "      <td>1</td>\n",
       "    </tr>\n",
       "    <tr>\n",
       "      <th>other</th>\n",
       "      <td>0</td>\n",
       "    </tr>\n",
       "    <tr>\n",
       "      <th>firstq</th>\n",
       "      <td>1</td>\n",
       "    </tr>\n",
       "    <tr>\n",
       "      <th>secondq</th>\n",
       "      <td>0</td>\n",
       "    </tr>\n",
       "    <tr>\n",
       "      <th>thirdq</th>\n",
       "      <td>0</td>\n",
       "    </tr>\n",
       "    <tr>\n",
       "      <th>const</th>\n",
       "      <td>1</td>\n",
       "    </tr>\n",
       "  </tbody>\n",
       "</table>\n",
       "</div>"
      ],
      "text/plain": [
       "           Fictitious individual, \"x0\"\n",
       "alcohol                              0\n",
       "urate                                6\n",
       "age                                 40\n",
       "agesq                             1600\n",
       "schooling                            8\n",
       "married                              0\n",
       "famsize                              2\n",
       "white                                1\n",
       "excellent                            0\n",
       "verygood                             0\n",
       "good                                 1\n",
       "fair                                 0\n",
       "northeast                            0\n",
       "midwest                              1\n",
       "south                                0\n",
       "center                               1\n",
       "other                                0\n",
       "firstq                               1\n",
       "secondq                              0\n",
       "thirdq                               0\n",
       "const                                1"
      ]
     },
     "execution_count": 98,
     "metadata": {},
     "output_type": "execute_result"
    }
   ],
   "source": [
    "pd.DataFrame(x0, columns=x_lab, index=['Fictitious individual, \"x0\"']).T"
   ]
  },
  {
   "cell_type": "code",
   "execution_count": 99,
   "metadata": {},
   "outputs": [
    {
     "name": "stdout",
     "output_type": "stream",
     "text": [
      "0.597\n",
      "5.761\n"
     ]
    }
   ],
   "source": [
    "# odds ratio of being unemployed/employed vs being out of labor force\n",
    "odds_unemp = np.exp(x0@thetahat[:, 0]) # fill in, hint: pick thetahat only for j=0 (unemployed) and remember thetahat is K x (J-1), J=3\n",
    "odds_emp   = np.exp(x0@thetahat[:, 1]) # fill in, hint: pick thetahat only for j=1 (employed) and remember thetahat is K x (J-1), J=3\n",
    "print(f'{odds_unemp[0]:.3f}')\n",
    "print(f'{odds_emp[0]:.3f}')"
   ]
  },
  {
   "cell_type": "markdown",
   "metadata": {},
   "source": [
    "Expected output: 0.597 and 5.761"
   ]
  },
  {
   "cell_type": "markdown",
   "metadata": {},
   "source": [
    "# Question 6: Marginal Effects (discrete case)\n",
    "\n",
    "The marginal effect of a change in a binary covariate is computed by\n",
    "subtracting the conditional choice probability under the two possible\n",
    "values of the binary covariate $k$ (with and without alcohol\n",
    "abuse): \n",
    "$$\n",
    "\\begin{aligned}\n",
    "\\delta^d_j(x_{ik})=Pr(y_i=j|x_{ik}=1)-Pr(y_i=j|x_{ik}=0)\n",
    "\\end{aligned}\n",
    "$$\n",
    "\n",
    "- Cacluate the choice probability for person $x0$.\n",
    "- Cacluate the choice probability for the same person but now with alcholoh abuse set to 1 (`k=0`).\n",
    "- Subtrace the choice probabilty of x1 from x0.\n",
    "- You should get values close to `[ 0.0154  0.0211  -0.0365]`"
   ]
  },
  {
   "cell_type": "code",
   "execution_count": 100,
   "metadata": {},
   "outputs": [],
   "source": [
    "def marg_effect_discrete(betahat, x0, x1):\n",
    "    # Calculate the probabilities of x1 and x0, using betahat of the latest model estimation.\n",
    "    # Then substract the probability vector of x0 from the probability vector of x1.\n",
    "    prob_x1,_ = mlogit.choice_prob(betahat, x1) # Fill in: choice probability matrix at x1 \n",
    "    prob_x0,_ = mlogit.choice_prob(betahat, x0) # Fill in: choice probability matrix at x0\n",
    "    return (prob_x1 - prob_x0).flatten()"
   ]
  },
  {
   "cell_type": "code",
   "execution_count": 101,
   "metadata": {},
   "outputs": [
    {
     "data": {
      "text/html": [
       "<div>\n",
       "<style scoped>\n",
       "    .dataframe tbody tr th:only-of-type {\n",
       "        vertical-align: middle;\n",
       "    }\n",
       "\n",
       "    .dataframe tbody tr th {\n",
       "        vertical-align: top;\n",
       "    }\n",
       "\n",
       "    .dataframe thead th {\n",
       "        text-align: right;\n",
       "    }\n",
       "</style>\n",
       "<table border=\"1\" class=\"dataframe\">\n",
       "  <thead>\n",
       "    <tr style=\"text-align: right;\">\n",
       "      <th></th>\n",
       "      <th>Marginal effect (alcohol)</th>\n",
       "    </tr>\n",
       "  </thead>\n",
       "  <tbody>\n",
       "    <tr>\n",
       "      <th>Out of labor force</th>\n",
       "      <td>0.0152</td>\n",
       "    </tr>\n",
       "    <tr>\n",
       "      <th>Unemployed</th>\n",
       "      <td>0.0213</td>\n",
       "    </tr>\n",
       "    <tr>\n",
       "      <th>Employed</th>\n",
       "      <td>-0.0364</td>\n",
       "    </tr>\n",
       "  </tbody>\n",
       "</table>\n",
       "</div>"
      ],
      "text/plain": [
       "                    Marginal effect (alcohol)\n",
       "Out of labor force                     0.0152\n",
       "Unemployed                             0.0213\n",
       "Employed                              -0.0364"
      ]
     },
     "execution_count": 101,
     "metadata": {},
     "output_type": "execute_result"
    }
   ],
   "source": [
    "me_alc = marg_effect_discrete(thetahat, x0, x1)\n",
    "\n",
    "tab = pd.DataFrame({'Marginal effect (alcohol)': me_alc}, index=y_values_lab).round(4)\n",
    "tab"
   ]
  },
  {
   "cell_type": "markdown",
   "metadata": {},
   "source": [
    "Expected results: \n",
    "\n",
    "|                    |   Marginal effect (alcohol) |\n",
    "|:-------------------|----------------------------:|\n",
    "| Out of labor force |                      0.0152 |\n",
    "| Unemployed         |                      0.0213 |\n",
    "| Employed           |                     -0.0364 |"
   ]
  },
  {
   "cell_type": "code",
   "execution_count": 102,
   "metadata": {},
   "outputs": [],
   "source": [
    "prob,_ = mlogit.choice_prob(thetahat, x1) # Fill in: choice probability matrix at x1 "
   ]
  },
  {
   "cell_type": "code",
   "execution_count": 103,
   "metadata": {},
   "outputs": [
    {
     "data": {
      "text/plain": [
       "array([[0.1511068 , 0.10234084, 0.74655236]])"
      ]
     },
     "execution_count": 103,
     "metadata": {},
     "output_type": "execute_result"
    }
   ],
   "source": [
    "prob"
   ]
  },
  {
   "cell_type": "code",
   "execution_count": 104,
   "metadata": {},
   "outputs": [
    {
     "data": {
      "text/plain": [
       "(1, 3)"
      ]
     },
     "execution_count": 104,
     "metadata": {},
     "output_type": "execute_result"
    }
   ],
   "source": [
    "prob.shape"
   ]
  },
  {
   "cell_type": "markdown",
   "metadata": {},
   "source": [
    "# Question 7: Marginal Effects (continuous case)\n",
    "\n",
    "- Calculate the marginal effect of education (`schooling`, with `k=4`) using the above equation. $\\beta_{jk}$ is given to you.\n",
    "- You should get values close to `[-0.00940 -0.00632  0.0157]`\n",
    "\n",
    "The marginal effect for the multinomial logit model with respect to a\n",
    "continuous covariate $k$ (e.g., schooling) is:\n",
    "$$\n",
    "\\begin{aligned}\n",
    "\\frac{\\partial \\Pr(y_i=j\\mid x_i)}{\\partial x_{ik}} = p_{ij} \\left(\\beta_{jk} - \\sum_{l=1}^J p_{il}\\beta_{lk}\\right).\n",
    "\\end{aligned}\n",
    "$$\n",
    "\n",
    "We can calculate the full vector of marginal effects, \n",
    "$(  \\frac{\\partial \\Pr(y_i=0\\mid x_i)}{\\partial x_{ik}}, \n",
    "    \\frac{\\partial \\Pr(y_i=1\\mid x_i)}{\\partial x_{ik}}, \n",
    "    \\frac{\\partial \\Pr(y_i=2\\mid x_i)}{\\partial x_{ik}}\n",
    ")$, by using vector notation: \n",
    "$$\n",
    "\\frac{\\partial\\mathbf{p}_{i}}{\\partial x_{ik}}=\\mathbf{p}_{i}\\left(\\boldsymbol{\\beta}_{k}-\\sum_{l=1}^{J}p_{il}\\beta_{lk}\\right),\n",
    "$$ where $\\mathbf{p}_i$ is the $3 \\times 1$ vector $(p_{i0}, p_{i1}, p_{i2})$, and (in an unforgivable abuse of notation) $ \\boldsymbol{\\beta}_k = (\\beta_{0k}, \\beta_{1k}, \\beta_{2k})$ (a $J$-vector). Thus, the sum $\\sum_l p_{il} \\beta_{lk}$ can be written as the inner \"dot\" product of $\\mathbf{p}_i$ and $\\boldsymbol{\\beta}_k$. (And the coefficient for alcohold is $k = 4$ (in base 0).) \n"
   ]
  },
  {
   "cell_type": "code",
   "execution_count": 105,
   "metadata": {},
   "outputs": [
    {
     "data": {
      "text/plain": [
       "(21, 2)"
      ]
     },
     "execution_count": 105,
     "metadata": {},
     "output_type": "execute_result"
    }
   ],
   "source": [
    "thetahat.shape"
   ]
  },
  {
   "cell_type": "code",
   "execution_count": null,
   "metadata": {},
   "outputs": [],
   "source": []
  },
  {
   "cell_type": "code",
   "execution_count": 106,
   "metadata": {},
   "outputs": [],
   "source": [
    "def marg_effect_continuous(thetahat, theta_k, x):\n",
    "    '''\n",
    "        thetahat: (N,J-1) matrix of coefficients\n",
    "        theta_k: J-vector of coefficients on the k'th covariate\n",
    "        x: (N,K) matrix (possibly just N=1) of covariates\n",
    "    '''\n",
    "    N,K = x.shape\n",
    "    K,J_1 = thetahat.shape\n",
    "    J = J_1 + 1 # only coefficients for J-1 alternatives \n",
    "    \n",
    "    # 0. input checks \n",
    "    assert theta_k.ndim     == 2, f'\"theta_k\" should not be flattened (ndim==2 required)'\n",
    "    assert theta_k.shape[0] == J, f'\"theta_k\" should be {J=}, but got {theta_k.shape[0]}'\n",
    "    assert theta_k.shape[1] == 1, f'\"theta_k\" must be a column J-vector'\n",
    "    \n",
    "    # 1. compute derivative: return flattened (N*J, )\n",
    "    prob, _ = mlogit.choice_prob(thetahat, x) \n",
    "    # Fill in \n",
    "\n",
    "    start = (prob@theta_k)\n",
    "\n",
    "    margeff = prob.T*(theta_k-start)\n",
    "\n",
    "    return margeff"
   ]
  },
  {
   "cell_type": "code",
   "execution_count": 107,
   "metadata": {},
   "outputs": [
    {
     "data": {
      "text/plain": [
       "array([0, 1, 2])"
      ]
     },
     "execution_count": 107,
     "metadata": {},
     "output_type": "execute_result"
    }
   ],
   "source": [
    "np.unique(y)"
   ]
  },
  {
   "cell_type": "code",
   "execution_count": 108,
   "metadata": {},
   "outputs": [
    {
     "data": {
      "text/plain": [
       "array([-0.00937432, -0.00634092,  0.01571524])"
      ]
     },
     "execution_count": 108,
     "metadata": {},
     "output_type": "execute_result"
    }
   ],
   "source": [
    "thetahat_educ = np.hstack([0.0, thetahat[4, :]]).reshape(J,1)\n",
    "me_educ = marg_effect_continuous(thetahat, thetahat_educ, x0).flatten()\n",
    "me_educ"
   ]
  },
  {
   "cell_type": "code",
   "execution_count": 109,
   "metadata": {},
   "outputs": [
    {
     "data": {
      "text/html": [
       "<div>\n",
       "<style scoped>\n",
       "    .dataframe tbody tr th:only-of-type {\n",
       "        vertical-align: middle;\n",
       "    }\n",
       "\n",
       "    .dataframe tbody tr th {\n",
       "        vertical-align: top;\n",
       "    }\n",
       "\n",
       "    .dataframe thead th {\n",
       "        text-align: right;\n",
       "    }\n",
       "</style>\n",
       "<table border=\"1\" class=\"dataframe\">\n",
       "  <thead>\n",
       "    <tr style=\"text-align: right;\">\n",
       "      <th></th>\n",
       "      <th>Marginal effect (education)</th>\n",
       "    </tr>\n",
       "  </thead>\n",
       "  <tbody>\n",
       "    <tr>\n",
       "      <th>Out of labor force</th>\n",
       "      <td>-0.009374</td>\n",
       "    </tr>\n",
       "    <tr>\n",
       "      <th>Unemployed</th>\n",
       "      <td>-0.006341</td>\n",
       "    </tr>\n",
       "    <tr>\n",
       "      <th>Employed</th>\n",
       "      <td>0.015715</td>\n",
       "    </tr>\n",
       "  </tbody>\n",
       "</table>\n",
       "</div>"
      ],
      "text/plain": [
       "                    Marginal effect (education)\n",
       "Out of labor force                    -0.009374\n",
       "Unemployed                            -0.006341\n",
       "Employed                               0.015715"
      ]
     },
     "execution_count": 109,
     "metadata": {},
     "output_type": "execute_result"
    }
   ],
   "source": [
    "tab = pd.DataFrame({'Marginal effect (education)': me_educ}, index=y_values_lab).round(6)\n",
    "tab"
   ]
  },
  {
   "cell_type": "markdown",
   "metadata": {},
   "source": [
    "Expected results: \n",
    "\n",
    "|                    |   Marginal effect (education) |\n",
    "|:-------------------|----------------------------:|\n",
    "| Out of labor force |                   -0.009374 |\n",
    "| Unemployed         |                   -0.006341 |\n",
    "| Employed           |                    0.015715 |"
   ]
  },
  {
   "cell_type": "markdown",
   "metadata": {},
   "source": [
    "#### Testing our derivative with a numerical derivative\n",
    "To test our results, we can also simply compute a finite difference partial effect wrt. the $k$'th entry in `x0`. To do so, we want to use the simple standard formula for a numerical derivative \n",
    "$$ f'(x) \\cong \\frac{f((1+h)x)-f(x)}{hx}, \\quad \\text{for }h \\text{ small.} $$\n",
    "However, the function `mlogit.choice_prob` takes several inputs, and they are in vector form, so we write a small \"wrapper function\" that takes only a *scalar* as input, `x_k`, and fixes the remaining values and calls `mlogit.choice_prob`. "
   ]
  },
  {
   "cell_type": "code",
   "execution_count": 110,
   "metadata": {},
   "outputs": [
    {
     "name": "stdout",
     "output_type": "stream",
     "text": [
      "[[-0.00937432 -0.00634092  0.01571524]]\n"
     ]
    }
   ],
   "source": [
    "# numerical partial derivative  \n",
    "k = 4\n",
    "def f(x_k): \n",
    "    '''choice_prob_handle: Function handle taking *scalar* inputs (for doing a numerical first difference)'''\n",
    "    assert np.isscalar(x_k), 'This function is defined for scalar values'\n",
    "    # x0 comes from \"global\" memory scope (set outside this function)\n",
    "    x0_ = np.copy(x0).astype(float) # we take a copy to avoid overwriting x0 (in python, you can write to inputs)\n",
    "    x0_[:,k] = x_k # we change the k'th regressor, setting it equal to the scalar input everywhere \n",
    "    prob, _ = mlogit.choice_prob(thetahat, x0_) # evaluate choice probabilities on the new x0 \n",
    "    return prob\n",
    "\n",
    "# compute numerical finite difference\n",
    "h = 1e-8\n",
    "x0_k = x0[0,k] # years of education in our x0 vector \n",
    "f0 = f(x0_k)        # base\n",
    "f1 = f(x0_k*(1+h))  # forward step \n",
    "me_educ_num = (f1 - f0) / (h*x0_k)   # newton quotient\n",
    "print(me_educ_num) # verify that this gives the same numbers"
   ]
  },
  {
   "cell_type": "markdown",
   "metadata": {},
   "source": [
    "## Bootstrapping to get standard errors of marginal effects.\n",
    "\n",
    "Since we are not able to directly calculate variances for the marginal effects, we can use bootstrapping instead. This is done by taking a sample of our data, but with replacement. This means that we create a new data set as a random draw form our original data set, but we allow that the same observation is drawn multiple times. This new data set has the same number of observations as the original, but will differ sligthly since we now (may) have some duplicates.\n",
    "\n",
    "The procedure works as follows: \n",
    "* For each bootstrap iteration do: \n",
    "    1. Draw bootstrap sample (with replacement) \n",
    "    2. Estimate $\\hat{\\theta}$\n",
    "    3. Compute marginal effects using 1-2. \n",
    "\n",
    "We do this for many bootstrap iterations and then calculate the empirical standard deviation of the stored marginal effects over bootstrap iterations. This standard deviation is what we will use as our estimate of the *standard error* of the marginal effects. \n",
    "\n",
    "Do this in 4 steps: \n",
    "1. Write a function that, for a given dataset, `y`,`x`, runs estimation and computes marginal effects (2, 3). \n",
    "2. Write a function that draws a bootstrap sample with replacement from the original dataset. \n",
    "3. Run the bootstrap procedure. \n",
    "4. Print results. "
   ]
  },
  {
   "cell_type": "markdown",
   "metadata": {},
   "source": [
    "### Part 1: Estimating and computing marginal effects in one go\n",
    "\n",
    "First, we write a function that does everything we did above, given an input dataset, `y`, `x`\n",
    "1. Estimate parameters, \n",
    "2. Compute marginal effect for alcohol (discrete) \n",
    "3. Compute marginal effect for education (continuous)\n",
    "    - Construct the $J$-sub-vector of education betas (adding the normalized $\\theta_{40}=0$ in front)\n",
    "    - Compute marginal effect using the analytic formula "
   ]
  },
  {
   "cell_type": "code",
   "execution_count": 111,
   "metadata": {},
   "outputs": [],
   "source": [
    "def estimate_and_compute_marg_effs(y, x, x0, x1, theta_start, disp=False): \n",
    "    '''Estimate and compute marginal effects\n",
    "    Args. \n",
    "        y: N-vector of discrete outcomes\n",
    "        x: N*J matrix of explanatory variables\n",
    "        x0: K-vector of explanatory variables \n",
    "        x1: K-vector, alcohol switched on \n",
    "        \n",
    "    Returns\n",
    "        tuple of floats: \n",
    "            me_alco: marginal effect wrt. alcohol (discrete)\n",
    "            me_educ: marginal effect wrt. education (continuous)\n",
    "    '''\n",
    "    assert y.ndim == 1 , 'y must be a flattened array'\n",
    "    assert x.ndim == 2 , 'x must be 2-dimensional'\n",
    "    assert theta_start.ndim == 2, 'theta_start should be 2-dimensional'\n",
    "    assert theta_start.shape[0] == x.shape[1], 'theta_start and x should conform'\n",
    "    \n",
    "    N,K = x.shape\n",
    "    _,J_1 = theta_start.shape \n",
    "    J = J_1 + 1 \n",
    "    \n",
    "    # 1. estimate \n",
    "    res =  estimation.estimate(mlogit.q, theta_start, y, x) # Fill in: estimate parameters\n",
    "    betahat = res['theta'].reshape(K,J-1)\n",
    "    \n",
    "    # 2. marginal effect of alcohol \n",
    "    me_alco = marg_effect_discrete(betahat, x0, x1) # FILL IN \n",
    "    \n",
    "    # 3. marginal effect of education \n",
    "    betahat_educ = np.hstack([0.0, betahat[4, :]]).reshape(J,1)\n",
    "\n",
    "    me_educ = marg_effect_continuous(betahat, betahat_educ, x0) # Fill in \n",
    "    \n",
    "    # 4. return \n",
    "    return me_alco, me_educ.flatten()"
   ]
  },
  {
   "cell_type": "markdown",
   "metadata": {},
   "source": [
    "Evaluate the function for our baseline dataset and note how long it takes. "
   ]
  },
  {
   "cell_type": "code",
   "execution_count": 112,
   "metadata": {},
   "outputs": [
    {
     "name": "stdout",
     "output_type": "stream",
     "text": [
      "Warning: Desired error not necessarily achieved due to precision loss.\n",
      "         Current function value: 0.327579\n",
      "         Iterations: 0\n",
      "         Function evaluations: 2119\n",
      "         Gradient evaluations: 49\n",
      "Alco: [ 0.0152  0.0213 -0.0364]\n",
      "Educ: [-0.0094 -0.0063  0.0157]\n",
      "Wall time: 17.7 s\n"
     ]
    }
   ],
   "source": [
    "%%time \n",
    "me_alco, me_educ = estimate_and_compute_marg_effs(y,x,x0,x1,theta_start=thetahat)\n",
    "print(f'Alco: {me_alco.round(4)}')\n",
    "print(f'Educ: {me_educ.round(4)}')"
   ]
  },
  {
   "cell_type": "markdown",
   "metadata": {},
   "source": [
    "    Alco: [ 0.0152  0.0213 -0.0364]\n",
    "    Educ: [-0.0094 -0.0063  0.0157]\n",
    "    CPU times: user 9.95 s, sys: 180 ms, total: 10.1 s\n",
    "    Wall time: 5.7 s"
   ]
  },
  {
   "cell_type": "markdown",
   "metadata": {},
   "source": [
    "Expected results:\n",
    "\n",
    "Alco: [ 0.0152  0.0213 -0.0364] \n",
    "\n",
    "Educ: [-0.0094 -0.0063  0.0157]"
   ]
  },
  {
   "cell_type": "markdown",
   "metadata": {},
   "source": [
    "### Part 2: Function to draw a bootstrap sample\n",
    "\n",
    "The function should draw *indices* for the observations (rows) to be drawn. \n",
    "* *Hint:* Look at the function `np.random.choice(Nmax, Nsamples, replace=True)`. "
   ]
  },
  {
   "cell_type": "code",
   "execution_count": 113,
   "metadata": {},
   "outputs": [],
   "source": [
    "def bootstrap_sample(y,x): \n",
    "    '''bootstrap_sample: samples a new dataset (with replacement) from the input. \n",
    "    Args. \n",
    "        y: 1-dimensional N-array\n",
    "        x: (N,K) matrix \n",
    "    Returns\n",
    "        tuple: y_i, x_i \n",
    "            y_i: N-array\n",
    "            x_i: (N,K) matrix \n",
    "    '''\n",
    "    N = y.size\n",
    "    \n",
    "    # FILL IN \n",
    "    ii_boot = np.random.choice(N, N, replace=True) # vector of indices for rows \n",
    "\n",
    "    y_i = y[ii_boot] # selection of N rows from y \n",
    "    x_i = x[ii_boot] # selection of N rows from x \n",
    "    \n",
    "    return y_i, x_i "
   ]
  },
  {
   "cell_type": "markdown",
   "metadata": {},
   "source": [
    "### Part 3: Run the bootstrap procedure"
   ]
  },
  {
   "cell_type": "code",
   "execution_count": 114,
   "metadata": {},
   "outputs": [
    {
     "name": "stdout",
     "output_type": "stream",
     "text": [
      "Bootstrap iteration 1/10\n",
      "Optimization terminated successfully.\n",
      "         Current function value: 0.340120\n",
      "         Iterations: 244\n",
      "         Function evaluations: 10879\n",
      "         Gradient evaluations: 253\n",
      "Bootstrap iteration 2/10\n",
      "Optimization terminated successfully.\n",
      "         Current function value: 0.334830\n",
      "         Iterations: 273\n",
      "         Function evaluations: 12298\n",
      "         Gradient evaluations: 286\n",
      "Bootstrap iteration 3/10\n",
      "Optimization terminated successfully.\n",
      "         Current function value: 0.330143\n",
      "         Iterations: 288\n",
      "         Function evaluations: 13373\n",
      "         Gradient evaluations: 311\n",
      "Bootstrap iteration 4/10\n",
      "Optimization terminated successfully.\n",
      "         Current function value: 0.327061\n",
      "         Iterations: 252\n",
      "         Function evaluations: 11180\n",
      "         Gradient evaluations: 260\n",
      "Bootstrap iteration 5/10\n",
      "Optimization terminated successfully.\n",
      "         Current function value: 0.325983\n",
      "         Iterations: 277\n",
      "         Function evaluations: 12212\n",
      "         Gradient evaluations: 284\n",
      "Bootstrap iteration 6/10\n",
      "Optimization terminated successfully.\n",
      "         Current function value: 0.314904\n",
      "         Iterations: 288\n",
      "         Function evaluations: 12986\n",
      "         Gradient evaluations: 302\n",
      "Bootstrap iteration 7/10\n",
      "Optimization terminated successfully.\n",
      "         Current function value: 0.315060\n",
      "         Iterations: 287\n",
      "         Function evaluations: 13072\n",
      "         Gradient evaluations: 304\n",
      "Bootstrap iteration 8/10\n",
      "Warning: Desired error not necessarily achieved due to precision loss.\n",
      "         Current function value: 0.319798\n",
      "         Iterations: 290\n",
      "         Function evaluations: 14460\n",
      "         Gradient evaluations: 336\n",
      "Bootstrap iteration 9/10\n",
      "Optimization terminated successfully.\n",
      "         Current function value: 0.317299\n",
      "         Iterations: 301\n",
      "         Function evaluations: 13545\n",
      "         Gradient evaluations: 315\n",
      "Bootstrap iteration 10/10\n",
      "Optimization terminated successfully.\n",
      "         Current function value: 0.327910\n",
      "         Iterations: 295\n",
      "         Function evaluations: 13201\n",
      "         Gradient evaluations: 307\n"
     ]
    }
   ],
   "source": [
    "nboot = 10  # Number of bootstraps, should ideally be very large \n",
    "\n",
    "# Set seed for random sampling.\n",
    "seed = 42\n",
    "rng = default_rng()\n",
    "\n",
    "# initialize \n",
    "me_alco = np.empty((nboot,J))\n",
    "me_educ = np.empty((nboot,J))\n",
    "\n",
    "for i in range(nboot): \n",
    "    print(f'Bootstrap iteration {i+1}/{nboot}')\n",
    "    \n",
    "    # 1. choose which individuals to draw\n",
    "    y_i, x_i = bootstrap_sample(y,x) # Fill in: call the bootstrap sample function \n",
    "    # 2. estimate and compute \n",
    "    ma, me = estimate_and_compute_marg_effs(y_i, x_i, x0, x1, theta_start=theta0) # FILL IN: estimate and compute MEs using the function from earlier \n",
    "    me_alco[i,:] = ma\n",
    "    me_educ[i,:] = me"
   ]
  },
  {
   "cell_type": "markdown",
   "metadata": {},
   "source": [
    "### Part 4: Show the results \n",
    "\n",
    "***Note:*** For results to believable in practice, the number of bootstrap repititions needs to be quite high, over 100 and preferably 1000. "
   ]
  },
  {
   "cell_type": "code",
   "execution_count": 115,
   "metadata": {},
   "outputs": [
    {
     "data": {
      "image/png": "[encoded data removed]",
      "text/plain": [
       "<Figure size 640x480 with 1 Axes>"
      ]
     },
     "metadata": {},
     "output_type": "display_data"
    }
   ],
   "source": [
    "j = 1\n",
    "plt.hist(me_alco[:, j], bins=30); \n",
    "plt.xlabel(f'Marginal effect of alcohol on Pr(y={j}) ({y_values_lab[j]})'); \n",
    "plt.ylabel('Bootstrap samples'); "
   ]
  },
  {
   "cell_type": "markdown",
   "metadata": {},
   "source": [
    "Here is a function to make a semi-nice table to print the coefficients, and their 95% confidence interval."
   ]
  },
  {
   "cell_type": "code",
   "execution_count": 116,
   "metadata": {},
   "outputs": [],
   "source": [
    "from tabulate import tabulate\n",
    "\n",
    "def me_table(me_coeff, me_se, **kwargs):\n",
    "    table = np.column_stack(\n",
    "        (me_coeff, me_coeff -1.96*me_se, me_coeff +1.96*me_se)\n",
    "    )\n",
    "    print(tabulate(table, **kwargs))"
   ]
  },
  {
   "cell_type": "code",
   "execution_count": 117,
   "metadata": {},
   "outputs": [],
   "source": [
    "def me_table(me: np.ndarray): \n",
    "    assert me.ndim == 2 \n",
    "    n_boot,J = me.shape \n",
    "    \n",
    "    m = me.mean(0)\n",
    "    se = me.std(0)\n",
    "    tab = pd.DataFrame({\n",
    "                  'Mean m.e.': m, \n",
    "                  '-1.96 se':  m-se*1.96,\n",
    "                  '+1.96 se':  m+se*1.96\n",
    "                 },\n",
    "                index=y_values_lab)\n",
    "    return tab "
   ]
  },
  {
   "cell_type": "code",
   "execution_count": 118,
   "metadata": {},
   "outputs": [
    {
     "data": {
      "text/html": [
       "<div>\n",
       "<style scoped>\n",
       "    .dataframe tbody tr th:only-of-type {\n",
       "        vertical-align: middle;\n",
       "    }\n",
       "\n",
       "    .dataframe tbody tr th {\n",
       "        vertical-align: top;\n",
       "    }\n",
       "\n",
       "    .dataframe thead th {\n",
       "        text-align: right;\n",
       "    }\n",
       "</style>\n",
       "<table border=\"1\" class=\"dataframe\">\n",
       "  <thead>\n",
       "    <tr style=\"text-align: right;\">\n",
       "      <th></th>\n",
       "      <th>Mean m.e.</th>\n",
       "      <th>-1.96 se</th>\n",
       "      <th>+1.96 se</th>\n",
       "    </tr>\n",
       "  </thead>\n",
       "  <tbody>\n",
       "    <tr>\n",
       "      <th>Out of labor force</th>\n",
       "      <td>0.022</td>\n",
       "      <td>-0.0091</td>\n",
       "      <td>0.0531</td>\n",
       "    </tr>\n",
       "    <tr>\n",
       "      <th>Unemployed</th>\n",
       "      <td>0.014</td>\n",
       "      <td>-0.0168</td>\n",
       "      <td>0.0447</td>\n",
       "    </tr>\n",
       "    <tr>\n",
       "      <th>Employed</th>\n",
       "      <td>-0.036</td>\n",
       "      <td>-0.0687</td>\n",
       "      <td>-0.0033</td>\n",
       "    </tr>\n",
       "  </tbody>\n",
       "</table>\n",
       "</div>"
      ],
      "text/plain": [
       "                    Mean m.e.  -1.96 se  +1.96 se\n",
       "Out of labor force      0.022   -0.0091    0.0531\n",
       "Unemployed              0.014   -0.0168    0.0447\n",
       "Employed               -0.036   -0.0687   -0.0033"
      ]
     },
     "execution_count": 118,
     "metadata": {},
     "output_type": "execute_result"
    }
   ],
   "source": [
    "me_table(me_alco).round(4)"
   ]
  },
  {
   "cell_type": "markdown",
   "metadata": {},
   "source": [
    "Expected result:\n",
    "(NB since the bootstrap samples are random draws you might need to re-run the entire code to re-set the seed and match these results)\n",
    "\n",
    "|                      |   Mean m.e. |           -1.96 se |    +1.96 se |  \n",
    "|:---------------------|-------------:|------------------:|------------:|\n",
    "| Out of labor force   |   0.0254     |         -0.0069   | 0.0577      |\n",
    "| Unemployed           |   0.0146     |         -0.0159   | 0.0452      |  \n",
    "| Employed             |   -0.0400\t  |         -0.0704   |  -0.0096    |   \n"
   ]
  },
  {
   "cell_type": "code",
   "execution_count": 119,
   "metadata": {},
   "outputs": [
    {
     "data": {
      "text/html": [
       "<div>\n",
       "<style scoped>\n",
       "    .dataframe tbody tr th:only-of-type {\n",
       "        vertical-align: middle;\n",
       "    }\n",
       "\n",
       "    .dataframe tbody tr th {\n",
       "        vertical-align: top;\n",
       "    }\n",
       "\n",
       "    .dataframe thead th {\n",
       "        text-align: right;\n",
       "    }\n",
       "</style>\n",
       "<table border=\"1\" class=\"dataframe\">\n",
       "  <thead>\n",
       "    <tr style=\"text-align: right;\">\n",
       "      <th></th>\n",
       "      <th>Mean m.e.</th>\n",
       "      <th>-1.96 se</th>\n",
       "      <th>+1.96 se</th>\n",
       "    </tr>\n",
       "  </thead>\n",
       "  <tbody>\n",
       "    <tr>\n",
       "      <th>Out of labor force</th>\n",
       "      <td>-0.0087</td>\n",
       "      <td>-0.0134</td>\n",
       "      <td>-0.0040</td>\n",
       "    </tr>\n",
       "    <tr>\n",
       "      <th>Unemployed</th>\n",
       "      <td>-0.0064</td>\n",
       "      <td>-0.0113</td>\n",
       "      <td>-0.0016</td>\n",
       "    </tr>\n",
       "    <tr>\n",
       "      <th>Employed</th>\n",
       "      <td>0.0151</td>\n",
       "      <td>0.0107</td>\n",
       "      <td>0.0196</td>\n",
       "    </tr>\n",
       "  </tbody>\n",
       "</table>\n",
       "</div>"
      ],
      "text/plain": [
       "                    Mean m.e.  -1.96 se  +1.96 se\n",
       "Out of labor force    -0.0087   -0.0134   -0.0040\n",
       "Unemployed            -0.0064   -0.0113   -0.0016\n",
       "Employed               0.0151    0.0107    0.0196"
      ]
     },
     "execution_count": 119,
     "metadata": {},
     "output_type": "execute_result"
    }
   ],
   "source": [
    "me_table(me_educ).round(4)"
   ]
  },
  {
   "cell_type": "markdown",
   "metadata": {},
   "source": [
    "Expected result:\n",
    "(NB since the bootstrap samples are random draws you might need to re-run the entire code to re-set the seed and match these results)\n",
    "\n",
    "|                      |   Mean m.e. |           -1.96 se |    +1.96 se |  \n",
    "|:---------------------|-------------:|------------------:|------------:|\n",
    "| Out of labor force   |   -0.0090    |         -0.0139   | -0.0040     |\n",
    "| Unemployed           |   -0.0066    |         -0.0112   | -0.0020     |  \n",
    "| Employed             |   0.0156\t  |         0.0113    |  0.0198     |   \n"
   ]
  },
  {
   "cell_type": "code",
   "execution_count": null,
   "metadata": {},
   "outputs": [],
   "source": []
  }
 ],
 "metadata": {
  "kernelspec": {
   "display_name": "Python 3.9.15 ('base')",
   "language": "python",
   "name": "python3"
  },
  "language_info": {
   "codemirror_mode": {
    "name": "ipython",
    "version": 3
   },
   "file_extension": ".py",
   "mimetype": "text/x-python",
   "name": "python",
   "nbconvert_exporter": "python",
   "pygments_lexer": "ipython3",
   "version": "3.9.15"
  },
  "vscode": {
   "interpreter": {
    "hash": "054e95b4819972eba8d406807e822e3be9cca805528e86310f8e3ac8dc287778"
   }
  }
 },
 "nbformat": 4,
 "nbformat_minor": 4
}
