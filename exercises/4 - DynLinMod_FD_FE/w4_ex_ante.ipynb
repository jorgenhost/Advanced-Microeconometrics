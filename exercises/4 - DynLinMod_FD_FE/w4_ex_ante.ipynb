{
 "cells": [
  {
   "cell_type": "markdown",
   "metadata": {},
   "source": [
    "# Dynamic linear models"
   ]
  },
  {
   "cell_type": "code",
   "execution_count": 3,
   "metadata": {},
   "outputs": [],
   "source": [
    "import numpy as np\n",
    "from numpy import linalg as la\n",
    "from tabulate import tabulate \n",
    "import pandas as pd \n",
    "import LinearDynamic_ante as lm\n",
    "from scipy.stats import chi2\n",
    "import seaborn as sns\n",
    "sns.set_theme();\n",
    "\n",
    "np.set_printoptions(precision=5)\n",
    "%load_ext autoreload\n",
    "%autoreload 2"
   ]
  },
  {
   "cell_type": "markdown",
   "metadata": {},
   "source": [
    "# Prepare the data\n",
    "\n",
    "In this problem set, we consider the question of state dependence in **firm revenue** ($y$). The data, `cvr_extract.csv`, comes from the Danish register of firms, \"CVR registret\". It can be reconstructed or modified by downloading the tax files from [skst.dk](https://www.sktst.dk/aktuelt/skatteoplysninger-for-selskaber/) and running the notebook `clean_data.ipynb`. The accompanying notebook, `analysis.ipynb`, does some overly simplistic analyzing that illustrates some questions one might want to explore with the data. \n",
    "\n",
    "**Research question:** Should we provide assistance to firms? If the effects of adverse shocks (such as a pandemic) are very persistent, then we want to provide a safety net for firms. Conversely, if firms just rebound after a shock, that can be a waste of tax funds. \n",
    "\n",
    "The data consists of all firms observed in every year from 2012-2019, which satisfy that the net income (pre-tax) was below 10 mio. DKK. The variables in the data are: \n",
    "\n",
    "  |*Variable*  | *Content* |\n",
    "  |------------| --------------------------------------------|\n",
    "  |`net_inc`          | Net income (`income - deficit`) |\n",
    "  |`taxable_income`          | Income |\n",
    "  |`deficit`          | Losses |\n",
    "  |`tax`          | Tax payment |\n",
    " | `cat`         | A categorical variable, based on the dummies, `dum_X` below |\n",
    "  | `dum_X`          | Dummy for whether the firm's name contains the string `X` (in Danish) |\n",
    "  \n",
    "  The dummies, e.g. `dum_doctor`, are explained below \n",
    "\n",
    "| **Substring** | **If name contains** | \n",
    "| ---- | ------ | \n",
    "| `as` | 'a/s' | \n",
    "| `aps` | 'aps' | \n",
    "| `ivs` | 'ivs' | \n",
    "| `ab` | 'a/b' | \n",
    "| `realestate` | 'ejendom' | \n",
    "| `holding` | 'holding' | \n",
    "| `invest` | 'invest' | \n",
    "| `consult` | 'consult' | \n",
    "| `service` | 'service' | \n",
    "| `dot_dk` | '.dk' | \n",
    "| `doctor` | 'læge' | \n",
    "| `carpenter` | 'tømrer' | \n",
    "| `transport` | 'transport' or 'lastvogn' | \n",
    "| `plumbing` | 'vvs' or 'kloak' | \n",
    "| `import` | 'import' | \n",
    "| `masonry` | 'murer' | \n",
    "| `nielsen` | 'nielsen' | \n",
    "| `sorensen` | 'sørensen' | "
   ]
  },
  {
   "cell_type": "code",
   "execution_count": 4,
   "metadata": {},
   "outputs": [
    {
     "data": {
      "text/html": [
       "<div>\n",
       "<style scoped>\n",
       "    .dataframe tbody tr th:only-of-type {\n",
       "        vertical-align: middle;\n",
       "    }\n",
       "\n",
       "    .dataframe tbody tr th {\n",
       "        vertical-align: top;\n",
       "    }\n",
       "\n",
       "    .dataframe thead th {\n",
       "        text-align: right;\n",
       "    }\n",
       "</style>\n",
       "<table border=\"1\" class=\"dataframe\">\n",
       "  <thead>\n",
       "    <tr style=\"text-align: right;\">\n",
       "      <th></th>\n",
       "      <th>firmid</th>\n",
       "      <th>year</th>\n",
       "      <th>taxable_income</th>\n",
       "      <th>deficit</th>\n",
       "      <th>tax</th>\n",
       "      <th>net_inc</th>\n",
       "      <th>cat</th>\n",
       "      <th>dum_as</th>\n",
       "      <th>dum_aps</th>\n",
       "      <th>dum_ivs</th>\n",
       "      <th>...</th>\n",
       "      <th>dum_dot_dk</th>\n",
       "      <th>dum_doctor</th>\n",
       "      <th>dum_carpenter</th>\n",
       "      <th>dum_transport</th>\n",
       "      <th>dum_plumbing</th>\n",
       "      <th>dum_import</th>\n",
       "      <th>dum_masonry</th>\n",
       "      <th>dum_nielsen</th>\n",
       "      <th>dum_sorensen</th>\n",
       "      <th>dum_cars</th>\n",
       "    </tr>\n",
       "  </thead>\n",
       "  <tbody>\n",
       "    <tr>\n",
       "      <th>28483</th>\n",
       "      <td>3560</td>\n",
       "      <td>2015</td>\n",
       "      <td>0.0</td>\n",
       "      <td>0.0</td>\n",
       "      <td>0.0</td>\n",
       "      <td>0.0</td>\n",
       "      <td>holding</td>\n",
       "      <td>0</td>\n",
       "      <td>0</td>\n",
       "      <td>0</td>\n",
       "      <td>...</td>\n",
       "      <td>0</td>\n",
       "      <td>0</td>\n",
       "      <td>0</td>\n",
       "      <td>0</td>\n",
       "      <td>0</td>\n",
       "      <td>0</td>\n",
       "      <td>0</td>\n",
       "      <td>0</td>\n",
       "      <td>0</td>\n",
       "      <td>0</td>\n",
       "    </tr>\n",
       "    <tr>\n",
       "      <th>472213</th>\n",
       "      <td>59026</td>\n",
       "      <td>2017</td>\n",
       "      <td>614.0</td>\n",
       "      <td>NaN</td>\n",
       "      <td>132.0</td>\n",
       "      <td>614.0</td>\n",
       "      <td>NaN</td>\n",
       "      <td>0</td>\n",
       "      <td>1</td>\n",
       "      <td>0</td>\n",
       "      <td>...</td>\n",
       "      <td>0</td>\n",
       "      <td>0</td>\n",
       "      <td>0</td>\n",
       "      <td>0</td>\n",
       "      <td>0</td>\n",
       "      <td>0</td>\n",
       "      <td>0</td>\n",
       "      <td>0</td>\n",
       "      <td>0</td>\n",
       "      <td>0</td>\n",
       "    </tr>\n",
       "    <tr>\n",
       "      <th>27139</th>\n",
       "      <td>3392</td>\n",
       "      <td>2015</td>\n",
       "      <td>96818.0</td>\n",
       "      <td>NaN</td>\n",
       "      <td>22748.0</td>\n",
       "      <td>96818.0</td>\n",
       "      <td>NaN</td>\n",
       "      <td>0</td>\n",
       "      <td>1</td>\n",
       "      <td>0</td>\n",
       "      <td>...</td>\n",
       "      <td>0</td>\n",
       "      <td>0</td>\n",
       "      <td>0</td>\n",
       "      <td>0</td>\n",
       "      <td>0</td>\n",
       "      <td>0</td>\n",
       "      <td>0</td>\n",
       "      <td>0</td>\n",
       "      <td>0</td>\n",
       "      <td>0</td>\n",
       "    </tr>\n",
       "  </tbody>\n",
       "</table>\n",
       "<p>3 rows × 26 columns</p>\n",
       "</div>"
      ],
      "text/plain": [
       "        firmid  year  taxable_income  deficit      tax  net_inc      cat  \\\n",
       "28483     3560  2015             0.0      0.0      0.0      0.0  holding   \n",
       "472213   59026  2017           614.0      NaN    132.0    614.0      NaN   \n",
       "27139     3392  2015         96818.0      NaN  22748.0  96818.0      NaN   \n",
       "\n",
       "        dum_as  dum_aps  dum_ivs  ...  dum_dot_dk  dum_doctor  dum_carpenter  \\\n",
       "28483        0        0        0  ...           0           0              0   \n",
       "472213       0        1        0  ...           0           0              0   \n",
       "27139        0        1        0  ...           0           0              0   \n",
       "\n",
       "        dum_transport  dum_plumbing  dum_import  dum_masonry  dum_nielsen  \\\n",
       "28483               0             0           0            0            0   \n",
       "472213              0             0           0            0            0   \n",
       "27139               0             0           0            0            0   \n",
       "\n",
       "        dum_sorensen  dum_cars  \n",
       "28483              0         0  \n",
       "472213             0         0  \n",
       "27139              0         0  \n",
       "\n",
       "[3 rows x 26 columns]"
      ]
     },
     "execution_count": 4,
     "metadata": {},
     "output_type": "execute_result"
    }
   ],
   "source": [
    "dat = pd.read_csv('cvr_extract.csv')\n",
    "dat.sample(3)"
   ]
  },
  {
   "cell_type": "markdown",
   "metadata": {},
   "source": [
    "If you'd like a quick summary of your data, panda data frames have useful summary commands"
   ]
  },
  {
   "cell_type": "code",
   "execution_count": 5,
   "metadata": {},
   "outputs": [
    {
     "name": "stdout",
     "output_type": "stream",
     "text": [
      "<class 'pandas.core.frame.DataFrame'>\n",
      "RangeIndex: 519416 entries, 0 to 519415\n",
      "Data columns (total 26 columns):\n",
      " #   Column          Non-Null Count   Dtype  \n",
      "---  ------          --------------   -----  \n",
      " 0   firmid          519416 non-null  int64  \n",
      " 1   year            519416 non-null  int64  \n",
      " 2   taxable_income  519416 non-null  float64\n",
      " 3   deficit         325538 non-null  float64\n",
      " 4   tax             519415 non-null  float64\n",
      " 5   net_inc         519416 non-null  float64\n",
      " 6   cat             206143 non-null  object \n",
      " 7   dum_as          519416 non-null  int64  \n",
      " 8   dum_aps         519416 non-null  int64  \n",
      " 9   dum_ivs         519416 non-null  int64  \n",
      " 10  dum_ab          519416 non-null  int64  \n",
      " 11  dum_realestate  519416 non-null  int64  \n",
      " 12  dum_holding     519416 non-null  int64  \n",
      " 13  dum_invest      519416 non-null  int64  \n",
      " 14  dum_consult     519416 non-null  int64  \n",
      " 15  dum_service     519416 non-null  int64  \n",
      " 16  dum_dot_dk      519416 non-null  int64  \n",
      " 17  dum_doctor      519416 non-null  int64  \n",
      " 18  dum_carpenter   519416 non-null  int64  \n",
      " 19  dum_transport   519416 non-null  int64  \n",
      " 20  dum_plumbing    519416 non-null  int64  \n",
      " 21  dum_import      519416 non-null  int64  \n",
      " 22  dum_masonry     519416 non-null  int64  \n",
      " 23  dum_nielsen     519416 non-null  int64  \n",
      " 24  dum_sorensen    519416 non-null  int64  \n",
      " 25  dum_cars        519416 non-null  int64  \n",
      "dtypes: float64(4), int64(21), object(1)\n",
      "memory usage: 103.0+ MB\n"
     ]
    }
   ],
   "source": [
    "dat.info() # returns number of elements, data type and column name for each column"
   ]
  },
  {
   "cell_type": "code",
   "execution_count": 6,
   "metadata": {},
   "outputs": [
    {
     "data": {
      "text/html": [
       "<div>\n",
       "<style scoped>\n",
       "    .dataframe tbody tr th:only-of-type {\n",
       "        vertical-align: middle;\n",
       "    }\n",
       "\n",
       "    .dataframe tbody tr th {\n",
       "        vertical-align: top;\n",
       "    }\n",
       "\n",
       "    .dataframe thead th {\n",
       "        text-align: right;\n",
       "    }\n",
       "</style>\n",
       "<table border=\"1\" class=\"dataframe\">\n",
       "  <thead>\n",
       "    <tr style=\"text-align: right;\">\n",
       "      <th></th>\n",
       "      <th>firmid</th>\n",
       "      <th>year</th>\n",
       "      <th>taxable_income</th>\n",
       "      <th>deficit</th>\n",
       "      <th>tax</th>\n",
       "      <th>net_inc</th>\n",
       "      <th>dum_as</th>\n",
       "      <th>dum_aps</th>\n",
       "      <th>dum_ivs</th>\n",
       "      <th>dum_ab</th>\n",
       "      <th>...</th>\n",
       "      <th>dum_dot_dk</th>\n",
       "      <th>dum_doctor</th>\n",
       "      <th>dum_carpenter</th>\n",
       "      <th>dum_transport</th>\n",
       "      <th>dum_plumbing</th>\n",
       "      <th>dum_import</th>\n",
       "      <th>dum_masonry</th>\n",
       "      <th>dum_nielsen</th>\n",
       "      <th>dum_sorensen</th>\n",
       "      <th>dum_cars</th>\n",
       "    </tr>\n",
       "  </thead>\n",
       "  <tbody>\n",
       "    <tr>\n",
       "      <th>count</th>\n",
       "      <td>519416.000000</td>\n",
       "      <td>519416.00000</td>\n",
       "      <td>5.194160e+05</td>\n",
       "      <td>3.255380e+05</td>\n",
       "      <td>5.194150e+05</td>\n",
       "      <td>5.194160e+05</td>\n",
       "      <td>519416.000000</td>\n",
       "      <td>519416.000000</td>\n",
       "      <td>519416.000000</td>\n",
       "      <td>519416.000000</td>\n",
       "      <td>...</td>\n",
       "      <td>519416.000000</td>\n",
       "      <td>519416.000000</td>\n",
       "      <td>519416.000000</td>\n",
       "      <td>519416.000000</td>\n",
       "      <td>519416.000000</td>\n",
       "      <td>519416.000000</td>\n",
       "      <td>519416.000000</td>\n",
       "      <td>519416.000000</td>\n",
       "      <td>519416.0</td>\n",
       "      <td>519416.000000</td>\n",
       "    </tr>\n",
       "    <tr>\n",
       "      <th>mean</th>\n",
       "      <td>32463.000000</td>\n",
       "      <td>2015.50000</td>\n",
       "      <td>1.173396e+05</td>\n",
       "      <td>8.627641e+04</td>\n",
       "      <td>4.220691e+04</td>\n",
       "      <td>6.326685e+04</td>\n",
       "      <td>0.078317</td>\n",
       "      <td>0.768650</td>\n",
       "      <td>0.000204</td>\n",
       "      <td>0.017323</td>\n",
       "      <td>...</td>\n",
       "      <td>0.011488</td>\n",
       "      <td>0.016359</td>\n",
       "      <td>0.006767</td>\n",
       "      <td>0.004133</td>\n",
       "      <td>0.004334</td>\n",
       "      <td>0.001128</td>\n",
       "      <td>0.005027</td>\n",
       "      <td>0.010019</td>\n",
       "      <td>0.0</td>\n",
       "      <td>0.003654</td>\n",
       "    </tr>\n",
       "    <tr>\n",
       "      <th>std</th>\n",
       "      <td>18742.828504</td>\n",
       "      <td>2.29129</td>\n",
       "      <td>7.331761e+05</td>\n",
       "      <td>3.671005e+05</td>\n",
       "      <td>1.443852e+05</td>\n",
       "      <td>7.655319e+05</td>\n",
       "      <td>0.268670</td>\n",
       "      <td>0.421696</td>\n",
       "      <td>0.014284</td>\n",
       "      <td>0.130473</td>\n",
       "      <td>...</td>\n",
       "      <td>0.106564</td>\n",
       "      <td>0.126851</td>\n",
       "      <td>0.081984</td>\n",
       "      <td>0.064159</td>\n",
       "      <td>0.065688</td>\n",
       "      <td>0.033570</td>\n",
       "      <td>0.070722</td>\n",
       "      <td>0.099592</td>\n",
       "      <td>0.0</td>\n",
       "      <td>0.060339</td>\n",
       "    </tr>\n",
       "    <tr>\n",
       "      <th>min</th>\n",
       "      <td>0.000000</td>\n",
       "      <td>2012.00000</td>\n",
       "      <td>-9.922979e+06</td>\n",
       "      <td>0.000000e+00</td>\n",
       "      <td>-4.631800e+04</td>\n",
       "      <td>-9.922979e+06</td>\n",
       "      <td>0.000000</td>\n",
       "      <td>0.000000</td>\n",
       "      <td>0.000000</td>\n",
       "      <td>0.000000</td>\n",
       "      <td>...</td>\n",
       "      <td>0.000000</td>\n",
       "      <td>0.000000</td>\n",
       "      <td>0.000000</td>\n",
       "      <td>0.000000</td>\n",
       "      <td>0.000000</td>\n",
       "      <td>0.000000</td>\n",
       "      <td>0.000000</td>\n",
       "      <td>0.000000</td>\n",
       "      <td>0.0</td>\n",
       "      <td>0.000000</td>\n",
       "    </tr>\n",
       "    <tr>\n",
       "      <th>25%</th>\n",
       "      <td>16231.000000</td>\n",
       "      <td>2013.75000</td>\n",
       "      <td>-1.182900e+04</td>\n",
       "      <td>0.000000e+00</td>\n",
       "      <td>0.000000e+00</td>\n",
       "      <td>-5.625000e+04</td>\n",
       "      <td>0.000000</td>\n",
       "      <td>1.000000</td>\n",
       "      <td>0.000000</td>\n",
       "      <td>0.000000</td>\n",
       "      <td>...</td>\n",
       "      <td>0.000000</td>\n",
       "      <td>0.000000</td>\n",
       "      <td>0.000000</td>\n",
       "      <td>0.000000</td>\n",
       "      <td>0.000000</td>\n",
       "      <td>0.000000</td>\n",
       "      <td>0.000000</td>\n",
       "      <td>0.000000</td>\n",
       "      <td>0.0</td>\n",
       "      <td>0.000000</td>\n",
       "    </tr>\n",
       "    <tr>\n",
       "      <th>50%</th>\n",
       "      <td>32463.000000</td>\n",
       "      <td>2015.50000</td>\n",
       "      <td>0.000000e+00</td>\n",
       "      <td>0.000000e+00</td>\n",
       "      <td>0.000000e+00</td>\n",
       "      <td>-4.800000e+03</td>\n",
       "      <td>0.000000</td>\n",
       "      <td>1.000000</td>\n",
       "      <td>0.000000</td>\n",
       "      <td>0.000000</td>\n",
       "      <td>...</td>\n",
       "      <td>0.000000</td>\n",
       "      <td>0.000000</td>\n",
       "      <td>0.000000</td>\n",
       "      <td>0.000000</td>\n",
       "      <td>0.000000</td>\n",
       "      <td>0.000000</td>\n",
       "      <td>0.000000</td>\n",
       "      <td>0.000000</td>\n",
       "      <td>0.0</td>\n",
       "      <td>0.000000</td>\n",
       "    </tr>\n",
       "    <tr>\n",
       "      <th>75%</th>\n",
       "      <td>48695.000000</td>\n",
       "      <td>2017.25000</td>\n",
       "      <td>7.752375e+04</td>\n",
       "      <td>3.384375e+04</td>\n",
       "      <td>1.751200e+04</td>\n",
       "      <td>5.950975e+04</td>\n",
       "      <td>0.000000</td>\n",
       "      <td>1.000000</td>\n",
       "      <td>0.000000</td>\n",
       "      <td>0.000000</td>\n",
       "      <td>...</td>\n",
       "      <td>0.000000</td>\n",
       "      <td>0.000000</td>\n",
       "      <td>0.000000</td>\n",
       "      <td>0.000000</td>\n",
       "      <td>0.000000</td>\n",
       "      <td>0.000000</td>\n",
       "      <td>0.000000</td>\n",
       "      <td>0.000000</td>\n",
       "      <td>0.0</td>\n",
       "      <td>0.000000</td>\n",
       "    </tr>\n",
       "    <tr>\n",
       "      <th>max</th>\n",
       "      <td>64926.000000</td>\n",
       "      <td>2019.00000</td>\n",
       "      <td>1.483331e+07</td>\n",
       "      <td>1.714743e+07</td>\n",
       "      <td>3.187492e+06</td>\n",
       "      <td>9.987792e+06</td>\n",
       "      <td>1.000000</td>\n",
       "      <td>1.000000</td>\n",
       "      <td>1.000000</td>\n",
       "      <td>1.000000</td>\n",
       "      <td>...</td>\n",
       "      <td>1.000000</td>\n",
       "      <td>1.000000</td>\n",
       "      <td>1.000000</td>\n",
       "      <td>1.000000</td>\n",
       "      <td>1.000000</td>\n",
       "      <td>1.000000</td>\n",
       "      <td>1.000000</td>\n",
       "      <td>1.000000</td>\n",
       "      <td>0.0</td>\n",
       "      <td>1.000000</td>\n",
       "    </tr>\n",
       "  </tbody>\n",
       "</table>\n",
       "<p>8 rows × 25 columns</p>\n",
       "</div>"
      ],
      "text/plain": [
       "              firmid          year  taxable_income       deficit  \\\n",
       "count  519416.000000  519416.00000    5.194160e+05  3.255380e+05   \n",
       "mean    32463.000000    2015.50000    1.173396e+05  8.627641e+04   \n",
       "std     18742.828504       2.29129    7.331761e+05  3.671005e+05   \n",
       "min         0.000000    2012.00000   -9.922979e+06  0.000000e+00   \n",
       "25%     16231.000000    2013.75000   -1.182900e+04  0.000000e+00   \n",
       "50%     32463.000000    2015.50000    0.000000e+00  0.000000e+00   \n",
       "75%     48695.000000    2017.25000    7.752375e+04  3.384375e+04   \n",
       "max     64926.000000    2019.00000    1.483331e+07  1.714743e+07   \n",
       "\n",
       "                tax       net_inc         dum_as        dum_aps  \\\n",
       "count  5.194150e+05  5.194160e+05  519416.000000  519416.000000   \n",
       "mean   4.220691e+04  6.326685e+04       0.078317       0.768650   \n",
       "std    1.443852e+05  7.655319e+05       0.268670       0.421696   \n",
       "min   -4.631800e+04 -9.922979e+06       0.000000       0.000000   \n",
       "25%    0.000000e+00 -5.625000e+04       0.000000       1.000000   \n",
       "50%    0.000000e+00 -4.800000e+03       0.000000       1.000000   \n",
       "75%    1.751200e+04  5.950975e+04       0.000000       1.000000   \n",
       "max    3.187492e+06  9.987792e+06       1.000000       1.000000   \n",
       "\n",
       "             dum_ivs         dum_ab  ...     dum_dot_dk     dum_doctor  \\\n",
       "count  519416.000000  519416.000000  ...  519416.000000  519416.000000   \n",
       "mean        0.000204       0.017323  ...       0.011488       0.016359   \n",
       "std         0.014284       0.130473  ...       0.106564       0.126851   \n",
       "min         0.000000       0.000000  ...       0.000000       0.000000   \n",
       "25%         0.000000       0.000000  ...       0.000000       0.000000   \n",
       "50%         0.000000       0.000000  ...       0.000000       0.000000   \n",
       "75%         0.000000       0.000000  ...       0.000000       0.000000   \n",
       "max         1.000000       1.000000  ...       1.000000       1.000000   \n",
       "\n",
       "       dum_carpenter  dum_transport   dum_plumbing     dum_import  \\\n",
       "count  519416.000000  519416.000000  519416.000000  519416.000000   \n",
       "mean        0.006767       0.004133       0.004334       0.001128   \n",
       "std         0.081984       0.064159       0.065688       0.033570   \n",
       "min         0.000000       0.000000       0.000000       0.000000   \n",
       "25%         0.000000       0.000000       0.000000       0.000000   \n",
       "50%         0.000000       0.000000       0.000000       0.000000   \n",
       "75%         0.000000       0.000000       0.000000       0.000000   \n",
       "max         1.000000       1.000000       1.000000       1.000000   \n",
       "\n",
       "         dum_masonry    dum_nielsen  dum_sorensen       dum_cars  \n",
       "count  519416.000000  519416.000000      519416.0  519416.000000  \n",
       "mean        0.005027       0.010019           0.0       0.003654  \n",
       "std         0.070722       0.099592           0.0       0.060339  \n",
       "min         0.000000       0.000000           0.0       0.000000  \n",
       "25%         0.000000       0.000000           0.0       0.000000  \n",
       "50%         0.000000       0.000000           0.0       0.000000  \n",
       "75%         0.000000       0.000000           0.0       0.000000  \n",
       "max         1.000000       1.000000           0.0       1.000000  \n",
       "\n",
       "[8 rows x 25 columns]"
      ]
     },
     "execution_count": 6,
     "metadata": {},
     "output_type": "execute_result"
    }
   ],
   "source": [
    "dat.describe() # returns a number of summary stats (e.g. mean, max, count etc.) for each column"
   ]
  },
  {
   "cell_type": "code",
   "execution_count": 7,
   "metadata": {},
   "outputs": [
    {
     "name": "stdout",
     "output_type": "stream",
     "text": [
      "\\begin{tabular}{lrrrrrrrrrrrrrrrrrrrrrrrrr}\n",
      " & firmid & year & taxable_income & deficit & tax & net_inc & dum_as & dum_aps & dum_ivs & dum_ab & dum_realestate & dum_holding & dum_invest & dum_consult & dum_service & dum_dot_dk & dum_doctor & dum_carpenter & dum_transport & dum_plumbing & dum_import & dum_masonry & dum_nielsen & dum_sorensen & dum_cars \\\\\n",
      "count & 519416.000000 & 519416.000000 & 519416.000000 & 325538.000000 & 519415.000000 & 519416.000000 & 519416.000000 & 519416.000000 & 519416.000000 & 519416.000000 & 519416.000000 & 519416.000000 & 519416.000000 & 519416.000000 & 519416.000000 & 519416.000000 & 519416.000000 & 519416.000000 & 519416.000000 & 519416.000000 & 519416.000000 & 519416.000000 & 519416.000000 & 519416.000000 & 519416.000000 \\\\\n",
      "mean & 32463.000000 & 2015.500000 & 117339.591897 & 86276.405873 & 42206.912925 & 63266.847479 & 0.078317 & 0.768650 & 0.000204 & 0.017323 & 0.028696 & 0.230615 & 0.062545 & 0.015009 & 0.014226 & 0.011488 & 0.016359 & 0.006767 & 0.004133 & 0.004334 & 0.001128 & 0.005027 & 0.010019 & 0.000000 & 0.003654 \\\\\n",
      "std & 18742.828504 & 2.291290 & 733176.060491 & 367100.493815 & 144385.212508 & 765531.909898 & 0.268670 & 0.421696 & 0.014284 & 0.130473 & 0.166950 & 0.421227 & 0.242143 & 0.121589 & 0.118420 & 0.106564 & 0.126851 & 0.081984 & 0.064159 & 0.065688 & 0.033570 & 0.070722 & 0.099592 & 0.000000 & 0.060339 \\\\\n",
      "min & 0.000000 & 2012.000000 & -9922979.000000 & 0.000000 & -46318.000000 & -9922979.000000 & 0.000000 & 0.000000 & 0.000000 & 0.000000 & 0.000000 & 0.000000 & 0.000000 & 0.000000 & 0.000000 & 0.000000 & 0.000000 & 0.000000 & 0.000000 & 0.000000 & 0.000000 & 0.000000 & 0.000000 & 0.000000 & 0.000000 \\\\\n",
      "25% & 16231.000000 & 2013.750000 & -11829.000000 & 0.000000 & 0.000000 & -56250.000000 & 0.000000 & 1.000000 & 0.000000 & 0.000000 & 0.000000 & 0.000000 & 0.000000 & 0.000000 & 0.000000 & 0.000000 & 0.000000 & 0.000000 & 0.000000 & 0.000000 & 0.000000 & 0.000000 & 0.000000 & 0.000000 & 0.000000 \\\\\n",
      "50% & 32463.000000 & 2015.500000 & 0.000000 & 0.000000 & 0.000000 & -4800.000000 & 0.000000 & 1.000000 & 0.000000 & 0.000000 & 0.000000 & 0.000000 & 0.000000 & 0.000000 & 0.000000 & 0.000000 & 0.000000 & 0.000000 & 0.000000 & 0.000000 & 0.000000 & 0.000000 & 0.000000 & 0.000000 & 0.000000 \\\\\n",
      "75% & 48695.000000 & 2017.250000 & 77523.750000 & 33843.750000 & 17512.000000 & 59509.750000 & 0.000000 & 1.000000 & 0.000000 & 0.000000 & 0.000000 & 0.000000 & 0.000000 & 0.000000 & 0.000000 & 0.000000 & 0.000000 & 0.000000 & 0.000000 & 0.000000 & 0.000000 & 0.000000 & 0.000000 & 0.000000 & 0.000000 \\\\\n",
      "max & 64926.000000 & 2019.000000 & 14833306.000000 & 17147427.000000 & 3187492.000000 & 9987792.000000 & 1.000000 & 1.000000 & 1.000000 & 1.000000 & 1.000000 & 1.000000 & 1.000000 & 1.000000 & 1.000000 & 1.000000 & 1.000000 & 1.000000 & 1.000000 & 1.000000 & 1.000000 & 1.000000 & 1.000000 & 0.000000 & 1.000000 \\\\\n",
      "\\end{tabular}\n",
      "\n"
     ]
    }
   ],
   "source": [
    "# print table which can be copied to latex\n",
    "print(dat.describe().style.to_latex())"
   ]
  },
  {
   "cell_type": "markdown",
   "metadata": {},
   "source": [
    "# Descriptives"
   ]
  },
  {
   "cell_type": "code",
   "execution_count": 8,
   "metadata": {},
   "outputs": [
    {
     "data": {
      "image/png": "[encoded data removed]",
      "text/plain": [
       "<Figure size 640x480 with 1 Axes>"
      ]
     },
     "metadata": {},
     "output_type": "display_data"
    }
   ],
   "source": [
    "ax=dat.groupby('year').net_inc.sum().plot(marker='o'); \n",
    "ax.set_ylabel('Total firm revenue'); "
   ]
  },
  {
   "cell_type": "code",
   "execution_count": 9,
   "metadata": {},
   "outputs": [
    {
     "data": {
      "image/png": "[encoded data removed]",
      "text/plain": [
       "<Figure size 640x480 with 1 Axes>"
      ]
     },
     "metadata": {},
     "output_type": "display_data"
    }
   ],
   "source": [
    "ax = dat.groupby('cat').taxable_income.count().plot(kind='bar'); \n",
    "ax.set_ylabel('Observations'); "
   ]
  },
  {
   "cell_type": "code",
   "execution_count": 10,
   "metadata": {},
   "outputs": [
    {
     "data": {
      "image/png": "[encoded data removed]",
      "text/plain": [
       "<Figure size 640x480 with 1 Axes>"
      ]
     },
     "metadata": {},
     "output_type": "display_data"
    }
   ],
   "source": [
    "ax = dat.groupby('cat').taxable_income.mean().plot(kind='bar'); \n",
    "ax.set_ylabel('Avg. net income'); "
   ]
  },
  {
   "cell_type": "code",
   "execution_count": 11,
   "metadata": {},
   "outputs": [
    {
     "data": {
      "image/png": "[encoded data removed]",
      "text/plain": [
       "<Figure size 640x480 with 1 Axes>"
      ]
     },
     "metadata": {},
     "output_type": "display_data"
    }
   ],
   "source": [
    "ax=dat.groupby(['year', 'cat']).taxable_income.mean().unstack().plot(marker='o'); \n",
    "ax.set_ylabel('Firm profits (avg.)'); \n",
    "ax.legend(title='Firm name contains', loc=(1.05,0.3)); "
   ]
  },
  {
   "cell_type": "markdown",
   "metadata": {},
   "source": [
    "# Set up data"
   ]
  },
  {
   "cell_type": "code",
   "execution_count": 12,
   "metadata": {},
   "outputs": [],
   "source": [
    "# Select only firms that are in real estate in all years \n",
    "I = dat.groupby('firmid').dum_realestate.transform('all') # <-- creates an indicator for real estate\n",
    "dat = dat[I].copy() # <-- pulls out real estate firms"
   ]
  },
  {
   "cell_type": "code",
   "execution_count": 13,
   "metadata": {},
   "outputs": [
    {
     "name": "stdout",
     "output_type": "stream",
     "text": [
      "Data has 14,272 rows: N = 1,784, T = 8\n"
     ]
    }
   ],
   "source": [
    "# convenient list of the names of all the dummy variables\n",
    "cols_dum = [c for c in dat.columns if c == 'dum_']\n",
    "\n",
    "# convert int->bool \n",
    "for c in cols_dum: \n",
    "    dat[c] = dat[c].astype('bool')\n",
    "\n",
    "N = dat.firmid.unique().size\n",
    "T = dat.year.unique().size\n",
    "print(f'Data has {dat.shape[0]:,d} rows: N = {N:,d}, T = {T}')"
   ]
  },
  {
   "cell_type": "code",
   "execution_count": 14,
   "metadata": {},
   "outputs": [],
   "source": [
    "# measure money in 1000 DKK \n",
    "for v in ['net_inc', 'taxable_income', 'deficit', 'tax']: \n",
    "    dat[v] = dat[v] / 1000."
   ]
  },
  {
   "cell_type": "code",
   "execution_count": 15,
   "metadata": {},
   "outputs": [],
   "source": [
    "# lag net income using \"shift\" from pandas\n",
    "dat['lag_net_inc'] = dat.groupby('firmid').net_inc.shift(1)"
   ]
  },
  {
   "cell_type": "markdown",
   "metadata": {},
   "source": [
    "### Pandas to numpy "
   ]
  },
  {
   "cell_type": "code",
   "execution_count": 16,
   "metadata": {},
   "outputs": [],
   "source": [
    "# remove nans due to differencing\n",
    "I = dat.lag_net_inc.notnull() # cannot use first year: no lagged variable \n",
    "\n",
    "T = dat[I].year.unique().size # NB this measure of T already has one year subtracted \n",
    "N = dat[I].firmid.unique().size\n",
    "\n",
    "assert dat[I].shape[0] == N*T, 'Data is not a balanced panel'"
   ]
  },
  {
   "cell_type": "code",
   "execution_count": 17,
   "metadata": {},
   "outputs": [],
   "source": [
    "# turn panda data frames into numpy arrays\n",
    "y = dat[I].net_inc.values.reshape((-1,1))\n",
    "y_l = dat[I].lag_net_inc.values.reshape((-1,1))\n",
    "const = np.ones((N*T,1))\n",
    "x = np.column_stack((const, y_l))\n",
    "\n",
    "#labels\n",
    "ylbl = 'profit'\n",
    "xlbl = ['const', 'lagged profit']"
   ]
  },
  {
   "cell_type": "markdown",
   "metadata": {},
   "source": [
    "# Part 1: POLS\n",
    "Today we will focus on a parsimonious model of profit $\\pi$ (econometricians often use \"parsimonious\" to mean a \"simple\"). \n",
    "\n",
    "Consider first the following AR(1) (autoregressive model of order $1$),\n",
    "\n",
    "$$\n",
    "\\pi_{it} = \\alpha_0 +  \\rho \\pi_{it-1} + c_i + u_{it}, \\quad t = 1, 2, \\dotsc, T \\tag{1}\n",
    "$$\n",
    "\n",
    "As we have seen before, if one does not take into consideration $c_i$ when estimating $\\rho$, one will get biased results. One way to solve this, which is also a common way for AR(1) processes, is to take first-differences. We then have the model,\n",
    "\n",
    "$$\n",
    "\\Delta \\pi_{it} = \\rho \\Delta \\pi_{it-1} + \\Delta u_{it}, \\quad t = 2, \\dotsc, T \\tag{2}\n",
    "$$\n",
    "\n",
    "This solves the presence of fixed effects."
   ]
  },
  {
   "cell_type": "markdown",
   "metadata": {},
   "source": [
    "### Question 1.1\n",
    "Estimate eq. (1) using POLS and robust standard errors (you'll need to adjust the `robust` function in `LinearDynamic_ante.py` first.)\n",
    "* Are there signs of autocorrelation in profit?\n",
    "* What assumptions are no longer satisfied? What happens with fixed effects when we include a lag?\n",
    "\n",
    "*Note:* We need to use the lagged values of net income. But this time we don't need to lag it ourselves as it that has already been done above."
   ]
  },
  {
   "cell_type": "markdown",
   "metadata": {},
   "source": [
    "$$\n",
    "\\pi_{it} = \\alpha_0 +  \\rho \\pi_{it-1} + c_i + u_{it}, \\quad t = 1, 2, \\dotsc, T \\tag{1}\n",
    "$$\n",
    "\n",
    "$$\n",
    "\\Delta \\pi_{it} = \\rho \\Delta \\pi_{it-1} + \\Delta u_{it}, \\quad t = 2, \\dotsc, T \\tag{2}\n",
    "$$\n",
    "\n",
    "\n",
    "$$\n",
    "e_{it} = \\Delta u_{it}\n",
    "$$\n",
    "\n",
    "$$\n",
    "\\hat{e}_{it}=\\rho\\hat{e}_{it-1}+error_{it},\\quad t=\\color{red}{3},\\dotsc,T,\\quad i=1,\\dotsc,N\n",
    "$$"
   ]
  },
  {
   "cell_type": "code",
   "execution_count": 30,
   "metadata": {},
   "outputs": [
    {
     "data": {
      "text/plain": [
       "8"
      ]
     },
     "execution_count": 30,
     "metadata": {},
     "output_type": "execute_result"
    }
   ],
   "source": [
    "years_org = dat.year.values.reshape(-1,1)\n",
    "np.unique(years_org).size"
   ]
  },
  {
   "cell_type": "code",
   "execution_count": 33,
   "metadata": {},
   "outputs": [
    {
     "data": {
      "text/plain": [
       "7"
      ]
     },
     "execution_count": 33,
     "metadata": {},
     "output_type": "execute_result"
    }
   ],
   "source": [
    "years = dat[I].year.values.reshape(-1,1)\n",
    "np.unique(years).size"
   ]
  },
  {
   "cell_type": "code",
   "execution_count": 22,
   "metadata": {},
   "outputs": [
    {
     "data": {
      "text/plain": [
       "7"
      ]
     },
     "execution_count": 22,
     "metadata": {},
     "output_type": "execute_result"
    }
   ],
   "source": [
    "T"
   ]
  },
  {
   "cell_type": "code",
   "execution_count": 18,
   "metadata": {},
   "outputs": [],
   "source": [
    "def fd_matrix(T):\n",
    "    D_T = -np.eye(T)+np.eye(T,k=1) # Fill in\n",
    "    D_T = D_T[:-1]\n",
    "    return D_T\n",
    "\n",
    "D_T = fd_matrix(T)"
   ]
  },
  {
   "cell_type": "code",
   "execution_count": 24,
   "metadata": {},
   "outputs": [
    {
     "data": {
      "text/plain": [
       "array([[-1.,  1.,  0.,  0.,  0.,  0.,  0.],\n",
       "       [ 0., -1.,  1.,  0.,  0.,  0.,  0.],\n",
       "       [ 0.,  0., -1.,  1.,  0.,  0.,  0.],\n",
       "       [ 0.,  0.,  0., -1.,  1.,  0.,  0.],\n",
       "       [ 0.,  0.,  0.,  0., -1.,  1.,  0.],\n",
       "       [ 0.,  0.,  0.,  0.,  0., -1.,  1.]])"
      ]
     },
     "execution_count": 24,
     "metadata": {},
     "output_type": "execute_result"
    }
   ],
   "source": [
    "D_T"
   ]
  },
  {
   "cell_type": "code",
   "execution_count": 40,
   "metadata": {},
   "outputs": [],
   "source": [
    "y_diff = lm.perm(D_T, y)\n",
    "y_diff_l = lm.perm(D_T,y_l)"
   ]
  },
  {
   "cell_type": "code",
   "execution_count": 43,
   "metadata": {},
   "outputs": [
    {
     "name": "stdout",
     "output_type": "stream",
     "text": [
      "Results\n",
      "Dependent variable: profit\n",
      "\n",
      "                  Beta         Se    t-values\n",
      "----------  ----------  ---------  ----------\n",
      "$e_{it-1}$  -0.0977338  0.0109602    -8.91716\n",
      "R² = 0.007\n",
      "σ² = 555080.779\n"
     ]
    }
   ],
   "source": [
    "serr_corr = lm.serial_corr(y=y_diff, x=y_diff_l, T=T, year=years)\n",
    "\n",
    "lm.print_table(results=serr_corr, labels=(ylbl, ['$e_{it-1}$']))"
   ]
  },
  {
   "cell_type": "markdown",
   "metadata": {},
   "source": [
    "It would seem there is autocorrelation/serial correlation. "
   ]
  },
  {
   "cell_type": "code",
   "execution_count": 48,
   "metadata": {},
   "outputs": [
    {
     "name": "stdout",
     "output_type": "stream",
     "text": [
      "Results\n",
      "Dependent variable: profit\n",
      "\n",
      "                   Beta         Se    t-values\n",
      "-------------  --------  ---------  ----------\n",
      "const          73.4937   7.77624       9.45105\n",
      "lagged profit   0.51742  0.0347261    14.9\n",
      "R² = 0.252\n",
      "σ² = 476937.886\n"
     ]
    }
   ],
   "source": [
    "# FILL IN\n",
    "# Estimate the AR(1) model using OLS and robust standard errors\n",
    "# Print out in a nice table\n",
    "\n",
    "ar1_result = lm.estimate(y=y, x=x, T=T, robust_se=True)\n",
    "lm.print_table(results=ar1_result, labels=(ylbl, xlbl))"
   ]
  },
  {
   "cell_type": "markdown",
   "metadata": {},
   "source": [
    "Your table should look like this:\n",
    "\n",
    "\n",
    "AR(1)\n",
    "Dependent variable: profit\n",
    "\n",
    "|              |  Beta |     Se|   t-values | \n",
    "|------------- | ------|  -------|  ----------|\n",
    "|const   |       73.494 | 7.77624 |      9.45|\n",
    "|lagged profit |  0.517 | 0.03473  |     14.90| \n",
    "R² = 0.252\n",
    "σ² = 476937.886"
   ]
  },
  {
   "cell_type": "code",
   "execution_count": 49,
   "metadata": {},
   "outputs": [
    {
     "data": {
      "text/html": [
       "<div>\n",
       "<style scoped>\n",
       "    .dataframe tbody tr th:only-of-type {\n",
       "        vertical-align: middle;\n",
       "    }\n",
       "\n",
       "    .dataframe tbody tr th {\n",
       "        vertical-align: top;\n",
       "    }\n",
       "\n",
       "    .dataframe thead th {\n",
       "        text-align: right;\n",
       "    }\n",
       "</style>\n",
       "<table border=\"1\" class=\"dataframe\">\n",
       "  <thead>\n",
       "    <tr style=\"text-align: right;\">\n",
       "      <th></th>\n",
       "      <th>beta</th>\n",
       "      <th>se</th>\n",
       "      <th>t</th>\n",
       "    </tr>\n",
       "  </thead>\n",
       "  <tbody>\n",
       "    <tr>\n",
       "      <th>const</th>\n",
       "      <td>73.49</td>\n",
       "      <td>7.78</td>\n",
       "      <td>9.45</td>\n",
       "    </tr>\n",
       "    <tr>\n",
       "      <th>lagged profit</th>\n",
       "      <td>0.52</td>\n",
       "      <td>0.03</td>\n",
       "      <td>14.90</td>\n",
       "    </tr>\n",
       "  </tbody>\n",
       "</table>\n",
       "</div>"
      ],
      "text/plain": [
       "                beta    se      t\n",
       "const          73.49  7.78   9.45\n",
       "lagged profit   0.52  0.03  14.90"
      ]
     },
     "execution_count": 49,
     "metadata": {},
     "output_type": "execute_result"
    }
   ],
   "source": [
    "# in case you want results in a panda data frame\n",
    "ar1_res=pd.DataFrame([ar1_result['b_hat'].flatten(), ar1_result['se'].flatten(),ar1_result['t_values'].flatten()], \n",
    "             index=['beta', 'se', 't'], columns=xlbl).T\n",
    "ar1_res.round(2)\n"
   ]
  },
  {
   "cell_type": "code",
   "execution_count": 50,
   "metadata": {},
   "outputs": [
    {
     "data": {
      "text/plain": [
       "'\\\\begin{tabular}{lrrr}\\n & beta & se & t \\\\\\\\\\nconst & 73.490000 & 7.780000 & 9.450000 \\\\\\\\\\nlagged profit & 0.520000 & 0.030000 & 14.900000 \\\\\\\\\\n\\\\end{tabular}\\n'"
      ]
     },
     "execution_count": 50,
     "metadata": {},
     "output_type": "execute_result"
    }
   ],
   "source": [
    "# or as a latex table\n",
    "(ar1_res.round(2)).style.to_latex()"
   ]
  },
  {
   "cell_type": "markdown",
   "metadata": {},
   "source": [
    "### Question 1.2\n",
    "Estimate eq. (2) using first differences. \n",
    "* What problem does this solve? \n",
    "    - Fixed effects (inherent time-invariant that may raise profits)\n",
    "* What type of exogeneity assumption is used to justify this method of estimation?\n",
    "    - Strict exogeneity. \n",
    "    \n",
    "    $E\\left(u_{i t} \\mid \\mathbf{x}_{i t+1}, \\mathbf{x}_{i t}, \\mathbf{x}_{i t-1}\\right)=0$\n",
    "\n",
    "    OR\n",
    "    \n",
    "    $E[\\Delta \\pi_{t} \\Delta \\pi_{t-1}]=0$\n",
    "    \n",
    "\n",
    "*Note 1:* You have to create the first differencing matrix yourself, and use the `perm` function to permutate the dependen and independent variables. <br>\n",
    "*Note 2:* This time you should use robust standard errors. The function is provided to you."
   ]
  },
  {
   "cell_type": "code",
   "execution_count": 62,
   "metadata": {},
   "outputs": [
    {
     "name": "stdout",
     "output_type": "stream",
     "text": [
      "Results\n",
      "Dependent variable: profit\n",
      "\n",
      "                    Beta         Se    t-values\n",
      "-------------  ---------  ---------  ----------\n",
      "lagged profit  -0.412494  0.0244187    -16.8926\n",
      "R² = 0.167\n",
      "σ² = 520184.128\n"
     ]
    }
   ],
   "source": [
    "# FILL IN\n",
    "# Create a first difference matrix\n",
    "F_T = fd_matrix(T)\n",
    "\n",
    "# First difference both profit and lag of profit\n",
    "y_fd = lm.perm(F_T, y)\n",
    "y_fd_l = lm.perm(F_T, y_l)\n",
    "\n",
    "# Estimate AR(1) model using OLS with robust se and print a nice table\n",
    "\n",
    "ar1_diff = lm.estimate(y=y_fd, x=y_fd_l, robust_se=True, T=T-1, transform='fd')\n",
    "lm.print_table(results=ar1_diff, labels=(ylbl, [xlbl[1]]))\n"
   ]
  },
  {
   "cell_type": "markdown",
   "metadata": {},
   "source": [
    "Your table should look like this:\n",
    "\n",
    "FD AR(1) <br>\n",
    "Dependent variable: profit\n",
    "\n",
    "|              |   Beta |     Se |   t-values |\n",
    "|------------- | ------ | ------ | ---------- |\n",
    "|lagged profit | -0.412 | 0.0244 |     -16.89 |\n",
    "R² = 0.167\n",
    "σ² = 520184.128"
   ]
  },
  {
   "cell_type": "markdown",
   "metadata": {},
   "source": [
    "## Super short introduction to pooled IV (piv)\n",
    "\n",
    "Suppose we want to estimate the effect of $x_K$ on $y$, conditional on $K - 1$ other controls, we then have the usual equation,\n",
    "\n",
    "$$\n",
    "\\mathbf{y} = \\mathbf{X} \\boldsymbol{\\beta} + \\mathbf{u} \\tag{3}\n",
    "$$\n",
    "\n",
    "where $\\mathbf{X} = (\\mathbf{x}_1, \\dotsc, \\mathbf{x}_K)$. If $\\mathbf{x}_K$ is not exogenous, we can define the instrument vector $\\mathbf{Z} = (\\mathbf{x}_1, \\dotsc, \\mathbf{x}_{K - 1}, \\mathbf{z}_1)$, where $\\mathbf{z}_1$ is an instrument for $\\mathbf{x}_K$. The details and necessary assumptions and conditions are outlined in Wooldridge (2010) (chapter 5).\n",
    "\n",
    "We can estimate eq. (3) by OLS using $z_1$ as an instrument for $x_K$, in order to make it easier for you when writing code, I write it up in matrix notation,\n",
    "\n",
    "$$\n",
    "\\boldsymbol{\\hat{\\beta}} = (\\mathbf{\\hat{X'}}\\mathbf{\\hat{X}})^{-1} \\mathbf{\\hat{X'}}\\mathbf{Y}, \\tag{4}\n",
    "$$\n",
    "\n",
    "where $\\mathbf{\\hat{X}} = \\mathbf{Z}(\\mathbf{Z'}\\mathbf{Z})^{-1}\\mathbf{Z'}\\mathbf{X}$."
   ]
  },
  {
   "cell_type": "markdown",
   "metadata": {},
   "source": [
    "# Part 2: Pooled IV\n",
    "It should not be a surprise that models (1) and (2) violate the strict exegoneity assumption but even if we relax this assumption to sequential exegoneity, the FD-estimator remains inconsistent.\n",
    "\n",
    "A solution to this is to use an instrument for $\\Delta \\pi_{it-1}$. The biggest issue is to find an instrument that is not only relevant, but also exogenous.\n",
    "\n",
    "We often use an additional lag as instruments. So for $\\Delta \\pi_{it-1}$, we can use $\\pi_{it-2}$. In general, we have all possible lags available as instruments. So for $\\Delta \\pi_{it-1}$ we have, $\n",
    "\\pi_{it-2}^{\\textbf{o}} = (\\pi_{i0}, \\pi_{i1}, \\dotsc \\pi_{it-2})$ available as instruments.\n",
    "\n",
    "*Note:* $R^2$ has no meaning in IV-regressions, you can report it if you want to. But I set it to 0."
   ]
  },
  {
   "cell_type": "markdown",
   "metadata": {},
   "source": [
    "### Question 2.1\n",
    "Estimate eq. (2) by using the lag of the independent variable in levels, $z_{it} = \\pi_{it-2}$ as an instrument. You need to finish writing the `est_piv` function and a part of the `estimate` function in `LinearDynamic_ante`.\n",
    "\n",
    "*Note 1:* In the `estimate` function, the `variance` function takes $\\mathbf{X}$ as an argument. But we want to pass the `variance` function $\\mathbf{\\hat{X}}$ instead. <br>\n",
    "*Note 2:* In order to create the instrument, you need to create a lag matrix, and use `perm`."
   ]
  },
  {
   "cell_type": "markdown",
   "metadata": {},
   "source": [
    "$$\n",
    "\\pi_{it} = \\alpha_0 +  \\rho \\pi_{it-1} + c_i + u_{it}, \\quad t = 1, 2, \\dotsc, T \\tag{1}\n",
    "$$\n",
    "\n",
    "$$\n",
    "\\Delta \\pi_{it} = \\rho \\Delta \\pi_{it-1} + \\Delta u_{it}, \\quad t = 2, \\dotsc, T \\tag{2}\n",
    "$$\n",
    "\n",
    "\n",
    "$$\n",
    "e_{it} = \\Delta u_{it}\n",
    "$$\n",
    "\n",
    "$$\n",
    "\\hat{e}_{it}=\\rho\\hat{e}_{it-1}+error_{it},\\quad t=\\color{red}{3},\\dotsc,T,\\quad i=1,\\dotsc,N\n",
    "$$"
   ]
  },
  {
   "cell_type": "code",
   "execution_count": 81,
   "metadata": {},
   "outputs": [],
   "source": [
    "# FILL IN\n",
    "# Create first a lag matrix\n",
    "def lag(T):\n",
    "    L_T = np.eye(T, k=-1)\n",
    "    return L_T[1:]\n",
    "\n",
    "L_T = lag(T)\n",
    "\n",
    "# Lag the lagged pi variable\n",
    "\n",
    "y_diff = lm.perm(D_T, y)        #\\Delta \\pi_t\n",
    "y_diff_l = lm.perm(D_T,y_l)     #\\Delta \\pi_t-1\n",
    "\n",
    "y_2_lag = lm.perm(L_T, y_l)     #\\pi_t-2\n",
    "\n",
    "z = y_2_lag\n",
    "\n",
    "# Finish writing the est_piv function in lineardynamic_ante\n",
    "# Finish writing the estimate function in lineardynamic_ante\n",
    "# Estimate using first differences and lagged first differences. Use the 2. lag as instrument."
   ]
  },
  {
   "cell_type": "code",
   "execution_count": 98,
   "metadata": {},
   "outputs": [
    {
     "name": "stdout",
     "output_type": "stream",
     "text": [
      "Results\n",
      "Dependent variable: profit\n",
      "\n",
      "                   Beta         Se    t-values\n",
      "-------------  --------  ---------  ----------\n",
      "lagged profit  0.129112  0.0763243     1.69163\n",
      "R² = nan\n",
      "σ² = 700805.974\n"
     ]
    }
   ],
   "source": [
    "FD_IV_AR1 = lm.estimate(y=y_diff, x=y_diff_l, z=z, robust_se=True, T=T-1)\n",
    "lm.print_table(results=FD_IV_AR1, labels=(ylbl, [xlbl[1]]))"
   ]
  },
  {
   "cell_type": "markdown",
   "metadata": {},
   "source": [
    "Your table should look like this:\n",
    "\n",
    "FD-IV AR(1) <br>\n",
    "Dependent variable: delta profit\n",
    "\n",
    "|                   |   Beta |     Se |   t-values |\n",
    "|-------------------|--------|--------|------------|\n",
    "| lagged profit     |  0.129 |  0.0763|      1.69 | \n",
    "R² = n.a. <br>\n",
    "σ² = 700805.974"
   ]
  },
  {
   "cell_type": "markdown",
   "metadata": {},
   "source": [
    "### Question 2.2\n",
    "Estimate eq. (2) by using the lag of the independent variable in first differences, $z_{it} = \\Delta \\pi_{it-2}$ as an instrument."
   ]
  },
  {
   "cell_type": "code",
   "execution_count": null,
   "metadata": {},
   "outputs": [],
   "source": [
    "# FILL IN\n",
    "# Lag the first differenced lag profit variable\n",
    "# The second lag uses up an extra observation, so you need to shorten both first differenced profit and the 1. first difference lag.\n",
    "# Estimate using first differences and lagged first differences. Use the 2. first difference lag as instrument."
   ]
  },
  {
   "cell_type": "code",
   "execution_count": 100,
   "metadata": {},
   "outputs": [],
   "source": [
    "#  do lagging and differencing by panda data frames (instead of perm function)\n",
    "dat['diff_net_inc']      = dat.groupby('firmid').net_inc.diff()\n",
    "dat['lag_diff_net_inc']  = dat.groupby('firmid').diff_net_inc.shift(1)\n",
    "dat['lag2_diff_net_inc'] = dat.groupby('firmid').diff_net_inc.shift(2)"
   ]
  },
  {
   "cell_type": "code",
   "execution_count": 101,
   "metadata": {},
   "outputs": [],
   "source": [
    "# load into numpy\n",
    "I = dat.lag2_diff_net_inc.notnull() # removes years which have become zeros due to differencing\n",
    "yfd    = dat[I].diff_net_inc.values.reshape((-1,1))\n",
    "yfd_l1 = dat[I].lag_diff_net_inc.values.reshape((-1,1))\n",
    "yfd_l2 = dat[I].lag2_diff_net_inc.values.reshape((-1,1))\n",
    "\n",
    "assert (dat.groupby('firmid').year.size() == dat.year.unique().size).all(), 'not balanced'"
   ]
  },
  {
   "cell_type": "code",
   "execution_count": 105,
   "metadata": {},
   "outputs": [
    {
     "name": "stdout",
     "output_type": "stream",
     "text": [
      "FD-IV AR(1)\n",
      "Dependent variable: profit\n",
      "\n",
      "                         Beta        Se    t-values\n",
      "-----------------  ----------  --------  ----------\n",
      "lag \\Delta profit  -0.0321733  0.137085   -0.234697\n",
      "R² = nan\n",
      "σ² = 659600.152\n"
     ]
    }
   ],
   "source": [
    "# Estimate using lagged difference as IV and data generated by perm function\n",
    "x_label= ['lag \\Delta profit'] # fill in\n",
    "AR_fdiv2_res2 = lm.estimate(y=yfd, x=yfd_l1, z=yfd_l2, robust_se=True, T=T-2) # Fill in\n",
    "lm.print_table((ylbl,x_label), AR_fdiv2_res2,title='FD-IV AR(1)')"
   ]
  },
  {
   "cell_type": "markdown",
   "metadata": {},
   "source": [
    "Your table should look like this:\n",
    "FD-IV AR(1) <br>\n",
    "Dependent variable: delta profit\n",
    "\n",
    "|                   |   Beta |     Se |   t-values |\n",
    "|-------------------|--------|--------|------------|\n",
    "| lag delta profit|  -0.032 | 0.1317 |       -0.23 |\n",
    "R² = NaN <br>\n",
    "σ² = 659600.152"
   ]
  },
  {
   "cell_type": "markdown",
   "metadata": {},
   "source": [
    "### Summing up Exercises 1 and 2.\n",
    "\n",
    "First of all, is it more convincing to use $\\pi_{it-2}$ or $\\Delta \\pi_{it-2}$ as an instrument for $\\Delta \\pi_{it-1}$?\n",
    "\n",
    "Then consider how the different models compare to each other. Some questions that you might discuss with your class mates could be:\n",
    "* Which ones do you feel gives most sense from an economic perspective?\n",
    "* Which ones gives most sense from an econometric perspective? \n",
    "* Do you feel that there is conclusive evidence that there is state dependence in profit?\n",
    "* Should we give financial aid packages to this industry when  exogenous shocks hit (e.g. Covid)?"
   ]
  },
  {
   "cell_type": "markdown",
   "metadata": {},
   "source": [
    "---\n",
    "\n",
    "Let's backtrack a little.\n",
    "\n",
    "Define dynamic panel data model:\n",
    "\n",
    "$$\n",
    "y_{i t}=c_i+\\rho y_{i t-1}+\\boldsymbol{x}_{i \\boldsymbol{t}} \\boldsymbol{\\beta}+u_{i t}\n",
    "$$\n",
    "\n",
    "POLS is inconsistent, as $E[c_i\\boldsymbol{x}_{i \\boldsymbol{t}}]\\neq 0$. Bad.\n",
    "\n",
    "*What about FE/FD?*\n",
    "\n",
    "They require strict exogeneity.\n",
    "\n",
    "AR(1)-FD model (ignoring potential covariates $x$):\n",
    "\n",
    "$$\n",
    "\\Delta \\pi_{i t}=\\rho \\Delta \\pi_{i t-1}+\\Delta u_{i t}\n",
    "$$\n",
    "\n",
    "Is $E[\\Delta \\pi_{i t-1}\\Delta u_{i t}] = 0$?\n",
    "\n",
    "**No.** Why?\n",
    "\n",
    "\\begin{align*}\n",
    "    \\Delta \\pi_{i t}&=\\rho \\Delta \\pi_{i t-1}+\\Delta u_{i t} \\\\\n",
    "                    (\\pi_{i t}-\\pi_{i t-1})&=\\rho (\\pi_{i t-1}-\\pi_{i t-2})+(u_{i t}-u_{i t-1})\n",
    "\\end{align*}\n",
    "\n",
    "Enough to see, that $-E[\\pi_{t-1}u_{t-1}]\\neq 0 $. **INCONSISTENT**\n",
    "\n",
    "---\n",
    "\n",
    "Solution: Instrument $\\Delta \\pi_{t-1}$ with an instrument $z_{it}$:\n",
    "\n",
    "We require:\n",
    "\n",
    "1) Exogeneity: $\\quad E\\left(\\mathbf{z}_{i t} \\Delta u_{i t}\\right)=0$\n",
    "\n",
    "2) Relevance: $\\quad E\\left(\\mathbf{z}_{i t} \\Delta \\pi_{t-1}\\right) \\neq 0$\n",
    "\n",
    "*But which instrument?*\n",
    "\n",
    "---\n",
    "\n",
    "Let's say there's an exogenous corona shock at time $t-1$. \n",
    "\n",
    "$\\color{cyan}{\\pi_{t-2}}$ as instrument for $\\Delta \\pi_{t-1}$?\n",
    "\n",
    "1) Exogeneity:\n",
    "    \n",
    "    - $E[\\pi_{t-2} \\Delta u_{it}]=E[\\pi_{t-2} (u_{it}-u_{it-1})]=0$?\n",
    "    - *Yes*, profits at time $t-2$ is not correlated with the corona shock at $t-1$.\n",
    "\n",
    "2) Relevance:\n",
    "    \n",
    "    - $E[\\pi_{t-2} \\Delta \\pi_{t-1}]=E[\\pi_{t-2} (\\pi_{t-1}-\\pi_{t-2})] \\neq 0?$\n",
    "    - *Yes*, profits  at time $t=2$ is most certainly correlated with the difference in profits from period $t-2$ to $t-1$.\n",
    "\n",
    "$\\color{cyan}{\\Delta \\pi_{t-2}}$ as instrument for $\\Delta \\pi_{t-1}$?\n",
    "\n",
    "1) Exogeneity: \n",
    "\n",
    "    - $E[\\Delta \\pi_{t-2} \\Delta u_{it}]=E[(\\pi_{t-2}-\\pi_{t-1}) (u_{it}-u_{it-1})]=0$?\n",
    "    - *No*, enough to see that $-E[\\pi_{t-1}u_{t-1}]\\neq 0 $. Profits at time $t-1$ are of course correlated with an exogenous corona shock at time $t-1$.\n",
    "\n",
    "2) Relevance:\n",
    "\n",
    "    - $E[\\Delta \\pi_{t-2} \\Delta \\pi_{t-1}]=E[(\\pi_{t-2}-\\pi_{t-1})(\\pi_{t-1}-\\pi_{t-2})] \\neq 0?$\n",
    "    - *Yes*, enough to see that $-E[\\pi_{t-1}u_{t-1}]\\neq 0 $. While it is a relevant instrument, it is violating the exogeneity assumption (see above).\n",
    "\n",
    "---\n",
    "\n",
    "Instrumenting $\\Delta \\pi_{t-1}$ with $\\color{cyan}{\\pi_{t-2}}$, we found that:\n",
    "\n",
    "FD-IV AR(1) <br>\n",
    "Dependent variable: delta profit\n",
    "\n",
    "|                   |   Beta |     Se |   t-values |\n",
    "|-------------------|--------|--------|------------|\n",
    "| lagged profit     |  0.129 |  0.0763|      1.69 | \n",
    "R² = n.a. <br>\n",
    "σ² = 700805.974\n",
    "\n",
    "We reject the notion of state dependence. That is, previous (potentially poor) profits does not have persistent effect on future firm performance. This does not support the idea of giving support to firms in the event exogenous shock (such as COVID-19).\n",
    "\n",
    "---"
   ]
  },
  {
   "cell_type": "markdown",
   "metadata": {},
   "source": [
    "## Part 3: GMM"
   ]
  },
  {
   "cell_type": "markdown",
   "metadata": {},
   "source": [
    "### Question 3.1: Create the level instrument matrix $\\mathbf{Z^{\\mathbf{o}}}$\n",
    "\n",
    "The function `sequential_instruments` in `gmm.py` in creates the instrument matrix $\\mathbf{Z^{\\mathbf{o}}}$ using the second lag of $\\pi$ in **levels**. Note that you will not have one array that looks like $\\mathbf{Z^{\\mathbf{o}}}$, but an array that has something that looks like $\\mathbf{Z^{\\mathbf{o}}}$ for each firm in the data. Since we have six time periods, and access to $y_{i0}$, you should get five rows of instruments for each firm.\n",
    "$$\n",
    "\\mathbf{Z^{\\mathbf{o}}} = \n",
    "\\begin{bmatrix}\n",
    "    y_{i0} & 0 & 0 & 0 & 0 & 0 & \\cdots & 0 \\\\\n",
    "    0 & y_{i0} & y_{i1} & 0 & 0 & 0 & \\cdots & 0 \\\\\n",
    "    0 & 0 & 0 & y_{i0} & y_{i1} & y_{i2} & \\cdots & 0 \\\\\n",
    "    \\vdots  & \\vdots & \\vdots & \\vdots & \\vdots & \\vdots & \\ddots & \\vdots \\\\\n",
    "    0 & 0 & 0 & 0 & 0 & 0 & \\cdots & \\mathbf{y^o_{it-2}} \\\\\n",
    "\\end{bmatrix}\n",
    "\\begin{pmatrix}\n",
    "t = 2 \\\\\n",
    "t = 3 \\\\\n",
    "t = 3 \\\\\n",
    "\\vdots \\\\\n",
    "t = T\n",
    "\\end{pmatrix}.\n",
    "$$"
   ]
  },
  {
   "cell_type": "code",
   "execution_count": 107,
   "metadata": {},
   "outputs": [],
   "source": [
    "import gmm_ante as gmm"
   ]
  },
  {
   "cell_type": "code",
   "execution_count": 108,
   "metadata": {},
   "outputs": [],
   "source": [
    "# reset: now we no longer need to delete *3* years but only 2. This is because we're letting the IV matrix expand over time.\n",
    "I = dat.lag_diff_net_inc.notnull()\n",
    "\n",
    "yfd    = dat[I].diff_net_inc.values.reshape((-1,1))\n",
    "yfd_l  = dat[I].lag_diff_net_inc.values.reshape((-1,1))\n",
    "years  = dat[I].year.values"
   ]
  },
  {
   "cell_type": "code",
   "execution_count": 109,
   "metadata": {},
   "outputs": [
    {
     "name": "stdout",
     "output_type": "stream",
     "text": [
      "[[-28.187   0.      0.    ...   0.      0.      0.   ]\n",
      " [  0.    -28.187 -62.855 ...   0.      0.      0.   ]\n",
      " [  0.      0.      0.    ...   0.      0.      0.   ]\n",
      " ...\n",
      " [  0.      0.      0.    ...   0.      0.      0.   ]\n",
      " [  0.      0.      0.    ...   0.      0.      0.   ]\n",
      " [  0.      0.      0.    ... 690.033 511.393 585.533]]\n"
     ]
    }
   ],
   "source": [
    "# Create (telescoping) instrument matrix \n",
    "z = gmm.sequential_instruments(y_2_lag, T)\n",
    "print(z)"
   ]
  },
  {
   "cell_type": "markdown",
   "metadata": {},
   "source": [
    "##### your instrument matrix should look like this:\n",
    "$$\n",
    "\\begin{bmatrix}\n",
    "-28.187 &  0. &     0.  &  ... &  0.  &    0.  &    0.   \\\\\n",
    " 0.  &  -28.187 & -62.855& ... &  0.   &   0.  &    0.   \\\\\n",
    "  0. &     0.  &    0. &   ... &  0.  &    0.  &    0.   \\\\\n",
    " &&&...&&&\\\\\n",
    "   0.   &   0.   &   0. &   ... &  0.  &    0.  &    0.   \\\\\n",
    "   0.    &  0.  &    0.  &  ...  & 0.    &  0.   &   0.   \\\\\n",
    "   0.  &    0.   &   0.  &  ... & 690.033 & 511.393 &585.533\\\\\n",
    " \\end{bmatrix}\n",
    " $$"
   ]
  },
  {
   "cell_type": "markdown",
   "metadata": {},
   "source": [
    "### Question 3.2: GMM 1-step and 2-step\n",
    "\n",
    "Compute the following quantities: \n",
    "\n",
    "a) the initial weighting matrix, \n",
    "\n",
    "b) the first-step gmm estimator, \n",
    "\n",
    "c) the updated weighting matrix, \n",
    "\n",
    "d) the 2-step gmm estimator,\n",
    "\n",
    "e) the standard errors,\n",
    "\n",
    "f) the Sargent statistic\n",
    "\n",
    "*Note: In formulas below we do not include $\\frac1N$ in  the definition of $\\hat{\\mathbf{W}}$. This only has implications for the formula for $\\text{Avar}(\\hat{\\boldsymbol{\\beta}})$.*"
   ]
  },
  {
   "cell_type": "markdown",
   "metadata": {},
   "source": [
    "a) Write the initial weighting matrix $\\hat{\\mathbf{W}}$ used for the 1-step GMM estimator (equivalent to System 2SLS). What are $\\hat{\\mathbf{W}}$'s dimensions?\n",
    "\n",
    "$$\\mathbf{W}=(\\mathbf{Z}'\\mathbf{Z})^{-1}$$"
   ]
  },
  {
   "cell_type": "code",
   "execution_count": 112,
   "metadata": {},
   "outputs": [],
   "source": [
    "# Compute the initial weighting matrix \n",
    "W=la.inv(z.T@z)\n"
   ]
  },
  {
   "cell_type": "markdown",
   "metadata": {},
   "source": [
    "b) Compute the first step GMM estimator:\n",
    "\n",
    "$$\\hat{\\boldsymbol{\\beta}}_{GMM}= (\\mathbf{X}'\\mathbf{Z}\\hat{\\mathbf{W}}\\mathbf{Z}'\\mathbf{X})^{-1}\\mathbf{X}'\\mathbf{Z}\\hat{\\mathbf{W}}\\mathbf{Z}'\\mathbf{Y}$$"
   ]
  },
  {
   "cell_type": "code",
   "execution_count": 114,
   "metadata": {},
   "outputs": [
    {
     "name": "stdout",
     "output_type": "stream",
     "text": [
      "beta_gmm= [[-0.02163]]\n"
     ]
    }
   ],
   "source": [
    "# Compute the 2sls estimator (1-step GMM)\n",
    "beta_gmm=la.inv(y_fd_l.T@z@W@z.T@y_fd_l)@y_fd_l.T@z@W@z.T@y_fd\n",
    "print(\"beta_gmm=\",beta_gmm)"
   ]
  },
  {
   "cell_type": "markdown",
   "metadata": {},
   "source": [
    "you should get: `beta_gmm=[[-0.02163]]`"
   ]
  },
  {
   "cell_type": "markdown",
   "metadata": {},
   "source": [
    "c) Write the expression for the updated weighting matrix used for 2-step GMM (Arellano Bond). What is the dimension of this matrix?\n",
    "\n",
    "\n",
    "$$\\hat{\\mathbf{W}}^{\\text{opt}}\n",
    "= \\left(\\sum^N_{i=1}\\mathbf{Z}_i'\\hat{\\mathbf{u}}_i\\hat{\\mathbf{u}}_i'\\mathbf{Z}_i \\right)^{-1}$$"
   ]
  },
  {
   "cell_type": "code",
   "execution_count": 115,
   "metadata": {},
   "outputs": [
    {
     "data": {
      "text/plain": [
       "(10704, 21)"
      ]
     },
     "execution_count": 115,
     "metadata": {},
     "output_type": "execute_result"
    }
   ],
   "source": [
    "z.shape"
   ]
  },
  {
   "cell_type": "code",
   "execution_count": 116,
   "metadata": {},
   "outputs": [],
   "source": [
    "# Compute the updated weighting matrix\n",
    "# you'll need to compute residuals ui_hat\n",
    "# you should use a loop to multiply each individual's Z_i and ui_hat separately\n",
    "res = y_fd-y_fd_l@beta_gmm\n",
    "\n",
    "S=np.zeros((z.shape[1],z.shape[1]))\n",
    "for i in range(N):\n",
    "        idx = slice(i*(T-1), (i + 1)*(T-1)) # rows for individual i \n",
    "        zi = z[idx]\n",
    "        resi = res[idx]\n",
    "        S += zi.T@(resi@resi.T)@zi\n",
    "W_opt=la.inv(S)"
   ]
  },
  {
   "cell_type": "code",
   "execution_count": 120,
   "metadata": {},
   "outputs": [
    {
     "data": {
      "text/plain": [
       "array([[ 7.48147e-16,  3.67154e-16, -2.03557e-16,  1.91948e-16,\n",
       "         1.61370e-16, -1.55514e-16,  1.80372e-16,  1.34800e-16,\n",
       "        -1.69600e-16,  5.37212e-17,  1.37901e-17,  5.76005e-17,\n",
       "         7.78854e-17, -3.70455e-17, -6.60175e-17, -9.77875e-17,\n",
       "        -2.49994e-16,  3.44807e-16, -3.37041e-17,  3.12954e-17,\n",
       "        -1.44593e-16],\n",
       "       [ 3.67154e-16,  2.41508e-15, -1.47188e-15,  1.27232e-15,\n",
       "        -5.86573e-16,  5.07875e-17,  9.94694e-16, -5.21464e-16,\n",
       "        -8.65491e-17,  2.63461e-16,  7.20011e-16, -3.80058e-16,\n",
       "         2.90286e-16, -1.58448e-16,  9.69818e-18, -2.31766e-16,\n",
       "         4.53936e-16, -3.59347e-16,  2.63587e-16,  7.14509e-17,\n",
       "        -2.78567e-17],\n",
       "       [-2.03557e-16, -1.47188e-15,  1.37215e-15, -7.65331e-16,\n",
       "         5.46910e-16, -9.79207e-17, -6.00196e-16,  3.73850e-16,\n",
       "         1.77152e-16, -2.05139e-16, -3.85849e-16,  2.37952e-16,\n",
       "         2.41788e-18, -7.46593e-17, -1.59001e-17,  3.56430e-16,\n",
       "        -3.57635e-16,  4.05643e-16, -2.91815e-16,  2.48788e-18,\n",
       "        -1.80276e-17],\n",
       "       [ 1.91948e-16,  1.27232e-15, -7.65331e-16,  1.62980e-15,\n",
       "        -6.40350e-16, -1.33055e-16,  1.46323e-15, -7.51935e-16,\n",
       "        -7.24335e-17, -9.25342e-17,  9.26142e-16, -4.35241e-16,\n",
       "         6.36281e-17, -1.10333e-16,  3.04379e-17,  2.92009e-16,\n",
       "        -2.75987e-16,  1.76718e-16, -1.20809e-16, -1.41272e-17,\n",
       "        -6.48368e-17],\n",
       "       [ 1.61370e-16, -5.86573e-16,  5.46910e-16, -6.40350e-16,\n",
       "         1.11587e-15, -4.09932e-16, -6.46450e-16,  9.91385e-16,\n",
       "        -2.58344e-16, -1.58563e-17, -4.03316e-16,  5.48104e-16,\n",
       "        -1.18659e-16, -1.80139e-17, -3.45149e-17, -2.11439e-16,\n",
       "         1.01175e-16,  9.19390e-17,  1.01559e-16, -5.94216e-17,\n",
       "         1.31890e-17],\n",
       "       [-1.55514e-16,  5.07875e-17, -9.79207e-17, -1.33055e-16,\n",
       "        -4.09932e-16,  5.79605e-16, -1.05986e-16, -3.46661e-16,\n",
       "         3.59320e-16,  8.45912e-17, -5.79774e-17, -2.09099e-16,\n",
       "         1.19860e-17,  9.79405e-17,  4.16780e-17, -1.89733e-17,\n",
       "         1.64281e-16, -1.56682e-16,  5.16063e-17,  2.97181e-18,\n",
       "         2.05633e-17],\n",
       "       [ 1.80372e-16,  9.94694e-16, -6.00196e-16,  1.46323e-15,\n",
       "        -6.46450e-16, -1.05986e-16,  1.87407e-15, -9.27248e-16,\n",
       "        -1.20683e-16, -6.84503e-17,  1.14154e-15, -5.71532e-16,\n",
       "         1.39811e-16, -1.73295e-16,  4.95245e-17,  1.68041e-16,\n",
       "        -2.81405e-16,  2.87061e-16, -1.99350e-16, -8.04880e-18,\n",
       "        -1.03174e-16],\n",
       "       [ 1.34800e-16, -5.21464e-16,  3.73850e-16, -7.51935e-16,\n",
       "         9.91385e-16, -3.46661e-16, -9.27248e-16,  1.93569e-15,\n",
       "        -6.64004e-16, -1.29049e-16, -5.94907e-16,  9.71300e-16,\n",
       "        -2.67731e-16, -1.36873e-16, -3.19074e-17, -2.13648e-16,\n",
       "         1.31939e-16,  1.93586e-16, -1.52633e-16,  7.10301e-17,\n",
       "        -4.48047e-17],\n",
       "       [-1.69600e-16, -8.65491e-17,  1.77152e-16, -7.24335e-17,\n",
       "        -2.58344e-16,  3.59320e-16, -1.20683e-16, -6.64004e-16,\n",
       "         1.22123e-15, -1.77518e-16,  6.83615e-17, -3.86233e-16,\n",
       "         6.27393e-16, -1.32337e-16, -8.05852e-17,  2.23534e-16,\n",
       "         2.37555e-17,  8.47068e-17, -3.00275e-17, -7.65732e-17,\n",
       "        -1.06860e-17],\n",
       "       [ 5.37212e-17,  2.63461e-16, -2.05139e-16, -9.25342e-17,\n",
       "        -1.58563e-17,  8.45912e-17, -6.84503e-17, -1.29049e-16,\n",
       "        -1.77518e-16,  6.76040e-16, -7.99394e-17, -1.31091e-16,\n",
       "        -1.09006e-16,  3.70665e-16,  3.66066e-18, -8.21851e-17,\n",
       "        -1.35548e-16, -2.01883e-16,  4.27550e-16,  8.80477e-17,\n",
       "        -5.55027e-17],\n",
       "       [ 1.37901e-17,  7.20011e-16, -3.85849e-16,  9.26142e-16,\n",
       "        -4.03316e-16, -5.79774e-17,  1.14154e-15, -5.94907e-16,\n",
       "         6.83615e-17, -7.99394e-17,  1.24030e-15, -7.79020e-16,\n",
       "         3.52965e-16, -2.40100e-16,  5.62495e-18,  3.27465e-16,\n",
       "        -4.76296e-16,  3.60060e-16, -1.70645e-16, -6.49040e-17,\n",
       "        -6.75961e-17],\n",
       "       [ 5.76005e-17, -3.80058e-16,  2.37952e-16, -4.35241e-16,\n",
       "         5.48104e-16, -2.09099e-16, -5.71532e-16,  9.71300e-16,\n",
       "        -3.86233e-16, -1.31091e-16, -7.79020e-16,  1.43833e-15,\n",
       "        -8.18929e-16,  1.01799e-16,  1.71354e-17, -5.65559e-16,\n",
       "         5.56558e-16, -9.21522e-17, -1.10338e-16,  1.59834e-17,\n",
       "         1.63663e-17],\n",
       "       [ 7.78854e-17,  2.90286e-16,  2.41788e-18,  6.36281e-17,\n",
       "        -1.18659e-16,  1.19860e-17,  1.39811e-16, -2.67731e-16,\n",
       "         6.27393e-16, -1.09006e-16,  3.52965e-16, -8.18929e-16,\n",
       "         1.82811e-15, -8.86874e-16, -2.10524e-16,  5.62386e-16,\n",
       "        -3.03800e-16,  5.39204e-16, -1.32618e-16, -7.86381e-17,\n",
       "         5.73600e-17],\n",
       "       [-3.70455e-17, -1.58448e-16, -7.46593e-17, -1.10333e-16,\n",
       "        -1.80139e-17,  9.79405e-17, -1.73295e-16, -1.36873e-16,\n",
       "        -1.32337e-16,  3.70665e-16, -2.40100e-16,  1.01799e-16,\n",
       "        -8.86874e-16,  9.55714e-16, -5.33720e-20, -2.37733e-16,\n",
       "        -4.12155e-17, -2.84330e-16,  4.50701e-16, -2.19609e-17,\n",
       "        -8.36822e-17],\n",
       "       [-6.60175e-17,  9.69818e-18, -1.59001e-17,  3.04379e-17,\n",
       "        -3.45149e-17,  4.16780e-17,  4.95245e-17, -3.19074e-17,\n",
       "        -8.05852e-17,  3.66066e-18,  5.62495e-18,  1.71354e-17,\n",
       "        -2.10524e-16, -5.33720e-20,  3.06434e-16, -1.28877e-16,\n",
       "         4.91595e-17, -6.69195e-17, -8.27280e-17,  1.16255e-16,\n",
       "        -6.64440e-18],\n",
       "       [-9.77875e-17, -2.31766e-16,  3.56430e-16,  2.92009e-16,\n",
       "        -2.11439e-16, -1.89733e-17,  1.68041e-16, -2.13648e-16,\n",
       "         2.23534e-16, -8.21851e-17,  3.27465e-16, -5.65559e-16,\n",
       "         5.62386e-16, -2.37733e-16, -1.28877e-16,  9.25831e-16,\n",
       "        -6.44017e-16,  2.41686e-16, -7.66795e-17, -1.74717e-16,\n",
       "         1.64112e-17],\n",
       "       [-2.49994e-16,  4.53936e-16, -3.57635e-16, -2.75987e-16,\n",
       "         1.01175e-16,  1.64281e-16, -2.81405e-16,  1.31939e-16,\n",
       "         2.37555e-17, -1.35548e-16, -4.76296e-16,  5.56558e-16,\n",
       "        -3.03800e-16, -4.12155e-17,  4.91595e-17, -6.44017e-16,\n",
       "         1.57817e-15, -9.46238e-16,  5.19577e-17, -6.43685e-17,\n",
       "         1.14996e-16],\n",
       "       [ 3.44807e-16, -3.59347e-16,  4.05643e-16,  1.76718e-16,\n",
       "         9.19390e-17, -1.56682e-16,  2.87061e-16,  1.93586e-16,\n",
       "         8.47068e-17, -2.01883e-16,  3.60060e-16, -9.21522e-17,\n",
       "         5.39204e-16, -2.84330e-16, -6.69195e-17,  2.41686e-16,\n",
       "        -9.46238e-16,  1.57166e-15, -6.06513e-16,  2.19973e-16,\n",
       "        -2.87747e-16],\n",
       "       [-3.37041e-17,  2.63587e-16, -2.91815e-16, -1.20809e-16,\n",
       "         1.01559e-16,  5.16063e-17, -1.99350e-16, -1.52633e-16,\n",
       "        -3.00275e-17,  4.27550e-16, -1.70645e-16, -1.10338e-16,\n",
       "        -1.32618e-16,  4.50701e-16, -8.27280e-17, -7.66795e-17,\n",
       "         5.19577e-17, -6.06513e-16,  9.34576e-16, -1.63976e-16,\n",
       "        -4.53988e-17],\n",
       "       [ 3.12954e-17,  7.14509e-17,  2.48788e-18, -1.41272e-17,\n",
       "        -5.94216e-17,  2.97181e-18, -8.04880e-18,  7.10301e-17,\n",
       "        -7.65732e-17,  8.80477e-17, -6.49040e-17,  1.59834e-17,\n",
       "        -7.86381e-17, -2.19609e-17,  1.16255e-16, -1.74717e-16,\n",
       "        -6.43685e-17,  2.19973e-16, -1.63976e-16,  8.04832e-16,\n",
       "        -3.57302e-16],\n",
       "       [-1.44593e-16, -2.78567e-17, -1.80276e-17, -6.48368e-17,\n",
       "         1.31890e-17,  2.05633e-17, -1.03174e-16, -4.48047e-17,\n",
       "        -1.06860e-17, -5.55027e-17, -6.75961e-17,  1.63663e-17,\n",
       "         5.73600e-17, -8.36822e-17, -6.64440e-18,  1.64112e-17,\n",
       "         1.14996e-16, -2.87747e-16, -4.53988e-17, -3.57302e-16,\n",
       "         5.61386e-16]])"
      ]
     },
     "execution_count": 120,
     "metadata": {},
     "output_type": "execute_result"
    }
   ],
   "source": [
    "W_opt"
   ]
  },
  {
   "cell_type": "markdown",
   "metadata": {},
   "source": [
    "d) Compute the second-step GMM estimator using this weighting matrix\n",
    "\n",
    "$$\\hat{\\boldsymbol{\\beta}}_{GMM}^{\\text{opt}}= (\\mathbf{X}'\\mathbf{Z}\\hat{\\mathbf{W}}^{\\text{opt}}\\mathbf{Z}'\\mathbf{X})^{-1}\\mathbf{X}'\\mathbf{Z}\\hat{\\mathbf{W}}^{\\text{opt}}\\mathbf{Z}'\\mathbf{Y}$$"
   ]
  },
  {
   "cell_type": "code",
   "execution_count": 121,
   "metadata": {},
   "outputs": [
    {
     "name": "stdout",
     "output_type": "stream",
     "text": [
      "beta_gmm= [[0.07076]]\n"
     ]
    }
   ],
   "source": [
    "# Compute the 2-step GMM estimator \n",
    "beta_gmm2 = la.inv(y_fd_l.T@z@W_opt@z.T@y_fd_l)@y_fd_l.T@z@W_opt@z.T@y_fd\n",
    "print(\"beta_gmm=\",beta_gmm2)"
   ]
  },
  {
   "cell_type": "markdown",
   "metadata": {},
   "source": [
    "You should get: `beta_gmm= [[0.07076]]`"
   ]
  },
  {
   "cell_type": "markdown",
   "metadata": {},
   "source": [
    "e) Compute standard errors: \n",
    "$$\\hat{\\mathbf{V}}(\\hat{\\boldsymbol{\\beta}}_{\\text{GMM}}^{\\text{opt}}) = \\left(\\mathbf{X'}\\mathbf{Z}\\hat{\\mathbf{W}}^{\\text{opt}}\\mathbf{Z}'\\mathbf{X}\\right)^{-1}$$"
   ]
  },
  {
   "cell_type": "code",
   "execution_count": 125,
   "metadata": {},
   "outputs": [
    {
     "name": "stdout",
     "output_type": "stream",
     "text": [
      "se = [[0.03733]], t = [[1.8954]]\n"
     ]
    }
   ],
   "source": [
    "X = yfd_l\n",
    "Z = z\n",
    "W = W_opt\n",
    "cov = la.inv(X.T@Z@W@Z.T@X)\n",
    "se = np.sqrt(cov)\n",
    "print(f'se = {se}, t = {beta_gmm2/se}')"
   ]
  },
  {
   "cell_type": "markdown",
   "metadata": {},
   "source": [
    "You should get: `se = [0.03733], t = [[1.8954]]`"
   ]
  },
  {
   "cell_type": "markdown",
   "metadata": {},
   "source": [
    "f) Write up the Sargan Test Statistic. What does it provide a test of? What can you conclude from this test?\n",
    "\n",
    "$$\n",
    "\\mathbf{J}:=\\hat{\\mathbf{u}}^{\\prime} \\mathbf{Z} \\mathbf{W} \\mathbf{Z}^{\\prime} \\hat{\\mathbf{u}} \\sim \\chi_M^2\n",
    "$$\n",
    "\n",
    "where $\\mathbf{W} = (N \\hat{\\mathbf{S}})^{-1}= (\\sum_i \\mathbf{Z}_i' \\hat{\\mathbf{u}}_i\\hat{\\mathbf{u}}_i' \\mathbf{Z}_i)^{-1}$"
   ]
  },
  {
   "cell_type": "code",
   "execution_count": 126,
   "metadata": {
    "tags": []
   },
   "outputs": [
    {
     "name": "stdout",
     "output_type": "stream",
     "text": [
      "The Sargan test statistic is: 43, with p-value: 0.002.\n"
     ]
    }
   ],
   "source": [
    "#Compute the Sargan Test Stat\n",
    "J = res.T@Z@W@Z.T@res\n",
    "\n",
    "# Run test and print results\n",
    "r=z.shape[1] # number of instruments\n",
    "K=yfd_l.shape[1] # number of regressors\n",
    "df=r-K # number of overidentifying restrictions\n",
    "p_val = chi2.sf(J.flatten()[0], df)\n",
    "\n",
    "print(f'The Sargan test statistic is: {J.item():.2g}, with p-value: {p_val:.2g}.')"
   ]
  },
  {
   "cell_type": "markdown",
   "metadata": {},
   "source": [
    "The Sargent test tells us if there is overidentifying restrictions.\n",
    "\n",
    "Under the null, all IV's are all valid.\n",
    "\n",
    "We reject the null and conclude that *at least* one instrument is invalid."
   ]
  },
  {
   "cell_type": "markdown",
   "metadata": {},
   "source": [
    "You should get\n",
    "\n",
    "The Sargan test statistic is: 43, with p-value: 0.002."
   ]
  },
  {
   "cell_type": "code",
   "execution_count": null,
   "metadata": {},
   "outputs": [],
   "source": []
  }
 ],
 "metadata": {
  "kernelspec": {
   "display_name": "Python 3.9.13 ('base')",
   "language": "python",
   "name": "python3"
  },
  "language_info": {
   "codemirror_mode": {
    "name": "ipython",
    "version": 3
   },
   "file_extension": ".py",
   "mimetype": "text/x-python",
   "name": "python",
   "nbconvert_exporter": "python",
   "pygments_lexer": "ipython3",
   "version": "3.9.13"
  },
  "vscode": {
   "interpreter": {
    "hash": "054e95b4819972eba8d406807e822e3be9cca805528e86310f8e3ac8dc287778"
   }
  }
 },
 "nbformat": 4,
 "nbformat_minor": 4
}
