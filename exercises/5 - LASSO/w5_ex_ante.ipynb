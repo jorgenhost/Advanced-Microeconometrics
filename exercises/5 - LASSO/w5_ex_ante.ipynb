{
 "cells": [
  {
   "cell_type": "markdown",
   "metadata": {},
   "source": [
    "# Week 5: Lasso"
   ]
  },
  {
   "cell_type": "markdown",
   "metadata": {},
   "source": [
    "The purpose of this week's exercises is to get our hands dirty using tools for high-dimensional estimation. We will here focus on the Lasso. However, most if not all exercises below can be done for the Ridge estimator, Dantzig selector, and the Elastic Net. (Do it!) We will use the \"housing.csv\" dataset, which contains data on house prices and more across districts in California. \n",
    "\n",
    "(The dataset is a slightly modified version of one initially featured in the paper \"Sparse spatial autoregressions\" by Pace and Barry in Statistics & Probability Letters 33.3 (1997), pp. 291-297. The data is from the 1990 census, so it will sadly not help you predict current house prices)"
   ]
  },
  {
   "cell_type": "markdown",
   "metadata": {},
   "source": [
    "## Load and explore the dataset"
   ]
  },
  {
   "cell_type": "code",
   "execution_count": 1,
   "metadata": {},
   "outputs": [
    {
     "name": "stdout",
     "output_type": "stream",
     "text": [
      "The number of rows and colums are (20640, 10) and also called shape of the matrix\n",
      "Columns names are \n",
      " Index(['longitude', 'latitude', 'housing_median_age', 'total_rooms',\n",
      "       'total_bedrooms', 'population', 'households', 'median_income',\n",
      "       'median_house_value', 'ocean_proximity'],\n",
      "      dtype='object')\n",
      "   longitude  latitude  housing_median_age  total_rooms  total_bedrooms  \\\n",
      "0    -122.23     37.88                41.0        880.0           129.0   \n",
      "1    -122.22     37.86                21.0       7099.0          1106.0   \n",
      "2    -122.24     37.85                52.0       1467.0           190.0   \n",
      "3    -122.25     37.85                52.0       1274.0           235.0   \n",
      "4    -122.25     37.85                52.0       1627.0           280.0   \n",
      "\n",
      "   population  households  median_income  median_house_value ocean_proximity  \n",
      "0       322.0       126.0         8.3252            452600.0        NEAR BAY  \n",
      "1      2401.0      1138.0         8.3014            358500.0        NEAR BAY  \n",
      "2       496.0       177.0         7.2574            352100.0        NEAR BAY  \n",
      "3       558.0       219.0         5.6431            341300.0        NEAR BAY  \n",
      "4       565.0       259.0         3.8462            342200.0        NEAR BAY  \n",
      "       longitude  latitude  housing_median_age  total_rooms  total_bedrooms  \\\n",
      "20635    -121.09     39.48                25.0       1665.0           374.0   \n",
      "20636    -121.21     39.49                18.0        697.0           150.0   \n",
      "20637    -121.22     39.43                17.0       2254.0           485.0   \n",
      "20638    -121.32     39.43                18.0       1860.0           409.0   \n",
      "20639    -121.24     39.37                16.0       2785.0           616.0   \n",
      "\n",
      "       population  households  median_income  median_house_value  \\\n",
      "20635       845.0       330.0         1.5603             78100.0   \n",
      "20636       356.0       114.0         2.5568             77100.0   \n",
      "20637      1007.0       433.0         1.7000             92300.0   \n",
      "20638       741.0       349.0         1.8672             84700.0   \n",
      "20639      1387.0       530.0         2.3886             89400.0   \n",
      "\n",
      "      ocean_proximity  \n",
      "20635          INLAND  \n",
      "20636          INLAND  \n",
      "20637          INLAND  \n",
      "20638          INLAND  \n",
      "20639          INLAND  \n",
      "longitude             float64\n",
      "latitude              float64\n",
      "housing_median_age    float64\n",
      "total_rooms           float64\n",
      "total_bedrooms        float64\n",
      "population            float64\n",
      "households            float64\n",
      "median_income         float64\n",
      "median_house_value    float64\n",
      "ocean_proximity        object\n",
      "dtype: object\n"
     ]
    },
    {
     "data": {
      "text/plain": [
       "longitude               0\n",
       "latitude                0\n",
       "housing_median_age      0\n",
       "total_rooms             0\n",
       "total_bedrooms        207\n",
       "population              0\n",
       "households              0\n",
       "median_income           0\n",
       "median_house_value      0\n",
       "ocean_proximity         0\n",
       "dtype: int64"
      ]
     },
     "execution_count": 1,
     "metadata": {},
     "output_type": "execute_result"
    }
   ],
   "source": [
    "# Read data\n",
    "import pandas as pd\n",
    "housing = pd.read_csv(\"housing.csv\")\n",
    "print(\"The number of rows and colums are {} and also called shape of the matrix\".format(housing.shape)) # data dimensions\n",
    "print(\"Columns names are \\n {}\".format(housing.columns))\n",
    "print(housing.head()) # first observations\n",
    "print(housing.tail()) # last observations\n",
    "print(housing.dtypes) # data types\n",
    "housing.isnull().sum() # check for missing values"
   ]
  },
  {
   "cell_type": "code",
   "execution_count": 2,
   "metadata": {},
   "outputs": [],
   "source": [
    "from sklearn.experimental import enable_iterative_imputer\n",
    "from sklearn.impute import IterativeImputer\n",
    "import numpy as np"
   ]
  },
  {
   "cell_type": "code",
   "execution_count": 3,
   "metadata": {},
   "outputs": [
    {
     "data": {
      "text/html": [
       "<div>\n",
       "<style scoped>\n",
       "    .dataframe tbody tr th:only-of-type {\n",
       "        vertical-align: middle;\n",
       "    }\n",
       "\n",
       "    .dataframe tbody tr th {\n",
       "        vertical-align: top;\n",
       "    }\n",
       "\n",
       "    .dataframe thead th {\n",
       "        text-align: right;\n",
       "    }\n",
       "</style>\n",
       "<table border=\"1\" class=\"dataframe\">\n",
       "  <thead>\n",
       "    <tr style=\"text-align: right;\">\n",
       "      <th></th>\n",
       "      <th>longitude</th>\n",
       "      <th>latitude</th>\n",
       "      <th>housing_median_age</th>\n",
       "      <th>total_rooms</th>\n",
       "      <th>total_bedrooms</th>\n",
       "      <th>population</th>\n",
       "      <th>households</th>\n",
       "      <th>median_income</th>\n",
       "      <th>median_house_value</th>\n",
       "    </tr>\n",
       "  </thead>\n",
       "  <tbody>\n",
       "    <tr>\n",
       "      <th>0</th>\n",
       "      <td>-122.23</td>\n",
       "      <td>37.88</td>\n",
       "      <td>41.0</td>\n",
       "      <td>880.0</td>\n",
       "      <td>129.0</td>\n",
       "      <td>322.0</td>\n",
       "      <td>126.0</td>\n",
       "      <td>8.3252</td>\n",
       "      <td>452600.0</td>\n",
       "    </tr>\n",
       "    <tr>\n",
       "      <th>1</th>\n",
       "      <td>-122.22</td>\n",
       "      <td>37.86</td>\n",
       "      <td>21.0</td>\n",
       "      <td>7099.0</td>\n",
       "      <td>1106.0</td>\n",
       "      <td>2401.0</td>\n",
       "      <td>1138.0</td>\n",
       "      <td>8.3014</td>\n",
       "      <td>358500.0</td>\n",
       "    </tr>\n",
       "    <tr>\n",
       "      <th>2</th>\n",
       "      <td>-122.24</td>\n",
       "      <td>37.85</td>\n",
       "      <td>52.0</td>\n",
       "      <td>1467.0</td>\n",
       "      <td>190.0</td>\n",
       "      <td>496.0</td>\n",
       "      <td>177.0</td>\n",
       "      <td>7.2574</td>\n",
       "      <td>352100.0</td>\n",
       "    </tr>\n",
       "    <tr>\n",
       "      <th>3</th>\n",
       "      <td>-122.25</td>\n",
       "      <td>37.85</td>\n",
       "      <td>52.0</td>\n",
       "      <td>1274.0</td>\n",
       "      <td>235.0</td>\n",
       "      <td>558.0</td>\n",
       "      <td>219.0</td>\n",
       "      <td>5.6431</td>\n",
       "      <td>341300.0</td>\n",
       "    </tr>\n",
       "    <tr>\n",
       "      <th>4</th>\n",
       "      <td>-122.25</td>\n",
       "      <td>37.85</td>\n",
       "      <td>52.0</td>\n",
       "      <td>1627.0</td>\n",
       "      <td>280.0</td>\n",
       "      <td>565.0</td>\n",
       "      <td>259.0</td>\n",
       "      <td>3.8462</td>\n",
       "      <td>342200.0</td>\n",
       "    </tr>\n",
       "    <tr>\n",
       "      <th>...</th>\n",
       "      <td>...</td>\n",
       "      <td>...</td>\n",
       "      <td>...</td>\n",
       "      <td>...</td>\n",
       "      <td>...</td>\n",
       "      <td>...</td>\n",
       "      <td>...</td>\n",
       "      <td>...</td>\n",
       "      <td>...</td>\n",
       "    </tr>\n",
       "    <tr>\n",
       "      <th>20635</th>\n",
       "      <td>-121.09</td>\n",
       "      <td>39.48</td>\n",
       "      <td>25.0</td>\n",
       "      <td>1665.0</td>\n",
       "      <td>374.0</td>\n",
       "      <td>845.0</td>\n",
       "      <td>330.0</td>\n",
       "      <td>1.5603</td>\n",
       "      <td>78100.0</td>\n",
       "    </tr>\n",
       "    <tr>\n",
       "      <th>20636</th>\n",
       "      <td>-121.21</td>\n",
       "      <td>39.49</td>\n",
       "      <td>18.0</td>\n",
       "      <td>697.0</td>\n",
       "      <td>150.0</td>\n",
       "      <td>356.0</td>\n",
       "      <td>114.0</td>\n",
       "      <td>2.5568</td>\n",
       "      <td>77100.0</td>\n",
       "    </tr>\n",
       "    <tr>\n",
       "      <th>20637</th>\n",
       "      <td>-121.22</td>\n",
       "      <td>39.43</td>\n",
       "      <td>17.0</td>\n",
       "      <td>2254.0</td>\n",
       "      <td>485.0</td>\n",
       "      <td>1007.0</td>\n",
       "      <td>433.0</td>\n",
       "      <td>1.7000</td>\n",
       "      <td>92300.0</td>\n",
       "    </tr>\n",
       "    <tr>\n",
       "      <th>20638</th>\n",
       "      <td>-121.32</td>\n",
       "      <td>39.43</td>\n",
       "      <td>18.0</td>\n",
       "      <td>1860.0</td>\n",
       "      <td>409.0</td>\n",
       "      <td>741.0</td>\n",
       "      <td>349.0</td>\n",
       "      <td>1.8672</td>\n",
       "      <td>84700.0</td>\n",
       "    </tr>\n",
       "    <tr>\n",
       "      <th>20639</th>\n",
       "      <td>-121.24</td>\n",
       "      <td>39.37</td>\n",
       "      <td>16.0</td>\n",
       "      <td>2785.0</td>\n",
       "      <td>616.0</td>\n",
       "      <td>1387.0</td>\n",
       "      <td>530.0</td>\n",
       "      <td>2.3886</td>\n",
       "      <td>89400.0</td>\n",
       "    </tr>\n",
       "  </tbody>\n",
       "</table>\n",
       "<p>20640 rows × 9 columns</p>\n",
       "</div>"
      ],
      "text/plain": [
       "       longitude  latitude  housing_median_age  total_rooms  total_bedrooms  \\\n",
       "0        -122.23     37.88                41.0        880.0           129.0   \n",
       "1        -122.22     37.86                21.0       7099.0          1106.0   \n",
       "2        -122.24     37.85                52.0       1467.0           190.0   \n",
       "3        -122.25     37.85                52.0       1274.0           235.0   \n",
       "4        -122.25     37.85                52.0       1627.0           280.0   \n",
       "...          ...       ...                 ...          ...             ...   \n",
       "20635    -121.09     39.48                25.0       1665.0           374.0   \n",
       "20636    -121.21     39.49                18.0        697.0           150.0   \n",
       "20637    -121.22     39.43                17.0       2254.0           485.0   \n",
       "20638    -121.32     39.43                18.0       1860.0           409.0   \n",
       "20639    -121.24     39.37                16.0       2785.0           616.0   \n",
       "\n",
       "       population  households  median_income  median_house_value  \n",
       "0           322.0       126.0         8.3252            452600.0  \n",
       "1          2401.0      1138.0         8.3014            358500.0  \n",
       "2           496.0       177.0         7.2574            352100.0  \n",
       "3           558.0       219.0         5.6431            341300.0  \n",
       "4           565.0       259.0         3.8462            342200.0  \n",
       "...           ...         ...            ...                 ...  \n",
       "20635       845.0       330.0         1.5603             78100.0  \n",
       "20636       356.0       114.0         2.5568             77100.0  \n",
       "20637      1007.0       433.0         1.7000             92300.0  \n",
       "20638       741.0       349.0         1.8672             84700.0  \n",
       "20639      1387.0       530.0         2.3886             89400.0  \n",
       "\n",
       "[20640 rows x 9 columns]"
      ]
     },
     "execution_count": 3,
     "metadata": {},
     "output_type": "execute_result"
    }
   ],
   "source": [
    "housing.iloc[:, :-1]"
   ]
  },
  {
   "cell_type": "code",
   "execution_count": 4,
   "metadata": {},
   "outputs": [
    {
     "data": {
      "text/plain": [
       "IterativeImputer(random_state=1337)"
      ]
     },
     "execution_count": 4,
     "metadata": {},
     "output_type": "execute_result"
    }
   ],
   "source": [
    "imp = IterativeImputer(max_iter=10, random_state=1337)\n",
    "all_data_array = np.array(housing.iloc[:, :-1])\n",
    "imp.fit(all_data_array)"
   ]
  },
  {
   "cell_type": "code",
   "execution_count": 5,
   "metadata": {},
   "outputs": [
    {
     "data": {
      "text/plain": [
       "array([  0,   0,   0,   0, 207,   0,   0,   0,   0])"
      ]
     },
     "execution_count": 5,
     "metadata": {},
     "output_type": "execute_result"
    }
   ],
   "source": [
    "sum(np.isnan(all_data_array))"
   ]
  },
  {
   "cell_type": "code",
   "execution_count": 6,
   "metadata": {},
   "outputs": [],
   "source": [
    "X_test = np.array(housing.iloc[:, :-1])"
   ]
  },
  {
   "cell_type": "markdown",
   "metadata": {},
   "source": [
    "### Trying to impute"
   ]
  },
  {
   "cell_type": "code",
   "execution_count": 7,
   "metadata": {},
   "outputs": [
    {
     "data": {
      "text/plain": [
       "array([0, 0, 0, 0, 0, 0, 0, 0, 0])"
      ]
     },
     "execution_count": 7,
     "metadata": {},
     "output_type": "execute_result"
    }
   ],
   "source": [
    "imp_out = np.round(imp.transform(X_test))\n",
    "sum(np.isnan(imp_out))"
   ]
  },
  {
   "cell_type": "markdown",
   "metadata": {},
   "source": [
    "Some observations are missing a bedroom count. We here drop those. (An alternative approach is to impute the mean or median value and use all observations. Do it!)"
   ]
  },
  {
   "cell_type": "code",
   "execution_count": 8,
   "metadata": {},
   "outputs": [
    {
     "data": {
      "text/plain": [
       "longitude             0\n",
       "latitude              0\n",
       "housing_median_age    0\n",
       "total_rooms           0\n",
       "total_bedrooms        0\n",
       "population            0\n",
       "households            0\n",
       "median_income         0\n",
       "median_house_value    0\n",
       "ocean_proximity       0\n",
       "dtype: int64"
      ]
     },
     "execution_count": 8,
     "metadata": {},
     "output_type": "execute_result"
    }
   ],
   "source": [
    "housing=housing.dropna()\n",
    "housing.isnull().sum()"
   ]
  },
  {
   "cell_type": "markdown",
   "metadata": {},
   "source": [
    "## Assign variables"
   ]
  },
  {
   "cell_type": "markdown",
   "metadata": {},
   "source": [
    "We will model house prices (median_house_value) using a linear (in the parameters) model of the remaining basic regressors minus \"ocean_proximity\". (The latter variable is likely a predictor of house prices. However, due to its categorical nature, we will exclude it for the purpose of this exercise. A better  approach is to convert this categorical variable into a collection of dummies.)"
   ]
  },
  {
   "cell_type": "code",
   "execution_count": 9,
   "metadata": {},
   "outputs": [
    {
     "name": "stdout",
     "output_type": "stream",
     "text": [
      "   longitude  latitude  housing_median_age  total_rooms  total_bedrooms  \\\n",
      "0    -122.23     37.88                41.0        880.0           129.0   \n",
      "1    -122.22     37.86                21.0       7099.0          1106.0   \n",
      "2    -122.24     37.85                52.0       1467.0           190.0   \n",
      "3    -122.25     37.85                52.0       1274.0           235.0   \n",
      "4    -122.25     37.85                52.0       1627.0           280.0   \n",
      "\n",
      "   population  households  median_income  \n",
      "0       322.0       126.0         8.3252  \n",
      "1      2401.0      1138.0         8.3014  \n",
      "2       496.0       177.0         7.2574  \n",
      "3       558.0       219.0         5.6431  \n",
      "4       565.0       259.0         3.8462  \n"
     ]
    }
   ],
   "source": [
    "y = housing.median_house_value\n",
    "X = housing.drop([\"median_house_value\",\"ocean_proximity\"],axis=1)\n",
    "print(X.head()) # first regressor observations"
   ]
  },
  {
   "cell_type": "markdown",
   "metadata": {},
   "source": [
    "# Exercises\n"
   ]
  },
  {
   "cell_type": "markdown",
   "metadata": {},
   "source": [
    "### Question 1: Standardization\n",
    "Standardize the candidate regressors to bring everything onto the same scale. "
   ]
  },
  {
   "cell_type": "code",
   "execution_count": 10,
   "metadata": {},
   "outputs": [],
   "source": [
    "# One way is to use the functions mean() and std() from numpy\n",
    "import numpy as np\n",
    "\n",
    "def standardize(X):\n",
    "    X_tilde = (X-X.mean())/X.std()\n",
    "    return X_tilde\n",
    "\n",
    "X_tilde=standardize(X)"
   ]
  },
  {
   "cell_type": "markdown",
   "metadata": {},
   "source": [
    "### Question 2: Penalty Grid\n",
    "Construct a grid of candidate penalty levels from 1 to 80000, and estimate the linear model for each of these penalty levels while saving the coefficient estimates.\n",
    "[Hints: sklearn.linear_model.Lasso and numpy.geomspace may come in handy.]"
   ]
  },
  {
   "cell_type": "code",
   "execution_count": 11,
   "metadata": {},
   "outputs": [],
   "source": [
    "# Create a grid using numpy.geomspace\n",
    "penalty_grid= np.geomspace(1,80000, endpoint=True)\n",
    "\n",
    "from sklearn.linear_model import Lasso\n"
   ]
  },
  {
   "cell_type": "markdown",
   "metadata": {},
   "source": [
    "$$\n",
    "\\left(\\widehat{\\beta}_0(\\lambda), \\widehat{\\beta}(\\lambda)\\right) \\in \\underset{\\left(b_0, b\\right) \\in \\mathbf{R}^{1+p}}{\\operatorname{argmin}}\\left\\{\\frac{1}{2 n} \\sum_{i=1}^n\\left(Y_i-b_0-X_i^{\\prime} b\\right)^2+\\lambda \\sum_{j=1}^p\\left|b_j\\right|\\right\\}\n",
    "$$"
   ]
  },
  {
   "cell_type": "code",
   "execution_count": 12,
   "metadata": {},
   "outputs": [],
   "source": [
    "# Estimate the model with lasso for a given penalty level using sklearn.linear_model.Lasso - remember to specify alpha otherwise it will not run\n",
    "# Here you should be aware of the functions fit() and coef_() in sklearn.linear_model.Lasso\n",
    "# Save the estimated coefficients for later\n",
    "# Estimate the linear model over the grid using a loop\n",
    "\n",
    "coefs = []          # empty list for coefs\n",
    "intercepts = []     # empty list for intercepts\n",
    "\n",
    "for i in penalty_grid:\n",
    "    clf = Lasso(alpha=i)\n",
    "    clf.fit(X_tilde, y)\n",
    "    coefs.append(clf.coef_)\n",
    "    intercepts.append(clf.intercept_)"
   ]
  },
  {
   "cell_type": "markdown",
   "metadata": {},
   "source": [
    "### Question 3: Lasso Path\n",
    "\n",
    "Plot the (standardized) coefficient estimates as a function of the penalty level, i.e.\n",
    "create what is known as the Lasso path. [Hints: One option is matplotlib.pyplot, which also allows you to specify a logarithmic first axis using set_xscale('log').]"
   ]
  },
  {
   "cell_type": "code",
   "execution_count": 13,
   "metadata": {},
   "outputs": [
    {
     "data": {
      "image/png": "[encoded data removed]",
      "text/plain": [
       "<Figure size 640x480 with 1 Axes>"
      ]
     },
     "metadata": {},
     "output_type": "display_data"
    }
   ],
   "source": [
    "# Use matplotlib.pyplot\n",
    "# Try to change the x axis to log - useful function gca() and set_xscale('log') from matplotlib.pyplot\n",
    "labels = list(housing.drop([\"median_house_value\",\"ocean_proximity\"],axis=1).columns)\n",
    "\n",
    "import matplotlib.pyplot as plt\n",
    "\n",
    "\n",
    "ax=plt.gca()\n",
    "plt.plot(penalty_grid, coefs, label=labels)\n",
    "ax.set_xscale('log')\n",
    "ax.set_ylabel(r'$\\hat{\\beta_J}$')\n",
    "ax.set_xlabel('$\\lambda$ (\"alpha\" in sklearn.Lasso)')\n",
    "ax.legend(bbox_to_anchor=(1, 0.75))\n",
    "plt.show() \n",
    "\n",
    "# If time permits try to make the plot nice - Add labels to the axis, title, legends "
   ]
  },
  {
   "cell_type": "code",
   "execution_count": 14,
   "metadata": {},
   "outputs": [
    {
     "data": {
      "image/png": "[encoded data removed]",
      "text/plain": [
       "<IPython.core.display.Image object>"
      ]
     },
     "execution_count": 14,
     "metadata": {},
     "output_type": "execute_result"
    }
   ],
   "source": [
    "# You should get something that looks like this...\n",
    "from IPython import display\n",
    "display.Image(\"./Lasso path.png\")"
   ]
  },
  {
   "cell_type": "markdown",
   "metadata": {},
   "source": [
    "### Question 4: Cross Validation - penalty $\\lambda$\n",
    "Compute the penalty level and estimates implied by 5-fold cross-validation (5-CV). Which variables are selected by 5-CV? [Hint: Use sklearn.linear_model.LassoCV.] Consider the path of mean squared errors for different penalty levels."
   ]
  },
  {
   "cell_type": "code",
   "execution_count": 16,
   "metadata": {},
   "outputs": [
    {
     "name": "stdout",
     "output_type": "stream",
     "text": [
      "lambda_CV = 79.46\n"
     ]
    }
   ],
   "source": [
    "# Use sklearn.linear_model.LassoCV and remember the functions fit(), alpha_ and coef_ \n",
    "# Save the estimated coefficients for later\n",
    "\n",
    "from sklearn.linear_model import LassoCV\n",
    "\n",
    "clf_cv = LassoCV(cv=5)\n",
    "\n",
    "clf_cv.fit(X_tilde, y)\n",
    "coeff_CV=clf_cv.coef_\n",
    "penalty_CV=clf_cv.alpha_\n",
    "\n",
    "print(\"lambda_CV =\",penalty_CV.round(2))\n"
   ]
  },
  {
   "cell_type": "code",
   "execution_count": 33,
   "metadata": {},
   "outputs": [
    {
     "name": "stderr",
     "output_type": "stream",
     "text": [
      "C:\\Users\\JBH\\AppData\\Local\\Temp\\ipykernel_3744\\3478475076.py:5: UserWarning: Attempt to set non-positive xlim on a log-scaled axis will be ignored.\n",
      "  ax.set_xlim(xmin=0)\n",
      "No artists with labels found to put in legend.  Note that artists whose label start with an underscore are ignored when legend() is called with no argument.\n"
     ]
    },
    {
     "data": {
      "image/png": "[encoded data removed]",
      "text/plain": [
       "<Figure size 640x480 with 1 Axes>"
      ]
     },
     "metadata": {},
     "output_type": "display_data"
    }
   ],
   "source": [
    "ax=plt.gca()\n",
    "plt.plot(clf_cv.alphas_, clf_cv.mse_path_.mean(axis=-1), 'k')\n",
    "plt.axvline(clf_cv.alpha_, linestyle='--', color='k')\n",
    "ax.set_xscale('log')\n",
    "ax.set_xlim(xmin=0)\n",
    "ax.set_xlabel(r'$\\lambda$ (\"alpha\" in sklearn.Lasso)')\n",
    "ax.set_ylabel(r'Mean squared errors')\n",
    "ax.legend(bbox_to_anchor=(1, 0.75))\n",
    "plt.show() "
   ]
  },
  {
   "cell_type": "markdown",
   "metadata": {},
   "source": [
    "You should get lambda_CV = 79.46"
   ]
  },
  {
   "cell_type": "code",
   "execution_count": 19,
   "metadata": {},
   "outputs": [
    {
     "name": "stdout",
     "output_type": "stream",
     "text": [
      "chosen lambda by CV: 0.001\n",
      "Minimal possible lambda by CV: 0.001\n"
     ]
    },
    {
     "data": {
      "image/png": "[encoded data removed]",
      "text/plain": [
       "<Figure size 640x480 with 1 Axes>"
      ]
     },
     "metadata": {},
     "output_type": "display_data"
    }
   ],
   "source": [
    "n = 100\n",
    "L = np.geomspace(0.001,80000,n)\n",
    "fit_cv1 = LassoCV(cv=5, alphas=L).fit(X_tilde,y)\n",
    "lambda1_CV = fit_cv1.alpha_\n",
    "print(\"chosen lambda by CV:\", fit_cv1.alpha_)\n",
    "print(\"Minimal possible lambda by CV:\", np.min(fit_cv1.alphas_))\n",
    "\n",
    "# Plot the error path \n",
    "ax = plt.gca()\n",
    "ax.plot(fit_cv1.alphas_, np.mean(fit_cv1.mse_path_, axis=1)) \n",
    "ax.set_xscale('log')\n",
    "plt.xlabel('Penalty, $\\lambda$')\n",
    "plt.ylabel('Mean squared error')\n",
    "plt.show()"
   ]
  },
  {
   "cell_type": "markdown",
   "metadata": {},
   "source": [
    "What does this error path suggest about the relationship between model sparsity and predictive power?"
   ]
  },
  {
   "cell_type": "markdown",
   "metadata": {},
   "source": [
    "### Question 5: Cross Validation - estimates $\\hat{\\boldsymbol{\\beta}}$\n",
    "Visualize the estimates resulting from 5-CV by adding a vertical line\n",
    "to your Lasso path at the corresponding penalty level. [Hint: Use axvline.]"
   ]
  },
  {
   "cell_type": "code",
   "execution_count": null,
   "metadata": {},
   "outputs": [],
   "source": [
    "# Reuse the former plot and use the function axvline()\n",
    "#plt.plot(penalty_grid,coeff)\n",
    "#plt.xscale('log')\n",
    "ax=plt.gca()\n",
    "# fill in\n",
    "ax.set_xscale('log')\n",
    "# fill in\n",
    "plt.show()"
   ]
  },
  {
   "cell_type": "markdown",
   "metadata": {},
   "source": [
    "### Question 6: BRT penalty $\\lambda$\n",
    "Compute the (feasible) Bickel-Ritov-Tsybakov (BRT) penalty level, the resulting Lasso estimates, and visualize them in your path. Compare the BRT results to the CV\n",
    "ones. [Hint: scipy.stats.norm.ppf gives you the inverse of the normal CDF.] "
   ]
  },
  {
   "cell_type": "code",
   "execution_count": null,
   "metadata": {},
   "outputs": [],
   "source": [
    "# Hard code BRT up - remember the data has been standardized, this has an easy implication for the max-sum\n",
    "# Save the estimated coefficients for later\n",
    "# Remember to divide by 2 due to Python definition of Lasso\n",
    "from scipy.stats import norm\n",
    "(N,p)= # fill in\n",
    "sigma = # fill in\n",
    "c = # fill in\n",
    "alpha = # fill in\n",
    "\n",
    "penalty_BRT= # fill in, NB recall this is on normalised data and remember to divide by 2 due to sklearn implementation\n",
    "\n",
    "fit_BRT= # fill in\n",
    "coeff_BRT = # fill in\n",
    "\n",
    "print(\"lambda_BRT =\",penalty_BRT.round(2))\n"
   ]
  },
  {
   "cell_type": "markdown",
   "metadata": {},
   "source": [
    "You should get lambda_BRT = 2428.92\n"
   ]
  },
  {
   "cell_type": "code",
   "execution_count": null,
   "metadata": {},
   "outputs": [],
   "source": [
    "# Add it to your plot - with a vertical line\n",
    "ax=plt.gca()\n",
    "# fill in\n",
    "ax.set_xscale('log')\n",
    "# fill in\n",
    "plt.show()"
   ]
  },
  {
   "cell_type": "markdown",
   "metadata": {},
   "source": [
    "### Question 7: BCCH penalty $\\lambda$\n",
    "Compute the Belloni-Chen-Chernozhukov-Hansen (BCCH) pilot and updated penalty levels, the resulting Lasso estimates, and add them to your path. Compare\n",
    "the BCCH penalty and estimates to both the CV and BRT ones."
   ]
  },
  {
   "cell_type": "code",
   "execution_count": null,
   "metadata": {},
   "outputs": [],
   "source": [
    "# Calculate the pilot estimate with a and c as in BRT\n",
    "# Here the max sum is not as simple as in BRT\n",
    "# Remember to divide by 2 due to Python definition of Lasso\n",
    "\n",
    "yXscale = # fill in\n",
    "\n",
    "penalty_pilot =  # fill in\n",
    "\n",
    "fit_pilot= # fill in\n",
    "coeff_pilot =  # fill in\n",
    "\n",
    "print(\"lambda_pilot =\",penalty_pilot.round(2))\n"
   ]
  },
  {
   "cell_type": "markdown",
   "metadata": {},
   "source": [
    "Your should get lambda_pilot = 4254.89"
   ]
  },
  {
   "cell_type": "code",
   "execution_count": null,
   "metadata": {},
   "outputs": [],
   "source": [
    "# Calculate residuals and declare the updated penalty: \n",
    "# Remember to divide by 2 due to Python definition of Lasso\n",
    "eps =  # fill in\n",
    "epsXscale =  # fill in\n",
    "\n",
    "penalty_BCCH =  # fill in\n",
    "\n",
    "print(\"lambda_BCCH =\",penalty_BCCH.round(2))"
   ]
  },
  {
   "cell_type": "markdown",
   "metadata": {},
   "source": [
    "You should get lambda_BCCH = 1866.5"
   ]
  },
  {
   "cell_type": "code",
   "execution_count": null,
   "metadata": {},
   "outputs": [],
   "source": [
    "# Calculate updated estimates using the updated penalty\n",
    "\n",
    "fit_BCCH =  # fill in\n",
    "coeff_BCCH =  # fill in\n",
    "\n",
    "\n",
    "# Visualise in former plot\n",
    "# Add it to your plot - with a vertical line\n",
    "ax=plt.gca()\n",
    "# fill in\n",
    "ax.set_xscale('log')\n",
    " # fill in\n",
    "plt.show()"
   ]
  },
  {
   "cell_type": "markdown",
   "metadata": {},
   "source": [
    "### Question 8: Summary of estimates $\\hat{\\boldsymbol{\\beta}}$\n",
    "Gather the estimates in a table.\n"
   ]
  },
  {
   "cell_type": "code",
   "execution_count": null,
   "metadata": {},
   "outputs": [],
   "source": [
    "# One way is to create a dict and DataFrame from Pandas..\n",
    "\n",
    "df_res=pd.DataFrame([coeff_CV,coeff_BRT,coeff_BCCH], index= # fill in, columns= # fill in).T\n",
    "df_res.astype(int)\n"
   ]
  },
  {
   "cell_type": "markdown",
   "metadata": {},
   "source": [
    "You should get something that looks like this...\n",
    "\n",
    "| | CV | BRT | BCCH | \n",
    "|-|-|-|-|\n",
    "| longitude\t| -84766 | -55772 |\t-63318 |\n",
    "| latitude\t| -89995 | -60676 | -68463 |\n",
    "| housing_median_age | 14628 | 15594 | 15437 |\n",
    "| total_rooms | -16565 | 0 |0 |\n",
    "| total_bedrooms |\t46443 |\t24936 | 26764 |\n",
    "| population |\t-42979 | -21994 | -27803 |\n",
    "| households |\t17858 |\t3115 | 6979 |\n",
    "| median_income\t| 76240 | 73438 | 73236 |\n"
   ]
  },
  {
   "cell_type": "markdown",
   "metadata": {},
   "source": [
    "### Question 9 (Optional) \n",
    "Redo the entire exercise after having added squares of the basic regressors. Note that creating the Lasso path may take a while and the algorithm may fail to converge at low penalty levels. If so, try to change the number of iterations by adjusting max_iter. [Hints: Create squares and use numpy.hstack to add them to the regressors in levels. You may also use sklearn.preprocessing.PolynomialFeatures to further add interaction terms.]"
   ]
  },
  {
   "cell_type": "code",
   "execution_count": null,
   "metadata": {},
   "outputs": [],
   "source": [
    "import numpy as np\n",
    "Xtech = np.hstack((X,X ** 2))\n",
    "Xtech_tilde= # fill in"
   ]
  },
  {
   "cell_type": "code",
   "execution_count": null,
   "metadata": {},
   "outputs": [],
   "source": [
    "fitCV2 = # fill in"
   ]
  },
  {
   "cell_type": "code",
   "execution_count": null,
   "metadata": {},
   "outputs": [],
   "source": []
  },
  {
   "cell_type": "code",
   "execution_count": null,
   "metadata": {},
   "outputs": [],
   "source": []
  },
  {
   "cell_type": "code",
   "execution_count": null,
   "metadata": {},
   "outputs": [],
   "source": [
    "n = 100\n",
    "L = np.geomspace(0.001,80000,n)\n",
    "fit_cv2 = LassoCV(cv=5, alphas=L).fit(Xtech_tilde,y)\n",
    "lambda2_CV = fit_cv2.alpha_\n",
    "print(\"chosen lambda by CV:\", fit_cv2.alpha_)\n",
    "print(\"Minimal possible lambda by CV:\", np.min(fit_cv2.alphas_))\n",
    "\n",
    "#error path \n",
    "ax = plt.gca()\n",
    "ax.plot(fit_cv2.alphas_, np.mean(fit_cv2.mse_path_, axis=1)) \n",
    "ax.set_xscale('log')\n",
    "plt.xlabel('Penalty, $\\lambda$')\n",
    "plt.ylabel('Mean squared error')\n",
    "plt.show()"
   ]
  },
  {
   "cell_type": "markdown",
   "metadata": {},
   "source": [
    "Compare your error path to the one you obtained in Question 4 - has the tradeoff between model sparsity and predictive power changed?"
   ]
  }
 ],
 "metadata": {
  "kernelspec": {
   "display_name": "Python 3.9.13 ('base')",
   "language": "python",
   "name": "python3"
  },
  "language_info": {
   "codemirror_mode": {
    "name": "ipython",
    "version": 3
   },
   "file_extension": ".py",
   "mimetype": "text/x-python",
   "name": "python",
   "nbconvert_exporter": "python",
   "pygments_lexer": "ipython3",
   "version": "3.9.13"
  },
  "vscode": {
   "interpreter": {
    "hash": "054e95b4819972eba8d406807e822e3be9cca805528e86310f8e3ac8dc287778"
   }
  }
 },
 "nbformat": 4,
 "nbformat_minor": 4
}
