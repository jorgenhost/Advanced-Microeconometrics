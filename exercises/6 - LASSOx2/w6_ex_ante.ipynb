{
 "cells": [
  {
   "cell_type": "markdown",
   "metadata": {},
   "source": [
    "# Week 6: High-Dimensional Methods and Confidence Intervals"
   ]
  },
  {
   "cell_type": "markdown",
   "metadata": {},
   "source": [
    "The purpose of this week's problem set is to get familiar with inference based on high-dimensional methods.  Our focus is again on methods based on the Lasso, and we again use the <tt>housing.csv</tt> dataset. (See the previous problem set for data details.) Note how our focus has here changed from prediction (of house prices) to inference (drivers of house prices).\n",
    "\n",
    "We first read the data into Python and remove missings."
   ]
  },
  {
   "cell_type": "code",
   "execution_count": 1,
   "metadata": {},
   "outputs": [
    {
     "name": "stdout",
     "output_type": "stream",
     "text": [
      "The number of rows and colums are (20640, 10) and also called shape of the matrix\n",
      "Columns names are \n",
      " Index(['longitude', 'latitude', 'housing_median_age', 'total_rooms',\n",
      "       'total_bedrooms', 'population', 'households', 'median_income',\n",
      "       'median_house_value', 'ocean_proximity'],\n",
      "      dtype='object')\n",
      "   longitude  latitude  housing_median_age  total_rooms  total_bedrooms  \\\n",
      "0    -122.23     37.88                41.0        880.0           129.0   \n",
      "1    -122.22     37.86                21.0       7099.0          1106.0   \n",
      "2    -122.24     37.85                52.0       1467.0           190.0   \n",
      "3    -122.25     37.85                52.0       1274.0           235.0   \n",
      "4    -122.25     37.85                52.0       1627.0           280.0   \n",
      "\n",
      "   population  households  median_income  median_house_value ocean_proximity  \n",
      "0       322.0       126.0         8.3252            452600.0        NEAR BAY  \n",
      "1      2401.0      1138.0         8.3014            358500.0        NEAR BAY  \n",
      "2       496.0       177.0         7.2574            352100.0        NEAR BAY  \n",
      "3       558.0       219.0         5.6431            341300.0        NEAR BAY  \n",
      "4       565.0       259.0         3.8462            342200.0        NEAR BAY  \n",
      "       longitude  latitude  housing_median_age  total_rooms  total_bedrooms  \\\n",
      "20635    -121.09     39.48                25.0       1665.0           374.0   \n",
      "20636    -121.21     39.49                18.0        697.0           150.0   \n",
      "20637    -121.22     39.43                17.0       2254.0           485.0   \n",
      "20638    -121.32     39.43                18.0       1860.0           409.0   \n",
      "20639    -121.24     39.37                16.0       2785.0           616.0   \n",
      "\n",
      "       population  households  median_income  median_house_value  \\\n",
      "20635       845.0       330.0         1.5603             78100.0   \n",
      "20636       356.0       114.0         2.5568             77100.0   \n",
      "20637      1007.0       433.0         1.7000             92300.0   \n",
      "20638       741.0       349.0         1.8672             84700.0   \n",
      "20639      1387.0       530.0         2.3886             89400.0   \n",
      "\n",
      "      ocean_proximity  \n",
      "20635          INLAND  \n",
      "20636          INLAND  \n",
      "20637          INLAND  \n",
      "20638          INLAND  \n",
      "20639          INLAND  \n",
      "longitude             float64\n",
      "latitude              float64\n",
      "housing_median_age    float64\n",
      "total_rooms           float64\n",
      "total_bedrooms        float64\n",
      "population            float64\n",
      "households            float64\n",
      "median_income         float64\n",
      "median_house_value    float64\n",
      "ocean_proximity        object\n",
      "dtype: object\n"
     ]
    }
   ],
   "source": [
    "# Read data\n",
    "import pandas as pd\n",
    "housing = pd.read_csv(\"housing.csv\")\n",
    "print(\"The number of rows and colums are {} and also called shape of the matrix\".format(housing.shape)) # data dimensions\n",
    "print(\"Columns names are \\n {}\".format(housing.columns))\n",
    "print(housing.head()) # first observations\n",
    "print(housing.tail()) # last observations\n",
    "print(housing.dtypes) # data types\n",
    "housing=housing.dropna() # dropping observations missing a bedroom count "
   ]
  },
  {
   "cell_type": "markdown",
   "metadata": {},
   "source": [
    "We model house prices (<tt>median_house_value</tt>) using a linear (in the parameters) model of the basic regressors (minus the categorical variable <tt>ocean_proximity</tt>),\n",
    "\n",
    "$$\n",
    "\\underbrace{\\mathtt{median\\,house\\,value}}_{=Y}=\\alpha\\times\\underbrace{\\mathtt{median\\,income}}_{=D} + Z'\\gamma + \\varepsilon,\\quad\\mathrm{E}[\\varepsilon|D,Z]=0.\n",
    "$$\n",
    "\n",
    "We here focus on constructing a confidence interval for the coefficient of <tt>median_income</tt> after having used the Lasso. In doing so we treat both <tt>median_income</tt> and the remaining ($p=7$) controls as exogenous. Moreover, we augment the above model with another linear model\n",
    "\n",
    "$$\n",
    "\\mathtt{median\\,income}=Z'\\psi + \\nu,\\quad\\mathrm{E[\\nu|Z]=0},\n",
    "$$\n",
    "\n",
    "now for <tt>median_income</tt>.\n",
    "\n",
    "(One would be hard pressed to claim that median income *causes* house price movements. This is only an exercise in the mechanics.)"
   ]
  },
  {
   "cell_type": "code",
   "execution_count": 2,
   "metadata": {},
   "outputs": [],
   "source": [
    "y = housing.median_house_value\n",
    "d = housing.median_income\n",
    "Z = housing.drop([\"median_house_value\",\"median_income\",\"ocean_proximity\"],axis=1)"
   ]
  },
  {
   "cell_type": "markdown",
   "metadata": {},
   "source": [
    "# Exercises\n",
    "Complete the following exercises using only the eight basic regressors."
   ]
  },
  {
   "cell_type": "markdown",
   "metadata": {},
   "source": [
    "### Question 1 \n",
    "Lasso <tt>median_house_value</tt> on the controls, Z, using the (feasible) Bickel-Ritov-Tsybakov (BRT) penalty level. [Hint: Don't forget to standardize.]"
   ]
  },
  {
   "cell_type": "markdown",
   "metadata": {},
   "source": [
    "\\begin{align}\n",
    "    \\hat{\\lambda}^{B R T}   &=\\frac{2 c \\sigma}{\\sqrt{N}} \\Phi^{-1}\\left(1-\\frac{\\alpha}{2 p}\\right) \\sqrt{\\max _{1 \\leq j \\leq p} \\frac{1}{N} \\sum_{i=1}^N \\mathbf{X}_i^2} \\Leftrightarrow \\\\\n",
    "\n",
    "    \\hat{\\lambda}^{B R T}   &=\\frac{2 c \\sigma}{\\sqrt{N}} \\Phi^{-1}\\left(1-\\frac{\\alpha}{2 p}\\right)\n",
    "\\end{align}\n",
    "\n",
    "The last term = 1 only happens, if standardize $\\mathbf{X}_i$."
   ]
  },
  {
   "cell_type": "code",
   "execution_count": 3,
   "metadata": {},
   "outputs": [],
   "source": [
    "#remember to save the residuals from the LASSO-regression (Easy way: Lasso from sklearn.linear_model has a function predict) \n",
    "# - construct the residual, so they are aligned with the post-lasso method\n",
    "#You could challenge yourself by creating functions for standardizing and/or BRT\n",
    "\n",
    "import numpy as np\n",
    "\n",
    "X=np.column_stack((d,Z))\n",
    "\n",
    "def standardize(X):\n",
    "    result = (X-X.mean())/X.std()\n",
    "    return result\n",
    "\n",
    "X_stan = standardize(X)\n",
    "Z_stan = standardize(Z)\n",
    "d_stan = standardize(d)\n"
   ]
  },
  {
   "cell_type": "code",
   "execution_count": 4,
   "metadata": {},
   "outputs": [
    {
     "name": "stdout",
     "output_type": "stream",
     "text": [
      "lambda_BRT = 2389.6\n"
     ]
    }
   ],
   "source": [
    "from scipy.stats import norm\n",
    "from sklearn.linear_model import Lasso\n",
    "\n",
    "\n",
    "def BRT(X_tilde,y):\n",
    "    sigma = np.std(y)\n",
    "    (N,p) = X_tilde.shape\n",
    "    c = 1.1\n",
    "    alpha = 0.05\n",
    "\n",
    "    penalty_BRT= ((2*c*sigma)/np.sqrt(N))*(norm.ppf(1-alpha/(2*p)))\n",
    "\n",
    "    penalty_BRT = penalty_BRT/2\n",
    "\n",
    "    return penalty_BRT\n",
    "\n",
    "penalty_BRTyz= BRT(X_tilde=Z_stan, y=y)\n",
    "\n",
    "print(\"lambda_BRT =\",penalty_BRTyz.round(2))\n",
    "\n",
    "# Lasso on median house value\n",
    "fit_BRTyz= Lasso(alpha=penalty_BRTyz)\n",
    "fit_BRTyz.fit(Z_stan,y)\n",
    "preds_yz = fit_BRTyz.predict(Z_stan)\n",
    "\n",
    "# save residuals\n",
    "rezys = y-preds_yz"
   ]
  },
  {
   "cell_type": "markdown",
   "metadata": {},
   "source": [
    "You should get lambda_BRT = 2389.6"
   ]
  },
  {
   "cell_type": "markdown",
   "metadata": {},
   "source": [
    "### Question 2\n",
    "Lasso <tt>median_income</tt> on the controls using the (feasible) BRT penalty level. "
   ]
  },
  {
   "cell_type": "code",
   "execution_count": 8,
   "metadata": {},
   "outputs": [],
   "source": [
    "# Lasso on median income\n",
    "penalty_BRTdz= BRT(X_tilde=Z_stan, y=d)\n",
    "\n",
    "fit_BRTdz= Lasso(alpha=penalty_BRTdz)\n",
    "fit_BRTdz.fit(Z_stan, d)\n",
    "preds_dz = fit_BRTdz.predict(Z_stan)\n",
    "coefs_BRTdz = fit_BRTdz.coef_\n",
    "# save residuals\n",
    "resdz= d-preds_dz"
   ]
  },
  {
   "cell_type": "code",
   "execution_count": 9,
   "metadata": {},
   "outputs": [
    {
     "data": {
      "text/plain": [
       "6"
      ]
     },
     "execution_count": 9,
     "metadata": {},
     "output_type": "execute_result"
    }
   ],
   "source": [
    "np.count_nonzero(coefs_BRTdz)"
   ]
  },
  {
   "cell_type": "markdown",
   "metadata": {},
   "source": [
    "### Question 3: Post Partialling Out Lasso vs OLS\n",
    "Calculate the implied partialling-out Lasso estimate $\\breve{\\alpha}$ and compare with the OLS estimate $\\widehat{\\alpha}^{\\mathtt{LS}}$ (obtained by regressing Y on a constant, D and controls, Z)."
   ]
  },
  {
   "cell_type": "code",
   "execution_count": 6,
   "metadata": {},
   "outputs": [
    {
     "data": {
      "text/plain": [
       "(20433, 7)"
      ]
     },
     "execution_count": 6,
     "metadata": {},
     "output_type": "execute_result"
    }
   ],
   "source": [
    "Z.shape"
   ]
  },
  {
   "cell_type": "code",
   "execution_count": 7,
   "metadata": {},
   "outputs": [
    {
     "name": "stdout",
     "output_type": "stream",
     "text": [
      "POL =  41220.04\n",
      "LS =  40297.52\n"
     ]
    }
   ],
   "source": [
    "#Use your previously saved residuals\n",
    "#If you want - you can compare with OLS (why is this possible?)\n",
    "from numpy import linalg as la\n",
    "\n",
    "denom = np.sum(resdz**2)\n",
    "num = rezys@resdz\n",
    "POL = num/denom\n",
    "\n",
    "print(\"POL = \",POL.round(2))\n",
    "\n",
    "(N,p) = X_stan.shape\n",
    "ones = np.ones(shape=(N,1))\n",
    "xx = np.hstack((ones,X))# <--- add a constant to the regressors, X=(d,Z)\n",
    "yy = np.array(y).reshape(-1,1) # reshape y to 2-dim so can use matmul\n",
    "LS = la.inv(xx.T@xx)@xx.T@y\n",
    "\n",
    "# save residuals, will need them later\n",
    "res_ols = y-xx@LS\n",
    "print(\"LS = \",LS[1].round(2))"
   ]
  },
  {
   "cell_type": "code",
   "execution_count": null,
   "metadata": {},
   "outputs": [],
   "source": []
  },
  {
   "cell_type": "markdown",
   "metadata": {},
   "source": [
    "You should get\n",
    "\n",
    "POL =  41220.0\n",
    "\n",
    "LS =  [40297.52]"
   ]
  },
  {
   "cell_type": "markdown",
   "metadata": {},
   "source": [
    "### Question 4: Variance of Partialling Out Lasso\n",
    "Calculate the implied variance estimate $\\breve{\\sigma}^2$. "
   ]
  },
  {
   "cell_type": "code",
   "execution_count": 8,
   "metadata": {},
   "outputs": [
    {
     "name": "stdout",
     "output_type": "stream",
     "text": [
      "lambda_BRT = 2428.92\n"
     ]
    }
   ],
   "source": [
    "penalty_BRTyx= BRT(X_tilde=X_stan, y=y)\n",
    "\n",
    "print(\"lambda_BRT =\",penalty_BRTyx.round(2))\n",
    "\n",
    "clf_yx = Lasso(alpha=penalty_BRTyx)\n",
    "\n",
    "clf_yx.fit(X_stan, y)\n",
    "\n",
    "preds_yx = clf_yx.predict(X_stan)\n",
    "\n",
    "res_yx = y-preds_yx"
   ]
  },
  {
   "cell_type": "code",
   "execution_count": 9,
   "metadata": {},
   "outputs": [
    {
     "name": "stdout",
     "output_type": "stream",
     "text": [
      "sigma2_POL =  14072884375.56\n"
     ]
    }
   ],
   "source": [
    "#Use your previously saved residuals\n",
    "\n",
    "(N,p) = X_stan.shape\n",
    "\n",
    "num = rezys**2@resdz**2/N\n",
    "denom = (np.sum(resdz**2)/N)**2\n",
    "sigma2_POL = num/denom\n",
    "print(\"sigma2_POL = \",sigma2_POL.round(2))"
   ]
  },
  {
   "cell_type": "markdown",
   "metadata": {},
   "source": [
    "You should get sigma2_POL =  14072882476.19"
   ]
  },
  {
   "cell_type": "markdown",
   "metadata": {},
   "source": [
    "### Question 5: Confidence Interval of Partialling Out Lasso\n",
    "Construct a two-sided 95 pct. confidence interval (CI) for $\\alpha$, which is asymptotically valid even in the high-dimensional regime. Compare with the \"standard\" CI implied by OLS (presuming conditionally homoskedastic errors). "
   ]
  },
  {
   "cell_type": "code",
   "execution_count": 15,
   "metadata": {},
   "outputs": [
    {
     "name": "stdout",
     "output_type": "stream",
     "text": [
      "CI_POL =  (39593.46573280547, 42846.61191423362)\n"
     ]
    }
   ],
   "source": [
    "xi=0.025\n",
    "\n",
    "q = norm.ppf(xi)\n",
    "se_POL = np.sqrt(sigma2_POL)\n",
    "CI_POL =  (POL+q*se_POL/np.sqrt(N), POL-q*se_POL/np.sqrt(N))\n",
    "print(\"CI_POL = \",CI_POL)"
   ]
  },
  {
   "cell_type": "markdown",
   "metadata": {},
   "source": [
    "You should get CI_POL = (39593.4, 42846.61)"
   ]
  },
  {
   "cell_type": "code",
   "execution_count": 20,
   "metadata": {},
   "outputs": [
    {
     "name": "stdout",
     "output_type": "stream",
     "text": [
      "CI_OLS =  (array([39636.60780279]), array([40958.43562672]))\n"
     ]
    }
   ],
   "source": [
    "# compute OLS standard errors\n",
    "SSR = res_ols.T@res_ols\n",
    "N = xx.shape[0]\n",
    "K = xx.shape[1]\n",
    "sigma2_ols = SSR/(N-K)\n",
    "var = sigma2_ols*la.inv(xx.T@xx)\n",
    "se_ols = np.sqrt(var.diagonal()).reshape(-1,1)\n",
    "\n",
    "# pull out relevant coefficient and se estimates\n",
    "# X=np.hstack((ones,d,Z)) --> we are interested in d\n",
    "se_ols_d = se_ols[1]\n",
    "LS_d = LS[1]\n",
    "\n",
    "# construct CI\n",
    "q = norm.ppf(xi)\n",
    "CI_OLS =  (LS_d+q*se_ols_d, LS_d-q*se_ols_d) \n",
    "print(\"CI_OLS = \",CI_OLS)"
   ]
  },
  {
   "cell_type": "markdown",
   "metadata": {},
   "source": [
    "You should get CI_OLS =  ([39636.61], [40958.44])"
   ]
  },
  {
   "cell_type": "markdown",
   "metadata": {},
   "source": [
    "### Questions 6: Post Double Lasso\n",
    "Construct a two-sided 95 pct. CI using *double Lasso* $\\check{\\alpha}$ instead. "
   ]
  },
  {
   "cell_type": "code",
   "execution_count": null,
   "metadata": {},
   "outputs": [],
   "source": [
    "# update BRT penalty\n",
    "penalty_BRTyx= # fill in\n",
    "\n",
    "print(\"lambda_BRT =\",penalty_BRTyx.round(2))\n",
    "\n",
    "# Lasso on median house value\n",
    "fit_BRTyx= # fill in\n",
    "coefs=fit_BRTyx.coef_\n",
    "\n",
    "# save residuals\n",
    "resyxz= # fill in"
   ]
  },
  {
   "cell_type": "code",
   "execution_count": null,
   "metadata": {},
   "outputs": [],
   "source": [
    "#Use your previously saved residuals\n",
    "#If you want - you can compare with OLS (why is this possible?)\n",
    "\n",
    "denom = # fill in\n",
    "num = # fill in\n",
    "\n",
    "PDL=num/denom\n",
    "print(\"PDL = \",PDL.round(2))"
   ]
  },
  {
   "cell_type": "markdown",
   "metadata": {},
   "source": [
    "You should get PDL =  40883.0"
   ]
  },
  {
   "cell_type": "code",
   "execution_count": null,
   "metadata": {},
   "outputs": [],
   "source": [
    "# variance\n",
    "resyzz= # fill in\n",
    "num = # fill in\n",
    "denom = # fill in\n",
    "sigma2_PDL = num/denom\n",
    "print(\"sigma2_PDL = \",sigma2_PDL.round(2))"
   ]
  },
  {
   "cell_type": "markdown",
   "metadata": {},
   "source": [
    "You should get sigma2_PDL =  4219298356.25"
   ]
  },
  {
   "cell_type": "code",
   "execution_count": null,
   "metadata": {},
   "outputs": [],
   "source": [
    "# conf interval\n",
    "q = # fill in\n",
    "se_PDL = # fill in\n",
    "\n",
    "CI_PDL= # fill in\n",
    "print(\"CI_PDL = \",CI_PDL)"
   ]
  },
  {
   "cell_type": "markdown",
   "metadata": {},
   "source": [
    "You should get CI_PDL = (39992.36, 41773.64)"
   ]
  },
  {
   "cell_type": "markdown",
   "metadata": {},
   "source": [
    "### Question 7: Extensions\n",
    "\n",
    "To make the estimation problem more challenging:\n",
    "\n",
    "Repeat Exercises 1--5/6 after adding all control quadratics ($Z_1^2,\\dotsc,Z_p^2$) and first-order interactions ($Z_1Z_2,Z_1Z_3,\\dotsc,Z_{p-1}Z_{p}$). [Hints: Use <tt>sklearn.preprocessing.PolynomialFeatures</tt> for simple transformation. Your optimizer may not converge. Consider increasing the maximum number of iterations using the Lasso option <tt>max_iter=</tt>[your number].]\n",
    "\n",
    "Optional variations:\n",
    "* Repeat Exercises 1--5/6/7 using the Belloni-Chen-Chernozhukov-Hansen (BCCH) penalty level for each Lasso (which may be justified without any independence/homoskedasticity assumptions).\n",
    "* Repeat Exercises 1--5/6/7 using cross-validation (CV) for each Lasso."
   ]
  },
  {
   "cell_type": "markdown",
   "metadata": {},
   "source": [
    "Don't include bias in <tt>sklearn.preprocessing.PolynomialFeatures</tt>"
   ]
  },
  {
   "cell_type": "code",
   "execution_count": null,
   "metadata": {},
   "outputs": [],
   "source": [
    "from sklearn.preprocessing import PolynomialFeatures\n",
    "\n",
    "poly = # fill in\n",
    "Z_2 = # fill in # <---- returns Z with interactions\n",
    "Z_2_stan = standardize(Z_2) # standardize regressors"
   ]
  },
  {
   "cell_type": "code",
   "execution_count": null,
   "metadata": {},
   "outputs": [],
   "source": [
    "# POL Coefficient Estimate\n",
    "\n",
    "# fill in"
   ]
  },
  {
   "cell_type": "markdown",
   "metadata": {},
   "source": [
    "You should get POL_2 =  41243.6 LS =  [39512.12] if using BRT penalties"
   ]
  },
  {
   "cell_type": "code",
   "execution_count": null,
   "metadata": {},
   "outputs": [],
   "source": [
    "# POL Variance Estimate\n",
    "\n",
    "# fill in"
   ]
  },
  {
   "cell_type": "markdown",
   "metadata": {},
   "source": [
    "You should get sigma2_POL_2 =  15263885977.92 if using BRT penalties"
   ]
  },
  {
   "cell_type": "code",
   "execution_count": null,
   "metadata": {},
   "outputs": [],
   "source": [
    "# POL Confidence Interval\n",
    "\n",
    "# fill in"
   ]
  },
  {
   "cell_type": "markdown",
   "metadata": {},
   "source": [
    "You should get CI_POL_2=(39549.56, 42937.63) if using BRT penalties"
   ]
  }
 ],
 "metadata": {
  "kernelspec": {
   "display_name": "Python 3.9.13 ('base')",
   "language": "python",
   "name": "python3"
  },
  "language_info": {
   "codemirror_mode": {
    "name": "ipython",
    "version": 3
   },
   "file_extension": ".py",
   "mimetype": "text/x-python",
   "name": "python",
   "nbconvert_exporter": "python",
   "pygments_lexer": "ipython3",
   "version": "3.9.15"
  },
  "vscode": {
   "interpreter": {
    "hash": "054e95b4819972eba8d406807e822e3be9cca805528e86310f8e3ac8dc287778"
   }
  }
 },
 "nbformat": 4,
 "nbformat_minor": 4
}
