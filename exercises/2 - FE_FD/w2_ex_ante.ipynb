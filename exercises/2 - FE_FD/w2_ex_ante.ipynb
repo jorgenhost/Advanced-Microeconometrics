{
 "cells": [
  {
   "cell_type": "markdown",
   "metadata": {},
   "source": [
    "# Problem set 2\n",
    "Before we start working on some exercises we will briefly introduce two concepts in Python. First, importing and exporting data. Second, using functions. If you are already familiar\n",
    "with these features, you can skip the next two sections and jump directly to the exercises."
   ]
  },
  {
   "cell_type": "markdown",
   "metadata": {},
   "source": [
    "First, import all necessary packages. We have made a .py file that we will use as a \"toolbox\". We will fill this toolbox with functions, that we will use as we progress through the course. Exactly how you structure this toolbox is up to you (if you i.e. want to turn it into a class)."
   ]
  },
  {
   "cell_type": "code",
   "execution_count": 2,
   "metadata": {},
   "outputs": [],
   "source": [
    "import numpy as np\n",
    "from numpy import linalg as la\n",
    "import pandas as pd\n",
    "from io import StringIO\n",
    "from tabulate import tabulate\n",
    "from matplotlib import pyplot as plt\n",
    "\n",
    "# Import this weeks LinearModels .py file\n",
    "import LinearModelsWeek2_ante as lm\n",
    "%load_ext autoreload\n",
    "%autoreload 2"
   ]
  },
  {
   "cell_type": "markdown",
   "metadata": {},
   "source": [
    "## Importing and exporting data in Python\n",
    "The easiest way to import data into an numpy array is using a .txt file. Normally we specify a path to the text file, but we will create a fake one to illustrate."
   ]
  },
  {
   "cell_type": "code",
   "execution_count": 3,
   "metadata": {},
   "outputs": [
    {
     "name": "stdout",
     "output_type": "stream",
     "text": [
      "Fake file looks like this: \n",
      " 0 1\n",
      " 2 3\n",
      "\n",
      "Loaded into a numpy array, we get the following <class 'numpy.ndarray'>: \n",
      " [[0. 1.]\n",
      " [2. 3.]]\n"
     ]
    }
   ],
   "source": [
    "# Create a fake file for easy use.\n",
    "fake_file = StringIO(\"0 1\\n 2 3\")\n",
    "print(f\"Fake file looks like this: \\n {fake_file.getvalue()}\")\n",
    "print()\n",
    "\n",
    "# Load the fake txt file into a numpy array.\n",
    "data = np.loadtxt(fake_file)\n",
    "print(f'Loaded into a numpy array, we get the following {type(data)}: \\n {data}')"
   ]
  },
  {
   "cell_type": "markdown",
   "metadata": {},
   "source": [
    "Sadly, there is no direct way to load an excel sheet into numpy. The easiest solution is to use pandas as an intermediate."
   ]
  },
  {
   "cell_type": "code",
   "execution_count": 4,
   "metadata": {},
   "outputs": [
    {
     "name": "stdout",
     "output_type": "stream",
     "text": [
      "[[0 1]\n",
      " [2 3]]\n"
     ]
    }
   ],
   "source": [
    "# We save the fake file we created earlier as an excel file, \n",
    "# so that we can illustrate how to import using excel.\n",
    "to_export = pd.DataFrame(data)\n",
    "to_export.to_excel('test_file.xlsx', header=None, index=None)\n",
    "\n",
    "# Its important to note that Pandas will treat the first row as a header. If there is no header,\n",
    "# this needs to be specified. There are also alot of extra options to load specific sheets, or\n",
    "# only parts of the sheets and tons of extra options.\n",
    "df_import = pd.read_excel('test_file.xlsx', header=None)\n",
    "np_array = df_import.to_numpy()\n",
    "print(np_array)"
   ]
  },
  {
   "cell_type": "markdown",
   "metadata": {},
   "source": [
    "### Exporting Data\n",
    "To save a numpy array as a .txt file is easy:"
   ]
  },
  {
   "cell_type": "code",
   "execution_count": 5,
   "metadata": {},
   "outputs": [],
   "source": [
    "np.savetxt('real_file.txt', np_array)"
   ]
  },
  {
   "cell_type": "markdown",
   "metadata": {},
   "source": [
    "*If one has large numpy arrays and wants to store them efficiently, they can be saved as a binary .npy files. Such files are not compatible with other programs.*"
   ]
  },
  {
   "cell_type": "markdown",
   "metadata": {},
   "source": [
    "## Exercises with FE --- Within-Groups Estimation\n",
    "\n",
    "The exercise takes up the union membership example from the cover sheet. The data set WAGEPAN.TXT contains information about 545 men who worked every year from 1980 to 1987 in the US. The variables of interest are\n",
    "\n",
    "\n",
    "| Variable | Content |\n",
    "|-|-|\n",
    "| nr | Variable that identifies the individual  |\n",
    "| year | Year of observation |\n",
    "| Black | Black |\n",
    "| Hisp | Hispanic |\n",
    "| Educ | Years of schooling |\n",
    "| Exper | Years since left school |\n",
    "| Expersq | Exper2 |\n",
    "| Married | Marital status |\n",
    "| Union | Union membership |\n",
    "| Lwage | Natural logarithm of hourly wages |\n",
    "\n",
    "Consider the following wage equation:\n",
    "\n",
    "$$\n",
    "\\begin{align}\n",
    "\\log\\left(wage_{it}\\right) & =\\beta_{0}+\\beta_{1}\\textit{exper}_{it}+\\beta_{2}\\textit{exper}_{it}^{2}+\\beta_{3}\\textit{union}_{it}+\\beta_{4}\\textit{married}_{i} +\\beta_{5}\\textit{educ}_{i}+\\beta_{6}\\textit{hisp}_{i}+\\beta_{7}\\textit{black}_{i}+c_{i}+u_{it} \\tag{1}\n",
    "\\end{align}\n",
    "$$\n",
    "\n",
    "Note that *educ*, *hisp*, and *black* are time-invariant variables."
   ]
  },
  {
   "cell_type": "markdown",
   "metadata": {},
   "source": [
    "# Exercises\n",
    "\n",
    "Start by loading the data. Some of this has been done for you already. Since we are working with panels, we need to know how many persons there are and how many time periods we observe them. Since we operate using a balanced panel, this makes our life a little easier."
   ]
  },
  {
   "cell_type": "code",
   "execution_count": 6,
   "metadata": {},
   "outputs": [],
   "source": [
    "data = np.loadtxt('wagepan.txt', delimiter=',')\n",
    "id_array = np.array(data[:, 0])"
   ]
  },
  {
   "cell_type": "code",
   "execution_count": 7,
   "metadata": {},
   "outputs": [],
   "source": [
    "# First, import the data into numpy. \n",
    "# Data should load the .txt file.\n",
    "data = np.loadtxt('wagepan.txt', delimiter=',')\n",
    "id_array = np.array(data[:, 0])\n",
    "\n",
    "# Count how many persons we have. This returns a tuple with the unique IDs,\n",
    "# and the number of times each person is observed.\n",
    "unique_id = np.unique(id_array, return_counts=True)\n",
    "N = unique_id[0].size\n",
    "T = int(unique_id[1].mean())\n",
    "year = np.array(data[:, 1], dtype=int)"
   ]
  },
  {
   "cell_type": "code",
   "execution_count": 8,
   "metadata": {},
   "outputs": [
    {
     "data": {
      "text/plain": [
       "array([1980, 1981, 1982, ..., 1985, 1986, 1987])"
      ]
     },
     "execution_count": 8,
     "metadata": {},
     "output_type": "execute_result"
    }
   ],
   "source": [
    "year"
   ]
  },
  {
   "cell_type": "code",
   "execution_count": 9,
   "metadata": {},
   "outputs": [
    {
     "data": {
      "text/plain": [
       "(4360, 10)"
      ]
     },
     "execution_count": 9,
     "metadata": {},
     "output_type": "execute_result"
    }
   ],
   "source": [
    "data.shape"
   ]
  },
  {
   "cell_type": "code",
   "execution_count": 10,
   "metadata": {},
   "outputs": [
    {
     "data": {
      "text/plain": [
       "4360"
      ]
     },
     "execution_count": 10,
     "metadata": {},
     "output_type": "execute_result"
    }
   ],
   "source": [
    "N*T"
   ]
  },
  {
   "cell_type": "code",
   "execution_count": 11,
   "metadata": {},
   "outputs": [
    {
     "data": {
      "text/plain": [
       "2"
      ]
     },
     "execution_count": 11,
     "metadata": {},
     "output_type": "execute_result"
    }
   ],
   "source": [
    "y =  data[:, 8].reshape(-1,1)\n",
    "y.ndim"
   ]
  },
  {
   "cell_type": "markdown",
   "metadata": {},
   "source": [
    "The table above does not correspond 1:1 with the text file. The data has 10 columns. Named from 0 to 9. Here is a variable describtion:\n",
    "- Column 0: ID\n",
    "- Column 1: Year\n",
    "- Column 2: Black\n",
    "- Column 3: Experience\n",
    "- Column 4: Hispanic\n",
    "- Column 5: Married\n",
    "- Column 6: Education\n",
    "- Column 7: Union\n",
    "- Column 8: ln wage\n",
    "- Column 9: Experience sqr"
   ]
  },
  {
   "cell_type": "code",
   "execution_count": 12,
   "metadata": {},
   "outputs": [],
   "source": [
    "# Load the rest of the data into arrays.\n",
    "y =  data[:, 8].reshape(-1,1) #We reshape to turn the 1-D array into a 2-D array\n",
    "\n",
    "# x needs to have a constant vector in the first row.\n",
    "# How would you add this? x should have the shape of (n*t, 8).\n",
    "x =  np.column_stack((np.ones(shape=N*T), data[:,2], data[:,4], data[:,6], data[:,3], data[:,9], data[:,5], data[:,7]))\n",
    "\n",
    "# Lets also make some variable names\n",
    "label_y = 'Log wage'\n",
    "label_x = [\n",
    "    'Constant', \n",
    "    'Black', \n",
    "    'Hispanic', \n",
    "    'Education', \n",
    "    'Experience', \n",
    "    'Experience sqr', \n",
    "    'Married', \n",
    "    'Union'\n",
    "]"
   ]
  },
  {
   "cell_type": "code",
   "execution_count": 13,
   "metadata": {},
   "outputs": [
    {
     "data": {
      "text/plain": [
       "(4360, 8)"
      ]
     },
     "execution_count": 13,
     "metadata": {},
     "output_type": "execute_result"
    }
   ],
   "source": [
    "x.shape"
   ]
  },
  {
   "cell_type": "markdown",
   "metadata": {},
   "source": [
    "## FE Questions\n",
    "### FE (a):\n",
    "- **Estimate (1) by pooled OLS,** thus considering for the moment the unobserved components of (q) as one (composite) error term $v_{it}=c_{i}+u_{it}$. \n",
    "- What assumptions are made about $E\\left[c_{i}\\mathbf{x}_{it}\\right]$ and $E\\left[u_{it}\\mathbf{x}_{it}\\right]$ when justifying this estimation approach?"
   ]
  },
  {
   "attachments": {},
   "cell_type": "markdown",
   "metadata": {},
   "source": [
    "---\n",
    "\n",
    "We assume that $E[c_i\\mathbf{x}_{it}]=0$ and $E[u_{it}\\mathbf{x}_{it}]$, ie. that our regressors are uncorrelated with the fixed effects $c_i$ and our time-dependent residuals $u_{it}$. This may constitute serious problems with consistency. Say for instance, that being unionized is correlated with some innate choice/propensity nested in $c_i$, then $E[c_i\\mathbf{x}_{it}]\\neq0$ which constitutes problems with consistency.\n",
    "\n",
    "---"
   ]
  },
  {
   "cell_type": "code",
   "execution_count": 14,
   "metadata": {},
   "outputs": [
    {
     "data": {
      "text/plain": [
       "{'b_hat': array([[-0.03470569],\n",
       "        [-0.14384171],\n",
       "        [ 0.01569798],\n",
       "        [ 0.09938779],\n",
       "        [ 0.08917907],\n",
       "        [-0.00284866],\n",
       "        [ 0.10766558],\n",
       "        [ 0.18007257]]),\n",
       " 'se': array([[0.064569  ],\n",
       "        [0.0235595 ],\n",
       "        [0.02081119],\n",
       "        [0.0046776 ],\n",
       "        [0.01011105],\n",
       "        [0.00070736],\n",
       "        [0.01569647],\n",
       "        [0.01712053]]),\n",
       " 'sigma': array([[0.2311144]]),\n",
       " 't_values': array([[-0.5374978 ],\n",
       "        [-6.10546464],\n",
       "        [ 0.75430479],\n",
       "        [21.2476231 ],\n",
       "        [ 8.81996235],\n",
       "        [-4.02715536],\n",
       "        [ 6.85922097],\n",
       "        [10.51793046]]),\n",
       " 'R2': array([[0.18658652]]),\n",
       " 'cov': array([[ 4.16915530e-03, -9.45025729e-05, -2.94576887e-04,\n",
       "         -2.58374638e-04, -2.39464248e-04,  1.00552999e-05,\n",
       "          1.02919787e-04, -4.58012239e-05],\n",
       "        [-9.45025729e-05,  5.55050201e-04,  8.34957716e-05,\n",
       "          4.21616792e-06, -8.96584601e-06,  2.49127666e-07,\n",
       "          5.76650246e-05, -4.81895390e-05],\n",
       "        [-2.94576887e-04,  8.34957716e-05,  4.33105780e-04,\n",
       "          1.73714787e-05,  6.37746526e-06, -5.16588031e-07,\n",
       "          4.14960247e-06, -1.78382171e-05],\n",
       "        [-2.58374638e-04,  4.21616792e-06,  1.73714787e-05,\n",
       "          2.18799030e-05, -5.72017569e-06,  7.53784989e-07,\n",
       "         -7.32707970e-06,  7.78275293e-07],\n",
       "        [-2.39464248e-04, -8.96584601e-06,  6.37746526e-06,\n",
       "         -5.72017569e-06,  1.02233304e-04, -6.85329299e-06,\n",
       "         -2.66198069e-05, -7.95128670e-06],\n",
       "        [ 1.00552999e-05,  2.49127666e-07, -5.16588031e-07,\n",
       "          7.53784989e-07, -6.85329299e-06,  5.00360560e-07,\n",
       "          8.88338386e-07,  6.27642141e-07],\n",
       "        [ 1.02919787e-04,  5.76650246e-05,  4.14960247e-06,\n",
       "         -7.32707970e-06, -2.66198069e-05,  8.88338386e-07,\n",
       "          2.46379288e-04, -1.45400463e-05],\n",
       "        [-4.58012239e-05, -4.81895390e-05, -1.78382171e-05,\n",
       "          7.78275293e-07, -7.95128670e-06,  6.27642141e-07,\n",
       "         -1.45400463e-05,  2.93112624e-04]]),\n",
       " 'N': 545,\n",
       " 'T': 8,\n",
       " 'deg_of_frees': 4352}"
      ]
     },
     "execution_count": 14,
     "metadata": {},
     "output_type": "execute_result"
    }
   ],
   "source": [
    "est1 = lm.estimate(y=y, x=x, N=N, T=T)\n",
    "est1"
   ]
  },
  {
   "cell_type": "code",
   "execution_count": 15,
   "metadata": {},
   "outputs": [
    {
     "name": "stdout",
     "output_type": "stream",
     "text": [
      "Results\n",
      "Dependent variable: Log wage\n",
      "\n",
      "                       Beta           Se    t-values\n",
      "--------------  -----------  -----------  ----------\n",
      "Constant        -0.0347057   0.064569      -0.537498\n",
      "Black           -0.143842    0.0235595     -6.10546\n",
      "Hispanic         0.015698    0.0208112      0.754305\n",
      "Education        0.0993878   0.0046776     21.2476\n",
      "Experience       0.0891791   0.010111       8.81996\n",
      "Experience sqr  -0.00284866  0.000707362   -4.02716\n",
      "Married          0.107666    0.0156965      6.85922\n",
      "Union            0.180073    0.0171205     10.5179\n",
      "R² = 0.187\n",
      "σ² = 0.231\n",
      "DF=4352.000\n",
      "N=545.000\n",
      "T=8.000\n"
     ]
    },
    {
     "name": "stderr",
     "output_type": "stream",
     "text": [
      "c:\\Users\\JBH\\anaconda3\\lib\\site-packages\\tabulate\\__init__.py:108: FutureWarning: elementwise comparison failed; returning scalar instead, but in the future will perform elementwise comparison\n",
      "  or (len(row) >= 2 and row[1] == SEPARATING_LINE)\n"
     ]
    }
   ],
   "source": [
    "lm.print_table(results=est1, labels=(label_y, label_x))"
   ]
  },
  {
   "cell_type": "markdown",
   "metadata": {},
   "source": [
    "Use `print_table` and you should get a table that looks like this:\n",
    "\n",
    "Pooled OLS <br>\n",
    "Dependent variable: Log wage <br>\n",
    "\n",
    "|                |    Beta |     Se |   t-values |\n",
    "|----------------|---------|--------|------------|\n",
    "| Constant       | -0.0347 | 0.0646 |    -0.5375 |\n",
    "| Black          | -0.1438 | 0.0236 |    -6.1055 |\n",
    "| Hispanic       |  0.0157 | 0.0208 |     0.7543 |\n",
    "| Education      |  0.0994 | 0.0047 |    21.2476 |\n",
    "| Experience     |  0.0892 | 0.0101 |     8.8200 |\n",
    "| Experience sqr | -0.0028 | 0.0007 |    -4.0272 |\n",
    "| Married        |  0.1077 | 0.0157 |     6.8592 |\n",
    "| Union          |  0.1801 | 0.0171 |    10.5179 |\n",
    "R² = 0.187 <br>\n",
    "σ² = 0.231"
   ]
  },
  {
   "cell_type": "markdown",
   "metadata": {},
   "source": [
    "### FE (b):\n",
    "- Within transform the data using the `perm` function. What happens to *educ, hisp, and black* and $x_{it1}\\equiv1$ when the data are within transformed? \n",
    "- What is the rank of the within transformed $\\mathbf{X}$ matrix? Why?"
   ]
  },
  {
   "cell_type": "markdown",
   "metadata": {},
   "source": [
    "---\n",
    "\n",
    "### The transformation matrix\n",
    "\n",
    "$\\mathbf{Q}_T:=\\mathbf{I}_T-\\left(\\begin{array}{ccc}1 / T & \\ldots & 1 / T \\\\ \\vdots & \\ddots & \\vdots \\\\ 1 / T & \\ldots & 1 / T\\end{array}\\right)_{T \\times T}$\n",
    "\n",
    "### Perm function\n",
    "\n",
    "$\\operatorname{perm}\\left(\\mathbf{Q}_T,\\left(\\begin{array}{c}\\mathbf{y}_1 \\\\ \\vdots \\\\ \\mathbf{y}_N\\end{array}\\right)\\right)=\\left(\\begin{array}{c}\\mathbf{Q}_T \\mathbf{y}_1 \\\\ \\vdots \\\\ \\mathbf{Q}_T \\mathbf{y}_N\\end{array}\\right)=\\left(\\begin{array}{c}\\ddot{\\mathbf{y}}_1 \\\\ \\vdots \\\\ \\ddot{\\mathbf{y}}_N\\end{array}\\right)=\\ddot{\\mathbf{y}}$\n",
    "\n",
    "$\\ddot{\\mathbf{y}}$ is then the demeaned $y$.\n",
    "\n",
    "$educ, hisp, black$ and $x_{it=1}$ is removed when the data are within-transformed.\n",
    "\n",
    "---"
   ]
  },
  {
   "cell_type": "code",
   "execution_count": 16,
   "metadata": {},
   "outputs": [],
   "source": [
    "def demeaning_matrix(T):\n",
    "    Q_T = np.eye(T)-np.tile(1/T,T) # Fill in\n",
    "    return Q_T"
   ]
  },
  {
   "cell_type": "code",
   "execution_count": 17,
   "metadata": {},
   "outputs": [],
   "source": [
    "Q_T = demeaning_matrix(T)\n",
    "y_demean = lm.perm(Q_T, y) # Fill in\n",
    "x_demean = lm.perm(Q_T,x) # Fill in\n",
    "\n",
    "# Check rank of demeaned matrix, and return its eigenvalues."
   ]
  },
  {
   "cell_type": "code",
   "execution_count": 18,
   "metadata": {},
   "outputs": [],
   "source": [
    "def check_rank(x: np.ndarray):\n",
    "    rank = np.linalg.matrix_rank(x)\n",
    "    if rank < x.shape[1]:\n",
    "        result = f'The matrix is NOT full rank with rank = {rank}'\n",
    "    elif rank==x.shape[1]: \n",
    "        result = f'The matrix is of full rank with rank = {rank}'\n",
    "    return result"
   ]
  },
  {
   "cell_type": "code",
   "execution_count": 19,
   "metadata": {},
   "outputs": [
    {
     "name": "stdout",
     "output_type": "stream",
     "text": [
      "Matrix y_demeaned The matrix is of full rank with rank = 1 \n",
      "\n",
      "Matrix x_demeaned The matrix is NOT full rank with rank = 4\n"
     ]
    }
   ],
   "source": [
    "print('Matrix y_demeaned', check_rank(y_demean), '\\n\\nMatrix x_demeaned', check_rank(x_demean))"
   ]
  },
  {
   "cell_type": "markdown",
   "metadata": {},
   "source": [
    "---\n",
    "\n",
    "Matrix $\\bold{x}$ is now of rank 4 as time-invariant variables have been removed.\n",
    "\n",
    "---"
   ]
  },
  {
   "cell_type": "markdown",
   "metadata": {},
   "source": [
    "An alternative to the perm function is to use panda dataframes to group the data. This has been done for the *entire* dataset below. If you want to use this method you'll need to make sure to pull out the correct variables when computing first difference and fixed effects estimators."
   ]
  },
  {
   "cell_type": "code",
   "execution_count": 20,
   "metadata": {},
   "outputs": [
    {
     "data": {
      "text/html": [
       "<div>\n",
       "<style scoped>\n",
       "    .dataframe tbody tr th:only-of-type {\n",
       "        vertical-align: middle;\n",
       "    }\n",
       "\n",
       "    .dataframe tbody tr th {\n",
       "        vertical-align: top;\n",
       "    }\n",
       "\n",
       "    .dataframe thead th {\n",
       "        text-align: right;\n",
       "    }\n",
       "</style>\n",
       "<table border=\"1\" class=\"dataframe\">\n",
       "  <thead>\n",
       "    <tr style=\"text-align: right;\">\n",
       "      <th></th>\n",
       "      <th>ID</th>\n",
       "      <th>year</th>\n",
       "      <th>black</th>\n",
       "      <th>exp</th>\n",
       "      <th>hisp</th>\n",
       "      <th>mar</th>\n",
       "      <th>educ</th>\n",
       "      <th>union</th>\n",
       "      <th>logwage</th>\n",
       "      <th>expsq</th>\n",
       "    </tr>\n",
       "  </thead>\n",
       "  <tbody>\n",
       "    <tr>\n",
       "      <th>0</th>\n",
       "      <td>13</td>\n",
       "      <td>1980</td>\n",
       "      <td>0</td>\n",
       "      <td>1</td>\n",
       "      <td>0</td>\n",
       "      <td>0</td>\n",
       "      <td>14</td>\n",
       "      <td>0</td>\n",
       "      <td>1.197540</td>\n",
       "      <td>1</td>\n",
       "    </tr>\n",
       "    <tr>\n",
       "      <th>1</th>\n",
       "      <td>13</td>\n",
       "      <td>1981</td>\n",
       "      <td>0</td>\n",
       "      <td>2</td>\n",
       "      <td>0</td>\n",
       "      <td>0</td>\n",
       "      <td>14</td>\n",
       "      <td>1</td>\n",
       "      <td>1.853060</td>\n",
       "      <td>4</td>\n",
       "    </tr>\n",
       "    <tr>\n",
       "      <th>2</th>\n",
       "      <td>13</td>\n",
       "      <td>1982</td>\n",
       "      <td>0</td>\n",
       "      <td>3</td>\n",
       "      <td>0</td>\n",
       "      <td>0</td>\n",
       "      <td>14</td>\n",
       "      <td>0</td>\n",
       "      <td>1.344462</td>\n",
       "      <td>9</td>\n",
       "    </tr>\n",
       "    <tr>\n",
       "      <th>3</th>\n",
       "      <td>13</td>\n",
       "      <td>1983</td>\n",
       "      <td>0</td>\n",
       "      <td>4</td>\n",
       "      <td>0</td>\n",
       "      <td>0</td>\n",
       "      <td>14</td>\n",
       "      <td>0</td>\n",
       "      <td>1.433213</td>\n",
       "      <td>16</td>\n",
       "    </tr>\n",
       "    <tr>\n",
       "      <th>4</th>\n",
       "      <td>13</td>\n",
       "      <td>1984</td>\n",
       "      <td>0</td>\n",
       "      <td>5</td>\n",
       "      <td>0</td>\n",
       "      <td>0</td>\n",
       "      <td>14</td>\n",
       "      <td>0</td>\n",
       "      <td>1.568125</td>\n",
       "      <td>25</td>\n",
       "    </tr>\n",
       "  </tbody>\n",
       "</table>\n",
       "</div>"
      ],
      "text/plain": [
       "   ID  year  black  exp  hisp  mar  educ  union   logwage  expsq\n",
       "0  13  1980      0    1     0    0    14      0  1.197540      1\n",
       "1  13  1981      0    2     0    0    14      1  1.853060      4\n",
       "2  13  1982      0    3     0    0    14      0  1.344462      9\n",
       "3  13  1983      0    4     0    0    14      0  1.433213     16\n",
       "4  13  1984      0    5     0    0    14      0  1.568125     25"
      ]
     },
     "execution_count": 20,
     "metadata": {},
     "output_type": "execute_result"
    }
   ],
   "source": [
    "# load the data using pandas\n",
    "pddat = pd.read_csv('wagepan.txt', delimiter=\",\", header=None)\n",
    "columns = [\"ID\", \"year\", \"black\", \"exp\", \"hisp\", \"mar\", \"educ\", \"union\", \"logwage\", \"expsq\"]\n",
    "pddat.columns = columns\n",
    "pddat.head()"
   ]
  },
  {
   "cell_type": "code",
   "execution_count": 21,
   "metadata": {},
   "outputs": [
    {
     "data": {
      "text/html": [
       "<div>\n",
       "<style scoped>\n",
       "    .dataframe tbody tr th:only-of-type {\n",
       "        vertical-align: middle;\n",
       "    }\n",
       "\n",
       "    .dataframe tbody tr th {\n",
       "        vertical-align: top;\n",
       "    }\n",
       "\n",
       "    .dataframe thead th {\n",
       "        text-align: right;\n",
       "    }\n",
       "</style>\n",
       "<table border=\"1\" class=\"dataframe\">\n",
       "  <thead>\n",
       "    <tr style=\"text-align: right;\">\n",
       "      <th></th>\n",
       "      <th>ID</th>\n",
       "      <th>year</th>\n",
       "      <th>black</th>\n",
       "      <th>exp</th>\n",
       "      <th>hisp</th>\n",
       "      <th>mar</th>\n",
       "      <th>educ</th>\n",
       "      <th>union</th>\n",
       "      <th>logwage</th>\n",
       "      <th>expsq</th>\n",
       "    </tr>\n",
       "  </thead>\n",
       "  <tbody>\n",
       "    <tr>\n",
       "      <th>0</th>\n",
       "      <td>13</td>\n",
       "      <td>1980</td>\n",
       "      <td>0</td>\n",
       "      <td>1</td>\n",
       "      <td>0</td>\n",
       "      <td>0</td>\n",
       "      <td>14</td>\n",
       "      <td>0</td>\n",
       "      <td>1.197540</td>\n",
       "      <td>1</td>\n",
       "    </tr>\n",
       "    <tr>\n",
       "      <th>1</th>\n",
       "      <td>13</td>\n",
       "      <td>1981</td>\n",
       "      <td>0</td>\n",
       "      <td>2</td>\n",
       "      <td>0</td>\n",
       "      <td>0</td>\n",
       "      <td>14</td>\n",
       "      <td>1</td>\n",
       "      <td>1.853060</td>\n",
       "      <td>4</td>\n",
       "    </tr>\n",
       "    <tr>\n",
       "      <th>2</th>\n",
       "      <td>13</td>\n",
       "      <td>1982</td>\n",
       "      <td>0</td>\n",
       "      <td>3</td>\n",
       "      <td>0</td>\n",
       "      <td>0</td>\n",
       "      <td>14</td>\n",
       "      <td>0</td>\n",
       "      <td>1.344462</td>\n",
       "      <td>9</td>\n",
       "    </tr>\n",
       "    <tr>\n",
       "      <th>3</th>\n",
       "      <td>13</td>\n",
       "      <td>1983</td>\n",
       "      <td>0</td>\n",
       "      <td>4</td>\n",
       "      <td>0</td>\n",
       "      <td>0</td>\n",
       "      <td>14</td>\n",
       "      <td>0</td>\n",
       "      <td>1.433213</td>\n",
       "      <td>16</td>\n",
       "    </tr>\n",
       "    <tr>\n",
       "      <th>4</th>\n",
       "      <td>13</td>\n",
       "      <td>1984</td>\n",
       "      <td>0</td>\n",
       "      <td>5</td>\n",
       "      <td>0</td>\n",
       "      <td>0</td>\n",
       "      <td>14</td>\n",
       "      <td>0</td>\n",
       "      <td>1.568125</td>\n",
       "      <td>25</td>\n",
       "    </tr>\n",
       "  </tbody>\n",
       "</table>\n",
       "</div>"
      ],
      "text/plain": [
       "   ID  year  black  exp  hisp  mar  educ  union   logwage  expsq\n",
       "0  13  1980      0    1     0    0    14      0  1.197540      1\n",
       "1  13  1981      0    2     0    0    14      1  1.853060      4\n",
       "2  13  1982      0    3     0    0    14      0  1.344462      9\n",
       "3  13  1983      0    4     0    0    14      0  1.433213     16\n",
       "4  13  1984      0    5     0    0    14      0  1.568125     25"
      ]
     },
     "execution_count": 21,
     "metadata": {},
     "output_type": "execute_result"
    }
   ],
   "source": [
    "# first difference the data\n",
    "pddat = pddat.sort_values([\"ID\", \"year\"])   # first sort by ID, then by year.\n",
    "                                            # important to ensure years are sorted correctly\n",
    "pddat_diff = pddat.groupby(\"ID\").diff().dropna() # take differences and drop NaNs due to differencing\n",
    "datdiff = pddat_diff.to_numpy() # turn into numpy array\n",
    "pddat.head()"
   ]
  },
  {
   "cell_type": "code",
   "execution_count": 22,
   "metadata": {},
   "outputs": [],
   "source": [
    "# demean data\n",
    "pddat_demean=pddat-pddat.groupby(\"ID\").transform('mean')\n",
    "datdemean = pddat_demean.to_numpy() # turn into numpy array"
   ]
  },
  {
   "cell_type": "code",
   "execution_count": 23,
   "metadata": {},
   "outputs": [
    {
     "data": {
      "text/html": [
       "<div>\n",
       "<style scoped>\n",
       "    .dataframe tbody tr th:only-of-type {\n",
       "        vertical-align: middle;\n",
       "    }\n",
       "\n",
       "    .dataframe tbody tr th {\n",
       "        vertical-align: top;\n",
       "    }\n",
       "\n",
       "    .dataframe thead th {\n",
       "        text-align: right;\n",
       "    }\n",
       "</style>\n",
       "<table border=\"1\" class=\"dataframe\">\n",
       "  <thead>\n",
       "    <tr style=\"text-align: right;\">\n",
       "      <th></th>\n",
       "      <th>year</th>\n",
       "      <th>black</th>\n",
       "      <th>exp</th>\n",
       "      <th>hisp</th>\n",
       "      <th>mar</th>\n",
       "      <th>educ</th>\n",
       "      <th>union</th>\n",
       "      <th>logwage</th>\n",
       "      <th>expsq</th>\n",
       "    </tr>\n",
       "  </thead>\n",
       "  <tbody>\n",
       "    <tr>\n",
       "      <th>1</th>\n",
       "      <td>1.0</td>\n",
       "      <td>0.0</td>\n",
       "      <td>1.0</td>\n",
       "      <td>0.0</td>\n",
       "      <td>0.0</td>\n",
       "      <td>0.0</td>\n",
       "      <td>1.0</td>\n",
       "      <td>0.655520</td>\n",
       "      <td>3.0</td>\n",
       "    </tr>\n",
       "    <tr>\n",
       "      <th>2</th>\n",
       "      <td>1.0</td>\n",
       "      <td>0.0</td>\n",
       "      <td>1.0</td>\n",
       "      <td>0.0</td>\n",
       "      <td>0.0</td>\n",
       "      <td>0.0</td>\n",
       "      <td>-1.0</td>\n",
       "      <td>-0.508598</td>\n",
       "      <td>5.0</td>\n",
       "    </tr>\n",
       "    <tr>\n",
       "      <th>3</th>\n",
       "      <td>1.0</td>\n",
       "      <td>0.0</td>\n",
       "      <td>1.0</td>\n",
       "      <td>0.0</td>\n",
       "      <td>0.0</td>\n",
       "      <td>0.0</td>\n",
       "      <td>0.0</td>\n",
       "      <td>0.088752</td>\n",
       "      <td>7.0</td>\n",
       "    </tr>\n",
       "    <tr>\n",
       "      <th>4</th>\n",
       "      <td>1.0</td>\n",
       "      <td>0.0</td>\n",
       "      <td>1.0</td>\n",
       "      <td>0.0</td>\n",
       "      <td>0.0</td>\n",
       "      <td>0.0</td>\n",
       "      <td>0.0</td>\n",
       "      <td>0.134912</td>\n",
       "      <td>9.0</td>\n",
       "    </tr>\n",
       "    <tr>\n",
       "      <th>5</th>\n",
       "      <td>1.0</td>\n",
       "      <td>0.0</td>\n",
       "      <td>1.0</td>\n",
       "      <td>0.0</td>\n",
       "      <td>0.0</td>\n",
       "      <td>0.0</td>\n",
       "      <td>0.0</td>\n",
       "      <td>0.131766</td>\n",
       "      <td>11.0</td>\n",
       "    </tr>\n",
       "  </tbody>\n",
       "</table>\n",
       "</div>"
      ],
      "text/plain": [
       "   year  black  exp  hisp  mar  educ  union   logwage  expsq\n",
       "1   1.0    0.0  1.0   0.0  0.0   0.0    1.0  0.655520    3.0\n",
       "2   1.0    0.0  1.0   0.0  0.0   0.0   -1.0 -0.508598    5.0\n",
       "3   1.0    0.0  1.0   0.0  0.0   0.0    0.0  0.088752    7.0\n",
       "4   1.0    0.0  1.0   0.0  0.0   0.0    0.0  0.134912    9.0\n",
       "5   1.0    0.0  1.0   0.0  0.0   0.0    0.0  0.131766   11.0"
      ]
     },
     "execution_count": 23,
     "metadata": {},
     "output_type": "execute_result"
    }
   ],
   "source": [
    "# Can look at the dataframe to see where the relevant variables are, note dimensions\n",
    "pddat_diff.head()"
   ]
  },
  {
   "cell_type": "code",
   "execution_count": 24,
   "metadata": {},
   "outputs": [],
   "source": [
    "ydiff=datdiff[:,7].reshape(-1,1) #turning it into 2D array\n",
    "xdiff=np.array((\n",
    "    datdiff[:,2],   #Experience\n",
    "    datdiff[:,8],   #Experiencesq\n",
    "    datdiff[:,4],   #Married\n",
    "    datdiff[:,6]    #Union\n",
    "    ))"
   ]
  },
  {
   "cell_type": "code",
   "execution_count": 25,
   "metadata": {},
   "outputs": [
    {
     "data": {
      "text/html": [
       "<div>\n",
       "<style scoped>\n",
       "    .dataframe tbody tr th:only-of-type {\n",
       "        vertical-align: middle;\n",
       "    }\n",
       "\n",
       "    .dataframe tbody tr th {\n",
       "        vertical-align: top;\n",
       "    }\n",
       "\n",
       "    .dataframe thead th {\n",
       "        text-align: right;\n",
       "    }\n",
       "</style>\n",
       "<table border=\"1\" class=\"dataframe\">\n",
       "  <thead>\n",
       "    <tr style=\"text-align: right;\">\n",
       "      <th></th>\n",
       "      <th>ID</th>\n",
       "      <th>black</th>\n",
       "      <th>educ</th>\n",
       "      <th>exp</th>\n",
       "      <th>expsq</th>\n",
       "      <th>hisp</th>\n",
       "      <th>logwage</th>\n",
       "      <th>mar</th>\n",
       "      <th>union</th>\n",
       "      <th>year</th>\n",
       "    </tr>\n",
       "  </thead>\n",
       "  <tbody>\n",
       "    <tr>\n",
       "      <th>0</th>\n",
       "      <td>NaN</td>\n",
       "      <td>0.0</td>\n",
       "      <td>0.0</td>\n",
       "      <td>-3.5</td>\n",
       "      <td>-24.5</td>\n",
       "      <td>0.0</td>\n",
       "      <td>-0.058112</td>\n",
       "      <td>0.0</td>\n",
       "      <td>-0.125</td>\n",
       "      <td>-3.5</td>\n",
       "    </tr>\n",
       "    <tr>\n",
       "      <th>1</th>\n",
       "      <td>NaN</td>\n",
       "      <td>0.0</td>\n",
       "      <td>0.0</td>\n",
       "      <td>-2.5</td>\n",
       "      <td>-21.5</td>\n",
       "      <td>0.0</td>\n",
       "      <td>0.597408</td>\n",
       "      <td>0.0</td>\n",
       "      <td>0.875</td>\n",
       "      <td>-2.5</td>\n",
       "    </tr>\n",
       "    <tr>\n",
       "      <th>2</th>\n",
       "      <td>NaN</td>\n",
       "      <td>0.0</td>\n",
       "      <td>0.0</td>\n",
       "      <td>-1.5</td>\n",
       "      <td>-16.5</td>\n",
       "      <td>0.0</td>\n",
       "      <td>0.088810</td>\n",
       "      <td>0.0</td>\n",
       "      <td>-0.125</td>\n",
       "      <td>-1.5</td>\n",
       "    </tr>\n",
       "    <tr>\n",
       "      <th>3</th>\n",
       "      <td>NaN</td>\n",
       "      <td>0.0</td>\n",
       "      <td>0.0</td>\n",
       "      <td>-0.5</td>\n",
       "      <td>-9.5</td>\n",
       "      <td>0.0</td>\n",
       "      <td>0.177561</td>\n",
       "      <td>0.0</td>\n",
       "      <td>-0.125</td>\n",
       "      <td>-0.5</td>\n",
       "    </tr>\n",
       "    <tr>\n",
       "      <th>4</th>\n",
       "      <td>NaN</td>\n",
       "      <td>0.0</td>\n",
       "      <td>0.0</td>\n",
       "      <td>0.5</td>\n",
       "      <td>-0.5</td>\n",
       "      <td>0.0</td>\n",
       "      <td>0.312473</td>\n",
       "      <td>0.0</td>\n",
       "      <td>-0.125</td>\n",
       "      <td>0.5</td>\n",
       "    </tr>\n",
       "  </tbody>\n",
       "</table>\n",
       "</div>"
      ],
      "text/plain": [
       "   ID  black  educ  exp  expsq  hisp   logwage  mar  union  year\n",
       "0 NaN    0.0   0.0 -3.5  -24.5   0.0 -0.058112  0.0 -0.125  -3.5\n",
       "1 NaN    0.0   0.0 -2.5  -21.5   0.0  0.597408  0.0  0.875  -2.5\n",
       "2 NaN    0.0   0.0 -1.5  -16.5   0.0  0.088810  0.0 -0.125  -1.5\n",
       "3 NaN    0.0   0.0 -0.5   -9.5   0.0  0.177561  0.0 -0.125  -0.5\n",
       "4 NaN    0.0   0.0  0.5   -0.5   0.0  0.312473  0.0 -0.125   0.5"
      ]
     },
     "execution_count": 25,
     "metadata": {},
     "output_type": "execute_result"
    }
   ],
   "source": [
    "# Can look at the dataframe to see where the relevant variables are, note dimensions\n",
    "pddat_demean.head()"
   ]
  },
  {
   "cell_type": "code",
   "execution_count": 26,
   "metadata": {},
   "outputs": [],
   "source": [
    "ydot = datdemean[:, 6] # The log wage\n",
    "xdot = np.array((\n",
    "    datdemean[:,3], # Experience\n",
    "    datdemean[:,4], # Experience sq\n",
    "    datdemean[:,7], # Married\n",
    "    datdemean[:,8])) # Union"
   ]
  },
  {
   "cell_type": "markdown",
   "metadata": {},
   "source": [
    "### FE (c):\n",
    "- Estimate (1) on within transformed data (make sure that the employed $\\mathbf{\\ddot{X}}$ has full rank - drop columns if necessary). \n",
    "- How big is the union premium according to the estimate from the FE model? Compare this with the estimate that you calculated from the pooled OLS regression. What does this suggest about $E\\left[union_{it}c_{i}\\right]$?"
   ]
  },
  {
   "cell_type": "code",
   "execution_count": 27,
   "metadata": {},
   "outputs": [],
   "source": [
    "x_demean2=x_demean[:,4:] \n",
    "# Column 0-3 is time-variant (constant, black, hisp, educ) \n",
    "# and thus are linearly dependent on each other for within-transformed data. "
   ]
  },
  {
   "cell_type": "code",
   "execution_count": 28,
   "metadata": {},
   "outputs": [
    {
     "data": {
      "text/html": [
       "<div>\n",
       "<style scoped>\n",
       "    .dataframe tbody tr th:only-of-type {\n",
       "        vertical-align: middle;\n",
       "    }\n",
       "\n",
       "    .dataframe tbody tr th {\n",
       "        vertical-align: top;\n",
       "    }\n",
       "\n",
       "    .dataframe thead th {\n",
       "        text-align: right;\n",
       "    }\n",
       "</style>\n",
       "<table border=\"1\" class=\"dataframe\">\n",
       "  <thead>\n",
       "    <tr style=\"text-align: right;\">\n",
       "      <th></th>\n",
       "      <th>Constant</th>\n",
       "      <th>Black</th>\n",
       "      <th>Hispanic</th>\n",
       "      <th>Education</th>\n",
       "      <th>Experience</th>\n",
       "      <th>Experience sqr</th>\n",
       "      <th>Married</th>\n",
       "      <th>Union</th>\n",
       "    </tr>\n",
       "  </thead>\n",
       "  <tbody>\n",
       "    <tr>\n",
       "      <th>0</th>\n",
       "      <td>0.0</td>\n",
       "      <td>0.0</td>\n",
       "      <td>0.0</td>\n",
       "      <td>0.0</td>\n",
       "      <td>-3.5</td>\n",
       "      <td>-24.5</td>\n",
       "      <td>0.0</td>\n",
       "      <td>-0.125</td>\n",
       "    </tr>\n",
       "    <tr>\n",
       "      <th>1</th>\n",
       "      <td>0.0</td>\n",
       "      <td>0.0</td>\n",
       "      <td>0.0</td>\n",
       "      <td>0.0</td>\n",
       "      <td>-2.5</td>\n",
       "      <td>-21.5</td>\n",
       "      <td>0.0</td>\n",
       "      <td>0.875</td>\n",
       "    </tr>\n",
       "    <tr>\n",
       "      <th>2</th>\n",
       "      <td>0.0</td>\n",
       "      <td>0.0</td>\n",
       "      <td>0.0</td>\n",
       "      <td>0.0</td>\n",
       "      <td>-1.5</td>\n",
       "      <td>-16.5</td>\n",
       "      <td>0.0</td>\n",
       "      <td>-0.125</td>\n",
       "    </tr>\n",
       "    <tr>\n",
       "      <th>3</th>\n",
       "      <td>0.0</td>\n",
       "      <td>0.0</td>\n",
       "      <td>0.0</td>\n",
       "      <td>0.0</td>\n",
       "      <td>-0.5</td>\n",
       "      <td>-9.5</td>\n",
       "      <td>0.0</td>\n",
       "      <td>-0.125</td>\n",
       "    </tr>\n",
       "    <tr>\n",
       "      <th>4</th>\n",
       "      <td>0.0</td>\n",
       "      <td>0.0</td>\n",
       "      <td>0.0</td>\n",
       "      <td>0.0</td>\n",
       "      <td>0.5</td>\n",
       "      <td>-0.5</td>\n",
       "      <td>0.0</td>\n",
       "      <td>-0.125</td>\n",
       "    </tr>\n",
       "  </tbody>\n",
       "</table>\n",
       "</div>"
      ],
      "text/plain": [
       "   Constant  Black  Hispanic  Education  Experience  Experience sqr  Married  \\\n",
       "0       0.0    0.0       0.0        0.0        -3.5           -24.5      0.0   \n",
       "1       0.0    0.0       0.0        0.0        -2.5           -21.5      0.0   \n",
       "2       0.0    0.0       0.0        0.0        -1.5           -16.5      0.0   \n",
       "3       0.0    0.0       0.0        0.0        -0.5            -9.5      0.0   \n",
       "4       0.0    0.0       0.0        0.0         0.5            -0.5      0.0   \n",
       "\n",
       "   Union  \n",
       "0 -0.125  \n",
       "1  0.875  \n",
       "2 -0.125  \n",
       "3 -0.125  \n",
       "4 -0.125  "
      ]
     },
     "execution_count": 28,
     "metadata": {},
     "output_type": "execute_result"
    }
   ],
   "source": [
    "pd.DataFrame(x_demean, columns=label_x).head()"
   ]
  },
  {
   "cell_type": "code",
   "execution_count": 29,
   "metadata": {},
   "outputs": [
    {
     "data": {
      "text/plain": [
       "(4360, 4)"
      ]
     },
     "execution_count": 29,
     "metadata": {},
     "output_type": "execute_result"
    }
   ],
   "source": [
    "x_demean2.shape"
   ]
  },
  {
   "cell_type": "code",
   "execution_count": 30,
   "metadata": {},
   "outputs": [
    {
     "data": {
      "text/plain": [
       "'The matrix is of full rank with rank = 4'"
      ]
     },
     "execution_count": 30,
     "metadata": {},
     "output_type": "execute_result"
    }
   ],
   "source": [
    "check_rank(x_demean2)"
   ]
  },
  {
   "cell_type": "code",
   "execution_count": 31,
   "metadata": {},
   "outputs": [],
   "source": [
    "labels_x2 = ['Experience', 'Experience sqr', 'Married', 'Union']"
   ]
  },
  {
   "cell_type": "code",
   "execution_count": 32,
   "metadata": {},
   "outputs": [
    {
     "name": "stdout",
     "output_type": "stream",
     "text": [
      "Results\n",
      "Dependent variable: Log wage\n",
      "\n",
      "                       Beta           Se    t-values\n",
      "--------------  -----------  -----------  ----------\n",
      "Experience       0.116847    0.00841968     13.8778\n",
      "Experience sqr  -0.00430089  0.000605274    -7.10569\n",
      "Married          0.0453033   0.0183097       2.47428\n",
      "Union            0.0820871   0.0192907       4.25526\n",
      "R² = 0.178\n",
      "σ² = 0.123\n",
      "DF=3811.000\n",
      "N=545.000\n",
      "T=8.000\n"
     ]
    },
    {
     "name": "stderr",
     "output_type": "stream",
     "text": [
      "c:\\Users\\JBH\\anaconda3\\lib\\site-packages\\tabulate\\__init__.py:108: FutureWarning: elementwise comparison failed; returning scalar instead, but in the future will perform elementwise comparison\n",
      "  or (len(row) >= 2 and row[1] == SEPARATING_LINE)\n"
     ]
    }
   ],
   "source": [
    "# Fill in\n",
    "# NB you can use either y_demean, x_demean (from perm function) or y_dot, x_dot (from dataframes) here\n",
    "\n",
    "est2=lm.estimate(y=y_demean, x=x_demean2, N=N, T=T, transform='fe')\n",
    "est2\n",
    "lm.print_table(results=est2, labels=(label_y, labels_x2))"
   ]
  },
  {
   "cell_type": "markdown",
   "metadata": {},
   "source": [
    "You should get a table that looks like this:\n",
    "\n",
    "FE regression<br>\n",
    "Dependent variable: Log wage\n",
    "\n",
    "|                |    Beta |     Se |   t-values |\n",
    "|----------------|---------|--------|------------|\n",
    "| Experience     |  0.1168 | 0.0084 |    13.8778 |\n",
    "| Experience sqr | -0.0043 | 0.0006 |    -7.1057 |\n",
    "| Married        |  0.0453 | 0.0183 |     2.4743 |\n",
    "| Union          |  0.0821 | 0.0193 |     4.2553 |\n",
    "R² = 0.178 <br>\n",
    "σ² = 0.123"
   ]
  },
  {
   "cell_type": "markdown",
   "metadata": {},
   "source": [
    "--- \n",
    "\n",
    "Our $\\beta_{FE}$-coef for $Union$ is 0.0821 and significant. $\\beta_{POLS}$ was 0.18, larger than previously. This suggests that the 'true' wage premium for being unionized is smaller than expected, plausibly due to fixed effects such as innate characterics of propensity of unionizing.\n",
    "\n",
    "---"
   ]
  },
  {
   "cell_type": "markdown",
   "metadata": {},
   "source": [
    "## FD Questions\n",
    "### FD (a):\n",
    "- Construct $\\mathbf{D}$ and use the procedure `perm` $(\\mathbf{D},\\mathbf{x})$ to compute first differences of the elements of $\\mathbf{y}$ and $\\mathbf{x}$. \n",
    "- What happens to *educ, hisp* and *black* and $x_{it1}\\equiv1$ when the data are transformed into first differences? What is the rank of the first differenced $\\mathbf{x}$-matrix? Why?"
   ]
  },
  {
   "cell_type": "markdown",
   "metadata": {},
   "source": [
    "$\\mathbf{D}:=\\left(\\begin{array}{cccccc}-1 & 1 & 0 & \\ldots & 0 & 0 \\\\ 0 & -1 & 1 & & 0 & 0 \\\\ \\vdots & & & \\ddots & & \\vdots \\\\ 0 & 0 & 0 & \\ldots & -1 & 1\\end{array}\\right)_{T-1 \\times T}$"
   ]
  },
  {
   "cell_type": "markdown",
   "metadata": {},
   "source": [
    "--- \n",
    "\n",
    "Again, the above mentioned vars are now linearly dependent given that they are time-independent.\n",
    "\n",
    "---"
   ]
  },
  {
   "cell_type": "code",
   "execution_count": 33,
   "metadata": {},
   "outputs": [],
   "source": [
    "def fd_matrix(T):\n",
    "    D_T = -np.eye(T)+np.eye(T,k=1) # Fill in\n",
    "    D_T = D_T[:-1]\n",
    "    return D_T"
   ]
  },
  {
   "cell_type": "code",
   "execution_count": 34,
   "metadata": {},
   "outputs": [
    {
     "data": {
      "text/plain": [
       "array([[ 0.,  0.,  0., ...,  3.,  0.,  1.],\n",
       "       [ 0.,  0.,  0., ...,  5.,  0., -1.],\n",
       "       [ 0.,  0.,  0., ...,  7.,  0.,  0.],\n",
       "       ...,\n",
       "       [ 0.,  0.,  0., ..., 19.,  0., -1.],\n",
       "       [ 0.,  0.,  0., ..., 21.,  0.,  1.],\n",
       "       [ 0.,  0.,  0., ..., 23.,  0.,  0.]])"
      ]
     },
     "execution_count": 34,
     "metadata": {},
     "output_type": "execute_result"
    }
   ],
   "source": [
    "D_T = fd_matrix(T)\n",
    "x_diff = lm.perm(D_T,x)\n",
    "x_diff"
   ]
  },
  {
   "cell_type": "code",
   "execution_count": 35,
   "metadata": {},
   "outputs": [
    {
     "data": {
      "text/plain": [
       "'The matrix is NOT full rank with rank = 4'"
      ]
     },
     "execution_count": 35,
     "metadata": {},
     "output_type": "execute_result"
    }
   ],
   "source": [
    "check_rank(x_diff)"
   ]
  },
  {
   "cell_type": "markdown",
   "metadata": {},
   "source": [
    "### FD (b):\n",
    "- **Estimate (1) in first differences.** How big is the union premium according to the estimate from this model? \n",
    "- Compare the FD estimate with the estimate that you calculated from the FE regression. Is there a difference? If yes, what (if anything) can we conclude based on this finding?"
   ]
  },
  {
   "cell_type": "code",
   "execution_count": 36,
   "metadata": {},
   "outputs": [
    {
     "name": "stdout",
     "output_type": "stream",
     "text": [
      "The matrix is of full rank with rank = 4\n"
     ]
    }
   ],
   "source": [
    "# Transform the data.\n",
    "D_T = fd_matrix(T)\n",
    "y_diff = lm.perm(D_T,y) # Fill in\n",
    "x_diff = lm.perm(D_T,x) # Fill in\n",
    "x_diff=x_diff[:,4:]\n",
    "print(check_rank(x_diff))\n",
    "# Again, check rank condition.\n",
    "\n",
    "\n",
    "\n",
    "# Estimate on transformed data\n",
    "# NB you can use either y_diff, x_diff (from perm function) or ydiff, xdiff (from dataframes) here"
   ]
  },
  {
   "cell_type": "code",
   "execution_count": 37,
   "metadata": {},
   "outputs": [
    {
     "name": "stdout",
     "output_type": "stream",
     "text": [
      "Results\n",
      "Dependent variable: Log wage\n",
      "\n",
      "                       Beta          Se    t-values\n",
      "--------------  -----------  ----------  ----------\n",
      "Experience       0.11575     0.0195867      5.90964\n",
      "Experience sqr  -0.00388237  0.00138632    -2.80049\n",
      "Married          0.0381377   0.0229283      1.66335\n",
      "Union            0.0427878   0.0196575      2.17667\n",
      "R² = 0.004\n",
      "σ² = 0.196\n",
      "DF=3811.000\n",
      "N=545.000\n",
      "T=7.000\n"
     ]
    }
   ],
   "source": [
    "est3=lm.estimate(y=y_diff, x=x_diff, N=N, T=T-1)\n",
    "lm.print_table(results=est3, labels=(label_y, labels_x2))"
   ]
  },
  {
   "cell_type": "markdown",
   "metadata": {},
   "source": [
    "You should get a table that look like this:\n",
    "\n",
    "FD regression <br>\n",
    "Dependent variable: Log wage\n",
    "\n",
    "|                |    Beta |     Se |   t-values |\n",
    "|----------------|---------|--------|------------|\n",
    "| Experience     |  0.1158 | 0.0196 |     5.9096 |\n",
    "| Experience sqr | -0.0039 | 0.0014 |    -2.8005 |\n",
    "| Married        |  0.0381 | 0.0229 |     1.6633 |\n",
    "| Union          |  0.0428 | 0.0197 |     2.1767 |\n",
    "R² = 0.004 <br>\n",
    "σ² = 0.196"
   ]
  },
  {
   "cell_type": "markdown",
   "metadata": {},
   "source": [
    "---\n",
    "\n",
    "The estimate $\\beta_{FD}$ for $union$ is now 0.0428 compared to $\\beta_{FE}=0.082$, around half compared with FE. Hmm, let's compare w/ FE below... \n",
    "\n",
    "---"
   ]
  },
  {
   "cell_type": "markdown",
   "metadata": {},
   "source": [
    "## Exercise comparing FE and FD\n",
    "### Question FE v. FD (a):\n",
    "**Test for serial correlation in the errors using an auxilliary AR(1) model**, to test assumption FD.3, where the errors $e_{it} = \\Delta u_{it}$ should be serially uncorrelated.\n",
    "\n",
    "We can easily test this assumption given the OLS residuals from the FD version of equation (1). Run the regression (note that you will loose data for\n",
    "the *two* first periods)\n",
    "\\begin{equation}\n",
    "\\hat{e}_{it}=\\rho\\hat{e}_{it-1}+error_{it},\\quad t=\\color{red}{3},\\dotsc,T,\\quad i=1,\\dotsc,N\\tag{2}\n",
    "\\end{equation}\n",
    "\n",
    "Do you find any evidence for serial correlation? Does FD.3 seem appropriate? And why don't we include an intercept in this auxilliary equation?"
   ]
  },
  {
   "cell_type": "markdown",
   "metadata": {},
   "source": [
    "*Note:* Under FE.3, the idiosyncratic errors $u_{it}$\n",
    "are uncorrelated. However, FE.3 implies that the $e_{it}$'s are autocorrelated. In fact, if the $u_{it}$'s are serially uncorrelated to begin with, corr $\\left(e_{it},e_{it-1}\\right)=-0.5$. (Check!) This test is of course only valid if the explanatory variables are strictly exogenous!\n",
    "\n",
    "*Hint:* You can use the `perm` function to lag\n",
    "the error term variable. Consider the following; \n",
    "\n",
    "$$\n",
    "{\\begin{bmatrix}\n",
    "1 & 0 & 0 & \\cdots & 0 & 0\\\\\n",
    "0 & 1 & 0 & \\cdots & 0 & 0\\\\\n",
    "\\vdots & \\vdots & \\vdots & \\ddots & \\vdots & \\vdots\\\\\n",
    "0 & 0 & 0 & \\cdots & 1 & 0\n",
    "\\end{bmatrix}}_{T-1\\times T}\\times{\\begin{bmatrix}y_{1}\\\\\n",
    "y_{2}\\\\\n",
    "\\vdots\\\\\n",
    "y_{T}\n",
    "\\end{bmatrix}}_{T \\times 1}={\\begin{bmatrix}y_{1}\\\\\n",
    "y_{2}\\\\\n",
    "\\vdots\\\\\n",
    "y_{T - 1}\n",
    "\\end{bmatrix}}_{T - 1\\times 1}\n",
    "$$\n"
   ]
  },
  {
   "attachments": {},
   "cell_type": "markdown",
   "metadata": {},
   "source": [
    "---\n",
    "\n",
    "### Showing the weird result $corr(e_{it},e_{it-1})=-0.5$\n",
    "#### Errors $u_{it}$ are said to be serially uncorrelated\n",
    "\n",
    "Unobserved linear panel data model\n",
    "\n",
    "\n",
    "$$\n",
    "y_{it} = c_i + x_{it}\\beta+u_{it}\n",
    "$$\n",
    "\n",
    "Statement: $u_{it}$ are serially uncorrelated: For $e_{it} \\equiv u_{it}-u_{it-1}$, this means $corr(e_{it},e_{it-1})=-0.5$. If this is the case, then $u_{it}$ are serially uncorrelated. \n",
    "\n",
    "$\\textbf{NOT}$ that $\\ddot{u}_{it}$'s are serially uncorrelated. \n",
    "\n",
    "---\n",
    "\n",
    "The FE-regression is done by demeaning:\n",
    "\n",
    "\\begin{align*}\n",
    "y_{it}-\\bar{y}_i &= (c_i-c_i)+(x_{it}-\\bar{x}_i)\\beta+(u_{it}-\\bar{u}_i) \\Leftrightarrow \\\\\n",
    "\n",
    "\\ddot{y}_{it} &= \\ddot{x}_{it}\\beta_{FD}+\\ddot{u}_{it}\n",
    "\\end{align*}\n",
    "\n",
    "Time-invariant heterogeneity $c_i$ gone. Nice.\n",
    "\n",
    "From Wooldridge p. 305, it follows that:\n",
    "\n",
    "$$\n",
    "E[\\ddot{u}_{it}\\ddot{u}_{is}]=\\sigma^2_u(1-\\frac1T)\n",
    "$$\n",
    "\n",
    "Use that correlation $corr(X,Y) \\equiv \\frac{COV(X,Y)}{\\sqrt{V(X)\\cdot V(Y)}}$ to see that:\n",
    "\n",
    "\\begin{align*}\n",
    "Corr(\\ddot{u}_{it}\\ddot{u}_{is})    &= \\frac{E[\\ddot{u}_{it}\\ddot{u}_{is}]}{\\sqrt{E[(\\ddot{u}_{it})^2] \\cdot E[(\\ddot{u}_{is})^2]}} \\\\\n",
    "\n",
    "                                    &= \\frac{-\\sigma^2_u \\frac1T}{\\sqrt{-[\\sigma^2_u(1-\\frac1T)]^2}} \\\\\n",
    "\n",
    "                                    &= \\frac{-\\sigma^2_u \\frac1T}{\\sigma^2_u(1-\\frac1T)} \\\\\n",
    "\n",
    "                                    &= \\frac{-\\frac1T}{1-\\frac1T} \\\\\n",
    "\n",
    "                                    &= -\\frac{1}{T(1-\\frac1T)} \\\\\n",
    "\n",
    "                                    &= -\\frac{1}{T-1}\n",
    "\\end{align*}\n",
    "\n",
    "Essentially, you have serial correlation in the FE-estimator that dies out for $T \\rightarrow \\infty$. Again, if you use the mean of your whole dataset in the estimator, it makes sense that there some serial correlation in the residual $\\ddot{u}_{it}$.\n",
    "\n",
    "---\n",
    "\n",
    "Let's begin from:\n",
    "\n",
    "\\begin{align*}\n",
    "    corr(e_{it}, e_{it-1})=\\frac{cov(e_{it},e_{it-1})}{\\sqrt{V(e_{it}) \\cdot V(e_{it-1})}}\n",
    "\\end{align*}\n",
    "\n",
    "Statement: for $corr(e_{it}, e_{it-1})=-0.5$, the residuals $u_{it}$'s are serially uncorrelated. \n",
    "\n",
    "We have that $cov(e_{it},e_{it-1})=cov(u_{it}-u_{it-1}, u_{it-1}-u_{it-2})=cov(u_{it},u_{it-1})-cov(u_{it}, u_{it-2})-cov(u_{it-1},u_{it-1})+cov(u_{it-1},u_{it-2})=cov(u_{it-1},u_{it-1})=-\\underline{\\underline{V(u_{it-1})\\equiv -V(u_{it})}}$. We are saying $u_{it}$ and $u_{it-1}$ are uncorrelated, so $cov(u_{it},u_{is})=0$ for $t\\neq s$.\n",
    "\n",
    "We also have that $V(e_{it})=V[(u_{it}-u_{it-1})]=V(u_{it})+V(u_{it-1})\\approx 2V(u_{it})$ [pretty sure of this]\n",
    "\n",
    "And so, finally, we have that:\n",
    "\n",
    "\\begin{align*}\n",
    "    corr(e_{it}, e_{it-1})  &= \\frac{cov(e_{it},e_{it-1})}{\\sqrt{V(e_{it}) \\cdot V(e_{it-1})}} \\Leftrightarrow \\\\\n",
    "\n",
    "                            &= \\frac{-V(u_{it})}{\\sqrt{(2V(u_{it})^2}} \\Leftrightarrow \\\\\n",
    "\n",
    "                            &= -\\frac{1}{2}\n",
    "                            \n",
    "\\end{align*}\n",
    "\n",
    "Wooldridge doesn't explain it that well. But basically testing for $\\rho=-0.5$ in the regression:\n",
    "\n",
    "$$\n",
    "\\hat{e}_{it}=\\rho\\hat{e}_{it-1}+error_{it}\n",
    "$$\n",
    "\n",
    "If you accept the null, there is no serial correlation in the   $u_{it}$ $\\rightarrow$ Go with FE, cf. **FE.3** in Wooldridge p.317.\n",
    "\n",
    "---\n",
    "\n",
    "**Efficiency, FE**\n",
    "\n",
    "$\\mathcal{H_0}:~\\rho = -0.5$ ($u_{it}$'s are serially uncorrelated)\n",
    "\n",
    "**Efficiency, FD**\n",
    "\n",
    "$\\mathcal{H_0}:~\\rho = 0$ ($u_{it}$'s are a random walk)"
   ]
  },
  {
   "attachments": {},
   "cell_type": "markdown",
   "metadata": {},
   "source": [
    "### Sum up for requirements for efficiency and consistency (Wooldridge p.325)\n",
    "\n",
    "**Estimate via FE**:\n",
    "\n",
    "$$\n",
    "y_{i t}=\\mathbf{x}_{i t} \\boldsymbol{\\beta}+\\mathbf{w}_{it+1} \\boldsymbol{\\delta}+c_i+u_{i t}\n",
    "$$\n",
    "\n",
    "Where  $\\mathbf{w}_{i, t+1} \\in \\mathbf{x}_{i, t}$  \n",
    "\n",
    "**Estimate via FD**\n",
    "\n",
    "$$\n",
    "\\Delta y_{i t}=\\Delta \\mathbf{x}_{i t} \\boldsymbol{\\beta}+\\mathbf{w}_{it} \\boldsymbol{\\gamma}+\\Delta u_{i t}\n",
    "$$\n",
    "\n",
    "\n",
    "\n",
    "|   Estimator    | Efficiency                    | Consistency           |\n",
    "--------|-------------------------------|--------------         |\n",
    "|FD     | $corr(e_{it},e_{it-1})=0$.   |    $\\gamma=0$         |\n",
    "|FE     | $corr(e_{it},e_{it-1})=-0.5$  |    $\\delta=0$         |\n",
    "---"
   ]
  },
  {
   "cell_type": "code",
   "execution_count": 38,
   "metadata": {},
   "outputs": [],
   "source": [
    "def serial_corr(y, x, T, year):\n",
    "    b_hat = lm.est_ols(y,x)\n",
    "    e = y-x@b_hat\n",
    "    fd_t=np.eye(T)\n",
    "    fd_t=fd_t[:-1]\n",
    "    e_l = lm.perm(fd_t,e)\n",
    "    reduced_year = year[year != np.unique(year).min()] #Remove the first year\n",
    "    e = e[reduced_year != np.unique(reduced_year).min()] #Remove the second year\n",
    "    # e_l are the lagged values of e.\n",
    "    return lm.estimate(e, e_l,N=N,T=T-1)"
   ]
  },
  {
   "cell_type": "code",
   "execution_count": 39,
   "metadata": {},
   "outputs": [
    {
     "name": "stdout",
     "output_type": "stream",
     "text": [
      "Serial Correlation\n",
      "Dependent variable: OLS residual, eᵢₜ\n",
      "\n",
      "          Beta      Se    t-values\n",
      "-----  -------  ------  ----------\n",
      "eᵢₜ₋₁  -0.3961  0.0147    -27.0185\n",
      "R² = 0.182\n",
      "σ² = 0.143\n",
      "DF=3269.000\n",
      "N=545.000\n",
      "T=6.000\n"
     ]
    }
   ],
   "source": [
    "corr_result = serial_corr(y_diff, x_diff, T-1, year)\n",
    "\n",
    "label_ye = 'OLS residual, e\\u1d62\\u209c'\n",
    "label_e = ['e\\u1d62\\u209c\\u208B\\u2081']\n",
    "title = 'Serial Correlation'\n",
    "lm.print_table(\n",
    "    (label_ye, label_e), corr_result, \n",
    "    title='Serial Correlation', floatfmt='.4f'\n",
    ")"
   ]
  },
  {
   "cell_type": "markdown",
   "metadata": {},
   "source": [
    "*Hint:* Remember again to remove the first year after you have lagged the residuals. So in your estimations your residuals should exclude the years 1980 and 1981."
   ]
  },
  {
   "cell_type": "markdown",
   "metadata": {},
   "source": [
    "You should get a table that looks like this:\n",
    "\n",
    "Serial Correlation <br>\n",
    "Dependent variable: OLS residual, eᵢₜ\n",
    "\n",
    "|       |    Beta |     Se |   t-values |\n",
    "|-------|---------|--------|------------|\n",
    "| eᵢₜ₋₁ | -0.3961 | 0.0147 |   -27.0185 |\n",
    "R² = 0.182 <br>\n",
    "σ² = 0.143"
   ]
  },
  {
   "cell_type": "markdown",
   "metadata": {},
   "source": [
    "### Question FE v FD (b):\n",
    "\n",
    "Test for strict exogeneity: Add a lead of the union variable, $union_{i,t+1}$ to the equation (1) (note that you will lose data from period $T$ , 1987) and estimate the model with *fixed effects* (i.e., you have to demean $union_{i,t+1}$ along with all the other variables and throw out time constant variables). Is $union_{i,t+1}$ significant? What does this imply for the strict exogeneity assumption?\n",
    "\n",
    "*Hint:* To lead a variable, think along the same lines as in Question FE v FD (a)"
   ]
  },
  {
   "cell_type": "code",
   "execution_count": 40,
   "metadata": {},
   "outputs": [
    {
     "data": {
      "text/plain": [
       "(4360, 4)"
      ]
     },
     "execution_count": 40,
     "metadata": {},
     "output_type": "execute_result"
    }
   ],
   "source": [
    "x_demean2.shape"
   ]
  },
  {
   "cell_type": "code",
   "execution_count": 41,
   "metadata": {},
   "outputs": [
    {
     "data": {
      "text/plain": [
       "array([[0., 1., 0., 0., 0., 0., 0., 0.],\n",
       "       [0., 0., 1., 0., 0., 0., 0., 0.],\n",
       "       [0., 0., 0., 1., 0., 0., 0., 0.],\n",
       "       [0., 0., 0., 0., 1., 0., 0., 0.],\n",
       "       [0., 0., 0., 0., 0., 1., 0., 0.],\n",
       "       [0., 0., 0., 0., 0., 0., 1., 0.],\n",
       "       [0., 0., 0., 0., 0., 0., 0., 1.]])"
      ]
     },
     "execution_count": 41,
     "metadata": {},
     "output_type": "execute_result"
    }
   ],
   "source": [
    "lead = 1\n",
    "\n",
    "np.eye(T, k=lead)[:-lead]"
   ]
  },
  {
   "cell_type": "code",
   "execution_count": 42,
   "metadata": {},
   "outputs": [
    {
     "data": {
      "text/html": [
       "<div>\n",
       "<style scoped>\n",
       "    .dataframe tbody tr th:only-of-type {\n",
       "        vertical-align: middle;\n",
       "    }\n",
       "\n",
       "    .dataframe tbody tr th {\n",
       "        vertical-align: top;\n",
       "    }\n",
       "\n",
       "    .dataframe thead th {\n",
       "        text-align: right;\n",
       "    }\n",
       "</style>\n",
       "<table border=\"1\" class=\"dataframe\">\n",
       "  <thead>\n",
       "    <tr style=\"text-align: right;\">\n",
       "      <th></th>\n",
       "      <th>Constant</th>\n",
       "      <th>Black</th>\n",
       "      <th>Hispanic</th>\n",
       "      <th>Education</th>\n",
       "      <th>Experience</th>\n",
       "      <th>Experience sqr</th>\n",
       "      <th>Married</th>\n",
       "      <th>Union</th>\n",
       "    </tr>\n",
       "  </thead>\n",
       "  <tbody>\n",
       "    <tr>\n",
       "      <th>0</th>\n",
       "      <td>1.0</td>\n",
       "      <td>0.0</td>\n",
       "      <td>0.0</td>\n",
       "      <td>14.0</td>\n",
       "      <td>1.0</td>\n",
       "      <td>1.0</td>\n",
       "      <td>0.0</td>\n",
       "      <td>0.0</td>\n",
       "    </tr>\n",
       "    <tr>\n",
       "      <th>1</th>\n",
       "      <td>1.0</td>\n",
       "      <td>0.0</td>\n",
       "      <td>0.0</td>\n",
       "      <td>14.0</td>\n",
       "      <td>2.0</td>\n",
       "      <td>4.0</td>\n",
       "      <td>0.0</td>\n",
       "      <td>1.0</td>\n",
       "    </tr>\n",
       "    <tr>\n",
       "      <th>2</th>\n",
       "      <td>1.0</td>\n",
       "      <td>0.0</td>\n",
       "      <td>0.0</td>\n",
       "      <td>14.0</td>\n",
       "      <td>3.0</td>\n",
       "      <td>9.0</td>\n",
       "      <td>0.0</td>\n",
       "      <td>0.0</td>\n",
       "    </tr>\n",
       "    <tr>\n",
       "      <th>3</th>\n",
       "      <td>1.0</td>\n",
       "      <td>0.0</td>\n",
       "      <td>0.0</td>\n",
       "      <td>14.0</td>\n",
       "      <td>4.0</td>\n",
       "      <td>16.0</td>\n",
       "      <td>0.0</td>\n",
       "      <td>0.0</td>\n",
       "    </tr>\n",
       "    <tr>\n",
       "      <th>4</th>\n",
       "      <td>1.0</td>\n",
       "      <td>0.0</td>\n",
       "      <td>0.0</td>\n",
       "      <td>14.0</td>\n",
       "      <td>5.0</td>\n",
       "      <td>25.0</td>\n",
       "      <td>0.0</td>\n",
       "      <td>0.0</td>\n",
       "    </tr>\n",
       "  </tbody>\n",
       "</table>\n",
       "</div>"
      ],
      "text/plain": [
       "   Constant  Black  Hispanic  Education  Experience  Experience sqr  Married  \\\n",
       "0       1.0    0.0       0.0       14.0         1.0             1.0      0.0   \n",
       "1       1.0    0.0       0.0       14.0         2.0             4.0      0.0   \n",
       "2       1.0    0.0       0.0       14.0         3.0             9.0      0.0   \n",
       "3       1.0    0.0       0.0       14.0         4.0            16.0      0.0   \n",
       "4       1.0    0.0       0.0       14.0         5.0            25.0      0.0   \n",
       "\n",
       "   Union  \n",
       "0    0.0  \n",
       "1    1.0  \n",
       "2    0.0  \n",
       "3    0.0  \n",
       "4    0.0  "
      ]
     },
     "execution_count": 42,
     "metadata": {},
     "output_type": "execute_result"
    }
   ],
   "source": [
    "pd.DataFrame(x, columns=label_x).head()"
   ]
  },
  {
   "cell_type": "code",
   "execution_count": 43,
   "metadata": {},
   "outputs": [
    {
     "data": {
      "text/plain": [
       "'The matrix is of full rank with rank = 5'"
      ]
     },
     "execution_count": 43,
     "metadata": {},
     "output_type": "execute_result"
    }
   ],
   "source": [
    "# A lead matrix is basically an Identity matrix, \n",
    "# but with the diagonal 'one to the right'\n",
    "lead = 1\n",
    "lead_mat = np.eye(T, k=lead)[:-1]\n",
    "union=x[:,7].reshape(-1,1) #We need the vector as 2D\n",
    "\n",
    "#Lead of union varm, this means we lose the last year (1987)\n",
    "union_lead = lm.perm(lead_mat, union) \n",
    "\n",
    "last_year=np.unique(year).max() #The last year = 1987\n",
    "\n",
    "#Let's trim our matrix x and vector y so we don't have the last year  \n",
    "x_exo = x[year!=last_year]\n",
    "y_exo = y[year!=last_year]\n",
    "\n",
    "# We then 'stack horizontally' our union_lead into our matrix\n",
    "# This adds a vector of observations - in this case our union_lead\n",
    "x_lead_FE = np.hstack((x_exo, union_lead))\n",
    "\n",
    "#Lets demean our y\n",
    "Q_T = demeaning_matrix(T-1) #Remember to subtract one time period\n",
    "y_lead_demean = lm.perm(Q_T, y_exo)\n",
    "x_lead_demean = lm.perm(Q_T, x_lead_FE)\n",
    "\n",
    "x_lead_demean=x_lead_demean[:,4:] #Every column from 4th to last is now linearly independent\n",
    "\n",
    "check_rank(x_lead_demean)"
   ]
  },
  {
   "cell_type": "code",
   "execution_count": 44,
   "metadata": {},
   "outputs": [],
   "source": [
    "labels_fe = ['Experience',\n",
    " 'Experience sqr',\n",
    " 'Married',\n",
    " 'Union',\n",
    " 'Union_lead']"
   ]
  },
  {
   "cell_type": "code",
   "execution_count": 45,
   "metadata": {},
   "outputs": [
    {
     "name": "stdout",
     "output_type": "stream",
     "text": [
      "Exogeneity test\n",
      "Dependent variable: Log wage\n",
      "\n",
      "                   Beta      Se    t-values\n",
      "--------------  -------  ------  ----------\n",
      "Experience       0.1213  0.0100     12.1001\n",
      "Experience sqr  -0.0050  0.0008     -6.3579\n",
      "Married          0.0436  0.0209      2.0898\n",
      "Union            0.0757  0.0218      3.4784\n",
      "Union_lead       0.0515  0.0223      2.3063\n",
      "R² = 0.146\n",
      "σ² = 0.128\n",
      "DF=3265.000\n",
      "N=545.000\n",
      "T=7.000\n"
     ]
    },
    {
     "name": "stderr",
     "output_type": "stream",
     "text": [
      "c:\\Users\\JBH\\anaconda3\\lib\\site-packages\\tabulate\\__init__.py:108: FutureWarning: elementwise comparison failed; returning scalar instead, but in the future will perform elementwise comparison\n",
      "  or (len(row) >= 2 and row[1] == SEPARATING_LINE)\n"
     ]
    }
   ],
   "source": [
    "est4=lm.estimate(y_lead_demean, x_lead_demean, transform='fe', T=T-1, N=N)\n",
    "#Remember to remove one time period\n",
    "lm.print_table(results=est4, labels=(label_y, labels_fe), title='Exogeneity test', floatfmt='.4f')"
   ]
  },
  {
   "cell_type": "markdown",
   "metadata": {},
   "source": [
    "The table should look something like this:\n",
    "Exogeneity test <br>\n",
    "Dependent variable: Log wage\n",
    "\n",
    "|                |    Beta |     Se |   t-values |\n",
    "|----------------|---------|--------|------------|\n",
    "| Experience     |  0.1213 | 0.0100 |    12.1001 |\n",
    "| Experience sqr | -0.0050 | 0.0008 |    -6.3579 |\n",
    "| Married        |  0.0436 | 0.0209 |     2.0898 |\n",
    "| Union          |  0.0757 | 0.0218 |     3.4784 |\n",
    "| Union lead     |  0.0515 | 0.0223 |     2.3063 |\n",
    "R² = 0.146<br>\n",
    "σ² = 0.128"
   ]
  },
  {
   "cell_type": "markdown",
   "metadata": {},
   "source": [
    "---\n",
    "\n",
    "$union_{t+1}$ is actually statistically diff from zero, meaning we do not have have strict exogeneity. \n",
    "\n",
    "---\n",
    "\n",
    "**Sanity check with exogeneity in an FD-estimation**\n",
    "\n"
   ]
  },
  {
   "cell_type": "code",
   "execution_count": 47,
   "metadata": {},
   "outputs": [
    {
     "name": "stdout",
     "output_type": "stream",
     "text": [
      "Exogeneity test (FD)\n",
      "Dependent variable: Log wage\n",
      "\n",
      "                   Beta      Se    t-values\n",
      "--------------  -------  ------  ----------\n",
      "Experience      -0.0046  0.0695     -0.0665\n",
      "Experience sqr  -0.1509  0.0250     -6.0315\n",
      "Married          0.0006  0.0221      0.0272\n",
      "Union            0.0988  0.0050     19.5873\n",
      "Union_lead       0.0793  0.0113      7.0325\n",
      "R² = 0.182\n",
      "σ² = 0.199\n",
      "DF=3806.000\n",
      "N=545.000\n",
      "T=7.000\n"
     ]
    },
    {
     "name": "stderr",
     "output_type": "stream",
     "text": [
      "c:\\Users\\JBH\\anaconda3\\lib\\site-packages\\tabulate\\__init__.py:108: FutureWarning: elementwise comparison failed; returning scalar instead, but in the future will perform elementwise comparison\n",
      "  or (len(row) >= 2 and row[1] == SEPARATING_LINE)\n"
     ]
    }
   ],
   "source": [
    "# A lead matrix is basically an Identity matrix, \n",
    "# but with the diagonal 'one to the right'\n",
    "lead = 1\n",
    "lead_mat = np.eye(T, k=lead)[:-1]\n",
    "union=x[:,7].reshape(-1,1) #We need the vector as 2D\n",
    "\n",
    "#Lead of union varm, this means we lose the last year (1987)\n",
    "union_lead = lm.perm(lead_mat, union) \n",
    "\n",
    "last_year=np.unique(year).max() #The last year = 1987\n",
    "\n",
    "#Let's trim our matrix x and vector y so we don't have the last year  \n",
    "x_exo = x[year!=last_year]\n",
    "y_exo = y[year!=last_year]\n",
    "\n",
    "# We then 'stack horizontally' our union_lead into our matrix\n",
    "# This adds a vector of observations - in this case our union_lead\n",
    "x_lead_FD = np.hstack((x_exo, union_lead))\n",
    "\n",
    "fd_t=np.eye(T)\n",
    "fd_t=fd_t[:-1]\n",
    "\n",
    "y_diff = lm.perm(fd_t, y_exo)\n",
    "x_lead_diff = lm.perm(fd_t, x_lead_FD)\n",
    "\n",
    "est5=lm.estimate(y_diff, x_lead_diff, transform='fd', T=T-1, N=N)\n",
    "#Remember to remove one time period\n",
    "lm.print_table(results=est5, labels=(label_y, labels_fe), title='Exogeneity test (FD)', floatfmt='.4f')\n"
   ]
  },
  {
   "cell_type": "markdown",
   "metadata": {},
   "source": [
    "### Question FE v FD (b):\n",
    "Add interactions on the form $d_{81}\\cdot educ, d_{82}\\cdot educ, ..., d_{87}\\cdot educ$ and estimate the model with fixed effect. Has the return to education increased over time?"
   ]
  },
  {
   "cell_type": "markdown",
   "metadata": {},
   "source": [
    "*Hint:* Remember that $educ_{i}$ doesn't vary over\n",
    "time! Therefore we didn't use $educ$ in levels in the FE estimation.\n",
    "However, if we suppose that the structural equation (4) contains a term $\\sum_{s=2}^{T}\\delta_{s}d_{s}educ_{i}$, it will be perfectly fine to within-transform these interactions since they vary over time (although in a highly structured manner - they equal\n",
    "zero in all time periods but one, and then $educ$). Note that one\n",
    "period is dropped for the within-transformation to work whereas the\n",
    "levels term, $\\beta_{5}educ_{i}$, is dropped to avoid producing a\n",
    "constant row.\n",
    "\n",
    "*Programming hint:* You want to append the dataset with a dummy matrix, that would look something like this:\n",
    "\n",
    "$$\n",
    "\\begin{bmatrix}\n",
    "0 & 0 & 0 & 0 & 0 & 0 & 0 \\\\\n",
    "14 & 0 & 0 & 0 & 0 & 0 & 0 \\\\\n",
    "0 & 14 & 0 & 0 & 0 & 0 & 0 \\\\\n",
    "\\vdots & \\vdots & \\vdots & \\vdots & \\vdots & \\ddots & \\vdots \\\\\n",
    "0 & 0 & 0 & 0 & 0 & 0 & 14 \\\\\n",
    "0 & 0 & 0 & 0 & 0 & 0 & 0 \\\\\n",
    "9 & 0 & 0 & 0 & 0 & 0 & 0 \\\\\n",
    "0 & 9 & 0 & 0 & 0 & 0 & 0 \\\\\n",
    "\\vdots & \\vdots & \\ddots & \\vdots & \\vdots & \\vdots & \\vdots \\\\\n",
    "0 & 0 & 0 & 0 & 0 & 0 & 9 \\\\\n",
    "\\end{bmatrix}\n",
    "$$\n",
    "\n",
    "This example shows our two first persons, that have 14 and 9 years of education respectively. This matrix can be created as a product of two matrices, what would they look like (a dummy matrix with onlyn ones can be creates using `np.eye` and `np.tile`)? Why is the first row for each person only zeros?"
   ]
  },
  {
   "cell_type": "code",
   "execution_count": 105,
   "metadata": {},
   "outputs": [
    {
     "data": {
      "text/plain": [
       "(4360, 7)"
      ]
     },
     "execution_count": 105,
     "metadata": {},
     "output_type": "execute_result"
    }
   ],
   "source": [
    "dummy = np.eye(T, k=-1) #For T=time periods\n",
    "dummy = dummy[:, :-1] #\n",
    "dummy_dummy = np.tile(dummy, (N,1)) #Repeat matrix N times 1\n",
    "dummy_dummy.shape"
   ]
  },
  {
   "cell_type": "code",
   "execution_count": 110,
   "metadata": {},
   "outputs": [
    {
     "data": {
      "text/plain": [
       "'Education'"
      ]
     },
     "execution_count": 110,
     "metadata": {},
     "output_type": "execute_result"
    }
   ],
   "source": [
    "label_x[3]"
   ]
  },
  {
   "cell_type": "code",
   "execution_count": 122,
   "metadata": {},
   "outputs": [
    {
     "data": {
      "text/plain": [
       "array([[98.],\n",
       "       [98.],\n",
       "       [98.],\n",
       "       ...,\n",
       "       [63.],\n",
       "       [63.],\n",
       "       [63.]])"
      ]
     },
     "execution_count": 122,
     "metadata": {},
     "output_type": "execute_result"
    }
   ],
   "source": [
    "np.array(x[:, 3]*(T-1)).reshape(-1,1).T"
   ]
  },
  {
   "cell_type": "code",
   "execution_count": 129,
   "metadata": {},
   "outputs": [],
   "source": [
    "# Lets create a vector (2D) times each time period (-1 to avoid dummy trap)\n",
    "educ_vec = np.array(x[:, 3]*(T-1)) \\\n",
    "    .reshape(-1,1) \\\n",
    "     #2D-vector and transpose to a column vector\n",
    "\n",
    "# We can now multiplu the year dummy with a person's education\n",
    "educ_dummies = dummy_dummy*educ_vec\n",
    "\n",
    "Q_T = demeaning_matrix(T)\n",
    "educ_demean = lm.perm(Q_T, educ_dummies)\n",
    "x_demean_dummies = np.hstack([x_demean, educ_demean])\n",
    "x_demean_dummies=x_demean_dummies[:,4:]"
   ]
  },
  {
   "cell_type": "code",
   "execution_count": 130,
   "metadata": {},
   "outputs": [
    {
     "data": {
      "text/plain": [
       "'The matrix is of full rank with rank = 11'"
      ]
     },
     "execution_count": 130,
     "metadata": {},
     "output_type": "execute_result"
    }
   ],
   "source": [
    "check_rank(x_demean_dummies)"
   ]
  },
  {
   "cell_type": "code",
   "execution_count": 148,
   "metadata": {},
   "outputs": [],
   "source": [
    "label_x_interactions = ['Experience',\n",
    " 'Experience sqr',\n",
    " 'Married',\n",
    " 'Union',\n",
    " 'E81',\n",
    " 'E82',\n",
    " 'E83',\n",
    " 'E84',\n",
    " 'E85',\n",
    " 'E86',\n",
    " 'E87']"
   ]
  },
  {
   "cell_type": "code",
   "execution_count": 149,
   "metadata": {},
   "outputs": [
    {
     "name": "stdout",
     "output_type": "stream",
     "text": [
      "FE with year interactions\n",
      "Dependent variable: Log wage\n",
      "\n",
      "                   Beta      Se    t-values\n",
      "--------------  -------  ------  ----------\n",
      "Experience       0.1705  0.0273      6.2462\n",
      "Experience sqr  -0.0060  0.0009     -6.9581\n",
      "Married          0.0475  0.0183      2.5925\n",
      "Union            0.0794  0.0193      4.1138\n",
      "E81             -0.0001  0.0004     -0.4009\n",
      "E82             -0.0009  0.0006     -1.5224\n",
      "E83             -0.0016  0.0008     -2.0006\n",
      "E84             -0.0019  0.0010     -1.8787\n",
      "E85             -0.0023  0.0012     -1.8578\n",
      "E86             -0.0024  0.0014     -1.6804\n",
      "E87             -0.0024  0.0016     -1.4619\n",
      "R² = 0.181\n",
      "σ² = 0.123\n"
     ]
    }
   ],
   "source": [
    "int_result = lm.estimate(\n",
    "    y_demean, x_demean_dummies, transform='fe', N=N, T=T\n",
    ")\n",
    "\n",
    "lm.print_table(\n",
    "    (label_y, label_x_interactions), int_result, \n",
    "    title='FE with year interactions', floatfmt='.4f'\n",
    ")\n",
    "\n"
   ]
  },
  {
   "cell_type": "markdown",
   "metadata": {},
   "source": [
    "You should get a table that looks like this:\n",
    "\n",
    "FE with year interactions <br>\n",
    "Dependent variable: Log wage\n",
    "\n",
    "|                |    Beta |     Se |   t-values |\n",
    "|----------------|---------|--------|------------|\n",
    "| Experience     |  0.1705 | 0.0273 |     6.2462 |\n",
    "| Experience sqr | -0.0060 | 0.0009 |    -6.9581 |\n",
    "| Married        |  0.0475 | 0.0183 |     2.5925 |\n",
    "| Union          |  0.0794 | 0.0193 |     4.1138 |\n",
    "| E81            | -0.0010 | 0.0026 |    -0.4009 |\n",
    "| E82            | -0.0062 | 0.0041 |    -1.5224 |\n",
    "| E83            | -0.0114 | 0.0057 |    -2.0006 |\n",
    "| E84            | -0.0136 | 0.0072 |    -1.8787 |\n",
    "| E85            | -0.0162 | 0.0087 |    -1.8578 |\n",
    "| E86            | -0.0170 | 0.0101 |    -1.6804 |\n",
    "| E87            | -0.0167 | 0.0115 |    -1.4619 |\n",
    "R² = 0.181 <br>\n",
    "σ² = 0.123"
   ]
  }
 ],
 "metadata": {
  "kernelspec": {
   "display_name": "Python 3.9.13 ('base')",
   "language": "python",
   "name": "python3"
  },
  "language_info": {
   "codemirror_mode": {
    "name": "ipython",
    "version": 3
   },
   "file_extension": ".py",
   "mimetype": "text/x-python",
   "name": "python",
   "nbconvert_exporter": "python",
   "pygments_lexer": "ipython3",
   "version": "3.9.15 | packaged by conda-forge | (main, Nov 22 2022, 08:39:05) [MSC v.1929 64 bit (AMD64)]"
  },
  "vscode": {
   "interpreter": {
    "hash": "054e95b4819972eba8d406807e822e3be9cca805528e86310f8e3ac8dc287778"
   }
  }
 },
 "nbformat": 4,
 "nbformat_minor": 4
}
