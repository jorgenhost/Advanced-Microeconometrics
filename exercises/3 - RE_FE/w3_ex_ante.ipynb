{
 "cells": [
  {
   "cell_type": "code",
   "execution_count": 32,
   "metadata": {},
   "outputs": [
    {
     "name": "stdout",
     "output_type": "stream",
     "text": [
      "The autoreload extension is already loaded. To reload it, use:\n",
      "  %reload_ext autoreload\n"
     ]
    }
   ],
   "source": [
    "import numpy as np\n",
    "from numpy import linalg as la\n",
    "from scipy.stats import chi2\n",
    "from tabulate import tabulate\n",
    "import LinearModelsWeek3 as lm\n",
    "import pandas as pd\n",
    "%load_ext autoreload\n",
    "%autoreload 2"
   ]
  },
  {
   "cell_type": "code",
   "execution_count": 33,
   "metadata": {},
   "outputs": [],
   "source": [
    "y, x, N, T, year, label_y, label_x = lm.load_example_data()"
   ]
  },
  {
   "cell_type": "markdown",
   "metadata": {},
   "source": [
    "---\n",
    "\n",
    "### Our dataset\n",
    "\n",
    "| Variable | Content |\n",
    "|-|-|\n",
    "| nr | Variable that identifies the individual  |\n",
    "| year | Year of observation |\n",
    "| Black | Black |\n",
    "| Hisp | Hispanic |\n",
    "| Educ | Years of schooling |\n",
    "| Exper | Years since left school |\n",
    "| Expersq | Exper2 |\n",
    "| Married | Marital status |\n",
    "| Union | Union membership |\n",
    "| Lwage | Natural logarithm of hourly wages |\n",
    "\n",
    "\n",
    "---"
   ]
  },
  {
   "cell_type": "markdown",
   "metadata": {},
   "source": [
    "# Problem set introduction\n",
    "Last time we briefly discussed how the presence of fixed effects causes the estimator to be biased. To recap, consider the following model,\n",
    "\n",
    "$$ y_{it} = \\boldsymbol{x}_{it}\\boldsymbol{\\beta} + c_i + u_{it}, \\quad i=1, \\dotsc, N \\quad t=1, \\dotsc, T \\tag{1} $$\n",
    "\n",
    "where $c_i$ is an unobservable individual specific component which is constant across time. We consider two different scenarios: \n",
    "\n",
    "* **Part 1:** If $c$ is systematically related to one or more of the observed variables in the sense of $E[c_{i}\\boldsymbol{x}_{it}] \\neq \\boldsymbol{0}$, then the POLS estimator is _not_ consistent for $\\boldsymbol{\\beta}$.\n",
    "* **Part 2:*** If $c_i$ is uncorrelated with the regressors such that $E[c_i\\boldsymbol{x}_{it}]=0$ for all $t$, then $\\boldsymbol{\\beta}$ can be consistently estimated by pooled OLS (POLS) and random effects (RE). \n",
    "\n",
    "### Example\n",
    "Let's take a look at a proper example. We are interested in the effect of unionization on wage, this could be modelled as such.\n",
    "\n",
    "$$\n",
    "\\log(wage_{it}) = \\beta_0 + \\beta_1\\textit{union}_{it} + c_{i} + u_{it} \\tag{2}\n",
    "$$\n",
    "\n",
    "Consider what could be in $c_i$ that may be correlated with unionizing? Let us first calcualte what the average union participation is, by checking the mean of the union variable."
   ]
  },
  {
   "cell_type": "code",
   "execution_count": 34,
   "metadata": {},
   "outputs": [
    {
     "name": "stdout",
     "output_type": "stream",
     "text": [
      "About 24.40% of our sample is in an union.\n"
     ]
    }
   ],
   "source": [
    "mean_union = x[:, -1].mean()\n",
    "print(f'About {mean_union * 100:.2f}% of our sample is in an union.')"
   ]
  },
  {
   "cell_type": "markdown",
   "metadata": {},
   "source": [
    "There are some fixed effects that we could control for, for example if we believe afro americans are more or less prone to unionizing, because of some social economic factors. We can look at the conditional mean for Blacks and Hispanics."
   ]
  },
  {
   "cell_type": "code",
   "execution_count": 35,
   "metadata": {},
   "outputs": [
    {
     "name": "stdout",
     "output_type": "stream",
     "text": [
      "If we look at the unionization of some sub populations, Black membership is at 37.10%, Hispanic membership is at 27.35%.\n"
     ]
    }
   ],
   "source": [
    "black_union = x[x[:, 1] == 1, -1].mean()\n",
    "hispanic_union = x[x[:, 2] == 1, -1].mean()\n",
    "print(f'If we look at the unionization of some sub populations, Black membership is at {black_union * 100:.2f}%, Hispanic membership is at {hispanic_union * 100:.2f}%.')"
   ]
  },
  {
   "cell_type": "markdown",
   "metadata": {},
   "source": [
    "Ethnicity may therefore be a fixed effect which is systematically related to $\\textit{union}$ (again, most likely ethnicity does not affect union, but it might be a proxy for some socio-economic factors that affect union membership). In our data, this is something which we can control for by including controls in our regression.\n",
    "\n",
    "We therefore consider the somewhat more elaborate model from last time,\n",
    "\n",
    "$$\n",
    "\\begin{align}\n",
    "\\log(wage_{it}) & =\\beta_{0}+\\beta_{1}\\textit{exper}_{it}+\\beta_{2}\\textit{exper}_{it}^{2}+\\beta_{3}\\textit{union}_{it}+\\beta_{4}\\textit{married}_{i} +\\beta_{5}\\textit{educ}_{i}+\\beta_{6}\\textit{hisp}_{i}+\\beta_{7}\\textit{black}_{i}+c_{i}+u_{it}. \\tag{3}\n",
    "\\end{align}\n",
    "$$\n",
    "\n",
    "This should solve some of our problems compared to eq. (2), but we still have an issue if for example people select into union or non-union jobs based on which sector rewards their innate characteristics best, then $E[union_{it}c_i]\\neq0$."
   ]
  },
  {
   "cell_type": "markdown",
   "metadata": {},
   "source": [
    "## Part 1: Compare POLS to FE/FD\n",
    "### Question 1:\n",
    "\n",
    "Start by estimating eq. (3) by POLS. You should already have all the data and code that you need, print it out in a nice table. Is the unionization coefficient statistically significant?"
   ]
  },
  {
   "cell_type": "code",
   "execution_count": 73,
   "metadata": {},
   "outputs": [
    {
     "name": "stdout",
     "output_type": "stream",
     "text": [
      "POLS-estimator\n",
      "Dependent variable: Log wage\n",
      "\n",
      "                       Beta           Se    t-values\n",
      "--------------  -----------  -----------  ----------\n",
      "Constant        -0.0347057   0.064569      -0.537498\n",
      "Black           -0.143842    0.0235595     -6.10546\n",
      "Hispanic         0.015698    0.0208112      0.754305\n",
      "Education        0.0993878   0.0046776     21.2476\n",
      "Experience       0.0891791   0.010111       8.81996\n",
      "Experience sqr  -0.00284866  0.000707362   -4.02716\n",
      "Married          0.107666    0.0156965      6.85922\n",
      "Union            0.180073    0.0171205     10.5179\n",
      "R² = 0.187\n",
      "σ² = 0.231\n"
     ]
    }
   ],
   "source": [
    "\n",
    "est_pols = lm.estimate(y=y, x=x)\n",
    "lm.print_table(labels=(label_y, label_x), results=est_pols, title='POLS-estimator')\n",
    "\n",
    "# First, regress y on x without any transformations. Store the resulting dictionary.\n",
    "# Then, print the resulting dictionary using the provided print_table() function. The labels should have been provided to you."
   ]
  },
  {
   "cell_type": "markdown",
   "metadata": {},
   "source": [
    "---\n",
    "\n",
    "Unionization coef is statistically significant (strongly) w/ t-value > 10.\n",
    "\n",
    "---"
   ]
  },
  {
   "cell_type": "markdown",
   "metadata": {},
   "source": [
    "You should get a table that look like this:\n",
    "\n",
    "Pooled OLS <br>\n",
    "Dependent variable: Log wage <br>\n",
    "\n",
    "|                |    Beta |     Se |   t-values |\n",
    "|----------------|---------|--------|------------|\n",
    "| Constant       | -0.0347 | 0.0646 |    -0.5375 |\n",
    "| Black          | -0.1438 | 0.0236 |    -6.1055 |\n",
    "| Hispanic       |  0.0157 | 0.0208 |     0.7543 |\n",
    "| Education      |  0.0994 | 0.0047 |    21.2476 |\n",
    "| Experience     |  0.0892 | 0.0101 |     8.8200 |\n",
    "| Experience sqr | -0.0028 | 0.0007 |    -4.0272 |\n",
    "| Married        |  0.1077 | 0.0157 |     6.8592 |\n",
    "| Union          |  0.1801 | 0.0171 |    10.5179 |\n",
    "R² = 0.187 <br>\n",
    "σ² = 0.231"
   ]
  },
  {
   "cell_type": "markdown",
   "metadata": {},
   "source": [
    "### Short recap of fixed effects\n",
    "\n",
    "As discussed last time, a solution to control for fixed effects, is to \"demean\" the data. We need to calculate the mean within each person, so we define $\\bar{y}_{i}=T^{-1}\\sum_{t=1}^{T}y_{it}$, $\\mathbf{\\bar{x}}_{i}=T^{-1}\\sum_{t=1}^{T}\\mathbf{x}_{it}$, $\\mathbf{\\bar{u}}_{i}=T^{-1}\\sum_{t=1}^{T}\\mathbf{u}_{it}$, and $c_{i} = T^{-1}\\sum_{t=1}^{T}c_{i}$.\n",
    "\n",
    "Subtracting these means from eq. (1) we are able to demean away the fixed effects,\n",
    "\n",
    "$$\n",
    "\\begin{align}\n",
    "y_{it}-\\bar{y}_{i} & =\\left(\\mathbf{x}_{it}-\\mathbf{\\bar{x}}_{i}\\right)\\mathbf{\\beta}+(\\color{red}{c_{i}-c_{i}})+\\left(u_{it}-\\bar{u}_{i}\\right) \\\\\n",
    "\\Leftrightarrow\\ddot{y}_{it} & =\\ddot{\\mathbf{x}}_{it}\\mathbf{\\beta} + \\ddot{u}_{it}. \\tag{4}\n",
    "\\end{align}\n",
    "$$\n",
    "\n",
    "To substract the mean within each person is not immediately easy. But you are provided with a `perm` function, that takes a \"transformation matrix\" Q, and uses it to permutate some vector or matrix A.\n",
    "\n",
    "In order to demean the data, we need to give this `perm` function the following transformation matrix:\n",
    "\n",
    "$$\n",
    "\\mathbf{Q}_{T}:=\\mathbf{I}_{T}-\\left(\\begin{array}{ccc}\n",
    "1/T & \\ldots & 1/T\\\\\n",
    "\\vdots & \\ddots & \\vdots\\\\\n",
    "1/T & \\ldots & 1/T\n",
    "\\end{array}\\right)_{T\\times T}.\n",
    "$$"
   ]
  },
  {
   "cell_type": "markdown",
   "metadata": {},
   "source": [
    "### Question 2:\n",
    "Estimate eq. (3) by fixed effects. You need to perform the following steps:\n",
    "* Create the demeaning matrix Q.\n",
    "* Demean x and y using the `perm` function and Q.\n",
    "* Remove the columns in the demeaned x that are only zeroes (remember to shorten the `label_x` as well).\n",
    "* Estimate y on x using the demeaned arrays.\n",
    "* Print it out in a nice table."
   ]
  },
  {
   "cell_type": "code",
   "execution_count": 37,
   "metadata": {},
   "outputs": [],
   "source": [
    "def demeaning_matrix(T):\n",
    "    Q_T = np.eye(T)-np.tile(1/T,T) # Fill in\n",
    "    return Q_T"
   ]
  },
  {
   "cell_type": "code",
   "execution_count": 38,
   "metadata": {},
   "outputs": [],
   "source": [
    "Q_T = demeaning_matrix(T)"
   ]
  },
  {
   "cell_type": "code",
   "execution_count": 39,
   "metadata": {},
   "outputs": [],
   "source": [
    "y_demean = lm.perm(Q_T, y)\n",
    "x_demean = lm.perm(Q_T, x)"
   ]
  },
  {
   "cell_type": "code",
   "execution_count": 40,
   "metadata": {},
   "outputs": [
    {
     "data": {
      "text/plain": [
       "'The matrix is NOT full rank with rank = 4. Eliminate linearly dependent columns.'"
      ]
     },
     "execution_count": 40,
     "metadata": {},
     "output_type": "execute_result"
    }
   ],
   "source": [
    "lm.check_rank(x_demean)"
   ]
  },
  {
   "cell_type": "code",
   "execution_count": 41,
   "metadata": {},
   "outputs": [
    {
     "data": {
      "text/html": [
       "<div>\n",
       "<style scoped>\n",
       "    .dataframe tbody tr th:only-of-type {\n",
       "        vertical-align: middle;\n",
       "    }\n",
       "\n",
       "    .dataframe tbody tr th {\n",
       "        vertical-align: top;\n",
       "    }\n",
       "\n",
       "    .dataframe thead th {\n",
       "        text-align: right;\n",
       "    }\n",
       "</style>\n",
       "<table border=\"1\" class=\"dataframe\">\n",
       "  <thead>\n",
       "    <tr style=\"text-align: right;\">\n",
       "      <th></th>\n",
       "      <th>Constant</th>\n",
       "      <th>Black</th>\n",
       "      <th>Hispanic</th>\n",
       "      <th>Education</th>\n",
       "      <th>Experience</th>\n",
       "      <th>Experience sqr</th>\n",
       "      <th>Married</th>\n",
       "      <th>Union</th>\n",
       "    </tr>\n",
       "  </thead>\n",
       "  <tbody>\n",
       "    <tr>\n",
       "      <th>0</th>\n",
       "      <td>0.0</td>\n",
       "      <td>0.0</td>\n",
       "      <td>0.0</td>\n",
       "      <td>0.0</td>\n",
       "      <td>-3.5</td>\n",
       "      <td>-24.5</td>\n",
       "      <td>0.0</td>\n",
       "      <td>-0.125</td>\n",
       "    </tr>\n",
       "    <tr>\n",
       "      <th>1</th>\n",
       "      <td>0.0</td>\n",
       "      <td>0.0</td>\n",
       "      <td>0.0</td>\n",
       "      <td>0.0</td>\n",
       "      <td>-2.5</td>\n",
       "      <td>-21.5</td>\n",
       "      <td>0.0</td>\n",
       "      <td>0.875</td>\n",
       "    </tr>\n",
       "    <tr>\n",
       "      <th>2</th>\n",
       "      <td>0.0</td>\n",
       "      <td>0.0</td>\n",
       "      <td>0.0</td>\n",
       "      <td>0.0</td>\n",
       "      <td>-1.5</td>\n",
       "      <td>-16.5</td>\n",
       "      <td>0.0</td>\n",
       "      <td>-0.125</td>\n",
       "    </tr>\n",
       "    <tr>\n",
       "      <th>3</th>\n",
       "      <td>0.0</td>\n",
       "      <td>0.0</td>\n",
       "      <td>0.0</td>\n",
       "      <td>0.0</td>\n",
       "      <td>-0.5</td>\n",
       "      <td>-9.5</td>\n",
       "      <td>0.0</td>\n",
       "      <td>-0.125</td>\n",
       "    </tr>\n",
       "    <tr>\n",
       "      <th>4</th>\n",
       "      <td>0.0</td>\n",
       "      <td>0.0</td>\n",
       "      <td>0.0</td>\n",
       "      <td>0.0</td>\n",
       "      <td>0.5</td>\n",
       "      <td>-0.5</td>\n",
       "      <td>0.0</td>\n",
       "      <td>-0.125</td>\n",
       "    </tr>\n",
       "  </tbody>\n",
       "</table>\n",
       "</div>"
      ],
      "text/plain": [
       "   Constant  Black  Hispanic  Education  Experience  Experience sqr  Married  \\\n",
       "0       0.0    0.0       0.0        0.0        -3.5           -24.5      0.0   \n",
       "1       0.0    0.0       0.0        0.0        -2.5           -21.5      0.0   \n",
       "2       0.0    0.0       0.0        0.0        -1.5           -16.5      0.0   \n",
       "3       0.0    0.0       0.0        0.0        -0.5            -9.5      0.0   \n",
       "4       0.0    0.0       0.0        0.0         0.5            -0.5      0.0   \n",
       "\n",
       "   Union  \n",
       "0 -0.125  \n",
       "1  0.875  \n",
       "2 -0.125  \n",
       "3 -0.125  \n",
       "4 -0.125  "
      ]
     },
     "execution_count": 41,
     "metadata": {},
     "output_type": "execute_result"
    }
   ],
   "source": [
    "pd.DataFrame(x_demean, columns=label_x).head()"
   ]
  },
  {
   "cell_type": "code",
   "execution_count": 42,
   "metadata": {},
   "outputs": [
    {
     "data": {
      "text/plain": [
       "'The matrix is of full rank with rank = 4'"
      ]
     },
     "execution_count": 42,
     "metadata": {},
     "output_type": "execute_result"
    }
   ],
   "source": [
    "x_demean = x_demean[:, 4:]\n",
    "lm.check_rank(x_demean)"
   ]
  },
  {
   "cell_type": "code",
   "execution_count": 47,
   "metadata": {},
   "outputs": [],
   "source": [
    "label_x_fe = label_x[4:]"
   ]
  },
  {
   "cell_type": "code",
   "execution_count": 75,
   "metadata": {},
   "outputs": [
    {
     "name": "stdout",
     "output_type": "stream",
     "text": [
      "FE-estimator\n",
      "Dependent variable: Log wage\n",
      "\n",
      "                       Beta           Se    t-values\n",
      "--------------  -----------  -----------  ----------\n",
      "Experience       0.116847    0.00841968     13.8778\n",
      "Experience sqr  -0.00430089  0.000605274    -7.10569\n",
      "Married          0.0453033   0.0183097       2.47428\n",
      "Union            0.0820871   0.0192907       4.25526\n",
      "R² = 0.178\n",
      "σ² = 0.123\n"
     ]
    }
   ],
   "source": [
    "## FILL IN\n",
    "# The steps are outlined in question 2 above.\n",
    "\n",
    "\n",
    "est_fe = lm.estimate(y=y_demean, x=x_demean, transform='fe', T=T) # fill in\n",
    "lm.print_table(labels=(label_y, label_x_fe), results = est_fe, title='FE-estimator')"
   ]
  },
  {
   "cell_type": "markdown",
   "metadata": {},
   "source": [
    "You should get a table that looks like this:\n",
    "\n",
    "FE regression<br>\n",
    "Dependent variable: Log wage\n",
    "\n",
    "|                |    Beta |     Se |   t-values |\n",
    "|----------------|---------|--------|------------|\n",
    "| Experience     |  0.1168 | 0.0084 |    13.8778 |\n",
    "| Experience sqr | -0.0043 | 0.0006 |    -7.1057 |\n",
    "| Married        |  0.0453 | 0.0183 |     2.4743 |\n",
    "| Union          |  0.0821 | 0.0193 |     4.2553 |\n",
    "R² = 0.178 <br>\n",
    "σ² = 0.123"
   ]
  },
  {
   "cell_type": "markdown",
   "metadata": {},
   "source": [
    "## Short recap of first differences\n",
    "\n",
    "The within transformation is one particular transformation\n",
    "that enables us to get rid of $c_{i}$. An alternative is the first-difference transformation. To see how it works, lag equation (1) one period and subtract it from (1) such that\n",
    "\n",
    "\\begin{equation}\n",
    "\\Delta y_{it}=\\Delta\\mathbf{x}_{it}\\mathbf{\\beta}+\\Delta u_{it},\\quad t=\\color{red}{2},\\dotsc,T, \\tag{5}\n",
    "\\end{equation}\n",
    "\n",
    "where $\\Delta y_{it}:=y_{it}-y_{it-1}$, $\\Delta\\mathbf{x}_{it}:=\\mathbf{x}_{it}-\\mathbf{x}_{it-1}$ and $\\Delta u_{it}:=u_{it}-u_{it-1}$. As was the case for the within transformation, first differencing eliminates the time invariant component $c_{i}$. Note, however, that one time period is lost when differencing.\n",
    "\n",
    "In order to first difference the data, we can pass the following transformation matrix to the `perm` function,\n",
    "\n",
    "$$\n",
    "\\mathbf{D}:=\\left(\\begin{array}{cccccc}\n",
    "-1 & 1 & 0 & \\ldots & 0 & 0\\\\\n",
    "0 & -1 & 1 &  & 0 & 0\\\\\n",
    "\\vdots &  &  & \\ddots &  & \\vdots\\\\\n",
    "0 & 0 & 0 & \\ldots & -1 & 1\n",
    "\\end{array}\\right)_{T - 1\\times T}.\n",
    "$$"
   ]
  },
  {
   "cell_type": "markdown",
   "metadata": {},
   "source": [
    "### Question 3:\n",
    "Estimate eq. (3) by first differences. You need to perform the following steps:\n",
    "* Create the first difference matrix D.\n",
    "* First difference x and y using the `perm` function and Q.\n",
    "* Remove the columns in the first differenced x that are only zeroes (remember to shorten the `label_x` as well).\n",
    "* Estimate y on x using the first differenced arrays.\n",
    "* Print it out in a nice table."
   ]
  },
  {
   "cell_type": "code",
   "execution_count": 49,
   "metadata": {},
   "outputs": [],
   "source": [
    "def fd_matrix(T):\n",
    "    D_T = -np.eye(T)+np.eye(T,k=1) # Fill in\n",
    "    D_T = D_T[:-1]\n",
    "    return D_T"
   ]
  },
  {
   "cell_type": "code",
   "execution_count": 53,
   "metadata": {},
   "outputs": [
    {
     "data": {
      "text/plain": [
       "array([[-1.,  1.,  0.,  0.,  0.,  0.,  0.,  0.],\n",
       "       [ 0., -1.,  1.,  0.,  0.,  0.,  0.,  0.],\n",
       "       [ 0.,  0., -1.,  1.,  0.,  0.,  0.,  0.],\n",
       "       [ 0.,  0.,  0., -1.,  1.,  0.,  0.,  0.],\n",
       "       [ 0.,  0.,  0.,  0., -1.,  1.,  0.,  0.],\n",
       "       [ 0.,  0.,  0.,  0.,  0., -1.,  1.,  0.],\n",
       "       [ 0.,  0.,  0.,  0.,  0.,  0., -1.,  1.]])"
      ]
     },
     "execution_count": 53,
     "metadata": {},
     "output_type": "execute_result"
    }
   ],
   "source": [
    "D_T = fd_matrix(T)\n",
    "D_T"
   ]
  },
  {
   "cell_type": "code",
   "execution_count": 54,
   "metadata": {},
   "outputs": [],
   "source": [
    "y_diff = lm.perm(D_T, y)\n",
    "x_diff = lm.perm(D_T,x)"
   ]
  },
  {
   "cell_type": "code",
   "execution_count": 55,
   "metadata": {},
   "outputs": [
    {
     "data": {
      "text/plain": [
       "'The matrix is NOT full rank with rank = 4. Eliminate linearly dependent columns.'"
      ]
     },
     "execution_count": 55,
     "metadata": {},
     "output_type": "execute_result"
    }
   ],
   "source": [
    "lm.check_rank(x_diff)"
   ]
  },
  {
   "cell_type": "code",
   "execution_count": 57,
   "metadata": {},
   "outputs": [],
   "source": [
    "x_diff = x_diff[:, 4:]"
   ]
  },
  {
   "cell_type": "code",
   "execution_count": 58,
   "metadata": {},
   "outputs": [
    {
     "data": {
      "text/plain": [
       "'The matrix is of full rank with rank = 4'"
      ]
     },
     "execution_count": 58,
     "metadata": {},
     "output_type": "execute_result"
    }
   ],
   "source": [
    "lm.check_rank(x_diff)"
   ]
  },
  {
   "cell_type": "code",
   "execution_count": 71,
   "metadata": {},
   "outputs": [
    {
     "name": "stdout",
     "output_type": "stream",
     "text": [
      "FD-estimator\n",
      "Dependent variable: Log wage\n",
      "\n",
      "                       Beta          Se    t-values\n",
      "--------------  -----------  ----------  ----------\n",
      "Experience       0.11575     0.0195867      5.90964\n",
      "Experience sqr  -0.00388237  0.00138632    -2.80049\n",
      "Married          0.0381377   0.0229283      1.66335\n",
      "Union            0.0427878   0.0196575      2.17667\n",
      "R² = 0.004\n",
      "σ² = 0.196\n"
     ]
    }
   ],
   "source": [
    "## FILL IN\n",
    "# The steps are outlined in question 3 above.\n",
    "\n",
    "fd_result = lm.estimate(y=y_diff, x=x_diff, T=T-1, transform='fd') # fill in\n",
    "lm.print_table(labels=(label_y, label_x_fe), results=fd_result, title='FD-estimator')"
   ]
  },
  {
   "cell_type": "code",
   "execution_count": null,
   "metadata": {},
   "outputs": [],
   "source": []
  },
  {
   "cell_type": "markdown",
   "metadata": {},
   "source": [
    "You should get a table that look like this:\n",
    "\n",
    "FD regression <br>\n",
    "Dependent variable: Log wage\n",
    "\n",
    "|                |    Beta |     Se |   t-values |\n",
    "|----------------|---------|--------|------------|\n",
    "| Experience     |  0.1158 | 0.0196 |     5.9096 |\n",
    "| Experience sqr | -0.0039 | 0.0014 |    -2.8005 |\n",
    "| Married        |  0.0381 | 0.0229 |     1.6633 |\n",
    "| Union          |  0.0428 | 0.0197 |     2.1767 |\n",
    "R² = 0.004 <br>\n",
    "σ² = 0.196"
   ]
  },
  {
   "cell_type": "markdown",
   "metadata": {},
   "source": [
    "## Summing up Part 1: questions 1, 2, and 3.\n",
    "Compare the results from your POLS, FE and FD estimations. We were mainly interested in the effect of $\\textit{union}$ on wages, did the POLS estimation give a correct conlcusion on this? Is the effect greater or lower than we first though? Is the effect still statistically significant?"
   ]
  },
  {
   "cell_type": "markdown",
   "metadata": {},
   "source": [
    "---\n",
    "\n",
    "### Union estimates \n",
    "\n",
    "\n",
    "|       | POLS | FE | FD |\n",
    "| ------ |------| -- | -- |\n",
    "|$\\beta$ | 0.18 | 0.08 | 0.03 | \n",
    "|t-values | 10.5 | 4.26 | 2.17 |\n",
    "\n",
    "It would seem that POLS overestimates the effect of unionization on wages. That is, we probably have some fixed effects (ie. some inherent propensity to unionize) that renders the POLS to be inconsistent.\n",
    "\n",
    "---"
   ]
  },
  {
   "cell_type": "markdown",
   "metadata": {},
   "source": [
    "# Part 2: The random effects (RE) estimator.\n",
    "In part 1 we assumed that $E[union_{it}c_i]\\neq0$, and used two methods to remove these fixed effects from each person. Now, what if $E[union_{it}c_i] )= 0$? Then POLS is consistent, but not efficient, since POLS is not using the panel structure of the data. We can therefore do better with the RE estimator.\n",
    "\n",
    "## A short introduction to the RE estimator\n",
    "With the FE and FD estimators, we estimate them by OLS, but by first transforming them in a specific way. We do the same now, but our mission is no longer to transform away the fixed effects, but rather to estimate the following model,\n",
    "\n",
    "$$\\check{y}_{it} = \\mathbf{\\check{x}}_{it}\\boldsymbol{\\beta} + \\check{v}_{it},\\tag{6}$$ \n",
    "\n",
    " $\\check{y}_{it} = y_{it} - \\hat{\\lambda}\\bar{y}_{it}$, $\\mathbf{\\check{x}}_{it} = \\mathbf{x}_{it} - \\hat{\\lambda}\\mathbf{\\bar{x}}_{it}$, and $\\check{v}_{it} = v_{it} - \\hat{\\lambda}\\bar{v}_{it}$, where we have gathered the errors $v_{it} = c_i + u_{it}$. We are *\"quasi-demeaning\"* the variables, by premultiplying the means by $\\hat{\\lambda}$.\n",
    "\n",
    " Our challenge is thus to estimate this $\\lambda$, which we can construct in the following way:\n",
    "\n",
    "$$\\hat{\\lambda} = 1 - \\sqrt{\\frac{\\widehat{\\sigma}_{u}^{2}}{(\\widehat{\\sigma}_{u}^{2} + T\\widehat{\\sigma}_{c}^{2})}}, $$\n",
    "\n",
    "where $\\widehat{\\sigma}_{u}^{2}$ is estimated from the fixed effects regression, and $\\hat{\\sigma}_{c}^{2} = \\hat{\\sigma}_{w}^{2} - \\frac{1}{T}\\hat{\\sigma}_{u}^{2}$. Finally, what is $\\hat{\\sigma}_{w}^{2}$? That is the error variance from the between estimator, \n",
    "\n",
    "\n",
    "$$\n",
    "\\hat{\\sigma}_{w}^{2} = \\frac{1}{N-K}\\left(\\bar{\\mathbf{y}} - \\mathbf{\\bar{X}}\\hat{\\mathbf{\\beta}}_{BE}\\right)^{\\prime}\\left(\\bar{\\mathbf{y}} - \\mathbf{\\bar{X}}\\hat{\\mathbf{\\beta}}_{BE}\\right),\n",
    "$$\n",
    "\n",
    "where $\\boldsymbol{\\beta}_{BE}$ are the between estimater coefficients. The between-groups estimator is not something we have introduced before, but is attained by regressing the time-averaged outcomes $\\overline{y}_i$ on the time-averaged regressors $\\overline{\\mathbf{x}}_i,i=1,2,\\dotsc,N$."
   ]
  },
  {
   "cell_type": "markdown",
   "metadata": {},
   "source": [
    "### Question 1: The Between Estimator\n",
    "Estimate the between groups model, which is simply the average within each each individual,\n",
    "\n",
    "$$\n",
    "\\bar{y}_{i} = \\boldsymbol{\\bar{x}}_{i}\\boldsymbol{\\beta} + c_i + \\bar{u}_{i}.\n",
    "$$\n",
    "\n",
    "So instead of demeaning, like we did in FE, we just calculate the mean with the following transformation *vector* $\\mathbf{P}_T$,\n",
    "\n",
    "\\begin{equation} \n",
    "\\mathbf{P}_T \\equiv \\left( \\frac{1}{T}, \\frac{1}{T}, ..., \\frac{1}{T} \\right)_{1 \\times T}\n",
    "\\end{equation}\n",
    "\n",
    "In order to estimate eq. (3) with the between estimator. You need to perform the following steps:\n",
    "* Create the mean vector `P`.\n",
    "* mean `x` and `y` using the `perm` function and `P`.\n",
    "* Regress `y_mean` on `x_mean`. Note that there are $N$ rows in each, not $NT$. \n",
    "* Print it out in a nice table."
   ]
  },
  {
   "cell_type": "code",
   "execution_count": 61,
   "metadata": {},
   "outputs": [],
   "source": [
    "def between_mat(T):\n",
    "    P_T = np.tile(1/T, (1,T))\n",
    "    return P_T"
   ]
  },
  {
   "cell_type": "code",
   "execution_count": 64,
   "metadata": {},
   "outputs": [],
   "source": [
    "P_T = between_mat(T)"
   ]
  },
  {
   "cell_type": "code",
   "execution_count": 66,
   "metadata": {},
   "outputs": [],
   "source": [
    "y_be = lm.perm(P_T, y)\n",
    "x_be = lm.perm(P_T, x)"
   ]
  },
  {
   "cell_type": "code",
   "execution_count": 67,
   "metadata": {},
   "outputs": [
    {
     "data": {
      "text/plain": [
       "'The matrix is of full rank with rank = 8'"
      ]
     },
     "execution_count": 67,
     "metadata": {},
     "output_type": "execute_result"
    }
   ],
   "source": [
    "lm.check_rank(x_be)"
   ]
  },
  {
   "cell_type": "code",
   "execution_count": 70,
   "metadata": {},
   "outputs": [
    {
     "name": "stdout",
     "output_type": "stream",
     "text": [
      "BE-estimator\n",
      "Dependent variable: Log wage\n",
      "\n",
      "                       Beta          Se    t-values\n",
      "--------------  -----------  ----------  ----------\n",
      "Constant         0.492309    0.221009      2.22755\n",
      "Black           -0.138812    0.0488709    -2.84039\n",
      "Hispanic         0.00477579  0.0426925     0.111865\n",
      "Education        0.0946036   0.0109043     8.6758\n",
      "Experience      -0.0504371   0.0503326    -1.00208\n",
      "Experience sqr   0.00512449  0.00321182    1.59551\n",
      "Married          0.143664    0.0411983     3.48713\n",
      "Union            0.270677    0.0465645     5.81294\n",
      "R² = 0.219\n",
      "σ² = 0.121\n"
     ]
    }
   ],
   "source": [
    "est_be = lm.estimate(y=y_be, x=x_be, transform='be', T=T)\n",
    "lm.print_table(labels=(label_y, label_x), results=est_be, title='BE-estimator')"
   ]
  },
  {
   "cell_type": "markdown",
   "metadata": {},
   "source": [
    "You should get a table that looks like this:\n",
    "\n",
    "BE <br>\n",
    "Dependent variable: Log wage\n",
    "\n",
    "|                |   Beta |     Se |   t-values |\n",
    "|----------------|--------|--------|------------|\n",
    "| Constant        |  0.4923 | 0.2210 |  2.23 | \n",
    "| Black           | -0.1388 | 0.0489 | -2.84 | \n",
    "| Hispanic        |  0.0048 | 0.0427 |  0.11 | \n",
    "| Education       |  0.0946 | 0.0109 |  8.68 | \n",
    "| Experience      | -0.0504 | 0.0503 | -1.00 | \n",
    "| Experience sqr  |  0.0051 | 0.0032 |  1.60 | \n",
    "| Married         |  0.1437 | 0.0412 |  3.49 | \n",
    "| Union           |  0.2707 | 0.0466 |  5.81 | \n",
    "R² = 0.219 <br>\n",
    "σ² = 0.121"
   ]
  },
  {
   "cell_type": "markdown",
   "metadata": {},
   "source": [
    "### Question 2\n",
    "You should now have all the error variances that you need to calculate\n",
    "\n",
    "$$\\hat{\\lambda} = 1 - \\sqrt{\\frac{\\widehat{\\sigma}_{u}^{2}}{(\\widehat{\\sigma}_{u}^{2} + T\\widehat{\\sigma}_{c}^{2})}}. $$"
   ]
  },
  {
   "cell_type": "code",
   "execution_count": 92,
   "metadata": {},
   "outputs": [
    {
     "name": "stdout",
     "output_type": "stream",
     "text": [
      "0.6426409407862546\n"
     ]
    }
   ],
   "source": [
    "# Fill in\n",
    "from math import sqrt\n",
    "\n",
    "\n",
    "sigma2_u = est_fe['sigma2'][0][0] # fill in\n",
    "sigma2_c = est_be['sigma2'][0][0]-1/T*est_fe['sigma2'][0][0] # fill in\n",
    "_lambda = 1-sqrt(sigma2_u/(sigma2_u+T*sigma2_c)) # fill in\n",
    "print(_lambda)"
   ]
  },
  {
   "cell_type": "markdown",
   "metadata": {},
   "source": [
    "### Question 3\n",
    "Now we are finally ready to estimate eq. (3) with random effects. Since we have to use $\\hat{\\lambda}$ to quasi-demean within each individual, we again use the `perm` function. This time, we pass it the following transformation matrix,\n",
    "\n",
    "$$\n",
    "\\mathbf{C}_{T}:=\\mathbf{I}_{T} - \\hat{\\lambda}\\mathbf{P}_{T},\n",
    "$$\n",
    "\n",
    "where $\\mathbf{P}_{T}$ is the $1 \\times T$ transformation vector we used earlier to calculate the mean of each person."
   ]
  },
  {
   "cell_type": "code",
   "execution_count": 93,
   "metadata": {},
   "outputs": [],
   "source": [
    "def quasi_demean_mat(T, _lambda):\n",
    "    P_T = between_mat(T)\n",
    "    C_T = np.eye(T)-_lambda*P_T\n",
    "    return C_T"
   ]
  },
  {
   "cell_type": "code",
   "execution_count": 95,
   "metadata": {},
   "outputs": [],
   "source": [
    "C_T = quasi_demean_mat(T, _lambda)"
   ]
  },
  {
   "cell_type": "code",
   "execution_count": 97,
   "metadata": {},
   "outputs": [],
   "source": [
    "y_re = lm.perm(C_T, y) # fill in\n",
    "x_re = lm.perm(C_T, x) # fill in"
   ]
  },
  {
   "cell_type": "code",
   "execution_count": 98,
   "metadata": {},
   "outputs": [
    {
     "data": {
      "text/plain": [
       "'The matrix is of full rank with rank = 8'"
      ]
     },
     "execution_count": 98,
     "metadata": {},
     "output_type": "execute_result"
    }
   ],
   "source": [
    "lm.check_rank(x_re)"
   ]
  },
  {
   "cell_type": "code",
   "execution_count": 102,
   "metadata": {},
   "outputs": [
    {
     "name": "stdout",
     "output_type": "stream",
     "text": [
      "Results\n",
      "Dependent variable: Log wage\n",
      "\n",
      "                  Beta      Se    t-values\n",
      "--------------  ------  ------  ----------\n",
      "Constant        -0.107  0.1107       -0.97\n",
      "Black           -0.144  0.0476       -3.03\n",
      "Hispanic         0.020  0.0426        0.47\n",
      "Education        0.101  0.0089       11.36\n",
      "Experience       0.112  0.0083       13.57\n",
      "Experience sqr  -0.004  0.0006       -6.88\n",
      "Married          0.063  0.0168        3.74\n",
      "Union            0.107  0.0178        6.02\n",
      "R² = 0.178\n",
      "σ² = 0.124\n"
     ]
    },
    {
     "ename": "AttributeError",
     "evalue": "'float' object has no attribute 'item'",
     "output_type": "error",
     "traceback": [
      "\u001b[1;31m---------------------------------------------------------------------------\u001b[0m",
      "\u001b[1;31mAttributeError\u001b[0m                            Traceback (most recent call last)",
      "\u001b[1;32m~\\AppData\\Local\\Temp\\ipykernel_19060\\352667618.py\u001b[0m in \u001b[0;36m<cell line: 8>\u001b[1;34m()\u001b[0m\n\u001b[0;32m      6\u001b[0m \u001b[1;33m\u001b[0m\u001b[0m\n\u001b[0;32m      7\u001b[0m \u001b[0mest_re\u001b[0m \u001b[1;33m=\u001b[0m \u001b[0mlm\u001b[0m\u001b[1;33m.\u001b[0m\u001b[0mestimate\u001b[0m\u001b[1;33m(\u001b[0m\u001b[0my\u001b[0m \u001b[1;33m=\u001b[0m \u001b[0my_re\u001b[0m\u001b[1;33m,\u001b[0m\u001b[0mx\u001b[0m\u001b[1;33m=\u001b[0m\u001b[0mx_re\u001b[0m\u001b[1;33m,\u001b[0m\u001b[0mtransform\u001b[0m\u001b[1;33m=\u001b[0m\u001b[1;34m\"re\"\u001b[0m\u001b[1;33m,\u001b[0m\u001b[0mT\u001b[0m\u001b[1;33m=\u001b[0m\u001b[0mT\u001b[0m\u001b[1;33m)\u001b[0m\u001b[1;33m\u001b[0m\u001b[1;33m\u001b[0m\u001b[0m\n\u001b[1;32m----> 8\u001b[1;33m lm.print_table(labels=(label_y, label_x), results=est_re, _lambda=_lambda,\n\u001b[0m\u001b[0;32m      9\u001b[0m     \u001b[0mfloatfmt\u001b[0m\u001b[1;33m=\u001b[0m\u001b[1;33m[\u001b[0m\u001b[1;34m''\u001b[0m\u001b[1;33m,\u001b[0m \u001b[1;34m'.3f'\u001b[0m\u001b[1;33m,\u001b[0m \u001b[1;34m'.4f'\u001b[0m\u001b[1;33m,\u001b[0m \u001b[1;34m'.2f'\u001b[0m\u001b[1;33m]\u001b[0m\u001b[1;33m\u001b[0m\u001b[1;33m\u001b[0m\u001b[0m\n\u001b[0;32m     10\u001b[0m )  \n",
      "\u001b[1;32mc:\\Users\\JBH\\Dropbox\\10_semester\\Advanced Microeconometrics\\exercises\\3\\LinearModelsWeek3.py\u001b[0m in \u001b[0;36mprint_table\u001b[1;34m(labels, results, headers, title, _lambda, **kwargs)\u001b[0m\n\u001b[0;32m    161\u001b[0m     \u001b[0mprint\u001b[0m\u001b[1;33m(\u001b[0m\u001b[1;34mf\"\\u03C3\\u00b2 = {results.get('sigma2').item():.3f}\"\u001b[0m\u001b[1;33m)\u001b[0m\u001b[1;33m\u001b[0m\u001b[1;33m\u001b[0m\u001b[0m\n\u001b[0;32m    162\u001b[0m     \u001b[1;32mif\u001b[0m \u001b[0m_lambda\u001b[0m\u001b[1;33m:\u001b[0m\u001b[1;33m\u001b[0m\u001b[1;33m\u001b[0m\u001b[0m\n\u001b[1;32m--> 163\u001b[1;33m         \u001b[0mprint\u001b[0m\u001b[1;33m(\u001b[0m\u001b[1;34mf'\\u03bb = {_lambda.item():.3f}'\u001b[0m\u001b[1;33m)\u001b[0m\u001b[1;33m\u001b[0m\u001b[1;33m\u001b[0m\u001b[0m\n\u001b[0m\u001b[0;32m    164\u001b[0m \u001b[1;33m\u001b[0m\u001b[0m\n\u001b[0;32m    165\u001b[0m \u001b[1;33m\u001b[0m\u001b[0m\n",
      "\u001b[1;31mAttributeError\u001b[0m: 'float' object has no attribute 'item'"
     ]
    }
   ],
   "source": [
    "# FILL IN\n",
    "# Create first the transformation matrix C\n",
    "# Use the perm function to \"quasi-demean\" x and y using C\n",
    "# Estimate RE using OLS and print a nice table\n",
    "\n",
    "\n",
    "est_re = lm.estimate(y = y_re,x=x_re,transform=\"re\",T=T)\n",
    "lm.print_table(labels=(label_y, label_x), results=est_re, _lambda=_lambda,\n",
    "    floatfmt=['', '.3f', '.4f', '.2f']\n",
    ")  "
   ]
  },
  {
   "cell_type": "markdown",
   "metadata": {},
   "source": [
    "The table should look like this:\n",
    "\n",
    "RE <br>\n",
    "Dependent variable: Log wage\n",
    "\n",
    "|                |   Beta |     Se |   t-values |\n",
    "|----------------|--------|--------|------------|\n",
    "| Constant       | -0.107 | 0.1107 |      -0.97 |\n",
    "| Black          | -0.144 | 0.0476 |      -3.03 |\n",
    "| Hispanic       |  0.020 | 0.0426 |       0.47 |\n",
    "| Education      |  0.101 | 0.0089 |      11.36 |\n",
    "| Experience     |  0.112 | 0.0083 |      13.57 |\n",
    "| Experience sqr | -0.004 | 0.0006 |      -6.88 |\n",
    "| Married        |  0.063 | 0.0168 |       3.74 |\n",
    "| Union          |  0.107 | 0.0178 |       6.02 |\n",
    "R² = 0.178 <br>\n",
    "σ² = 0.124 <br>\n",
    "λ = 0.643"
   ]
  },
  {
   "cell_type": "markdown",
   "metadata": {},
   "source": [
    "## Short introduction to Hausman test\n",
    "\n",
    "It is evident from the previous question that RE has the advantage over FE that time-invariant variables are not demeaned away. But if $E[c_{i}\\boldsymbol{x}_{it}] \\neq \\boldsymbol{0}$, then the RE estimator is inconsistent, where the FE estimator is consistent (but inefficient), assuming strict exogeneity.\n",
    "\n",
    "We can use the results from the FE and RE estimations to test whether RE is consistent, by calculating the following test statistics,\n",
    "\n",
    "$$\n",
    "H := (\\hat{\\boldsymbol{\\beta}}_{FE} - \\hat{\\boldsymbol{\\beta}}_{RE})'[\\widehat{\\mathrm{avar}}(\\hat{\\boldsymbol{\\beta}}_{FE}) - \\widehat{\\mathrm{avar}}(\\hat{\\mathbf{\\beta}}_{RE})]^{-1}(\\hat{\\boldsymbol{\\beta}}_{FE}-\\hat{\\boldsymbol{\\beta}}_{RE})\\overset{d}{\\to}\\chi_{M}^{2}, \\tag{7}\n",
    "$$\n",
    "\n",
    "*Note 1*: The vector $\\hat{\\boldsymbol{\\beta}}_{RE}$ excludes time invariant variables as these are not present in $\\hat{\\boldsymbol{\\beta}}_{FE}$. <br>\n",
    "*Note 2:* $\\widehat{\\mathrm{avar}}(\\hat{\\boldsymbol{\\beta}}_{RE})$ means the RE covariance (but again, we only keep the rows and columns for time-variant variables)"
   ]
  },
  {
   "cell_type": "markdown",
   "metadata": {},
   "source": [
    "#### Question 4: Comparing FE and RE\n",
    "Use the results from the FE and RE esimtations to compute the Hausman test statistics in eq. (7).\n",
    "\n",
    "* Start by calculating the differences in the FE and RE coefficients $\\hat{\\boldsymbol{\\beta}}_{FE} - \\hat{\\boldsymbol{\\beta}}_{RE}$ (again, remember to remove the time invariant columns from RE)\n",
    "* Then calculate the differences in the covariances $\\widehat{\\mathrm{avar}}(\\hat{\\boldsymbol{\\beta}}_{FE}) - \\widehat{\\mathrm{avar}}(\\hat{\\boldsymbol{\\beta}}_{RE})$ (you need to keep the \"lower right\" part of the RE covariance)\n",
    "* You now have all the components to compute the Hausman test statistics in eq. (7)"
   ]
  },
  {
   "cell_type": "code",
   "execution_count": 106,
   "metadata": {},
   "outputs": [],
   "source": [
    "# FILL IN\n",
    "# Follow the steps in the question\n",
    "hat_diff = est_fe['b_hat']-est_re['b_hat'][4:] # The differences in beta hat\n",
    "cov_diff = est_fe['cov']-est_re['cov'][4:,4:] \n",
    "# The difference in covariances. NB! We remember that FE is constructed by demeaning.\n",
    "# Thus, we need to compare estimates the time-varying estimates from FE with the same estimates from RE.\n",
    "\n",
    "H = hat_diff.T@la.inv(cov_diff)@hat_diff # The Hausman test value\n",
    "\n",
    "# This calculates the p-value of the Hausman test.\n",
    "p_val = chi2.sf(H.item(), 4)"
   ]
  },
  {
   "cell_type": "markdown",
   "metadata": {},
   "source": [
    "---\n",
    "\n",
    "### Error structure of RE:\n",
    "\n",
    "$\\left[\\begin{array}{cccc}\\sigma_c^2+\\sigma_u^2 & \\sigma_c^2 & \\cdots & \\sigma_c^2 \\\\ \\sigma_c^2 & \\sigma_c^2+\\sigma_u^2 & \\cdots & \\sigma_c^2 \\\\ \\vdots & \\vdots & \\ddots & \\vdots \\\\ \\sigma_c^2 & \\sigma_c^2 & \\cdots & \\sigma_c^2+\\sigma_u^2\\end{array}\\right]_{T \\times T}$\n",
    "\n",
    "## NB!\n",
    "This contains both the time-invariant and time-varying estimates. IF we are to compare with FE, we must compare the time-varying estimates of FE with the same time-varying estimates of RE.\n",
    "\n",
    "---"
   ]
  },
  {
   "cell_type": "code",
   "execution_count": 111,
   "metadata": {},
   "outputs": [
    {
     "name": "stdout",
     "output_type": "stream",
     "text": [
      "   b_fe     b_re    b_diff\n",
      "-------  -------  --------\n",
      " 0.1168   0.1121    0.0047\n",
      "-0.0043  -0.0041   -0.0002\n",
      " 0.0453   0.0628   -0.0175\n",
      " 0.0821   0.1074   -0.0253\n",
      "The Hausman test statistic is: 31.45, with p-value: 0.00.\n"
     ]
    }
   ],
   "source": [
    "# This code takes the results that you have made, and prints a nice looking table.\n",
    "def print_h_test(est_fe, est_re, hat_diff, p_val):\n",
    "    table = []\n",
    "    for i in range(len(hat_diff)):\n",
    "        row = [\n",
    "            est_fe['b_hat'][i], est_re['b_hat'][4:][i], hat_diff[i]\n",
    "        ]\n",
    "        table.append(row)\n",
    "\n",
    "    print(tabulate(\n",
    "        table, headers=['b_fe', 'b_re', 'b_diff'], floatfmt='.4f'\n",
    "        ))\n",
    "    print(f'The Hausman test statistic is: {H.item():.2f}, with p-value: {p_val:.2f}.')\n",
    "print_h_test(est_fe, est_re, hat_diff, p_val)"
   ]
  },
  {
   "cell_type": "markdown",
   "metadata": {},
   "source": [
    "---\n",
    "\n",
    "$H_0$: \"The preferred model is the random effects model\"\n",
    "\n",
    "$H_A$: \"The fixed effects model is the preferred model (the reason being unobserved heterogeneity!)\"\n",
    "\n",
    "This is strongly rejected. This indicates that the preferred model is the FE model.\n",
    "\n",
    "---"
   ]
  },
  {
   "cell_type": "markdown",
   "metadata": {},
   "source": [
    "Your table should look like this:\n",
    "\n",
    "| b_fe    |  b_re    | b_diff |\n",
    "| ------- |  ------- |  -------- |\n",
    " | 0.1168  |  0.1121  |   0.0047 |\n",
    "| -0.0043 |  -0.0041 |   -0.0002 |\n",
    " | 0.0453  |  0.0628  |  -0.0175 |\n",
    " | 0.0821  |  0.1074  |  -0.0253 |\n",
    "\n",
    " The Hausman test statistic is: 31.45, with p-value: 0.00."
   ]
  }
 ],
 "metadata": {
  "kernelspec": {
   "display_name": "Python 3.9.13 ('base')",
   "language": "python",
   "name": "python3"
  },
  "language_info": {
   "codemirror_mode": {
    "name": "ipython",
    "version": 3
   },
   "file_extension": ".py",
   "mimetype": "text/x-python",
   "name": "python",
   "nbconvert_exporter": "python",
   "pygments_lexer": "ipython3",
   "version": "3.9.15 | packaged by conda-forge | (main, Nov 22 2022, 08:39:05) [MSC v.1929 64 bit (AMD64)]"
  },
  "vscode": {
   "interpreter": {
    "hash": "054e95b4819972eba8d406807e822e3be9cca805528e86310f8e3ac8dc287778"
   }
  }
 },
 "nbformat": 4,
 "nbformat_minor": 4
}
