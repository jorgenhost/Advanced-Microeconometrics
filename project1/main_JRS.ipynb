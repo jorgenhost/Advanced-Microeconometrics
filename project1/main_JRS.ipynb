{
 "cells": [
  {
   "cell_type": "markdown",
   "metadata": {},
   "source": [
    "# Production Technology\n",
    "\n",
    "The dataset contains `N = 441` firms observed over `T = 12` years, 1967-1978. There variables are: \n",
    "* `lcap`: Log of capital stock, $k_{it}$ \n",
    "* `lemp`: log of employment, $\\ell_{it}$ \n",
    "* `ldsa`: log of deflated sales, $y_{it}$\n",
    "* `year`: the calendar year of the observation, `year` $ = 1967, ..., 1978$, \n",
    "* `firmid`: anonymized indicator variable for the firm, $i = 1, ..., N$, with $N=441$. "
   ]
  },
  {
   "cell_type": "code",
   "execution_count": 583,
   "metadata": {},
   "outputs": [],
   "source": [
    "import pandas as pd \n",
    "import numpy as np \n",
    "import seaborn as sns\n",
    "from numpy import linalg as la\n",
    "from tabulate import tabulate"
   ]
  },
  {
   "cell_type": "code",
   "execution_count": 584,
   "metadata": {},
   "outputs": [],
   "source": [
    "dat = pd.read_csv('firms.csv')"
   ]
  },
  {
   "cell_type": "code",
   "execution_count": 585,
   "metadata": {},
   "outputs": [
    {
     "data": {
      "text/html": [
       "<div>\n",
       "<style scoped>\n",
       "    .dataframe tbody tr th:only-of-type {\n",
       "        vertical-align: middle;\n",
       "    }\n",
       "\n",
       "    .dataframe tbody tr th {\n",
       "        vertical-align: top;\n",
       "    }\n",
       "\n",
       "    .dataframe thead th {\n",
       "        text-align: right;\n",
       "    }\n",
       "</style>\n",
       "<table border=\"1\" class=\"dataframe\">\n",
       "  <thead>\n",
       "    <tr style=\"text-align: right;\">\n",
       "      <th></th>\n",
       "      <th>firmid</th>\n",
       "      <th>year</th>\n",
       "      <th>lcap</th>\n",
       "      <th>lemp</th>\n",
       "      <th>ldsa</th>\n",
       "    </tr>\n",
       "  </thead>\n",
       "  <tbody>\n",
       "    <tr>\n",
       "      <th>315</th>\n",
       "      <td>27</td>\n",
       "      <td>1970</td>\n",
       "      <td>0.592978</td>\n",
       "      <td>0.364932</td>\n",
       "      <td>0.176091</td>\n",
       "    </tr>\n",
       "    <tr>\n",
       "      <th>328</th>\n",
       "      <td>28</td>\n",
       "      <td>1971</td>\n",
       "      <td>0.052670</td>\n",
       "      <td>-0.083528</td>\n",
       "      <td>-0.119153</td>\n",
       "    </tr>\n",
       "    <tr>\n",
       "      <th>3159</th>\n",
       "      <td>264</td>\n",
       "      <td>1970</td>\n",
       "      <td>0.686144</td>\n",
       "      <td>0.649490</td>\n",
       "      <td>0.297061</td>\n",
       "    </tr>\n",
       "    <tr>\n",
       "      <th>1643</th>\n",
       "      <td>137</td>\n",
       "      <td>1978</td>\n",
       "      <td>-0.447165</td>\n",
       "      <td>-0.704146</td>\n",
       "      <td>-0.897154</td>\n",
       "    </tr>\n",
       "    <tr>\n",
       "      <th>488</th>\n",
       "      <td>41</td>\n",
       "      <td>1975</td>\n",
       "      <td>2.807260</td>\n",
       "      <td>2.800643</td>\n",
       "      <td>2.989404</td>\n",
       "    </tr>\n",
       "  </tbody>\n",
       "</table>\n",
       "</div>"
      ],
      "text/plain": [
       "      firmid  year      lcap      lemp      ldsa\n",
       "315       27  1970  0.592978  0.364932  0.176091\n",
       "328       28  1971  0.052670 -0.083528 -0.119153\n",
       "3159     264  1970  0.686144  0.649490  0.297061\n",
       "1643     137  1978 -0.447165 -0.704146 -0.897154\n",
       "488       41  1975  2.807260  2.800643  2.989404"
      ]
     },
     "execution_count": 585,
     "metadata": {},
     "output_type": "execute_result"
    }
   ],
   "source": [
    "dat.sample(5)"
   ]
  },
  {
   "cell_type": "code",
   "execution_count": 586,
   "metadata": {},
   "outputs": [
    {
     "data": {
      "text/plain": [
       "array([1967, 1968, 1969, 1970, 1971, 1972, 1973, 1974, 1975, 1976, 1977,\n",
       "       1978], dtype=int64)"
      ]
     },
     "execution_count": 586,
     "metadata": {},
     "output_type": "execute_result"
    }
   ],
   "source": [
    "dat.year.unique()"
   ]
  },
  {
   "cell_type": "markdown",
   "metadata": {},
   "source": []
  },
  {
   "cell_type": "markdown",
   "metadata": {},
   "source": [
    "# Descriptives"
   ]
  },
  {
   "cell_type": "code",
   "execution_count": 587,
   "metadata": {},
   "outputs": [
    {
     "data": {
      "text/html": [
       "<div>\n",
       "<style scoped>\n",
       "    .dataframe tbody tr th:only-of-type {\n",
       "        vertical-align: middle;\n",
       "    }\n",
       "\n",
       "    .dataframe tbody tr th {\n",
       "        vertical-align: top;\n",
       "    }\n",
       "\n",
       "    .dataframe thead th {\n",
       "        text-align: right;\n",
       "    }\n",
       "</style>\n",
       "<table border=\"1\" class=\"dataframe\">\n",
       "  <thead>\n",
       "    <tr style=\"text-align: right;\">\n",
       "      <th></th>\n",
       "      <th>firmid</th>\n",
       "      <th>year</th>\n",
       "      <th>lcap</th>\n",
       "      <th>lemp</th>\n",
       "      <th>ldsa</th>\n",
       "    </tr>\n",
       "  </thead>\n",
       "  <tbody>\n",
       "    <tr>\n",
       "      <th>count</th>\n",
       "      <td>5292.000000</td>\n",
       "      <td>5292.000000</td>\n",
       "      <td>5.292000e+03</td>\n",
       "      <td>5.292000e+03</td>\n",
       "      <td>5.292000e+03</td>\n",
       "    </tr>\n",
       "    <tr>\n",
       "      <th>mean</th>\n",
       "      <td>221.000000</td>\n",
       "      <td>1972.500000</td>\n",
       "      <td>-2.379856e-08</td>\n",
       "      <td>-3.248299e-08</td>\n",
       "      <td>-4.440666e-10</td>\n",
       "    </tr>\n",
       "    <tr>\n",
       "      <th>std</th>\n",
       "      <td>127.317437</td>\n",
       "      <td>3.452379</td>\n",
       "      <td>1.323176e+00</td>\n",
       "      <td>1.187237e+00</td>\n",
       "      <td>1.234902e+00</td>\n",
       "    </tr>\n",
       "    <tr>\n",
       "      <th>min</th>\n",
       "      <td>1.000000</td>\n",
       "      <td>1967.000000</td>\n",
       "      <td>-4.033590e+00</td>\n",
       "      <td>-3.382780e+00</td>\n",
       "      <td>-3.554090e+00</td>\n",
       "    </tr>\n",
       "    <tr>\n",
       "      <th>25%</th>\n",
       "      <td>111.000000</td>\n",
       "      <td>1969.750000</td>\n",
       "      <td>-9.251980e-01</td>\n",
       "      <td>-8.001460e-01</td>\n",
       "      <td>-9.190837e-01</td>\n",
       "    </tr>\n",
       "    <tr>\n",
       "      <th>50%</th>\n",
       "      <td>221.000000</td>\n",
       "      <td>1972.500000</td>\n",
       "      <td>-1.083100e-01</td>\n",
       "      <td>-1.147060e-01</td>\n",
       "      <td>-1.105555e-01</td>\n",
       "    </tr>\n",
       "    <tr>\n",
       "      <th>75%</th>\n",
       "      <td>331.000000</td>\n",
       "      <td>1975.250000</td>\n",
       "      <td>9.307292e-01</td>\n",
       "      <td>7.973080e-01</td>\n",
       "      <td>8.622255e-01</td>\n",
       "    </tr>\n",
       "    <tr>\n",
       "      <th>max</th>\n",
       "      <td>441.000000</td>\n",
       "      <td>1978.000000</td>\n",
       "      <td>4.103687e+00</td>\n",
       "      <td>3.371332e+00</td>\n",
       "      <td>3.913391e+00</td>\n",
       "    </tr>\n",
       "  </tbody>\n",
       "</table>\n",
       "</div>"
      ],
      "text/plain": [
       "            firmid         year          lcap          lemp          ldsa\n",
       "count  5292.000000  5292.000000  5.292000e+03  5.292000e+03  5.292000e+03\n",
       "mean    221.000000  1972.500000 -2.379856e-08 -3.248299e-08 -4.440666e-10\n",
       "std     127.317437     3.452379  1.323176e+00  1.187237e+00  1.234902e+00\n",
       "min       1.000000  1967.000000 -4.033590e+00 -3.382780e+00 -3.554090e+00\n",
       "25%     111.000000  1969.750000 -9.251980e-01 -8.001460e-01 -9.190837e-01\n",
       "50%     221.000000  1972.500000 -1.083100e-01 -1.147060e-01 -1.105555e-01\n",
       "75%     331.000000  1975.250000  9.307292e-01  7.973080e-01  8.622255e-01\n",
       "max     441.000000  1978.000000  4.103687e+00  3.371332e+00  3.913391e+00"
      ]
     },
     "execution_count": 587,
     "metadata": {},
     "output_type": "execute_result"
    }
   ],
   "source": [
    "dat.describe()"
   ]
  },
  {
   "cell_type": "code",
   "execution_count": 588,
   "metadata": {},
   "outputs": [
    {
     "data": {
      "image/png": "[encoded data removed]",
      "text/plain": [
       "<Figure size 640x480 with 4 Axes>"
      ]
     },
     "metadata": {},
     "output_type": "display_data"
    }
   ],
   "source": [
    "dat[['lcap','lemp','ldsa']].hist(); "
   ]
  },
  {
   "cell_type": "code",
   "execution_count": 589,
   "metadata": {},
   "outputs": [
    {
     "data": {
      "image/png": "[encoded data removed]",
      "text/plain": [
       "<Figure size 640x480 with 1 Axes>"
      ]
     },
     "metadata": {},
     "output_type": "display_data"
    }
   ],
   "source": [
    "sns.scatterplot(x='lemp', y='ldsa', data=dat); "
   ]
  },
  {
   "cell_type": "markdown",
   "metadata": {},
   "source": [
    "# Converting data to numpy format "
   ]
  },
  {
   "cell_type": "code",
   "execution_count": 590,
   "metadata": {},
   "outputs": [
    {
     "data": {
      "text/plain": [
       "(5292,)"
      ]
     },
     "execution_count": 590,
     "metadata": {},
     "output_type": "execute_result"
    }
   ],
   "source": [
    "dat.ldsa.values.shape"
   ]
  },
  {
   "cell_type": "code",
   "execution_count": 591,
   "metadata": {},
   "outputs": [
    {
     "name": "stdout",
     "output_type": "stream",
     "text": [
      "Data has N=441 and T=12\n"
     ]
    }
   ],
   "source": [
    "N = dat.firmid.unique().size\n",
    "T = dat.year.unique().size\n",
    "assert dat.shape[0] == N*T, f'Error: data is not a balanced panel'\n",
    "print(f'Data has N={N} and T={T}')"
   ]
  },
  {
   "cell_type": "markdown",
   "metadata": {},
   "source": [
    "Extract data from `pandas` to `numpy` arrays. "
   ]
  },
  {
   "cell_type": "code",
   "execution_count": 592,
   "metadata": {},
   "outputs": [
    {
     "data": {
      "text/html": [
       "<div>\n",
       "<style scoped>\n",
       "    .dataframe tbody tr th:only-of-type {\n",
       "        vertical-align: middle;\n",
       "    }\n",
       "\n",
       "    .dataframe tbody tr th {\n",
       "        vertical-align: top;\n",
       "    }\n",
       "\n",
       "    .dataframe thead th {\n",
       "        text-align: right;\n",
       "    }\n",
       "</style>\n",
       "<table border=\"1\" class=\"dataframe\">\n",
       "  <thead>\n",
       "    <tr style=\"text-align: right;\">\n",
       "      <th></th>\n",
       "      <th>firmid</th>\n",
       "      <th>year</th>\n",
       "      <th>lcap</th>\n",
       "      <th>lemp</th>\n",
       "      <th>ldsa</th>\n",
       "    </tr>\n",
       "  </thead>\n",
       "  <tbody>\n",
       "    <tr>\n",
       "      <th>3149</th>\n",
       "      <td>263</td>\n",
       "      <td>1972</td>\n",
       "      <td>0.897831</td>\n",
       "      <td>1.524673</td>\n",
       "      <td>2.038424</td>\n",
       "    </tr>\n",
       "    <tr>\n",
       "      <th>198</th>\n",
       "      <td>17</td>\n",
       "      <td>1973</td>\n",
       "      <td>1.250751</td>\n",
       "      <td>1.186205</td>\n",
       "      <td>1.151395</td>\n",
       "    </tr>\n",
       "    <tr>\n",
       "      <th>3624</th>\n",
       "      <td>303</td>\n",
       "      <td>1967</td>\n",
       "      <td>-0.538117</td>\n",
       "      <td>-0.152706</td>\n",
       "      <td>-0.358471</td>\n",
       "    </tr>\n",
       "    <tr>\n",
       "      <th>2175</th>\n",
       "      <td>182</td>\n",
       "      <td>1970</td>\n",
       "      <td>0.041176</td>\n",
       "      <td>0.321898</td>\n",
       "      <td>0.128266</td>\n",
       "    </tr>\n",
       "    <tr>\n",
       "      <th>4640</th>\n",
       "      <td>387</td>\n",
       "      <td>1975</td>\n",
       "      <td>-0.501807</td>\n",
       "      <td>-0.092799</td>\n",
       "      <td>0.095654</td>\n",
       "    </tr>\n",
       "  </tbody>\n",
       "</table>\n",
       "</div>"
      ],
      "text/plain": [
       "      firmid  year      lcap      lemp      ldsa\n",
       "3149     263  1972  0.897831  1.524673  2.038424\n",
       "198       17  1973  1.250751  1.186205  1.151395\n",
       "3624     303  1967 -0.538117 -0.152706 -0.358471\n",
       "2175     182  1970  0.041176  0.321898  0.128266\n",
       "4640     387  1975 -0.501807 -0.092799  0.095654"
      ]
     },
     "execution_count": 592,
     "metadata": {},
     "output_type": "execute_result"
    }
   ],
   "source": [
    "y = dat.ldsa.values.reshape((N*T,1))\n",
    "\n",
    "ones = np.ones((N*T,1))\n",
    "l = dat.lemp.values.reshape((N*T,1))\n",
    "k = dat.lcap.values.reshape((N*T,1))\n",
    "X = np.hstack([ones, l, k])\n",
    "\n",
    "dat.sample(5)"
   ]
  },
  {
   "cell_type": "markdown",
   "metadata": {},
   "source": [
    "Beta, kode mv"
   ]
  },
  {
   "cell_type": "code",
   "execution_count": 593,
   "metadata": {},
   "outputs": [
    {
     "name": "stdout",
     "output_type": "stream",
     "text": [
      "(5292, 1)\n",
      "(5292, 1)\n",
      "(5292, 1)\n",
      "[[2.87790164e-08]\n",
      " [6.77826938e-01]\n",
      " [3.02759227e-01]]\n",
      "(5292,)\n",
      "()\n",
      "(5292, 5292)\n",
      "()\n",
      "()\n"
     ]
    },
    {
     "data": {
      "text/plain": [
       "689.8793896545179"
      ]
     },
     "execution_count": 593,
     "metadata": {},
     "output_type": "execute_result"
    }
   ],
   "source": [
    "\n",
    "def ols_estimation(y,l,k):\n",
    "    y=y\n",
    "    l=l\n",
    "    k=k\n",
    "\n",
    "# Tjek at y,l,k har den rigtige form:\n",
    "\n",
    "print(y.shape)\n",
    "print(l.shape)\n",
    "print(k.shape)\n",
    "\n",
    "# Beta\n",
    "b_hat = la.inv((X.T@X))@(X.T@y)\n",
    "print(b_hat)\n",
    "\n",
    "\n",
    "# residualer\n",
    "residual = y - X@b_hat\n",
    "\n",
    "# sigma\n",
    "sigma = residual.T@residual/(N - 2) # har bare manuelt sagt N-2, ved ikke om det er forkert?\n",
    "\n",
    "# Covariance (styr på flere)\n",
    "cov = sigma*la.inv(X.T@X)\n",
    "\n",
    "# SE\n",
    "se = np.sqrt(cov.diagonal()).reshape(-1, 1)\n",
    "\n",
    "# t-values\n",
    "t_values = b_hat/se\n",
    "\n",
    "# flatten??\n",
    "\n",
    "residual=residual.flatten()\n",
    "print(residual.shape)\n",
    "outer = np.outer(residual,residual)\n",
    "inner = np.inner(residual,residual)\n",
    "matmul_inner = residual.T@residual\n",
    "matmul_outer = residual@residual.T\n",
    "print(inner.shape)\n",
    "print(outer.shape)\n",
    "print(matmul_inner.shape)\n",
    "print(matmul_outer.shape)\n",
    "matmul_outer\n",
    "\n"
   ]
  },
  {
   "cell_type": "code",
   "execution_count": 594,
   "metadata": {},
   "outputs": [
    {
     "name": "stdout",
     "output_type": "stream",
     "text": [
      "Pooled OLS\n",
      "Dependent variable: ['y']\n",
      "\n",
      "      Beta      Se    t-values\n",
      "--  ------  ------  ----------\n",
      "k   0.0000  0.0050      0.0000\n",
      "l   0.6778  0.0101     67.3273\n",
      "R² = 0.914\n",
      "σ² = 0.130\n"
     ]
    }
   ],
   "source": [
    "import LinearModels as lm\n",
    "label_y=['y']\n",
    "label_x=['k','l']\n",
    "res = lm.estimate (y,X)\n",
    "lm.print_table(\n",
    "    (label_y, label_x), res, title=\"Pooled OLS\", floatfmt='.4f'\n",
    ")"
   ]
  }
 ],
 "metadata": {
  "kernelspec": {
   "display_name": "Python 3.9.13 ('base')",
   "language": "python",
   "name": "python3"
  },
  "language_info": {
   "codemirror_mode": {
    "name": "ipython",
    "version": 3
   },
   "file_extension": ".py",
   "mimetype": "text/x-python",
   "name": "python",
   "nbconvert_exporter": "python",
   "pygments_lexer": "ipython3",
   "version": "3.9.13"
  },
  "orig_nbformat": 4,
  "vscode": {
   "interpreter": {
    "hash": "57fa8b0c57c15c935532bc018fa7754a4557d6bc42ccc6be0d4d98be5d8089d4"
   }
  }
 },
 "nbformat": 4,
 "nbformat_minor": 2
}
