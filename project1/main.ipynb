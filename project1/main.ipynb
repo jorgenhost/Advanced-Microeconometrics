{
 "cells": [
  {
   "cell_type": "markdown",
   "metadata": {},
   "source": [
    "# Production Technology\n",
    "\n",
    "The dataset contains `N = 441` firms observed over `T = 12` years, 1967-1978. There variables are: \n",
    "* `lcap`: Log of capital stock, $k_{it}$ \n",
    "* `lemp`: log of employment, $\\ell_{it}$ \n",
    "* `ldsa`: log of deflated sales, $y_{it}$\n",
    "* `year`: the calendar year of the observation, `year` $ = 1967, ..., 1978$, \n",
    "* `firmid`: anonymized indicator variable for the firm, $i = 1, ..., N$, with $N=441$. "
   ]
  },
  {
   "cell_type": "code",
   "execution_count": 2,
   "metadata": {},
   "outputs": [],
   "source": [
    "import pandas as pd \n",
    "import numpy as np \n",
    "import seaborn as sns\n",
    "from scipy.stats import chi2\n",
    "import LinearModels as lm"
   ]
  },
  {
   "cell_type": "code",
   "execution_count": 3,
   "metadata": {},
   "outputs": [],
   "source": [
    "dat = pd.read_csv('firms.csv')"
   ]
  },
  {
   "cell_type": "code",
   "execution_count": 4,
   "metadata": {},
   "outputs": [],
   "source": [
    "dat.to_stata('firms.dta')"
   ]
  },
  {
   "cell_type": "code",
   "execution_count": 5,
   "metadata": {},
   "outputs": [
    {
     "data": {
      "text/html": [
       "<div>\n",
       "<style scoped>\n",
       "    .dataframe tbody tr th:only-of-type {\n",
       "        vertical-align: middle;\n",
       "    }\n",
       "\n",
       "    .dataframe tbody tr th {\n",
       "        vertical-align: top;\n",
       "    }\n",
       "\n",
       "    .dataframe thead th {\n",
       "        text-align: right;\n",
       "    }\n",
       "</style>\n",
       "<table border=\"1\" class=\"dataframe\">\n",
       "  <thead>\n",
       "    <tr style=\"text-align: right;\">\n",
       "      <th></th>\n",
       "      <th>firmid</th>\n",
       "      <th>year</th>\n",
       "      <th>lcap</th>\n",
       "      <th>lemp</th>\n",
       "      <th>ldsa</th>\n",
       "    </tr>\n",
       "  </thead>\n",
       "  <tbody>\n",
       "    <tr>\n",
       "      <th>0</th>\n",
       "      <td>1</td>\n",
       "      <td>1967</td>\n",
       "      <td>1.039900</td>\n",
       "      <td>-0.270182</td>\n",
       "      <td>0.396948</td>\n",
       "    </tr>\n",
       "    <tr>\n",
       "      <th>1</th>\n",
       "      <td>1</td>\n",
       "      <td>1968</td>\n",
       "      <td>0.998602</td>\n",
       "      <td>-0.242185</td>\n",
       "      <td>0.349053</td>\n",
       "    </tr>\n",
       "    <tr>\n",
       "      <th>2</th>\n",
       "      <td>1</td>\n",
       "      <td>1969</td>\n",
       "      <td>0.925214</td>\n",
       "      <td>-0.241278</td>\n",
       "      <td>0.312492</td>\n",
       "    </tr>\n",
       "    <tr>\n",
       "      <th>3</th>\n",
       "      <td>1</td>\n",
       "      <td>1970</td>\n",
       "      <td>0.879616</td>\n",
       "      <td>-0.265134</td>\n",
       "      <td>0.347566</td>\n",
       "    </tr>\n",
       "    <tr>\n",
       "      <th>4</th>\n",
       "      <td>1</td>\n",
       "      <td>1971</td>\n",
       "      <td>0.843098</td>\n",
       "      <td>-0.317875</td>\n",
       "      <td>0.234744</td>\n",
       "    </tr>\n",
       "    <tr>\n",
       "      <th>...</th>\n",
       "      <td>...</td>\n",
       "      <td>...</td>\n",
       "      <td>...</td>\n",
       "      <td>...</td>\n",
       "      <td>...</td>\n",
       "    </tr>\n",
       "    <tr>\n",
       "      <th>5287</th>\n",
       "      <td>441</td>\n",
       "      <td>1974</td>\n",
       "      <td>-1.044260</td>\n",
       "      <td>-1.084540</td>\n",
       "      <td>-0.542948</td>\n",
       "    </tr>\n",
       "    <tr>\n",
       "      <th>5288</th>\n",
       "      <td>441</td>\n",
       "      <td>1975</td>\n",
       "      <td>-1.006080</td>\n",
       "      <td>-0.956662</td>\n",
       "      <td>-0.547157</td>\n",
       "    </tr>\n",
       "    <tr>\n",
       "      <th>5289</th>\n",
       "      <td>441</td>\n",
       "      <td>1976</td>\n",
       "      <td>-0.891433</td>\n",
       "      <td>-0.775592</td>\n",
       "      <td>-0.319247</td>\n",
       "    </tr>\n",
       "    <tr>\n",
       "      <th>5290</th>\n",
       "      <td>441</td>\n",
       "      <td>1977</td>\n",
       "      <td>-0.719267</td>\n",
       "      <td>-0.672649</td>\n",
       "      <td>-0.084397</td>\n",
       "    </tr>\n",
       "    <tr>\n",
       "      <th>5291</th>\n",
       "      <td>441</td>\n",
       "      <td>1978</td>\n",
       "      <td>-0.536874</td>\n",
       "      <td>-0.623978</td>\n",
       "      <td>-0.134301</td>\n",
       "    </tr>\n",
       "  </tbody>\n",
       "</table>\n",
       "<p>5292 rows × 5 columns</p>\n",
       "</div>"
      ],
      "text/plain": [
       "      firmid  year      lcap      lemp      ldsa\n",
       "0          1  1967  1.039900 -0.270182  0.396948\n",
       "1          1  1968  0.998602 -0.242185  0.349053\n",
       "2          1  1969  0.925214 -0.241278  0.312492\n",
       "3          1  1970  0.879616 -0.265134  0.347566\n",
       "4          1  1971  0.843098 -0.317875  0.234744\n",
       "...      ...   ...       ...       ...       ...\n",
       "5287     441  1974 -1.044260 -1.084540 -0.542948\n",
       "5288     441  1975 -1.006080 -0.956662 -0.547157\n",
       "5289     441  1976 -0.891433 -0.775592 -0.319247\n",
       "5290     441  1977 -0.719267 -0.672649 -0.084397\n",
       "5291     441  1978 -0.536874 -0.623978 -0.134301\n",
       "\n",
       "[5292 rows x 5 columns]"
      ]
     },
     "execution_count": 5,
     "metadata": {},
     "output_type": "execute_result"
    }
   ],
   "source": [
    "dat"
   ]
  },
  {
   "cell_type": "code",
   "execution_count": 6,
   "metadata": {},
   "outputs": [
    {
     "data": {
      "text/html": [
       "<div>\n",
       "<style scoped>\n",
       "    .dataframe tbody tr th:only-of-type {\n",
       "        vertical-align: middle;\n",
       "    }\n",
       "\n",
       "    .dataframe tbody tr th {\n",
       "        vertical-align: top;\n",
       "    }\n",
       "\n",
       "    .dataframe thead th {\n",
       "        text-align: right;\n",
       "    }\n",
       "</style>\n",
       "<table border=\"1\" class=\"dataframe\">\n",
       "  <thead>\n",
       "    <tr style=\"text-align: right;\">\n",
       "      <th></th>\n",
       "      <th>firmid</th>\n",
       "      <th>year</th>\n",
       "      <th>lcap</th>\n",
       "      <th>lemp</th>\n",
       "      <th>ldsa</th>\n",
       "    </tr>\n",
       "  </thead>\n",
       "  <tbody>\n",
       "    <tr>\n",
       "      <th>3791</th>\n",
       "      <td>316</td>\n",
       "      <td>1978</td>\n",
       "      <td>1.031911</td>\n",
       "      <td>0.855877</td>\n",
       "      <td>0.711440</td>\n",
       "    </tr>\n",
       "    <tr>\n",
       "      <th>5073</th>\n",
       "      <td>423</td>\n",
       "      <td>1976</td>\n",
       "      <td>0.159737</td>\n",
       "      <td>0.527919</td>\n",
       "      <td>0.055465</td>\n",
       "    </tr>\n",
       "    <tr>\n",
       "      <th>3651</th>\n",
       "      <td>305</td>\n",
       "      <td>1970</td>\n",
       "      <td>0.061571</td>\n",
       "      <td>-0.586806</td>\n",
       "      <td>-0.089618</td>\n",
       "    </tr>\n",
       "    <tr>\n",
       "      <th>3411</th>\n",
       "      <td>285</td>\n",
       "      <td>1970</td>\n",
       "      <td>1.195152</td>\n",
       "      <td>0.796825</td>\n",
       "      <td>0.701188</td>\n",
       "    </tr>\n",
       "    <tr>\n",
       "      <th>4772</th>\n",
       "      <td>398</td>\n",
       "      <td>1975</td>\n",
       "      <td>0.243545</td>\n",
       "      <td>0.902630</td>\n",
       "      <td>0.929688</td>\n",
       "    </tr>\n",
       "  </tbody>\n",
       "</table>\n",
       "</div>"
      ],
      "text/plain": [
       "      firmid  year      lcap      lemp      ldsa\n",
       "3791     316  1978  1.031911  0.855877  0.711440\n",
       "5073     423  1976  0.159737  0.527919  0.055465\n",
       "3651     305  1970  0.061571 -0.586806 -0.089618\n",
       "3411     285  1970  1.195152  0.796825  0.701188\n",
       "4772     398  1975  0.243545  0.902630  0.929688"
      ]
     },
     "execution_count": 6,
     "metadata": {},
     "output_type": "execute_result"
    }
   ],
   "source": [
    "dat.sample(5)"
   ]
  },
  {
   "cell_type": "code",
   "execution_count": 7,
   "metadata": {},
   "outputs": [
    {
     "data": {
      "text/plain": [
       "array([1967, 1968, 1969, 1970, 1971, 1972, 1973, 1974, 1975, 1976, 1977,\n",
       "       1978], dtype=int64)"
      ]
     },
     "execution_count": 7,
     "metadata": {},
     "output_type": "execute_result"
    }
   ],
   "source": [
    "dat.year.unique()"
   ]
  },
  {
   "cell_type": "markdown",
   "metadata": {},
   "source": [
    "# Descriptives"
   ]
  },
  {
   "cell_type": "code",
   "execution_count": 8,
   "metadata": {},
   "outputs": [
    {
     "data": {
      "text/html": [
       "<div>\n",
       "<style scoped>\n",
       "    .dataframe tbody tr th:only-of-type {\n",
       "        vertical-align: middle;\n",
       "    }\n",
       "\n",
       "    .dataframe tbody tr th {\n",
       "        vertical-align: top;\n",
       "    }\n",
       "\n",
       "    .dataframe thead th {\n",
       "        text-align: right;\n",
       "    }\n",
       "</style>\n",
       "<table border=\"1\" class=\"dataframe\">\n",
       "  <thead>\n",
       "    <tr style=\"text-align: right;\">\n",
       "      <th></th>\n",
       "      <th>firmid</th>\n",
       "      <th>year</th>\n",
       "      <th>lcap</th>\n",
       "      <th>lemp</th>\n",
       "      <th>ldsa</th>\n",
       "    </tr>\n",
       "  </thead>\n",
       "  <tbody>\n",
       "    <tr>\n",
       "      <th>count</th>\n",
       "      <td>5292.000000</td>\n",
       "      <td>5292.000000</td>\n",
       "      <td>5.292000e+03</td>\n",
       "      <td>5.292000e+03</td>\n",
       "      <td>5.292000e+03</td>\n",
       "    </tr>\n",
       "    <tr>\n",
       "      <th>mean</th>\n",
       "      <td>221.000000</td>\n",
       "      <td>1972.500000</td>\n",
       "      <td>-2.379856e-08</td>\n",
       "      <td>-3.248299e-08</td>\n",
       "      <td>-4.440665e-10</td>\n",
       "    </tr>\n",
       "    <tr>\n",
       "      <th>std</th>\n",
       "      <td>127.317437</td>\n",
       "      <td>3.452379</td>\n",
       "      <td>1.323176e+00</td>\n",
       "      <td>1.187237e+00</td>\n",
       "      <td>1.234902e+00</td>\n",
       "    </tr>\n",
       "    <tr>\n",
       "      <th>min</th>\n",
       "      <td>1.000000</td>\n",
       "      <td>1967.000000</td>\n",
       "      <td>-4.033590e+00</td>\n",
       "      <td>-3.382780e+00</td>\n",
       "      <td>-3.554090e+00</td>\n",
       "    </tr>\n",
       "    <tr>\n",
       "      <th>25%</th>\n",
       "      <td>111.000000</td>\n",
       "      <td>1969.750000</td>\n",
       "      <td>-9.251980e-01</td>\n",
       "      <td>-8.001460e-01</td>\n",
       "      <td>-9.190837e-01</td>\n",
       "    </tr>\n",
       "    <tr>\n",
       "      <th>50%</th>\n",
       "      <td>221.000000</td>\n",
       "      <td>1972.500000</td>\n",
       "      <td>-1.083100e-01</td>\n",
       "      <td>-1.147060e-01</td>\n",
       "      <td>-1.105555e-01</td>\n",
       "    </tr>\n",
       "    <tr>\n",
       "      <th>75%</th>\n",
       "      <td>331.000000</td>\n",
       "      <td>1975.250000</td>\n",
       "      <td>9.307292e-01</td>\n",
       "      <td>7.973080e-01</td>\n",
       "      <td>8.622255e-01</td>\n",
       "    </tr>\n",
       "    <tr>\n",
       "      <th>max</th>\n",
       "      <td>441.000000</td>\n",
       "      <td>1978.000000</td>\n",
       "      <td>4.103687e+00</td>\n",
       "      <td>3.371332e+00</td>\n",
       "      <td>3.913391e+00</td>\n",
       "    </tr>\n",
       "  </tbody>\n",
       "</table>\n",
       "</div>"
      ],
      "text/plain": [
       "            firmid         year          lcap          lemp          ldsa\n",
       "count  5292.000000  5292.000000  5.292000e+03  5.292000e+03  5.292000e+03\n",
       "mean    221.000000  1972.500000 -2.379856e-08 -3.248299e-08 -4.440665e-10\n",
       "std     127.317437     3.452379  1.323176e+00  1.187237e+00  1.234902e+00\n",
       "min       1.000000  1967.000000 -4.033590e+00 -3.382780e+00 -3.554090e+00\n",
       "25%     111.000000  1969.750000 -9.251980e-01 -8.001460e-01 -9.190837e-01\n",
       "50%     221.000000  1972.500000 -1.083100e-01 -1.147060e-01 -1.105555e-01\n",
       "75%     331.000000  1975.250000  9.307292e-01  7.973080e-01  8.622255e-01\n",
       "max     441.000000  1978.000000  4.103687e+00  3.371332e+00  3.913391e+00"
      ]
     },
     "execution_count": 8,
     "metadata": {},
     "output_type": "execute_result"
    }
   ],
   "source": [
    "dat.describe()"
   ]
  },
  {
   "cell_type": "code",
   "execution_count": 9,
   "metadata": {},
   "outputs": [
    {
     "data": {
      "image/png": "[encoded data removed]",
      "text/plain": [
       "<Figure size 640x480 with 4 Axes>"
      ]
     },
     "metadata": {},
     "output_type": "display_data"
    }
   ],
   "source": [
    "dat[['lcap','lemp','ldsa']].hist(); "
   ]
  },
  {
   "cell_type": "code",
   "execution_count": null,
   "metadata": {},
   "outputs": [],
   "source": []
  },
  {
   "cell_type": "code",
   "execution_count": 10,
   "metadata": {},
   "outputs": [
    {
     "data": {
      "image/png": "[encoded data removed]",
      "text/plain": [
       "<Figure size 640x480 with 1 Axes>"
      ]
     },
     "metadata": {},
     "output_type": "display_data"
    }
   ],
   "source": [
    "sns.scatterplot(x='lemp', y='ldsa', hue='year', data=dat); "
   ]
  },
  {
   "cell_type": "code",
   "execution_count": 11,
   "metadata": {},
   "outputs": [
    {
     "data": {
      "image/png": "[encoded data removed]",
      "text/plain": [
       "<Figure size 640x480 with 1 Axes>"
      ]
     },
     "metadata": {},
     "output_type": "display_data"
    }
   ],
   "source": [
    "sns.scatterplot(x='year', y='lemp', data=dat); "
   ]
  },
  {
   "cell_type": "markdown",
   "metadata": {},
   "source": [
    "# Converting data to numpy format "
   ]
  },
  {
   "cell_type": "code",
   "execution_count": 12,
   "metadata": {},
   "outputs": [
    {
     "data": {
      "text/plain": [
       "(5292,)"
      ]
     },
     "execution_count": 12,
     "metadata": {},
     "output_type": "execute_result"
    }
   ],
   "source": [
    "dat.ldsa.values.shape"
   ]
  },
  {
   "cell_type": "code",
   "execution_count": 13,
   "metadata": {},
   "outputs": [
    {
     "name": "stdout",
     "output_type": "stream",
     "text": [
      "Data has N=441 and T=12\n"
     ]
    }
   ],
   "source": [
    "N = dat.firmid.unique().size\n",
    "T = dat.year.unique().size\n",
    "assert dat.shape[0] == N*T, f'Error: data is not a balanced panel'\n",
    "print(f'Data has N={N} and T={T}')"
   ]
  },
  {
   "cell_type": "markdown",
   "metadata": {},
   "source": [
    "Extract data from `pandas` to `numpy` arrays. "
   ]
  },
  {
   "cell_type": "code",
   "execution_count": 14,
   "metadata": {},
   "outputs": [],
   "source": [
    "y = dat.ldsa.values.reshape((N*T,1))\n",
    "\n",
    "ones = np.ones((N*T,1))\n",
    "l = dat.lemp.values.reshape((N*T,1))\n",
    "k = dat.lcap.values.reshape((N*T,1))\n",
    "X = np.hstack([ones, l, k])"
   ]
  },
  {
   "cell_type": "markdown",
   "metadata": {},
   "source": [
    "---"
   ]
  },
  {
   "cell_type": "code",
   "execution_count": 15,
   "metadata": {},
   "outputs": [
    {
     "name": "stdout",
     "output_type": "stream",
     "text": [
      "Pooled OLS\n",
      "Dependent variable: Log of deflated sales\n",
      "\n",
      "                     Beta      Se    t-values\n",
      "-----------------  ------  ------  ----------\n",
      "Constant           0.0000  0.0050      0.0000\n",
      "Log employment     0.6778  0.0101     67.3273\n",
      "Log capital stock  0.3028  0.0090     33.5158\n",
      "R² = 0.914\n",
      "σ² = 0.130\n",
      "DF=5289\n",
      "N=441\n",
      "T=12\n"
     ]
    }
   ],
   "source": [
    "est_pols = lm.estimate(y,X, N=N, T=T)\n",
    "label_y = 'Log of deflated sales'\n",
    "label_x = ['Constant', 'Log employment', 'Log capital stock']\n",
    "\n",
    "lm.print_table(labels=(label_y, label_x), results=est_pols, title='Pooled OLS', floatfmt='.4f')"
   ]
  },
  {
   "cell_type": "markdown",
   "metadata": {},
   "source": [
    "---\n",
    "\n",
    "### FE-estimation\n",
    "\n",
    "---"
   ]
  },
  {
   "cell_type": "code",
   "execution_count": 16,
   "metadata": {},
   "outputs": [],
   "source": [
    "def demeaning_matrix(T):\n",
    "    Q_T = np.eye(T)-np.tile(1/T,T)\n",
    "    return Q_T"
   ]
  },
  {
   "cell_type": "code",
   "execution_count": 17,
   "metadata": {},
   "outputs": [],
   "source": [
    "Q_T = demeaning_matrix(T)\n",
    "y_demean = lm.perm(Q_T, y)\n",
    "x_demean = lm.perm(Q_T,X)"
   ]
  },
  {
   "cell_type": "code",
   "execution_count": 18,
   "metadata": {},
   "outputs": [
    {
     "data": {
      "text/plain": [
       "(5292, 3)"
      ]
     },
     "execution_count": 18,
     "metadata": {},
     "output_type": "execute_result"
    }
   ],
   "source": [
    "x_demean.shape"
   ]
  },
  {
   "cell_type": "code",
   "execution_count": 19,
   "metadata": {},
   "outputs": [
    {
     "data": {
      "text/plain": [
       "'The matrix is NOT full rank with rank = 2. Eliminate linearly dependent columns.'"
      ]
     },
     "execution_count": 19,
     "metadata": {},
     "output_type": "execute_result"
    }
   ],
   "source": [
    "#Checking the rank condition\n",
    "lm.check_rank(x_demean)"
   ]
  },
  {
   "cell_type": "code",
   "execution_count": 20,
   "metadata": {},
   "outputs": [
    {
     "data": {
      "text/plain": [
       "'The matrix is of full rank with rank = 2'"
      ]
     },
     "execution_count": 20,
     "metadata": {},
     "output_type": "execute_result"
    }
   ],
   "source": [
    "#We of course remove the constant column (only zeros)\n",
    "x_demean = x_demean[:, 1:]\n",
    "lm.check_rank(x_demean)"
   ]
  },
  {
   "cell_type": "code",
   "execution_count": 21,
   "metadata": {},
   "outputs": [
    {
     "data": {
      "text/plain": [
       "['Log employment', 'Log capital stock']"
      ]
     },
     "execution_count": 21,
     "metadata": {},
     "output_type": "execute_result"
    }
   ],
   "source": [
    "label_x_fe = label_x[1:]\n",
    "label_x_fe"
   ]
  },
  {
   "cell_type": "code",
   "execution_count": 22,
   "metadata": {},
   "outputs": [
    {
     "name": "stdout",
     "output_type": "stream",
     "text": [
      "FE-estimation\n",
      "Dependent variable: Log of deflated sales\n",
      "\n",
      "                       Beta         Se    t-values\n",
      "-----------------  --------  ---------  ----------\n",
      "Log employment     0.696387  0.014402      48.3535\n",
      "Log capital stock  0.142663  0.0124009     11.5043\n",
      "R² = 0.492\n",
      "σ² = 0.017\n",
      "DF=4849\n",
      "N=441\n",
      "T=12\n"
     ]
    }
   ],
   "source": [
    "est_fe = lm.estimate(y=y_demean, x=x_demean, transform='fe', T=T, N=N)\n",
    "lm.print_table(labels=(label_y, label_x_fe), results=est_fe, title='FE-estimation')"
   ]
  },
  {
   "cell_type": "markdown",
   "metadata": {},
   "source": [
    "---\n",
    "\n",
    "### FD-estimation\n",
    "\n",
    "---"
   ]
  },
  {
   "cell_type": "code",
   "execution_count": 23,
   "metadata": {},
   "outputs": [
    {
     "data": {
      "text/plain": [
       "'The matrix is of full rank with rank = 2'"
      ]
     },
     "execution_count": 23,
     "metadata": {},
     "output_type": "execute_result"
    }
   ],
   "source": [
    "def fd_matrix(T):\n",
    "    D_T = -np.eye(T)+np.eye(T, k=1)\n",
    "    D_T = D_T[:-1, :]\n",
    "    return D_T\n",
    "\n",
    "D_T = fd_matrix(T)\n",
    "\n",
    "y_diff = lm.perm(D_T, y)\n",
    "x_diff = lm.perm(D_T,X)\n",
    "x_diff = x_diff[:,1:]\n",
    "\n",
    "lm.check_rank(x_diff)"
   ]
  },
  {
   "cell_type": "code",
   "execution_count": 24,
   "metadata": {},
   "outputs": [],
   "source": [
    "x_label_fd = ['Log employment', 'Log capital stock']"
   ]
  },
  {
   "cell_type": "code",
   "execution_count": 25,
   "metadata": {},
   "outputs": [
    {
     "name": "stdout",
     "output_type": "stream",
     "text": [
      "FD-estimation\n",
      "Dependent variable: Log of deflated sales\n",
      "\n",
      "                     Beta      Se    t-values\n",
      "-----------------  ------  ------  ----------\n",
      "Log employment     0.5462  0.0177     30.8264\n",
      "Log capital stock  0.0645  0.0182      3.5474\n",
      "R² = 0.174\n",
      "σ² = 0.014\n",
      "DF=4849\n",
      "N=441\n",
      "T=11\n"
     ]
    }
   ],
   "source": [
    "est_fd = lm.estimate(y_diff, x_diff, transform='fd', T=T-1, N=N)\n",
    "lm.print_table((label_y, x_label_fd), est_fd, title='FD-estimation', floatfmt='.4f')"
   ]
  },
  {
   "cell_type": "markdown",
   "metadata": {},
   "source": [
    "---\n",
    "\n",
    "# Test for serial correlation \n",
    "\n",
    "---"
   ]
  },
  {
   "cell_type": "code",
   "execution_count": 26,
   "metadata": {},
   "outputs": [],
   "source": [
    "year = np.array(dat.year)"
   ]
  },
  {
   "cell_type": "code",
   "execution_count": 34,
   "metadata": {},
   "outputs": [
    {
     "name": "stdout",
     "output_type": "stream",
     "text": [
      "\\begin{tabular}{lll}\n",
      "\\toprule\n",
      "          & {} & Serial Correlation \\\\\n",
      "\\midrule\n",
      "\\$e\\_\\{t-1\\}\\$ & {} &         -0.2141*** \\\\\n",
      "          & {} &           (0.0145) \\\\\n",
      "\\bottomrule\n",
      "\\end{tabular}\n",
      "\n"
     ]
    },
    {
     "name": "stderr",
     "output_type": "stream",
     "text": [
      "C:\\Users\\JBH\\AppData\\Local\\Temp\\ipykernel_11632\\1195511377.py:3: FutureWarning: In future versions `DataFrame.to_latex` is expected to utilise the base implementation of `Styler.to_latex` for formatting and rendering. The arguments signature may therefore change. It is recommended instead to use `DataFrame.style.to_latex` which also contains additional functionality.\n",
      "  print(pd.DataFrame(serial_corr_out)\\\n"
     ]
    }
   ],
   "source": [
    "serial_corr = lm.serial_corr(y_diff, x_diff, T=T, N=N, year=year)\n",
    "serial_corr_out =lm.outreg(serial_corr, var_labels=['$e_{t-1}$'], name='Serial Correlation')\n",
    "print(pd.DataFrame(serial_corr_out)\\\n",
    "    .rename(index={'se':'', 'beta':''})\\\n",
    "    .fillna('.')\\\n",
    "    .to_latex())"
   ]
  },
  {
   "cell_type": "markdown",
   "metadata": {},
   "source": [
    "---\n",
    "\n",
    "# Test for strict exogeneity\n",
    "\n",
    "---"
   ]
  },
  {
   "cell_type": "code",
   "execution_count": 33,
   "metadata": {},
   "outputs": [
    {
     "name": "stdout",
     "output_type": "stream",
     "text": [
      "Exogeneity test\n",
      "Dependent variable: Log of deflated sales\n",
      "\n",
      "                     Beta      Se    t-values\n",
      "-----------------  ------  ------  ----------\n",
      "Log employment     0.5560  0.0226     24.6160\n",
      "Log capital stock  0.1323  0.0129     10.2462\n",
      "Log employment +1  0.1688  0.0218      7.7312\n",
      "R² = 0.481\n",
      "σ² = 0.016\n",
      "DF=4407\n",
      "N=441\n",
      "T=11\n",
      "\\begin{tabular}{lll}\n",
      "\\toprule\n",
      "                  & {} & Strict exogeneity test \\\\\n",
      "\\midrule\n",
      "Log employment & {} &               0.556*** \\\\\n",
      "                  & {} &               (0.0226) \\\\\n",
      "Log capital stock & {} &              0.1323*** \\\\\n",
      "                  & {} &               (0.0129) \\\\\n",
      "Log employment +1 & {} &              0.1688*** \\\\\n",
      "                  & {} &               (0.0218) \\\\\n",
      "\\bottomrule\n",
      "\\end{tabular}\n",
      "\n"
     ]
    },
    {
     "name": "stderr",
     "output_type": "stream",
     "text": [
      "C:\\Users\\JBH\\AppData\\Local\\Temp\\ipykernel_11632\\70037935.py:9: FutureWarning: In future versions `DataFrame.to_latex` is expected to utilise the base implementation of `Styler.to_latex` for formatting and rendering. The arguments signature may therefore change. It is recommended instead to use `DataFrame.style.to_latex` which also contains additional functionality.\n",
      "  print(pd.DataFrame(exo_out)\\\n"
     ]
    }
   ],
   "source": [
    "#We lead log employment\n",
    "label_x_fe_lead = label_x_fe + ['Log employment +1']\n",
    "\n",
    "#We test for strict exogeneity\n",
    "#Leaving out the constant column \n",
    "est_fe_lead = lm.strict_exo_test(y=y, x=X[:,1:], T=T, N=N, lead_var=l, year=year) \n",
    "lm.print_table(results=est_fe_lead, labels=(label_y, label_x_fe_lead), title='Exogeneity test', floatfmt='.4f')\n",
    "exo_out =lm.outreg(est_fe_lead, var_labels=label_x_fe_lead, name='Strict exogeneity test')\n",
    "print(pd.DataFrame(exo_out)\\\n",
    "    .rename(index={'se':'', 'beta':''})\\\n",
    "    .fillna('.')\\\n",
    "    .to_latex())"
   ]
  },
  {
   "cell_type": "markdown",
   "metadata": {},
   "source": [
    "### WHAT DOES THIS MEAN FOR THE EXOGENEITY ASSUMPTION?"
   ]
  },
  {
   "cell_type": "markdown",
   "metadata": {},
   "source": [
    "---\n",
    "\n",
    "# Making latex table\n",
    "\n",
    "---"
   ]
  },
  {
   "cell_type": "code",
   "execution_count": null,
   "metadata": {},
   "outputs": [],
   "source": [
    "series_pols = lm.outreg(est_pols, var_labels=label_x, name='POLS')\n",
    "series_fe = lm.outreg(est_fe, var_labels=label_x_fe, name='FE')\n",
    "series_fd = lm.outreg(est_fd, var_labels=x_label_fd, name='FD')"
   ]
  },
  {
   "cell_type": "code",
   "execution_count": null,
   "metadata": {},
   "outputs": [
    {
     "name": "stdout",
     "output_type": "stream",
     "text": [
      "\\begin{tabular}{lllll}\n",
      "\\toprule\n",
      "                  & {} &       POLS &         FE &         FD \\\\\n",
      "\\midrule\n",
      "Constant & {} &        0.0 &          . &          . \\\\\n",
      "                  & {} &    (0.005) &          . &          . \\\\\n",
      "Log employment & {} &  0.6778*** &  0.6964*** &  0.5462*** \\\\\n",
      "                  & {} &   (0.0101) &   (0.0144) &   (0.0177) \\\\\n",
      "Log capital stock & {} &  0.3028*** &  0.1427*** &  0.0645*** \\\\\n",
      "                  & {} &    (0.009) &   (0.0124) &   (0.0182) \\\\\n",
      "\\bottomrule\n",
      "\\end{tabular}\n",
      "\n"
     ]
    },
    {
     "name": "stderr",
     "output_type": "stream",
     "text": [
      "C:\\Users\\JBH\\AppData\\Local\\Temp\\ipykernel_7588\\1016528693.py:7: FutureWarning: In future versions `DataFrame.to_latex` is expected to utilise the base implementation of `Styler.to_latex` for formatting and rendering. The arguments signature may therefore change. It is recommended instead to use `DataFrame.style.to_latex` which also contains additional functionality.\n",
      "  print(table1.to_latex())\n"
     ]
    }
   ],
   "source": [
    "#Merge our series on left - play around with 'right', if it makes sense for our variables\n",
    "table1 = pd.merge(series_pols, series_fe, 'left', left_index=True, right_index=True)\n",
    "table1 = pd.merge(table1, series_fd, 'left', left_index=True, right_index=True)\n",
    "\n",
    "#Make our second index column empty for pretty latex table and fill NaN with '.', if not included in regression\n",
    "table1=table1.rename(index={'se':'', 'beta':''}).fillna('.') \n",
    "print(table1.to_latex())"
   ]
  },
  {
   "cell_type": "markdown",
   "metadata": {},
   "source": [
    "### Testing the hypothesis \n",
    "\n",
    "$\\mathcal{H_0:}~\\beta_l+\\beta_k=1$ (Constant returns to scale)\n",
    "\n",
    "$\\mathcal{H_A:}~\\beta_l+\\beta_k\\neq1$ (The one-sided alternative)\n"
   ]
  },
  {
   "cell_type": "markdown",
   "metadata": {},
   "source": [
    "### Wald statistics\n",
    "\n",
    "To compute a linear hypothesis of some (more than one) coefficients, define: \n",
    "\n",
    "\\begin{align*}\n",
    "(\\mathbf{R} \\widehat{\\boldsymbol{\\beta}}-\\mathbf{R} \\boldsymbol{\\beta})^{\\prime}\\left[\\mathbf{R}(\\mathbf{V} / N) \\mathbf{R}^{\\prime}\\right]^{-1}(\\mathbf{R} \\widehat{\\boldsymbol{\\beta}}-\\mathbf{R} \\boldsymbol{\\beta}) \\stackrel{d}{\\approx} \\chi_Q^2\n",
    "\\end{align*}\n",
    "\n",
    "$Z \\equiv \\mathbf{R} \\widehat{\\boldsymbol{\\beta}}-\\mathbf{R} \\boldsymbol{\\beta}$ and $Q$ equal to the degrees of freedom. \n",
    "\n",
    "Define a linear hypothesis: $\\mathbf{R\\beta=r}$. The test $\\beta_l + \\beta_k = 1$ corresponds to\n",
    "$\\mathbf{R}=\\left[\n",
    "    \\begin{array}{ll}\n",
    "    1 & 1 \n",
    "    \\end{array}\\right]$ and $\\mathbf{r=1}$.\n",
    "\n",
    "Under $\\mathcal{H_0}$, $\\mathbf{R\\beta=r}$."
   ]
  },
  {
   "cell_type": "code",
   "execution_count": null,
   "metadata": {},
   "outputs": [
    {
     "name": "stdout",
     "output_type": "stream",
     "text": [
      "chi2_FD(4849)=[[122656.36098023]]) H_0 (FD) p-value: 0.0 \n",
      "chi2_FE(4849)=[[74256.72034182]]) H_0 (FE) p-value: 0.0\n"
     ]
    }
   ],
   "source": [
    "# Defining the matrix of which we test our K=2 regressors\n",
    "R = np.array([1,1]).reshape(-1,1).T\n",
    "\n",
    "#Collect our betas\n",
    "beta_fd_mat = est_fd['b_hat'] #FD\n",
    "beta_fe_mat = est_fe['b_hat'] #FE\n",
    "\n",
    "#Define 'Z'\n",
    "Z_fd = R@beta_fd_mat-1\n",
    "Z_fe = R@beta_fe_mat-1\n",
    "\n",
    "#Define our cov-matrix V\n",
    "V_fd = est_fd['cov']\n",
    "V_fe = est_fe['cov']\n",
    "\n",
    "#Wald-stat that converges in distribution to chi^2, with Q degrees of freedom\n",
    "chi_val_fd = Z_fd.T@np.linalg.inv(R@(V_fd/N)@R.T)@Z_fd\n",
    "chi_val_fe = Z_fe.T@np.linalg.inv(R@(V_fe/N)@R.T)@Z_fe\n",
    "\n",
    "#Compute p-values of our null hypothesis:\n",
    "p_val_fd_hypo = chi2.sf(chi_val_fd.item(), est_fd['deg_of_frees']) #FD - using degrees from our results\n",
    "p_val_fe_hypo = chi2.sf(chi_val_fe.item(), est_fe['deg_of_frees']) #FE - using degrees from our results\n",
    "\n",
    "#save degrees of freedoms\n",
    "fd_deg_of_frees = est_fd['deg_of_frees']\n",
    "fe_deg_of_frees = est_fe['deg_of_frees']\n",
    "\n",
    "#Print chi^2 stats and our p-values:\n",
    "print(\n",
    "    f'chi2_FD({fd_deg_of_frees})={chi_val_fd})', \n",
    "        'H_0 (FD) p-value:', p_val_fd_hypo, '\\n'\n",
    "    f'chi2_FE({fe_deg_of_frees})={chi_val_fe})',\n",
    "        'H_0 (FE) p-value:', p_val_fe_hypo)"
   ]
  },
  {
   "cell_type": "markdown",
   "metadata": {},
   "source": [
    "# Addendum"
   ]
  },
  {
   "cell_type": "markdown",
   "metadata": {},
   "source": [
    "Following code not included in assignment, just for sanity checks"
   ]
  },
  {
   "cell_type": "markdown",
   "metadata": {},
   "source": [
    "---\n",
    "\n",
    "### FE with time fixed effects\n",
    "\n",
    "NB! From the assignment description, it seems that the cross-sectional mean has already been subtracted from the data. \n",
    "Can we even do FE then? \n",
    "\n",
    "---"
   ]
  },
  {
   "cell_type": "code",
   "execution_count": null,
   "metadata": {},
   "outputs": [],
   "source": [
    "ones = np.ones((N*T,1))\n",
    "l = dat.lemp.values.reshape((N*T,1))\n",
    "k = dat.lcap.values.reshape((N*T,1))\n",
    "year = dat.year.values.reshape((N*T,1))\n",
    "X_time_fe=np.hstack((ones,l,k,year))"
   ]
  },
  {
   "cell_type": "code",
   "execution_count": null,
   "metadata": {},
   "outputs": [
    {
     "data": {
      "text/plain": [
       "array([1967, 1968, 1969, 1970, 1971, 1972, 1973, 1974, 1975, 1976, 1977,\n",
       "       1978], dtype=int64)"
      ]
     },
     "metadata": {},
     "output_type": "display_data"
    }
   ],
   "source": [
    "dat.year.unique()"
   ]
  },
  {
   "cell_type": "code",
   "execution_count": null,
   "metadata": {},
   "outputs": [
    {
     "name": "stdout",
     "output_type": "stream",
     "text": [
      "[[0. 0. 0. ... 0. 0. 0.]\n",
      " [1. 0. 0. ... 0. 0. 0.]\n",
      " [0. 1. 0. ... 0. 0. 0.]\n",
      " ...\n",
      " [0. 0. 0. ... 1. 0. 0.]\n",
      " [0. 0. 0. ... 0. 1. 0.]\n",
      " [0. 0. 0. ... 0. 0. 1.]] \n",
      "\n",
      " (5292, 11)\n"
     ]
    }
   ],
   "source": [
    "dummy = np.eye(T, k=-1) #For T=time periods \n",
    "dummy = dummy[: , :-1] #Rule out due to dummy trap\n",
    "dummy_dummy = np.tile(dummy, (N,1))\n",
    "print(dummy_dummy, '\\n\\n', dummy_dummy.shape)"
   ]
  },
  {
   "cell_type": "code",
   "execution_count": null,
   "metadata": {},
   "outputs": [],
   "source": [
    "#x_demean_time_dum = np.hstack((x_demean,dummy_dummy))\n",
    "\n",
    "x_demean_time_dum = lm.perm(Q_T, X_time_fe)\n",
    "x_demean_time_dum = x_demean_time_dum[:, 1:3:]\n",
    "x_demean_time_dum = np.hstack((x_demean_time_dum, dummy_dummy))\n",
    "#x_demean_time_dum = np.hstack((x_demean_time_dum[0, 1:], dummy_dummy))\n",
    "label_x_fe_time = ['Log employment', 'Log capital stock', \n",
    "'1968', '1969', '1970', '1971', '1972', \n",
    "'1973', '1974', '1975', '1976', '1977', '1978']"
   ]
  },
  {
   "cell_type": "code",
   "execution_count": null,
   "metadata": {},
   "outputs": [
    {
     "data": {
      "text/plain": [
       "(5292, 13)"
      ]
     },
     "metadata": {},
     "output_type": "display_data"
    }
   ],
   "source": [
    "x_demean_time_dum.shape"
   ]
  },
  {
   "cell_type": "code",
   "execution_count": null,
   "metadata": {},
   "outputs": [
    {
     "data": {
      "text/html": [
       "<div>\n",
       "<style scoped>\n",
       "    .dataframe tbody tr th:only-of-type {\n",
       "        vertical-align: middle;\n",
       "    }\n",
       "\n",
       "    .dataframe tbody tr th {\n",
       "        vertical-align: top;\n",
       "    }\n",
       "\n",
       "    .dataframe thead th {\n",
       "        text-align: right;\n",
       "    }\n",
       "</style>\n",
       "<table border=\"1\" class=\"dataframe\">\n",
       "  <thead>\n",
       "    <tr style=\"text-align: right;\">\n",
       "      <th></th>\n",
       "      <th>Log employment</th>\n",
       "      <th>Log capital stock</th>\n",
       "      <th>1968</th>\n",
       "      <th>1969</th>\n",
       "      <th>1970</th>\n",
       "      <th>1971</th>\n",
       "      <th>1972</th>\n",
       "      <th>1973</th>\n",
       "      <th>1974</th>\n",
       "      <th>1975</th>\n",
       "      <th>1976</th>\n",
       "      <th>1977</th>\n",
       "      <th>1978</th>\n",
       "    </tr>\n",
       "  </thead>\n",
       "  <tbody>\n",
       "    <tr>\n",
       "      <th>0</th>\n",
       "      <td>0.025516</td>\n",
       "      <td>0.135761</td>\n",
       "      <td>0.0</td>\n",
       "      <td>0.0</td>\n",
       "      <td>0.0</td>\n",
       "      <td>0.0</td>\n",
       "      <td>0.0</td>\n",
       "      <td>0.0</td>\n",
       "      <td>0.0</td>\n",
       "      <td>0.0</td>\n",
       "      <td>0.0</td>\n",
       "      <td>0.0</td>\n",
       "      <td>0.0</td>\n",
       "    </tr>\n",
       "    <tr>\n",
       "      <th>1</th>\n",
       "      <td>0.053513</td>\n",
       "      <td>0.094463</td>\n",
       "      <td>1.0</td>\n",
       "      <td>0.0</td>\n",
       "      <td>0.0</td>\n",
       "      <td>0.0</td>\n",
       "      <td>0.0</td>\n",
       "      <td>0.0</td>\n",
       "      <td>0.0</td>\n",
       "      <td>0.0</td>\n",
       "      <td>0.0</td>\n",
       "      <td>0.0</td>\n",
       "      <td>0.0</td>\n",
       "    </tr>\n",
       "    <tr>\n",
       "      <th>2</th>\n",
       "      <td>0.054420</td>\n",
       "      <td>0.021075</td>\n",
       "      <td>0.0</td>\n",
       "      <td>1.0</td>\n",
       "      <td>0.0</td>\n",
       "      <td>0.0</td>\n",
       "      <td>0.0</td>\n",
       "      <td>0.0</td>\n",
       "      <td>0.0</td>\n",
       "      <td>0.0</td>\n",
       "      <td>0.0</td>\n",
       "      <td>0.0</td>\n",
       "      <td>0.0</td>\n",
       "    </tr>\n",
       "    <tr>\n",
       "      <th>3</th>\n",
       "      <td>0.030564</td>\n",
       "      <td>-0.024522</td>\n",
       "      <td>0.0</td>\n",
       "      <td>0.0</td>\n",
       "      <td>1.0</td>\n",
       "      <td>0.0</td>\n",
       "      <td>0.0</td>\n",
       "      <td>0.0</td>\n",
       "      <td>0.0</td>\n",
       "      <td>0.0</td>\n",
       "      <td>0.0</td>\n",
       "      <td>0.0</td>\n",
       "      <td>0.0</td>\n",
       "    </tr>\n",
       "    <tr>\n",
       "      <th>4</th>\n",
       "      <td>-0.022177</td>\n",
       "      <td>-0.061041</td>\n",
       "      <td>0.0</td>\n",
       "      <td>0.0</td>\n",
       "      <td>0.0</td>\n",
       "      <td>1.0</td>\n",
       "      <td>0.0</td>\n",
       "      <td>0.0</td>\n",
       "      <td>0.0</td>\n",
       "      <td>0.0</td>\n",
       "      <td>0.0</td>\n",
       "      <td>0.0</td>\n",
       "      <td>0.0</td>\n",
       "    </tr>\n",
       "  </tbody>\n",
       "</table>\n",
       "</div>"
      ],
      "text/plain": [
       "   Log employment  Log capital stock  1968  1969  1970  1971  1972  1973  \\\n",
       "0        0.025516           0.135761   0.0   0.0   0.0   0.0   0.0   0.0   \n",
       "1        0.053513           0.094463   1.0   0.0   0.0   0.0   0.0   0.0   \n",
       "2        0.054420           0.021075   0.0   1.0   0.0   0.0   0.0   0.0   \n",
       "3        0.030564          -0.024522   0.0   0.0   1.0   0.0   0.0   0.0   \n",
       "4       -0.022177          -0.061041   0.0   0.0   0.0   1.0   0.0   0.0   \n",
       "\n",
       "   1974  1975  1976  1977  1978  \n",
       "0   0.0   0.0   0.0   0.0   0.0  \n",
       "1   0.0   0.0   0.0   0.0   0.0  \n",
       "2   0.0   0.0   0.0   0.0   0.0  \n",
       "3   0.0   0.0   0.0   0.0   0.0  \n",
       "4   0.0   0.0   0.0   0.0   0.0  "
      ]
     },
     "metadata": {},
     "output_type": "display_data"
    }
   ],
   "source": [
    "pd.DataFrame(x_demean_time_dum, columns=label_x_fe_time).head()"
   ]
  },
  {
   "cell_type": "code",
   "execution_count": null,
   "metadata": {},
   "outputs": [
    {
     "data": {
      "text/plain": [
       "'The matrix is of full rank with rank = 13'"
      ]
     },
     "metadata": {},
     "output_type": "display_data"
    }
   ],
   "source": [
    "lm.check_rank(x_demean_time_dum)"
   ]
  },
  {
   "cell_type": "code",
   "execution_count": null,
   "metadata": {},
   "outputs": [
    {
     "name": "stdout",
     "output_type": "stream",
     "text": [
      "Time FE estimation\n",
      "Dependent variable: Log of deflated sales\n",
      "\n",
      "                           Beta          Se      t-values\n",
      "-----------------  ------------  ----------  ------------\n",
      "Log employment      0.696387     0.0144184   48.2986\n",
      "Log capital stock   0.142663     0.012415    11.4912\n",
      "1968               -1.024e-07    0.00630055  -1.62525e-05\n",
      "1969                6.76665e-08  0.00630055   1.07398e-05\n",
      "1970                5.92738e-08  0.00630055   9.40773e-06\n",
      "1971               -9.89383e-08  0.00630055  -1.57031e-05\n",
      "1972               -6.75207e-08  0.00630055  -1.07166e-05\n",
      "1973               -1.73717e-07  0.00630055  -2.75718e-05\n",
      "1974                1.36027e-07  0.00630055   2.15897e-05\n",
      "1975                3.17182e-08  0.00630055   5.0342e-06\n",
      "1976                6.68997e-08  0.00630055   1.06181e-05\n",
      "1977                7.03834e-08  0.00630055   1.1171e-05\n",
      "1978               -8.05727e-08  0.00630055  -1.27882e-05\n",
      "R² = 0.492\n",
      "σ² = 0.018\n",
      "DF=4838\n",
      "N=441\n",
      "T=12\n"
     ]
    }
   ],
   "source": [
    "est_fe_time = lm.estimate(y=y_demean, x=x_demean_time_dum, transform='fe', T=T, N=N)\n",
    "lm.print_table(labels=(label_y, label_x_fe_time), results=est_fe_time, title='Time FE estimation')"
   ]
  },
  {
   "cell_type": "markdown",
   "metadata": {},
   "source": [
    "---\n",
    "\n",
    "Random effects (NB! should not be in assignment 1, probably...)\n",
    "\n",
    "---"
   ]
  },
  {
   "cell_type": "markdown",
   "metadata": {},
   "source": [
    "### Between Estimator"
   ]
  },
  {
   "cell_type": "code",
   "execution_count": null,
   "metadata": {},
   "outputs": [],
   "source": [
    "def between_mat(T):\n",
    "    P_T = np.tile(1/T, (1,T))\n",
    "    return P_T\n",
    "P_T = between_mat(T)"
   ]
  },
  {
   "cell_type": "code",
   "execution_count": null,
   "metadata": {},
   "outputs": [
    {
     "data": {
      "text/plain": [
       "'The matrix is of full rank with rank = 3'"
      ]
     },
     "metadata": {},
     "output_type": "display_data"
    }
   ],
   "source": [
    "y_be = lm.perm(P_T, y)\n",
    "x_be = lm.perm(P_T, X)\n",
    "lm.check_rank(x_be)"
   ]
  },
  {
   "cell_type": "code",
   "execution_count": null,
   "metadata": {},
   "outputs": [
    {
     "name": "stdout",
     "output_type": "stream",
     "text": [
      "BE-estimator\n",
      "Dependent variable: Log of deflated sales\n",
      "\n",
      "                          Beta         Se      t-values\n",
      "-----------------  -----------  ---------  ------------\n",
      "Constant           2.87389e-08  0.0161038   1.78461e-06\n",
      "Log employment     0.669482     0.0340281  19.6744\n",
      "Log capital stock  0.312461     0.0305549  10.2262\n",
      "R² = 0.924\n",
      "σ² = 0.114\n",
      "DF=438\n",
      "N=441\n",
      "T=12\n"
     ]
    }
   ],
   "source": [
    "est_be = lm.estimate(y=y_be, x=x_be, transform='be', T=T, N=N)\n",
    "lm.print_table(labels=(label_y, label_x), results=est_be, title='BE-estimator')"
   ]
  },
  {
   "cell_type": "code",
   "execution_count": null,
   "metadata": {},
   "outputs": [
    {
     "name": "stdout",
     "output_type": "stream",
     "text": [
      "0.8871848347640463\n"
     ]
    }
   ],
   "source": [
    "from math import sqrt\n",
    "\n",
    "sigma2_u = est_fe['sigma'] # fill in\n",
    "sigma2_c = est_be['sigma']-1/T*est_fe['sigma'] # fill in\n",
    "_lambda = 1-sqrt(sigma2_u/(sigma2_u+T*sigma2_c)) # fill in\n",
    "print(_lambda)"
   ]
  },
  {
   "cell_type": "markdown",
   "metadata": {},
   "source": [
    "Since we have to use $\\hat{\\lambda}$ to quasi-demean within each individual, we again use the `perm` function. This time, we pass it the following transformation matrix,\n",
    "\n",
    "$$\n",
    "\\mathbf{C}_{T}:=\\mathbf{I}_{T} - \\hat{\\lambda}\\mathbf{P}_{T},\n",
    "$$\n",
    "\n",
    "where $\\mathbf{P}_{T}$ is the $1 \\times T$ transformation vector we used earlier to calculate the mean of each person."
   ]
  },
  {
   "cell_type": "code",
   "execution_count": null,
   "metadata": {},
   "outputs": [],
   "source": [
    "def quasi_demean_mat(T, _lambda):\n",
    "    P_T = between_mat(T)\n",
    "    C_T = np.eye(T)-_lambda*P_T\n",
    "    return C_T\n",
    "C_T = quasi_demean_mat(T, _lambda)"
   ]
  },
  {
   "cell_type": "code",
   "execution_count": null,
   "metadata": {},
   "outputs": [
    {
     "data": {
      "text/plain": [
       "'The matrix is of full rank with rank = 3'"
      ]
     },
     "metadata": {},
     "output_type": "display_data"
    }
   ],
   "source": [
    "y_re = lm.perm(C_T, y)\n",
    "x_re = lm.perm(C_T, X) \n",
    "lm.check_rank(x_re)"
   ]
  },
  {
   "cell_type": "code",
   "execution_count": null,
   "metadata": {},
   "outputs": [
    {
     "name": "stdout",
     "output_type": "stream",
     "text": [
      "Results\n",
      "Dependent variable: Log of deflated sales\n",
      "\n",
      "                          Beta         Se      t-values\n",
      "-----------------  -----------  ---------  ------------\n",
      "Constant           2.74622e-08  0.0162257   1.69252e-06\n",
      "Log employment     0.723451     0.0129053  56.0583\n",
      "Log capital stock  0.185157     0.0113065  16.3762\n",
      "R² = 0.649\n",
      "σ² = 0.018\n",
      "DF=5289\n",
      "N=441\n",
      "T=12\n",
      "None lambda= 0.8871848347640463\n"
     ]
    }
   ],
   "source": [
    "est_re = lm.estimate(y=y_re, x=x_re, transform='re', T=T, N=N)\n",
    "print(lm.print_table(labels=(label_y, label_x), results=est_re), 'lambda=',_lambda)"
   ]
  }
 ],
 "metadata": {
  "kernelspec": {
   "display_name": "Python 3.9.13 ('base')",
   "language": "python",
   "name": "python3"
  },
  "language_info": {
   "codemirror_mode": {
    "name": "ipython",
    "version": 3
   },
   "file_extension": ".py",
   "mimetype": "text/x-python",
   "name": "python",
   "nbconvert_exporter": "python",
   "pygments_lexer": "ipython3",
   "version": "3.9.13"
  },
  "orig_nbformat": 4,
  "vscode": {
   "interpreter": {
    "hash": "054e95b4819972eba8d406807e822e3be9cca805528e86310f8e3ac8dc287778"
   }
  }
 },
 "nbformat": 4,
 "nbformat_minor": 2
}
