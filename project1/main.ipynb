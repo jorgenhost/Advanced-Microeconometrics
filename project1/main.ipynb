{
 "cells": [
  {
   "cell_type": "markdown",
   "metadata": {},
   "source": [
    "# Production Technology\n",
    "\n",
    "The dataset contains `N = 441` firms observed over `T = 12` years, 1967-1978. There variables are: \n",
    "* `lcap`: Log of capital stock, $k_{it}$ \n",
    "* `lemp`: log of employment, $\\ell_{it}$ \n",
    "* `ldsa`: log of deflated sales, $y_{it}$\n",
    "* `year`: the calendar year of the observation, `year` $ = 1967, ..., 1978$, \n",
    "* `firmid`: anonymized indicator variable for the firm, $i = 1, ..., N$, with $N=441$. "
   ]
  },
  {
   "cell_type": "code",
   "execution_count": 1,
   "metadata": {},
   "outputs": [
    {
     "name": "stderr",
     "output_type": "stream",
     "text": [
      "C:\\Users\\JBH\\AppData\\Local\\Temp\\ipykernel_19016\\1377799596.py:11: MatplotlibDeprecationWarning: The seaborn styles shipped by Matplotlib are deprecated since 3.6, as they no longer correspond to the styles shipped by seaborn. However, they will remain available as 'seaborn-v0_8-<style>'. Alternatively, directly use the seaborn API instead.\n",
      "  plt.style.use('seaborn-whitegrid')\n"
     ]
    }
   ],
   "source": [
    "import pandas as pd \n",
    "import numpy as np \n",
    "from scipy.stats import chi2\n",
    "import LinearModels as lm\n",
    "\n",
    "# Plotting \n",
    "import matplotlib.pyplot as plt \n",
    "import seaborn as sns\n",
    "from matplotlib.lines import Line2D\n",
    "\n",
    "plt.style.use('seaborn-whitegrid')\n",
    "%matplotlib inline\n",
    "\n",
    "plt.rc('font', size=10)             # controls default text sizes\n",
    "plt.rc('axes', titlesize=12)        # fontsize of the axes title\n",
    "plt.rc('axes', labelsize=12)        # fontsize of the x and y labels\n",
    "plt.rc('xtick', labelsize=11)       # fontsize of the tick labels\n",
    "plt.rc('ytick', labelsize=11)       # fontsize of the tick labels\n",
    "plt.rc('legend', fontsize=11)       # legend fontsize\n",
    "plt.rc('figure', titlesize=15)      # fontsize of the figure title\n",
    "\n",
    "plt.rcParams['figure.figsize'] = 12, 4 # set default size of plots\n"
   ]
  },
  {
   "cell_type": "code",
   "execution_count": 2,
   "metadata": {},
   "outputs": [],
   "source": [
    "dat = pd.read_csv('firms.csv')"
   ]
  },
  {
   "cell_type": "code",
   "execution_count": 3,
   "metadata": {},
   "outputs": [],
   "source": [
    "dat.to_stata('firms.dta')"
   ]
  },
  {
   "cell_type": "code",
   "execution_count": 4,
   "metadata": {},
   "outputs": [
    {
     "data": {
      "text/html": [
       "<div>\n",
       "<style scoped>\n",
       "    .dataframe tbody tr th:only-of-type {\n",
       "        vertical-align: middle;\n",
       "    }\n",
       "\n",
       "    .dataframe tbody tr th {\n",
       "        vertical-align: top;\n",
       "    }\n",
       "\n",
       "    .dataframe thead th {\n",
       "        text-align: right;\n",
       "    }\n",
       "</style>\n",
       "<table border=\"1\" class=\"dataframe\">\n",
       "  <thead>\n",
       "    <tr style=\"text-align: right;\">\n",
       "      <th></th>\n",
       "      <th>firmid</th>\n",
       "      <th>year</th>\n",
       "      <th>lcap</th>\n",
       "      <th>lemp</th>\n",
       "      <th>ldsa</th>\n",
       "    </tr>\n",
       "  </thead>\n",
       "  <tbody>\n",
       "    <tr>\n",
       "      <th>0</th>\n",
       "      <td>1</td>\n",
       "      <td>1967</td>\n",
       "      <td>1.039900</td>\n",
       "      <td>-0.270182</td>\n",
       "      <td>0.396948</td>\n",
       "    </tr>\n",
       "    <tr>\n",
       "      <th>1</th>\n",
       "      <td>1</td>\n",
       "      <td>1968</td>\n",
       "      <td>0.998602</td>\n",
       "      <td>-0.242185</td>\n",
       "      <td>0.349053</td>\n",
       "    </tr>\n",
       "    <tr>\n",
       "      <th>2</th>\n",
       "      <td>1</td>\n",
       "      <td>1969</td>\n",
       "      <td>0.925214</td>\n",
       "      <td>-0.241278</td>\n",
       "      <td>0.312492</td>\n",
       "    </tr>\n",
       "    <tr>\n",
       "      <th>3</th>\n",
       "      <td>1</td>\n",
       "      <td>1970</td>\n",
       "      <td>0.879616</td>\n",
       "      <td>-0.265134</td>\n",
       "      <td>0.347566</td>\n",
       "    </tr>\n",
       "    <tr>\n",
       "      <th>4</th>\n",
       "      <td>1</td>\n",
       "      <td>1971</td>\n",
       "      <td>0.843098</td>\n",
       "      <td>-0.317875</td>\n",
       "      <td>0.234744</td>\n",
       "    </tr>\n",
       "    <tr>\n",
       "      <th>...</th>\n",
       "      <td>...</td>\n",
       "      <td>...</td>\n",
       "      <td>...</td>\n",
       "      <td>...</td>\n",
       "      <td>...</td>\n",
       "    </tr>\n",
       "    <tr>\n",
       "      <th>5287</th>\n",
       "      <td>441</td>\n",
       "      <td>1974</td>\n",
       "      <td>-1.044260</td>\n",
       "      <td>-1.084540</td>\n",
       "      <td>-0.542948</td>\n",
       "    </tr>\n",
       "    <tr>\n",
       "      <th>5288</th>\n",
       "      <td>441</td>\n",
       "      <td>1975</td>\n",
       "      <td>-1.006080</td>\n",
       "      <td>-0.956662</td>\n",
       "      <td>-0.547157</td>\n",
       "    </tr>\n",
       "    <tr>\n",
       "      <th>5289</th>\n",
       "      <td>441</td>\n",
       "      <td>1976</td>\n",
       "      <td>-0.891433</td>\n",
       "      <td>-0.775592</td>\n",
       "      <td>-0.319247</td>\n",
       "    </tr>\n",
       "    <tr>\n",
       "      <th>5290</th>\n",
       "      <td>441</td>\n",
       "      <td>1977</td>\n",
       "      <td>-0.719267</td>\n",
       "      <td>-0.672649</td>\n",
       "      <td>-0.084397</td>\n",
       "    </tr>\n",
       "    <tr>\n",
       "      <th>5291</th>\n",
       "      <td>441</td>\n",
       "      <td>1978</td>\n",
       "      <td>-0.536874</td>\n",
       "      <td>-0.623978</td>\n",
       "      <td>-0.134301</td>\n",
       "    </tr>\n",
       "  </tbody>\n",
       "</table>\n",
       "<p>5292 rows × 5 columns</p>\n",
       "</div>"
      ],
      "text/plain": [
       "      firmid  year      lcap      lemp      ldsa\n",
       "0          1  1967  1.039900 -0.270182  0.396948\n",
       "1          1  1968  0.998602 -0.242185  0.349053\n",
       "2          1  1969  0.925214 -0.241278  0.312492\n",
       "3          1  1970  0.879616 -0.265134  0.347566\n",
       "4          1  1971  0.843098 -0.317875  0.234744\n",
       "...      ...   ...       ...       ...       ...\n",
       "5287     441  1974 -1.044260 -1.084540 -0.542948\n",
       "5288     441  1975 -1.006080 -0.956662 -0.547157\n",
       "5289     441  1976 -0.891433 -0.775592 -0.319247\n",
       "5290     441  1977 -0.719267 -0.672649 -0.084397\n",
       "5291     441  1978 -0.536874 -0.623978 -0.134301\n",
       "\n",
       "[5292 rows x 5 columns]"
      ]
     },
     "execution_count": 4,
     "metadata": {},
     "output_type": "execute_result"
    }
   ],
   "source": [
    "dat"
   ]
  },
  {
   "cell_type": "code",
   "execution_count": 5,
   "metadata": {},
   "outputs": [
    {
     "data": {
      "text/html": [
       "<div>\n",
       "<style scoped>\n",
       "    .dataframe tbody tr th:only-of-type {\n",
       "        vertical-align: middle;\n",
       "    }\n",
       "\n",
       "    .dataframe tbody tr th {\n",
       "        vertical-align: top;\n",
       "    }\n",
       "\n",
       "    .dataframe thead th {\n",
       "        text-align: right;\n",
       "    }\n",
       "</style>\n",
       "<table border=\"1\" class=\"dataframe\">\n",
       "  <thead>\n",
       "    <tr style=\"text-align: right;\">\n",
       "      <th></th>\n",
       "      <th>firmid</th>\n",
       "      <th>year</th>\n",
       "      <th>lcap</th>\n",
       "      <th>lemp</th>\n",
       "      <th>ldsa</th>\n",
       "    </tr>\n",
       "  </thead>\n",
       "  <tbody>\n",
       "    <tr>\n",
       "      <th>1843</th>\n",
       "      <td>154</td>\n",
       "      <td>1974</td>\n",
       "      <td>-0.286306</td>\n",
       "      <td>-0.155416</td>\n",
       "      <td>-0.095561</td>\n",
       "    </tr>\n",
       "    <tr>\n",
       "      <th>1331</th>\n",
       "      <td>111</td>\n",
       "      <td>1978</td>\n",
       "      <td>-0.635853</td>\n",
       "      <td>-0.703098</td>\n",
       "      <td>-0.113424</td>\n",
       "    </tr>\n",
       "    <tr>\n",
       "      <th>1505</th>\n",
       "      <td>126</td>\n",
       "      <td>1972</td>\n",
       "      <td>0.985902</td>\n",
       "      <td>0.811446</td>\n",
       "      <td>0.676142</td>\n",
       "    </tr>\n",
       "    <tr>\n",
       "      <th>4197</th>\n",
       "      <td>350</td>\n",
       "      <td>1976</td>\n",
       "      <td>-0.613566</td>\n",
       "      <td>-0.591609</td>\n",
       "      <td>-0.731731</td>\n",
       "    </tr>\n",
       "    <tr>\n",
       "      <th>4216</th>\n",
       "      <td>352</td>\n",
       "      <td>1971</td>\n",
       "      <td>0.078849</td>\n",
       "      <td>0.413398</td>\n",
       "      <td>0.131373</td>\n",
       "    </tr>\n",
       "  </tbody>\n",
       "</table>\n",
       "</div>"
      ],
      "text/plain": [
       "      firmid  year      lcap      lemp      ldsa\n",
       "1843     154  1974 -0.286306 -0.155416 -0.095561\n",
       "1331     111  1978 -0.635853 -0.703098 -0.113424\n",
       "1505     126  1972  0.985902  0.811446  0.676142\n",
       "4197     350  1976 -0.613566 -0.591609 -0.731731\n",
       "4216     352  1971  0.078849  0.413398  0.131373"
      ]
     },
     "execution_count": 5,
     "metadata": {},
     "output_type": "execute_result"
    }
   ],
   "source": [
    "dat.sample(5)"
   ]
  },
  {
   "cell_type": "code",
   "execution_count": 6,
   "metadata": {},
   "outputs": [
    {
     "data": {
      "text/plain": [
       "array([1967, 1968, 1969, 1970, 1971, 1972, 1973, 1974, 1975, 1976, 1977,\n",
       "       1978], dtype=int64)"
      ]
     },
     "execution_count": 6,
     "metadata": {},
     "output_type": "execute_result"
    }
   ],
   "source": [
    "dat.year.unique()"
   ]
  },
  {
   "cell_type": "markdown",
   "metadata": {},
   "source": [
    "# Descriptives"
   ]
  },
  {
   "cell_type": "code",
   "execution_count": 7,
   "metadata": {},
   "outputs": [
    {
     "data": {
      "text/html": [
       "<div>\n",
       "<style scoped>\n",
       "    .dataframe tbody tr th:only-of-type {\n",
       "        vertical-align: middle;\n",
       "    }\n",
       "\n",
       "    .dataframe tbody tr th {\n",
       "        vertical-align: top;\n",
       "    }\n",
       "\n",
       "    .dataframe thead th {\n",
       "        text-align: right;\n",
       "    }\n",
       "</style>\n",
       "<table border=\"1\" class=\"dataframe\">\n",
       "  <thead>\n",
       "    <tr style=\"text-align: right;\">\n",
       "      <th></th>\n",
       "      <th>firmid</th>\n",
       "      <th>year</th>\n",
       "      <th>lcap</th>\n",
       "      <th>lemp</th>\n",
       "      <th>ldsa</th>\n",
       "    </tr>\n",
       "  </thead>\n",
       "  <tbody>\n",
       "    <tr>\n",
       "      <th>count</th>\n",
       "      <td>5292.000000</td>\n",
       "      <td>5292.000000</td>\n",
       "      <td>5.292000e+03</td>\n",
       "      <td>5.292000e+03</td>\n",
       "      <td>5.292000e+03</td>\n",
       "    </tr>\n",
       "    <tr>\n",
       "      <th>mean</th>\n",
       "      <td>221.000000</td>\n",
       "      <td>1972.500000</td>\n",
       "      <td>-2.379856e-08</td>\n",
       "      <td>-3.248299e-08</td>\n",
       "      <td>-4.440665e-10</td>\n",
       "    </tr>\n",
       "    <tr>\n",
       "      <th>std</th>\n",
       "      <td>127.317437</td>\n",
       "      <td>3.452379</td>\n",
       "      <td>1.323176e+00</td>\n",
       "      <td>1.187237e+00</td>\n",
       "      <td>1.234902e+00</td>\n",
       "    </tr>\n",
       "    <tr>\n",
       "      <th>min</th>\n",
       "      <td>1.000000</td>\n",
       "      <td>1967.000000</td>\n",
       "      <td>-4.033590e+00</td>\n",
       "      <td>-3.382780e+00</td>\n",
       "      <td>-3.554090e+00</td>\n",
       "    </tr>\n",
       "    <tr>\n",
       "      <th>25%</th>\n",
       "      <td>111.000000</td>\n",
       "      <td>1969.750000</td>\n",
       "      <td>-9.251980e-01</td>\n",
       "      <td>-8.001460e-01</td>\n",
       "      <td>-9.190837e-01</td>\n",
       "    </tr>\n",
       "    <tr>\n",
       "      <th>50%</th>\n",
       "      <td>221.000000</td>\n",
       "      <td>1972.500000</td>\n",
       "      <td>-1.083100e-01</td>\n",
       "      <td>-1.147060e-01</td>\n",
       "      <td>-1.105555e-01</td>\n",
       "    </tr>\n",
       "    <tr>\n",
       "      <th>75%</th>\n",
       "      <td>331.000000</td>\n",
       "      <td>1975.250000</td>\n",
       "      <td>9.307292e-01</td>\n",
       "      <td>7.973080e-01</td>\n",
       "      <td>8.622255e-01</td>\n",
       "    </tr>\n",
       "    <tr>\n",
       "      <th>max</th>\n",
       "      <td>441.000000</td>\n",
       "      <td>1978.000000</td>\n",
       "      <td>4.103687e+00</td>\n",
       "      <td>3.371332e+00</td>\n",
       "      <td>3.913391e+00</td>\n",
       "    </tr>\n",
       "  </tbody>\n",
       "</table>\n",
       "</div>"
      ],
      "text/plain": [
       "            firmid         year          lcap          lemp          ldsa\n",
       "count  5292.000000  5292.000000  5.292000e+03  5.292000e+03  5.292000e+03\n",
       "mean    221.000000  1972.500000 -2.379856e-08 -3.248299e-08 -4.440665e-10\n",
       "std     127.317437     3.452379  1.323176e+00  1.187237e+00  1.234902e+00\n",
       "min       1.000000  1967.000000 -4.033590e+00 -3.382780e+00 -3.554090e+00\n",
       "25%     111.000000  1969.750000 -9.251980e-01 -8.001460e-01 -9.190837e-01\n",
       "50%     221.000000  1972.500000 -1.083100e-01 -1.147060e-01 -1.105555e-01\n",
       "75%     331.000000  1975.250000  9.307292e-01  7.973080e-01  8.622255e-01\n",
       "max     441.000000  1978.000000  4.103687e+00  3.371332e+00  3.913391e+00"
      ]
     },
     "execution_count": 7,
     "metadata": {},
     "output_type": "execute_result"
    }
   ],
   "source": [
    "dat.describe()"
   ]
  },
  {
   "cell_type": "code",
   "execution_count": 8,
   "metadata": {},
   "outputs": [
    {
     "data": {
      "image/png": "[encoded data removed]",
      "text/plain": [
       "<Figure size 1200x400 with 4 Axes>"
      ]
     },
     "metadata": {},
     "output_type": "display_data"
    }
   ],
   "source": [
    "dat[['lcap','lemp','ldsa']].hist(); "
   ]
  },
  {
   "cell_type": "code",
   "execution_count": 9,
   "metadata": {},
   "outputs": [
    {
     "data": {
      "text/plain": [
       "12"
      ]
     },
     "execution_count": 9,
     "metadata": {},
     "output_type": "execute_result"
    }
   ],
   "source": [
    "dat.year.unique().size"
   ]
  },
  {
   "cell_type": "markdown",
   "metadata": {},
   "source": [
    "### Making a binned scatter to graphically assess for constant returns to scale"
   ]
  },
  {
   "cell_type": "code",
   "execution_count": 10,
   "metadata": {},
   "outputs": [],
   "source": [
    "dat['total_input']=dat['lcap']+dat['lemp']"
   ]
  },
  {
   "cell_type": "code",
   "execution_count": 11,
   "metadata": {},
   "outputs": [
    {
     "data": {
      "image/png": "[encoded data removed]",
      "text/plain": [
       "<Figure size 1200x400 with 3 Axes>"
      ]
     },
     "metadata": {},
     "output_type": "display_data"
    }
   ],
   "source": [
    "binplot, ax = plt.subplots(1,3, sharex=True)\n",
    "\n",
    "\n",
    "sns.regplot(ax=ax[0], data=dat, y='ldsa', x='lemp', x_bins=50, color='red', fit_reg=False, ci=95)\n",
    "ax[0].set_xlabel('Log employment $l_{it}$')\n",
    "ax[0].set_ylabel('Log sales $y_{it}$')\n",
    "\n",
    "sns.regplot(ax=ax[1], data=dat, y='ldsa', x='lcap', x_bins=50, color='blue', fit_reg=False, ci=95)\n",
    "ax[1].set_xlabel('Log capital $k_{it}$')\n",
    "ax[1].set_ylabel('')\n",
    "\n",
    "sns.regplot(ax=ax[2], data=dat, y='ldsa', x='total_input', x_bins=50, color='purple', fit_reg=False, ci=95)\n",
    "ax[2].set_xlabel('Total input')\n",
    "ax[2].set_ylabel('')\n",
    "\n",
    "straight_line = Line2D(ydata=np.array([-5,5]), xdata=np.array([-5,5]))\n",
    "\n",
    "ax[2].add_line(straight_line)\n",
    "\n",
    "plt.savefig('fig1.pdf', bbox_inches='tight')"
   ]
  },
  {
   "cell_type": "markdown",
   "metadata": {},
   "source": [
    "# Converting data to numpy format "
   ]
  },
  {
   "cell_type": "code",
   "execution_count": 12,
   "metadata": {},
   "outputs": [
    {
     "data": {
      "text/plain": [
       "(5292,)"
      ]
     },
     "execution_count": 12,
     "metadata": {},
     "output_type": "execute_result"
    }
   ],
   "source": [
    "dat.ldsa.values.shape"
   ]
  },
  {
   "cell_type": "code",
   "execution_count": 13,
   "metadata": {},
   "outputs": [
    {
     "name": "stdout",
     "output_type": "stream",
     "text": [
      "Data has N=441 and T=12\n"
     ]
    }
   ],
   "source": [
    "N = dat.firmid.unique().size\n",
    "T = dat.year.unique().size\n",
    "assert dat.shape[0] == N*T, f'Error: data is not a balanced panel'\n",
    "print(f'Data has N={N} and T={T}')"
   ]
  },
  {
   "cell_type": "markdown",
   "metadata": {},
   "source": [
    "Extract data from `pandas` to `numpy` arrays. "
   ]
  },
  {
   "cell_type": "code",
   "execution_count": 14,
   "metadata": {},
   "outputs": [],
   "source": [
    "y = dat.ldsa.values.reshape((N*T,1))\n",
    "\n",
    "ones = np.ones((N*T,1))\n",
    "l = dat.lemp.values.reshape((N*T,1))\n",
    "k = dat.lcap.values.reshape((N*T,1))\n",
    "X = np.hstack([l, k])\n",
    "\n",
    "clusters=dat.firmid.values.reshape(N*T, 1)"
   ]
  },
  {
   "cell_type": "markdown",
   "metadata": {},
   "source": [
    "---"
   ]
  },
  {
   "cell_type": "code",
   "execution_count": 15,
   "metadata": {},
   "outputs": [
    {
     "name": "stdout",
     "output_type": "stream",
     "text": [
      "Pooled OLS\n",
      "Dependent variable: Log of deflated sales\n",
      "\n",
      "                     Beta      Se    t-values\n",
      "-----------------  ------  ------  ----------\n",
      "Log employment     0.6778  0.0101     67.3336\n",
      "Log capital stock  0.3028  0.0090     33.5190\n",
      "R² = 0.914\n",
      "σ² = 0.130\n",
      "DF=5290\n",
      "N=441\n",
      "T=12\n"
     ]
    },
    {
     "name": "stderr",
     "output_type": "stream",
     "text": [
      "c:\\Users\\JBH\\anaconda3\\lib\\site-packages\\tabulate\\__init__.py:108: FutureWarning: elementwise comparison failed; returning scalar instead, but in the future will perform elementwise comparison\n",
      "  or (len(row) >= 2 and row[1] == SEPARATING_LINE)\n"
     ]
    }
   ],
   "source": [
    "est_pols = lm.estimate(y,X, N=N, T=T)\n",
    "label_y = 'Log of deflated sales'\n",
    "label_x = ['Log employment', 'Log capital stock']\n",
    "\n",
    "lm.print_table(labels=(label_y, label_x), results=est_pols, title='Pooled OLS', floatfmt='.4f')"
   ]
  },
  {
   "cell_type": "markdown",
   "metadata": {},
   "source": [
    "---\n",
    "\n",
    "### FE-estimation\n",
    "\n",
    "---"
   ]
  },
  {
   "cell_type": "code",
   "execution_count": 16,
   "metadata": {},
   "outputs": [],
   "source": [
    "def demeaning_matrix(T):\n",
    "    Q_T = np.eye(T)-np.tile(1/T,T)\n",
    "    return Q_T"
   ]
  },
  {
   "cell_type": "code",
   "execution_count": 17,
   "metadata": {},
   "outputs": [],
   "source": [
    "Q_T = demeaning_matrix(T)\n",
    "y_demean = lm.perm(Q_T, y)\n",
    "x_demean = lm.perm(Q_T,X)"
   ]
  },
  {
   "cell_type": "code",
   "execution_count": 18,
   "metadata": {},
   "outputs": [
    {
     "data": {
      "text/plain": [
       "(5292, 2)"
      ]
     },
     "execution_count": 18,
     "metadata": {},
     "output_type": "execute_result"
    }
   ],
   "source": [
    "x_demean.shape"
   ]
  },
  {
   "cell_type": "code",
   "execution_count": 19,
   "metadata": {},
   "outputs": [
    {
     "data": {
      "text/plain": [
       "'The matrix is of full rank with rank = 2'"
      ]
     },
     "execution_count": 19,
     "metadata": {},
     "output_type": "execute_result"
    }
   ],
   "source": [
    "#Checking the rank condition\n",
    "lm.check_rank(x_demean)"
   ]
  },
  {
   "cell_type": "code",
   "execution_count": 21,
   "metadata": {},
   "outputs": [
    {
     "data": {
      "text/plain": [
       "['Log employment', 'Log capital stock']"
      ]
     },
     "execution_count": 21,
     "metadata": {},
     "output_type": "execute_result"
    }
   ],
   "source": [
    "label_x_fe = label_x\n",
    "label_x_fe"
   ]
  },
  {
   "cell_type": "code",
   "execution_count": 22,
   "metadata": {},
   "outputs": [
    {
     "name": "stdout",
     "output_type": "stream",
     "text": [
      "FE-estimation\n",
      "Dependent variable: Log of deflated sales\n",
      "\n",
      "                       Beta         Se    t-values\n",
      "-----------------  --------  ---------  ----------\n",
      "Log employment     0.696387  0.014402      48.3535\n",
      "Log capital stock  0.142663  0.0124009     11.5043\n",
      "R² = 0.492\n",
      "σ² = 0.017\n",
      "DF=4849\n",
      "N=441\n",
      "T=12\n"
     ]
    }
   ],
   "source": [
    "est_fe = lm.estimate(y=y_demean, x=x_demean, transform='fe', T=T, N=N)\n",
    "lm.print_table(labels=(label_y, label_x_fe), results=est_fe, title='FE-estimation')"
   ]
  },
  {
   "cell_type": "markdown",
   "metadata": {},
   "source": [
    "---\n",
    "\n",
    "### FD-estimation\n",
    "\n",
    "---"
   ]
  },
  {
   "cell_type": "code",
   "execution_count": 23,
   "metadata": {},
   "outputs": [
    {
     "data": {
      "text/plain": [
       "'The matrix is of full rank with rank = 2'"
      ]
     },
     "execution_count": 23,
     "metadata": {},
     "output_type": "execute_result"
    }
   ],
   "source": [
    "def fd_matrix(T):\n",
    "    D_T = -np.eye(T)+np.eye(T, k=1)\n",
    "    D_T = D_T[:-1, :]\n",
    "    return D_T\n",
    "\n",
    "D_T = fd_matrix(T)\n",
    "\n",
    "y_diff = lm.perm(D_T, y)\n",
    "x_diff = lm.perm(D_T,X)\n",
    "x_diff\n",
    "\n",
    "lm.check_rank(x_diff)"
   ]
  },
  {
   "cell_type": "code",
   "execution_count": 24,
   "metadata": {},
   "outputs": [
    {
     "name": "stdout",
     "output_type": "stream",
     "text": [
      "FD-estimation\n",
      "Dependent variable: Log of deflated sales\n",
      "\n",
      "                       Beta      Se    t-values\n",
      "-------------------  ------  ------  ----------\n",
      "d.Log employment     0.5462  0.0177     30.8264\n",
      "d.Log capital stock  0.0645  0.0182      3.5474\n",
      "R² = 0.174\n",
      "σ² = 0.014\n",
      "DF=4849\n",
      "N=441\n",
      "T=11\n"
     ]
    }
   ],
   "source": [
    "x_label_fd = ['d.Log employment', 'd.Log capital stock']\n",
    "\n",
    "est_fd = lm.estimate(y_diff, x_diff, transform='fd', T=T-1, N=N)\n",
    "\n",
    "lm.print_table((label_y, x_label_fd), est_fd, title='FD-estimation', floatfmt='.4f')"
   ]
  },
  {
   "cell_type": "markdown",
   "metadata": {},
   "source": [
    "---\n",
    "\n",
    "# Test for serial correlation \n",
    "\n",
    "---"
   ]
  },
  {
   "cell_type": "markdown",
   "metadata": {},
   "source": [
    "### Sum up for requirements for efficiency and consistency (Wooldridge p.325)\n",
    "\n",
    "**Estimate via FE**:\n",
    "\n",
    "$$\n",
    "y_{i t}=\\mathbf{x}_{i t} \\boldsymbol{\\beta}+\\mathbf{w}_{it+1} \\boldsymbol{\\delta}+c_i+u_{i t}\n",
    "$$\n",
    "\n",
    "Where  $\\mathbf{w}_{it+1} \\in \\mathbf{x}_{it}$  \n",
    "\n",
    "**Estimate via FD**\n",
    "\n",
    "$$\n",
    "\\Delta y_{i t}=\\Delta \\mathbf{x}_{i t} \\boldsymbol{\\beta}+\\mathbf{w}_{it} \\boldsymbol{\\gamma}+\\Delta u_{i t}\n",
    "$$\n",
    "\n",
    "Where  $\\mathbf{w}_{it} \\in \\mathbf{x}_{it}$  \n",
    "\n",
    "|       | Efficiency                    | Consistency           |\n",
    "--------|-------------------------------|--------------         |\n",
    "|FD     | $corr(e_{it},e_{it-1})=0$     |    $\\gamma=0$         |\n",
    "|FE     | $corr(e_{it},e_{it-1})=-0.5$  |    $\\delta=0$         |\n",
    "\n",
    "---"
   ]
  },
  {
   "cell_type": "markdown",
   "metadata": {},
   "source": [
    "### Test for serial correlation (efficiency)\n",
    "\n",
    "\\begin{align}\n",
    "    y_{it}=c_i+x_{it}\\beta+u_{it}\n",
    "\\end{align}\n",
    "\n",
    "\\begin{align}\n",
    "    e_{it}=\\Delta u_{it}=u_{it}-u_{it-1}\n",
    "\\end{align}\n",
    "\n",
    "$$\n",
    "e_{it}=\\rho e_{it-1}+error_{it}\n",
    "$$"
   ]
  },
  {
   "cell_type": "code",
   "execution_count": 25,
   "metadata": {},
   "outputs": [
    {
     "name": "stdout",
     "output_type": "stream",
     "text": [
      "\\begin{tabular}{lll}\n",
      "\\toprule\n",
      "          & {} & Serial Correlation \\\\\n",
      "\\midrule\n",
      "$e_{t-1}$ & {} &           -0.21*** \\\\\n",
      "          & {} &            (0.015) \\\\\n",
      "\\bottomrule\n",
      "\\end{tabular}\n",
      "\n"
     ]
    },
    {
     "name": "stderr",
     "output_type": "stream",
     "text": [
      "C:\\Users\\JBH\\AppData\\Local\\Temp\\ipykernel_19016\\3470833868.py:7: FutureWarning: In future versions `DataFrame.to_latex` is expected to utilise the base implementation of `Styler.to_latex` for formatting and rendering. The arguments signature may therefore change. It is recommended instead to use `DataFrame.style.to_latex` which also contains additional functionality.\n",
      "  print(pd.DataFrame(serial_corr_out)\\\n"
     ]
    }
   ],
   "source": [
    "year = np.array(dat.year)\n",
    "\n",
    "serial_corr = lm.serial_corr(y_diff, x_diff, T=T, N=N, year=year)\n",
    "\n",
    "serial_corr_out =lm.outreg(serial_corr, var_labels=['$e_{t-1}$'], name='Serial Correlation')\n",
    "\n",
    "print(pd.DataFrame(serial_corr_out)\\\n",
    "    .fillna('.')\n",
    "    .rename(index={'se':'', 'beta':''})\n",
    "    .to_latex(escape=False))"
   ]
  },
  {
   "cell_type": "markdown",
   "metadata": {},
   "source": [
    "![alt text](RandomWalkVsWhiteNoise.png \"Title\")"
   ]
  },
  {
   "cell_type": "markdown",
   "metadata": {},
   "source": [
    "---\n",
    "\n",
    "# Test for strict exogeneity\n",
    "\n",
    "---"
   ]
  },
  {
   "cell_type": "code",
   "execution_count": 26,
   "metadata": {},
   "outputs": [],
   "source": [
    "#We lead log employment + log capital +1\n",
    "label_x_fe_lead = label_x_fe + ['Log employment +1', 'Log capital +1']\n",
    "\n",
    "#We test for strict exogeneity\n",
    "est_fe_exo = lm.strict_exo_FE(y=y, x=X, lead_var=np.hstack((l,k)), T=T, N=N, year=year)\n",
    "\n",
    "fe_exo_out =lm.outreg(est_fe_exo, var_labels=label_x_fe_lead, name='Strict exogeneity test FE')"
   ]
  },
  {
   "cell_type": "code",
   "execution_count": 27,
   "metadata": {},
   "outputs": [],
   "source": [
    "label_x_fd_exo = ['d.Log employment', 'd.Log capital stock', 'Log employment', 'Log capital stock']\n",
    "\n",
    "est_fd_exo = lm.strict_exo_FD(y_diff=y_diff, x_diff=x_diff, w=np.hstack((l,k)), T=T, N=N, year=year)\n",
    "\n",
    "fd_exo_out = lm.outreg(est_fd_exo, var_labels=label_x_fd_exo, name='Strict exogeneity test FD')"
   ]
  },
  {
   "cell_type": "code",
   "execution_count": 28,
   "metadata": {},
   "outputs": [
    {
     "name": "stdout",
     "output_type": "stream",
     "text": [
      "\\begin{tabular}{llll}\n",
      "\\toprule\n",
      "                 & {} & Strict exogeneity test FE & Strict exogeneity test FD \\\\\n",
      "\\midrule\n",
      "Log capital +1 & {} &                   0.17*** &                         . \\\\\n",
      "                 & {} &                   (0.025) &                         . \\\\\n",
      "Log capital stock & {} &                      0.01 &                    -0.01* \\\\\n",
      "                 & {} &                   (0.022) &                   (0.003) \\\\\n",
      "Log employment & {} &                   0.53*** &                      0.01 \\\\\n",
      "                 & {} &                   (0.023) &                   (0.004) \\\\\n",
      "Log employment +1 & {} &                   0.16*** &                         . \\\\\n",
      "                 & {} &                   (0.022) &                         . \\\\\n",
      "d.Log capital stock & {} &                         . &                   0.06*** \\\\\n",
      "                 & {} &                         . &                   (0.018) \\\\\n",
      "d.Log employment & {} &                         . &                   0.54*** \\\\\n",
      "                 & {} &                         . &                   (0.018) \\\\\n",
      "\\bottomrule\n",
      "\\end{tabular}\n",
      "\n"
     ]
    },
    {
     "name": "stderr",
     "output_type": "stream",
     "text": [
      "C:\\Users\\JBH\\AppData\\Local\\Temp\\ipykernel_19016\\1592223857.py:3: FutureWarning: In future versions `DataFrame.to_latex` is expected to utilise the base implementation of `Styler.to_latex` for formatting and rendering. The arguments signature may therefore change. It is recommended instead to use `DataFrame.style.to_latex` which also contains additional functionality.\n",
      "  print(pd.DataFrame(data=table_exo)\\\n"
     ]
    }
   ],
   "source": [
    "#Merge our series on left - play around with 'right', if it makes sense for our variables\n",
    "table_exo = pd.merge(fe_exo_out, fd_exo_out, 'outer', left_index=True, right_index=True)\n",
    "print(pd.DataFrame(data=table_exo)\\\n",
    "    .fillna('.')\n",
    "    .rename(index={'se':'', 'beta':''})\n",
    "    .to_latex())"
   ]
  },
  {
   "cell_type": "markdown",
   "metadata": {},
   "source": [
    "### Wald statistics\n",
    "\n",
    "To compute a linear hypothesis of some (more than one) coefficients, define: \n",
    "\n",
    "\\begin{align*}\n",
    "(\\mathbf{R} \\widehat{\\boldsymbol{\\beta}}-\\mathbf{R} \\boldsymbol{\\beta})^{\\prime}\\left[\\mathbf{R}\\underbrace{(\\mathbf{V} / N)}_{\\text{Asymptotic variance}} \\mathbf{R}^{\\prime}\\right]^{-1}(\\mathbf{R} \\widehat{\\boldsymbol{\\beta}}-\\mathbf{R} \\boldsymbol{\\beta}) \\stackrel{d}{\\approx} \\chi_Q^2\n",
    "\\end{align*}\n",
    "\n",
    "$Q=$ rank $(\\mathbf{R})$. \n",
    "\n",
    "Under $\\mathcal{H_0}$, $\\mathbf{R\\beta=r}$."
   ]
  },
  {
   "cell_type": "markdown",
   "metadata": {},
   "source": [
    "### Wald test of strict exogeneity FE/FD"
   ]
  },
  {
   "cell_type": "markdown",
   "metadata": {},
   "source": [
    "**Estimate via FE**:\n",
    "\n",
    "$$\n",
    "ldsa_{i t}=\\beta_1 lemp_{i t} +\\beta_2 lcap_{i t}+ \\beta_3lemp_{i t+1}+\\beta_4lcap_{i t+1} + \\ddot{u}_{i t}\n",
    "$$\n",
    "\n",
    "\n",
    "\n",
    "**Estimate via FD**\n",
    "\n",
    "$$\n",
    "\\Delta ldsa_{i t}=\\beta_1\\Delta lemp_{i t} +\\beta_2\\Delta lcap_{i t}+ \\beta_3lemp_{i t}+\\beta_4lcap_{i t} +\\Delta u_{i t}\n",
    "$$\n",
    "\n",
    "$\\beta_3=\\beta_4=0$\n"
   ]
  },
  {
   "cell_type": "code",
   "execution_count": 29,
   "metadata": {},
   "outputs": [
    {
     "name": "stdout",
     "output_type": "stream",
     "text": [
      "\\begin{tabular}{lrr}\n",
      "\\toprule\n",
      "{} &    FD &      FE \\\\\n",
      "\\midrule\n",
      "p-value     &  0.14 &    0.00 \\\\\n",
      "$\\chi^2(2)$ &  3.97 &  103.54 \\\\\n",
      "\\bottomrule\n",
      "\\end{tabular}\n",
      "\n"
     ]
    },
    {
     "name": "stderr",
     "output_type": "stream",
     "text": [
      "C:\\Users\\JBH\\AppData\\Local\\Temp\\ipykernel_19016\\757751069.py:12: FutureWarning: In future versions `DataFrame.to_latex` is expected to utilise the base implementation of `Styler.to_latex` for formatting and rendering. The arguments signature may therefore change. It is recommended instead to use `DataFrame.style.to_latex` which also contains additional functionality.\n",
      "  print(exo_out.to_latex(escape=False))\n"
     ]
    }
   ],
   "source": [
    "# We require the leaded (?) variables in FE to be equal to zero\n",
    "# We require the non-differenced variable in FD to be equal to zero\n",
    "\n",
    "R=np.eye(2)\n",
    "\n",
    "wald_fd_exo = lm.wald_test(R=R, r=np.zeros(shape=(2,1)), beta_hat=est_fd_exo['b_hat'][2:], Avar=est_fd_exo['cov'][2:, 2:], label='FD')\n",
    "\n",
    "wald_fe_exo = lm.wald_test(R=R, r=np.zeros(shape=(2,1)), beta_hat=est_fe_exo['b_hat'][2:], Avar=est_fe_exo['cov'][2:, 2:], label='FE')\n",
    "\n",
    "exo_out = pd.merge(wald_fd_exo, wald_fe_exo, 'outer', left_index=True, right_index=True)\n",
    "\n",
    "print(exo_out.to_latex(escape=False))"
   ]
  },
  {
   "cell_type": "markdown",
   "metadata": {},
   "source": [
    "---\n",
    "\n",
    "# Making latex table\n",
    "\n",
    "---"
   ]
  },
  {
   "cell_type": "markdown",
   "metadata": {},
   "source": [
    "Discard FE (and POLS), but land on FD (due to *not rejecting* null of no strict exogeneity). FD not efficient, though -> Use robust standard errors."
   ]
  },
  {
   "cell_type": "code",
   "execution_count": 30,
   "metadata": {},
   "outputs": [],
   "source": [
    "est_fd_robust = lm.estimate(y_diff, x_diff, transform='fd', T=T-1, N=N, se_type='robust')"
   ]
  },
  {
   "cell_type": "code",
   "execution_count": 31,
   "metadata": {},
   "outputs": [],
   "source": [
    "series_pols = lm.outreg(est_pols, var_labels=label_x, name='POLS')\n",
    "series_fe = lm.outreg(est_fe, var_labels=label_x_fe, name='FE')\n",
    "series_fd = lm.outreg(est_fd, var_labels=x_label_fd, name='FD')\n",
    "series_fd_robust = lm.outreg(est_fd_robust, var_labels=x_label_fd, name='FD (robust)', se_type='robust')"
   ]
  },
  {
   "cell_type": "code",
   "execution_count": 32,
   "metadata": {},
   "outputs": [
    {
     "name": "stdout",
     "output_type": "stream",
     "text": [
      "\\begin{tabular}{llllll}\n",
      "\\toprule\n",
      "                 & {} &     POLS &       FE &       FD & FD (robust) \\\\\n",
      "\\midrule\n",
      "Log capital stock & {} &   0.3*** &  0.14*** &        . &           . \\\\\n",
      "                 & {} &  (0.009) &  (0.012) &        . &           . \\\\\n",
      "Log employment & {} &  0.68*** &   0.7*** &        . &           . \\\\\n",
      "                 & {} &   (0.01) &  (0.014) &        . &           . \\\\\n",
      "d.Log capital stock & {} &        . &        . &  0.06*** &      0.06** \\\\\n",
      "                 & {} &        . &        . &  (0.018) &     [0.022] \\\\\n",
      "d.Log employment & {} &        . &        . &  0.55*** &     0.55*** \\\\\n",
      "                 & {} &        . &        . &  (0.018) &     [0.028] \\\\\n",
      "\\bottomrule\n",
      "\\end{tabular}\n",
      "\n"
     ]
    },
    {
     "name": "stderr",
     "output_type": "stream",
     "text": [
      "C:\\Users\\JBH\\AppData\\Local\\Temp\\ipykernel_19016\\1413762167.py:7: FutureWarning: In future versions `DataFrame.to_latex` is expected to utilise the base implementation of `Styler.to_latex` for formatting and rendering. The arguments signature may therefore change. It is recommended instead to use `DataFrame.style.to_latex` which also contains additional functionality.\n",
      "  print(table1\\\n"
     ]
    }
   ],
   "source": [
    "#Merge our series on left - play around with 'right', if it makes sense for our variables\n",
    "table1 = pd.merge(series_pols, series_fe, 'outer', left_index=True, right_index=True)\n",
    "table1 = pd.merge(table1, series_fd, 'outer', left_index=True, right_index=True)\n",
    "table1 = pd.merge(table1, series_fd_robust, 'outer', left_index=True, right_index=True)\n",
    "\n",
    "#Make our second index column empty for pretty latex table and fill NaN with '.', if not included in regression\n",
    "print(table1\\\n",
    "    .fillna('.')\n",
    "    .rename(index={'se':'', 'beta':''})\n",
    "    .to_latex(escape=False))"
   ]
  },
  {
   "cell_type": "markdown",
   "metadata": {},
   "source": [
    "### Testing the hypothesis using FD\n",
    "\n",
    "$\\mathcal{H_0:}~\\beta_l+\\beta_k=1$ (Constant returns to scale)\n",
    "\n",
    "$\\mathcal{H_A:}~\\beta_l+\\beta_k\\neq1$ (The one-sided alternative)\n",
    "\n",
    "The test $\\beta_l + \\beta_k = 1$ corresponds to\n",
    "$\\mathbf{R}=\\left[\n",
    "    \\begin{array}{ll}\n",
    "    1 & 1 \n",
    "    \\end{array}\\right]$ and $\\mathbf{r=1}$.\n"
   ]
  },
  {
   "cell_type": "code",
   "execution_count": 35,
   "metadata": {},
   "outputs": [
    {
     "name": "stdout",
     "output_type": "stream",
     "text": [
      "\\begin{tabular}{lr}\n",
      "\\toprule\n",
      "{} \\\\\n",
      "\\midrule\n",
      "p-value     &    0.00 \\\\\n",
      "$\\chi^2(1)$ &  164.43 \\\\\n",
      "\\bottomrule\n",
      "\\end{tabular}\n",
      "\n"
     ]
    },
    {
     "name": "stderr",
     "output_type": "stream",
     "text": [
      "C:\\Users\\JBH\\AppData\\Local\\Temp\\ipykernel_19016\\107670655.py:3: FutureWarning: In future versions `DataFrame.to_latex` is expected to utilise the base implementation of `Styler.to_latex` for formatting and rendering. The arguments signature may therefore change. It is recommended instead to use `DataFrame.style.to_latex` which also contains additional functionality.\n",
      "  print(cons_re_to_scale.to_latex(escape=False))\n"
     ]
    }
   ],
   "source": [
    "R=np.array([[1,1]])\n",
    "cons_re_to_scale = lm.wald_test(R=R, beta_hat=est_fd_robust['b_hat'], r=1, Avar=est_fd_robust['cov'])\n",
    "print(cons_re_to_scale.to_latex(escape=False))"
   ]
  },
  {
   "cell_type": "markdown",
   "metadata": {},
   "source": [
    "# Addendum"
   ]
  },
  {
   "cell_type": "markdown",
   "metadata": {},
   "source": [
    "Following code not included in assignment, just for sanity checks"
   ]
  },
  {
   "cell_type": "markdown",
   "metadata": {},
   "source": [
    "---\n",
    "\n",
    "### FE with time fixed effects\n",
    "\n",
    "NB! From the assignment description, it seems that the cross-sectional mean has already been subtracted from the data. \n",
    "Makes no diff by including year dummies\n",
    "\n",
    "---"
   ]
  },
  {
   "cell_type": "code",
   "execution_count": 81,
   "metadata": {},
   "outputs": [],
   "source": [
    "ones = np.ones((N*T,1))\n",
    "l = dat.lemp.values.reshape((N*T,1))\n",
    "k = dat.lcap.values.reshape((N*T,1))\n",
    "year = dat.year.values.reshape((N*T,1))\n",
    "X_time_fe=np.hstack((ones,l,k,year))"
   ]
  },
  {
   "cell_type": "code",
   "execution_count": 82,
   "metadata": {},
   "outputs": [
    {
     "data": {
      "text/plain": [
       "array([1967, 1968, 1969, 1970, 1971, 1972, 1973, 1974, 1975, 1976, 1977,\n",
       "       1978], dtype=int64)"
      ]
     },
     "execution_count": 82,
     "metadata": {},
     "output_type": "execute_result"
    }
   ],
   "source": [
    "dat.year.unique()"
   ]
  },
  {
   "cell_type": "code",
   "execution_count": 83,
   "metadata": {},
   "outputs": [
    {
     "name": "stdout",
     "output_type": "stream",
     "text": [
      "[[0. 0. 0. ... 0. 0. 0.]\n",
      " [1. 0. 0. ... 0. 0. 0.]\n",
      " [0. 1. 0. ... 0. 0. 0.]\n",
      " ...\n",
      " [0. 0. 0. ... 1. 0. 0.]\n",
      " [0. 0. 0. ... 0. 1. 0.]\n",
      " [0. 0. 0. ... 0. 0. 1.]] \n",
      "\n",
      " (5292, 11)\n"
     ]
    }
   ],
   "source": [
    "dummy = np.eye(T, k=-1) #For T=time periods \n",
    "dummy = dummy[: , :-1] #Rule out due to dummy trap\n",
    "dummy_dummy = np.tile(dummy, (N,1))\n",
    "print(dummy_dummy, '\\n\\n', dummy_dummy.shape)"
   ]
  },
  {
   "cell_type": "code",
   "execution_count": 84,
   "metadata": {},
   "outputs": [],
   "source": [
    "#x_demean_time_dum = np.hstack((x_demean,dummy_dummy))\n",
    "\n",
    "x_demean_time_dum = lm.perm(Q_T, X_time_fe)\n",
    "x_demean_time_dum = x_demean_time_dum[:, 1:3:]\n",
    "x_demean_time_dum = np.hstack((x_demean_time_dum, dummy_dummy))\n",
    "#x_demean_time_dum = np.hstack((x_demean_time_dum[0, 1:], dummy_dummy))\n",
    "label_x_fe_time = ['Log employment', 'Log capital stock', \n",
    "'1968', '1969', '1970', '1971', '1972', \n",
    "'1973', '1974', '1975', '1976', '1977', '1978']"
   ]
  },
  {
   "cell_type": "code",
   "execution_count": 85,
   "metadata": {},
   "outputs": [
    {
     "data": {
      "text/plain": [
       "(5292, 13)"
      ]
     },
     "execution_count": 85,
     "metadata": {},
     "output_type": "execute_result"
    }
   ],
   "source": [
    "x_demean_time_dum.shape"
   ]
  },
  {
   "cell_type": "code",
   "execution_count": 86,
   "metadata": {},
   "outputs": [
    {
     "data": {
      "text/html": [
       "<div>\n",
       "<style scoped>\n",
       "    .dataframe tbody tr th:only-of-type {\n",
       "        vertical-align: middle;\n",
       "    }\n",
       "\n",
       "    .dataframe tbody tr th {\n",
       "        vertical-align: top;\n",
       "    }\n",
       "\n",
       "    .dataframe thead th {\n",
       "        text-align: right;\n",
       "    }\n",
       "</style>\n",
       "<table border=\"1\" class=\"dataframe\">\n",
       "  <thead>\n",
       "    <tr style=\"text-align: right;\">\n",
       "      <th></th>\n",
       "      <th>Log employment</th>\n",
       "      <th>Log capital stock</th>\n",
       "      <th>1968</th>\n",
       "      <th>1969</th>\n",
       "      <th>1970</th>\n",
       "      <th>1971</th>\n",
       "      <th>1972</th>\n",
       "      <th>1973</th>\n",
       "      <th>1974</th>\n",
       "      <th>1975</th>\n",
       "      <th>1976</th>\n",
       "      <th>1977</th>\n",
       "      <th>1978</th>\n",
       "    </tr>\n",
       "  </thead>\n",
       "  <tbody>\n",
       "    <tr>\n",
       "      <th>0</th>\n",
       "      <td>0.025516</td>\n",
       "      <td>0.135761</td>\n",
       "      <td>0.0</td>\n",
       "      <td>0.0</td>\n",
       "      <td>0.0</td>\n",
       "      <td>0.0</td>\n",
       "      <td>0.0</td>\n",
       "      <td>0.0</td>\n",
       "      <td>0.0</td>\n",
       "      <td>0.0</td>\n",
       "      <td>0.0</td>\n",
       "      <td>0.0</td>\n",
       "      <td>0.0</td>\n",
       "    </tr>\n",
       "    <tr>\n",
       "      <th>1</th>\n",
       "      <td>0.053513</td>\n",
       "      <td>0.094463</td>\n",
       "      <td>1.0</td>\n",
       "      <td>0.0</td>\n",
       "      <td>0.0</td>\n",
       "      <td>0.0</td>\n",
       "      <td>0.0</td>\n",
       "      <td>0.0</td>\n",
       "      <td>0.0</td>\n",
       "      <td>0.0</td>\n",
       "      <td>0.0</td>\n",
       "      <td>0.0</td>\n",
       "      <td>0.0</td>\n",
       "    </tr>\n",
       "    <tr>\n",
       "      <th>2</th>\n",
       "      <td>0.054420</td>\n",
       "      <td>0.021075</td>\n",
       "      <td>0.0</td>\n",
       "      <td>1.0</td>\n",
       "      <td>0.0</td>\n",
       "      <td>0.0</td>\n",
       "      <td>0.0</td>\n",
       "      <td>0.0</td>\n",
       "      <td>0.0</td>\n",
       "      <td>0.0</td>\n",
       "      <td>0.0</td>\n",
       "      <td>0.0</td>\n",
       "      <td>0.0</td>\n",
       "    </tr>\n",
       "    <tr>\n",
       "      <th>3</th>\n",
       "      <td>0.030564</td>\n",
       "      <td>-0.024522</td>\n",
       "      <td>0.0</td>\n",
       "      <td>0.0</td>\n",
       "      <td>1.0</td>\n",
       "      <td>0.0</td>\n",
       "      <td>0.0</td>\n",
       "      <td>0.0</td>\n",
       "      <td>0.0</td>\n",
       "      <td>0.0</td>\n",
       "      <td>0.0</td>\n",
       "      <td>0.0</td>\n",
       "      <td>0.0</td>\n",
       "    </tr>\n",
       "    <tr>\n",
       "      <th>4</th>\n",
       "      <td>-0.022177</td>\n",
       "      <td>-0.061041</td>\n",
       "      <td>0.0</td>\n",
       "      <td>0.0</td>\n",
       "      <td>0.0</td>\n",
       "      <td>1.0</td>\n",
       "      <td>0.0</td>\n",
       "      <td>0.0</td>\n",
       "      <td>0.0</td>\n",
       "      <td>0.0</td>\n",
       "      <td>0.0</td>\n",
       "      <td>0.0</td>\n",
       "      <td>0.0</td>\n",
       "    </tr>\n",
       "  </tbody>\n",
       "</table>\n",
       "</div>"
      ],
      "text/plain": [
       "   Log employment  Log capital stock  1968  1969  1970  1971  1972  1973  \\\n",
       "0        0.025516           0.135761   0.0   0.0   0.0   0.0   0.0   0.0   \n",
       "1        0.053513           0.094463   1.0   0.0   0.0   0.0   0.0   0.0   \n",
       "2        0.054420           0.021075   0.0   1.0   0.0   0.0   0.0   0.0   \n",
       "3        0.030564          -0.024522   0.0   0.0   1.0   0.0   0.0   0.0   \n",
       "4       -0.022177          -0.061041   0.0   0.0   0.0   1.0   0.0   0.0   \n",
       "\n",
       "   1974  1975  1976  1977  1978  \n",
       "0   0.0   0.0   0.0   0.0   0.0  \n",
       "1   0.0   0.0   0.0   0.0   0.0  \n",
       "2   0.0   0.0   0.0   0.0   0.0  \n",
       "3   0.0   0.0   0.0   0.0   0.0  \n",
       "4   0.0   0.0   0.0   0.0   0.0  "
      ]
     },
     "execution_count": 86,
     "metadata": {},
     "output_type": "execute_result"
    }
   ],
   "source": [
    "pd.DataFrame(x_demean_time_dum, columns=label_x_fe_time).head()"
   ]
  },
  {
   "cell_type": "code",
   "execution_count": 87,
   "metadata": {},
   "outputs": [
    {
     "data": {
      "text/plain": [
       "'The matrix is of full rank with rank = 13'"
      ]
     },
     "execution_count": 87,
     "metadata": {},
     "output_type": "execute_result"
    }
   ],
   "source": [
    "lm.check_rank(x_demean_time_dum)"
   ]
  },
  {
   "cell_type": "code",
   "execution_count": 88,
   "metadata": {},
   "outputs": [
    {
     "name": "stdout",
     "output_type": "stream",
     "text": [
      "Time FE estimation\n",
      "Dependent variable: Log of deflated sales\n",
      "\n",
      "                           Beta          Se      t-values\n",
      "-----------------  ------------  ----------  ------------\n",
      "Log employment      0.696387     0.0144184   48.2986\n",
      "Log capital stock   0.142663     0.012415    11.4912\n",
      "1968               -1.024e-07    0.00630055  -1.62525e-05\n",
      "1969                6.76665e-08  0.00630055   1.07398e-05\n",
      "1970                5.92738e-08  0.00630055   9.40773e-06\n",
      "1971               -9.89383e-08  0.00630055  -1.57031e-05\n",
      "1972               -6.75207e-08  0.00630055  -1.07166e-05\n",
      "1973               -1.73717e-07  0.00630055  -2.75718e-05\n",
      "1974                1.36027e-07  0.00630055   2.15897e-05\n",
      "1975                3.17182e-08  0.00630055   5.0342e-06\n",
      "1976                6.68997e-08  0.00630055   1.06181e-05\n",
      "1977                7.03834e-08  0.00630055   1.1171e-05\n",
      "1978               -8.05727e-08  0.00630055  -1.27882e-05\n",
      "R² = 0.492\n",
      "σ² = 0.018\n",
      "DF=4838\n",
      "N=441\n",
      "T=12\n"
     ]
    },
    {
     "name": "stderr",
     "output_type": "stream",
     "text": [
      "c:\\Users\\JBH\\anaconda3\\lib\\site-packages\\tabulate\\__init__.py:108: FutureWarning: elementwise comparison failed; returning scalar instead, but in the future will perform elementwise comparison\n",
      "  or (len(row) >= 2 and row[1] == SEPARATING_LINE)\n"
     ]
    }
   ],
   "source": [
    "est_fe_time = lm.estimate(y=y_demean, x=x_demean_time_dum, transform='fe', T=T, N=N)\n",
    "lm.print_table(labels=(label_y, label_x_fe_time), results=est_fe_time, title='Time FE estimation')"
   ]
  },
  {
   "cell_type": "markdown",
   "metadata": {},
   "source": [
    "---\n",
    "\n",
    "### Random effects \n",
    "\n",
    "Would not hold, as this assumes no corr between time-invariant unobservables $c_i$ (talent for example) and regressors.\n",
    "\n",
    "---"
   ]
  },
  {
   "cell_type": "markdown",
   "metadata": {},
   "source": [
    "### Between Estimator"
   ]
  },
  {
   "cell_type": "code",
   "execution_count": 89,
   "metadata": {},
   "outputs": [],
   "source": [
    "def between_mat(T):\n",
    "    P_T = np.tile(1/T, (1,T))\n",
    "    return P_T\n",
    "P_T = between_mat(T)"
   ]
  },
  {
   "cell_type": "code",
   "execution_count": 90,
   "metadata": {},
   "outputs": [
    {
     "data": {
      "text/plain": [
       "'The matrix is of full rank with rank = 2'"
      ]
     },
     "execution_count": 90,
     "metadata": {},
     "output_type": "execute_result"
    }
   ],
   "source": [
    "y_be = lm.perm(P_T, y)\n",
    "x_be = lm.perm(P_T, X)\n",
    "lm.check_rank(x_be)"
   ]
  },
  {
   "cell_type": "code",
   "execution_count": 91,
   "metadata": {},
   "outputs": [
    {
     "name": "stdout",
     "output_type": "stream",
     "text": [
      "BE-estimator\n",
      "Dependent variable: Log of deflated sales\n",
      "\n",
      "                       Beta         Se    t-values\n",
      "-----------------  --------  ---------  ----------\n",
      "Log employment     0.669482  0.0339893     19.6969\n",
      "Log capital stock  0.312461  0.03052       10.2379\n",
      "R² = 0.924\n",
      "σ² = 0.114\n",
      "DF=439\n",
      "N=441\n",
      "T=12\n"
     ]
    }
   ],
   "source": [
    "est_be = lm.estimate(y=y_be, x=x_be, transform='be', T=T, N=N)\n",
    "lm.print_table(labels=(label_y, label_x), results=est_be, title='BE-estimator')"
   ]
  },
  {
   "cell_type": "code",
   "execution_count": 92,
   "metadata": {},
   "outputs": [
    {
     "name": "stdout",
     "output_type": "stream",
     "text": [
      "0.8870561237521509\n"
     ]
    }
   ],
   "source": [
    "from math import sqrt\n",
    "\n",
    "sigma2_u = est_fe['sigma'] # fill in\n",
    "sigma2_c = est_be['sigma']-1/T*est_fe['sigma'] # fill in\n",
    "_lambda = 1-sqrt(sigma2_u/(sigma2_u+T*sigma2_c)) # fill in\n",
    "print(_lambda)"
   ]
  },
  {
   "cell_type": "markdown",
   "metadata": {},
   "source": [
    "Since we have to use $\\hat{\\lambda}$ to quasi-demean within each individual, we again use the `perm` function. This time, we pass it the following transformation matrix,\n",
    "\n",
    "$$\n",
    "\\mathbf{C}_{T}:=\\mathbf{I}_{T} - \\hat{\\lambda}\\mathbf{P}_{T},\n",
    "$$\n",
    "\n",
    "where $\\mathbf{P}_{T}$ is the $1 \\times T$ transformation vector we used earlier to calculate the mean of each person."
   ]
  },
  {
   "cell_type": "code",
   "execution_count": 93,
   "metadata": {},
   "outputs": [],
   "source": [
    "def quasi_demean_mat(T, _lambda):\n",
    "    P_T = between_mat(T)\n",
    "    C_T = np.eye(T)-_lambda*P_T\n",
    "    return C_T\n",
    "C_T = quasi_demean_mat(T, _lambda)"
   ]
  },
  {
   "cell_type": "code",
   "execution_count": 94,
   "metadata": {},
   "outputs": [
    {
     "data": {
      "text/plain": [
       "'The matrix is of full rank with rank = 2'"
      ]
     },
     "execution_count": 94,
     "metadata": {},
     "output_type": "execute_result"
    }
   ],
   "source": [
    "y_re = lm.perm(C_T, y)\n",
    "x_re = lm.perm(C_T, X) \n",
    "lm.check_rank(x_re)"
   ]
  },
  {
   "cell_type": "code",
   "execution_count": 95,
   "metadata": {},
   "outputs": [
    {
     "name": "stdout",
     "output_type": "stream",
     "text": [
      "Results\n",
      "Dependent variable: Log of deflated sales\n",
      "\n",
      "                       Beta         Se    t-values\n",
      "-----------------  --------  ---------  ----------\n",
      "Log employment     0.723473  0.0129028     56.0711\n",
      "Log capital stock  0.185219  0.0113045     16.3846\n",
      "R² = 0.649\n",
      "σ² = 0.018\n",
      "DF=5290\n",
      "N=441\n",
      "T=12\n",
      "None lambda= 0.8870561237521509\n"
     ]
    }
   ],
   "source": [
    "est_re = lm.estimate(y=y_re, x=x_re, transform='re', T=T, N=N)\n",
    "print(lm.print_table(labels=(label_y, label_x), results=est_re), 'lambda=',_lambda)"
   ]
  }
 ],
 "metadata": {
  "kernelspec": {
   "display_name": "Python 3.9.13 ('base')",
   "language": "python",
   "name": "python3"
  },
  "language_info": {
   "codemirror_mode": {
    "name": "ipython",
    "version": 3
   },
   "file_extension": ".py",
   "mimetype": "text/x-python",
   "name": "python",
   "nbconvert_exporter": "python",
   "pygments_lexer": "ipython3",
   "version": "3.9.13"
  },
  "orig_nbformat": 4,
  "vscode": {
   "interpreter": {
    "hash": "054e95b4819972eba8d406807e822e3be9cca805528e86310f8e3ac8dc287778"
   }
  }
 },
 "nbformat": 4,
 "nbformat_minor": 2
}
