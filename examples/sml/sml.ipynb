{
 "cells": [
  {
   "cell_type": "markdown",
   "id": "0a5e27f3-0799-4095-ae32-1f6e7c89696c",
   "metadata": {},
   "source": [
    "# Simulated Maximum likelihood\n",
    "\n",
    "This notebook simulates panel dataset from the model \n",
    "$$ \n",
    "y_{it} = \\mathbf{x}_{it} \\boldsymbol{\\beta} + c_i + u_{it},  \\quad c_i \\sim \\text{IID}\\mathcal{N}(0,\\sigma_c^2), \\quad u_{it} \\sim \\text{IID}\\mathcal{N}(0,\\sigma_u^2).\n",
    "$$\n",
    "\n",
    "The likelihood function needs to integrate out the unobserved $c_i$, taking the form \n",
    "$$\n",
    "\\ell_i(\\theta) = \\log \\int \\prod_{t=1}^T \\frac{1}{\\sigma_u} \\phi\\left( \\frac{y_{it} - \\mathbf{x}_{it} \\boldsymbol{\\beta} - \\sigma_c c}{\\sigma_u} \\right) \\phi(c) \\text{d} c.\n",
    "$$\n",
    "\n",
    "The integral (the expectation wrt. $c_i$) can be computed either using *simulation* or *quadrature*. Both are *approximations* to the integral.\n",
    "\n",
    "* **Simulation:** Take $R$ draws, $c^{(r)} \\sim \\mathcal{N}(0,1)$, and compute \n",
    "$$\n",
    "\\ell_i(\\theta) \\cong \\log R^{-1}\\sum_{r=1}^R  \\left[ \\prod_{t=1}^T \\frac{1}{\\sigma_u} \\phi\\left( \\frac{y_{it} - \\mathbf{x}_{it} \\boldsymbol{\\beta} - \\sigma_c \\color{red}{ c^{(r)}} }{\\sigma_u} \\right) \\right].\n",
    "$$\n",
    "\n",
    "* **Quadrature:** using $Q$ quadrature nodes and weights, $\\{n_q, w_q\\}_{q=1}^Q$, compute\n",
    "$$\n",
    "\\ell_i(\\theta) \\cong \\log \\sum_{q=1}^Q \\color{red}{w_q}  \\left[ \\prod_{t=1}^T \\frac{1}{\\sigma_u} \\phi\\left( \\frac{y_{it} - \\mathbf{x}_{it} \\boldsymbol{\\beta} - \\sigma_c \\color{red}{n_q} }{\\sigma_u} \\right) \\right].\n",
    "$$"
   ]
  },
  {
   "cell_type": "code",
   "execution_count": 1,
   "id": "925e2920-5ef1-4965-ada8-14f63a46a19c",
   "metadata": {},
   "outputs": [],
   "source": [
    "import pandas as pd \n",
    "import numpy as np \n",
    "import matplotlib.pyplot as plt \n",
    "import seaborn as sns \n",
    "sns.set_theme()\n",
    "\n",
    "%load_ext autoreload\n",
    "%autoreload 2\n",
    "\n",
    "import sml \n",
    "import estimation"
   ]
  },
  {
   "cell_type": "markdown",
   "id": "794e6fe0-22fe-4973-b0de-fa70fc613ebf",
   "metadata": {},
   "source": [
    "# Simulate data"
   ]
  },
  {
   "cell_type": "code",
   "execution_count": 2,
   "id": "4b4e74ca-39af-4afd-8412-ebc4fe078838",
   "metadata": {},
   "outputs": [],
   "source": [
    "np.random.seed(1)\n",
    "N = 100\n",
    "T = 10 "
   ]
  },
  {
   "cell_type": "markdown",
   "id": "ae5da6d4-7a74-4d35-9efe-4f009c061374",
   "metadata": {},
   "source": [
    "The parameter vector to be estimated consists of three: $$ \\theta = (\\beta, \\sigma_u, \\sigma_c). $$"
   ]
  },
  {
   "cell_type": "code",
   "execution_count": 3,
   "id": "98a9503a-54a5-4344-b2f6-3bcc8df00d7d",
   "metadata": {},
   "outputs": [],
   "source": [
    "betao = np.array([1.,1.])\n",
    "K = betao.size\n",
    "sigma_c = 1.\n",
    "sigma_u = 1.\n",
    "thetao = np.append(betao, [sigma_u, sigma_c])\n",
    "y,x,c = sml.sim_data(thetao, N, T)\n",
    "# note: it is \"cheating\" that we return c, since in a real \n",
    "# dataset we do not observe c; here, it is done so that we \n",
    "# can make illustrative plots"
   ]
  },
  {
   "cell_type": "code",
   "execution_count": 4,
   "id": "927087c5-f67b-44b2-8e42-636c47c3f5d0",
   "metadata": {},
   "outputs": [],
   "source": [
    "theta_lab = ['beta1', 'beta2', 'sigma_c', 'sigma_u']"
   ]
  },
  {
   "cell_type": "markdown",
   "id": "c0ad9c1f-ff0a-4ba0-9387-761412fd8c35",
   "metadata": {},
   "source": [
    "# Estimate"
   ]
  },
  {
   "cell_type": "markdown",
   "id": "d6400ff6-04ad-4edd-9074-867c95c48c7a",
   "metadata": {},
   "source": [
    "## Estimate with Simulation\n",
    "\n",
    "Here, we estimate the model using the criterion function where we compute the integral by simulation. "
   ]
  },
  {
   "cell_type": "code",
   "execution_count": 19,
   "id": "96123718-d6d0-43fd-9250-320cdc75465e",
   "metadata": {},
   "outputs": [
    {
     "name": "stdout",
     "output_type": "stream",
     "text": [
      "Optimization terminated successfully.\n",
      "         Current function value: 15.627367\n",
      "         Iterations: 6\n",
      "         Function evaluations: 45\n",
      "         Gradient evaluations: 9\n"
     ]
    }
   ],
   "source": [
    "R = 1000\n",
    "theta0 = thetao*1.0\n",
    "q = lambda theta,y,x : sml.q(theta, y, x, R=R, seed=8) # seed=None: use equiprobably grid points on (0;1)\n",
    "res = estimation.estimate(q, theta0, y, x)"
   ]
  },
  {
   "cell_type": "code",
   "execution_count": 20,
   "id": "167386a3-0270-48c1-a049-3058fd6ee072",
   "metadata": {},
   "outputs": [
    {
     "data": {
      "text/html": [
       "<div>\n",
       "<style scoped>\n",
       "    .dataframe tbody tr th:only-of-type {\n",
       "        vertical-align: middle;\n",
       "    }\n",
       "\n",
       "    .dataframe tbody tr th {\n",
       "        vertical-align: top;\n",
       "    }\n",
       "\n",
       "    .dataframe thead th {\n",
       "        text-align: right;\n",
       "    }\n",
       "</style>\n",
       "<table border=\"1\" class=\"dataframe\">\n",
       "  <thead>\n",
       "    <tr style=\"text-align: right;\">\n",
       "      <th></th>\n",
       "      <th>start</th>\n",
       "      <th>truth</th>\n",
       "      <th>thetahat</th>\n",
       "      <th>t</th>\n",
       "    </tr>\n",
       "  </thead>\n",
       "  <tbody>\n",
       "    <tr>\n",
       "      <th>beta1</th>\n",
       "      <td>1.0</td>\n",
       "      <td>1.0</td>\n",
       "      <td>1.0542</td>\n",
       "      <td>9.5096</td>\n",
       "    </tr>\n",
       "    <tr>\n",
       "      <th>beta2</th>\n",
       "      <td>1.0</td>\n",
       "      <td>1.0</td>\n",
       "      <td>0.9783</td>\n",
       "      <td>27.3190</td>\n",
       "    </tr>\n",
       "    <tr>\n",
       "      <th>sigma_c</th>\n",
       "      <td>1.0</td>\n",
       "      <td>1.0</td>\n",
       "      <td>1.0227</td>\n",
       "      <td>40.4082</td>\n",
       "    </tr>\n",
       "    <tr>\n",
       "      <th>sigma_u</th>\n",
       "      <td>1.0</td>\n",
       "      <td>1.0</td>\n",
       "      <td>1.0407</td>\n",
       "      <td>11.6331</td>\n",
       "    </tr>\n",
       "  </tbody>\n",
       "</table>\n",
       "</div>"
      ],
      "text/plain": [
       "         start  truth  thetahat        t\n",
       "beta1      1.0    1.0    1.0542   9.5096\n",
       "beta2      1.0    1.0    0.9783  27.3190\n",
       "sigma_c    1.0    1.0    1.0227  40.4082\n",
       "sigma_u    1.0    1.0    1.0407  11.6331"
      ]
     },
     "execution_count": 20,
     "metadata": {},
     "output_type": "execute_result"
    }
   ],
   "source": [
    "# print a nice table \n",
    "pd.DataFrame({'start': theta0, \n",
    "              'truth': thetao,\n",
    "              'thetahat': res['theta'],\n",
    "              't': res['t']}, \n",
    "            index=theta_lab).round(4)"
   ]
  },
  {
   "cell_type": "markdown",
   "id": "f92a5d56-e8ab-4c91-8ecf-b6903eaac963",
   "metadata": {},
   "source": [
    "***Warning!*** If the number of simulation draws, `R` is too low, we get a bias that is most clearly visible in the estimate of `sigma_u`. This bias occurs because for low `R`, the law of large numbers has not kicked in, so our approximation, $\\mathbb{E}[f(...,c)] \\cong R^{-1} \\sum_{r=1}^R f(...,c^r)$, is not very good.\n",
    "\n",
    "**Minimum R:** We need $R \\ge 100$ before we have a reasonably good approximation. \n",
    "\n",
    "**Other options:** Go to `sml.py` to see what options you have for the draws. "
   ]
  },
  {
   "cell_type": "markdown",
   "id": "99a210d9-caeb-46e7-86f6-b076c0fda253",
   "metadata": {},
   "source": [
    "## Estimate with Quadrature\n",
    "\n",
    "Now, we compute the integral by *quadrature* instead. "
   ]
  },
  {
   "cell_type": "code",
   "execution_count": 7,
   "id": "2d219009-8063-433f-ac05-f95c17945881",
   "metadata": {},
   "outputs": [
    {
     "name": "stdout",
     "output_type": "stream",
     "text": [
      "Optimization terminated successfully.\n",
      "         Current function value: 18.619909\n",
      "         Iterations: 6\n",
      "         Function evaluations: 45\n",
      "         Gradient evaluations: 9\n"
     ]
    }
   ],
   "source": [
    "R = 20 # no. quadrature points \n",
    "theta0 = thetao*1.0\n",
    "q = lambda theta,y,x : -sml.loglikelihood_quad(theta, y, x, R) \n",
    "res = estimation.estimate(q, theta0, y, x)"
   ]
  },
  {
   "cell_type": "code",
   "execution_count": 8,
   "id": "3a82ae3b-f573-4b98-8ee0-6544ad697310",
   "metadata": {},
   "outputs": [
    {
     "data": {
      "text/html": [
       "<div>\n",
       "<style scoped>\n",
       "    .dataframe tbody tr th:only-of-type {\n",
       "        vertical-align: middle;\n",
       "    }\n",
       "\n",
       "    .dataframe tbody tr th {\n",
       "        vertical-align: top;\n",
       "    }\n",
       "\n",
       "    .dataframe thead th {\n",
       "        text-align: right;\n",
       "    }\n",
       "</style>\n",
       "<table border=\"1\" class=\"dataframe\">\n",
       "  <thead>\n",
       "    <tr style=\"text-align: right;\">\n",
       "      <th></th>\n",
       "      <th>start</th>\n",
       "      <th>truth</th>\n",
       "      <th>thetahat</th>\n",
       "      <th>t</th>\n",
       "    </tr>\n",
       "  </thead>\n",
       "  <tbody>\n",
       "    <tr>\n",
       "      <th>beta1</th>\n",
       "      <td>1.0</td>\n",
       "      <td>1.0</td>\n",
       "      <td>1.0507</td>\n",
       "      <td>9.7926</td>\n",
       "    </tr>\n",
       "    <tr>\n",
       "      <th>beta2</th>\n",
       "      <td>1.0</td>\n",
       "      <td>1.0</td>\n",
       "      <td>0.9756</td>\n",
       "      <td>27.4380</td>\n",
       "    </tr>\n",
       "    <tr>\n",
       "      <th>sigma_c</th>\n",
       "      <td>1.0</td>\n",
       "      <td>1.0</td>\n",
       "      <td>1.0213</td>\n",
       "      <td>41.1359</td>\n",
       "    </tr>\n",
       "    <tr>\n",
       "      <th>sigma_u</th>\n",
       "      <td>1.0</td>\n",
       "      <td>1.0</td>\n",
       "      <td>1.0529</td>\n",
       "      <td>11.6141</td>\n",
       "    </tr>\n",
       "  </tbody>\n",
       "</table>\n",
       "</div>"
      ],
      "text/plain": [
       "         start  truth  thetahat        t\n",
       "beta1      1.0    1.0    1.0507   9.7926\n",
       "beta2      1.0    1.0    0.9756  27.4380\n",
       "sigma_c    1.0    1.0    1.0213  41.1359\n",
       "sigma_u    1.0    1.0    1.0529  11.6141"
      ]
     },
     "execution_count": 8,
     "metadata": {},
     "output_type": "execute_result"
    }
   ],
   "source": [
    "pd.DataFrame({'start': theta0, \n",
    "              'truth': thetao,\n",
    "              'thetahat': res['theta'],\n",
    "              't': res['t']}, \n",
    "            index=theta_lab).round(4)"
   ]
  },
  {
   "cell_type": "code",
   "execution_count": null,
   "id": "b4155cfa",
   "metadata": {},
   "outputs": [],
   "source": []
  }
 ],
 "metadata": {
  "kernelspec": {
   "display_name": "base",
   "language": "python",
   "name": "python3"
  },
  "language_info": {
   "codemirror_mode": {
    "name": "ipython",
    "version": 3
   },
   "file_extension": ".py",
   "mimetype": "text/x-python",
   "name": "python",
   "nbconvert_exporter": "python",
   "pygments_lexer": "ipython3",
   "version": "3.9.15"
  },
  "vscode": {
   "interpreter": {
    "hash": "054e95b4819972eba8d406807e822e3be9cca805528e86310f8e3ac8dc287778"
   }
  }
 },
 "nbformat": 4,
 "nbformat_minor": 5
}
