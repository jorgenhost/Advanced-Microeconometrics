{
 "cells": [
  {
   "cell_type": "markdown",
   "metadata": {},
   "source": [
    "# FE illustrations"
   ]
  },
  {
   "cell_type": "code",
   "execution_count": 1,
   "metadata": {},
   "outputs": [],
   "source": [
    "import numpy as np \n",
    "import pandas as pd\n",
    "import scipy.linalg as la\n",
    "\n",
    "# plotting tools \n",
    "import matplotlib.pyplot as plt \n",
    "import seaborn as sns \n",
    "sns.set_theme();\n",
    "plt.rcParams.update({\n",
    "    \"text.usetex\": True,\n",
    "    \"font.family\": \"serif\",\n",
    "    \"font.size\": 16,\n",
    "    \"font.sans-serif\": [\"Times\"]})"
   ]
  },
  {
   "cell_type": "code",
   "execution_count": 2,
   "metadata": {},
   "outputs": [],
   "source": [
    "N=6\n",
    "T=10\n",
    "sigma_c=10.\n",
    "sigma_u=0.1"
   ]
  },
  {
   "cell_type": "code",
   "execution_count": 3,
   "metadata": {},
   "outputs": [],
   "source": [
    "ii = [i for i in range(N) for t in range(T)]\n",
    "iii = np.reshape(np.array(ii),(N,T))"
   ]
  },
  {
   "cell_type": "code",
   "execution_count": 4,
   "metadata": {},
   "outputs": [],
   "source": [
    "def simulate_data(N=N, T=T, sigma_c=sigma_c, sigma_u=sigma_u, K=2, coef_cx=0.0, DOSORT=True): \n",
    "    \n",
    "    beta = np.ones((K,1))\n",
    "    X = np.hstack([np.ones((N*T,1)), np.random.normal(0,1,(N*T,K-1))])\n",
    "    u = np.random.normal(0,sigma_u,(N*T,1))\n",
    "    c = np.random.normal(0,sigma_c,(N,))\n",
    "    c = c[ii] # from (N,1) to (N*T,1)\n",
    "    \n",
    "    # we can sort c to make the plot colors nicer \n",
    "    # normally, this is dangerous unless we also sort X in the same way, \n",
    "    # but we haven't given any structure to X or u such that this will \n",
    "    # matter, so we can get away with it in the name of aesthetics. \n",
    "    if DOSORT: \n",
    "        c = np.sort(c)\n",
    "        \n",
    "    # important: c.ndim==1 at this step, so we must make it into a column \n",
    "    # vector. \n",
    "    c = c[:,np.newaxis]\n",
    "    \n",
    "    # induce correlation between c and x \n",
    "    # (only to the first regressor after the constant term)\n",
    "    X[:,1] += coef_cx*c[:,0]    \n",
    "    \n",
    "    # now we can create y \n",
    "    y = X@beta + c + u\n",
    "\n",
    "    return y,X,c,u"
   ]
  },
  {
   "cell_type": "code",
   "execution_count": 62,
   "metadata": {},
   "outputs": [],
   "source": [
    "def ols(y,X): \n",
    "    '''ols: estimate the linear regression model \n",
    "    '''\n",
    "    betahat = np.linalg.inv(X.T@X) @ X.T@y\n",
    "    return betahat[:,0]"
   ]
  },
  {
   "cell_type": "markdown",
   "metadata": {},
   "source": [
    "Nice to have for plotting "
   ]
  },
  {
   "cell_type": "code",
   "execution_count": 7,
   "metadata": {},
   "outputs": [],
   "source": [
    "def add_reg_line(y,X,ax,k=1): \n",
    "    # add reg line along \n",
    "    # k: (int) \n",
    "    \n",
    "    # estimate OLS and predict \n",
    "    b=ols(y,X)\n",
    "    yhat = X@b\n",
    "    \n",
    "    # sort dots to avoid criss-crossing lines \n",
    "    isort = np.argsort(X[:,1])\n",
    "    ax.plot(X[isort,1], yhat[isort], label='OLS fit')"
   ]
  },
  {
   "cell_type": "markdown",
   "metadata": {},
   "source": [
    "# No individual effects: $\\sigma_c = 0$"
   ]
  },
  {
   "cell_type": "code",
   "execution_count": null,
   "metadata": {},
   "outputs": [],
   "source": [
    "np.random.seed(1)\n",
    "y,X,c,u = simulate_data(sigma_c=0,coef_cx=0.)\n",
    "ax=sns.scatterplot(y=y.flatten(),x=X[:,1],hue=ii); \n",
    "add_reg_line(y,X,ax)\n",
    "ax.legend(['OLS fit'] + [f'$i={i+1}$' for i in range(N)]);\n",
    "ax.set_xlabel('$x_{it}$'); \n",
    "ax.set_ylabel('$y_{it}$'); \n",
    "\n",
    "plt.savefig('ols.pdf')"
   ]
  },
  {
   "cell_type": "markdown",
   "metadata": {},
   "source": [
    "## Rescale y axis"
   ]
  },
  {
   "cell_type": "code",
   "execution_count": null,
   "metadata": {},
   "outputs": [],
   "source": [
    "np.random.seed(1)\n",
    "y,X,c,u = simulate_data(sigma_c=0,coef_cx=0.)\n",
    "ax=sns.scatterplot(y=y.flatten(),x=X[:,1],hue=ii); \n",
    "ax.get_legend().set_visible(False);\n",
    "ax.set_ylim([-22,22]);\n",
    "plt.savefig('ols_tall.pdf')"
   ]
  },
  {
   "cell_type": "markdown",
   "metadata": {},
   "source": [
    "# Pure RE: $E(x'c) = 0$"
   ]
  },
  {
   "cell_type": "code",
   "execution_count": null,
   "metadata": {},
   "outputs": [],
   "source": [
    "np.random.seed(1)\n",
    "y,X,c,u = simulate_data(coef_cx=0.)\n",
    "ax=sns.scatterplot(y=y.flatten(),x=X[:,1],hue=ii); \n",
    "ax.legend([f'$i={i+1}$' for i in range(N)]);\n",
    "ax.set_ylim([-22,22]);\n",
    "\n",
    "plt.savefig('re_raw.pdf')"
   ]
  },
  {
   "cell_type": "markdown",
   "metadata": {},
   "source": [
    "## Add OLS line"
   ]
  },
  {
   "cell_type": "code",
   "execution_count": null,
   "metadata": {},
   "outputs": [],
   "source": [
    "np.random.seed(1)\n",
    "y,X,c,u = simulate_data(coef_cx=0.)\n",
    "ax=sns.scatterplot(y=y.flatten(),x=X[:,1],hue=ii); \n",
    "add_reg_line(y,X,ax)\n",
    "ax.legend(['OLS fit'] + [f'$i={i+1}$' for i in range(N)]);\n",
    "ax.set_ylim([-22,22]);\n",
    "\n",
    "plt.savefig('re_fit.pdf')"
   ]
  },
  {
   "cell_type": "markdown",
   "metadata": {},
   "source": [
    "## Rescale x\n"
   ]
  },
  {
   "cell_type": "code",
   "execution_count": null,
   "metadata": {},
   "outputs": [],
   "source": [
    "np.random.seed(1)\n",
    "y,X,c,u = simulate_data(coef_cx=0.)\n",
    "ax=sns.scatterplot(y=y.flatten(),x=X[:,1],hue=ii); \n",
    "\n",
    "ax.get_legend().set_visible(False);\n",
    "ax.set_ylim([-22,22]);\n",
    "ax.set_xlim([-5.8,5.8])\n",
    "plt.savefig('re_wide.pdf')"
   ]
  },
  {
   "cell_type": "markdown",
   "metadata": {},
   "source": [
    "# FE: $E(x'c) \\ne 0$"
   ]
  },
  {
   "cell_type": "code",
   "execution_count": null,
   "metadata": {},
   "outputs": [],
   "source": [
    "np.random.seed(1)\n",
    "y,X,c,u = simulate_data(coef_cx=-.2)\n",
    "\n",
    "ax=sns.scatterplot(y=y.flatten(),x=X[:,1],hue=ii);\n",
    "ax.get_legend().set_visible(False);\n",
    "ax.set_xlabel('$x_{it1}$'); \n",
    "ax.set_ylabel('$y_{it}$')\n",
    "ax.set_ylim([-22,22]);\n",
    "ax.set_xlim([-5.8,5.8])\n",
    "\n",
    "plt.savefig('fe_raw.pdf')"
   ]
  },
  {
   "cell_type": "markdown",
   "metadata": {},
   "source": [
    "## Add OLS line"
   ]
  },
  {
   "cell_type": "code",
   "execution_count": null,
   "metadata": {},
   "outputs": [],
   "source": [
    "np.random.seed(1)\n",
    "y,X,c,u = simulate_data(coef_cx=-.2)\n",
    "\n",
    "ax=sns.scatterplot(y=y.flatten(),x=X[:,1],hue=ii);\n",
    "ax.set_xlabel('$x_{it1}$'); \n",
    "ax.set_ylabel('$y_{it}$')\n",
    "ax.set_ylim([-22,22]);\n",
    "ax.set_xlim([-5.8,5.8])\n",
    "add_reg_line(y,X,ax)\n",
    "ax.legend(['OLS fit'] + [f'$i={i+1}$' for i in range(N)]);\n",
    "\n",
    "plt.savefig('fe_fit.pdf')"
   ]
  },
  {
   "cell_type": "markdown",
   "metadata": {},
   "source": [
    "## Demean $y$ and $x$\n",
    "\n",
    "Due to the sorting where the individuals come in blocks, we can just reshape to $(N,T)$ and take the average over the second dimension, `axis=1`. "
   ]
  },
  {
   "cell_type": "code",
   "execution_count": null,
   "metadata": {},
   "outputs": [],
   "source": [
    "y_time_avg = y.reshape((N,T)).mean(1)\n",
    "y[:,0] -= y_time_avg[ii]\n",
    "\n",
    "ax=sns.scatterplot(y=y.flatten(),x=X[:,1],hue=ii);\n",
    "ax.get_legend().set_visible(False);\n",
    "ax.set_xlabel('$x_{it1}$'); \n",
    "ax.set_ylabel('$y_{it}$')\n",
    "ax.set_ylim([-22,22]);\n",
    "ax.set_xlim([-5.8,5.8])\n",
    "\n",
    "plt.savefig('fe_y_demeaned.pdf')"
   ]
  },
  {
   "cell_type": "markdown",
   "metadata": {},
   "source": [
    "## Zoom"
   ]
  },
  {
   "cell_type": "code",
   "execution_count": null,
   "metadata": {},
   "outputs": [],
   "source": [
    "ax=sns.scatterplot(y=y.flatten(),x=X[:,1],hue=ii);\n",
    "ax.get_legend().set_visible(False);\n",
    "ax.set_xlabel('$x_{it1}$'); \n",
    "ax.set_ylabel('$y_{it} - \\overline{y}_i$')\n",
    "ax.set_xlim([-5.8,5.8])\n",
    "ax.set_ylim([2.1,2.1])\n",
    "\n",
    "plt.savefig('fe_y_demeaned_narrow.pdf')"
   ]
  },
  {
   "cell_type": "markdown",
   "metadata": {},
   "source": [
    "## Demean both, add OLS "
   ]
  },
  {
   "cell_type": "code",
   "execution_count": null,
   "metadata": {},
   "outputs": [],
   "source": [
    "# demeaning \n",
    "\n",
    "X_time_avg = X[:,1].reshape((N,T)).mean(1)\n",
    "X[:, 1] -= X_time_avg[ii]"
   ]
  },
  {
   "cell_type": "code",
   "execution_count": null,
   "metadata": {},
   "outputs": [],
   "source": [
    "ax=sns.scatterplot(y=y.flatten(),x=X[:,1],hue=ii);\n",
    "ax.set_xlabel('$x_{it1} - \\overline{x}_{i1}$'); \n",
    "ax.set_ylabel('$y_{it} - \\overline{y}_{i}$');\n",
    "ax.get_legend().set_visible(False);\n",
    "ax.set_xlim([-5.8,5.8])\n",
    "ax.set_ylim([-2.1,2.1])\n",
    "\n",
    "plt.savefig('fe_both_demeaned_wide.pdf');"
   ]
  },
  {
   "cell_type": "code",
   "execution_count": null,
   "metadata": {},
   "outputs": [],
   "source": [
    "ax=sns.scatterplot(y=y.flatten(),x=X[:,1],hue=ii);\n",
    "ax.set_xlabel('$x_{it1} - \\overline{x}_{i1}$'); \n",
    "ax.set_ylabel('$y_{it} - \\overline{y}_{i}$');\n",
    "\n",
    "add_reg_line(y,X,ax)\n",
    "ax.legend(['OLS fit'] + [f'$i={i+1}$' for i in range(N)]);\n",
    "\n",
    "plt.savefig('fe_both_demeaned.pdf');"
   ]
  }
 ],
 "metadata": {
  "kernelspec": {
   "display_name": "Python 3",
   "language": "python",
   "name": "python3"
  },
  "language_info": {
   "codemirror_mode": {
    "name": "ipython",
    "version": 3
   },
   "file_extension": ".py",
   "mimetype": "text/x-python",
   "name": "python",
   "nbconvert_exporter": "python",
   "pygments_lexer": "ipython3",
   "version": "3.8.2"
  }
 },
 "nbformat": 4,
 "nbformat_minor": 4
}
